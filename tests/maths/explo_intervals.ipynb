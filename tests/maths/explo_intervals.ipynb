{
 "cells": [
  {
   "cell_type": "code",
   "execution_count": 158,
   "metadata": {},
   "outputs": [
    {
     "name": "stdout",
     "output_type": "stream",
     "text": [
      "The autoreload extension is already loaded. To reload it, use:\n",
      "  %reload_ext autoreload\n"
     ]
    }
   ],
   "source": [
    "%load_ext autoreload\n",
    "%autoreload 2"
   ]
  },
  {
   "cell_type": "code",
   "execution_count": 159,
   "metadata": {},
   "outputs": [],
   "source": [
    "from rlway.maths.intervals import intersections"
   ]
  },
  {
   "cell_type": "code",
   "execution_count": 160,
   "metadata": {},
   "outputs": [],
   "source": [
    "fixed_intervals = [\n",
    "    (1, 2),\n",
    "    (3, 4),\n",
    "]\n",
    "test_intervals = {\n",
    "    (0, .5): [],\n",
    "    (0, 1.5): [(1, 1.5)],\n",
    "    (1.2, 1.8): [(1.2, 1.8)],\n",
    "    (1.5, 2.5): [(1.5, 2)],\n",
    "    (2.2, 2.8): [],\n",
    "    (1.5, 3.5): [(1.5, 2), (3, 3.5)],\n",
    "    (2.5, 3.5): [(3., 3.5)],\n",
    "    (3.5, 3.8): [(3.5, 3.8)],\n",
    "    (3.5, 4.5): [(3.5, 4)],\n",
    "    (4.5, 5): [],\n",
    "}"
   ]
  },
  {
   "cell_type": "code",
   "execution_count": 161,
   "metadata": {},
   "outputs": [],
   "source": [
    "for interval, expected in test_intervals.items():\n",
    "\n",
    "    try:\n",
    "        assert intersections(fixed_intervals+[interval]) == expected\n",
    "    except:\n",
    "        print(interval)"
   ]
  },
  {
   "cell_type": "code",
   "execution_count": 162,
   "metadata": {},
   "outputs": [
    {
     "data": {
      "text/plain": [
       "[(1.1, 1.9)]"
      ]
     },
     "execution_count": 162,
     "metadata": {},
     "output_type": "execute_result"
    }
   ],
   "source": [
    "intersections([(1, 2), (3, 4), (1.1, 1.9)])"
   ]
  },
  {
   "cell_type": "code",
   "execution_count": null,
   "metadata": {},
   "outputs": [],
   "source": []
  }
 ],
 "metadata": {
  "kernelspec": {
   "display_name": "venv",
   "language": "python",
   "name": "python3"
  },
  "language_info": {
   "codemirror_mode": {
    "name": "ipython",
    "version": 3
   },
   "file_extension": ".py",
   "mimetype": "text/x-python",
   "name": "python",
   "nbconvert_exporter": "python",
   "pygments_lexer": "ipython3",
   "version": "3.9.16"
  },
  "orig_nbformat": 4
 },
 "nbformat": 4,
 "nbformat_minor": 2
}
