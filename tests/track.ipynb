{
 "cells": [
  {
   "cell_type": "code",
   "execution_count": 1,
   "metadata": {},
   "outputs": [],
   "source": [
    "from railjson_generator import (\n",
    "    InfraBuilder,\n",
    "    SimulationBuilder,\n",
    "    Location,\n",
    ")\n",
    "from railjson_generator.schema.infra.direction import Direction\n",
    "\n",
    "from  railjson_generator.schema.infra.infra import Infra\n"
   ]
  },
  {
   "cell_type": "code",
   "execution_count": 2,
   "metadata": {},
   "outputs": [],
   "source": [
    "builder = InfraBuilder()\n"
   ]
  },
  {
   "cell_type": "code",
   "execution_count": 3,
   "metadata": {},
   "outputs": [],
   "source": [
    "T = [\n",
    "    builder.add_track_section(label='T'+str(id), length=500)\n",
    "    for id in range(6)\n",
    "]"
   ]
  },
  {
   "cell_type": "code",
   "execution_count": 4,
   "metadata": {},
   "outputs": [
    {
     "data": {
      "text/plain": [
       "PointSwitch(label='DVG', delay=0, base=TrackEndpoint(track_section=TrackSection(length=500, label='T3', track_name='placeholder_track', track_number=0, line_code=0, line_name='placeholder_line', waypoints=[], signals=[], operational_points=[], coordinates=[(None, None), (None, None)], slopes=[], curves=[]), endpoint=<Endpoint.END: 1>), left=TrackEndpoint(track_section=TrackSection(length=500, label='T4', track_name='placeholder_track', track_number=0, line_code=0, line_name='placeholder_line', waypoints=[], signals=[], operational_points=[], coordinates=[(None, None), (None, None)], slopes=[], curves=[]), endpoint=<Endpoint.BEGIN: 0>), right=TrackEndpoint(track_section=TrackSection(length=500, label='T5', track_name='placeholder_track', track_number=0, line_code=0, line_name='placeholder_line', waypoints=[], signals=[], operational_points=[], coordinates=[(None, None), (None, None)], slopes=[], curves=[]), endpoint=<Endpoint.BEGIN: 0>))"
      ]
     },
     "execution_count": 4,
     "metadata": {},
     "output_type": "execute_result"
    }
   ],
   "source": [
    "builder.add_link(T[2].end(), T[3].begin())\n",
    "builder.add_point_switch(\n",
    "    T[2].begin(),\n",
    "    T[0].end(),\n",
    "    T[1].end(),\n",
    "    label='CVG',\n",
    ")\n",
    "builder.add_point_switch(\n",
    "    T[3].end(),\n",
    "    T[4].begin(),\n",
    "    T[5].begin(),\n",
    "    label='DVG',\n",
    ")"
   ]
  },
  {
   "cell_type": "code",
   "execution_count": 5,
   "metadata": {},
   "outputs": [],
   "source": [
    "D = [\n",
    "    T[i].add_detector(label='D'+str(i), position=450)\n",
    "    if i in [0, 1, 3]\n",
    "    else T[i].add_detector(label='D'+str(i), position=50)\n",
    "    for i in range(6)\n",
    "]"
   ]
  },
  {
   "cell_type": "code",
   "execution_count": 6,
   "metadata": {},
   "outputs": [
    {
     "data": {
      "text/plain": [
       "[Detector(position=450, applicable_direction=<ApplicableDirection.BOTH: 2>, label='D0'),\n",
       " Detector(position=450, applicable_direction=<ApplicableDirection.BOTH: 2>, label='D1'),\n",
       " Detector(position=50, applicable_direction=<ApplicableDirection.BOTH: 2>, label='D2'),\n",
       " Detector(position=450, applicable_direction=<ApplicableDirection.BOTH: 2>, label='D3'),\n",
       " Detector(position=50, applicable_direction=<ApplicableDirection.BOTH: 2>, label='D4'),\n",
       " Detector(position=50, applicable_direction=<ApplicableDirection.BOTH: 2>, label='D5')]"
      ]
     },
     "execution_count": 6,
     "metadata": {},
     "output_type": "execute_result"
    }
   ],
   "source": [
    "D"
   ]
  },
  {
   "cell_type": "code",
   "execution_count": 7,
   "metadata": {},
   "outputs": [],
   "source": [
    "S = [\n",
    "    T[i].add_signal(D[i].position-20, Direction.START_TO_STOP, D[i])\n",
    "    for i, _ in enumerate(D)\n",
    "]\n",
    "LS = [\n",
    "    signal.add_logical_signal(\"BAL\", settings={\"Nf\": \"true\"})\n",
    "    for signal in S\n",
    "]"
   ]
  },
  {
   "cell_type": "code",
   "execution_count": 8,
   "metadata": {},
   "outputs": [
    {
     "data": {
      "text/plain": [
       "[LogicalSignal(signaling_system='BAL', next_signaling_systems=[], settings={'Nf': 'true'}),\n",
       " LogicalSignal(signaling_system='BAL', next_signaling_systems=[], settings={'Nf': 'true'}),\n",
       " LogicalSignal(signaling_system='BAL', next_signaling_systems=[], settings={'Nf': 'true'}),\n",
       " LogicalSignal(signaling_system='BAL', next_signaling_systems=[], settings={'Nf': 'true'}),\n",
       " LogicalSignal(signaling_system='BAL', next_signaling_systems=[], settings={'Nf': 'true'}),\n",
       " LogicalSignal(signaling_system='BAL', next_signaling_systems=[], settings={'Nf': 'true'})]"
      ]
     },
     "execution_count": 8,
     "metadata": {},
     "output_type": "execute_result"
    }
   ],
   "source": [
    "LS"
   ]
  },
  {
   "cell_type": "code",
   "execution_count": 9,
   "metadata": {},
   "outputs": [],
   "source": [
    "infra = builder.build().to_rjs().dict()"
   ]
  },
  {
   "cell_type": "code",
   "execution_count": 10,
   "metadata": {},
   "outputs": [],
   "source": [
    "import rlway.osrd.infra as infr"
   ]
  },
  {
   "cell_type": "code",
   "execution_count": 11,
   "metadata": {},
   "outputs": [
    {
     "data": {
      "text/plain": [
       "['rt.D0->D2',\n",
       " 'rt.buffer_stop.0->D0',\n",
       " 'rt.D1->D2',\n",
       " 'rt.buffer_stop.1->D1',\n",
       " 'rt.D2->D3',\n",
       " 'rt.D3->D5',\n",
       " 'rt.D3->D4',\n",
       " 'rt.D4->buffer_stop.2',\n",
       " 'rt.D5->buffer_stop.3']"
      ]
     },
     "execution_count": 11,
     "metadata": {},
     "output_type": "execute_result"
    }
   ],
   "source": [
    "infr.routes(infra)"
   ]
  },
  {
   "cell_type": "code",
   "execution_count": 12,
   "metadata": {},
   "outputs": [
    {
     "data": {
      "text/html": [
       "<img src=\"https://mermaid.ink/img/Z3JhcGggTFI7RDAtLT5EMjtidWZmZXJfc3RvcC4wLS0+RDA7RDEtLT5EMjtidWZmZXJfc3RvcC4xLS0+RDE7RDItLT5EMztEMy0tPkQ1O0QzLS0+RDQ7RDQtLT5idWZmZXJfc3RvcC4yO0Q1LS0+YnVmZmVyX3N0b3AuMw==\"/>"
      ],
      "text/plain": [
       "<IPython.core.display.Image object>"
      ]
     },
     "metadata": {},
     "output_type": "display_data"
    }
   ],
   "source": [
    "infr.draw_infra(infra)"
   ]
  },
  {
   "cell_type": "code",
   "execution_count": null,
   "metadata": {},
   "outputs": [],
   "source": []
  }
 ],
 "metadata": {
  "kernelspec": {
   "display_name": "venv",
   "language": "python",
   "name": "python3"
  },
  "language_info": {
   "codemirror_mode": {
    "name": "ipython",
    "version": 3
   },
   "file_extension": ".py",
   "mimetype": "text/x-python",
   "name": "python",
   "nbconvert_exporter": "python",
   "pygments_lexer": "ipython3",
   "version": "3.9.16"
  },
  "orig_nbformat": 4
 },
 "nbformat": 4,
 "nbformat_minor": 2
}
