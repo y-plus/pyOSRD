{
 "cells": [
  {
   "cell_type": "code",
   "execution_count": 1,
   "metadata": {},
   "outputs": [],
   "source": [
    "from railjson_generator import (\n",
    "    InfraBuilder,\n",
    "    SimulationBuilder,\n",
    "    Location,\n",
    ")\n",
    "from railjson_generator.schema.infra.direction import Direction\n",
    "\n",
    "from  railjson_generator.schema.infra.infra import Infra\n"
   ]
  },
  {
   "cell_type": "code",
   "execution_count": 2,
   "metadata": {},
   "outputs": [],
   "source": [
    "builder = InfraBuilder()\n"
   ]
  },
  {
   "cell_type": "code",
   "execution_count": 3,
   "metadata": {},
   "outputs": [],
   "source": [
    "T = [\n",
    "    builder.add_track_section(label='T'+str(id), length=500)\n",
    "    for id in range(6)\n",
    "]"
   ]
  },
  {
   "cell_type": "code",
   "execution_count": 4,
   "metadata": {},
   "outputs": [
    {
     "data": {
      "text/plain": [
       "PointSwitch(label='DVG', delay=0, base=TrackEndpoint(track_section=TrackSection(length=500, label='T3', track_name='placeholder_track', track_number=0, line_code=0, line_name='placeholder_line', waypoints=[], signals=[], operational_points=[], coordinates=[(None, None), (None, None)], slopes=[], curves=[]), endpoint=<Endpoint.END: 1>), left=TrackEndpoint(track_section=TrackSection(length=500, label='T4', track_name='placeholder_track', track_number=0, line_code=0, line_name='placeholder_line', waypoints=[], signals=[], operational_points=[], coordinates=[(None, None), (None, None)], slopes=[], curves=[]), endpoint=<Endpoint.BEGIN: 0>), right=TrackEndpoint(track_section=TrackSection(length=500, label='T5', track_name='placeholder_track', track_number=0, line_code=0, line_name='placeholder_line', waypoints=[], signals=[], operational_points=[], coordinates=[(None, None), (None, None)], slopes=[], curves=[]), endpoint=<Endpoint.BEGIN: 0>))"
      ]
     },
     "execution_count": 4,
     "metadata": {},
     "output_type": "execute_result"
    }
   ],
   "source": [
    "builder.add_link(T[2].end(), T[3].begin())\n",
    "builder.add_point_switch(\n",
    "    T[2].begin(),\n",
    "    T[0].end(),\n",
    "    T[1].end(),\n",
    "    label='CVG',\n",
    ")\n",
    "builder.add_point_switch(\n",
    "    T[3].end(),\n",
    "    T[4].begin(),\n",
    "    T[5].begin(),\n",
    "    label='DVG',\n",
    ")"
   ]
  },
  {
   "cell_type": "code",
   "execution_count": 5,
   "metadata": {},
   "outputs": [],
   "source": [
    "D = [\n",
    "    T[i].add_detector(label='D'+str(i), position=450)\n",
    "    if i in [0, 1, 3]\n",
    "    else T[i].add_detector(label='D'+str(i), position=50)\n",
    "    for i in range(6)\n",
    "]"
   ]
  },
  {
   "cell_type": "code",
   "execution_count": 6,
   "metadata": {},
   "outputs": [
    {
     "data": {
      "text/plain": [
       "[Detector(position=450, applicable_direction=<ApplicableDirection.BOTH: 2>, label='D0'),\n",
       " Detector(position=450, applicable_direction=<ApplicableDirection.BOTH: 2>, label='D1'),\n",
       " Detector(position=50, applicable_direction=<ApplicableDirection.BOTH: 2>, label='D2'),\n",
       " Detector(position=450, applicable_direction=<ApplicableDirection.BOTH: 2>, label='D3'),\n",
       " Detector(position=50, applicable_direction=<ApplicableDirection.BOTH: 2>, label='D4'),\n",
       " Detector(position=50, applicable_direction=<ApplicableDirection.BOTH: 2>, label='D5')]"
      ]
     },
     "execution_count": 6,
     "metadata": {},
     "output_type": "execute_result"
    }
   ],
   "source": [
    "D"
   ]
  },
  {
   "cell_type": "code",
   "execution_count": 7,
   "metadata": {},
   "outputs": [],
   "source": [
    "S = [\n",
    "    T[i].add_signal(D[i].position-20, Direction.START_TO_STOP, D[i])\n",
    "    for i, _ in enumerate(D)\n",
    "]\n",
    "LS = [\n",
    "    signal.add_logical_signal(\"BAL\", settings={\"Nf\": \"true\"})\n",
    "    for signal in S\n",
    "]"
   ]
  },
  {
   "cell_type": "code",
   "execution_count": 8,
   "metadata": {},
   "outputs": [
    {
     "data": {
      "text/plain": [
       "[LogicalSignal(signaling_system='BAL', next_signaling_systems=[], settings={'Nf': 'true'}),\n",
       " LogicalSignal(signaling_system='BAL', next_signaling_systems=[], settings={'Nf': 'true'}),\n",
       " LogicalSignal(signaling_system='BAL', next_signaling_systems=[], settings={'Nf': 'true'}),\n",
       " LogicalSignal(signaling_system='BAL', next_signaling_systems=[], settings={'Nf': 'true'}),\n",
       " LogicalSignal(signaling_system='BAL', next_signaling_systems=[], settings={'Nf': 'true'}),\n",
       " LogicalSignal(signaling_system='BAL', next_signaling_systems=[], settings={'Nf': 'true'})]"
      ]
     },
     "execution_count": 8,
     "metadata": {},
     "output_type": "execute_result"
    }
   ],
   "source": [
    "LS"
   ]
  },
  {
   "cell_type": "code",
   "execution_count": 9,
   "metadata": {},
   "outputs": [],
   "source": [
    "stations = [\n",
    "    builder.add_operational_point(label='station'+str(i))\n",
    "    for i in range(2)\n",
    "]\n",
    "for track in range(2):\n",
    "    stations[0].add_part(T[track], 300)\n",
    "for track in range(4,6):\n",
    "    stations[1].add_part(T[track], 300)"
   ]
  },
  {
   "cell_type": "code",
   "execution_count": null,
   "metadata": {},
   "outputs": [],
   "source": []
  },
  {
   "cell_type": "code",
   "execution_count": 10,
   "metadata": {},
   "outputs": [],
   "source": [
    "built_infra = builder.build()\n",
    "infra = built_infra.to_rjs().dict()"
   ]
  },
  {
   "cell_type": "code",
   "execution_count": 11,
   "metadata": {},
   "outputs": [
    {
     "data": {
      "text/plain": [
       "{'station0': 2, 'station1': 2}"
      ]
     },
     "execution_count": 11,
     "metadata": {},
     "output_type": "execute_result"
    }
   ],
   "source": [
    "{\n",
    "        station['id']: len(station['parts'])\n",
    "        for station in infra['operational_points']\n",
    "    }"
   ]
  },
  {
   "cell_type": "code",
   "execution_count": 15,
   "metadata": {},
   "outputs": [
    {
     "data": {
      "text/plain": [
       "Infra(track_sections=[TrackSection(length=500, label='T0', track_name='placeholder_track', track_number=0, line_code=0, line_name='placeholder_line', waypoints=[BufferStop(position=0, label='buffer_stop.0'), Detector(position=450, applicable_direction=<ApplicableDirection.BOTH: 2>, label='D0')], signals=[Signal(position=430, direction=<Direction.START_TO_STOP: 0>, linked_detector=Detector(position=450, applicable_direction=<ApplicableDirection.BOTH: 2>, label='D0'), sight_distance=400, logical_signals=[LogicalSignal(signaling_system='BAL', next_signaling_systems=[], settings={'Nf': 'true'})], label='signal.0', installation_type='CARRE', side=<Side.LEFT: 'LEFT'>, angle=90)], operational_points=[OperationalPointPart(operational_point=OperationalPoint(label='station0', trigram='STA', parts=[..., OperationalPointPart(operational_point=..., position=300)]), position=300)], coordinates=[(0, 0), (0, 0)], slopes=[], curves=[]), TrackSection(length=500, label='T1', track_name='placeholder_track', track_number=0, line_code=0, line_name='placeholder_line', waypoints=[BufferStop(position=0, label='buffer_stop.1'), Detector(position=450, applicable_direction=<ApplicableDirection.BOTH: 2>, label='D1')], signals=[Signal(position=430, direction=<Direction.START_TO_STOP: 0>, linked_detector=Detector(position=450, applicable_direction=<ApplicableDirection.BOTH: 2>, label='D1'), sight_distance=400, logical_signals=[LogicalSignal(signaling_system='BAL', next_signaling_systems=[], settings={'Nf': 'true'})], label='signal.1', installation_type='CARRE', side=<Side.LEFT: 'LEFT'>, angle=90)], operational_points=[OperationalPointPart(operational_point=OperationalPoint(label='station0', trigram='STA', parts=[OperationalPointPart(operational_point=..., position=300), ...]), position=300)], coordinates=[(0, 0), (0, 0)], slopes=[], curves=[]), TrackSection(length=500, label='T2', track_name='placeholder_track', track_number=0, line_code=0, line_name='placeholder_line', waypoints=[Detector(position=50, applicable_direction=<ApplicableDirection.BOTH: 2>, label='D2')], signals=[Signal(position=30, direction=<Direction.START_TO_STOP: 0>, linked_detector=Detector(position=50, applicable_direction=<ApplicableDirection.BOTH: 2>, label='D2'), sight_distance=400, logical_signals=[LogicalSignal(signaling_system='BAL', next_signaling_systems=[], settings={'Nf': 'true'})], label='signal.2', installation_type='CARRE', side=<Side.LEFT: 'LEFT'>, angle=90)], operational_points=[], coordinates=[(0, 0), (0, 0)], slopes=[], curves=[]), TrackSection(length=500, label='T3', track_name='placeholder_track', track_number=0, line_code=0, line_name='placeholder_line', waypoints=[Detector(position=450, applicable_direction=<ApplicableDirection.BOTH: 2>, label='D3')], signals=[Signal(position=430, direction=<Direction.START_TO_STOP: 0>, linked_detector=Detector(position=450, applicable_direction=<ApplicableDirection.BOTH: 2>, label='D3'), sight_distance=400, logical_signals=[LogicalSignal(signaling_system='BAL', next_signaling_systems=[], settings={'Nf': 'true'})], label='signal.3', installation_type='CARRE', side=<Side.LEFT: 'LEFT'>, angle=90)], operational_points=[], coordinates=[(0, 0), (0, 0)], slopes=[], curves=[]), TrackSection(length=500, label='T4', track_name='placeholder_track', track_number=0, line_code=0, line_name='placeholder_line', waypoints=[Detector(position=50, applicable_direction=<ApplicableDirection.BOTH: 2>, label='D4'), BufferStop(position=500, label='buffer_stop.2')], signals=[Signal(position=30, direction=<Direction.START_TO_STOP: 0>, linked_detector=Detector(position=50, applicable_direction=<ApplicableDirection.BOTH: 2>, label='D4'), sight_distance=400, logical_signals=[LogicalSignal(signaling_system='BAL', next_signaling_systems=[], settings={'Nf': 'true'})], label='signal.4', installation_type='CARRE', side=<Side.LEFT: 'LEFT'>, angle=90)], operational_points=[OperationalPointPart(operational_point=OperationalPoint(label='station1', trigram='STA', parts=[..., OperationalPointPart(operational_point=..., position=300)]), position=300)], coordinates=[(0, 0), (0, 0)], slopes=[], curves=[]), TrackSection(length=500, label='T5', track_name='placeholder_track', track_number=0, line_code=0, line_name='placeholder_line', waypoints=[Detector(position=50, applicable_direction=<ApplicableDirection.BOTH: 2>, label='D5'), BufferStop(position=500, label='buffer_stop.3')], signals=[Signal(position=30, direction=<Direction.START_TO_STOP: 0>, linked_detector=Detector(position=50, applicable_direction=<ApplicableDirection.BOTH: 2>, label='D5'), sight_distance=400, logical_signals=[LogicalSignal(signaling_system='BAL', next_signaling_systems=[], settings={'Nf': 'true'})], label='signal.5', installation_type='CARRE', side=<Side.LEFT: 'LEFT'>, angle=90)], operational_points=[OperationalPointPart(operational_point=OperationalPoint(label='station1', trigram='STA', parts=[OperationalPointPart(operational_point=..., position=300), ...]), position=300)], coordinates=[(0, 0), (0, 0)], slopes=[], curves=[])], switches=[PointSwitch(label='CVG', delay=0, base=TrackEndpoint(track_section=TrackSection(length=500, label='T2', track_name='placeholder_track', track_number=0, line_code=0, line_name='placeholder_line', waypoints=[Detector(position=50, applicable_direction=<ApplicableDirection.BOTH: 2>, label='D2')], signals=[Signal(position=30, direction=<Direction.START_TO_STOP: 0>, linked_detector=Detector(position=50, applicable_direction=<ApplicableDirection.BOTH: 2>, label='D2'), sight_distance=400, logical_signals=[LogicalSignal(signaling_system='BAL', next_signaling_systems=[], settings={'Nf': 'true'})], label='signal.2', installation_type='CARRE', side=<Side.LEFT: 'LEFT'>, angle=90)], operational_points=[], coordinates=[(0, 0), (0, 0)], slopes=[], curves=[]), endpoint=<Endpoint.BEGIN: 0>), left=TrackEndpoint(track_section=TrackSection(length=500, label='T0', track_name='placeholder_track', track_number=0, line_code=0, line_name='placeholder_line', waypoints=[BufferStop(position=0, label='buffer_stop.0'), Detector(position=450, applicable_direction=<ApplicableDirection.BOTH: 2>, label='D0')], signals=[Signal(position=430, direction=<Direction.START_TO_STOP: 0>, linked_detector=Detector(position=450, applicable_direction=<ApplicableDirection.BOTH: 2>, label='D0'), sight_distance=400, logical_signals=[LogicalSignal(signaling_system='BAL', next_signaling_systems=[], settings={'Nf': 'true'})], label='signal.0', installation_type='CARRE', side=<Side.LEFT: 'LEFT'>, angle=90)], operational_points=[OperationalPointPart(operational_point=OperationalPoint(label='station0', trigram='STA', parts=[..., OperationalPointPart(operational_point=..., position=300)]), position=300)], coordinates=[(0, 0), (0, 0)], slopes=[], curves=[]), endpoint=<Endpoint.END: 1>), right=TrackEndpoint(track_section=TrackSection(length=500, label='T1', track_name='placeholder_track', track_number=0, line_code=0, line_name='placeholder_line', waypoints=[BufferStop(position=0, label='buffer_stop.1'), Detector(position=450, applicable_direction=<ApplicableDirection.BOTH: 2>, label='D1')], signals=[Signal(position=430, direction=<Direction.START_TO_STOP: 0>, linked_detector=Detector(position=450, applicable_direction=<ApplicableDirection.BOTH: 2>, label='D1'), sight_distance=400, logical_signals=[LogicalSignal(signaling_system='BAL', next_signaling_systems=[], settings={'Nf': 'true'})], label='signal.1', installation_type='CARRE', side=<Side.LEFT: 'LEFT'>, angle=90)], operational_points=[OperationalPointPart(operational_point=OperationalPoint(label='station0', trigram='STA', parts=[OperationalPointPart(operational_point=..., position=300), ...]), position=300)], coordinates=[(0, 0), (0, 0)], slopes=[], curves=[]), endpoint=<Endpoint.END: 1>)), PointSwitch(label='DVG', delay=0, base=TrackEndpoint(track_section=TrackSection(length=500, label='T3', track_name='placeholder_track', track_number=0, line_code=0, line_name='placeholder_line', waypoints=[Detector(position=450, applicable_direction=<ApplicableDirection.BOTH: 2>, label='D3')], signals=[Signal(position=430, direction=<Direction.START_TO_STOP: 0>, linked_detector=Detector(position=450, applicable_direction=<ApplicableDirection.BOTH: 2>, label='D3'), sight_distance=400, logical_signals=[LogicalSignal(signaling_system='BAL', next_signaling_systems=[], settings={'Nf': 'true'})], label='signal.3', installation_type='CARRE', side=<Side.LEFT: 'LEFT'>, angle=90)], operational_points=[], coordinates=[(0, 0), (0, 0)], slopes=[], curves=[]), endpoint=<Endpoint.END: 1>), left=TrackEndpoint(track_section=TrackSection(length=500, label='T4', track_name='placeholder_track', track_number=0, line_code=0, line_name='placeholder_line', waypoints=[Detector(position=50, applicable_direction=<ApplicableDirection.BOTH: 2>, label='D4'), BufferStop(position=500, label='buffer_stop.2')], signals=[Signal(position=30, direction=<Direction.START_TO_STOP: 0>, linked_detector=Detector(position=50, applicable_direction=<ApplicableDirection.BOTH: 2>, label='D4'), sight_distance=400, logical_signals=[LogicalSignal(signaling_system='BAL', next_signaling_systems=[], settings={'Nf': 'true'})], label='signal.4', installation_type='CARRE', side=<Side.LEFT: 'LEFT'>, angle=90)], operational_points=[OperationalPointPart(operational_point=OperationalPoint(label='station1', trigram='STA', parts=[..., OperationalPointPart(operational_point=..., position=300)]), position=300)], coordinates=[(0, 0), (0, 0)], slopes=[], curves=[]), endpoint=<Endpoint.BEGIN: 0>), right=TrackEndpoint(track_section=TrackSection(length=500, label='T5', track_name='placeholder_track', track_number=0, line_code=0, line_name='placeholder_line', waypoints=[Detector(position=50, applicable_direction=<ApplicableDirection.BOTH: 2>, label='D5'), BufferStop(position=500, label='buffer_stop.3')], signals=[Signal(position=30, direction=<Direction.START_TO_STOP: 0>, linked_detector=Detector(position=50, applicable_direction=<ApplicableDirection.BOTH: 2>, label='D5'), sight_distance=400, logical_signals=[LogicalSignal(signaling_system='BAL', next_signaling_systems=[], settings={'Nf': 'true'})], label='signal.5', installation_type='CARRE', side=<Side.LEFT: 'LEFT'>, angle=90)], operational_points=[OperationalPointPart(operational_point=OperationalPoint(label='station1', trigram='STA', parts=[OperationalPointPart(operational_point=..., position=300), ...]), position=300)], coordinates=[(0, 0), (0, 0)], slopes=[], curves=[]), endpoint=<Endpoint.BEGIN: 0>))], links=[Link(begin=TrackEndpoint(track_section=TrackSection(length=500, label='T2', track_name='placeholder_track', track_number=0, line_code=0, line_name='placeholder_line', waypoints=[Detector(position=50, applicable_direction=<ApplicableDirection.BOTH: 2>, label='D2')], signals=[Signal(position=30, direction=<Direction.START_TO_STOP: 0>, linked_detector=Detector(position=50, applicable_direction=<ApplicableDirection.BOTH: 2>, label='D2'), sight_distance=400, logical_signals=[LogicalSignal(signaling_system='BAL', next_signaling_systems=[], settings={'Nf': 'true'})], label='signal.2', installation_type='CARRE', side=<Side.LEFT: 'LEFT'>, angle=90)], operational_points=[], coordinates=[(0, 0), (0, 0)], slopes=[], curves=[]), endpoint=<Endpoint.END: 1>), end=TrackEndpoint(track_section=TrackSection(length=500, label='T3', track_name='placeholder_track', track_number=0, line_code=0, line_name='placeholder_line', waypoints=[Detector(position=450, applicable_direction=<ApplicableDirection.BOTH: 2>, label='D3')], signals=[Signal(position=430, direction=<Direction.START_TO_STOP: 0>, linked_detector=Detector(position=450, applicable_direction=<ApplicableDirection.BOTH: 2>, label='D3'), sight_distance=400, logical_signals=[LogicalSignal(signaling_system='BAL', next_signaling_systems=[], settings={'Nf': 'true'})], label='signal.3', installation_type='CARRE', side=<Side.LEFT: 'LEFT'>, angle=90)], operational_points=[], coordinates=[(0, 0), (0, 0)], slopes=[], curves=[]), endpoint=<Endpoint.BEGIN: 0>), navigability=<ApplicableDirection.BOTH: 2>, label='link.0'), Link(begin=TrackEndpoint(track_section=TrackSection(length=500, label='T2', track_name='placeholder_track', track_number=0, line_code=0, line_name='placeholder_line', waypoints=[Detector(position=50, applicable_direction=<ApplicableDirection.BOTH: 2>, label='D2')], signals=[Signal(position=30, direction=<Direction.START_TO_STOP: 0>, linked_detector=Detector(position=50, applicable_direction=<ApplicableDirection.BOTH: 2>, label='D2'), sight_distance=400, logical_signals=[LogicalSignal(signaling_system='BAL', next_signaling_systems=[], settings={'Nf': 'true'})], label='signal.2', installation_type='CARRE', side=<Side.LEFT: 'LEFT'>, angle=90)], operational_points=[], coordinates=[(0, 0), (0, 0)], slopes=[], curves=[]), endpoint=<Endpoint.BEGIN: 0>), end=TrackEndpoint(track_section=TrackSection(length=500, label='T0', track_name='placeholder_track', track_number=0, line_code=0, line_name='placeholder_line', waypoints=[BufferStop(position=0, label='buffer_stop.0'), Detector(position=450, applicable_direction=<ApplicableDirection.BOTH: 2>, label='D0')], signals=[Signal(position=430, direction=<Direction.START_TO_STOP: 0>, linked_detector=Detector(position=450, applicable_direction=<ApplicableDirection.BOTH: 2>, label='D0'), sight_distance=400, logical_signals=[LogicalSignal(signaling_system='BAL', next_signaling_systems=[], settings={'Nf': 'true'})], label='signal.0', installation_type='CARRE', side=<Side.LEFT: 'LEFT'>, angle=90)], operational_points=[OperationalPointPart(operational_point=OperationalPoint(label='station0', trigram='STA', parts=[..., OperationalPointPart(operational_point=..., position=300)]), position=300)], coordinates=[(0, 0), (0, 0)], slopes=[], curves=[]), endpoint=<Endpoint.END: 1>), navigability=<ApplicableDirection.BOTH: 2>, label='link.1'), Link(begin=TrackEndpoint(track_section=TrackSection(length=500, label='T2', track_name='placeholder_track', track_number=0, line_code=0, line_name='placeholder_line', waypoints=[Detector(position=50, applicable_direction=<ApplicableDirection.BOTH: 2>, label='D2')], signals=[Signal(position=30, direction=<Direction.START_TO_STOP: 0>, linked_detector=Detector(position=50, applicable_direction=<ApplicableDirection.BOTH: 2>, label='D2'), sight_distance=400, logical_signals=[LogicalSignal(signaling_system='BAL', next_signaling_systems=[], settings={'Nf': 'true'})], label='signal.2', installation_type='CARRE', side=<Side.LEFT: 'LEFT'>, angle=90)], operational_points=[], coordinates=[(0, 0), (0, 0)], slopes=[], curves=[]), endpoint=<Endpoint.BEGIN: 0>), end=TrackEndpoint(track_section=TrackSection(length=500, label='T1', track_name='placeholder_track', track_number=0, line_code=0, line_name='placeholder_line', waypoints=[BufferStop(position=0, label='buffer_stop.1'), Detector(position=450, applicable_direction=<ApplicableDirection.BOTH: 2>, label='D1')], signals=[Signal(position=430, direction=<Direction.START_TO_STOP: 0>, linked_detector=Detector(position=450, applicable_direction=<ApplicableDirection.BOTH: 2>, label='D1'), sight_distance=400, logical_signals=[LogicalSignal(signaling_system='BAL', next_signaling_systems=[], settings={'Nf': 'true'})], label='signal.1', installation_type='CARRE', side=<Side.LEFT: 'LEFT'>, angle=90)], operational_points=[OperationalPointPart(operational_point=OperationalPoint(label='station0', trigram='STA', parts=[OperationalPointPart(operational_point=..., position=300), ...]), position=300)], coordinates=[(0, 0), (0, 0)], slopes=[], curves=[]), endpoint=<Endpoint.END: 1>), navigability=<ApplicableDirection.BOTH: 2>, label='link.2'), Link(begin=TrackEndpoint(track_section=TrackSection(length=500, label='T3', track_name='placeholder_track', track_number=0, line_code=0, line_name='placeholder_line', waypoints=[Detector(position=450, applicable_direction=<ApplicableDirection.BOTH: 2>, label='D3')], signals=[Signal(position=430, direction=<Direction.START_TO_STOP: 0>, linked_detector=Detector(position=450, applicable_direction=<ApplicableDirection.BOTH: 2>, label='D3'), sight_distance=400, logical_signals=[LogicalSignal(signaling_system='BAL', next_signaling_systems=[], settings={'Nf': 'true'})], label='signal.3', installation_type='CARRE', side=<Side.LEFT: 'LEFT'>, angle=90)], operational_points=[], coordinates=[(0, 0), (0, 0)], slopes=[], curves=[]), endpoint=<Endpoint.END: 1>), end=TrackEndpoint(track_section=TrackSection(length=500, label='T4', track_name='placeholder_track', track_number=0, line_code=0, line_name='placeholder_line', waypoints=[Detector(position=50, applicable_direction=<ApplicableDirection.BOTH: 2>, label='D4'), BufferStop(position=500, label='buffer_stop.2')], signals=[Signal(position=30, direction=<Direction.START_TO_STOP: 0>, linked_detector=Detector(position=50, applicable_direction=<ApplicableDirection.BOTH: 2>, label='D4'), sight_distance=400, logical_signals=[LogicalSignal(signaling_system='BAL', next_signaling_systems=[], settings={'Nf': 'true'})], label='signal.4', installation_type='CARRE', side=<Side.LEFT: 'LEFT'>, angle=90)], operational_points=[OperationalPointPart(operational_point=OperationalPoint(label='station1', trigram='STA', parts=[..., OperationalPointPart(operational_point=..., position=300)]), position=300)], coordinates=[(0, 0), (0, 0)], slopes=[], curves=[]), endpoint=<Endpoint.BEGIN: 0>), navigability=<ApplicableDirection.BOTH: 2>, label='link.3'), Link(begin=TrackEndpoint(track_section=TrackSection(length=500, label='T3', track_name='placeholder_track', track_number=0, line_code=0, line_name='placeholder_line', waypoints=[Detector(position=450, applicable_direction=<ApplicableDirection.BOTH: 2>, label='D3')], signals=[Signal(position=430, direction=<Direction.START_TO_STOP: 0>, linked_detector=Detector(position=450, applicable_direction=<ApplicableDirection.BOTH: 2>, label='D3'), sight_distance=400, logical_signals=[LogicalSignal(signaling_system='BAL', next_signaling_systems=[], settings={'Nf': 'true'})], label='signal.3', installation_type='CARRE', side=<Side.LEFT: 'LEFT'>, angle=90)], operational_points=[], coordinates=[(0, 0), (0, 0)], slopes=[], curves=[]), endpoint=<Endpoint.END: 1>), end=TrackEndpoint(track_section=TrackSection(length=500, label='T5', track_name='placeholder_track', track_number=0, line_code=0, line_name='placeholder_line', waypoints=[Detector(position=50, applicable_direction=<ApplicableDirection.BOTH: 2>, label='D5'), BufferStop(position=500, label='buffer_stop.3')], signals=[Signal(position=30, direction=<Direction.START_TO_STOP: 0>, linked_detector=Detector(position=50, applicable_direction=<ApplicableDirection.BOTH: 2>, label='D5'), sight_distance=400, logical_signals=[LogicalSignal(signaling_system='BAL', next_signaling_systems=[], settings={'Nf': 'true'})], label='signal.5', installation_type='CARRE', side=<Side.LEFT: 'LEFT'>, angle=90)], operational_points=[OperationalPointPart(operational_point=OperationalPoint(label='station1', trigram='STA', parts=[OperationalPointPart(operational_point=..., position=300), ...]), position=300)], coordinates=[(0, 0), (0, 0)], slopes=[], curves=[]), endpoint=<Endpoint.BEGIN: 0>), navigability=<ApplicableDirection.BOTH: 2>, label='link.4')], operational_points=[OperationalPoint(label='station0', trigram='STA', parts=[OperationalPointPart(operational_point=..., position=300), OperationalPointPart(operational_point=..., position=300)]), OperationalPoint(label='station1', trigram='STA', parts=[OperationalPointPart(operational_point=..., position=300), OperationalPointPart(operational_point=..., position=300)])], routes=[Route(waypoints=[Detector(position=450, applicable_direction=<ApplicableDirection.BOTH: 2>, label='D0'), Detector(position=50, applicable_direction=<ApplicableDirection.BOTH: 2>, label='D2')], entry_point_direction=<Direction.START_TO_STOP: 0>, switches_directions={'CVG': 'LEFT'}, label='rt.D0->D2', path_elements=[PathElement(track_section=TrackSection(length=500, label='T0', track_name='placeholder_track', track_number=0, line_code=0, line_name='placeholder_line', waypoints=[BufferStop(position=0, label='buffer_stop.0'), Detector(position=450, applicable_direction=<ApplicableDirection.BOTH: 2>, label='D0')], signals=[Signal(position=430, direction=<Direction.START_TO_STOP: 0>, linked_detector=Detector(position=450, applicable_direction=<ApplicableDirection.BOTH: 2>, label='D0'), sight_distance=400, logical_signals=[LogicalSignal(signaling_system='BAL', next_signaling_systems=[], settings={'Nf': 'true'})], label='signal.0', installation_type='CARRE', side=<Side.LEFT: 'LEFT'>, angle=90)], operational_points=[OperationalPointPart(operational_point=OperationalPoint(label='station0', trigram='STA', parts=[..., OperationalPointPart(operational_point=..., position=300)]), position=300)], coordinates=[(0, 0), (0, 0)], slopes=[], curves=[]), direction=<Direction.START_TO_STOP: 0>, begin=430, end=500), PathElement(track_section=TrackSection(length=500, label='T2', track_name='placeholder_track', track_number=0, line_code=0, line_name='placeholder_line', waypoints=[Detector(position=50, applicable_direction=<ApplicableDirection.BOTH: 2>, label='D2')], signals=[Signal(position=30, direction=<Direction.START_TO_STOP: 0>, linked_detector=Detector(position=50, applicable_direction=<ApplicableDirection.BOTH: 2>, label='D2'), sight_distance=400, logical_signals=[LogicalSignal(signaling_system='BAL', next_signaling_systems=[], settings={'Nf': 'true'})], label='signal.2', installation_type='CARRE', side=<Side.LEFT: 'LEFT'>, angle=90)], operational_points=[], coordinates=[(0, 0), (0, 0)], slopes=[], curves=[]), direction=<Direction.START_TO_STOP: 0>, begin=0, end=50)]), Route(waypoints=[BufferStop(position=0, label='buffer_stop.0'), Detector(position=450, applicable_direction=<ApplicableDirection.BOTH: 2>, label='D0')], entry_point_direction=<Direction.START_TO_STOP: 0>, switches_directions={}, label='rt.buffer_stop.0->D0', path_elements=[PathElement(track_section=TrackSection(length=500, label='T0', track_name='placeholder_track', track_number=0, line_code=0, line_name='placeholder_line', waypoints=[BufferStop(position=0, label='buffer_stop.0'), Detector(position=450, applicable_direction=<ApplicableDirection.BOTH: 2>, label='D0')], signals=[Signal(position=430, direction=<Direction.START_TO_STOP: 0>, linked_detector=Detector(position=450, applicable_direction=<ApplicableDirection.BOTH: 2>, label='D0'), sight_distance=400, logical_signals=[LogicalSignal(signaling_system='BAL', next_signaling_systems=[], settings={'Nf': 'true'})], label='signal.0', installation_type='CARRE', side=<Side.LEFT: 'LEFT'>, angle=90)], operational_points=[OperationalPointPart(operational_point=OperationalPoint(label='station0', trigram='STA', parts=[..., OperationalPointPart(operational_point=..., position=300)]), position=300)], coordinates=[(0, 0), (0, 0)], slopes=[], curves=[]), direction=<Direction.START_TO_STOP: 0>, begin=0, end=450)]), Route(waypoints=[Detector(position=450, applicable_direction=<ApplicableDirection.BOTH: 2>, label='D1'), Detector(position=50, applicable_direction=<ApplicableDirection.BOTH: 2>, label='D2')], entry_point_direction=<Direction.START_TO_STOP: 0>, switches_directions={'CVG': 'RIGHT'}, label='rt.D1->D2', path_elements=[PathElement(track_section=TrackSection(length=500, label='T1', track_name='placeholder_track', track_number=0, line_code=0, line_name='placeholder_line', waypoints=[BufferStop(position=0, label='buffer_stop.1'), Detector(position=450, applicable_direction=<ApplicableDirection.BOTH: 2>, label='D1')], signals=[Signal(position=430, direction=<Direction.START_TO_STOP: 0>, linked_detector=Detector(position=450, applicable_direction=<ApplicableDirection.BOTH: 2>, label='D1'), sight_distance=400, logical_signals=[LogicalSignal(signaling_system='BAL', next_signaling_systems=[], settings={'Nf': 'true'})], label='signal.1', installation_type='CARRE', side=<Side.LEFT: 'LEFT'>, angle=90)], operational_points=[OperationalPointPart(operational_point=OperationalPoint(label='station0', trigram='STA', parts=[OperationalPointPart(operational_point=..., position=300), ...]), position=300)], coordinates=[(0, 0), (0, 0)], slopes=[], curves=[]), direction=<Direction.START_TO_STOP: 0>, begin=430, end=500), PathElement(track_section=TrackSection(length=500, label='T2', track_name='placeholder_track', track_number=0, line_code=0, line_name='placeholder_line', waypoints=[Detector(position=50, applicable_direction=<ApplicableDirection.BOTH: 2>, label='D2')], signals=[Signal(position=30, direction=<Direction.START_TO_STOP: 0>, linked_detector=Detector(position=50, applicable_direction=<ApplicableDirection.BOTH: 2>, label='D2'), sight_distance=400, logical_signals=[LogicalSignal(signaling_system='BAL', next_signaling_systems=[], settings={'Nf': 'true'})], label='signal.2', installation_type='CARRE', side=<Side.LEFT: 'LEFT'>, angle=90)], operational_points=[], coordinates=[(0, 0), (0, 0)], slopes=[], curves=[]), direction=<Direction.START_TO_STOP: 0>, begin=0, end=50)]), Route(waypoints=[BufferStop(position=0, label='buffer_stop.1'), Detector(position=450, applicable_direction=<ApplicableDirection.BOTH: 2>, label='D1')], entry_point_direction=<Direction.START_TO_STOP: 0>, switches_directions={}, label='rt.buffer_stop.1->D1', path_elements=[PathElement(track_section=TrackSection(length=500, label='T1', track_name='placeholder_track', track_number=0, line_code=0, line_name='placeholder_line', waypoints=[BufferStop(position=0, label='buffer_stop.1'), Detector(position=450, applicable_direction=<ApplicableDirection.BOTH: 2>, label='D1')], signals=[Signal(position=430, direction=<Direction.START_TO_STOP: 0>, linked_detector=Detector(position=450, applicable_direction=<ApplicableDirection.BOTH: 2>, label='D1'), sight_distance=400, logical_signals=[LogicalSignal(signaling_system='BAL', next_signaling_systems=[], settings={'Nf': 'true'})], label='signal.1', installation_type='CARRE', side=<Side.LEFT: 'LEFT'>, angle=90)], operational_points=[OperationalPointPart(operational_point=OperationalPoint(label='station0', trigram='STA', parts=[OperationalPointPart(operational_point=..., position=300), ...]), position=300)], coordinates=[(0, 0), (0, 0)], slopes=[], curves=[]), direction=<Direction.START_TO_STOP: 0>, begin=0, end=450)]), Route(waypoints=[Detector(position=50, applicable_direction=<ApplicableDirection.BOTH: 2>, label='D2'), Detector(position=450, applicable_direction=<ApplicableDirection.BOTH: 2>, label='D3')], entry_point_direction=<Direction.START_TO_STOP: 0>, switches_directions={}, label='rt.D2->D3', path_elements=[PathElement(track_section=TrackSection(length=500, label='T2', track_name='placeholder_track', track_number=0, line_code=0, line_name='placeholder_line', waypoints=[Detector(position=50, applicable_direction=<ApplicableDirection.BOTH: 2>, label='D2')], signals=[Signal(position=30, direction=<Direction.START_TO_STOP: 0>, linked_detector=Detector(position=50, applicable_direction=<ApplicableDirection.BOTH: 2>, label='D2'), sight_distance=400, logical_signals=[LogicalSignal(signaling_system='BAL', next_signaling_systems=[], settings={'Nf': 'true'})], label='signal.2', installation_type='CARRE', side=<Side.LEFT: 'LEFT'>, angle=90)], operational_points=[], coordinates=[(0, 0), (0, 0)], slopes=[], curves=[]), direction=<Direction.START_TO_STOP: 0>, begin=30, end=500), PathElement(track_section=TrackSection(length=500, label='T3', track_name='placeholder_track', track_number=0, line_code=0, line_name='placeholder_line', waypoints=[Detector(position=450, applicable_direction=<ApplicableDirection.BOTH: 2>, label='D3')], signals=[Signal(position=430, direction=<Direction.START_TO_STOP: 0>, linked_detector=Detector(position=450, applicable_direction=<ApplicableDirection.BOTH: 2>, label='D3'), sight_distance=400, logical_signals=[LogicalSignal(signaling_system='BAL', next_signaling_systems=[], settings={'Nf': 'true'})], label='signal.3', installation_type='CARRE', side=<Side.LEFT: 'LEFT'>, angle=90)], operational_points=[], coordinates=[(0, 0), (0, 0)], slopes=[], curves=[]), direction=<Direction.START_TO_STOP: 0>, begin=0, end=450)]), Route(waypoints=[Detector(position=450, applicable_direction=<ApplicableDirection.BOTH: 2>, label='D3'), Detector(position=50, applicable_direction=<ApplicableDirection.BOTH: 2>, label='D5')], entry_point_direction=<Direction.START_TO_STOP: 0>, switches_directions={'DVG': 'RIGHT'}, label='rt.D3->D5', path_elements=[PathElement(track_section=TrackSection(length=500, label='T3', track_name='placeholder_track', track_number=0, line_code=0, line_name='placeholder_line', waypoints=[Detector(position=450, applicable_direction=<ApplicableDirection.BOTH: 2>, label='D3')], signals=[Signal(position=430, direction=<Direction.START_TO_STOP: 0>, linked_detector=Detector(position=450, applicable_direction=<ApplicableDirection.BOTH: 2>, label='D3'), sight_distance=400, logical_signals=[LogicalSignal(signaling_system='BAL', next_signaling_systems=[], settings={'Nf': 'true'})], label='signal.3', installation_type='CARRE', side=<Side.LEFT: 'LEFT'>, angle=90)], operational_points=[], coordinates=[(0, 0), (0, 0)], slopes=[], curves=[]), direction=<Direction.START_TO_STOP: 0>, begin=430, end=500), PathElement(track_section=TrackSection(length=500, label='T5', track_name='placeholder_track', track_number=0, line_code=0, line_name='placeholder_line', waypoints=[Detector(position=50, applicable_direction=<ApplicableDirection.BOTH: 2>, label='D5'), BufferStop(position=500, label='buffer_stop.3')], signals=[Signal(position=30, direction=<Direction.START_TO_STOP: 0>, linked_detector=Detector(position=50, applicable_direction=<ApplicableDirection.BOTH: 2>, label='D5'), sight_distance=400, logical_signals=[LogicalSignal(signaling_system='BAL', next_signaling_systems=[], settings={'Nf': 'true'})], label='signal.5', installation_type='CARRE', side=<Side.LEFT: 'LEFT'>, angle=90)], operational_points=[OperationalPointPart(operational_point=OperationalPoint(label='station1', trigram='STA', parts=[OperationalPointPart(operational_point=..., position=300), ...]), position=300)], coordinates=[(0, 0), (0, 0)], slopes=[], curves=[]), direction=<Direction.START_TO_STOP: 0>, begin=0, end=50)]), Route(waypoints=[Detector(position=450, applicable_direction=<ApplicableDirection.BOTH: 2>, label='D3'), Detector(position=50, applicable_direction=<ApplicableDirection.BOTH: 2>, label='D4')], entry_point_direction=<Direction.START_TO_STOP: 0>, switches_directions={'DVG': 'LEFT'}, label='rt.D3->D4', path_elements=[PathElement(track_section=TrackSection(length=500, label='T3', track_name='placeholder_track', track_number=0, line_code=0, line_name='placeholder_line', waypoints=[Detector(position=450, applicable_direction=<ApplicableDirection.BOTH: 2>, label='D3')], signals=[Signal(position=430, direction=<Direction.START_TO_STOP: 0>, linked_detector=Detector(position=450, applicable_direction=<ApplicableDirection.BOTH: 2>, label='D3'), sight_distance=400, logical_signals=[LogicalSignal(signaling_system='BAL', next_signaling_systems=[], settings={'Nf': 'true'})], label='signal.3', installation_type='CARRE', side=<Side.LEFT: 'LEFT'>, angle=90)], operational_points=[], coordinates=[(0, 0), (0, 0)], slopes=[], curves=[]), direction=<Direction.START_TO_STOP: 0>, begin=430, end=500), PathElement(track_section=TrackSection(length=500, label='T4', track_name='placeholder_track', track_number=0, line_code=0, line_name='placeholder_line', waypoints=[Detector(position=50, applicable_direction=<ApplicableDirection.BOTH: 2>, label='D4'), BufferStop(position=500, label='buffer_stop.2')], signals=[Signal(position=30, direction=<Direction.START_TO_STOP: 0>, linked_detector=Detector(position=50, applicable_direction=<ApplicableDirection.BOTH: 2>, label='D4'), sight_distance=400, logical_signals=[LogicalSignal(signaling_system='BAL', next_signaling_systems=[], settings={'Nf': 'true'})], label='signal.4', installation_type='CARRE', side=<Side.LEFT: 'LEFT'>, angle=90)], operational_points=[OperationalPointPart(operational_point=OperationalPoint(label='station1', trigram='STA', parts=[..., OperationalPointPart(operational_point=..., position=300)]), position=300)], coordinates=[(0, 0), (0, 0)], slopes=[], curves=[]), direction=<Direction.START_TO_STOP: 0>, begin=0, end=50)]), Route(waypoints=[Detector(position=50, applicable_direction=<ApplicableDirection.BOTH: 2>, label='D4'), BufferStop(position=500, label='buffer_stop.2')], entry_point_direction=<Direction.START_TO_STOP: 0>, switches_directions={}, label='rt.D4->buffer_stop.2', path_elements=[PathElement(track_section=TrackSection(length=500, label='T4', track_name='placeholder_track', track_number=0, line_code=0, line_name='placeholder_line', waypoints=[Detector(position=50, applicable_direction=<ApplicableDirection.BOTH: 2>, label='D4'), BufferStop(position=500, label='buffer_stop.2')], signals=[Signal(position=30, direction=<Direction.START_TO_STOP: 0>, linked_detector=Detector(position=50, applicable_direction=<ApplicableDirection.BOTH: 2>, label='D4'), sight_distance=400, logical_signals=[LogicalSignal(signaling_system='BAL', next_signaling_systems=[], settings={'Nf': 'true'})], label='signal.4', installation_type='CARRE', side=<Side.LEFT: 'LEFT'>, angle=90)], operational_points=[OperationalPointPart(operational_point=OperationalPoint(label='station1', trigram='STA', parts=[..., OperationalPointPart(operational_point=..., position=300)]), position=300)], coordinates=[(0, 0), (0, 0)], slopes=[], curves=[]), direction=<Direction.START_TO_STOP: 0>, begin=30, end=500)]), Route(waypoints=[Detector(position=50, applicable_direction=<ApplicableDirection.BOTH: 2>, label='D5'), BufferStop(position=500, label='buffer_stop.3')], entry_point_direction=<Direction.START_TO_STOP: 0>, switches_directions={}, label='rt.D5->buffer_stop.3', path_elements=[PathElement(track_section=TrackSection(length=500, label='T5', track_name='placeholder_track', track_number=0, line_code=0, line_name='placeholder_line', waypoints=[Detector(position=50, applicable_direction=<ApplicableDirection.BOTH: 2>, label='D5'), BufferStop(position=500, label='buffer_stop.3')], signals=[Signal(position=30, direction=<Direction.START_TO_STOP: 0>, linked_detector=Detector(position=50, applicable_direction=<ApplicableDirection.BOTH: 2>, label='D5'), sight_distance=400, logical_signals=[LogicalSignal(signaling_system='BAL', next_signaling_systems=[], settings={'Nf': 'true'})], label='signal.5', installation_type='CARRE', side=<Side.LEFT: 'LEFT'>, angle=90)], operational_points=[OperationalPointPart(operational_point=OperationalPoint(label='station1', trigram='STA', parts=[OperationalPointPart(operational_point=..., position=300), ...]), position=300)], coordinates=[(0, 0), (0, 0)], slopes=[], curves=[]), direction=<Direction.START_TO_STOP: 0>, begin=30, end=500)])], speed_sections=[], catenaries=[])"
      ]
     },
     "execution_count": 15,
     "metadata": {},
     "output_type": "execute_result"
    }
   ],
   "source": [
    "built_infra"
   ]
  },
  {
   "cell_type": "code",
   "execution_count": 21,
   "metadata": {},
   "outputs": [],
   "source": [
    "sim_builder = SimulationBuilder(built_infra)\n",
    "\n",
    "for train_id in range(2):\n",
    "    sim_builder.add_train_schedule(\n",
    "        Location(built_infra.track_sections[train_id], 300),\n",
    "        Location(built_infra.track_sections[train_id+3], 300),\n",
    "        label='train'+str(train_id),\n",
    "        departure_time=0\n",
    "    )\n",
    "simulation = sim_builder.build().format()"
   ]
  },
  {
   "cell_type": "code",
   "execution_count": 22,
   "metadata": {},
   "outputs": [
    {
     "data": {
      "text/plain": [
       "2"
      ]
     },
     "execution_count": 22,
     "metadata": {},
     "output_type": "execute_result"
    }
   ],
   "source": [
    "len(simulation['train_schedules'])"
   ]
  },
  {
   "cell_type": "code",
   "execution_count": null,
   "metadata": {},
   "outputs": [],
   "source": [
    "import rlway.osrd.infra as infr"
   ]
  },
  {
   "cell_type": "code",
   "execution_count": null,
   "metadata": {},
   "outputs": [
    {
     "data": {
      "text/plain": [
       "['rt.D0->D2',\n",
       " 'rt.buffer_stop.0->D0',\n",
       " 'rt.D1->D2',\n",
       " 'rt.buffer_stop.1->D1',\n",
       " 'rt.D2->D3',\n",
       " 'rt.D3->D5',\n",
       " 'rt.D3->D4',\n",
       " 'rt.D4->buffer_stop.2',\n",
       " 'rt.D5->buffer_stop.3']"
      ]
     },
     "execution_count": 11,
     "metadata": {},
     "output_type": "execute_result"
    }
   ],
   "source": [
    "infr.swi(infra)"
   ]
  },
  {
   "cell_type": "code",
   "execution_count": null,
   "metadata": {},
   "outputs": [
    {
     "data": {
      "text/plain": [
       "{'rt.D0->D2': 100.0,\n",
       " 'rt.buffer_stop.0->D0': 450.0,\n",
       " 'rt.D1->D2': 100.0,\n",
       " 'rt.buffer_stop.1->D1': 450.0,\n",
       " 'rt.D2->D3': 900.0,\n",
       " 'rt.D3->D5': 100.0,\n",
       " 'rt.D3->D4': 100.0,\n",
       " 'rt.D4->buffer_stop.2': 450.0,\n",
       " 'rt.D5->buffer_stop.3': 450.0}"
      ]
     },
     "execution_count": 12,
     "metadata": {},
     "output_type": "execute_result"
    }
   ],
   "source": [
    "infr.route_lengths(infra)"
   ]
  },
  {
   "cell_type": "code",
   "execution_count": null,
   "metadata": {},
   "outputs": [
    {
     "data": {
      "text/plain": [
       "True"
      ]
     },
     "execution_count": 13,
     "metadata": {},
     "output_type": "execute_result"
    }
   ],
   "source": [
    "{\"a\": 1, \"b\": 2} == {\"b\": 2, \"a\": 1, }"
   ]
  },
  {
   "cell_type": "code",
   "execution_count": null,
   "metadata": {},
   "outputs": [
    {
     "data": {
      "text/html": [
       "<img src=\"https://mermaid.ink/img/Z3JhcGggTFI7RDAtLT5EMjtidWZmZXJfc3RvcC4wLS0+RDA7RDEtLT5EMjtidWZmZXJfc3RvcC4xLS0+RDE7RDItLT5EMztEMy0tPkQ1O0QzLS0+RDQ7RDQtLT5idWZmZXJfc3RvcC4yO0Q1LS0+YnVmZmVyX3N0b3AuMw==\"/>"
      ],
      "text/plain": [
       "<IPython.core.display.Image object>"
      ]
     },
     "metadata": {},
     "output_type": "display_data"
    },
    {
     "name": "stdout",
     "output_type": "stream",
     "text": [
      "None\n"
     ]
    }
   ],
   "source": [
    "print(infr.draw_infra(infra))"
   ]
  },
  {
   "cell_type": "code",
   "execution_count": null,
   "metadata": {},
   "outputs": [
    {
     "data": {
      "text/plain": [
       "[{'id': 'CVG',\n",
       "  'switch_type': 'point',\n",
       "  'group_change_delay': 0.0,\n",
       "  'ports': {'base': {'endpoint': <Endpoint.BEGIN: 'BEGIN'>, 'track': 'T2'},\n",
       "   'left': {'endpoint': <Endpoint.END: 'END'>, 'track': 'T0'},\n",
       "   'right': {'endpoint': <Endpoint.END: 'END'>, 'track': 'T1'}},\n",
       "  'extensions': {'sncf': {'label': 'CVG'}}},\n",
       " {'id': 'DVG',\n",
       "  'switch_type': 'point',\n",
       "  'group_change_delay': 0.0,\n",
       "  'ports': {'base': {'endpoint': <Endpoint.END: 'END'>, 'track': 'T3'},\n",
       "   'left': {'endpoint': <Endpoint.BEGIN: 'BEGIN'>, 'track': 'T4'},\n",
       "   'right': {'endpoint': <Endpoint.BEGIN: 'BEGIN'>, 'track': 'T5'}},\n",
       "  'extensions': {'sncf': {'label': 'DVG'}}}]"
      ]
     },
     "execution_count": 15,
     "metadata": {},
     "output_type": "execute_result"
    }
   ],
   "source": [
    "infra['switches']"
   ]
  },
  {
   "cell_type": "code",
   "execution_count": null,
   "metadata": {},
   "outputs": [
    {
     "data": {
      "text/plain": [
       "[]"
      ]
     },
     "execution_count": 16,
     "metadata": {},
     "output_type": "execute_result"
    }
   ],
   "source": [
    "infra['operational_points']"
   ]
  },
  {
   "cell_type": "code",
   "execution_count": null,
   "metadata": {},
   "outputs": [],
   "source": []
  }
 ],
 "metadata": {
  "kernelspec": {
   "display_name": "venv",
   "language": "python",
   "name": "python3"
  },
  "language_info": {
   "codemirror_mode": {
    "name": "ipython",
    "version": 3
   },
   "file_extension": ".py",
   "mimetype": "text/x-python",
   "name": "python",
   "nbconvert_exporter": "python",
   "pygments_lexer": "ipython3",
   "version": "3.9.16"
  },
  "orig_nbformat": 4
 },
 "nbformat": 4,
 "nbformat_minor": 2
}
