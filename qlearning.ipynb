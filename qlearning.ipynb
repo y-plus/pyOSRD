{
  "cells": [
    {
      "cell_type": "code",
      "execution_count": 13,
      "metadata": {},
      "outputs": [
        {
          "name": "stdout",
          "output_type": "stream",
          "text": [
            "The autoreload extension is already loaded. To reload it, use:\n",
            "  %reload_ext autoreload\n"
          ]
        }
      ],
      "source": [
        "%load_ext autoreload\n",
        "%autoreload 2"
      ]
    },
    {
      "cell_type": "code",
      "execution_count": 14,
      "metadata": {},
      "outputs": [],
      "source": [
        "import numpy as np\n",
        "import networkx as nx\n",
        "\n",
        "import torch\n",
        "\n",
        "from torch_geometric.utils import from_networkx, index_to_mask\n",
        "\n",
        "from rlway.osrd_import.infra import read_jsons_in_dir\n",
        "from rlway.schedules import schedule_from_simulation\n",
        "from rlway.regul_env import RegulEnv"
      ]
    },
    {
      "cell_type": "code",
      "execution_count": null,
      "metadata": {},
      "outputs": [],
      "source": [
        "infra, sim, res = read_jsons_in_dir('simulation1')\n",
        "s = schedule_from_simulation(infra, res, simplify_route_names=True)\n",
        "s = s.add_delay(1,'STOP.1->DA2', 350).sort()"
      ]
    },
    {
      "cell_type": "code",
      "execution_count": null,
      "metadata": {},
      "outputs": [],
      "source": [
        "s.plot()"
      ]
    },
    {
      "cell_type": "code",
      "execution_count": null,
      "metadata": {},
      "outputs": [],
      "source": [
        "env = RegulEnv(s, stations = ['DB1->STOP.2', 'DB2->STOP.3'])"
      ]
    },
    {
      "cell_type": "code",
      "execution_count": null,
      "metadata": {},
      "outputs": [],
      "source": [
        "from collections import deque\n",
        "import random\n",
        "\n",
        "from tqdm import tqdm\n",
        "\n",
        "from torch_geometric.data import Data\n",
        "from torch_geometric.loader import DataLoader\n",
        "from torch_geometric.utils import mask_to_index"
      ]
    },
    {
      "cell_type": "code",
      "execution_count": null,
      "metadata": {},
      "outputs": [],
      "source": [
        "def data_from_env(env: RegulEnv) -> Data:\n",
        "    G = env.schedule.graph\n",
        "    if env.schedule.has_conflicts(env.delayed_train):\n",
        "        i = list(G.nodes).index(env.schedule.first_conflict(env.delayed_train)[0])\n",
        "    else:\n",
        "        i = 0 # arbitrary, will not be accounted in the loss calculations\n",
        "    G = nx.convert_node_labels_to_integers(G, label_attribute='name')\n",
        "    data = from_networkx(G.reverse(), group_node_attrs=['times'])\n",
        "    data.pos_conflict = index_to_mask(torch.tensor(i), size = data.num_nodes)\n",
        "    data.x = data.x.float()\n",
        "    \n",
        "    return data"
      ]
    },
    {
      "cell_type": "code",
      "execution_count": null,
      "metadata": {},
      "outputs": [],
      "source": [
        "class ReplayMemory(object):\n",
        "\n",
        "    def __init__(self, capacity):\n",
        "        self.memory = deque([], maxlen=capacity)\n",
        "\n",
        "    def push(self, *args):\n",
        "        \"\"\"Save a transition\"\"\"\n",
        "        self.memory.append(tuple(args))\n",
        "\n",
        "    def sample(self, batch_size):\n",
        "        return random.sample(self.memory, batch_size)\n",
        "\n",
        "    def __len__(self):\n",
        "        return len(self.memory)"
      ]
    },
    {
      "cell_type": "code",
      "execution_count": null,
      "metadata": {},
      "outputs": [],
      "source": [
        "memory = ReplayMemory(50)"
      ]
    },
    {
      "cell_type": "code",
      "execution_count": 10,
      "metadata": {},
      "outputs": [
        {
          "ename": "KeyboardInterrupt",
          "evalue": "",
          "output_type": "error",
          "traceback": [
            "\u001b[0;31m---------------------------------------------------------------------------\u001b[0m",
            "\u001b[0;31mKeyboardInterrupt\u001b[0m                         Traceback (most recent call last)",
            "Cell \u001b[0;32mIn[10], line 13\u001b[0m\n\u001b[1;32m     11\u001b[0m s \u001b[39m=\u001b[39m data_from_env(env)\n\u001b[1;32m     12\u001b[0m a \u001b[39m=\u001b[39m env\u001b[39m.\u001b[39maction_space\u001b[39m.\u001b[39msample()\n\u001b[0;32m---> 13\u001b[0m obs, reward, done, _ \u001b[39m=\u001b[39m env\u001b[39m.\u001b[39;49mstep(a)\n\u001b[1;32m     14\u001b[0m sprime \u001b[39m=\u001b[39m data_from_env(env)\n\u001b[1;32m     15\u001b[0m memory\u001b[39m.\u001b[39mpush(\n\u001b[1;32m     16\u001b[0m     s,\n\u001b[1;32m     17\u001b[0m     torch\u001b[39m.\u001b[39mtensor([a]),\n\u001b[0;32m   (...)\u001b[0m\n\u001b[1;32m     20\u001b[0m     torch\u001b[39m.\u001b[39mtensor([done], dtype\u001b[39m=\u001b[39mtorch\u001b[39m.\u001b[39mlong)\n\u001b[1;32m     21\u001b[0m )\n",
            "File \u001b[0;32m~/regul/venv/lib/python3.9/site-packages/rlway/regul_env.py:77\u001b[0m, in \u001b[0;36mRegulEnv.step\u001b[0;34m(self, action)\u001b[0m\n\u001b[1;32m     75\u001b[0m \u001b[39melse\u001b[39;00m: \u001b[39m# delayed train has priority\u001b[39;00m\n\u001b[1;32m     76\u001b[0m     first_out, last_out \u001b[39m=\u001b[39m \u001b[39mself\u001b[39m\u001b[39m.\u001b[39m_delayed_train, other_train\n\u001b[0;32m---> 77\u001b[0m \u001b[39mself\u001b[39m\u001b[39m.\u001b[39m_schedule \u001b[39m=\u001b[39m \u001b[39mself\u001b[39;49m\u001b[39m.\u001b[39;49m_schedule\u001b[39m.\u001b[39;49mshift_train_after(last_out, first_out, track_section)\n\u001b[1;32m     78\u001b[0m \u001b[39mself\u001b[39m\u001b[39m.\u001b[39m_delayed_train \u001b[39m=\u001b[39m last_out\n\u001b[1;32m     79\u001b[0m \u001b[39mself\u001b[39m\u001b[39m.\u001b[39m_schedule, \u001b[39mself\u001b[39m\u001b[39m.\u001b[39m_delayed_train \u001b[39m=\u001b[39m \u001b[39mself\u001b[39m\u001b[39m.\u001b[39m_schedule\u001b[39m.\u001b[39mpropagate_delay(last_out)\n",
            "File \u001b[0;32m~/regul/venv/lib/python3.9/site-packages/rlway/schedules.py:212\u001b[0m, in \u001b[0;36mSchedule.shift_train_after\u001b[0;34m(self, train1, train2, track_section)\u001b[0m\n\u001b[1;32m    209\u001b[0m     track_section_shift \u001b[39m=\u001b[39m track_section\n\u001b[1;32m    211\u001b[0m \u001b[39m# if the conflict occurs just after a switch point, train shoud wait before the switch\u001b[39;00m\n\u001b[0;32m--> 212\u001b[0m \u001b[39mif\u001b[39;00m \u001b[39mself\u001b[39;49m\u001b[39m.\u001b[39;49mis_just_after_a_point_switch(train1, train2, track_section):\n\u001b[1;32m    213\u001b[0m     train1_waits_at \u001b[39m=\u001b[39m \u001b[39mself\u001b[39m\u001b[39m.\u001b[39mprevious_track_section(train1, train1_waits_at)\n\u001b[1;32m    216\u001b[0m train1_wait_time \u001b[39m=\u001b[39m (\n\u001b[1;32m    217\u001b[0m     \u001b[39mself\u001b[39m\u001b[39m.\u001b[39mends\u001b[39m.\u001b[39mloc[track_section_shift, train2]\n\u001b[1;32m    218\u001b[0m     \u001b[39m-\u001b[39m \u001b[39mself\u001b[39m\u001b[39m.\u001b[39mstarts\u001b[39m.\u001b[39mloc[track_section_shift, train1]\n\u001b[1;32m    219\u001b[0m )\n",
            "File \u001b[0;32m~/regul/venv/lib/python3.9/site-packages/rlway/schedules.py:135\u001b[0m, in \u001b[0;36mSchedule.is_just_after_a_point_switch\u001b[0;34m(self, train1, train2, track_section)\u001b[0m\n\u001b[1;32m    122\u001b[0m \u001b[39mif\u001b[39;00m (\n\u001b[1;32m    123\u001b[0m     track_section \u001b[39mnot\u001b[39;00m \u001b[39min\u001b[39;00m \u001b[39mself\u001b[39m\u001b[39m.\u001b[39mtrajectory(train1)\n\u001b[1;32m    124\u001b[0m     \u001b[39mor\u001b[39;00m\n\u001b[1;32m    125\u001b[0m     track_section  \u001b[39mnot\u001b[39;00m \u001b[39min\u001b[39;00m \u001b[39mself\u001b[39m\u001b[39m.\u001b[39mtrajectory(train2) \n\u001b[1;32m    126\u001b[0m ):\n\u001b[1;32m    127\u001b[0m     \u001b[39mreturn\u001b[39;00m \u001b[39mFalse\u001b[39;00m\n\u001b[1;32m    129\u001b[0m \u001b[39mreturn\u001b[39;00m (\n\u001b[1;32m    130\u001b[0m     \u001b[39m~\u001b[39m\u001b[39mself\u001b[39m\u001b[39m.\u001b[39mis_a_point_switch(train1, train2, track_section)\n\u001b[1;32m    131\u001b[0m     \u001b[39mand\u001b[39;00m\n\u001b[1;32m    132\u001b[0m         \u001b[39mself\u001b[39m\u001b[39m.\u001b[39mis_a_point_switch(\n\u001b[1;32m    133\u001b[0m             train1,\n\u001b[1;32m    134\u001b[0m             train2,\n\u001b[0;32m--> 135\u001b[0m             \u001b[39mself\u001b[39;49m\u001b[39m.\u001b[39;49mprevious_track_section(train1, track_section)\n\u001b[1;32m    136\u001b[0m         )\n\u001b[1;32m    137\u001b[0m )\n",
            "File \u001b[0;32m~/regul/venv/lib/python3.9/site-packages/rlway/schedules.py:88\u001b[0m, in \u001b[0;36mSchedule.previous_track_section\u001b[0;34m(self, train, track_section)\u001b[0m\n\u001b[1;32m     86\u001b[0m \u001b[39mdef\u001b[39;00m \u001b[39mprevious_track_section\u001b[39m(\u001b[39mself\u001b[39m, train: \u001b[39mint\u001b[39m, track_section: \u001b[39mint\u001b[39m) \u001b[39m-\u001b[39m\u001b[39m>\u001b[39m Union[\u001b[39mint\u001b[39m, \u001b[39mNone\u001b[39;00m]:\n\u001b[0;32m---> 88\u001b[0m     t \u001b[39m=\u001b[39m \u001b[39mself\u001b[39;49m\u001b[39m.\u001b[39;49mtrajectory(train)\n\u001b[1;32m     89\u001b[0m     idx \u001b[39m=\u001b[39m \u001b[39mlist\u001b[39m(t)\u001b[39m.\u001b[39mindex(track_section)\n\u001b[1;32m     91\u001b[0m     \u001b[39mif\u001b[39;00m idx \u001b[39m!=\u001b[39m \u001b[39m0\u001b[39m:\n",
            "File \u001b[0;32m~/regul/venv/lib/python3.9/site-packages/rlway/schedules.py:81\u001b[0m, in \u001b[0;36mSchedule.trajectory\u001b[0;34m(self, train)\u001b[0m\n\u001b[1;32m     79\u001b[0m \u001b[39mdef\u001b[39;00m \u001b[39mtrajectory\u001b[39m(\u001b[39mself\u001b[39m, train: \u001b[39mint\u001b[39m) \u001b[39m-\u001b[39m\u001b[39m>\u001b[39m List[\u001b[39mint\u001b[39m]:\n\u001b[1;32m     80\u001b[0m     \u001b[39mreturn\u001b[39;00m \u001b[39mlist\u001b[39m(\n\u001b[0;32m---> 81\u001b[0m         \u001b[39mself\u001b[39m\u001b[39m.\u001b[39mstarts[train][\u001b[39mself\u001b[39;49m\u001b[39m.\u001b[39;49mstarts[train]\u001b[39m.\u001b[39mnotna()]\n\u001b[1;32m     82\u001b[0m         \u001b[39m.\u001b[39msort_values()\n\u001b[1;32m     83\u001b[0m         \u001b[39m.\u001b[39mindex\n\u001b[1;32m     84\u001b[0m     )\n",
            "File \u001b[0;32m~/regul/venv/lib/python3.9/site-packages/rlway/schedules.py:47\u001b[0m, in \u001b[0;36mSchedule.starts\u001b[0;34m(self)\u001b[0m\n\u001b[1;32m     45\u001b[0m \u001b[39m@property\u001b[39m\n\u001b[1;32m     46\u001b[0m \u001b[39mdef\u001b[39;00m \u001b[39mstarts\u001b[39m(\u001b[39mself\u001b[39m) \u001b[39m-\u001b[39m\u001b[39m>\u001b[39m pd\u001b[39m.\u001b[39mDataFrame:\n\u001b[0;32m---> 47\u001b[0m     \u001b[39mreturn\u001b[39;00m \u001b[39mself\u001b[39;49m\u001b[39m.\u001b[39;49m_df\u001b[39m.\u001b[39;49mloc[\n\u001b[1;32m     48\u001b[0m             pd\u001b[39m.\u001b[39;49mIndexSlice[:], \n\u001b[1;32m     49\u001b[0m             pd\u001b[39m.\u001b[39;49mIndexSlice[:,\u001b[39m'\u001b[39;49m\u001b[39ms\u001b[39;49m\u001b[39m'\u001b[39;49m]\n\u001b[1;32m     50\u001b[0m         ]\u001b[39m.\u001b[39mset_axis(\u001b[39mself\u001b[39m\u001b[39m.\u001b[39m_df\u001b[39m.\u001b[39mcolumns\u001b[39m.\u001b[39mlevels[\u001b[39m0\u001b[39m], axis\u001b[39m=\u001b[39m\u001b[39m1\u001b[39m)\n",
            "File \u001b[0;32m~/regul/venv/lib/python3.9/site-packages/pandas/core/indexing.py:1067\u001b[0m, in \u001b[0;36m_LocationIndexer.__getitem__\u001b[0;34m(self, key)\u001b[0m\n\u001b[1;32m   1065\u001b[0m     \u001b[39mif\u001b[39;00m \u001b[39mself\u001b[39m\u001b[39m.\u001b[39m_is_scalar_access(key):\n\u001b[1;32m   1066\u001b[0m         \u001b[39mreturn\u001b[39;00m \u001b[39mself\u001b[39m\u001b[39m.\u001b[39mobj\u001b[39m.\u001b[39m_get_value(\u001b[39m*\u001b[39mkey, takeable\u001b[39m=\u001b[39m\u001b[39mself\u001b[39m\u001b[39m.\u001b[39m_takeable)\n\u001b[0;32m-> 1067\u001b[0m     \u001b[39mreturn\u001b[39;00m \u001b[39mself\u001b[39;49m\u001b[39m.\u001b[39;49m_getitem_tuple(key)\n\u001b[1;32m   1068\u001b[0m \u001b[39melse\u001b[39;00m:\n\u001b[1;32m   1069\u001b[0m     \u001b[39m# we by definition only have the 0th axis\u001b[39;00m\n\u001b[1;32m   1070\u001b[0m     axis \u001b[39m=\u001b[39m \u001b[39mself\u001b[39m\u001b[39m.\u001b[39maxis \u001b[39mor\u001b[39;00m \u001b[39m0\u001b[39m\n",
            "File \u001b[0;32m~/regul/venv/lib/python3.9/site-packages/pandas/core/indexing.py:1247\u001b[0m, in \u001b[0;36m_LocIndexer._getitem_tuple\u001b[0;34m(self, tup)\u001b[0m\n\u001b[1;32m   1245\u001b[0m \u001b[39mwith\u001b[39;00m suppress(IndexingError):\n\u001b[1;32m   1246\u001b[0m     tup \u001b[39m=\u001b[39m \u001b[39mself\u001b[39m\u001b[39m.\u001b[39m_expand_ellipsis(tup)\n\u001b[0;32m-> 1247\u001b[0m     \u001b[39mreturn\u001b[39;00m \u001b[39mself\u001b[39;49m\u001b[39m.\u001b[39;49m_getitem_lowerdim(tup)\n\u001b[1;32m   1249\u001b[0m \u001b[39m# no multi-index, so validate all of the indexers\u001b[39;00m\n\u001b[1;32m   1250\u001b[0m tup \u001b[39m=\u001b[39m \u001b[39mself\u001b[39m\u001b[39m.\u001b[39m_validate_tuple_indexer(tup)\n",
            "File \u001b[0;32m~/regul/venv/lib/python3.9/site-packages/pandas/core/indexing.py:941\u001b[0m, in \u001b[0;36m_LocationIndexer._getitem_lowerdim\u001b[0;34m(self, tup)\u001b[0m\n\u001b[1;32m    939\u001b[0m \u001b[39m# we may have a nested tuples indexer here\u001b[39;00m\n\u001b[1;32m    940\u001b[0m \u001b[39mif\u001b[39;00m \u001b[39mself\u001b[39m\u001b[39m.\u001b[39m_is_nested_tuple_indexer(tup):\n\u001b[0;32m--> 941\u001b[0m     \u001b[39mreturn\u001b[39;00m \u001b[39mself\u001b[39;49m\u001b[39m.\u001b[39;49m_getitem_nested_tuple(tup)\n\u001b[1;32m    943\u001b[0m \u001b[39m# we maybe be using a tuple to represent multiple dimensions here\u001b[39;00m\n\u001b[1;32m    944\u001b[0m ax0 \u001b[39m=\u001b[39m \u001b[39mself\u001b[39m\u001b[39m.\u001b[39mobj\u001b[39m.\u001b[39m_get_axis(\u001b[39m0\u001b[39m)\n",
            "File \u001b[0;32m~/regul/venv/lib/python3.9/site-packages/pandas/core/indexing.py:1047\u001b[0m, in \u001b[0;36m_LocationIndexer._getitem_nested_tuple\u001b[0;34m(self, tup)\u001b[0m\n\u001b[1;32m   1044\u001b[0m     axis \u001b[39m-\u001b[39m\u001b[39m=\u001b[39m \u001b[39m1\u001b[39m\n\u001b[1;32m   1045\u001b[0m     \u001b[39mcontinue\u001b[39;00m\n\u001b[0;32m-> 1047\u001b[0m obj \u001b[39m=\u001b[39m \u001b[39mgetattr\u001b[39;49m(obj, \u001b[39mself\u001b[39;49m\u001b[39m.\u001b[39;49mname)\u001b[39m.\u001b[39;49m_getitem_axis(key, axis\u001b[39m=\u001b[39;49maxis)\n\u001b[1;32m   1048\u001b[0m axis \u001b[39m-\u001b[39m\u001b[39m=\u001b[39m \u001b[39m1\u001b[39m\n\u001b[1;32m   1050\u001b[0m \u001b[39m# if we have a scalar, we are done\u001b[39;00m\n",
            "File \u001b[0;32m~/regul/venv/lib/python3.9/site-packages/pandas/core/indexing.py:1291\u001b[0m, in \u001b[0;36m_LocIndexer._getitem_axis\u001b[0;34m(self, key, axis)\u001b[0m\n\u001b[1;32m   1289\u001b[0m     \u001b[39mself\u001b[39m\u001b[39m.\u001b[39m_validate_key(key, axis)\n\u001b[1;32m   1290\u001b[0m     \u001b[39mreturn\u001b[39;00m \u001b[39mself\u001b[39m\u001b[39m.\u001b[39m_get_slice_axis(key, axis\u001b[39m=\u001b[39maxis)\n\u001b[0;32m-> 1291\u001b[0m \u001b[39melif\u001b[39;00m com\u001b[39m.\u001b[39;49mis_bool_indexer(key):\n\u001b[1;32m   1292\u001b[0m     \u001b[39mreturn\u001b[39;00m \u001b[39mself\u001b[39m\u001b[39m.\u001b[39m_getbool_axis(key, axis\u001b[39m=\u001b[39maxis)\n\u001b[1;32m   1293\u001b[0m \u001b[39melif\u001b[39;00m is_list_like_indexer(key):\n\u001b[1;32m   1294\u001b[0m \n\u001b[1;32m   1295\u001b[0m     \u001b[39m# an iterable multi-selection\u001b[39;00m\n",
            "File \u001b[0;32m~/regul/venv/lib/python3.9/site-packages/pandas/core/common.py:124\u001b[0m, in \u001b[0;36mis_bool_indexer\u001b[0;34m(key)\u001b[0m\n\u001b[1;32m     96\u001b[0m \u001b[39mdef\u001b[39;00m \u001b[39mis_bool_indexer\u001b[39m(key: Any) \u001b[39m-\u001b[39m\u001b[39m>\u001b[39m \u001b[39mbool\u001b[39m:\n\u001b[1;32m     97\u001b[0m \u001b[39m    \u001b[39m\u001b[39m\"\"\"\u001b[39;00m\n\u001b[1;32m     98\u001b[0m \u001b[39m    Check whether `key` is a valid boolean indexer.\u001b[39;00m\n\u001b[1;32m     99\u001b[0m \n\u001b[0;32m   (...)\u001b[0m\n\u001b[1;32m    122\u001b[0m \u001b[39m        and convert to an ndarray.\u001b[39;00m\n\u001b[1;32m    123\u001b[0m \u001b[39m    \"\"\"\u001b[39;00m\n\u001b[0;32m--> 124\u001b[0m     \u001b[39mif\u001b[39;00m \u001b[39misinstance\u001b[39;49m(key, (ABCSeries, np\u001b[39m.\u001b[39;49mndarray, ABCIndex)) \u001b[39mor\u001b[39;00m (\n\u001b[1;32m    125\u001b[0m         is_array_like(key) \u001b[39mand\u001b[39;00m is_extension_array_dtype(key\u001b[39m.\u001b[39mdtype)\n\u001b[1;32m    126\u001b[0m     ):\n\u001b[1;32m    127\u001b[0m         \u001b[39mif\u001b[39;00m key\u001b[39m.\u001b[39mdtype \u001b[39m==\u001b[39m np\u001b[39m.\u001b[39mobject_:\n\u001b[1;32m    128\u001b[0m             key_array \u001b[39m=\u001b[39m np\u001b[39m.\u001b[39masarray(key)\n",
            "File \u001b[0;32m~/regul/venv/lib/python3.9/site-packages/pandas/core/dtypes/generic.py:47\u001b[0m, in \u001b[0;36mcreate_pandas_abc_type.<locals>._instancecheck\u001b[0;34m(cls, inst)\u001b[0m\n\u001b[1;32m     45\u001b[0m \u001b[39m@classmethod\u001b[39m  \u001b[39m# type: ignore[misc]\u001b[39;00m\n\u001b[1;32m     46\u001b[0m \u001b[39mdef\u001b[39;00m \u001b[39m_instancecheck\u001b[39m(\u001b[39mcls\u001b[39m, inst) \u001b[39m-\u001b[39m\u001b[39m>\u001b[39m \u001b[39mbool\u001b[39m:\n\u001b[0;32m---> 47\u001b[0m     \u001b[39mreturn\u001b[39;00m _check(inst) \u001b[39mand\u001b[39;00m \u001b[39mnot\u001b[39;00m \u001b[39misinstance\u001b[39m(inst, \u001b[39mtype\u001b[39m)\n",
            "\u001b[0;31mKeyboardInterrupt\u001b[0m: "
          ]
        }
      ],
      "source": [
        "sc = schedule_from_simulation(infra, res, simplify_route_names=True)\n",
        "sc = sc.add_delay(1,'STOP.1->DA2', 350).sort()\n",
        "env = RegulEnv(sc, stations = ['DB1->STOP.2', 'DB2->STOP.3'])\n",
        "\n",
        "for delay in tqdm(np.random.default_rng().uniform(0, 700, 50)):\n",
        "    env.reset(train=0, delay=delay, track_section='STOP.0->DA1')\n",
        "\n",
        "    done = ~env.schedule.has_conflicts(env.delayed_train)\n",
        "    while not done:\n",
        "        # print(delay, env.schedule.first_conflict(env.delayed_train))\n",
        "        s = data_from_env(env)\n",
        "        a = env.action_space.sample()\n",
        "        obs, reward, done, _ = env.step(a)\n",
        "        sprime = data_from_env(env)\n",
        "        memory.push(\n",
        "            s,\n",
        "            torch.tensor([a]),\n",
        "            sprime,\n",
        "            torch.tensor([reward], dtype=float),\n",
        "            torch.tensor([done], dtype=torch.long)\n",
        "        )\n",
        "\n",
        "        "
      ]
    },
    {
      "cell_type": "code",
      "execution_count": null,
      "metadata": {},
      "outputs": [],
      "source": [
        "batch = memory.sample(25)\n",
        "states_, actions_, next_states_, rewards_, done_= list(zip(*batch))\n",
        "\n",
        "actions = torch.stack(actions_)\n",
        "rewards = torch.stack(rewards_)\n",
        "dones = torch.stack(done_)\n",
        "states = DataLoader(states_, batch_size=len(states_))\n",
        "next_states = DataLoader(next_states_, batch_size=len(next_states_))"
      ]
    },
    {
      "cell_type": "code",
      "execution_count": null,
      "metadata": {},
      "outputs": [],
      "source": [
        "import torch.nn.functional as F\n",
        "from torch.nn import Linear\n",
        "from torch_geometric.nn import GCNConv\n",
        "\n",
        "NUM_NODE_FEATURES = 4\n",
        "\n",
        "class DQGCN(torch.nn.Module):\n",
        "    def __init__(self):\n",
        "        super().__init__()\n",
        "        self.conv1 = GCNConv(NUM_NODE_FEATURES, 16)\n",
        "        self.conv2 = GCNConv(16, 8)\n",
        "        self.linear = Linear(8, 2)\n",
        "\n",
        "    def forward(self, data):\n",
        "        x, edge_index = data.x, data.edge_index\n",
        "\n",
        "        x = F.relu(self.conv1(x, edge_index))\n",
        "        x = F.relu(self.conv2(x, edge_index))\n",
        "        x = self.linear(x)\n",
        "\n",
        "        return x"
      ]
    },
    {
      "cell_type": "code",
      "execution_count": null,
      "metadata": {},
      "outputs": [],
      "source": [
        "from torch.nn import SmoothL1Loss, MSELoss"
      ]
    },
    {
      "cell_type": "code",
      "execution_count": null,
      "metadata": {},
      "outputs": [],
      "source": [
        "delays= list(range(60,640,20))"
      ]
    },
    {
      "cell_type": "code",
      "execution_count": null,
      "metadata": {},
      "outputs": [],
      "source": [
        "test_states = []\n",
        "for delay in tqdm(delays):\n",
        "    env.reset(train=0, delay=delay, track_section='STOP.0->DA1')\n",
        "    test_states.append(data_from_env(env))"
      ]
    },
    {
      "cell_type": "code",
      "execution_count": null,
      "metadata": {},
      "outputs": [],
      "source": [
        "import matplotlib.pyplot as plt\n",
        "from IPython import display"
      ]
    },
    {
      "cell_type": "code",
      "execution_count": null,
      "metadata": {},
      "outputs": [],
      "source": [
        "device = torch.device('cuda' if torch.cuda.is_available() else 'cpu')\n",
        "online_net = DQGCN().to(device)\n",
        "target_net = DQGCN().to(device)\n",
        "target_net.load_state_dict(online_net.state_dict())\n",
        "\n",
        "optimizer = torch.optim.Adam(online_net.parameters(), lr=1e-2)\n",
        "loss_func = SmoothL1Loss()\n",
        "\n",
        "\n",
        "online_net.train()\n",
        "losses = []\n",
        "# for epoch in tqdm(range(1001)):\n",
        "for epoch in range(501):\n",
        "    \n",
        "    # sample from replay buffer\n",
        "    batch = memory.sample(len(memory))\n",
        "    states_, actions_, next_states_, rewards_, done_= list(zip(*batch))\n",
        "\n",
        "    actions = torch.stack(actions_)\n",
        "    rewards = torch.stack(rewards_)\n",
        "    dones = torch.stack(done_)\n",
        "    states = DataLoader(states_, batch_size=len(states_))\n",
        "    next_states = DataLoader(next_states_, batch_size=len(next_states_))\n",
        "    batch_states = [batch for batch in states][0]\n",
        "    batch_next_states = [batch for batch in next_states][0]\n",
        "\n",
        "    out = online_net(batch_states)[batch_states.pos_conflict].gather(1, actions)\n",
        "    target = (\n",
        "        rewards +\n",
        "        0.9 * target_net(batch_next_states)[batch_next_states.pos_conflict].max(1)[0]\n",
        "        .unsqueeze(1)\n",
        "        * (1 - done)\n",
        "    )\n",
        "    loss = loss_func(out, target)\n",
        "    optimizer.zero_grad()\n",
        "    loss.backward()\n",
        "    optimizer.step()\n",
        "    losses.append(loss.detach().item())\n",
        "    if epoch % 20 == 0:\n",
        "        target_net.load_state_dict(online_net.state_dict())\n",
        "        plt.figure(1)\n",
        "        plt.clf()\n",
        "        plt.plot(losses)\n",
        "        plt.pause(0.001)\n",
        "        display.clear_output(wait=True)"
      ]
    },
    {
      "cell_type": "code",
      "execution_count": null,
      "metadata": {},
      "outputs": [],
      "source": [
        "plt.plot(losses)"
      ]
    },
    {
      "cell_type": "code",
      "execution_count": null,
      "metadata": {},
      "outputs": [],
      "source": [
        "batch_test = [batch for batch in DataLoader(test_states, batch_size=len(test_states))][0]\n",
        "res = online_net(batch_test)[batch_test.pos_conflict]\n",
        "x = res.gather(1, torch.tensor([[0] for _ in range(len(res))])).squeeze().detach()\n",
        "y = res.gather(1, torch.tensor([[1] for _ in range(len(res))])).squeeze().detach()"
      ]
    },
    {
      "cell_type": "code",
      "execution_count": null,
      "metadata": {},
      "outputs": [],
      "source": [
        "\n",
        "plt.plot(delays,-x,delays,-y)"
      ]
    },
    {
      "attachments": {},
      "cell_type": "markdown",
      "metadata": {},
      "source": [
        "## Brute force"
      ]
    },
    {
      "cell_type": "code",
      "execution_count": null,
      "metadata": {},
      "outputs": [],
      "source": [
        "import numpy as np\n",
        "\n",
        "total_delay_0 = []\n",
        "total_delay_1 = []\n",
        "\n",
        "for delay in tqdm(delays):\n",
        "    env.reset(train=0, delay=delay, track_section='STOP.0->DA1')\n",
        "    try:\n",
        "        _, reward, _, _ = env.step(0)\n",
        "    except:\n",
        "        reward = np.nan\n",
        "    total_delay_0.append(-reward)\n",
        "    env.reset(train=0, delay=delay, track_section='STOP.0->DA1')\n",
        "    try:\n",
        "        _, reward, _, _ = env.step(1)\n",
        "    except:\n",
        "        reward = np.nan\n",
        "    total_delay_1.append(-reward)"
      ]
    },
    {
      "cell_type": "code",
      "execution_count": null,
      "metadata": {},
      "outputs": [],
      "source": [
        "plt.plot(delays, total_delay_0, '-.', label='Delayed train waits', color='blue')\n",
        "plt.plot(delays,-x, '--', color='blue', label='Learned')\n",
        "plt.plot(delays, total_delay_1,  '-.', label='Delayed train has the priority', color='orange')\n",
        "plt.plot(delays,-y, '--', color='orange', label='Learned')\n",
        "plt.plot(delays, np.minimum(-x, -y), 'g-', label='Learned (No greedy)')\n",
        "plt.legend()\n",
        "plt.xlabel('First train delay')\n",
        "plt.ylabel('$Q(s,a)$ = Total delay at stations')"
      ]
    },
    {
      "cell_type": "code",
      "execution_count": null,
      "metadata": {},
      "outputs": [],
      "source": [
        "env.schedule.df"
      ]
    },
    {
      "cell_type": "code",
      "execution_count": null,
      "metadata": {},
      "outputs": [],
      "source": []
    }
  ],
  "metadata": {
    "kernelspec": {
      "display_name": "venv",
      "language": "python",
      "name": "python3"
    },
    "language_info": {
      "codemirror_mode": {
        "name": "ipython",
        "version": 3
      },
      "file_extension": ".py",
      "mimetype": "text/x-python",
      "name": "python",
      "nbconvert_exporter": "python",
      "pygments_lexer": "ipython3",
      "version": "3.9.16"
    },
    "orig_nbformat": 4,
    "vscode": {
      "interpreter": {
        "hash": "5cc38324b67b59cc75c97b6e75f224448340294f41136959c09e7541df65d672"
      }
    }
  },
  "nbformat": 4,
  "nbformat_minor": 2
}
