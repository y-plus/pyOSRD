{
 "cells": [
  {
   "cell_type": "code",
   "execution_count": 13,
   "metadata": {},
   "outputs": [],
   "source": [
    "from railjson_generator import (\n",
    "    InfraBuilder,\n",
    "    SimulationBuilder,\n",
    "    ApplicableDirection,\n",
    "    Location,\n",
    ")\n",
    "from railjson_generator.schema.infra.direction import Direction\n"
   ]
  },
  {
   "cell_type": "code",
   "execution_count": 14,
   "metadata": {},
   "outputs": [],
   "source": [
    "builder = InfraBuilder()"
   ]
  },
  {
   "cell_type": "code",
   "execution_count": 15,
   "metadata": {},
   "outputs": [],
   "source": [
    "T0 = builder.add_track_section(label='T0', length=500, track_number=0,)\n",
    "T1 = builder.add_track_section(label='T1', length=500, track_number=1,)\n",
    "T2 = builder.add_track_section(label='T2', length=500, track_number=2,)"
   ]
  },
  {
   "cell_type": "code",
   "execution_count": 16,
   "metadata": {},
   "outputs": [
    {
     "data": {
      "text/plain": [
       "BufferStop(position=500, waypoint_type='buffer_stop', label='buffer_stop.2', applicable_direction=<ApplicableDirection.START_TO_STOP: 0>)"
      ]
     },
     "execution_count": 16,
     "metadata": {},
     "output_type": "execute_result"
    }
   ],
   "source": [
    "T0.add_buffer_stop(label=\"buffer_stop.0\", position=0, applicable_direction=ApplicableDirection.START_TO_STOP)\n",
    "T1.add_buffer_stop(label=\"buffer_stop.1\", position=0, applicable_direction=ApplicableDirection.START_TO_STOP)\n",
    "T2.add_buffer_stop(label='buffer_stop.2', position=500, applicable_direction=ApplicableDirection.START_TO_STOP)"
   ]
  },
  {
   "cell_type": "code",
   "execution_count": 17,
   "metadata": {},
   "outputs": [],
   "source": [
    "P0 = builder.add_point_switch(T2.begin(), T0.end(), T1.end())"
   ]
  },
  {
   "cell_type": "code",
   "execution_count": 18,
   "metadata": {},
   "outputs": [],
   "source": [
    "D0 = T0.add_detector(position=400, label='D0')\n",
    "S0 = T0.add_signal(D0.position-20, Direction.START_TO_STOP, D0)\n",
    "D1 = T1.add_detector(position=400, label='D1')\n",
    "S1 = T1.add_signal(D1.position-20, Direction.START_TO_STOP, D1)\n",
    "D2 = T2.add_detector(position=100, label='D2')\n",
    "S2 = T2.add_signal(D2.position-20, Direction.START_TO_STOP, D2)\n",
    "D3 = T2.add_detector(position=400, label='D3')\n",
    "S3 = T2.add_signal(D3.position-20, Direction.START_TO_STOP, D3)"
   ]
  },
  {
   "cell_type": "code",
   "execution_count": 19,
   "metadata": {},
   "outputs": [],
   "source": [
    "infra = builder.build()\n",
    "infra.save(\"myInfra.json\")"
   ]
  },
  {
   "cell_type": "code",
   "execution_count": null,
   "metadata": {},
   "outputs": [],
   "source": [
    "builder = SimulationBuilder(infra)"
   ]
  },
  {
   "cell_type": "code",
   "execution_count": null,
   "metadata": {},
   "outputs": [],
   "source": [
    "train0 = builder.add_train_schedule(\n",
    "    Location(T0, 100),\n",
    "    Location(T2, 400),\n",
    "    label='train0',\n",
    "    departure_time=0\n",
    ")"
   ]
  },
  {
   "cell_type": "code",
   "execution_count": null,
   "metadata": {},
   "outputs": [],
   "source": [
    "train2 = builder.add_train_schedule(\n",
    "    Location(T1, 100),\n",
    "    Location(T2, 400),\n",
    "    label='train2',\n",
    "    departure_time=10\n",
    ")"
   ]
  },
  {
   "cell_type": "code",
   "execution_count": null,
   "metadata": {},
   "outputs": [],
   "source": [
    "sim = builder.build()\n",
    "sim.save('mySim.json')"
   ]
  },
  {
   "cell_type": "code",
   "execution_count": null,
   "metadata": {},
   "outputs": [],
   "source": []
  }
 ],
 "metadata": {
  "kernelspec": {
   "display_name": "venv",
   "language": "python",
   "name": "python3"
  },
  "language_info": {
   "codemirror_mode": {
    "name": "ipython",
    "version": 3
   },
   "file_extension": ".py",
   "mimetype": "text/x-python",
   "name": "python",
   "nbconvert_exporter": "python",
   "pygments_lexer": "ipython3",
   "version": "3.9.16"
  },
  "orig_nbformat": 4,
  "vscode": {
   "interpreter": {
    "hash": "5cc38324b67b59cc75c97b6e75f224448340294f41136959c09e7541df65d672"
   }
  }
 },
 "nbformat": 4,
 "nbformat_minor": 2
}
