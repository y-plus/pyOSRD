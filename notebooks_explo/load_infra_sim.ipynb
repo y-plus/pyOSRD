{
 "cells": [
  {
   "cell_type": "code",
   "execution_count": 1,
   "metadata": {},
   "outputs": [],
   "source": [
    "%load_ext autoreload\n",
    "%autoreload 2"
   ]
  },
  {
   "cell_type": "code",
   "execution_count": 2,
   "metadata": {},
   "outputs": [],
   "source": [
    "import rlway.osrd.infra as infr"
   ]
  },
  {
   "cell_type": "code",
   "execution_count": 3,
   "metadata": {},
   "outputs": [],
   "source": [
    "infra, sim, res = infr.read_jsons_in_dir('../cases/2cvg')"
   ]
  },
  {
   "cell_type": "code",
   "execution_count": 4,
   "metadata": {},
   "outputs": [
    {
     "data": {
      "text/html": [
       "<img src=\"https://mermaid.ink/img/Z3JhcGggTFI7REExLS0+REFfb3V0O2J1ZmZlcl9zdG9wLjAtLT5EQTE7REEyLS0+REFfb3V0O2J1ZmZlcl9zdG9wLjEtLT5EQTI7REFfb3V0LS0+RDA7RDAtLT5EMTtEMS0tPkQyO0QyLS0+RDM7RDMtLT5ENDtENC0tPkQ1O0Q1LS0+RDY7RDYtLT5ENztENy0tPkQ4O0Q4LS0+REJfaW47REJfaW4tLT5EQjI7REJfaW4tLT5EQjE7REIxLS0+YnVmZmVyX3N0b3AuMjtEQjItLT5idWZmZXJfc3RvcC4zO0RDMS0tPkQ1O2J1ZmZlcl9zdG9wLjQtLT5EQzE=\"/>"
      ],
      "text/plain": [
       "<IPython.core.display.Image object>"
      ]
     },
     "metadata": {},
     "output_type": "display_data"
    }
   ],
   "source": [
    "infr.draw_infra(infra)"
   ]
  },
  {
   "cell_type": "code",
   "execution_count": 5,
   "metadata": {},
   "outputs": [
    {
     "data": {
      "text/plain": [
       "['SA1', 'SA2', 'S4', 'SC1']"
      ]
     },
     "execution_count": 5,
     "metadata": {},
     "output_type": "execute_result"
    }
   ],
   "source": [
    "import networkx as nx\n",
    "\n",
    "G = nx.DiGraph()\n",
    "G.add_edges_from(\n",
    "[\n",
    "    (\n",
    "        route['id'].replace('rt.','').split('->')[0],\n",
    "        route['id'].replace('rt.','').split('->')[1],\n",
    "    )\n",
    "    for route in infra['routes']\n",
    "]\n",
    ")\n",
    "\n",
    "convergence_entry_detectors = []\n",
    "for node in G:\n",
    "    if len(list(G.predecessors(node))) > 1:\n",
    "        convergence_entry_detectors += list(G.predecessors(node))\n",
    "\n",
    "cvg_signals = [\n",
    "    s['id']\n",
    "    for d in convergence_entry_detectors\n",
    "    for s in infra['signals'] if s['linked_detector']==d \n",
    "]\n",
    "\n",
    "cvg_signals"
   ]
  },
  {
   "cell_type": "code",
   "execution_count": 6,
   "metadata": {},
   "outputs": [],
   "source": [
    "track_sections_elements = {\n",
    "    track['id']: {}\n",
    "    for track in infra['track_sections']\n",
    "}\n",
    "\n",
    "for element in infra['detectors']:\n",
    "    track = element['track']\n",
    "    id = element['id']\n",
    "    track_sections_elements[track][(id, 'detector')] = element['position']\n",
    "\n",
    "for element in infra['signals']:\n",
    "    track = element['track']\n",
    "    id = element['id']\n",
    "    position = element['position']\n",
    "    tag = 'cvg_signal' if id in cvg_signals else 'signal'\n",
    "    track_sections_elements[track][(id, tag)] = element['position']\n",
    "\n",
    "for station in infra['operational_points']:\n",
    "    id = station['id']\n",
    "    for part in station['parts']:\n",
    "        track = part['track']\n",
    "        track_sections_elements[track][(id, 'station')] = part['position']\n",
    "\n",
    "for track, elements in track_sections_elements.items():\n",
    "    track_sections_elements[track] = \\\n",
    "        {\n",
    "            k: v for k,v in sorted(\n",
    "                track_sections_elements[track].items(),\n",
    "                key=lambda item: item[1]\n",
    "            )\n",
    "        }"
   ]
  },
  {
   "cell_type": "code",
   "execution_count": 7,
   "metadata": {},
   "outputs": [],
   "source": [
    "trajs = [\n",
    "    list(dict.fromkeys([\n",
    "        time[\"track_section\"]\n",
    "        for time in res[train]['base_simulations'][0]['head_positions']\n",
    "    ]))\n",
    "    for train, _ in enumerate(res)\n",
    "]"
   ]
  },
  {
   "cell_type": "code",
   "execution_count": 8,
   "metadata": {},
   "outputs": [
    {
     "data": {
      "text/plain": [
       "['Station_WEST', 'SA1', 'S4', 'Station_EAST']"
      ]
     },
     "execution_count": 8,
     "metadata": {},
     "output_type": "execute_result"
    }
   ],
   "source": [
    "train = 0\n",
    "[\n",
    "    key[0]\n",
    "    for track in trajs[train]\n",
    "    for key in track_sections_elements[track].keys()\n",
    "    if key[1] in ['station', 'cvg_signal']\n",
    "]"
   ]
  },
  {
   "cell_type": "code",
   "execution_count": 9,
   "metadata": {},
   "outputs": [],
   "source": [
    "def draw_digraph(G):\n",
    "    for layer, nodes in enumerate(nx.topological_generations(G)):\n",
    "        # `multipartite_layout` expects the layer as a node attribute,\n",
    "        # so add the numeric layer value as a node attribute\n",
    "        for node in nodes:\n",
    "            G.nodes[node][\"layer\"] = layer\n",
    "\n",
    "    # Compute the multipartite_layout using the \"layer\" node attribute\n",
    "    pos = nx.multipartite_layout(G, subset_key=\"layer\")\n",
    "\n",
    "    # _, ax = plt.subplots()\n",
    "    nx.draw_networkx(G, pos, node_shape='s', )  # ax=ax)"
   ]
  },
  {
   "cell_type": "code",
   "execution_count": 10,
   "metadata": {},
   "outputs": [],
   "source": [
    "from typing import Dict, Any\n",
    "\n",
    "\n",
    "def num_trains(sim: Dict) -> int:\n",
    "    return len(sim['train_schedules'])"
   ]
  },
  {
   "cell_type": "code",
   "execution_count": null,
   "metadata": {},
   "outputs": [],
   "source": []
  }
 ],
 "metadata": {
  "kernelspec": {
   "display_name": "venv",
   "language": "python",
   "name": "python3"
  },
  "language_info": {
   "codemirror_mode": {
    "name": "ipython",
    "version": 3
   },
   "file_extension": ".py",
   "mimetype": "text/x-python",
   "name": "python",
   "nbconvert_exporter": "python",
   "pygments_lexer": "ipython3",
   "version": "3.9.16"
  },
  "orig_nbformat": 4
 },
 "nbformat": 4,
 "nbformat_minor": 2
}
