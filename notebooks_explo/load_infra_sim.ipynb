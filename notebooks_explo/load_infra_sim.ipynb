{
 "cells": [
  {
   "cell_type": "code",
   "execution_count": 1,
   "metadata": {},
   "outputs": [],
   "source": [
    "%load_ext autoreload\n",
    "%autoreload 2"
   ]
  },
  {
   "cell_type": "code",
   "execution_count": 2,
   "metadata": {},
   "outputs": [],
   "source": [
    "import rlway.osrd.infra as infr"
   ]
  },
  {
   "cell_type": "code",
   "execution_count": 15,
   "metadata": {},
   "outputs": [],
   "source": [
    "infra, simulation, result = infr.read_jsons_in_dir('../cases/2cvg')"
   ]
  },
  {
   "cell_type": "code",
   "execution_count": 16,
   "metadata": {},
   "outputs": [
    {
     "data": {
      "text/html": [
       "<img src=\"https://mermaid.ink/img/Z3JhcGggTFI7REExLS0+REFfb3V0O2J1ZmZlcl9zdG9wLjAtLT5EQTE7REEyLS0+REFfb3V0O2J1ZmZlcl9zdG9wLjEtLT5EQTI7REFfb3V0LS0+RDA7RDAtLT5EMTtEMS0tPkQyO0QyLS0+RDM7RDMtLT5ENDtENC0tPkQ1O0Q1LS0+RDY7RDYtLT5ENztENy0tPkQ4O0Q4LS0+REJfaW47REJfaW4tLT5EQjI7REJfaW4tLT5EQjE7REIxLS0+YnVmZmVyX3N0b3AuMjtEQjItLT5idWZmZXJfc3RvcC4zO0RDMS0tPkQ1O2J1ZmZlcl9zdG9wLjQtLT5EQzE=\"/>"
      ],
      "text/plain": [
       "<IPython.core.display.Image object>"
      ]
     },
     "metadata": {},
     "output_type": "display_data"
    }
   ],
   "source": [
    "infr.draw_infra(infra)"
   ]
  },
  {
   "cell_type": "code",
   "execution_count": 23,
   "metadata": {},
   "outputs": [
    {
     "data": {
      "text/plain": [
       "['SA1', 'SA2', 'S4', 'SC1']"
      ]
     },
     "execution_count": 23,
     "metadata": {},
     "output_type": "execute_result"
    }
   ],
   "source": [
    "cvg_signals = infr.convergence_entry_signals(infra)\n",
    "cvg_signals"
   ]
  },
  {
   "cell_type": "code",
   "execution_count": 52,
   "metadata": {},
   "outputs": [
    {
     "data": {
      "text/plain": [
       "{'WEST_Q1': {'WEST_Q1_BEGIN': (0, 'begin'),\n",
       "  'Station_WEST': (400.0, 'station'),\n",
       "  'SA1': (410.0, 'cvg_signal'),\n",
       "  'DA1': (430.0, 'detector'),\n",
       "  'WEST_Q1_END': (450.0, 'end')},\n",
       " 'WEST_Q2': {'WEST_Q2_BEGIN': (0, 'begin'),\n",
       "  'Station_WEST': (400.0, 'station'),\n",
       "  'SA2': (410.0, 'cvg_signal'),\n",
       "  'DA2': (430.0, 'detector'),\n",
       "  'WEST_Q2_END': (450.0, 'end')},\n",
       " 'T1': {'T1_BEGIN': (0, 'begin'),\n",
       "  'SA3': (30.0, 'signal'),\n",
       "  'DA_out': (50.0, 'detector'),\n",
       "  'S0': (1960.0, 'signal'),\n",
       "  'D0': (1980.0, 'detector'),\n",
       "  'S1': (3940.0, 'signal'),\n",
       "  'D1': (3960.0, 'detector'),\n",
       "  'S2': (5920.0, 'signal'),\n",
       "  'D2': (5940.0, 'detector'),\n",
       "  'S3': (7900.0, 'signal'),\n",
       "  'D3': (7920.0, 'detector'),\n",
       "  'S4': (9880.0, 'cvg_signal'),\n",
       "  'D4': (9900.0, 'detector'),\n",
       "  'T1_END': (10000.0, 'end')},\n",
       " 'T2': {'T2_BEGIN': (0, 'begin'),\n",
       "  'S5': (1960.0, 'signal'),\n",
       "  'D5': (1980.0, 'detector'),\n",
       "  'S6': (3940.0, 'signal'),\n",
       "  'D6': (3960.0, 'detector'),\n",
       "  'S7': (5920.0, 'signal'),\n",
       "  'D7': (5940.0, 'detector'),\n",
       "  'S8': (7900.0, 'signal'),\n",
       "  'D8': (7920.0, 'detector'),\n",
       "  'SB_in': (9950.0, 'signal'),\n",
       "  'DB_in': (9970.0, 'detector'),\n",
       "  'T2_END': (10000.0, 'end')},\n",
       " 'EAST_Q1': {'EAST_Q1_BEGIN': (0, 'begin'),\n",
       "  'SB1': (10.0, 'signal'),\n",
       "  'DB1': (30.0, 'detector'),\n",
       "  'Station_EAST': (400.0, 'station'),\n",
       "  'EAST_Q1_END': (450.0, 'end')},\n",
       " 'EAST_Q2': {'EAST_Q2_BEGIN': (0, 'begin'),\n",
       "  'SB2': (10.0, 'signal'),\n",
       "  'DB2': (30.0, 'detector'),\n",
       "  'Station_EAST': (400.0, 'station'),\n",
       "  'EAST_Q2_END': (450.0, 'end')},\n",
       " 'SOUTH_Q1': {'SOUTH_Q1_BEGIN': (0, 'begin'),\n",
       "  'Station_SOUTH': (400.0, 'station'),\n",
       "  'SC1': (410.0, 'cvg_signal'),\n",
       "  'DC1': (430.0, 'detector'),\n",
       "  'SOUTH_Q1_END': (450.0, 'end')}}"
      ]
     },
     "execution_count": 52,
     "metadata": {},
     "output_type": "execute_result"
    }
   ],
   "source": [
    "infr.points_on_track_sections(infra)"
   ]
  },
  {
   "cell_type": "code",
   "execution_count": 39,
   "metadata": {},
   "outputs": [],
   "source": [
    "import rlway.osrd.result as res\n",
    "\n",
    "points = []\n",
    "\n",
    "for ts in res.train_track_sections(result, 0):\n",
    "    points += [\n",
    "        point\n",
    "        for point, (position, tag) in infr.points_on_track_sections(infra)[ts].items()\n",
    "        if tag in ['station', 'cvg_signal']\n",
    "    ]"
   ]
  },
  {
   "cell_type": "code",
   "execution_count": 76,
   "metadata": {},
   "outputs": [
    {
     "data": {
      "text/plain": [
       "[('Station_SOUTH', 'SOUTH_Q1', 400.0, 'station'),\n",
       " ('SC1', 'SOUTH_Q1', 410.0, 'cvg_signal'),\n",
       " ('Station_EAST', 'EAST_Q2', 10850.0, 'station')]"
      ]
     },
     "execution_count": 76,
     "metadata": {},
     "output_type": "execute_result"
    }
   ],
   "source": [
    "res.points_encountered_by_train(infra, result, 0,)\n",
    "res.points_encountered_by_train(infra, result, 1, ['station', 'cvg_signal'])"
   ]
  },
  {
   "cell_type": "code",
   "execution_count": 83,
   "metadata": {},
   "outputs": [
    {
     "data": {
      "text/plain": [
       "{'head_positions': [{'offset': 400.0,\n",
       "   'path_offset': 0.0,\n",
       "   'time': 0.0,\n",
       "   'track_section': 'SOUTH_Q1'},\n",
       "  {'offset': 403.6877089403523,\n",
       "   'path_offset': 3.6877089403523287,\n",
       "   'time': 4.0,\n",
       "   'track_section': 'SOUTH_Q1'},\n",
       "  {'offset': 423.01636855729333,\n",
       "   'path_offset': 23.01636855729334,\n",
       "   'time': 10.0,\n",
       "   'track_section': 'SOUTH_Q1'},\n",
       "  {'offset': 445.0655840853055,\n",
       "   'path_offset': 45.065584085305474,\n",
       "   'time': 14.0,\n",
       "   'track_section': 'SOUTH_Q1'},\n",
       "  {'offset': 41.806943648718715,\n",
       "   'path_offset': 91.80694364871871,\n",
       "   'time': 20.0,\n",
       "   'track_section': 'T2'},\n",
       "  {'offset': 82.02578194409776,\n",
       "   'path_offset': 132.02578194409776,\n",
       "   'time': 24.0,\n",
       "   'track_section': 'T2'},\n",
       "  {'offset': 155.8111505355178,\n",
       "   'path_offset': 205.8111505355178,\n",
       "   'time': 30.0,\n",
       "   'track_section': 'T2'},\n",
       "  {'offset': 213.87671506148,\n",
       "   'path_offset': 263.87671506148,\n",
       "   'time': 34.0,\n",
       "   'track_section': 'T2'},\n",
       "  {'offset': 314.0010855583903,\n",
       "   'path_offset': 364.0010855583903,\n",
       "   'time': 40.0,\n",
       "   'track_section': 'T2'},\n",
       "  {'offset': 513.8872106029471,\n",
       "   'path_offset': 563.8872106029471,\n",
       "   'time': 50.0,\n",
       "   'track_section': 'T2'},\n",
       "  {'offset': 651.6683698059925,\n",
       "   'path_offset': 701.6683698059925,\n",
       "   'time': 56.0,\n",
       "   'track_section': 'T2'},\n",
       "  {'offset': 802.0961623123302,\n",
       "   'path_offset': 852.0961623123302,\n",
       "   'time': 62.0,\n",
       "   'track_section': 'T2'},\n",
       "  {'offset': 1080.596493256904,\n",
       "   'path_offset': 1130.596493256904,\n",
       "   'time': 72.0,\n",
       "   'track_section': 'T2'},\n",
       "  {'offset': 1264.2283967487497,\n",
       "   'path_offset': 1314.2283967487497,\n",
       "   'time': 78.0,\n",
       "   'track_section': 'T2'},\n",
       "  {'offset': 1460.1587794434436,\n",
       "   'path_offset': 1510.1587794434436,\n",
       "   'time': 84.0,\n",
       "   'track_section': 'T2'},\n",
       "  {'offset': 1668.2792793467538,\n",
       "   'path_offset': 1718.2792793467538,\n",
       "   'time': 90.0,\n",
       "   'track_section': 'T2'},\n",
       "  {'offset': 1888.4677897851884,\n",
       "   'path_offset': 1938.4677897851884,\n",
       "   'time': 96.0,\n",
       "   'track_section': 'T2'},\n",
       "  {'offset': 2120.549469793094,\n",
       "   'path_offset': 2170.549469793094,\n",
       "   'time': 102.0,\n",
       "   'track_section': 'T2'},\n",
       "  {'offset': 2364.2934790995873,\n",
       "   'path_offset': 2414.2934790995873,\n",
       "   'time': 108.0,\n",
       "   'track_section': 'T2'},\n",
       "  {'offset': 2619.444595070302,\n",
       "   'path_offset': 2669.444595070302,\n",
       "   'time': 114.0,\n",
       "   'track_section': 'T2'},\n",
       "  {'offset': 2885.658926414239,\n",
       "   'path_offset': 2935.658926414239,\n",
       "   'time': 120.0,\n",
       "   'track_section': 'T2'},\n",
       "  {'offset': 3162.563990754671,\n",
       "   'path_offset': 3212.563990754671,\n",
       "   'time': 126.0,\n",
       "   'track_section': 'T2'},\n",
       "  {'offset': 3547.7120954580014,\n",
       "   'path_offset': 3597.7120954580014,\n",
       "   'time': 134.0,\n",
       "   'track_section': 'T2'},\n",
       "  {'offset': 3847.942625418014,\n",
       "   'path_offset': 3897.942625418014,\n",
       "   'time': 140.0,\n",
       "   'track_section': 'T2'},\n",
       "  {'offset': 4262.56468173267,\n",
       "   'path_offset': 4312.56468173267,\n",
       "   'time': 148.0,\n",
       "   'track_section': 'T2'},\n",
       "  {'offset': 4583.699691247772,\n",
       "   'path_offset': 4633.699691247772,\n",
       "   'time': 154.0,\n",
       "   'track_section': 'T2'},\n",
       "  {'offset': 5024.620000705183,\n",
       "   'path_offset': 5074.620000705183,\n",
       "   'time': 162.0,\n",
       "   'track_section': 'T2'},\n",
       "  {'offset': 5828.62800222063,\n",
       "   'path_offset': 5878.62800222063,\n",
       "   'time': 176.0,\n",
       "   'track_section': 'T2'},\n",
       "  {'offset': 7076.0,\n",
       "   'path_offset': 7126.0,\n",
       "   'time': 196.79771482222225,\n",
       "   'track_section': 'T2'},\n",
       "  {'offset': 7304.0,\n",
       "   'path_offset': 7354.0,\n",
       "   'time': 200.79771482222225,\n",
       "   'track_section': 'T2'},\n",
       "  {'offset': 7631.0,\n",
       "   'path_offset': 7681.0,\n",
       "   'time': 206.79771482222225,\n",
       "   'track_section': 'T2'},\n",
       "  {'offset': 7940.0,\n",
       "   'path_offset': 7990.0,\n",
       "   'time': 212.79771482222225,\n",
       "   'track_section': 'T2'},\n",
       "  {'offset': 8324.0,\n",
       "   'path_offset': 8374.0,\n",
       "   'time': 220.79771482222225,\n",
       "   'track_section': 'T2'},\n",
       "  {'offset': 8591.0,\n",
       "   'path_offset': 8641.0,\n",
       "   'time': 226.79771482222225,\n",
       "   'track_section': 'T2'},\n",
       "  {'offset': 8919.0,\n",
       "   'path_offset': 8969.0,\n",
       "   'time': 234.79771482222225,\n",
       "   'track_section': 'T2'},\n",
       "  {'offset': 9071.0,\n",
       "   'path_offset': 9121.0,\n",
       "   'time': 238.79771482222225,\n",
       "   'track_section': 'T2'},\n",
       "  {'offset': 9284.0,\n",
       "   'path_offset': 9334.0,\n",
       "   'time': 244.79771482222225,\n",
       "   'track_section': 'T2'},\n",
       "  {'offset': 9416.0,\n",
       "   'path_offset': 9466.0,\n",
       "   'time': 248.79771482222225,\n",
       "   'track_section': 'T2'},\n",
       "  {'offset': 9599.0,\n",
       "   'path_offset': 9649.0,\n",
       "   'time': 254.79771482222225,\n",
       "   'track_section': 'T2'},\n",
       "  {'offset': 9711.0,\n",
       "   'path_offset': 9761.0,\n",
       "   'time': 258.79771482222225,\n",
       "   'track_section': 'T2'},\n",
       "  {'offset': 9864.0,\n",
       "   'path_offset': 9914.0,\n",
       "   'time': 264.79771482222225,\n",
       "   'track_section': 'T2'},\n",
       "  {'offset': 9956.0,\n",
       "   'path_offset': 10006.0,\n",
       "   'time': 268.79771482222225,\n",
       "   'track_section': 'T2'},\n",
       "  {'offset': 79.0,\n",
       "   'path_offset': 10129.0,\n",
       "   'time': 274.79771482222225,\n",
       "   'track_section': 'EAST_Q2'},\n",
       "  {'offset': 151.0,\n",
       "   'path_offset': 10201.0,\n",
       "   'time': 278.79771482222225,\n",
       "   'track_section': 'EAST_Q2'},\n",
       "  {'offset': 244.0,\n",
       "   'path_offset': 10294.0,\n",
       "   'time': 284.79771482222225,\n",
       "   'track_section': 'EAST_Q2'},\n",
       "  {'offset': 296.0,\n",
       "   'path_offset': 10346.0,\n",
       "   'time': 288.79771482222225,\n",
       "   'track_section': 'EAST_Q2'},\n",
       "  {'offset': 359.0,\n",
       "   'path_offset': 10409.0,\n",
       "   'time': 294.79771482222225,\n",
       "   'track_section': 'EAST_Q2'},\n",
       "  {'offset': 391.0,\n",
       "   'path_offset': 10441.0,\n",
       "   'time': 298.79771482222225,\n",
       "   'track_section': 'EAST_Q2'},\n",
       "  {'offset': 424.0,\n",
       "   'path_offset': 10474.0,\n",
       "   'time': 304.79771482222225,\n",
       "   'track_section': 'EAST_Q2'},\n",
       "  {'offset': 440.0,\n",
       "   'path_offset': 10490.0,\n",
       "   'time': 313.79771482222225,\n",
       "   'track_section': 'EAST_Q2'}],\n",
       " 'mechanical_energy_consumed': 2049595567.95802,\n",
       " 'route_occupancies': {'rt.buffer_stop.4->DC1': {'time_head_occupy': 0.0,\n",
       "   'time_tail_free': 43.529},\n",
       "  'rt.D4->D5': {'time_head_occupy': 11.418, 'time_tail_free': 108.377},\n",
       "  'rt.DC1->D5': {'time_head_occupy': 11.418, 'time_tail_free': 108.377},\n",
       "  'rt.D5->D6': {'time_head_occupy': 98.402, 'time_tail_free': 149.837},\n",
       "  'rt.D6->D7': {'time_head_occupy': 142.192, 'time_tail_free': 184.577},\n",
       "  'rt.D7->D8': {'time_head_occupy': 177.887, 'time_tail_free': 220.71},\n",
       "  'rt.D8->DB_in': {'time_head_occupy': 212.397, 'time_tail_free': 296.063},\n",
       "  'rt.DB_in->DB2': {'time_head_occupy': 269.438, 'time_tail_free': 306.472},\n",
       "  'rt.DB_in->DB1': {'time_head_occupy': 269.438, 'time_tail_free': 306.472},\n",
       "  'rt.DB2->buffer_stop.3': {'time_head_occupy': 272.3,\n",
       "   'time_tail_free': 313.797}},\n",
       " 'signal_sightings': [{'offset': 0.0,\n",
       "   'signal': 'SC1',\n",
       "   'state': 'VL',\n",
       "   'time': 0.0},\n",
       "  {'offset': 1630.0, 'signal': 'S5', 'state': 'VL', 'time': 87.497},\n",
       "  {'offset': 3610.0, 'signal': 'S6', 'state': 'VL', 'time': 134.249},\n",
       "  {'offset': 5590.0, 'signal': 'S7', 'state': 'VL', 'time': 171.052},\n",
       "  {'offset': 7570.0, 'signal': 'S8', 'state': 'VL', 'time': 204.722},\n",
       "  {'offset': 9620.0, 'signal': 'SB_in', 'state': 'VL', 'time': 253.805},\n",
       "  {'offset': 9680.0, 'signal': 'SB2', 'state': 'VL', 'time': 255.876}],\n",
       " 'speeds': [{'position': 0.0, 'speed': 0.0, 'time': 0.0},\n",
       "  {'position': 0.922252864428832, 'speed': 0.922252864428832, 'time': 2.0},\n",
       "  {'position': 3.6877089403523287, 'speed': 1.8432032114946646, 'time': 4.0},\n",
       "  {'position': 8.293722075391658, 'speed': 2.7628099235446646, 'time': 6.0},\n",
       "  {'position': 23.01636855729334, 'speed': 4.5977722924939375, 'time': 10.0},\n",
       "  {'position': 58.8280247380274, 'speed': 7.336637964500956, 'time': 16.0},\n",
       "  {'position': 111.01420599720468, 'speed': 10.055559827317502, 'time': 22.0},\n",
       "  {'position': 179.43211440476995, 'speed': 12.745184983233454, 'time': 28.0},\n",
       "  {'position': 263.87671506148, 'speed': 15.395763048824946, 'time': 34.0},\n",
       "  {'position': 439.1804084229013, 'speed': 19.6185313566869, 'time': 44.0},\n",
       "  {'position': 654.3298865361286, 'speed': 23.31739301626245, 'time': 54.0},\n",
       "  {'position': 1015.0493607740393, 'speed': 28.197139397822923, 'time': 68.0},\n",
       "  {'position': 1378.1768659478962, 'speed': 32.31552280670609, 'time': 80.0},\n",
       "  {'position': 1790.3411982465916, 'speed': 36.36570938594909, 'time': 92.0},\n",
       "  {'position': 2250.5132668861165, 'speed': 40.30476878595238, 'time': 104.0},\n",
       "  {'position': 2756.972002537264, 'speed': 44.06926083791856, 'time': 116.0},\n",
       "  {'position': 3307.1758593727805, 'speed': 47.59018829331906, 'time': 128.0},\n",
       "  {'position': 3897.942625418014, 'speed': 50.822082554245334, 'time': 140.0},\n",
       "  {'position': 4525.718669486172, 'speed': 53.759817246788124, 'time': 152.0},\n",
       "  {'position': 5187.023560238864, 'speed': 56.41357869517583, 'time': 164.0},\n",
       "  {'position': 6723.764336596783,\n",
       "   'speed': 61.36966403202169,\n",
       "   'time': 190.05838675817887},\n",
       "  {'position': 7574.0, 'speed': 54.0, 'time': 204.79771482222225},\n",
       "  {'position': 8374.0, 'speed': 46.0, 'time': 220.79771482222225},\n",
       "  {'position': 8969.0, 'speed': 39.0, 'time': 234.79771482222225},\n",
       "  {'position': 9265.0, 'speed': 35.0, 'time': 242.79771482222225},\n",
       "  {'position': 9529.0, 'speed': 31.0, 'time': 250.79771482222225},\n",
       "  {'position': 9706.0, 'speed': 28.0, 'time': 256.79771482222225},\n",
       "  {'position': 9914.0, 'speed': 24.0, 'time': 264.79771482222225},\n",
       "  {'position': 10090.0, 'speed': 20.0, 'time': 272.79771482222225},\n",
       "  {'position': 10234.0, 'speed': 16.0, 'time': 280.79771482222225},\n",
       "  {'position': 10346.0, 'speed': 12.0, 'time': 288.79771482222225},\n",
       "  {'position': 10426.0, 'speed': 8.0, 'time': 296.79771482222225},\n",
       "  {'position': 10454.0, 'speed': 6.0, 'time': 300.79771482222225},\n",
       "  {'position': 10474.0, 'speed': 4.0, 'time': 304.79771482222225},\n",
       "  {'position': 10486.0, 'speed': 2.0, 'time': 308.79771482222225},\n",
       "  {'position': 10489.0, 'speed': 1.0, 'time': 310.79771482222225},\n",
       "  {'position': 10490.0, 'speed': 0.0, 'time': 313.79771482222225}],\n",
       " 'stops': [{'duration': 1.0, 'position': 10490.0, 'time': 313.79771482222225}],\n",
       " 'zone_updates': [{'isEntry': True,\n",
       "   'offset': 0.0,\n",
       "   'time': 0.0,\n",
       "   'zone': 'zone.DC1:REVERSE'},\n",
       "  {'isEntry': True, 'offset': 30.0, 'time': 11.418, 'zone': 'zone.D4:NORMAL'},\n",
       "  {'isEntry': False,\n",
       "   'offset': 430.0,\n",
       "   'time': 43.529,\n",
       "   'zone': 'zone.DC1:REVERSE'},\n",
       "  {'isEntry': True,\n",
       "   'offset': 2030.0,\n",
       "   'time': 98.402,\n",
       "   'zone': 'zone.D5:NORMAL'},\n",
       "  {'isEntry': False,\n",
       "   'offset': 2430.0,\n",
       "   'time': 108.377,\n",
       "   'zone': 'zone.D4:NORMAL'},\n",
       "  {'isEntry': True,\n",
       "   'offset': 4010.0,\n",
       "   'time': 142.192,\n",
       "   'zone': 'zone.D6:NORMAL'},\n",
       "  {'isEntry': False,\n",
       "   'offset': 4410.0,\n",
       "   'time': 149.837,\n",
       "   'zone': 'zone.D5:NORMAL'},\n",
       "  {'isEntry': True,\n",
       "   'offset': 5990.0,\n",
       "   'time': 177.887,\n",
       "   'zone': 'zone.D7:NORMAL'},\n",
       "  {'isEntry': False,\n",
       "   'offset': 6390.0,\n",
       "   'time': 184.577,\n",
       "   'zone': 'zone.D6:NORMAL'},\n",
       "  {'isEntry': True,\n",
       "   'offset': 7970.0,\n",
       "   'time': 212.397,\n",
       "   'zone': 'zone.D8:NORMAL'},\n",
       "  {'isEntry': False,\n",
       "   'offset': 8370.0,\n",
       "   'time': 220.71,\n",
       "   'zone': 'zone.D7:NORMAL'},\n",
       "  {'isEntry': True,\n",
       "   'offset': 10020.0,\n",
       "   'time': 269.438,\n",
       "   'zone': 'zone.DB1:REVERSE'},\n",
       "  {'isEntry': True,\n",
       "   'offset': 10080.0,\n",
       "   'time': 272.3,\n",
       "   'zone': 'zone.DB2:NORMAL'},\n",
       "  {'isEntry': False,\n",
       "   'offset': 10420.0,\n",
       "   'time': 296.063,\n",
       "   'zone': 'zone.D8:NORMAL'},\n",
       "  {'isEntry': False,\n",
       "   'offset': 10480.0,\n",
       "   'time': 306.472,\n",
       "   'zone': 'zone.DB1:REVERSE'}]}"
      ]
     },
     "execution_count": 83,
     "metadata": {},
     "output_type": "execute_result"
    }
   ],
   "source": [
    "result[1]['base_simulations'][0]"
   ]
  },
  {
   "cell_type": "code",
   "execution_count": 96,
   "metadata": {},
   "outputs": [],
   "source": [
    "import numpy as np\n",
    "\n",
    "records_min = result[1]['base_simulations'][0]['head_positions']\n",
    "offset = records_min[0]['offset']\n",
    "offsets_min = [offset + t['path_offset'] for t in records_min]\n",
    "times_min = [t['time'] for t in records_min]\n",
    "\n",
    "records_eco = result[1]['eco_simulations'][0]['head_positions']\n",
    "offset = records_eco[0]['offset']\n",
    "offsets_eco = [offset + t['path_offset'] for t in records_eco]\n",
    "times_eco = [t['time'] for t in records_eco]"
   ]
  },
  {
   "cell_type": "code",
   "execution_count": 122,
   "metadata": {},
   "outputs": [],
   "source": [
    "res.points_encountered_by_train(infra, result, 1)\n",
    "points = res.points_encountered_by_train(infra, result, 1)"
   ]
  },
  {
   "cell_type": "code",
   "execution_count": 134,
   "metadata": {},
   "outputs": [
    {
     "data": {
      "image/png": "[encoded data removed]",
      "text/plain": [
       "<Figure size 640x480 with 1 Axes>"
      ]
     },
     "metadata": {},
     "output_type": "display_data"
    }
   ],
   "source": [
    "import matplotlib.pyplot as plt\n",
    "\n",
    "train = 0\n",
    "\n",
    "points = res.points_encountered_by_train(infra, result, train, ['station', 'cvg_signal'])\n",
    "\n",
    "records_min = result[train]['base_simulations'][0]['head_positions']\n",
    "offset = records_min[0]['offset']\n",
    "offsets_min = [offset + t['path_offset'] for t in records_min]\n",
    "times_min = [t['time']/60 for t in records_min]\n",
    "\n",
    "records_eco = result[train]['eco_simulations'][0]['head_positions']\n",
    "offset = records_eco[0]['offset']\n",
    "offsets_eco = [offset + t['path_offset'] for t in records_eco]\n",
    "times_eco = [t['time']/60 for t in records_eco]\n",
    "\n",
    "plt.plot(\n",
    "    times_min,\n",
    "    offsets_min,\n",
    "    times_eco,\n",
    "    offsets_eco\n",
    ")\n",
    "for point in points:\n",
    "    plt.axhline(point['offset'], color='k', linestyle=':');\n",
    "\n",
    "plt.yticks(\n",
    "    [point['offset'] for point in points],\n",
    "    [point['id'] for point in points]\n",
    ");"
   ]
  },
  {
   "cell_type": "code",
   "execution_count": 146,
   "metadata": {},
   "outputs": [
    {
     "data": {
      "text/plain": [
       "<Axes: title={'center': 'train0 (base)'}>"
      ]
     },
     "execution_count": 146,
     "metadata": {},
     "output_type": "execute_result"
    },
    {
     "data": {
      "image/png": "[encoded data removed]",
      "text/plain": [
       "<Figure size 640x480 with 1 Axes>"
      ]
     },
     "metadata": {},
     "output_type": "display_data"
    },
    {
     "data": {
      "image/png": "[encoded data removed]",
      "text/plain": [
       "<Figure size 640x480 with 1 Axes>"
      ]
     },
     "metadata": {},
     "output_type": "display_data"
    }
   ],
   "source": [
    "res.space_time_graph(infra, simulation, result, 0)\n",
    "res.space_time_graph(infra, simulation, result, 0, 'base')"
   ]
  },
  {
   "cell_type": "code",
   "execution_count": 140,
   "metadata": {},
   "outputs": [
    {
     "data": {
      "text/plain": [
       "['train0', 'train1', 'train0']"
      ]
     },
     "execution_count": 140,
     "metadata": {},
     "output_type": "execute_result"
    }
   ],
   "source": []
  },
  {
   "cell_type": "code",
   "execution_count": null,
   "metadata": {},
   "outputs": [],
   "source": [
    "import networkx as nx\n",
    "\n",
    "def draw_digraph(G):\n",
    "    for layer, nodes in enumerate(nx.topological_generations(G)):\n",
    "        # `multipartite_layout` expects the layer as a node attribute,\n",
    "        # so add the numeric layer value as a node attribute\n",
    "        for node in nodes:\n",
    "            G.nodes[node][\"layer\"] = layer\n",
    "\n",
    "    # Compute the multipartite_layout using the \"layer\" node attribute\n",
    "    pos = nx.multipartite_layout(G, subset_key=\"layer\")\n",
    "\n",
    "    # _, ax = plt.subplots()\n",
    "    nx.draw_networkx(G, pos, node_shape='s', )  # ax=ax)"
   ]
  },
  {
   "cell_type": "code",
   "execution_count": 68,
   "metadata": {},
   "outputs": [
    {
     "data": {
      "text/plain": [
       "[0, 450.0, 10450.0, 20450.0]"
      ]
     },
     "execution_count": 68,
     "metadata": {},
     "output_type": "execute_result"
    }
   ],
   "source": [
    "lengths = [\n",
    "    infr.track_section_lengths(infra)[ts]\n",
    "    for ts in res.train_track_sections(result, 0)\n",
    "]\n",
    "\n",
    "offsets = [\n",
    "    sum(lengths[: i]) for i, length in enumerate(lengths)\n",
    "]\n",
    "\n",
    "offsets"
   ]
  },
  {
   "cell_type": "code",
   "execution_count": null,
   "metadata": {},
   "outputs": [],
   "source": []
  }
 ],
 "metadata": {
  "kernelspec": {
   "display_name": "venv",
   "language": "python",
   "name": "python3"
  },
  "language_info": {
   "codemirror_mode": {
    "name": "ipython",
    "version": 3
   },
   "file_extension": ".py",
   "mimetype": "text/x-python",
   "name": "python",
   "nbconvert_exporter": "python",
   "pygments_lexer": "ipython3",
   "version": "3.9.16"
  },
  "orig_nbformat": 4
 },
 "nbformat": 4,
 "nbformat_minor": 2
}
