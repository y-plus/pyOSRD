{
 "cells": [
  {
   "cell_type": "code",
   "execution_count": 1,
   "metadata": {},
   "outputs": [],
   "source": [
    "from railjson_generator import InfraBuilder, Location, SimulationBuilder\n",
    "from railjson_generator.schema.infra.direction import Direction\n"
   ]
  },
  {
   "cell_type": "code",
   "execution_count": 2,
   "metadata": {},
   "outputs": [],
   "source": [
    "builder = InfraBuilder()\n",
    "tracks = [builder.add_track_section(length=1000) for _ in range(7)]\n"
   ]
  },
  {
   "cell_type": "code",
   "execution_count": 3,
   "metadata": {},
   "outputs": [],
   "source": [
    "switch_0 = builder.add_point_switch(tracks[2].begin(), tracks[1].end(), tracks[0].end())\n",
    "switch_1 = builder.add_point_switch(tracks[2].end(), tracks[3].begin(), tracks[4].begin())\n",
    "switch_2 = builder.add_point_switch(tracks[4].end(), tracks[5].begin(), tracks[6].begin())\n"
   ]
  },
  {
   "cell_type": "code",
   "execution_count": 4,
   "metadata": {},
   "outputs": [],
   "source": [
    "# Add detector and signals\n",
    "for i in (2, 3, 4, 5, 6):\n",
    "    track = tracks[i]\n",
    "    detector = track.add_detector(position=200)\n",
    "    signal = track.add_signal(detector.position - 25, Direction.START_TO_STOP, is_route_delimiter=True)\n",
    "    signal.add_logical_signal(\"BAL\", settings={\"Nf\": \"true\"})\n",
    "    signal = track.add_signal(detector.position + 25, Direction.STOP_TO_START, is_route_delimiter=True)\n",
    "    signal.add_logical_signal(\"BAL\", settings={\"Nf\": \"true\"})\n",
    "\n",
    "for i in (0, 1, 2, 4):\n",
    "    track = tracks[i]\n",
    "    detector = track.add_detector(position=800)\n",
    "    signal = track.add_signal(detector.position - 25, Direction.START_TO_STOP, is_route_delimiter=True)\n",
    "    signal.add_logical_signal(\"BAL\", settings={\"Nf\": \"true\"})\n",
    "    signal = track.add_signal(detector.position + 25, Direction.STOP_TO_START, is_route_delimiter=True)\n",
    "    signal.add_logical_signal(\"BAL\", settings={\"Nf\": \"true\"})\n",
    "\n",
    "\n",
    "# Add operational points\n",
    "my_op = builder.add_operational_point(\"my-op\")\n",
    "my_op.add_part(tracks[0], 500)\n",
    "my_op.add_part(tracks[1], 500)\n",
    "\n",
    "# Build infra: Generate BufferStops, TVDSections and Routes\n",
    "infra = builder.build()"
   ]
  },
  {
   "cell_type": "code",
   "execution_count": 5,
   "metadata": {},
   "outputs": [],
   "source": [
    "infra.save('infra.json')"
   ]
  },
  {
   "cell_type": "code",
   "execution_count": 6,
   "metadata": {},
   "outputs": [],
   "source": [
    "from rlway.pyosrd import OSRD"
   ]
  },
  {
   "cell_type": "code",
   "execution_count": 7,
   "metadata": {},
   "outputs": [],
   "source": [
    "sim = OSRD()"
   ]
  },
  {
   "cell_type": "code",
   "execution_count": 8,
   "metadata": {},
   "outputs": [
    {
     "data": {
      "text/plain": [
       "{'detector.5': ('track.0', 800.0),\n",
       " 'detector.6': ('track.1', 800.0),\n",
       " 'detector.0': ('track.2', 200.0),\n",
       " 'detector.7': ('track.2', 800.0),\n",
       " 'detector.1': ('track.3', 200.0),\n",
       " 'detector.2': ('track.4', 200.0),\n",
       " 'detector.8': ('track.4', 800.0),\n",
       " 'detector.3': ('track.5', 200.0),\n",
       " 'detector.4': ('track.6', 200.0),\n",
       " 'buffer_stop.0': ('track.0', 0.0),\n",
       " 'buffer_stop.1': ('track.1', 0.0),\n",
       " 'buffer_stop.2': ('track.3', 1000.0),\n",
       " 'buffer_stop.3': ('track.5', 1000.0),\n",
       " 'buffer_stop.4': ('track.6', 1000.0)}"
      ]
     },
     "execution_count": 8,
     "metadata": {},
     "output_type": "execute_result"
    }
   ],
   "source": [
    "sim.route_limits"
   ]
  },
  {
   "cell_type": "code",
   "execution_count": 9,
   "metadata": {},
   "outputs": [
    {
     "data": {
      "text/html": [
       "<img src=\"https://mermaid.ink/img/Z3JhcGggTFI7YnVmZmVyX3N0b3AuMC0tPmRldGVjdG9yLjU7ZGV0ZWN0b3IuNS0tPmJ1ZmZlcl9zdG9wLjA7ZGV0ZWN0b3IuNS0tPmRldGVjdG9yLjA7YnVmZmVyX3N0b3AuMS0tPmRldGVjdG9yLjY7ZGV0ZWN0b3IuNi0tPmJ1ZmZlcl9zdG9wLjE7ZGV0ZWN0b3IuNi0tPmRldGVjdG9yLjA7ZGV0ZWN0b3IuMC0tPmRldGVjdG9yLjc7ZGV0ZWN0b3IuNy0tPmRldGVjdG9yLjA7ZGV0ZWN0b3IuMC0tPmRldGVjdG9yLjY7ZGV0ZWN0b3IuMC0tPmRldGVjdG9yLjU7ZGV0ZWN0b3IuNy0tPmRldGVjdG9yLjE7ZGV0ZWN0b3IuNy0tPmRldGVjdG9yLjI7ZGV0ZWN0b3IuMS0tPmJ1ZmZlcl9zdG9wLjI7YnVmZmVyX3N0b3AuMi0tPmRldGVjdG9yLjE7ZGV0ZWN0b3IuMS0tPmRldGVjdG9yLjc7ZGV0ZWN0b3IuMi0tPmRldGVjdG9yLjg7ZGV0ZWN0b3IuOC0tPmRldGVjdG9yLjI7ZGV0ZWN0b3IuMi0tPmRldGVjdG9yLjc7ZGV0ZWN0b3IuOC0tPmRldGVjdG9yLjM7ZGV0ZWN0b3IuOC0tPmRldGVjdG9yLjQ7ZGV0ZWN0b3IuMy0tPmJ1ZmZlcl9zdG9wLjM7YnVmZmVyX3N0b3AuMy0tPmRldGVjdG9yLjM7ZGV0ZWN0b3IuMy0tPmRldGVjdG9yLjg7ZGV0ZWN0b3IuNC0tPmJ1ZmZlcl9zdG9wLjQ7YnVmZmVyX3N0b3AuNC0tPmRldGVjdG9yLjQ7ZGV0ZWN0b3IuNC0tPmRldGVjdG9yLjg=\"/>"
      ],
      "text/plain": [
       "<IPython.core.display.Image object>"
      ]
     },
     "metadata": {},
     "output_type": "display_data"
    }
   ],
   "source": [
    "sim.draw_infra()"
   ]
  },
  {
   "cell_type": "code",
   "execution_count": 15,
   "metadata": {},
   "outputs": [],
   "source": [
    "builder = SimulationBuilder()\n",
    "\n",
    "first_train = builder.add_train_schedule(\n",
    "    Location(tracks[0], 200), Location(tracks[5], 900), label=\"First\", departure_time=10\n",
    ")\n",
    "first_train.add_stop(10, location=Location(tracks[4], 250))\n",
    "first_train.add_stop(10, position=2550)\n",
    "first_train.add_standard_single_value_allowance(\"percentage\", 5, \"MARECO\")\n",
    "\n"
   ]
  },
  {
   "cell_type": "code",
   "execution_count": 16,
   "metadata": {},
   "outputs": [],
   "source": [
    "sim_builder = builder.build()"
   ]
  },
  {
   "cell_type": "code",
   "execution_count": 17,
   "metadata": {},
   "outputs": [],
   "source": [
    "sim_builder.save('simulation.json')"
   ]
  },
  {
   "cell_type": "code",
   "execution_count": 18,
   "metadata": {},
   "outputs": [
    {
     "name": "stdout",
     "output_type": "stream",
     "text": [
      "[11:32:58,952] \u001b[34m[INFO] \u001b[0;39m [StandaloneSimulationCommand] Loading infra: ./infra.json\n",
      "[11:32:58,991] \u001b[34m[INFO] \u001b[0;39m             [FullInfra] parsing infra\n",
      "[11:32:59,061] \u001b[34m[INFO] \u001b[0;39m             [FullInfra] adaptation to kotlin\n",
      "[11:32:59,095] \u001b[34m[INFO] \u001b[0;39m             [FullInfra] loading signals\n",
      "[11:32:59,101] \u001b[34m[INFO] \u001b[0;39m             [FullInfra] building blocks\n",
      "[11:32:59,107] \u001b[34m[INFO] \u001b[0;39m [StandaloneSimulationCommand] Loading input: ./simulation.json\n",
      "[11:32:59,118] \u001b[34m[INFO] \u001b[0;39m [StandaloneSimulationCommand] Running simulation for schedule group: group.1\n",
      "[11:32:59,177] \u001b[39m[DEBUG]\u001b[0;39m             [Allowance] computing range n°1\n",
      "[11:32:59,180] \u001b[39m[DEBUG]\u001b[0;39m             [Allowance]   computing section n°1\n",
      "[11:32:59,180] \u001b[39m[DEBUG]\u001b[0;39m             [Allowance]   target time = 139.28565\n",
      "[11:32:59,180] \u001b[39m[DEBUG]\u001b[0;39m             [Allowance]     starting attempt 1\n",
      "[11:32:59,182] \u001b[39m[DEBUG]\u001b[0;39m             [Allowance]     envelope time 144.956\n",
      "[11:32:59,182] \u001b[39m[DEBUG]\u001b[0;39m             [Allowance]     starting attempt 2\n",
      "[11:32:59,182] \u001b[39m[DEBUG]\u001b[0;39m             [Allowance]     envelope time 132.868\n",
      "[11:32:59,182] \u001b[39m[DEBUG]\u001b[0;39m             [Allowance]     starting attempt 3\n",
      "[11:32:59,183] \u001b[39m[DEBUG]\u001b[0;39m             [Allowance]     envelope time 136.032\n",
      "[11:32:59,183] \u001b[39m[DEBUG]\u001b[0;39m             [Allowance]     starting attempt 4\n",
      "[11:32:59,183] \u001b[39m[DEBUG]\u001b[0;39m             [Allowance]     envelope time 139.563\n",
      "[11:32:59,183] \u001b[39m[DEBUG]\u001b[0;39m             [Allowance]   computing section n°2\n",
      "[11:32:59,183] \u001b[39m[DEBUG]\u001b[0;39m             [Allowance]   target time = 67.96754999999999\n",
      "[11:32:59,183] \u001b[39m[DEBUG]\u001b[0;39m             [Allowance]     starting attempt 1\n",
      "[11:32:59,183] \u001b[39m[DEBUG]\u001b[0;39m             [Allowance]     envelope time 72.068\n",
      "[11:32:59,183] \u001b[39m[DEBUG]\u001b[0;39m             [Allowance]     starting attempt 2\n",
      "[11:32:59,183] \u001b[39m[DEBUG]\u001b[0;39m             [Allowance]     envelope time 65.391\n",
      "[11:32:59,183] \u001b[39m[DEBUG]\u001b[0;39m             [Allowance]     starting attempt 3\n",
      "[11:32:59,184] \u001b[39m[DEBUG]\u001b[0;39m             [Allowance]     envelope time 67.562\n",
      "[11:32:59,184] \u001b[39m[DEBUG]\u001b[0;39m             [Allowance]   computing section n°3\n",
      "[11:32:59,184] \u001b[39m[DEBUG]\u001b[0;39m             [Allowance]   target time = 103.48275000000001\n",
      "[11:32:59,184] \u001b[39m[DEBUG]\u001b[0;39m             [Allowance]     starting attempt 1\n",
      "[11:32:59,184] \u001b[39m[DEBUG]\u001b[0;39m             [Allowance]     envelope time 108.475\n",
      "[11:32:59,184] \u001b[39m[DEBUG]\u001b[0;39m             [Allowance]     starting attempt 2\n",
      "[11:32:59,184] \u001b[39m[DEBUG]\u001b[0;39m             [Allowance]     envelope time 98.916\n",
      "[11:32:59,184] \u001b[39m[DEBUG]\u001b[0;39m             [Allowance]     starting attempt 3\n",
      "[11:32:59,185] \u001b[39m[DEBUG]\u001b[0;39m             [Allowance]     envelope time 101.673\n",
      "[11:32:59,190] \u001b[34m[INFO] \u001b[0;39m [StandaloneSimulationCommand] All simulations completed\n",
      "[11:32:59,190] \u001b[34m[INFO] \u001b[0;39m [StandaloneSimulationCommand] Saving results at: ./results.json\n"
     ]
    }
   ],
   "source": [
    "sim.run()"
   ]
  },
  {
   "cell_type": "code",
   "execution_count": 23,
   "metadata": {},
   "outputs": [],
   "source": [
    "infra_builder = InfraBuilder()\n",
    "\n",
    "T = [\n",
    "    infra_builder.add_track_section(label=\"T\"+str(id), length=10_000)\n",
    "    for id in range(3)\n",
    "]\n",
    "T[0].add_buffer_stop(0, label=\"buffer_stop.0\")\n",
    "\n",
    "for i in [1, 2]:\n",
    "    T[i].add_buffer_stop(T[i].length, label=f\"buffer_stop.{i}\")\n",
    "\n",
    "infra_builder.add_point_switch(\n",
    "    T[0].end(),\n",
    "    T[1].begin(),\n",
    "    T[2].begin(),\n",
    "    label=\"DVG\",\n",
    ")\n",
    "detectors = [T[0].add_detector(label=\"D0\", position=T[0].length-180)]\n",
    "detectors += [\n",
    "    T[i].add_detector(\n",
    "        label=f\"D{i}\",\n",
    "        position=180,\n",
    "    )\n",
    "    for i in [1, 2]\n",
    "]"
   ]
  },
  {
   "cell_type": "code",
   "execution_count": 24,
   "metadata": {},
   "outputs": [],
   "source": [
    "signals = [\n",
    "    T[0].add_signal(\n",
    "        detectors[0].position-20,\n",
    "        Direction.START_TO_STOP,\n",
    "        is_route_delimiter=True,\n",
    "        label=\"S0\"\n",
    "    ),\n",
    "]\n",
    "signals += [\n",
    "    T[i].add_signal(\n",
    "        detectors[i].position+20,\n",
    "        Direction.STOP_TO_START,\n",
    "        is_route_delimiter=True,\n",
    "        label=f\"S{i}\"\n",
    "    )\n",
    "    for i in [1, 2]\n",
    "]\n",
    "\n",
    "for signal in signals:\n",
    "        signal.add_logical_signal(\"BAL\", settings={\"Nf\": \"true\"})\n"
   ]
  },
  {
   "cell_type": "code",
   "execution_count": 31,
   "metadata": {},
   "outputs": [],
   "source": [
    "infra_builder.build().save(\"infra.json\")"
   ]
  },
  {
   "cell_type": "code",
   "execution_count": 35,
   "metadata": {},
   "outputs": [
    {
     "data": {
      "text/plain": [
       "['rt.buffer_stop.0->D0',\n",
       " 'rt.D0->buffer_stop.1',\n",
       " 'rt.D0->buffer_stop.2',\n",
       " 'rt.buffer_stop.1->D1',\n",
       " 'rt.D1->buffer_stop.0',\n",
       " 'rt.buffer_stop.2->D2',\n",
       " 'rt.D2->buffer_stop.0']"
      ]
     },
     "execution_count": 35,
     "metadata": {},
     "output_type": "execute_result"
    }
   ],
   "source": [
    "sim=OSRD()\n",
    "sim.routes"
   ]
  },
  {
   "cell_type": "code",
   "execution_count": 36,
   "metadata": {},
   "outputs": [
    {
     "data": {
      "text/plain": [
       "{'rt.buffer_stop.0->D0': 'D0<->buffer_stop.0',\n",
       " 'rt.D0->buffer_stop.1': 'DVG',\n",
       " 'rt.D0->buffer_stop.2': 'DVG',\n",
       " 'rt.buffer_stop.1->D1': 'D1<->buffer_stop.1',\n",
       " 'rt.D1->buffer_stop.0': 'DVG',\n",
       " 'rt.buffer_stop.2->D2': 'D2<->buffer_stop.2',\n",
       " 'rt.D2->buffer_stop.0': 'DVG'}"
      ]
     },
     "execution_count": 36,
     "metadata": {},
     "output_type": "execute_result"
    }
   ],
   "source": [
    "sim.route_tvds"
   ]
  },
  {
   "cell_type": "code",
   "execution_count": 41,
   "metadata": {},
   "outputs": [],
   "source": [
    "sim_builder = SimulationBuilder()\n",
    "\n",
    "sim_builder.add_train_schedule(\n",
    "    Location(T[0], 50.),\n",
    "    Location(T[1], T[1].length-50),\n",
    "    label='train0',\n",
    "    departure_time=0,\n",
    ").add_standard_single_value_allowance(\n",
    "    \"percentage\", 5, \"MARECO\"\n",
    ")\n",
    "\n",
    "sim_builder.add_train_schedule(\n",
    "    Location(T[2], T[1].length-50.),\n",
    "    Location(T[0], 50),\n",
    "    label='train1',\n",
    "    departure_time=100.,\n",
    ")\n",
    "\n",
    "built_simulation = sim_builder.build()"
   ]
  },
  {
   "cell_type": "code",
   "execution_count": 42,
   "metadata": {},
   "outputs": [],
   "source": [
    "built_simulation.save('simulation.json')"
   ]
  },
  {
   "cell_type": "code",
   "execution_count": 43,
   "metadata": {},
   "outputs": [
    {
     "name": "stdout",
     "output_type": "stream",
     "text": [
      "[11:48:52,690] \u001b[34m[INFO] \u001b[0;39m [StandaloneSimulationCommand] Loading infra: ./infra.json\n",
      "[11:48:52,719] \u001b[34m[INFO] \u001b[0;39m             [FullInfra] parsing infra\n",
      "[11:48:52,779] \u001b[34m[INFO] \u001b[0;39m             [FullInfra] adaptation to kotlin\n",
      "[11:48:52,808] \u001b[34m[INFO] \u001b[0;39m             [FullInfra] loading signals\n",
      "[11:48:52,814] \u001b[34m[INFO] \u001b[0;39m             [FullInfra] building blocks\n",
      "[11:48:52,819] \u001b[34m[INFO] \u001b[0;39m [StandaloneSimulationCommand] Loading input: ./simulation.json\n",
      "[11:48:52,830] \u001b[34m[INFO] \u001b[0;39m [StandaloneSimulationCommand] Running simulation for schedule group: group.4\n",
      "[11:48:52,877] \u001b[39m[DEBUG]\u001b[0;39m             [Allowance] computing range n°1\n",
      "[11:48:52,879] \u001b[39m[DEBUG]\u001b[0;39m             [Allowance]   computing section n°1\n",
      "[11:48:52,880] \u001b[39m[DEBUG]\u001b[0;39m             [Allowance]   target time = 471.66945\n",
      "[11:48:52,880] \u001b[39m[DEBUG]\u001b[0;39m             [Allowance]     starting attempt 1\n",
      "[11:48:52,882] \u001b[39m[DEBUG]\u001b[0;39m             [Allowance]     envelope time 481.584\n",
      "[11:48:52,882] \u001b[39m[DEBUG]\u001b[0;39m             [Allowance]     starting attempt 2\n",
      "[11:48:52,882] \u001b[39m[DEBUG]\u001b[0;39m             [Allowance]     envelope time 449.246\n",
      "[11:48:52,882] \u001b[39m[DEBUG]\u001b[0;39m             [Allowance]     starting attempt 3\n",
      "[11:48:52,882] \u001b[39m[DEBUG]\u001b[0;39m             [Allowance]     envelope time 456.119\n",
      "[11:48:52,882] \u001b[39m[DEBUG]\u001b[0;39m             [Allowance]     starting attempt 4\n",
      "[11:48:52,883] \u001b[39m[DEBUG]\u001b[0;39m             [Allowance]     envelope time 465.76\n",
      "[11:48:52,883] \u001b[39m[DEBUG]\u001b[0;39m             [Allowance]     starting attempt 5\n",
      "[11:48:52,883] \u001b[39m[DEBUG]\u001b[0;39m             [Allowance]     envelope time 472.773\n",
      "[11:48:52,886] \u001b[34m[INFO] \u001b[0;39m [StandaloneSimulationCommand] Running simulation for schedule group: group.5\n",
      "[11:48:52,889] \u001b[34m[INFO] \u001b[0;39m [StandaloneSimulationCommand] All simulations completed\n",
      "[11:48:52,890] \u001b[34m[INFO] \u001b[0;39m [StandaloneSimulationCommand] Saving results at: ./results.json\n"
     ]
    }
   ],
   "source": [
    "sim = OSRD()\n",
    "sim.run()"
   ]
  },
  {
   "cell_type": "code",
   "execution_count": null,
   "metadata": {},
   "outputs": [],
   "source": []
  }
 ],
 "metadata": {
  "kernelspec": {
   "display_name": "venv",
   "language": "python",
   "name": "python3"
  },
  "language_info": {
   "codemirror_mode": {
    "name": "ipython",
    "version": 3
   },
   "file_extension": ".py",
   "mimetype": "text/x-python",
   "name": "python",
   "nbconvert_exporter": "python",
   "pygments_lexer": "ipython3",
   "version": "3.10.12"
  },
  "orig_nbformat": 4
 },
 "nbformat": 4,
 "nbformat_minor": 2
}
