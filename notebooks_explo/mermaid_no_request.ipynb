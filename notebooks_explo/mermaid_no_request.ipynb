{
 "cells": [
  {
   "cell_type": "code",
   "execution_count": 5,
   "metadata": {},
   "outputs": [
    {
     "data": {
      "text/html": [
       "<svg id=\"mermaid-svg\" width=\"100%\" xmlns=\"http://www.w3.org/2000/svg\" style=\"max-width: 570.66015625px;\" viewBox=\"-8 -8 570.66015625 218\" role=\"graphics-document document\" aria-roledescription=\"flowchart-v2\" xmlns:xlink=\"http://www.w3.org/1999/xlink\"><style>#mermaid-svg{font-family:\"trebuchet ms\",verdana,arial,sans-serif;font-size:16px;fill:#333;}#mermaid-svg .error-icon{fill:#552222;}#mermaid-svg .error-text{fill:#552222;stroke:#552222;}#mermaid-svg .edge-thickness-normal{stroke-width:2px;}#mermaid-svg .edge-thickness-thick{stroke-width:3.5px;}#mermaid-svg .edge-pattern-solid{stroke-dasharray:0;}#mermaid-svg .edge-pattern-dashed{stroke-dasharray:3;}#mermaid-svg .edge-pattern-dotted{stroke-dasharray:2;}#mermaid-svg .marker{fill:#333333;stroke:#333333;}#mermaid-svg .marker.cross{stroke:#333333;}#mermaid-svg svg{font-family:\"trebuchet ms\",verdana,arial,sans-serif;font-size:16px;}#mermaid-svg .label{font-family:\"trebuchet ms\",verdana,arial,sans-serif;color:#333;}#mermaid-svg .cluster-label text{fill:#333;}#mermaid-svg .cluster-label span,#mermaid-svg p{color:#333;}#mermaid-svg .label text,#mermaid-svg span,#mermaid-svg p{fill:#333;color:#333;}#mermaid-svg .node rect,#mermaid-svg .node circle,#mermaid-svg .node ellipse,#mermaid-svg .node polygon,#mermaid-svg .node path{fill:#ECECFF;stroke:#9370DB;stroke-width:1px;}#mermaid-svg .flowchart-label text{text-anchor:middle;}#mermaid-svg .node .label{text-align:center;}#mermaid-svg .node.clickable{cursor:pointer;}#mermaid-svg .arrowheadPath{fill:#333333;}#mermaid-svg .edgePath .path{stroke:#333333;stroke-width:2.0px;}#mermaid-svg .flowchart-link{stroke:#333333;fill:none;}#mermaid-svg .edgeLabel{background-color:#e8e8e8;text-align:center;}#mermaid-svg .edgeLabel rect{opacity:0.5;background-color:#e8e8e8;fill:#e8e8e8;}#mermaid-svg .labelBkg{background-color:rgba(232, 232, 232, 0.5);}#mermaid-svg .cluster rect{fill:#ffffde;stroke:#aaaa33;stroke-width:1px;}#mermaid-svg .cluster text{fill:#333;}#mermaid-svg .cluster span,#mermaid-svg p{color:#333;}#mermaid-svg div.mermaidTooltip{position:absolute;text-align:center;max-width:200px;padding:2px;font-family:\"trebuchet ms\",verdana,arial,sans-serif;font-size:12px;background:hsl(80, 100%, 96.2745098039%);border:1px solid #aaaa33;border-radius:2px;pointer-events:none;z-index:100;}#mermaid-svg .flowchartTitleText{text-anchor:middle;font-size:18px;fill:#333;}#mermaid-svg :root{--mermaid-font-family:\"trebuchet ms\",verdana,arial,sans-serif;}</style><g><marker id=\"mermaid-svg_flowchart-pointEnd\" class=\"marker flowchart\" viewBox=\"0 0 10 10\" refX=\"6\" refY=\"5\" markerUnits=\"userSpaceOnUse\" markerWidth=\"12\" markerHeight=\"12\" orient=\"auto\"><path d=\"M 0 0 L 10 5 L 0 10 z\" class=\"arrowMarkerPath\" style=\"stroke-width: 1; stroke-dasharray: 1, 0;\"></path></marker><marker id=\"mermaid-svg_flowchart-pointStart\" class=\"marker flowchart\" viewBox=\"0 0 10 10\" refX=\"4.5\" refY=\"5\" markerUnits=\"userSpaceOnUse\" markerWidth=\"12\" markerHeight=\"12\" orient=\"auto\"><path d=\"M 0 5 L 10 10 L 10 0 z\" class=\"arrowMarkerPath\" style=\"stroke-width: 1; stroke-dasharray: 1, 0;\"></path></marker><marker id=\"mermaid-svg_flowchart-circleEnd\" class=\"marker flowchart\" viewBox=\"0 0 10 10\" refX=\"11\" refY=\"5\" markerUnits=\"userSpaceOnUse\" markerWidth=\"11\" markerHeight=\"11\" orient=\"auto\"><circle cx=\"5\" cy=\"5\" r=\"5\" class=\"arrowMarkerPath\" style=\"stroke-width: 1; stroke-dasharray: 1, 0;\"></circle></marker><marker id=\"mermaid-svg_flowchart-circleStart\" class=\"marker flowchart\" viewBox=\"0 0 10 10\" refX=\"-1\" refY=\"5\" markerUnits=\"userSpaceOnUse\" markerWidth=\"11\" markerHeight=\"11\" orient=\"auto\"><circle cx=\"5\" cy=\"5\" r=\"5\" class=\"arrowMarkerPath\" style=\"stroke-width: 1; stroke-dasharray: 1, 0;\"></circle></marker><marker id=\"mermaid-svg_flowchart-crossEnd\" class=\"marker cross flowchart\" viewBox=\"0 0 11 11\" refX=\"12\" refY=\"5.2\" markerUnits=\"userSpaceOnUse\" markerWidth=\"11\" markerHeight=\"11\" orient=\"auto\"><path d=\"M 1,1 l 9,9 M 10,1 l -9,9\" class=\"arrowMarkerPath\" style=\"stroke-width: 2; stroke-dasharray: 1, 0;\"></path></marker><marker id=\"mermaid-svg_flowchart-crossStart\" class=\"marker cross flowchart\" viewBox=\"0 0 11 11\" refX=\"-1\" refY=\"5.2\" markerUnits=\"userSpaceOnUse\" markerWidth=\"11\" markerHeight=\"11\" orient=\"auto\"><path d=\"M 1,1 l 9,9 M 10,1 l -9,9\" class=\"arrowMarkerPath\" style=\"stroke-width: 2; stroke-dasharray: 1, 0;\"></path></marker><g class=\"root\"><g class=\"clusters\"></g><g class=\"edgePaths\"><path d=\"M251.969,24.452L222.424,30.21C192.879,35.968,133.789,47.484,104.244,56.525C74.699,65.567,74.699,72.133,74.699,75.417L74.699,78.7\" id=\"L-mer-flow-0\" class=\" edge-thickness-normal edge-pattern-solid flowchart-link LS-mer LE-flow\" style=\"fill:none;\" marker-end=\"url(#mermaid-svg_flowchart-pointEnd)\"></path><path d=\"M263.136,34L256.502,38.167C249.868,42.333,236.6,50.667,229.966,58.117C223.332,65.567,223.332,72.133,223.332,75.417L223.332,78.7\" id=\"L-mer-clas-0\" class=\" edge-thickness-normal edge-pattern-solid flowchart-link LS-mer LE-clas\" style=\"fill:none;\" marker-end=\"url(#mermaid-svg_flowchart-pointEnd)\"></path><path d=\"M317.27,34L323.904,38.167C330.538,42.333,343.806,50.667,350.44,58.117C357.074,65.567,357.074,72.133,357.074,75.417L357.074,78.7\" id=\"L-mer-gra-0\" class=\" edge-thickness-normal edge-pattern-solid flowchart-link LS-mer LE-gra\" style=\"fill:none;\" marker-end=\"url(#mermaid-svg_flowchart-pointEnd)\"></path><path d=\"M328.438,25.376L354.02,30.98C379.603,36.584,430.768,47.792,456.351,56.679C481.934,65.567,481.934,72.133,481.934,75.417L481.934,78.7\" id=\"L-mer-erDigram-0\" class=\" edge-thickness-normal edge-pattern-solid flowchart-link LS-mer LE-erDigram\" style=\"fill:none;\" marker-end=\"url(#mermaid-svg_flowchart-pointEnd)\"></path><path d=\"M54.874,118L50.015,122.167C45.155,126.333,35.437,134.667,30.578,142.117C25.719,149.567,25.719,156.133,25.719,159.417L25.719,162.7\" id=\"L-flow-node-0\" class=\" edge-thickness-normal edge-pattern-solid flowchart-link LS-flow LE-node\" style=\"fill:none;\" marker-end=\"url(#mermaid-svg_flowchart-pointEnd)\"></path><path d=\"M118.645,113.053L136.842,118.044C155.04,123.035,191.436,133.018,209.634,141.292C227.832,149.567,227.832,156.133,227.832,159.417L227.832,162.7\" id=\"L-flow-flow-link-0\" class=\" edge-thickness-normal edge-pattern-solid flowchart-link LS-flow LE-flow-link\" style=\"fill:none;\" marker-end=\"url(#mermaid-svg_flowchart-pointEnd)\"></path><path d=\"M436.129,113.563L418.241,118.469C400.353,123.375,364.577,133.188,346.689,141.377C328.801,149.567,328.801,156.133,328.801,159.417L328.801,162.7\" id=\"L-erDigram-entity-0\" class=\" edge-thickness-normal edge-pattern-solid flowchart-link LS-erDigram LE-entity\" style=\"fill:none;\" marker-end=\"url(#mermaid-svg_flowchart-pointEnd)\"></path><path d=\"M502.368,118L507.376,122.167C512.384,126.333,522.401,134.667,527.41,142.117C532.418,149.567,532.418,156.133,532.418,159.417L532.418,162.7\" id=\"L-erDigram-erdiagram-link-0\" class=\" edge-thickness-normal edge-pattern-solid flowchart-link LS-erDigram LE-erdiagram-link\" style=\"fill:none;\" marker-end=\"url(#mermaid-svg_flowchart-pointEnd)\"></path></g><g class=\"edgeLabels\"><g class=\"edgeLabel\"><g class=\"label\" transform=\"translate(0, 0)\"><foreignObject width=\"0\" height=\"0\"><div xmlns=\"http://www.w3.org/1999/xhtml\" style=\"display: inline-block; white-space: nowrap;\"><span class=\"edgeLabel\"></span></div></foreignObject></g></g><g class=\"edgeLabel\"><g class=\"label\" transform=\"translate(0, 0)\"><foreignObject width=\"0\" height=\"0\"><div xmlns=\"http://www.w3.org/1999/xhtml\" style=\"display: inline-block; white-space: nowrap;\"><span class=\"edgeLabel\"></span></div></foreignObject></g></g><g class=\"edgeLabel\"><g class=\"label\" transform=\"translate(0, 0)\"><foreignObject width=\"0\" height=\"0\"><div xmlns=\"http://www.w3.org/1999/xhtml\" style=\"display: inline-block; white-space: nowrap;\"><span class=\"edgeLabel\"></span></div></foreignObject></g></g><g class=\"edgeLabel\"><g class=\"label\" transform=\"translate(0, 0)\"><foreignObject width=\"0\" height=\"0\"><div xmlns=\"http://www.w3.org/1999/xhtml\" style=\"display: inline-block; white-space: nowrap;\"><span class=\"edgeLabel\"></span></div></foreignObject></g></g><g class=\"edgeLabel\"><g class=\"label\" transform=\"translate(0, 0)\"><foreignObject width=\"0\" height=\"0\"><div xmlns=\"http://www.w3.org/1999/xhtml\" style=\"display: inline-block; white-space: nowrap;\"><span class=\"edgeLabel\"></span></div></foreignObject></g></g><g class=\"edgeLabel\"><g class=\"label\" transform=\"translate(0, 0)\"><foreignObject width=\"0\" height=\"0\"><div xmlns=\"http://www.w3.org/1999/xhtml\" style=\"display: inline-block; white-space: nowrap;\"><span class=\"edgeLabel\"></span></div></foreignObject></g></g><g class=\"edgeLabel\"><g class=\"label\" transform=\"translate(0, 0)\"><foreignObject width=\"0\" height=\"0\"><div xmlns=\"http://www.w3.org/1999/xhtml\" style=\"display: inline-block; white-space: nowrap;\"><span class=\"edgeLabel\"></span></div></foreignObject></g></g><g class=\"edgeLabel\"><g class=\"label\" transform=\"translate(0, 0)\"><foreignObject width=\"0\" height=\"0\"><div xmlns=\"http://www.w3.org/1999/xhtml\" style=\"display: inline-block; white-space: nowrap;\"><span class=\"edgeLabel\"></span></div></foreignObject></g></g></g><g class=\"nodes\"><g class=\"node default default flowchart-label\" id=\"flowchart-mer-0\" transform=\"translate(290.203125, 17)\"><rect class=\"basic label-container\" style=\"\" rx=\"5\" ry=\"5\" x=\"-38.234375\" y=\"-17\" width=\"76.46875\" height=\"34\"></rect><g class=\"label\" style=\"\" transform=\"translate(-30.734375, -9.5)\"><rect></rect><foreignObject width=\"61.46875\" height=\"19\"><div xmlns=\"http://www.w3.org/1999/xhtml\" style=\"display: inline-block; white-space: nowrap;\"><span class=\"nodeLabel\">Mermaid</span></div></foreignObject></g></g><g class=\"node default default flowchart-label\" id=\"flowchart-flow-1\" transform=\"translate(74.69921875, 101)\"><rect class=\"basic label-container\" style=\"\" rx=\"5\" ry=\"5\" x=\"-43.9453125\" y=\"-17\" width=\"87.890625\" height=\"34\"></rect><g class=\"label\" style=\"\" transform=\"translate(-36.4453125, -9.5)\"><rect></rect><foreignObject width=\"72.890625\" height=\"19\"><div xmlns=\"http://www.w3.org/1999/xhtml\" style=\"display: inline-block; white-space: nowrap;\"><span class=\"nodeLabel\">FlowChart</span></div></foreignObject></g></g><g class=\"node default default flowchart-label\" id=\"flowchart-clas-2\" transform=\"translate(223.33203125, 101)\"><rect class=\"basic label-container\" style=\"\" rx=\"5\" ry=\"5\" x=\"-54.6875\" y=\"-17\" width=\"109.375\" height=\"34\"></rect><g class=\"label\" style=\"\" transform=\"translate(-47.1875, -9.5)\"><rect></rect><foreignObject width=\"94.375\" height=\"19\"><div xmlns=\"http://www.w3.org/1999/xhtml\" style=\"display: inline-block; white-space: nowrap;\"><span class=\"nodeLabel\">ClassDiagram</span></div></foreignObject></g></g><g class=\"node default default flowchart-label\" id=\"flowchart-gra-3\" transform=\"translate(357.07421875, 101)\"><rect class=\"basic label-container\" style=\"\" rx=\"5\" ry=\"5\" x=\"-29.0546875\" y=\"-17\" width=\"58.109375\" height=\"34\"></rect><g class=\"label\" style=\"\" transform=\"translate(-21.5546875, -9.5)\"><rect></rect><foreignObject width=\"43.109375\" height=\"19\"><div xmlns=\"http://www.w3.org/1999/xhtml\" style=\"display: inline-block; white-space: nowrap;\"><span class=\"nodeLabel\">Graph</span></div></foreignObject></g></g><g class=\"node default default flowchart-label\" id=\"flowchart-erDigram-4\" transform=\"translate(481.93359375, 101)\"><rect class=\"basic label-container\" style=\"\" rx=\"5\" ry=\"5\" x=\"-45.8046875\" y=\"-17\" width=\"91.609375\" height=\"34\"></rect><g class=\"label\" style=\"\" transform=\"translate(-38.3046875, -9.5)\"><rect></rect><foreignObject width=\"76.609375\" height=\"19\"><div xmlns=\"http://www.w3.org/1999/xhtml\" style=\"display: inline-block; white-space: nowrap;\"><span class=\"nodeLabel\">ERDiagram</span></div></foreignObject></g></g><g class=\"node default default flowchart-label\" id=\"flowchart-erdiagram-link-5\" transform=\"translate(532.41796875, 185)\"><rect class=\"basic label-container\" style=\"\" rx=\"5\" ry=\"5\" x=\"-22.2421875\" y=\"-17\" width=\"44.484375\" height=\"34\"></rect><g class=\"label\" style=\"\" transform=\"translate(-14.7421875, -9.5)\"><rect></rect><foreignObject width=\"29.484375\" height=\"19\"><div xmlns=\"http://www.w3.org/1999/xhtml\" style=\"display: inline-block; white-space: nowrap;\"><span class=\"nodeLabel\">Link</span></div></foreignObject></g></g><g class=\"node default default flowchart-label\" id=\"flowchart-entity-6\" transform=\"translate(328.80078125, 185)\"><rect class=\"basic label-container\" style=\"\" rx=\"5\" ry=\"5\" x=\"-28.7265625\" y=\"-17\" width=\"57.453125\" height=\"34\"></rect><g class=\"label\" style=\"\" transform=\"translate(-21.2265625, -9.5)\"><rect></rect><foreignObject width=\"42.453125\" height=\"19\"><div xmlns=\"http://www.w3.org/1999/xhtml\" style=\"display: inline-block; white-space: nowrap;\"><span class=\"nodeLabel\">Entity</span></div></foreignObject></g></g><g class=\"node default default flowchart-label\" id=\"flowchart-flow-link-7\" transform=\"translate(227.83203125, 185)\"><rect class=\"basic label-container\" style=\"\" rx=\"5\" ry=\"5\" x=\"-22.2421875\" y=\"-17\" width=\"44.484375\" height=\"34\"></rect><g class=\"label\" style=\"\" transform=\"translate(-14.7421875, -9.5)\"><rect></rect><foreignObject width=\"29.484375\" height=\"19\"><div xmlns=\"http://www.w3.org/1999/xhtml\" style=\"display: inline-block; white-space: nowrap;\"><span class=\"nodeLabel\">Link</span></div></foreignObject></g></g><g class=\"node default default flowchart-label\" id=\"flowchart-node-8\" transform=\"translate(25.71875, 185)\"><rect class=\"basic label-container\" style=\"\" rx=\"5\" ry=\"5\" x=\"-25.71875\" y=\"-17\" width=\"51.4375\" height=\"34\"></rect><g class=\"label\" style=\"\" transform=\"translate(-18.21875, -9.5)\"><rect></rect><foreignObject width=\"36.4375\" height=\"19\"><div xmlns=\"http://www.w3.org/1999/xhtml\" style=\"display: inline-block; white-space: nowrap;\"><span class=\"nodeLabel\">Node</span></div></foreignObject></g></g></g></g></g><style>@import url(\"https://cdnjs.cloudflare.com/ajax/libs/font-awesome/6.4.0/css/all.min.css\");</style></svg>"
      ],
      "text/plain": [
       "<mermaid._main.Mermaid at 0x7fa65e60fc70>"
      ]
     },
     "execution_count": 5,
     "metadata": {},
     "output_type": "execute_result"
    }
   ],
   "source": [
    "import mermaid as md\n",
    "from mermaid.graph import Graph\n",
    "from mermaid import Mermaid\n",
    "\n",
    "graph: Graph = Graph('first-graph',\"\"\"\n",
    "graph TD;\n",
    "    mer(Mermaid)\n",
    "    flow(FlowChart);\n",
    "    clas(ClassDiagram)\n",
    "    gra(Graph)\n",
    "    erDigram(ERDiagram)\n",
    "    erdiagram-link(Link)\n",
    "    entity(Entity)\n",
    "    flow-link(Link)\n",
    "    node(Node)\n",
    "    mer --> flow\n",
    "    mer --> clas\n",
    "    mer --> gra\n",
    "    mer --> erDigram\n",
    "    flow --> node & flow-link\n",
    "    erDigram --> entity & erdiagram-link\n",
    "\"\"\")\n",
    "graphe: Mermaid = Mermaid(graph)\n",
    "graphe # !! note this work just in notbooke that render html."
   ]
  },
  {
   "cell_type": "code",
   "execution_count": 8,
   "metadata": {},
   "outputs": [],
   "source": [
    "graphe.to_png('toto.png')"
   ]
  },
  {
   "cell_type": "code",
   "execution_count": null,
   "metadata": {},
   "outputs": [],
   "source": []
  }
 ],
 "metadata": {
  "kernelspec": {
   "display_name": "venv",
   "language": "python",
   "name": "python3"
  },
  "language_info": {
   "codemirror_mode": {
    "name": "ipython",
    "version": 3
   },
   "file_extension": ".py",
   "mimetype": "text/x-python",
   "name": "python",
   "nbconvert_exporter": "python",
   "pygments_lexer": "ipython3",
   "version": "3.10.13"
  }
 },
 "nbformat": 4,
 "nbformat_minor": 2
}
