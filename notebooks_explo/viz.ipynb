{
 "cells": [
  {
   "cell_type": "code",
   "execution_count": 1,
   "metadata": {},
   "outputs": [
    {
     "name": "stdout",
     "output_type": "stream",
     "text": [
      "[14:13:18,900] \u001b[39m[DEBUG]\u001b[0;39m             [Allowance] computing range n°1\n",
      "[14:13:18,920] \u001b[39m[DEBUG]\u001b[0;39m             [Allowance]   computing section n°1\n",
      "[14:13:18,921] \u001b[39m[DEBUG]\u001b[0;39m             [Allowance]   target time = 125.68289999999999\n",
      "[14:13:18,922] \u001b[39m[DEBUG]\u001b[0;39m             [Allowance]     starting attempt 1\n",
      "[14:13:18,934] \u001b[39m[DEBUG]\u001b[0;39m             [Allowance]     envelope time 183.259\n",
      "[14:13:18,934] \u001b[39m[DEBUG]\u001b[0;39m             [Allowance]     starting attempt 2\n",
      "[14:13:18,935] \u001b[39m[DEBUG]\u001b[0;39m             [Allowance]     envelope time 144.777\n",
      "[14:13:18,936] \u001b[39m[DEBUG]\u001b[0;39m             [Allowance]     starting attempt 3\n",
      "[14:13:18,937] \u001b[39m[DEBUG]\u001b[0;39m             [Allowance]     envelope time 131.011\n",
      "[14:13:18,937] \u001b[39m[DEBUG]\u001b[0;39m             [Allowance]     starting attempt 4\n",
      "[14:13:18,938] \u001b[39m[DEBUG]\u001b[0;39m             [Allowance]     envelope time 125.086\n",
      "[14:13:18,971] \u001b[39m[DEBUG]\u001b[0;39m             [Allowance] computing range n°1\n",
      "[14:13:18,973] \u001b[39m[DEBUG]\u001b[0;39m             [Allowance]   computing section n°1\n",
      "[14:13:18,973] \u001b[39m[DEBUG]\u001b[0;39m             [Allowance]   target time = 125.68289999999999\n",
      "[14:13:18,973] \u001b[39m[DEBUG]\u001b[0;39m             [Allowance]     starting attempt 1\n",
      "[14:13:18,974] \u001b[39m[DEBUG]\u001b[0;39m             [Allowance]     envelope time 183.259\n",
      "[14:13:18,975] \u001b[39m[DEBUG]\u001b[0;39m             [Allowance]     starting attempt 2\n",
      "[14:13:18,979] \u001b[39m[DEBUG]\u001b[0;39m             [Allowance]     envelope time 144.777\n",
      "[14:13:18,980] \u001b[39m[DEBUG]\u001b[0;39m             [Allowance]     starting attempt 3\n",
      "[14:13:18,981] \u001b[39m[DEBUG]\u001b[0;39m             [Allowance]     envelope time 131.011\n",
      "[14:13:18,981] \u001b[39m[DEBUG]\u001b[0;39m             [Allowance]     starting attempt 4\n",
      "[14:13:18,982] \u001b[39m[DEBUG]\u001b[0;39m             [Allowance]     envelope time 125.086\n"
     ]
    }
   ],
   "source": [
    "from rlway.pyosrd import OSRD\n",
    "sim = OSRD(use_case='cvg_dvg', dir='cvg_dvg')"
   ]
  },
  {
   "cell_type": "code",
   "execution_count": 77,
   "metadata": {},
   "outputs": [],
   "source": [
    "sim=OSRD('../cases/small_infra/')"
   ]
  },
  {
   "cell_type": "code",
   "execution_count": 79,
   "metadata": {},
   "outputs": [
    {
     "name": "stdout",
     "output_type": "stream",
     "text": [
      "[15:19:00,747] \u001b[39m[DEBUG]\u001b[0;39m             [Allowance] computing range n°1\n",
      "[15:19:00,785] \u001b[39m[DEBUG]\u001b[0;39m             [Allowance]   computing section n°1\n",
      "[15:19:00,788] \u001b[39m[DEBUG]\u001b[0;39m             [Allowance]   target time = 826.04025\n",
      "[15:19:00,789] \u001b[39m[DEBUG]\u001b[0;39m             [Allowance]     starting attempt 1\n",
      "[15:19:00,803] \u001b[39m[DEBUG]\u001b[0;39m             [Allowance]     envelope time 1424.723\n",
      "[15:19:00,804] \u001b[39m[DEBUG]\u001b[0;39m             [Allowance]     starting attempt 2\n",
      "[15:19:00,805] \u001b[39m[DEBUG]\u001b[0;39m             [Allowance]     envelope time 1013.669\n",
      "[15:19:00,806] \u001b[39m[DEBUG]\u001b[0;39m             [Allowance]     starting attempt 3\n",
      "[15:19:00,807] \u001b[39m[DEBUG]\u001b[0;39m             [Allowance]     envelope time 885.83\n",
      "[15:19:00,808] \u001b[39m[DEBUG]\u001b[0;39m             [Allowance]     starting attempt 4\n",
      "[15:19:00,826] \u001b[39m[DEBUG]\u001b[0;39m             [Allowance]     envelope time 833.121\n",
      "[15:19:00,826] \u001b[39m[DEBUG]\u001b[0;39m             [Allowance]     starting attempt 5\n",
      "[15:19:00,827] \u001b[39m[DEBUG]\u001b[0;39m             [Allowance]     envelope time 809.127\n",
      "[15:19:00,828] \u001b[39m[DEBUG]\u001b[0;39m             [Allowance]     starting attempt 6\n",
      "[15:19:00,831] \u001b[39m[DEBUG]\u001b[0;39m             [Allowance]     envelope time 820.927\n",
      "[15:19:00,832] \u001b[39m[DEBUG]\u001b[0;39m             [Allowance]     starting attempt 7\n",
      "[15:19:00,834] \u001b[39m[DEBUG]\u001b[0;39m             [Allowance]     envelope time 827.22\n",
      "[15:19:00,900] \u001b[39m[DEBUG]\u001b[0;39m             [Allowance] computing range n°1\n",
      "[15:19:00,905] \u001b[39m[DEBUG]\u001b[0;39m             [Allowance]   computing section n°1\n",
      "[15:19:00,906] \u001b[39m[DEBUG]\u001b[0;39m             [Allowance]   target time = 782.6889\n",
      "[15:19:00,906] \u001b[39m[DEBUG]\u001b[0;39m             [Allowance]     starting attempt 1\n",
      "[15:19:00,907] \u001b[39m[DEBUG]\u001b[0;39m             [Allowance]     envelope time 1349.952\n",
      "[15:19:00,908] \u001b[39m[DEBUG]\u001b[0;39m             [Allowance]     starting attempt 2\n",
      "[15:19:00,909] \u001b[39m[DEBUG]\u001b[0;39m             [Allowance]     envelope time 960.47\n",
      "[15:19:00,909] \u001b[39m[DEBUG]\u001b[0;39m             [Allowance]     starting attempt 3\n",
      "[15:19:00,910] \u001b[39m[DEBUG]\u001b[0;39m             [Allowance]     envelope time 839.341\n",
      "[15:19:00,910] \u001b[39m[DEBUG]\u001b[0;39m             [Allowance]     starting attempt 4\n",
      "[15:19:00,911] \u001b[39m[DEBUG]\u001b[0;39m             [Allowance]     envelope time 789.398\n",
      "[15:19:00,912] \u001b[39m[DEBUG]\u001b[0;39m             [Allowance]     starting attempt 5\n",
      "[15:19:00,915] \u001b[39m[DEBUG]\u001b[0;39m             [Allowance]     envelope time 766.663\n",
      "[15:19:00,916] \u001b[39m[DEBUG]\u001b[0;39m             [Allowance]     starting attempt 6\n",
      "[15:19:00,918] \u001b[39m[DEBUG]\u001b[0;39m             [Allowance]     envelope time 777.844\n",
      "[15:19:00,919] \u001b[39m[DEBUG]\u001b[0;39m             [Allowance]     starting attempt 7\n",
      "[15:19:00,920] \u001b[39m[DEBUG]\u001b[0;39m             [Allowance]     envelope time 783.807\n",
      "[15:19:00,988] \u001b[39m[DEBUG]\u001b[0;39m             [Allowance] computing range n°1\n",
      "[15:19:00,990] \u001b[39m[DEBUG]\u001b[0;39m             [Allowance]   computing section n°1\n",
      "[15:19:00,991] \u001b[39m[DEBUG]\u001b[0;39m             [Allowance]   target time = 839.61045\n",
      "[15:19:00,991] \u001b[39m[DEBUG]\u001b[0;39m             [Allowance]     starting attempt 1\n",
      "[15:19:00,998] \u001b[39m[DEBUG]\u001b[0;39m             [Allowance]     envelope time 1448.135\n",
      "[15:19:00,999] \u001b[39m[DEBUG]\u001b[0;39m             [Allowance]     starting attempt 2\n",
      "[15:19:01,002] \u001b[39m[DEBUG]\u001b[0;39m             [Allowance]     envelope time 1030.324\n",
      "[15:19:01,003] \u001b[39m[DEBUG]\u001b[0;39m             [Allowance]     starting attempt 3\n",
      "[15:19:01,004] \u001b[39m[DEBUG]\u001b[0;39m             [Allowance]     envelope time 900.384\n",
      "[15:19:01,005] \u001b[39m[DEBUG]\u001b[0;39m             [Allowance]     starting attempt 4\n",
      "[15:19:01,018] \u001b[39m[DEBUG]\u001b[0;39m             [Allowance]     envelope time 846.81\n",
      "[15:19:01,018] \u001b[39m[DEBUG]\u001b[0;39m             [Allowance]     starting attempt 5\n",
      "[15:19:01,021] \u001b[39m[DEBUG]\u001b[0;39m             [Allowance]     envelope time 822.42\n",
      "[15:19:01,022] \u001b[39m[DEBUG]\u001b[0;39m             [Allowance]     starting attempt 6\n",
      "[15:19:01,025] \u001b[39m[DEBUG]\u001b[0;39m             [Allowance]     envelope time 834.414\n",
      "[15:19:01,026] \u001b[39m[DEBUG]\u001b[0;39m             [Allowance]     starting attempt 7\n",
      "[15:19:01,038] \u001b[39m[DEBUG]\u001b[0;39m             [Allowance]     envelope time 840.811\n"
     ]
    }
   ],
   "source": [
    "sim.run()"
   ]
  },
  {
   "cell_type": "code",
   "execution_count": 80,
   "metadata": {},
   "outputs": [],
   "source": [
    "import plotly.express as px"
   ]
  },
  {
   "cell_type": "code",
   "execution_count": 81,
   "metadata": {},
   "outputs": [],
   "source": [
    "for train, _ in enumerate(sim.trains):\n",
    "    for simulation in ['base', 'eco']:\n",
    "        for record in sim.results[train][simulation+'_simulations'][0]['head_positions']:\n",
    "            record['time'] += sim.departure_times[train]"
   ]
  },
  {
   "cell_type": "code",
   "execution_count": 85,
   "metadata": {},
   "outputs": [],
   "source": [
    "simulation += '_simulations'\n",
    "train = 0\n",
    "records = [\n",
    "    record\n",
    "    for record in sim.results[train][simulation][0]['head_positions']\n",
    "    # if record['track_section'] in common_tracks\n",
    "]\n",
    "offset = sim.results[train][simulation][0]['head_positions'][0]['offset']\n",
    "offsets = [offset + t['path_offset'] for t in records]\n",
    "times = [t['time']/60 for t in records]"
   ]
  },
  {
   "cell_type": "code",
   "execution_count": 89,
   "metadata": {},
   "outputs": [
    {
     "data": {
      "text/plain": [
       "['TA0', 'TA6', 'TC1', 'TD0', 'TD2', 'TG0', 'TH0', 'TH1']"
      ]
     },
     "execution_count": 89,
     "metadata": {},
     "output_type": "execute_result"
    }
   ],
   "source": [
    "sim.train_track_sections(2)"
   ]
  },
  {
   "cell_type": "code",
   "execution_count": 88,
   "metadata": {},
   "outputs": [
    {
     "data": {
      "text/plain": [
       "['TA1', 'TA3', 'TA6', 'TE1', 'TE0', 'TF1']"
      ]
     },
     "execution_count": 88,
     "metadata": {},
     "output_type": "execute_result"
    }
   ],
   "source": [
    "sim.train_track_sections(0)"
   ]
  },
  {
   "cell_type": "code",
   "execution_count": 91,
   "metadata": {},
   "outputs": [
    {
     "data": {
      "text/plain": [
       "['TA6']"
      ]
     },
     "execution_count": 91,
     "metadata": {},
     "output_type": "execute_result"
    }
   ],
   "source": [
    "train2 = 2\n",
    "common_tracks = [\n",
    "    t\n",
    "    for t in sim.train_track_sections(train2)\n",
    "    if t in sim.train_track_sections(train)\n",
    "]\n",
    "common_tracks"
   ]
  },
  {
   "cell_type": "code",
   "execution_count": 92,
   "metadata": {},
   "outputs": [],
   "source": [
    "records = [\n",
    "    record\n",
    "    for record in sim.results[train2][simulation][0]['head_positions']\n",
    "    if record['track_section'] in common_tracks\n",
    "]\n",
    "offset_2 = sim.results[train2][simulation][0]['head_positions'][0]['offset']\n",
    "offsets_2 = [offset_2 + t['path_offset'] for t in records]\n",
    "times_2 = [t['time']/60 for t in records]"
   ]
  },
  {
   "cell_type": "code",
   "execution_count": 96,
   "metadata": {},
   "outputs": [],
   "source": [
    "points = sim.points_encountered_by_train(train, ['station'])"
   ]
  },
  {
   "cell_type": "code",
   "execution_count": 97,
   "metadata": {},
   "outputs": [
    {
     "data": {
      "application/vnd.plotly.v1+json": {
       "config": {
        "plotlyServerURL": "https://plot.ly"
       },
       "data": [
        {
         "mode": "lines",
         "name": "train0",
         "type": "scatter",
         "x": [
          0,
          0.14020195105254152,
          0.28040390210508304,
          0.42060585315762455,
          0.4907068286838953,
          0.5958582919733015,
          0.7360602430258429,
          0.8762621940783843,
          1.016464145130926,
          1.086565120657197,
          1.191716583946603,
          1.3319185349991443,
          1.4020195105254152,
          1.5071709738148213,
          1.6473729248673628,
          1.8226253636830398,
          1.9628273147355813,
          2.138079753551258,
          2.3133321923669348,
          2.4885846311826114,
          2.628786582235153,
          2.7689885332876947,
          2.9091904843402356,
          3.084442923155913,
          3.259695361971589,
          3.4699982885504026,
          3.680301215129215,
          3.8906041417080264,
          4.091708056599857,
          10.983169604952566,
          11.053270580478836,
          11.158422043768242,
          11.263573507057648,
          11.368724970347053,
          11.508926921399594,
          11.649128872452135,
          11.789330823504676,
          11.859431799030945,
          11.964583262320351,
          12.10478521337289,
          12.174886188899162,
          12.280037652188566,
          12.420239603241107,
          12.490340578767379,
          12.595492042056783,
          12.735693993109324,
          12.875895944161865,
          13.016097895214406,
          13.086198870740676,
          13.191350334030082,
          13.331552285082621,
          13.401653260608892,
          13.506804723898297,
          13.647006674950838,
          13.803875292670046
         ],
         "y": [
          500,
          516.6740877953388,
          566.4596974596735,
          648.9788995036484,
          702.3893101536622,
          797.5467709619726,
          952.2048652357632,
          1138.15211443414,
          1354.8081705748855,
          1474.4631467729964,
          1667.8887241763425,
          1951.4086497247758,
          2103.963998630667,
          2346.0230327187546,
          2692.9082889893984,
          3163.969997635332,
          3569.598911575878,
          4110.9922644532635,
          4688.53679485932,
          5300.065024556558,
          5812.2988590835885,
          6343.53895951497,
          6893.750474686149,
          7605.300864509398,
          8336.35184075984,
          9234.763605629063,
          10151.30566098749,
          11084.674678030957,
          11994.554822636614,
          43453,
          43769,
          44228,
          44669,
          45092,
          45628,
          46132,
          46604,
          46828,
          47149,
          47549,
          47737,
          48004,
          48332,
          48484,
          48697,
          48953,
          49177,
          49369,
          49453,
          49564,
          49684,
          49732,
          49789,
          49837,
          49853
         ]
        },
        {
         "mode": "lines",
         "name": "train1",
         "type": "scatter",
         "x": [
          1.4721204860516863,
          1.5422214615779568,
          1.647372924867363,
          1.717473900393634,
          1.8226253636830398,
          1.8927263392093105,
          1.9978778024987167,
          2.173130241314394,
          2.348382680130071,
          2.523635118945748,
          2.6988875577614246,
          2.8040390210508312,
          2.909190484340237,
          3.0143419476296436,
          3.154543898682185,
          3.2947458497347264,
          3.4699982885504026,
          3.6452507273660797,
          3.8555536539448907,
          4.030806092760568,
          4.206058531576245
         ],
         "y": [
          2010.1985424908648,
          2148.7048894445757,
          2370.031955915451,
          2526.497085799244,
          2774.3169796711963,
          2948.1231415942248,
          3221.420522002557,
          3709.466057443122,
          4236.561767337267,
          4800.646516934212,
          5399.526090025254,
          5774.674167204518,
          6161.09902713897,
          6558.600338386258,
          7106.153722600485,
          7670.612243457122,
          8394.602934933231,
          9135.726766122396,
          10042.659489913602,
          10811.205676434829,
          11593.168963690616
         ]
        }
       ],
       "layout": {
        "shapes": [
         {
          "line": {
           "color": "black",
           "dash": "dash",
           "width": 0.5
          },
          "type": "line",
          "x0": 0,
          "x1": 1,
          "xref": "x domain",
          "y0": 500,
          "y1": 500,
          "yref": "y"
         },
         {
          "line": {
           "color": "black",
           "dash": "dash",
           "width": 0.5
          },
          "type": "line",
          "x0": 0,
          "x1": 1,
          "xref": "x domain",
          "y0": 13000,
          "y1": 13000,
          "yref": "y"
         },
         {
          "line": {
           "color": "black",
           "dash": "dash",
           "width": 0.5
          },
          "type": "line",
          "x0": 0,
          "x1": 1,
          "xref": "x domain",
          "y0": 19800,
          "y1": 19800,
          "yref": "y"
         }
        ],
        "template": {
         "data": {
          "bar": [
           {
            "error_x": {
             "color": "rgb(36,36,36)"
            },
            "error_y": {
             "color": "rgb(36,36,36)"
            },
            "marker": {
             "line": {
              "color": "white",
              "width": 0.5
             },
             "pattern": {
              "fillmode": "overlay",
              "size": 10,
              "solidity": 0.2
             }
            },
            "type": "bar"
           }
          ],
          "barpolar": [
           {
            "marker": {
             "line": {
              "color": "white",
              "width": 0.5
             },
             "pattern": {
              "fillmode": "overlay",
              "size": 10,
              "solidity": 0.2
             }
            },
            "type": "barpolar"
           }
          ],
          "carpet": [
           {
            "aaxis": {
             "endlinecolor": "rgb(36,36,36)",
             "gridcolor": "white",
             "linecolor": "white",
             "minorgridcolor": "white",
             "startlinecolor": "rgb(36,36,36)"
            },
            "baxis": {
             "endlinecolor": "rgb(36,36,36)",
             "gridcolor": "white",
             "linecolor": "white",
             "minorgridcolor": "white",
             "startlinecolor": "rgb(36,36,36)"
            },
            "type": "carpet"
           }
          ],
          "choropleth": [
           {
            "colorbar": {
             "outlinewidth": 1,
             "tickcolor": "rgb(36,36,36)",
             "ticks": "outside"
            },
            "type": "choropleth"
           }
          ],
          "contour": [
           {
            "colorbar": {
             "outlinewidth": 1,
             "tickcolor": "rgb(36,36,36)",
             "ticks": "outside"
            },
            "colorscale": [
             [
              0,
              "#440154"
             ],
             [
              0.1111111111111111,
              "#482878"
             ],
             [
              0.2222222222222222,
              "#3e4989"
             ],
             [
              0.3333333333333333,
              "#31688e"
             ],
             [
              0.4444444444444444,
              "#26828e"
             ],
             [
              0.5555555555555556,
              "#1f9e89"
             ],
             [
              0.6666666666666666,
              "#35b779"
             ],
             [
              0.7777777777777778,
              "#6ece58"
             ],
             [
              0.8888888888888888,
              "#b5de2b"
             ],
             [
              1,
              "#fde725"
             ]
            ],
            "type": "contour"
           }
          ],
          "contourcarpet": [
           {
            "colorbar": {
             "outlinewidth": 1,
             "tickcolor": "rgb(36,36,36)",
             "ticks": "outside"
            },
            "type": "contourcarpet"
           }
          ],
          "heatmap": [
           {
            "colorbar": {
             "outlinewidth": 1,
             "tickcolor": "rgb(36,36,36)",
             "ticks": "outside"
            },
            "colorscale": [
             [
              0,
              "#440154"
             ],
             [
              0.1111111111111111,
              "#482878"
             ],
             [
              0.2222222222222222,
              "#3e4989"
             ],
             [
              0.3333333333333333,
              "#31688e"
             ],
             [
              0.4444444444444444,
              "#26828e"
             ],
             [
              0.5555555555555556,
              "#1f9e89"
             ],
             [
              0.6666666666666666,
              "#35b779"
             ],
             [
              0.7777777777777778,
              "#6ece58"
             ],
             [
              0.8888888888888888,
              "#b5de2b"
             ],
             [
              1,
              "#fde725"
             ]
            ],
            "type": "heatmap"
           }
          ],
          "heatmapgl": [
           {
            "colorbar": {
             "outlinewidth": 1,
             "tickcolor": "rgb(36,36,36)",
             "ticks": "outside"
            },
            "colorscale": [
             [
              0,
              "#440154"
             ],
             [
              0.1111111111111111,
              "#482878"
             ],
             [
              0.2222222222222222,
              "#3e4989"
             ],
             [
              0.3333333333333333,
              "#31688e"
             ],
             [
              0.4444444444444444,
              "#26828e"
             ],
             [
              0.5555555555555556,
              "#1f9e89"
             ],
             [
              0.6666666666666666,
              "#35b779"
             ],
             [
              0.7777777777777778,
              "#6ece58"
             ],
             [
              0.8888888888888888,
              "#b5de2b"
             ],
             [
              1,
              "#fde725"
             ]
            ],
            "type": "heatmapgl"
           }
          ],
          "histogram": [
           {
            "marker": {
             "line": {
              "color": "white",
              "width": 0.6
             }
            },
            "type": "histogram"
           }
          ],
          "histogram2d": [
           {
            "colorbar": {
             "outlinewidth": 1,
             "tickcolor": "rgb(36,36,36)",
             "ticks": "outside"
            },
            "colorscale": [
             [
              0,
              "#440154"
             ],
             [
              0.1111111111111111,
              "#482878"
             ],
             [
              0.2222222222222222,
              "#3e4989"
             ],
             [
              0.3333333333333333,
              "#31688e"
             ],
             [
              0.4444444444444444,
              "#26828e"
             ],
             [
              0.5555555555555556,
              "#1f9e89"
             ],
             [
              0.6666666666666666,
              "#35b779"
             ],
             [
              0.7777777777777778,
              "#6ece58"
             ],
             [
              0.8888888888888888,
              "#b5de2b"
             ],
             [
              1,
              "#fde725"
             ]
            ],
            "type": "histogram2d"
           }
          ],
          "histogram2dcontour": [
           {
            "colorbar": {
             "outlinewidth": 1,
             "tickcolor": "rgb(36,36,36)",
             "ticks": "outside"
            },
            "colorscale": [
             [
              0,
              "#440154"
             ],
             [
              0.1111111111111111,
              "#482878"
             ],
             [
              0.2222222222222222,
              "#3e4989"
             ],
             [
              0.3333333333333333,
              "#31688e"
             ],
             [
              0.4444444444444444,
              "#26828e"
             ],
             [
              0.5555555555555556,
              "#1f9e89"
             ],
             [
              0.6666666666666666,
              "#35b779"
             ],
             [
              0.7777777777777778,
              "#6ece58"
             ],
             [
              0.8888888888888888,
              "#b5de2b"
             ],
             [
              1,
              "#fde725"
             ]
            ],
            "type": "histogram2dcontour"
           }
          ],
          "mesh3d": [
           {
            "colorbar": {
             "outlinewidth": 1,
             "tickcolor": "rgb(36,36,36)",
             "ticks": "outside"
            },
            "type": "mesh3d"
           }
          ],
          "parcoords": [
           {
            "line": {
             "colorbar": {
              "outlinewidth": 1,
              "tickcolor": "rgb(36,36,36)",
              "ticks": "outside"
             }
            },
            "type": "parcoords"
           }
          ],
          "pie": [
           {
            "automargin": true,
            "type": "pie"
           }
          ],
          "scatter": [
           {
            "fillpattern": {
             "fillmode": "overlay",
             "size": 10,
             "solidity": 0.2
            },
            "type": "scatter"
           }
          ],
          "scatter3d": [
           {
            "line": {
             "colorbar": {
              "outlinewidth": 1,
              "tickcolor": "rgb(36,36,36)",
              "ticks": "outside"
             }
            },
            "marker": {
             "colorbar": {
              "outlinewidth": 1,
              "tickcolor": "rgb(36,36,36)",
              "ticks": "outside"
             }
            },
            "type": "scatter3d"
           }
          ],
          "scattercarpet": [
           {
            "marker": {
             "colorbar": {
              "outlinewidth": 1,
              "tickcolor": "rgb(36,36,36)",
              "ticks": "outside"
             }
            },
            "type": "scattercarpet"
           }
          ],
          "scattergeo": [
           {
            "marker": {
             "colorbar": {
              "outlinewidth": 1,
              "tickcolor": "rgb(36,36,36)",
              "ticks": "outside"
             }
            },
            "type": "scattergeo"
           }
          ],
          "scattergl": [
           {
            "marker": {
             "colorbar": {
              "outlinewidth": 1,
              "tickcolor": "rgb(36,36,36)",
              "ticks": "outside"
             }
            },
            "type": "scattergl"
           }
          ],
          "scattermapbox": [
           {
            "marker": {
             "colorbar": {
              "outlinewidth": 1,
              "tickcolor": "rgb(36,36,36)",
              "ticks": "outside"
             }
            },
            "type": "scattermapbox"
           }
          ],
          "scatterpolar": [
           {
            "marker": {
             "colorbar": {
              "outlinewidth": 1,
              "tickcolor": "rgb(36,36,36)",
              "ticks": "outside"
             }
            },
            "type": "scatterpolar"
           }
          ],
          "scatterpolargl": [
           {
            "marker": {
             "colorbar": {
              "outlinewidth": 1,
              "tickcolor": "rgb(36,36,36)",
              "ticks": "outside"
             }
            },
            "type": "scatterpolargl"
           }
          ],
          "scatterternary": [
           {
            "marker": {
             "colorbar": {
              "outlinewidth": 1,
              "tickcolor": "rgb(36,36,36)",
              "ticks": "outside"
             }
            },
            "type": "scatterternary"
           }
          ],
          "surface": [
           {
            "colorbar": {
             "outlinewidth": 1,
             "tickcolor": "rgb(36,36,36)",
             "ticks": "outside"
            },
            "colorscale": [
             [
              0,
              "#440154"
             ],
             [
              0.1111111111111111,
              "#482878"
             ],
             [
              0.2222222222222222,
              "#3e4989"
             ],
             [
              0.3333333333333333,
              "#31688e"
             ],
             [
              0.4444444444444444,
              "#26828e"
             ],
             [
              0.5555555555555556,
              "#1f9e89"
             ],
             [
              0.6666666666666666,
              "#35b779"
             ],
             [
              0.7777777777777778,
              "#6ece58"
             ],
             [
              0.8888888888888888,
              "#b5de2b"
             ],
             [
              1,
              "#fde725"
             ]
            ],
            "type": "surface"
           }
          ],
          "table": [
           {
            "cells": {
             "fill": {
              "color": "rgb(237,237,237)"
             },
             "line": {
              "color": "white"
             }
            },
            "header": {
             "fill": {
              "color": "rgb(217,217,217)"
             },
             "line": {
              "color": "white"
             }
            },
            "type": "table"
           }
          ]
         },
         "layout": {
          "annotationdefaults": {
           "arrowhead": 0,
           "arrowwidth": 1
          },
          "autotypenumbers": "strict",
          "coloraxis": {
           "colorbar": {
            "outlinewidth": 1,
            "tickcolor": "rgb(36,36,36)",
            "ticks": "outside"
           }
          },
          "colorscale": {
           "diverging": [
            [
             0,
             "rgb(103,0,31)"
            ],
            [
             0.1,
             "rgb(178,24,43)"
            ],
            [
             0.2,
             "rgb(214,96,77)"
            ],
            [
             0.3,
             "rgb(244,165,130)"
            ],
            [
             0.4,
             "rgb(253,219,199)"
            ],
            [
             0.5,
             "rgb(247,247,247)"
            ],
            [
             0.6,
             "rgb(209,229,240)"
            ],
            [
             0.7,
             "rgb(146,197,222)"
            ],
            [
             0.8,
             "rgb(67,147,195)"
            ],
            [
             0.9,
             "rgb(33,102,172)"
            ],
            [
             1,
             "rgb(5,48,97)"
            ]
           ],
           "sequential": [
            [
             0,
             "#440154"
            ],
            [
             0.1111111111111111,
             "#482878"
            ],
            [
             0.2222222222222222,
             "#3e4989"
            ],
            [
             0.3333333333333333,
             "#31688e"
            ],
            [
             0.4444444444444444,
             "#26828e"
            ],
            [
             0.5555555555555556,
             "#1f9e89"
            ],
            [
             0.6666666666666666,
             "#35b779"
            ],
            [
             0.7777777777777778,
             "#6ece58"
            ],
            [
             0.8888888888888888,
             "#b5de2b"
            ],
            [
             1,
             "#fde725"
            ]
           ],
           "sequentialminus": [
            [
             0,
             "#440154"
            ],
            [
             0.1111111111111111,
             "#482878"
            ],
            [
             0.2222222222222222,
             "#3e4989"
            ],
            [
             0.3333333333333333,
             "#31688e"
            ],
            [
             0.4444444444444444,
             "#26828e"
            ],
            [
             0.5555555555555556,
             "#1f9e89"
            ],
            [
             0.6666666666666666,
             "#35b779"
            ],
            [
             0.7777777777777778,
             "#6ece58"
            ],
            [
             0.8888888888888888,
             "#b5de2b"
            ],
            [
             1,
             "#fde725"
            ]
           ]
          },
          "colorway": [
           "#1F77B4",
           "#FF7F0E",
           "#2CA02C",
           "#D62728",
           "#9467BD",
           "#8C564B",
           "#E377C2",
           "#7F7F7F",
           "#BCBD22",
           "#17BECF"
          ],
          "font": {
           "color": "rgb(36,36,36)"
          },
          "geo": {
           "bgcolor": "white",
           "lakecolor": "white",
           "landcolor": "white",
           "showlakes": true,
           "showland": true,
           "subunitcolor": "white"
          },
          "hoverlabel": {
           "align": "left"
          },
          "hovermode": "closest",
          "mapbox": {
           "style": "light"
          },
          "paper_bgcolor": "white",
          "plot_bgcolor": "white",
          "polar": {
           "angularaxis": {
            "gridcolor": "rgb(232,232,232)",
            "linecolor": "rgb(36,36,36)",
            "showgrid": false,
            "showline": true,
            "ticks": "outside"
           },
           "bgcolor": "white",
           "radialaxis": {
            "gridcolor": "rgb(232,232,232)",
            "linecolor": "rgb(36,36,36)",
            "showgrid": false,
            "showline": true,
            "ticks": "outside"
           }
          },
          "scene": {
           "xaxis": {
            "backgroundcolor": "white",
            "gridcolor": "rgb(232,232,232)",
            "gridwidth": 2,
            "linecolor": "rgb(36,36,36)",
            "showbackground": true,
            "showgrid": false,
            "showline": true,
            "ticks": "outside",
            "zeroline": false,
            "zerolinecolor": "rgb(36,36,36)"
           },
           "yaxis": {
            "backgroundcolor": "white",
            "gridcolor": "rgb(232,232,232)",
            "gridwidth": 2,
            "linecolor": "rgb(36,36,36)",
            "showbackground": true,
            "showgrid": false,
            "showline": true,
            "ticks": "outside",
            "zeroline": false,
            "zerolinecolor": "rgb(36,36,36)"
           },
           "zaxis": {
            "backgroundcolor": "white",
            "gridcolor": "rgb(232,232,232)",
            "gridwidth": 2,
            "linecolor": "rgb(36,36,36)",
            "showbackground": true,
            "showgrid": false,
            "showline": true,
            "ticks": "outside",
            "zeroline": false,
            "zerolinecolor": "rgb(36,36,36)"
           }
          },
          "shapedefaults": {
           "fillcolor": "black",
           "line": {
            "width": 0
           },
           "opacity": 0.3
          },
          "ternary": {
           "aaxis": {
            "gridcolor": "rgb(232,232,232)",
            "linecolor": "rgb(36,36,36)",
            "showgrid": false,
            "showline": true,
            "ticks": "outside"
           },
           "baxis": {
            "gridcolor": "rgb(232,232,232)",
            "linecolor": "rgb(36,36,36)",
            "showgrid": false,
            "showline": true,
            "ticks": "outside"
           },
           "bgcolor": "white",
           "caxis": {
            "gridcolor": "rgb(232,232,232)",
            "linecolor": "rgb(36,36,36)",
            "showgrid": false,
            "showline": true,
            "ticks": "outside"
           }
          },
          "title": {
           "x": 0.05
          },
          "xaxis": {
           "automargin": true,
           "gridcolor": "rgb(232,232,232)",
           "linecolor": "rgb(36,36,36)",
           "showgrid": false,
           "showline": true,
           "ticks": "outside",
           "title": {
            "standoff": 15
           },
           "zeroline": false,
           "zerolinecolor": "rgb(36,36,36)"
          },
          "yaxis": {
           "automargin": true,
           "gridcolor": "rgb(232,232,232)",
           "linecolor": "rgb(36,36,36)",
           "showgrid": false,
           "showline": true,
           "ticks": "outside",
           "title": {
            "standoff": 15
           },
           "zeroline": false,
           "zerolinecolor": "rgb(36,36,36)"
          }
         }
        },
        "title": {
         "text": "train 0 (eco)"
        },
        "yaxis": {
         "tickmode": "array",
         "ticktext": [
          "South_West_station",
          "North_station",
          "South_station"
         ],
         "tickvals": [
          500,
          13000,
          19800
         ]
        }
       }
      },
      "text/html": [
       "<div>                            <div id=\"3cafd9f3-ba95-4c95-8803-432479517b40\" class=\"plotly-graph-div\" style=\"height:525px; width:100%;\"></div>            <script type=\"text/javascript\">                require([\"plotly\"], function(Plotly) {                    window.PLOTLYENV=window.PLOTLYENV || {};                                    if (document.getElementById(\"3cafd9f3-ba95-4c95-8803-432479517b40\")) {                    Plotly.newPlot(                        \"3cafd9f3-ba95-4c95-8803-432479517b40\",                        [{\"mode\":\"lines\",\"name\":\"train0\",\"x\":[0.0,0.14020195105254152,0.28040390210508304,0.42060585315762455,0.4907068286838953,0.5958582919733015,0.7360602430258429,0.8762621940783843,1.016464145130926,1.086565120657197,1.191716583946603,1.3319185349991443,1.4020195105254152,1.5071709738148213,1.6473729248673628,1.8226253636830398,1.9628273147355813,2.138079753551258,2.3133321923669348,2.4885846311826114,2.628786582235153,2.7689885332876947,2.9091904843402356,3.084442923155913,3.259695361971589,3.4699982885504026,3.680301215129215,3.8906041417080264,4.091708056599857,10.983169604952566,11.053270580478836,11.158422043768242,11.263573507057648,11.368724970347053,11.508926921399594,11.649128872452135,11.789330823504676,11.859431799030945,11.964583262320351,12.10478521337289,12.174886188899162,12.280037652188566,12.420239603241107,12.490340578767379,12.595492042056783,12.735693993109324,12.875895944161865,13.016097895214406,13.086198870740676,13.191350334030082,13.331552285082621,13.401653260608892,13.506804723898297,13.647006674950838,13.803875292670046],\"y\":[500.0,516.6740877953388,566.4596974596735,648.9788995036484,702.3893101536622,797.5467709619726,952.2048652357632,1138.15211443414,1354.8081705748855,1474.4631467729964,1667.8887241763425,1951.4086497247758,2103.963998630667,2346.0230327187546,2692.9082889893984,3163.969997635332,3569.598911575878,4110.9922644532635,4688.53679485932,5300.065024556558,5812.2988590835885,6343.53895951497,6893.750474686149,7605.300864509398,8336.35184075984,9234.763605629063,10151.30566098749,11084.674678030957,11994.554822636614,43453.0,43769.0,44228.0,44669.0,45092.0,45628.0,46132.0,46604.0,46828.0,47149.0,47549.0,47737.0,48004.0,48332.0,48484.0,48697.0,48953.0,49177.0,49369.0,49453.0,49564.0,49684.0,49732.0,49789.0,49837.0,49853.0],\"type\":\"scatter\"},{\"mode\":\"lines\",\"name\":\"train1\",\"x\":[1.4721204860516863,1.5422214615779568,1.647372924867363,1.717473900393634,1.8226253636830398,1.8927263392093105,1.9978778024987167,2.173130241314394,2.348382680130071,2.523635118945748,2.6988875577614246,2.8040390210508312,2.909190484340237,3.0143419476296436,3.154543898682185,3.2947458497347264,3.4699982885504026,3.6452507273660797,3.8555536539448907,4.030806092760568,4.206058531576245],\"y\":[2010.1985424908648,2148.7048894445757,2370.031955915451,2526.497085799244,2774.3169796711963,2948.1231415942248,3221.420522002557,3709.466057443122,4236.561767337267,4800.646516934212,5399.526090025254,5774.674167204518,6161.09902713897,6558.600338386258,7106.153722600485,7670.612243457122,8394.602934933231,9135.726766122396,10042.659489913602,10811.205676434829,11593.168963690616],\"type\":\"scatter\"}],                        {\"template\":{\"data\":{\"barpolar\":[{\"marker\":{\"line\":{\"color\":\"white\",\"width\":0.5},\"pattern\":{\"fillmode\":\"overlay\",\"size\":10,\"solidity\":0.2}},\"type\":\"barpolar\"}],\"bar\":[{\"error_x\":{\"color\":\"rgb(36,36,36)\"},\"error_y\":{\"color\":\"rgb(36,36,36)\"},\"marker\":{\"line\":{\"color\":\"white\",\"width\":0.5},\"pattern\":{\"fillmode\":\"overlay\",\"size\":10,\"solidity\":0.2}},\"type\":\"bar\"}],\"carpet\":[{\"aaxis\":{\"endlinecolor\":\"rgb(36,36,36)\",\"gridcolor\":\"white\",\"linecolor\":\"white\",\"minorgridcolor\":\"white\",\"startlinecolor\":\"rgb(36,36,36)\"},\"baxis\":{\"endlinecolor\":\"rgb(36,36,36)\",\"gridcolor\":\"white\",\"linecolor\":\"white\",\"minorgridcolor\":\"white\",\"startlinecolor\":\"rgb(36,36,36)\"},\"type\":\"carpet\"}],\"choropleth\":[{\"colorbar\":{\"outlinewidth\":1,\"tickcolor\":\"rgb(36,36,36)\",\"ticks\":\"outside\"},\"type\":\"choropleth\"}],\"contourcarpet\":[{\"colorbar\":{\"outlinewidth\":1,\"tickcolor\":\"rgb(36,36,36)\",\"ticks\":\"outside\"},\"type\":\"contourcarpet\"}],\"contour\":[{\"colorbar\":{\"outlinewidth\":1,\"tickcolor\":\"rgb(36,36,36)\",\"ticks\":\"outside\"},\"colorscale\":[[0.0,\"#440154\"],[0.1111111111111111,\"#482878\"],[0.2222222222222222,\"#3e4989\"],[0.3333333333333333,\"#31688e\"],[0.4444444444444444,\"#26828e\"],[0.5555555555555556,\"#1f9e89\"],[0.6666666666666666,\"#35b779\"],[0.7777777777777778,\"#6ece58\"],[0.8888888888888888,\"#b5de2b\"],[1.0,\"#fde725\"]],\"type\":\"contour\"}],\"heatmapgl\":[{\"colorbar\":{\"outlinewidth\":1,\"tickcolor\":\"rgb(36,36,36)\",\"ticks\":\"outside\"},\"colorscale\":[[0.0,\"#440154\"],[0.1111111111111111,\"#482878\"],[0.2222222222222222,\"#3e4989\"],[0.3333333333333333,\"#31688e\"],[0.4444444444444444,\"#26828e\"],[0.5555555555555556,\"#1f9e89\"],[0.6666666666666666,\"#35b779\"],[0.7777777777777778,\"#6ece58\"],[0.8888888888888888,\"#b5de2b\"],[1.0,\"#fde725\"]],\"type\":\"heatmapgl\"}],\"heatmap\":[{\"colorbar\":{\"outlinewidth\":1,\"tickcolor\":\"rgb(36,36,36)\",\"ticks\":\"outside\"},\"colorscale\":[[0.0,\"#440154\"],[0.1111111111111111,\"#482878\"],[0.2222222222222222,\"#3e4989\"],[0.3333333333333333,\"#31688e\"],[0.4444444444444444,\"#26828e\"],[0.5555555555555556,\"#1f9e89\"],[0.6666666666666666,\"#35b779\"],[0.7777777777777778,\"#6ece58\"],[0.8888888888888888,\"#b5de2b\"],[1.0,\"#fde725\"]],\"type\":\"heatmap\"}],\"histogram2dcontour\":[{\"colorbar\":{\"outlinewidth\":1,\"tickcolor\":\"rgb(36,36,36)\",\"ticks\":\"outside\"},\"colorscale\":[[0.0,\"#440154\"],[0.1111111111111111,\"#482878\"],[0.2222222222222222,\"#3e4989\"],[0.3333333333333333,\"#31688e\"],[0.4444444444444444,\"#26828e\"],[0.5555555555555556,\"#1f9e89\"],[0.6666666666666666,\"#35b779\"],[0.7777777777777778,\"#6ece58\"],[0.8888888888888888,\"#b5de2b\"],[1.0,\"#fde725\"]],\"type\":\"histogram2dcontour\"}],\"histogram2d\":[{\"colorbar\":{\"outlinewidth\":1,\"tickcolor\":\"rgb(36,36,36)\",\"ticks\":\"outside\"},\"colorscale\":[[0.0,\"#440154\"],[0.1111111111111111,\"#482878\"],[0.2222222222222222,\"#3e4989\"],[0.3333333333333333,\"#31688e\"],[0.4444444444444444,\"#26828e\"],[0.5555555555555556,\"#1f9e89\"],[0.6666666666666666,\"#35b779\"],[0.7777777777777778,\"#6ece58\"],[0.8888888888888888,\"#b5de2b\"],[1.0,\"#fde725\"]],\"type\":\"histogram2d\"}],\"histogram\":[{\"marker\":{\"line\":{\"color\":\"white\",\"width\":0.6}},\"type\":\"histogram\"}],\"mesh3d\":[{\"colorbar\":{\"outlinewidth\":1,\"tickcolor\":\"rgb(36,36,36)\",\"ticks\":\"outside\"},\"type\":\"mesh3d\"}],\"parcoords\":[{\"line\":{\"colorbar\":{\"outlinewidth\":1,\"tickcolor\":\"rgb(36,36,36)\",\"ticks\":\"outside\"}},\"type\":\"parcoords\"}],\"pie\":[{\"automargin\":true,\"type\":\"pie\"}],\"scatter3d\":[{\"line\":{\"colorbar\":{\"outlinewidth\":1,\"tickcolor\":\"rgb(36,36,36)\",\"ticks\":\"outside\"}},\"marker\":{\"colorbar\":{\"outlinewidth\":1,\"tickcolor\":\"rgb(36,36,36)\",\"ticks\":\"outside\"}},\"type\":\"scatter3d\"}],\"scattercarpet\":[{\"marker\":{\"colorbar\":{\"outlinewidth\":1,\"tickcolor\":\"rgb(36,36,36)\",\"ticks\":\"outside\"}},\"type\":\"scattercarpet\"}],\"scattergeo\":[{\"marker\":{\"colorbar\":{\"outlinewidth\":1,\"tickcolor\":\"rgb(36,36,36)\",\"ticks\":\"outside\"}},\"type\":\"scattergeo\"}],\"scattergl\":[{\"marker\":{\"colorbar\":{\"outlinewidth\":1,\"tickcolor\":\"rgb(36,36,36)\",\"ticks\":\"outside\"}},\"type\":\"scattergl\"}],\"scattermapbox\":[{\"marker\":{\"colorbar\":{\"outlinewidth\":1,\"tickcolor\":\"rgb(36,36,36)\",\"ticks\":\"outside\"}},\"type\":\"scattermapbox\"}],\"scatterpolargl\":[{\"marker\":{\"colorbar\":{\"outlinewidth\":1,\"tickcolor\":\"rgb(36,36,36)\",\"ticks\":\"outside\"}},\"type\":\"scatterpolargl\"}],\"scatterpolar\":[{\"marker\":{\"colorbar\":{\"outlinewidth\":1,\"tickcolor\":\"rgb(36,36,36)\",\"ticks\":\"outside\"}},\"type\":\"scatterpolar\"}],\"scatter\":[{\"fillpattern\":{\"fillmode\":\"overlay\",\"size\":10,\"solidity\":0.2},\"type\":\"scatter\"}],\"scatterternary\":[{\"marker\":{\"colorbar\":{\"outlinewidth\":1,\"tickcolor\":\"rgb(36,36,36)\",\"ticks\":\"outside\"}},\"type\":\"scatterternary\"}],\"surface\":[{\"colorbar\":{\"outlinewidth\":1,\"tickcolor\":\"rgb(36,36,36)\",\"ticks\":\"outside\"},\"colorscale\":[[0.0,\"#440154\"],[0.1111111111111111,\"#482878\"],[0.2222222222222222,\"#3e4989\"],[0.3333333333333333,\"#31688e\"],[0.4444444444444444,\"#26828e\"],[0.5555555555555556,\"#1f9e89\"],[0.6666666666666666,\"#35b779\"],[0.7777777777777778,\"#6ece58\"],[0.8888888888888888,\"#b5de2b\"],[1.0,\"#fde725\"]],\"type\":\"surface\"}],\"table\":[{\"cells\":{\"fill\":{\"color\":\"rgb(237,237,237)\"},\"line\":{\"color\":\"white\"}},\"header\":{\"fill\":{\"color\":\"rgb(217,217,217)\"},\"line\":{\"color\":\"white\"}},\"type\":\"table\"}]},\"layout\":{\"annotationdefaults\":{\"arrowhead\":0,\"arrowwidth\":1},\"autotypenumbers\":\"strict\",\"coloraxis\":{\"colorbar\":{\"outlinewidth\":1,\"tickcolor\":\"rgb(36,36,36)\",\"ticks\":\"outside\"}},\"colorscale\":{\"diverging\":[[0.0,\"rgb(103,0,31)\"],[0.1,\"rgb(178,24,43)\"],[0.2,\"rgb(214,96,77)\"],[0.3,\"rgb(244,165,130)\"],[0.4,\"rgb(253,219,199)\"],[0.5,\"rgb(247,247,247)\"],[0.6,\"rgb(209,229,240)\"],[0.7,\"rgb(146,197,222)\"],[0.8,\"rgb(67,147,195)\"],[0.9,\"rgb(33,102,172)\"],[1.0,\"rgb(5,48,97)\"]],\"sequential\":[[0.0,\"#440154\"],[0.1111111111111111,\"#482878\"],[0.2222222222222222,\"#3e4989\"],[0.3333333333333333,\"#31688e\"],[0.4444444444444444,\"#26828e\"],[0.5555555555555556,\"#1f9e89\"],[0.6666666666666666,\"#35b779\"],[0.7777777777777778,\"#6ece58\"],[0.8888888888888888,\"#b5de2b\"],[1.0,\"#fde725\"]],\"sequentialminus\":[[0.0,\"#440154\"],[0.1111111111111111,\"#482878\"],[0.2222222222222222,\"#3e4989\"],[0.3333333333333333,\"#31688e\"],[0.4444444444444444,\"#26828e\"],[0.5555555555555556,\"#1f9e89\"],[0.6666666666666666,\"#35b779\"],[0.7777777777777778,\"#6ece58\"],[0.8888888888888888,\"#b5de2b\"],[1.0,\"#fde725\"]]},\"colorway\":[\"#1F77B4\",\"#FF7F0E\",\"#2CA02C\",\"#D62728\",\"#9467BD\",\"#8C564B\",\"#E377C2\",\"#7F7F7F\",\"#BCBD22\",\"#17BECF\"],\"font\":{\"color\":\"rgb(36,36,36)\"},\"geo\":{\"bgcolor\":\"white\",\"lakecolor\":\"white\",\"landcolor\":\"white\",\"showlakes\":true,\"showland\":true,\"subunitcolor\":\"white\"},\"hoverlabel\":{\"align\":\"left\"},\"hovermode\":\"closest\",\"mapbox\":{\"style\":\"light\"},\"paper_bgcolor\":\"white\",\"plot_bgcolor\":\"white\",\"polar\":{\"angularaxis\":{\"gridcolor\":\"rgb(232,232,232)\",\"linecolor\":\"rgb(36,36,36)\",\"showgrid\":false,\"showline\":true,\"ticks\":\"outside\"},\"bgcolor\":\"white\",\"radialaxis\":{\"gridcolor\":\"rgb(232,232,232)\",\"linecolor\":\"rgb(36,36,36)\",\"showgrid\":false,\"showline\":true,\"ticks\":\"outside\"}},\"scene\":{\"xaxis\":{\"backgroundcolor\":\"white\",\"gridcolor\":\"rgb(232,232,232)\",\"gridwidth\":2,\"linecolor\":\"rgb(36,36,36)\",\"showbackground\":true,\"showgrid\":false,\"showline\":true,\"ticks\":\"outside\",\"zeroline\":false,\"zerolinecolor\":\"rgb(36,36,36)\"},\"yaxis\":{\"backgroundcolor\":\"white\",\"gridcolor\":\"rgb(232,232,232)\",\"gridwidth\":2,\"linecolor\":\"rgb(36,36,36)\",\"showbackground\":true,\"showgrid\":false,\"showline\":true,\"ticks\":\"outside\",\"zeroline\":false,\"zerolinecolor\":\"rgb(36,36,36)\"},\"zaxis\":{\"backgroundcolor\":\"white\",\"gridcolor\":\"rgb(232,232,232)\",\"gridwidth\":2,\"linecolor\":\"rgb(36,36,36)\",\"showbackground\":true,\"showgrid\":false,\"showline\":true,\"ticks\":\"outside\",\"zeroline\":false,\"zerolinecolor\":\"rgb(36,36,36)\"}},\"shapedefaults\":{\"fillcolor\":\"black\",\"line\":{\"width\":0},\"opacity\":0.3},\"ternary\":{\"aaxis\":{\"gridcolor\":\"rgb(232,232,232)\",\"linecolor\":\"rgb(36,36,36)\",\"showgrid\":false,\"showline\":true,\"ticks\":\"outside\"},\"baxis\":{\"gridcolor\":\"rgb(232,232,232)\",\"linecolor\":\"rgb(36,36,36)\",\"showgrid\":false,\"showline\":true,\"ticks\":\"outside\"},\"bgcolor\":\"white\",\"caxis\":{\"gridcolor\":\"rgb(232,232,232)\",\"linecolor\":\"rgb(36,36,36)\",\"showgrid\":false,\"showline\":true,\"ticks\":\"outside\"}},\"title\":{\"x\":0.05},\"xaxis\":{\"automargin\":true,\"gridcolor\":\"rgb(232,232,232)\",\"linecolor\":\"rgb(36,36,36)\",\"showgrid\":false,\"showline\":true,\"ticks\":\"outside\",\"title\":{\"standoff\":15},\"zeroline\":false,\"zerolinecolor\":\"rgb(36,36,36)\"},\"yaxis\":{\"automargin\":true,\"gridcolor\":\"rgb(232,232,232)\",\"linecolor\":\"rgb(36,36,36)\",\"showgrid\":false,\"showline\":true,\"ticks\":\"outside\",\"title\":{\"standoff\":15},\"zeroline\":false,\"zerolinecolor\":\"rgb(36,36,36)\"}}},\"title\":{\"text\":\"train 0 (eco)\"},\"shapes\":[{\"line\":{\"color\":\"black\",\"dash\":\"dash\",\"width\":0.5},\"type\":\"line\",\"x0\":0,\"x1\":1,\"xref\":\"x domain\",\"y0\":500.0,\"y1\":500.0,\"yref\":\"y\"},{\"line\":{\"color\":\"black\",\"dash\":\"dash\",\"width\":0.5},\"type\":\"line\",\"x0\":0,\"x1\":1,\"xref\":\"x domain\",\"y0\":13000.0,\"y1\":13000.0,\"yref\":\"y\"},{\"line\":{\"color\":\"black\",\"dash\":\"dash\",\"width\":0.5},\"type\":\"line\",\"x0\":0,\"x1\":1,\"xref\":\"x domain\",\"y0\":19800.0,\"y1\":19800.0,\"yref\":\"y\"}],\"yaxis\":{\"tickmode\":\"array\",\"tickvals\":[500.0,13000.0,19800.0],\"ticktext\":[\"South_West_station\",\"North_station\",\"South_station\"]}},                        {\"responsive\": true}                    ).then(function(){\n",
       "                            \n",
       "var gd = document.getElementById('3cafd9f3-ba95-4c95-8803-432479517b40');\n",
       "var x = new MutationObserver(function (mutations, observer) {{\n",
       "        var display = window.getComputedStyle(gd).display;\n",
       "        if (!display || display === 'none') {{\n",
       "            console.log([gd, 'removed!']);\n",
       "            Plotly.purge(gd);\n",
       "            observer.disconnect();\n",
       "        }}\n",
       "}});\n",
       "\n",
       "// Listen for the removal of the full notebook cells\n",
       "var notebookContainer = gd.closest('#notebook-container');\n",
       "if (notebookContainer) {{\n",
       "    x.observe(notebookContainer, {childList: true});\n",
       "}}\n",
       "\n",
       "// Listen for the clearing of the current output cell\n",
       "var outputEl = gd.closest('.output');\n",
       "if (outputEl) {{\n",
       "    x.observe(outputEl, {childList: true});\n",
       "}}\n",
       "\n",
       "                        })                };                });            </script>        </div>"
      ]
     },
     "metadata": {},
     "output_type": "display_data"
    }
   ],
   "source": [
    "import plotly.graph_objects as go\n",
    "\n",
    "fig = go.Figure(\n",
    "    data = [\n",
    "        go.Scatter(x=times, y=offsets, mode='lines', name='train0'),\n",
    "        go.Scatter(x=times_2, y=offsets_2, mode='lines', name='train1'),\n",
    "    ],\n",
    "    layout = {\n",
    "        \"title\": 'train 0 (eco)',\n",
    "        \"template\": \"simple_white\",\n",
    "    },\n",
    ")\n",
    "\n",
    "for point in points:\n",
    "    fig.add_hline(\n",
    "        y=point['offset'],\n",
    "        line_width=.5,\n",
    "        line_dash=\"dash\",\n",
    "        line_color=\"black\"\n",
    "    )\n",
    "\n",
    "fig.update_layout(\n",
    "    yaxis = dict(\n",
    "        tickmode = 'array',\n",
    "        tickvals = [point['offset'] for point in points],\n",
    "        ticktext = [point['id'] for point in points]\n",
    "    )\n",
    ")\n"
   ]
  },
  {
   "cell_type": "code",
   "execution_count": 98,
   "metadata": {},
   "outputs": [
    {
     "data": {
      "text/plain": [
       "<Axes: title={'center': 'train.1 (eco)'}, xlabel='Time [min]'>"
      ]
     },
     "execution_count": 98,
     "metadata": {},
     "output_type": "execute_result"
    },
    {
     "data": {
      "image/png": "[encoded data removed]",
      "text/plain": [
       "<Figure size 640x480 with 1 Axes>"
      ]
     },
     "metadata": {},
     "output_type": "display_data"
    }
   ],
   "source": [
    "sim.space_time_graph(1)"
   ]
  },
  {
   "cell_type": "code",
   "execution_count": null,
   "metadata": {},
   "outputs": [],
   "source": []
  }
 ],
 "metadata": {
  "kernelspec": {
   "display_name": "venv",
   "language": "python",
   "name": "python3"
  },
  "language_info": {
   "codemirror_mode": {
    "name": "ipython",
    "version": 3
   },
   "file_extension": ".py",
   "mimetype": "text/x-python",
   "name": "python",
   "nbconvert_exporter": "python",
   "pygments_lexer": "ipython3",
   "version": "3.9.16"
  },
  "orig_nbformat": 4
 },
 "nbformat": 4,
 "nbformat_minor": 2
}
