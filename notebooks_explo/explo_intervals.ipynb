{
 "cells": [
  {
   "cell_type": "code",
   "execution_count": 123,
   "metadata": {},
   "outputs": [],
   "source": [
    "from typing import Tuple, List\n",
    "\n",
    "\n",
    "Interval = Tuple[float, float]\n",
    "\n",
    "def intersections(intervals: List[Interval]) -> List[Interval]:\n",
    "    sorted = intervals.copy()\n",
    "    sorted.sort(key=lambda x: x[0])\n",
    "\n",
    "    no_overlap_order = []\n",
    "    for i, interval in enumerate(sorted):\n",
    "        no_overlap_order.append((i, interval[0]))\n",
    "        no_overlap_order.append((i, interval[1]))\n",
    "\n",
    "    actual_order = no_overlap_order.copy()\n",
    "    actual_order.sort(key=lambda x: x[1])\n",
    "\n",
    "\n",
    "    overlap_times = [\n",
    "        actual[1]\n",
    "        for no_overlap, actual in zip(no_overlap_order, actual_order)\n",
    "        if no_overlap != actual\n",
    "    ]\n",
    "\n",
    "    intersections = [\n",
    "        (overlap_times[i], overlap_times[i+1])\n",
    "        for i, _ in enumerate(overlap_times)\n",
    "        if i % 2 == 0\n",
    "    ]\n",
    "\n",
    "    return intersections"
   ]
  },
  {
   "cell_type": "code",
   "execution_count": 125,
   "metadata": {},
   "outputs": [
    {
     "data": {
      "text/plain": [
       "[(2.5, 3.0), (4.0, 4.5)]"
      ]
     },
     "execution_count": 125,
     "metadata": {},
     "output_type": "execute_result"
    }
   ],
   "source": [
    "intervals = [\n",
    "    (2.5, 4.5 ),\n",
    "    (2., 3.),\n",
    "    (4., 6.),\n",
    "]\n",
    "intersections(intervals)"
   ]
  },
  {
   "cell_type": "code",
   "execution_count": 126,
   "metadata": {},
   "outputs": [
    {
     "data": {
      "text/plain": [
       "[]"
      ]
     },
     "execution_count": 126,
     "metadata": {},
     "output_type": "execute_result"
    }
   ],
   "source": [
    "intervals = [\n",
    "    (0, 1),\n",
    "    (2., 3.),\n",
    "    (4., 6.),\n",
    "]\n",
    "intersections(intervals)"
   ]
  },
  {
   "cell_type": "code",
   "execution_count": 127,
   "metadata": {},
   "outputs": [
    {
     "data": {
      "text/plain": [
       "[(2.0, 2.5)]"
      ]
     },
     "execution_count": 127,
     "metadata": {},
     "output_type": "execute_result"
    }
   ],
   "source": [
    "intervals = [\n",
    "    (0, 2.5),\n",
    "    (2., 3.),\n",
    "    (4., 6.),\n",
    "]\n",
    "intersections(intervals)"
   ]
  },
  {
   "cell_type": "code",
   "execution_count": 129,
   "metadata": {},
   "outputs": [
    {
     "data": {
      "text/plain": [
       "[]"
      ]
     },
     "execution_count": 129,
     "metadata": {},
     "output_type": "execute_result"
    }
   ],
   "source": [
    "intersections([(0, 1), (1, 2)])"
   ]
  },
  {
   "cell_type": "code",
   "execution_count": null,
   "metadata": {},
   "outputs": [],
   "source": []
  }
 ],
 "metadata": {
  "kernelspec": {
   "display_name": "venv",
   "language": "python",
   "name": "python3"
  },
  "language_info": {
   "codemirror_mode": {
    "name": "ipython",
    "version": 3
   },
   "file_extension": ".py",
   "mimetype": "text/x-python",
   "name": "python",
   "nbconvert_exporter": "python",
   "pygments_lexer": "ipython3",
   "version": "3.9.16"
  },
  "orig_nbformat": 4
 },
 "nbformat": 4,
 "nbformat_minor": 2
}
