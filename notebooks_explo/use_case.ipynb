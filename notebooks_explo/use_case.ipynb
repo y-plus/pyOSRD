{
 "cells": [
  {
   "cell_type": "code",
   "execution_count": 117,
   "metadata": {},
   "outputs": [
    {
     "name": "stdout",
     "output_type": "stream",
     "text": [
      "The autoreload extension is already loaded. To reload it, use:\n",
      "  %reload_ext autoreload\n"
     ]
    }
   ],
   "source": [
    "%load_ext autoreload\n",
    "%autoreload 2"
   ]
  },
  {
   "cell_type": "code",
   "execution_count": 118,
   "metadata": {},
   "outputs": [],
   "source": [
    "from rlway.pyosrd import OSRD"
   ]
  },
  {
   "cell_type": "code",
   "execution_count": 119,
   "metadata": {},
   "outputs": [
    {
     "data": {
      "text/plain": [
       "['cvg_dvg', 'point_switch', 'station_capacity2']"
      ]
     },
     "execution_count": 119,
     "metadata": {},
     "output_type": "execute_result"
    }
   ],
   "source": [
    "OSRD.use_cases"
   ]
  },
  {
   "cell_type": "code",
   "execution_count": 170,
   "metadata": {},
   "outputs": [
    {
     "name": "stdout",
     "output_type": "stream",
     "text": [
      "[19:15:55,972] \u001b[34m[INFO] \u001b[0;39m [StandaloneSimulationCommand] Loading infra: cvg_dvg/infra.json\n",
      "[19:15:56,003] \u001b[34m[INFO] \u001b[0;39m             [FullInfra] parsing infra\n",
      "[19:15:56,069] \u001b[34m[INFO] \u001b[0;39m             [FullInfra] adaptation to kotlin\n",
      "[19:15:56,105] \u001b[34m[INFO] \u001b[0;39m             [FullInfra] loading signals\n",
      "[19:15:56,111] \u001b[34m[INFO] \u001b[0;39m             [FullInfra] building blocks\n",
      "[19:15:56,116] \u001b[34m[INFO] \u001b[0;39m [StandaloneSimulationCommand] Loading input: cvg_dvg/simulation.json\n",
      "[19:15:56,128] \u001b[34m[INFO] \u001b[0;39m [StandaloneSimulationCommand] Running simulation for schedule group: group.24\n",
      "[19:15:56,173] \u001b[34m[INFO] \u001b[0;39m [StandaloneSimulationCommand] Running simulation for schedule group: group.25\n",
      "[19:15:56,178] \u001b[34m[INFO] \u001b[0;39m [StandaloneSimulationCommand] All simulations completed\n",
      "[19:15:56,179] \u001b[34m[INFO] \u001b[0;39m [StandaloneSimulationCommand] Saving results at: cvg_dvg/results.json\n"
     ]
    }
   ],
   "source": [
    "sim = OSRD(use_case='cvg_dvg', dir='cvg_dvg')"
   ]
  },
  {
   "cell_type": "code",
   "execution_count": 171,
   "metadata": {},
   "outputs": [
    {
     "data": {
      "text/html": [
       "<img src=\"https://mermaid.ink/img/Z3JhcGggTFI7YnVmZmVyX3N0b3AuMC0tPkQwO0QwLS0+RDM7YnVmZmVyX3N0b3AuMS0tPkQxO0QxLS0+RDM7RDItLT5idWZmZXJfc3RvcC4wO0QyLS0+YnVmZmVyX3N0b3AuMTtEMy0tPmJ1ZmZlcl9zdG9wLjI7RDMtLT5idWZmZXJfc3RvcC4zO2J1ZmZlcl9zdG9wLjItLT5ENDtENC0tPkQyO2J1ZmZlcl9zdG9wLjMtLT5ENTtENS0tPkQy\"/>"
      ],
      "text/plain": [
       "<IPython.core.display.Image object>"
      ]
     },
     "metadata": {},
     "output_type": "display_data"
    }
   ],
   "source": [
    "sim.draw_infra()"
   ]
  },
  {
   "cell_type": "code",
   "execution_count": 172,
   "metadata": {},
   "outputs": [
    {
     "data": {
      "text/plain": [
       "{'rt.buffer_stop.0->D0': 450.0,\n",
       " 'rt.D0->D3': 1000.0,\n",
       " 'rt.buffer_stop.1->D1': 450.0,\n",
       " 'rt.D1->D3': 1000.0,\n",
       " 'rt.D2->buffer_stop.0': 450.0,\n",
       " 'rt.D2->buffer_stop.1': 450.0,\n",
       " 'rt.D3->buffer_stop.2': 550.0,\n",
       " 'rt.D3->buffer_stop.3': 550.0,\n",
       " 'rt.buffer_stop.2->D4': 450.0,\n",
       " 'rt.D4->D2': 1000.0,\n",
       " 'rt.buffer_stop.3->D5': 450.0,\n",
       " 'rt.D5->D2': 1000.0}"
      ]
     },
     "execution_count": 172,
     "metadata": {},
     "output_type": "execute_result"
    }
   ],
   "source": [
    "sim.route_lengths"
   ]
  },
  {
   "cell_type": "code",
   "execution_count": 174,
   "metadata": {},
   "outputs": [
    {
     "data": {
      "text/plain": [
       "{'T3': 'START_TO_STOP', 'T4': 'START_TO_STOP'}"
      ]
     },
     "execution_count": 174,
     "metadata": {},
     "output_type": "execute_result"
    }
   ],
   "source": [
    "sim.train_track_sections(0)"
   ]
  },
  {
   "cell_type": "code",
   "execution_count": null,
   "metadata": {},
   "outputs": [],
   "source": []
  }
 ],
 "metadata": {
  "kernelspec": {
   "display_name": "venv",
   "language": "python",
   "name": "python3"
  },
  "language_info": {
   "codemirror_mode": {
    "name": "ipython",
    "version": 3
   },
   "file_extension": ".py",
   "mimetype": "text/x-python",
   "name": "python",
   "nbconvert_exporter": "python",
   "pygments_lexer": "ipython3",
   "version": "3.10.12"
  },
  "orig_nbformat": 4
 },
 "nbformat": 4,
 "nbformat_minor": 2
}
