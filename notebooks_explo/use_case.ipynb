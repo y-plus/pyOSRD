{
 "cells": [
  {
   "cell_type": "code",
   "execution_count": 19,
   "metadata": {},
   "outputs": [
    {
     "name": "stdout",
     "output_type": "stream",
     "text": [
      "The autoreload extension is already loaded. To reload it, use:\n",
      "  %reload_ext autoreload\n"
     ]
    }
   ],
   "source": [
    "%load_ext autoreload\n",
    "%autoreload 2"
   ]
  },
  {
   "cell_type": "code",
   "execution_count": 20,
   "metadata": {},
   "outputs": [],
   "source": [
    "from rlway.pyosrd import OSRD"
   ]
  },
  {
   "cell_type": "code",
   "execution_count": 21,
   "metadata": {},
   "outputs": [
    {
     "data": {
      "text/plain": [
       "['cvg_dvg',\n",
       " 'cvg_dvg_bug',\n",
       " 'divergence',\n",
       " 'station_capacity2',\n",
       " 'station_capacity2_bug']"
      ]
     },
     "execution_count": 21,
     "metadata": {},
     "output_type": "execute_result"
    }
   ],
   "source": [
    "OSRD.use_cases"
   ]
  },
  {
   "cell_type": "code",
   "execution_count": 22,
   "metadata": {},
   "outputs": [
    {
     "name": "stdout",
     "output_type": "stream",
     "text": [
      "[19:12:51,267] \u001b[34m[INFO] \u001b[0;39m [StandaloneSimulationCommand] Loading infra: station_capacity2/infra.json\n",
      "[19:12:51,454] \u001b[34m[INFO] \u001b[0;39m             [FullInfra] parsing infra\n",
      "[19:12:52,825] \u001b[34m[INFO] \u001b[0;39m             [FullInfra] adaptation to kotlin\n",
      "[19:12:53,024] \u001b[34m[INFO] \u001b[0;39m             [FullInfra] loading signals\n",
      "[19:12:53,071] \u001b[34m[INFO] \u001b[0;39m             [FullInfra] building blocks\n",
      "[19:12:53,097] \u001b[34m[INFO] \u001b[0;39m [StandaloneSimulationCommand] Loading input: station_capacity2/simulation.json\n",
      "[19:12:53,320] \u001b[34m[INFO] \u001b[0;39m [StandaloneSimulationCommand] Running simulation for schedule group: group.4\n",
      "[19:12:53,613] \u001b[34m[INFO] \u001b[0;39m [StandaloneSimulationCommand] Running simulation for schedule group: group.5\n",
      "[19:12:53,642] \u001b[34m[INFO] \u001b[0;39m [StandaloneSimulationCommand] All simulations completed\n",
      "[19:12:53,643] \u001b[34m[INFO] \u001b[0;39m [StandaloneSimulationCommand] Saving results at: station_capacity2/results.json\n"
     ]
    }
   ],
   "source": [
    "sim = OSRD(use_case='station_capacity2', dir='station_capacity2')"
   ]
  },
  {
   "cell_type": "code",
   "execution_count": 23,
   "metadata": {},
   "outputs": [
    {
     "data": {
      "text/html": [
       "<img src=\"https://mermaid.ink/img/Z3JhcGggTFI7RDBlLS0+RDJlO0QwZS0tPkQxZTtidWZmZXJfc3RvcC4wLS0+RDBlO0QxZS0tPmJ1ZmZlcl9zdG9wLjE7RDFlLS0+YnVmZmVyX3N0b3AuMDtEMmUtLT5idWZmZXJfc3RvcC4xO0QyZS0tPmJ1ZmZlcl9zdG9wLjA7RDNzLS0+RDJlO0Qzcy0tPkQxZTtidWZmZXJfc3RvcC4xLS0+RDNz\"/>"
      ],
      "text/plain": [
       "<IPython.core.display.Image object>"
      ]
     },
     "metadata": {},
     "output_type": "display_data"
    }
   ],
   "source": [
    "sim.draw_infra()"
   ]
  },
  {
   "cell_type": "code",
   "execution_count": 24,
   "metadata": {},
   "outputs": [
    {
     "data": {
      "text/plain": [
       "{'rt.D0e->D2e': 'DVG',\n",
       " 'rt.D0e->D1e': 'DVG',\n",
       " 'rt.buffer_stop.0->D0e': 'D0e<->buffer_stop.0',\n",
       " 'rt.D1e->buffer_stop.1': 'CVG',\n",
       " 'rt.D1e->buffer_stop.0': 'DVG',\n",
       " 'rt.D2e->buffer_stop.1': 'CVG',\n",
       " 'rt.D2e->buffer_stop.0': 'DVG',\n",
       " 'rt.D3s->D2e': 'CVG',\n",
       " 'rt.D3s->D1e': 'CVG',\n",
       " 'rt.buffer_stop.1->D3s': 'D3s<->buffer_stop.1'}"
      ]
     },
     "execution_count": 24,
     "metadata": {},
     "output_type": "execute_result"
    }
   ],
   "source": [
    "sim.route_tvds"
   ]
  },
  {
   "cell_type": "code",
   "execution_count": null,
   "metadata": {},
   "outputs": [],
   "source": []
  }
 ],
 "metadata": {
  "kernelspec": {
   "display_name": "venv",
   "language": "python",
   "name": "python3"
  },
  "language_info": {
   "codemirror_mode": {
    "name": "ipython",
    "version": 3
   },
   "file_extension": ".py",
   "mimetype": "text/x-python",
   "name": "python",
   "nbconvert_exporter": "python",
   "pygments_lexer": "ipython3",
   "version": "3.9.16"
  },
  "orig_nbformat": 4
 },
 "nbformat": 4,
 "nbformat_minor": 2
}
