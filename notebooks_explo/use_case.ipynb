{
 "cells": [
  {
   "cell_type": "code",
   "execution_count": 57,
   "metadata": {},
   "outputs": [
    {
     "name": "stdout",
     "output_type": "stream",
     "text": [
      "The autoreload extension is already loaded. To reload it, use:\n",
      "  %reload_ext autoreload\n"
     ]
    }
   ],
   "source": [
    "%load_ext autoreload\n",
    "%autoreload 2"
   ]
  },
  {
   "cell_type": "code",
   "execution_count": 58,
   "metadata": {},
   "outputs": [],
   "source": [
    "from rlway.pyosrd import OSRD"
   ]
  },
  {
   "cell_type": "code",
   "execution_count": 59,
   "metadata": {},
   "outputs": [
    {
     "data": {
      "text/plain": [
       "['cvg_dvg',\n",
       " 'cvg_dvg_bug',\n",
       " 'point_switch',\n",
       " 'station_capacity2',\n",
       " 'station_capacity2_bug']"
      ]
     },
     "execution_count": 59,
     "metadata": {},
     "output_type": "execute_result"
    }
   ],
   "source": [
    "OSRD.use_cases"
   ]
  },
  {
   "cell_type": "code",
   "execution_count": 60,
   "metadata": {},
   "outputs": [
    {
     "name": "stdout",
     "output_type": "stream",
     "text": [
      "[15:52:07,524] \u001b[34m[INFO] \u001b[0;39m [StandaloneSimulationCommand] Loading infra: cvg_dvg/infra.json\n",
      "[15:52:07,737] \u001b[34m[INFO] \u001b[0;39m             [FullInfra] parsing infra\n",
      "[15:52:08,228] \u001b[34m[INFO] \u001b[0;39m             [FullInfra] adaptation to kotlin\n",
      "[15:52:08,436] \u001b[34m[INFO] \u001b[0;39m             [FullInfra] loading signals\n",
      "[15:52:08,524] \u001b[34m[INFO] \u001b[0;39m             [FullInfra] building blocks\n",
      "[15:52:08,575] \u001b[34m[INFO] \u001b[0;39m [StandaloneSimulationCommand] Loading input: cvg_dvg/simulation.json\n",
      "[15:52:08,650] \u001b[34m[INFO] \u001b[0;39m [StandaloneSimulationCommand] Running simulation for schedule group: group.16\n",
      "[15:52:09,061] \u001b[34m[INFO] \u001b[0;39m [StandaloneSimulationCommand] Running simulation for schedule group: group.17\n",
      "[15:52:09,094] \u001b[34m[INFO] \u001b[0;39m [StandaloneSimulationCommand] All simulations completed\n",
      "[15:52:09,095] \u001b[34m[INFO] \u001b[0;39m [StandaloneSimulationCommand] Saving results at: cvg_dvg/results.json\n"
     ]
    }
   ],
   "source": [
    "sim = OSRD(use_case='cvg_dvg', dir='cvg_dvg')"
   ]
  },
  {
   "cell_type": "code",
   "execution_count": 62,
   "metadata": {},
   "outputs": [
    {
     "data": {
      "text/plain": [
       "{'rt.D0->D2a': 'CVG',\n",
       " 'rt.buffer_stop.0->D0': 'D0<->buffer_stop.0',\n",
       " 'rt.D1->D2a': 'CVG',\n",
       " 'rt.buffer_stop.1->D1': 'D1<->buffer_stop.1',\n",
       " 'rt.D2->buffer_stop.1': 'CVG',\n",
       " 'rt.D2->buffer_stop.0': 'CVG',\n",
       " 'rt.D2a->buffer_stop.4': 'DVG',\n",
       " 'rt.D2a->buffer_stop.3': 'DVG',\n",
       " 'rt.D3->D2': 'DVG',\n",
       " 'rt.buffer_stop.3->D3': 'D3<->buffer_stop.3',\n",
       " 'rt.D4->D2': 'DVG',\n",
       " 'rt.buffer_stop.4->D4': 'D4<->buffer_stop.4'}"
      ]
     },
     "execution_count": 62,
     "metadata": {},
     "output_type": "execute_result"
    }
   ],
   "source": [
    "sim.route_tvds"
   ]
  },
  {
   "cell_type": "code",
   "execution_count": null,
   "metadata": {},
   "outputs": [],
   "source": []
  }
 ],
 "metadata": {
  "kernelspec": {
   "display_name": "venv",
   "language": "python",
   "name": "python3"
  },
  "language_info": {
   "codemirror_mode": {
    "name": "ipython",
    "version": 3
   },
   "file_extension": ".py",
   "mimetype": "text/x-python",
   "name": "python",
   "nbconvert_exporter": "python",
   "pygments_lexer": "ipython3",
   "version": "3.9.16"
  },
  "orig_nbformat": 4
 },
 "nbformat": 4,
 "nbformat_minor": 2
}
