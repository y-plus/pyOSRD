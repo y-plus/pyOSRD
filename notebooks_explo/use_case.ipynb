{
 "cells": [
  {
   "cell_type": "code",
   "execution_count": 1,
   "metadata": {},
   "outputs": [],
   "source": [
    "%load_ext autoreload\n",
    "%autoreload 2"
   ]
  },
  {
   "cell_type": "code",
   "execution_count": 2,
   "metadata": {},
   "outputs": [],
   "source": [
    "from rlway.pyosrd import OSRD"
   ]
  },
  {
   "cell_type": "code",
   "execution_count": 3,
   "metadata": {},
   "outputs": [
    {
     "data": {
      "text/plain": [
       "['cvg_dvg', 'point_switch', 'station_capacity2']"
      ]
     },
     "execution_count": 3,
     "metadata": {},
     "output_type": "execute_result"
    }
   ],
   "source": [
    "OSRD.use_cases"
   ]
  },
  {
   "cell_type": "code",
   "execution_count": 218,
   "metadata": {},
   "outputs": [
    {
     "name": "stdout",
     "output_type": "stream",
     "text": [
      "[16:14:53,329] \u001b[34m[INFO] \u001b[0;39m [StandaloneSimulationCommand] Loading infra: point_switch/infra.json\n",
      "[16:14:53,361] \u001b[34m[INFO] \u001b[0;39m             [FullInfra] parsing infra\n",
      "[16:14:53,421] \u001b[34m[INFO] \u001b[0;39m             [FullInfra] adaptation to kotlin\n",
      "[16:14:53,452] \u001b[34m[INFO] \u001b[0;39m             [FullInfra] loading signals\n",
      "[16:14:53,457] \u001b[34m[INFO] \u001b[0;39m             [FullInfra] building blocks\n",
      "[16:14:53,462] \u001b[34m[INFO] \u001b[0;39m [StandaloneSimulationCommand] Loading input: point_switch/simulation.json\n",
      "[16:14:53,473] \u001b[34m[INFO] \u001b[0;39m [StandaloneSimulationCommand] Running simulation for schedule group: group.28\n",
      "[16:14:53,520] \u001b[34m[INFO] \u001b[0;39m [StandaloneSimulationCommand] Running simulation for schedule group: group.29\n",
      "[16:14:53,525] \u001b[34m[INFO] \u001b[0;39m [StandaloneSimulationCommand] All simulations completed\n",
      "[16:14:53,525] \u001b[34m[INFO] \u001b[0;39m [StandaloneSimulationCommand] Saving results at: point_switch/results.json\n"
     ]
    }
   ],
   "source": [
    "use_case='point_switch'\n",
    "sim = OSRD(use_case=use_case, dir=use_case)"
   ]
  },
  {
   "cell_type": "code",
   "execution_count": 219,
   "metadata": {},
   "outputs": [
    {
     "data": {
      "text/plain": [
       "{'rt.buffer_stop.0->D0': 9820.0,\n",
       " 'rt.D0->buffer_stop.1': 10180.0,\n",
       " 'rt.D0->buffer_stop.2': 10180.0,\n",
       " 'rt.buffer_stop.1->D1': 9820.0,\n",
       " 'rt.D1->buffer_stop.0': 10180.0,\n",
       " 'rt.buffer_stop.2->D2': 9820.0,\n",
       " 'rt.D2->buffer_stop.0': 10180.0}"
      ]
     },
     "execution_count": 219,
     "metadata": {},
     "output_type": "execute_result"
    }
   ],
   "source": [
    "sim.route_lengths"
   ]
  },
  {
   "cell_type": "code",
   "execution_count": 220,
   "metadata": {},
   "outputs": [],
   "source": [
    "from rlway.schedule_from_osrd import schedule_from_osrd"
   ]
  },
  {
   "cell_type": "code",
   "execution_count": 221,
   "metadata": {},
   "outputs": [
    {
     "ename": "KeyError",
     "evalue": "0",
     "output_type": "error",
     "traceback": [
      "\u001b[0;31m---------------------------------------------------------------------------\u001b[0m",
      "\u001b[0;31mKeyError\u001b[0m                                  Traceback (most recent call last)",
      "Cell \u001b[0;32mIn[221], line 1\u001b[0m\n\u001b[0;32m----> 1\u001b[0m schedule_from_osrd(sim)\n",
      "File \u001b[0;32m~/RLway/src/rlway/schedule_from_osrd.py:19\u001b[0m, in \u001b[0;36mschedule_from_osrd\u001b[0;34m(case, simplify_route_names)\u001b[0m\n\u001b[1;32m     15\u001b[0m simulations \u001b[39m=\u001b[39m \u001b[39m'\u001b[39m\u001b[39meco_simulations\u001b[39m\u001b[39m'\u001b[39m\n\u001b[1;32m     17\u001b[0m \u001b[39mfor\u001b[39;00m train \u001b[39min\u001b[39;00m \u001b[39mrange\u001b[39m(s\u001b[39m.\u001b[39mnum_trains):\n\u001b[1;32m     18\u001b[0m     route_occupancies \u001b[39m=\u001b[39m \\\n\u001b[0;32m---> 19\u001b[0m         \u001b[39mcase\u001b[39;49;00m\u001b[39m.\u001b[39;49mresults[train][simulations][\u001b[39m0\u001b[39m][\u001b[39m'\u001b[39m\u001b[39mroute_occupancies\u001b[39m\u001b[39m'\u001b[39m]\n\u001b[1;32m     20\u001b[0m     \u001b[39mfor\u001b[39;00m route, times \u001b[39min\u001b[39;00m route_occupancies\u001b[39m.\u001b[39mitems():\n\u001b[1;32m     21\u001b[0m         \u001b[39mif\u001b[39;00m route \u001b[39min\u001b[39;00m case\u001b[39m.\u001b[39mroutes:\n",
      "\u001b[0;31mKeyError\u001b[0m: 0"
     ]
    }
   ],
   "source": [
    "schedule_from_osrd(sim)"
   ]
  },
  {
   "cell_type": "code",
   "execution_count": null,
   "metadata": {},
   "outputs": [],
   "source": []
  }
 ],
 "metadata": {
  "kernelspec": {
   "display_name": "venv",
   "language": "python",
   "name": "python3"
  },
  "language_info": {
   "codemirror_mode": {
    "name": "ipython",
    "version": 3
   },
   "file_extension": ".py",
   "mimetype": "text/x-python",
   "name": "python",
   "nbconvert_exporter": "python",
   "pygments_lexer": "ipython3",
   "version": "3.10.12"
  },
  "orig_nbformat": 4
 },
 "nbformat": 4,
 "nbformat_minor": 2
}
