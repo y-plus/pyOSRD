{
 "cells": [
  {
   "cell_type": "code",
   "execution_count": 36,
   "metadata": {},
   "outputs": [
    {
     "name": "stdout",
     "output_type": "stream",
     "text": [
      "The autoreload extension is already loaded. To reload it, use:\n",
      "  %reload_ext autoreload\n"
     ]
    }
   ],
   "source": [
    "%load_ext autoreload\n",
    "%autoreload 2"
   ]
  },
  {
   "cell_type": "code",
   "execution_count": 37,
   "metadata": {},
   "outputs": [],
   "source": [
    "from rlway.pyosrd import OSRD"
   ]
  },
  {
   "cell_type": "code",
   "execution_count": 48,
   "metadata": {},
   "outputs": [
    {
     "data": {
      "text/plain": [
       "['cvg_dvg', 'point_switch', 'station_capacity2']"
      ]
     },
     "execution_count": 48,
     "metadata": {},
     "output_type": "execute_result"
    }
   ],
   "source": [
    "OSRD.use_cases"
   ]
  },
  {
   "cell_type": "code",
   "execution_count": 49,
   "metadata": {},
   "outputs": [
    {
     "name": "stdout",
     "output_type": "stream",
     "text": [
      "[17:14:33,693] \u001b[34m[INFO] \u001b[0;39m [StandaloneSimulationCommand] Loading infra: station_capacity2/infra.json\n",
      "[17:14:33,729] \u001b[34m[INFO] \u001b[0;39m             [FullInfra] parsing infra\n",
      "[17:14:33,803] \u001b[34m[INFO] \u001b[0;39m             [FullInfra] adaptation to kotlin\n",
      "[17:14:33,838] \u001b[34m[INFO] \u001b[0;39m             [FullInfra] loading signals\n",
      "[17:14:33,845] \u001b[34m[INFO] \u001b[0;39m             [FullInfra] building blocks\n",
      "[17:14:33,850] \u001b[34m[INFO] \u001b[0;39m [StandaloneSimulationCommand] Loading input: station_capacity2/simulation.json\n",
      "[17:14:33,863] \u001b[34m[INFO] \u001b[0;39m [StandaloneSimulationCommand] Running simulation for schedule group: group.14\n",
      "[17:14:33,924] \u001b[34m[INFO] \u001b[0;39m [StandaloneSimulationCommand] Running simulation for schedule group: group.15\n",
      "[17:14:33,932] \u001b[34m[INFO] \u001b[0;39m [StandaloneSimulationCommand] All simulations completed\n",
      "[17:14:33,933] \u001b[34m[INFO] \u001b[0;39m [StandaloneSimulationCommand] Saving results at: station_capacity2/results.json\n"
     ]
    }
   ],
   "source": [
    "sim = OSRD(use_case='station_capacity2', dir='station_capacity2')"
   ]
  },
  {
   "cell_type": "code",
   "execution_count": 56,
   "metadata": {},
   "outputs": [
    {
     "data": {
      "text/plain": [
       "{'rt.buffer_stop.0->D0': 'D0<->buffer_stop.0',\n",
       " 'rt.D0->D3': 'DVG',\n",
       " 'rt.D0->D4': 'DVG',\n",
       " 'rt.D1->buffer_stop.0': 'DVG',\n",
       " 'rt.D2->buffer_stop.0': 'DVG',\n",
       " 'rt.D3->buffer_stop.5': 'CVG',\n",
       " 'rt.D4->buffer_stop.5': 'CVG',\n",
       " 'rt.buffer_stop.5->D5': 'D5<->buffer_stop.5',\n",
       " 'rt.D5->D1': 'CVG',\n",
       " 'rt.D5->D2': 'CVG'}"
      ]
     },
     "execution_count": 56,
     "metadata": {},
     "output_type": "execute_result"
    }
   ],
   "source": [
    "sim.route_tvds"
   ]
  },
  {
   "cell_type": "code",
   "execution_count": 51,
   "metadata": {},
   "outputs": [
    {
     "data": {
      "text/html": [
       "<img src=\"https://mermaid.ink/img/Z3JhcGggTFI7YnVmZmVyX3N0b3AuMC0tPkQwO0QwLS0+RDM7RDAtLT5ENDtEMS0tPmJ1ZmZlcl9zdG9wLjA7RDItLT5idWZmZXJfc3RvcC4wO0QzLS0+YnVmZmVyX3N0b3AuNTtENC0tPmJ1ZmZlcl9zdG9wLjU7YnVmZmVyX3N0b3AuNS0tPkQ1O0Q1LS0+RDE7RDUtLT5EMg==\"/>"
      ],
      "text/plain": [
       "<IPython.core.display.Image object>"
      ]
     },
     "metadata": {},
     "output_type": "display_data"
    }
   ],
   "source": [
    "sim.draw_infra()"
   ]
  },
  {
   "cell_type": "code",
   "execution_count": null,
   "metadata": {},
   "outputs": [],
   "source": []
  }
 ],
 "metadata": {
  "kernelspec": {
   "display_name": "venv",
   "language": "python",
   "name": "python3"
  },
  "language_info": {
   "codemirror_mode": {
    "name": "ipython",
    "version": 3
   },
   "file_extension": ".py",
   "mimetype": "text/x-python",
   "name": "python",
   "nbconvert_exporter": "python",
   "pygments_lexer": "ipython3",
   "version": "3.10.12"
  },
  "orig_nbformat": 4
 },
 "nbformat": 4,
 "nbformat_minor": 2
}
