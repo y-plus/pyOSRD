{
 "cells": [
  {
   "cell_type": "code",
   "execution_count": 301,
   "metadata": {},
   "outputs": [
    {
     "name": "stdout",
     "output_type": "stream",
     "text": [
      "The autoreload extension is already loaded. To reload it, use:\n",
      "  %reload_ext autoreload\n"
     ]
    }
   ],
   "source": [
    "%load_ext autoreload\n",
    "%autoreload 2"
   ]
  },
  {
   "cell_type": "code",
   "execution_count": 302,
   "metadata": {},
   "outputs": [],
   "source": [
    "from rlway.pyosrd import OSRD"
   ]
  },
  {
   "cell_type": "code",
   "execution_count": 303,
   "metadata": {},
   "outputs": [
    {
     "data": {
      "text/plain": [
       "['cvg_dvg',\n",
       " 'point_switch',\n",
       " 'station_capacity2',\n",
       " 'straight_line',\n",
       " 'straight_line_with_blocks']"
      ]
     },
     "execution_count": 303,
     "metadata": {},
     "output_type": "execute_result"
    }
   ],
   "source": [
    "OSRD.use_cases"
   ]
  },
  {
   "cell_type": "code",
   "execution_count": 304,
   "metadata": {},
   "outputs": [
    {
     "name": "stdout",
     "output_type": "stream",
     "text": [
      "[17:26:18,369] \u001b[34m[INFO] \u001b[0;39m [StandaloneSimulationCommand] Loading infra: tmp/infra.json\n",
      "[17:26:18,403] \u001b[34m[INFO] \u001b[0;39m             [FullInfra] parsing infra\n",
      "[17:26:18,464] \u001b[34m[INFO] \u001b[0;39m             [FullInfra] adaptation to kotlin\n",
      "[17:26:18,494] \u001b[34m[INFO] \u001b[0;39m             [FullInfra] loading signals\n",
      "[17:26:18,500] \u001b[34m[INFO] \u001b[0;39m             [FullInfra] building blocks\n",
      "[17:26:18,507] \u001b[34m[INFO] \u001b[0;39m [StandaloneSimulationCommand] Loading input: tmp/simulation.json\n",
      "[17:26:18,520] \u001b[34m[INFO] \u001b[0;39m [StandaloneSimulationCommand] Running simulation for schedule group: group.40\n",
      "[17:26:18,573] \u001b[39m[DEBUG]\u001b[0;39m             [Allowance] computing range n°1\n",
      "[17:26:18,576] \u001b[39m[DEBUG]\u001b[0;39m             [Allowance]   computing section n°1\n",
      "[17:26:18,576] \u001b[39m[DEBUG]\u001b[0;39m             [Allowance]   target time = 274.13399999999996\n",
      "[17:26:18,577] \u001b[39m[DEBUG]\u001b[0;39m             [Allowance]     starting attempt 1\n",
      "[17:26:18,578] \u001b[39m[DEBUG]\u001b[0;39m             [Allowance]     envelope time 452.323\n",
      "[17:26:18,578] \u001b[39m[DEBUG]\u001b[0;39m             [Allowance]     starting attempt 2\n",
      "[17:26:18,579] \u001b[39m[DEBUG]\u001b[0;39m             [Allowance]     envelope time 331.051\n",
      "[17:26:18,579] \u001b[39m[DEBUG]\u001b[0;39m             [Allowance]     starting attempt 3\n",
      "[17:26:18,579] \u001b[39m[DEBUG]\u001b[0;39m             [Allowance]     envelope time 291.889\n",
      "[17:26:18,579] \u001b[39m[DEBUG]\u001b[0;39m             [Allowance]     starting attempt 4\n",
      "[17:26:18,579] \u001b[39m[DEBUG]\u001b[0;39m             [Allowance]     envelope time 275.571\n",
      "[17:26:18,579] \u001b[39m[DEBUG]\u001b[0;39m             [Allowance]   computing section n°2\n",
      "[17:26:18,579] \u001b[39m[DEBUG]\u001b[0;39m             [Allowance]   target time = 121.77374999999999\n",
      "[17:26:18,579] \u001b[39m[DEBUG]\u001b[0;39m             [Allowance]     starting attempt 1\n",
      "[17:26:18,579] \u001b[39m[DEBUG]\u001b[0;39m             [Allowance]     envelope time 176.399\n",
      "[17:26:18,579] \u001b[39m[DEBUG]\u001b[0;39m             [Allowance]     starting attempt 2\n",
      "[17:26:18,580] \u001b[39m[DEBUG]\u001b[0;39m             [Allowance]     envelope time 139.925\n",
      "[17:26:18,580] \u001b[39m[DEBUG]\u001b[0;39m             [Allowance]     starting attempt 3\n",
      "[17:26:18,580] \u001b[39m[DEBUG]\u001b[0;39m             [Allowance]     envelope time 126.819\n",
      "[17:26:18,580] \u001b[39m[DEBUG]\u001b[0;39m             [Allowance]     starting attempt 4\n",
      "[17:26:18,580] \u001b[39m[DEBUG]\u001b[0;39m             [Allowance]     envelope time 121.137\n",
      "[17:26:18,584] \u001b[34m[INFO] \u001b[0;39m [StandaloneSimulationCommand] Running simulation for schedule group: group.41\n",
      "[17:26:18,592] \u001b[39m[DEBUG]\u001b[0;39m             [Allowance] computing range n°1\n",
      "[17:26:18,593] \u001b[39m[DEBUG]\u001b[0;39m             [Allowance]   computing section n°1\n",
      "[17:26:18,593] \u001b[39m[DEBUG]\u001b[0;39m             [Allowance]   target time = 303.68309999999997\n",
      "[17:26:18,593] \u001b[39m[DEBUG]\u001b[0;39m             [Allowance]     starting attempt 1\n",
      "[17:26:18,593] \u001b[39m[DEBUG]\u001b[0;39m             [Allowance]     envelope time 505.995\n",
      "[17:26:18,593] \u001b[39m[DEBUG]\u001b[0;39m             [Allowance]     starting attempt 2\n",
      "[17:26:18,593] \u001b[39m[DEBUG]\u001b[0;39m             [Allowance]     envelope time 368.036\n",
      "[17:26:18,593] \u001b[39m[DEBUG]\u001b[0;39m             [Allowance]     starting attempt 3\n",
      "[17:26:18,593] \u001b[39m[DEBUG]\u001b[0;39m             [Allowance]     envelope time 323.785\n",
      "[17:26:18,593] \u001b[39m[DEBUG]\u001b[0;39m             [Allowance]     starting attempt 4\n",
      "[17:26:18,594] \u001b[39m[DEBUG]\u001b[0;39m             [Allowance]     envelope time 305.563\n",
      "[17:26:18,596] \u001b[34m[INFO] \u001b[0;39m [StandaloneSimulationCommand] All simulations completed\n",
      "[17:26:18,596] \u001b[34m[INFO] \u001b[0;39m [StandaloneSimulationCommand] Saving results at: tmp/results.json\n"
     ]
    }
   ],
   "source": [
    "use_case='straight_line_with_blocks'\n",
    "sim = OSRD(use_case=use_case, dir='tmp')"
   ]
  },
  {
   "cell_type": "code",
   "execution_count": 305,
   "metadata": {},
   "outputs": [
    {
     "data": {
      "text/plain": [
       "[{'id': 'T', 'direction': 'START_TO_STOP'}]"
      ]
     },
     "execution_count": 305,
     "metadata": {},
     "output_type": "execute_result"
    }
   ],
   "source": [
    "sim.train_track_sections(0)"
   ]
  },
  {
   "cell_type": "code",
   "execution_count": 307,
   "metadata": {},
   "outputs": [
    {
     "data": {
      "application/vnd.plotly.v1+json": {
       "config": {
        "plotlyServerURL": "https://plot.ly"
       },
       "data": [
        {
         "name": "First train",
         "type": "scatter",
         "x": [
          0,
          0.13333333333333333,
          0.2,
          0.3,
          0.36666666666666664,
          0.4666666666666667,
          0.5333333333333333,
          0.6333333333333333,
          0.8,
          0.9666666666666667,
          1.1333333333333333,
          1.3,
          1.4666666666666666,
          1.6333333333333333,
          1.8,
          1.9666666666666666,
          2.1,
          2.2666666666666666,
          2.433333333333333,
          2.618026614930319,
          2.7513599482636524,
          2.8846932815969857,
          3.018026614930319,
          3.0846932815969854,
          3.1846932815969855,
          3.2846932815969856,
          3.3846932815969857,
          3.451359948263652,
          3.551359948263652,
          3.6513599482636523,
          3.7513599482636524,
          3.8846932815969857,
          4.018026614930319,
          4.151359948263652,
          4.284693281596986,
          6.351359948263652,
          6.484693281596986,
          6.618026614930319,
          6.718026614930319,
          6.818026614930319,
          6.9180266149303185,
          7.051359948263652,
          7.151359948263652,
          7.251359948263652,
          7.450958628706643,
          7.550958628706643,
          7.650958628706643,
          7.784291962039976,
          7.91762529537331,
          8.050958628706644,
          8.184291962039977,
          8.300958628706644
         ],
         "y": [
          0,
          14.737564131867884,
          33.126961123435876,
          74.4099519150393,
          111.01420599720473,
          179.4321144047699,
          233.9629768478436,
          328.91772568490126,
          520.8085223751327,
          750.4119675638053,
          1015.0493607740393,
          1314.2283967487497,
          1647.5586064682898,
          2014.5180331911379,
          2414.2934790995873,
          2845.714711078879,
          3212.563990754671,
          3696.7340515028427,
          4207.423902455484,
          4796,
          5196,
          5564,
          5900,
          6056,
          6275,
          6476,
          6659,
          6771,
          6924,
          7059,
          7176,
          7304,
          7400,
          7464,
          7496,
          7500,
          7514.737564131869,
          7558.828024738028,
          7611.014205997204,
          7679.432114404769,
          7763.87671506148,
          7900.7635830172985,
          8020.808522375131,
          8154.3298865361285,
          8455,
          8596,
          8719,
          8855,
          8959,
          9031,
          9071,
          9080
         ]
        },
        {
         "name": "Second train",
         "type": "scatter",
         "x": [
          3,
          3.1333333333333333,
          3.2,
          3.3,
          3.433333333333333,
          3.5,
          3.6,
          3.6666666666666665,
          3.7666666666666666,
          3.933333333333333,
          4.1,
          4.266666666666667,
          4.366666666666666,
          4.466666666666667,
          4.566666666666666,
          4.666666666666667,
          4.766666666666667,
          4.866666666666666,
          4.966666666666667,
          5.066666666666666,
          5.266666666666667,
          5.366666666666666,
          5.5,
          5.7,
          5.987056220891838,
          6.0537228875585045,
          6.153722887558504,
          6.253722887558505,
          6.353722887558504,
          6.453722887558504,
          6.587056220891838,
          6.720389554225171,
          6.787056220891838,
          6.8870562208918376,
          6.953722887558504,
          7.0537228875585045,
          7.120389554225171,
          7.220389554225171,
          7.353722887558504,
          7.420389554225171,
          7.520389554225171,
          7.587056220891838,
          7.687056220891837,
          7.837056220891838
         ],
         "y": [
          0,
          14.737564131867884,
          33.126961123435876,
          74.4099519150393,
          154.83436374260486,
          205.81115053551775,
          295.5355236658544,
          364.0010855583903,
          479.21559488860294,
          701.6683698059924,
          959.3464399779696,
          1251.6467632837812,
          1443.488407958817,
          1647.5586064682898,
          1863.7394847226665,
          2091.8814950553574,
          2331.7642116360034,
          2583.146403823782,
          2845.714711078879,
          3119.0972831968534,
          3696.7340515028427,
          4000.0966608720946,
          4418.668343729119,
          5074.620000705183,
          6055,
          6271,
          6580,
          6871,
          7144,
          7399,
          7711,
          7991,
          8119,
          8296,
          8404,
          8551,
          8639,
          8756,
          8884,
          8936,
          8999,
          9031,
          9064,
          9080
         ]
        }
       ],
       "layout": {
        "hovermode": "x unified",
        "shapes": [
         {
          "line": {
           "color": "black",
           "width": 0.5
          },
          "type": "line",
          "x0": 0,
          "x1": 1,
          "xref": "x domain",
          "y0": 0,
          "y1": 0,
          "yref": "y"
         },
         {
          "line": {
           "color": "black",
           "width": 0.5
          },
          "type": "line",
          "x0": 0,
          "x1": 1,
          "xref": "x domain",
          "y0": 20,
          "y1": 20,
          "yref": "y"
         },
         {
          "line": {
           "color": "black",
           "width": 0.5
          },
          "type": "line",
          "x0": 0,
          "x1": 1,
          "xref": "x domain",
          "y0": 1520,
          "y1": 1520,
          "yref": "y"
         },
         {
          "line": {
           "color": "black",
           "width": 0.5
          },
          "type": "line",
          "x0": 0,
          "x1": 1,
          "xref": "x domain",
          "y0": 3520,
          "y1": 3520,
          "yref": "y"
         },
         {
          "line": {
           "color": "black",
           "width": 0.5
          },
          "type": "line",
          "x0": 0,
          "x1": 1,
          "xref": "x domain",
          "y0": 5520,
          "y1": 5520,
          "yref": "y"
         },
         {
          "line": {
           "color": "black",
           "width": 0.5
          },
          "type": "line",
          "x0": 0,
          "x1": 1,
          "xref": "x domain",
          "y0": 7520,
          "y1": 7520,
          "yref": "y"
         },
         {
          "line": {
           "color": "black",
           "width": 0.5
          },
          "type": "line",
          "x0": 0,
          "x1": 1,
          "xref": "x domain",
          "y0": 9080,
          "y1": 9080,
          "yref": "y"
         }
        ],
        "template": {
         "data": {
          "bar": [
           {
            "error_x": {
             "color": "rgb(36,36,36)"
            },
            "error_y": {
             "color": "rgb(36,36,36)"
            },
            "marker": {
             "line": {
              "color": "white",
              "width": 0.5
             },
             "pattern": {
              "fillmode": "overlay",
              "size": 10,
              "solidity": 0.2
             }
            },
            "type": "bar"
           }
          ],
          "barpolar": [
           {
            "marker": {
             "line": {
              "color": "white",
              "width": 0.5
             },
             "pattern": {
              "fillmode": "overlay",
              "size": 10,
              "solidity": 0.2
             }
            },
            "type": "barpolar"
           }
          ],
          "carpet": [
           {
            "aaxis": {
             "endlinecolor": "rgb(36,36,36)",
             "gridcolor": "white",
             "linecolor": "white",
             "minorgridcolor": "white",
             "startlinecolor": "rgb(36,36,36)"
            },
            "baxis": {
             "endlinecolor": "rgb(36,36,36)",
             "gridcolor": "white",
             "linecolor": "white",
             "minorgridcolor": "white",
             "startlinecolor": "rgb(36,36,36)"
            },
            "type": "carpet"
           }
          ],
          "choropleth": [
           {
            "colorbar": {
             "outlinewidth": 1,
             "tickcolor": "rgb(36,36,36)",
             "ticks": "outside"
            },
            "type": "choropleth"
           }
          ],
          "contour": [
           {
            "colorbar": {
             "outlinewidth": 1,
             "tickcolor": "rgb(36,36,36)",
             "ticks": "outside"
            },
            "colorscale": [
             [
              0,
              "#440154"
             ],
             [
              0.1111111111111111,
              "#482878"
             ],
             [
              0.2222222222222222,
              "#3e4989"
             ],
             [
              0.3333333333333333,
              "#31688e"
             ],
             [
              0.4444444444444444,
              "#26828e"
             ],
             [
              0.5555555555555556,
              "#1f9e89"
             ],
             [
              0.6666666666666666,
              "#35b779"
             ],
             [
              0.7777777777777778,
              "#6ece58"
             ],
             [
              0.8888888888888888,
              "#b5de2b"
             ],
             [
              1,
              "#fde725"
             ]
            ],
            "type": "contour"
           }
          ],
          "contourcarpet": [
           {
            "colorbar": {
             "outlinewidth": 1,
             "tickcolor": "rgb(36,36,36)",
             "ticks": "outside"
            },
            "type": "contourcarpet"
           }
          ],
          "heatmap": [
           {
            "colorbar": {
             "outlinewidth": 1,
             "tickcolor": "rgb(36,36,36)",
             "ticks": "outside"
            },
            "colorscale": [
             [
              0,
              "#440154"
             ],
             [
              0.1111111111111111,
              "#482878"
             ],
             [
              0.2222222222222222,
              "#3e4989"
             ],
             [
              0.3333333333333333,
              "#31688e"
             ],
             [
              0.4444444444444444,
              "#26828e"
             ],
             [
              0.5555555555555556,
              "#1f9e89"
             ],
             [
              0.6666666666666666,
              "#35b779"
             ],
             [
              0.7777777777777778,
              "#6ece58"
             ],
             [
              0.8888888888888888,
              "#b5de2b"
             ],
             [
              1,
              "#fde725"
             ]
            ],
            "type": "heatmap"
           }
          ],
          "heatmapgl": [
           {
            "colorbar": {
             "outlinewidth": 1,
             "tickcolor": "rgb(36,36,36)",
             "ticks": "outside"
            },
            "colorscale": [
             [
              0,
              "#440154"
             ],
             [
              0.1111111111111111,
              "#482878"
             ],
             [
              0.2222222222222222,
              "#3e4989"
             ],
             [
              0.3333333333333333,
              "#31688e"
             ],
             [
              0.4444444444444444,
              "#26828e"
             ],
             [
              0.5555555555555556,
              "#1f9e89"
             ],
             [
              0.6666666666666666,
              "#35b779"
             ],
             [
              0.7777777777777778,
              "#6ece58"
             ],
             [
              0.8888888888888888,
              "#b5de2b"
             ],
             [
              1,
              "#fde725"
             ]
            ],
            "type": "heatmapgl"
           }
          ],
          "histogram": [
           {
            "marker": {
             "line": {
              "color": "white",
              "width": 0.6
             }
            },
            "type": "histogram"
           }
          ],
          "histogram2d": [
           {
            "colorbar": {
             "outlinewidth": 1,
             "tickcolor": "rgb(36,36,36)",
             "ticks": "outside"
            },
            "colorscale": [
             [
              0,
              "#440154"
             ],
             [
              0.1111111111111111,
              "#482878"
             ],
             [
              0.2222222222222222,
              "#3e4989"
             ],
             [
              0.3333333333333333,
              "#31688e"
             ],
             [
              0.4444444444444444,
              "#26828e"
             ],
             [
              0.5555555555555556,
              "#1f9e89"
             ],
             [
              0.6666666666666666,
              "#35b779"
             ],
             [
              0.7777777777777778,
              "#6ece58"
             ],
             [
              0.8888888888888888,
              "#b5de2b"
             ],
             [
              1,
              "#fde725"
             ]
            ],
            "type": "histogram2d"
           }
          ],
          "histogram2dcontour": [
           {
            "colorbar": {
             "outlinewidth": 1,
             "tickcolor": "rgb(36,36,36)",
             "ticks": "outside"
            },
            "colorscale": [
             [
              0,
              "#440154"
             ],
             [
              0.1111111111111111,
              "#482878"
             ],
             [
              0.2222222222222222,
              "#3e4989"
             ],
             [
              0.3333333333333333,
              "#31688e"
             ],
             [
              0.4444444444444444,
              "#26828e"
             ],
             [
              0.5555555555555556,
              "#1f9e89"
             ],
             [
              0.6666666666666666,
              "#35b779"
             ],
             [
              0.7777777777777778,
              "#6ece58"
             ],
             [
              0.8888888888888888,
              "#b5de2b"
             ],
             [
              1,
              "#fde725"
             ]
            ],
            "type": "histogram2dcontour"
           }
          ],
          "mesh3d": [
           {
            "colorbar": {
             "outlinewidth": 1,
             "tickcolor": "rgb(36,36,36)",
             "ticks": "outside"
            },
            "type": "mesh3d"
           }
          ],
          "parcoords": [
           {
            "line": {
             "colorbar": {
              "outlinewidth": 1,
              "tickcolor": "rgb(36,36,36)",
              "ticks": "outside"
             }
            },
            "type": "parcoords"
           }
          ],
          "pie": [
           {
            "automargin": true,
            "type": "pie"
           }
          ],
          "scatter": [
           {
            "fillpattern": {
             "fillmode": "overlay",
             "size": 10,
             "solidity": 0.2
            },
            "type": "scatter"
           }
          ],
          "scatter3d": [
           {
            "line": {
             "colorbar": {
              "outlinewidth": 1,
              "tickcolor": "rgb(36,36,36)",
              "ticks": "outside"
             }
            },
            "marker": {
             "colorbar": {
              "outlinewidth": 1,
              "tickcolor": "rgb(36,36,36)",
              "ticks": "outside"
             }
            },
            "type": "scatter3d"
           }
          ],
          "scattercarpet": [
           {
            "marker": {
             "colorbar": {
              "outlinewidth": 1,
              "tickcolor": "rgb(36,36,36)",
              "ticks": "outside"
             }
            },
            "type": "scattercarpet"
           }
          ],
          "scattergeo": [
           {
            "marker": {
             "colorbar": {
              "outlinewidth": 1,
              "tickcolor": "rgb(36,36,36)",
              "ticks": "outside"
             }
            },
            "type": "scattergeo"
           }
          ],
          "scattergl": [
           {
            "marker": {
             "colorbar": {
              "outlinewidth": 1,
              "tickcolor": "rgb(36,36,36)",
              "ticks": "outside"
             }
            },
            "type": "scattergl"
           }
          ],
          "scattermapbox": [
           {
            "marker": {
             "colorbar": {
              "outlinewidth": 1,
              "tickcolor": "rgb(36,36,36)",
              "ticks": "outside"
             }
            },
            "type": "scattermapbox"
           }
          ],
          "scatterpolar": [
           {
            "marker": {
             "colorbar": {
              "outlinewidth": 1,
              "tickcolor": "rgb(36,36,36)",
              "ticks": "outside"
             }
            },
            "type": "scatterpolar"
           }
          ],
          "scatterpolargl": [
           {
            "marker": {
             "colorbar": {
              "outlinewidth": 1,
              "tickcolor": "rgb(36,36,36)",
              "ticks": "outside"
             }
            },
            "type": "scatterpolargl"
           }
          ],
          "scatterternary": [
           {
            "marker": {
             "colorbar": {
              "outlinewidth": 1,
              "tickcolor": "rgb(36,36,36)",
              "ticks": "outside"
             }
            },
            "type": "scatterternary"
           }
          ],
          "surface": [
           {
            "colorbar": {
             "outlinewidth": 1,
             "tickcolor": "rgb(36,36,36)",
             "ticks": "outside"
            },
            "colorscale": [
             [
              0,
              "#440154"
             ],
             [
              0.1111111111111111,
              "#482878"
             ],
             [
              0.2222222222222222,
              "#3e4989"
             ],
             [
              0.3333333333333333,
              "#31688e"
             ],
             [
              0.4444444444444444,
              "#26828e"
             ],
             [
              0.5555555555555556,
              "#1f9e89"
             ],
             [
              0.6666666666666666,
              "#35b779"
             ],
             [
              0.7777777777777778,
              "#6ece58"
             ],
             [
              0.8888888888888888,
              "#b5de2b"
             ],
             [
              1,
              "#fde725"
             ]
            ],
            "type": "surface"
           }
          ],
          "table": [
           {
            "cells": {
             "fill": {
              "color": "rgb(237,237,237)"
             },
             "line": {
              "color": "white"
             }
            },
            "header": {
             "fill": {
              "color": "rgb(217,217,217)"
             },
             "line": {
              "color": "white"
             }
            },
            "type": "table"
           }
          ]
         },
         "layout": {
          "annotationdefaults": {
           "arrowhead": 0,
           "arrowwidth": 1
          },
          "autotypenumbers": "strict",
          "coloraxis": {
           "colorbar": {
            "outlinewidth": 1,
            "tickcolor": "rgb(36,36,36)",
            "ticks": "outside"
           }
          },
          "colorscale": {
           "diverging": [
            [
             0,
             "rgb(103,0,31)"
            ],
            [
             0.1,
             "rgb(178,24,43)"
            ],
            [
             0.2,
             "rgb(214,96,77)"
            ],
            [
             0.3,
             "rgb(244,165,130)"
            ],
            [
             0.4,
             "rgb(253,219,199)"
            ],
            [
             0.5,
             "rgb(247,247,247)"
            ],
            [
             0.6,
             "rgb(209,229,240)"
            ],
            [
             0.7,
             "rgb(146,197,222)"
            ],
            [
             0.8,
             "rgb(67,147,195)"
            ],
            [
             0.9,
             "rgb(33,102,172)"
            ],
            [
             1,
             "rgb(5,48,97)"
            ]
           ],
           "sequential": [
            [
             0,
             "#440154"
            ],
            [
             0.1111111111111111,
             "#482878"
            ],
            [
             0.2222222222222222,
             "#3e4989"
            ],
            [
             0.3333333333333333,
             "#31688e"
            ],
            [
             0.4444444444444444,
             "#26828e"
            ],
            [
             0.5555555555555556,
             "#1f9e89"
            ],
            [
             0.6666666666666666,
             "#35b779"
            ],
            [
             0.7777777777777778,
             "#6ece58"
            ],
            [
             0.8888888888888888,
             "#b5de2b"
            ],
            [
             1,
             "#fde725"
            ]
           ],
           "sequentialminus": [
            [
             0,
             "#440154"
            ],
            [
             0.1111111111111111,
             "#482878"
            ],
            [
             0.2222222222222222,
             "#3e4989"
            ],
            [
             0.3333333333333333,
             "#31688e"
            ],
            [
             0.4444444444444444,
             "#26828e"
            ],
            [
             0.5555555555555556,
             "#1f9e89"
            ],
            [
             0.6666666666666666,
             "#35b779"
            ],
            [
             0.7777777777777778,
             "#6ece58"
            ],
            [
             0.8888888888888888,
             "#b5de2b"
            ],
            [
             1,
             "#fde725"
            ]
           ]
          },
          "colorway": [
           "#1F77B4",
           "#FF7F0E",
           "#2CA02C",
           "#D62728",
           "#9467BD",
           "#8C564B",
           "#E377C2",
           "#7F7F7F",
           "#BCBD22",
           "#17BECF"
          ],
          "font": {
           "color": "rgb(36,36,36)"
          },
          "geo": {
           "bgcolor": "white",
           "lakecolor": "white",
           "landcolor": "white",
           "showlakes": true,
           "showland": true,
           "subunitcolor": "white"
          },
          "hoverlabel": {
           "align": "left"
          },
          "hovermode": "closest",
          "mapbox": {
           "style": "light"
          },
          "paper_bgcolor": "white",
          "plot_bgcolor": "white",
          "polar": {
           "angularaxis": {
            "gridcolor": "rgb(232,232,232)",
            "linecolor": "rgb(36,36,36)",
            "showgrid": false,
            "showline": true,
            "ticks": "outside"
           },
           "bgcolor": "white",
           "radialaxis": {
            "gridcolor": "rgb(232,232,232)",
            "linecolor": "rgb(36,36,36)",
            "showgrid": false,
            "showline": true,
            "ticks": "outside"
           }
          },
          "scene": {
           "xaxis": {
            "backgroundcolor": "white",
            "gridcolor": "rgb(232,232,232)",
            "gridwidth": 2,
            "linecolor": "rgb(36,36,36)",
            "showbackground": true,
            "showgrid": false,
            "showline": true,
            "ticks": "outside",
            "zeroline": false,
            "zerolinecolor": "rgb(36,36,36)"
           },
           "yaxis": {
            "backgroundcolor": "white",
            "gridcolor": "rgb(232,232,232)",
            "gridwidth": 2,
            "linecolor": "rgb(36,36,36)",
            "showbackground": true,
            "showgrid": false,
            "showline": true,
            "ticks": "outside",
            "zeroline": false,
            "zerolinecolor": "rgb(36,36,36)"
           },
           "zaxis": {
            "backgroundcolor": "white",
            "gridcolor": "rgb(232,232,232)",
            "gridwidth": 2,
            "linecolor": "rgb(36,36,36)",
            "showbackground": true,
            "showgrid": false,
            "showline": true,
            "ticks": "outside",
            "zeroline": false,
            "zerolinecolor": "rgb(36,36,36)"
           }
          },
          "shapedefaults": {
           "fillcolor": "black",
           "line": {
            "width": 0
           },
           "opacity": 0.3
          },
          "ternary": {
           "aaxis": {
            "gridcolor": "rgb(232,232,232)",
            "linecolor": "rgb(36,36,36)",
            "showgrid": false,
            "showline": true,
            "ticks": "outside"
           },
           "baxis": {
            "gridcolor": "rgb(232,232,232)",
            "linecolor": "rgb(36,36,36)",
            "showgrid": false,
            "showline": true,
            "ticks": "outside"
           },
           "bgcolor": "white",
           "caxis": {
            "gridcolor": "rgb(232,232,232)",
            "linecolor": "rgb(36,36,36)",
            "showgrid": false,
            "showline": true,
            "ticks": "outside"
           }
          },
          "title": {
           "x": 0.05
          },
          "xaxis": {
           "automargin": true,
           "gridcolor": "rgb(232,232,232)",
           "linecolor": "rgb(36,36,36)",
           "showgrid": false,
           "showline": true,
           "ticks": "outside",
           "title": {
            "standoff": 15
           },
           "zeroline": false,
           "zerolinecolor": "rgb(36,36,36)"
          },
          "yaxis": {
           "automargin": true,
           "gridcolor": "rgb(232,232,232)",
           "linecolor": "rgb(36,36,36)",
           "showgrid": false,
           "showline": true,
           "ticks": "outside",
           "title": {
            "standoff": 15
           },
           "zeroline": false,
           "zerolinecolor": "rgb(36,36,36)"
          }
         }
        },
        "title": {
         "text": "train 1 (base)"
        },
        "xaxis": {
         "title": {
          "text": "Time [min]"
         }
        },
        "yaxis": {
         "tickmode": "array",
         "ticktext": [
          "stationA",
          "SA",
          "S2.0",
          "S4.0",
          "S6.0",
          "S8.0",
          "stationB"
         ],
         "tickvals": [
          0,
          20,
          1520,
          3520,
          5520,
          7520,
          9080
         ]
        }
       }
      },
      "text/html": [
       "<div>                            <div id=\"af64804d-b3de-435a-8890-b41dc188d5c8\" class=\"plotly-graph-div\" style=\"height:525px; width:100%;\"></div>            <script type=\"text/javascript\">                require([\"plotly\"], function(Plotly) {                    window.PLOTLYENV=window.PLOTLYENV || {};                                    if (document.getElementById(\"af64804d-b3de-435a-8890-b41dc188d5c8\")) {                    Plotly.newPlot(                        \"af64804d-b3de-435a-8890-b41dc188d5c8\",                        [{\"name\":\"First train\",\"x\":[0.0,0.13333333333333333,0.2,0.3,0.36666666666666664,0.4666666666666667,0.5333333333333333,0.6333333333333333,0.8,0.9666666666666667,1.1333333333333333,1.3,1.4666666666666666,1.6333333333333333,1.8,1.9666666666666666,2.1,2.2666666666666666,2.433333333333333,2.618026614930319,2.7513599482636524,2.8846932815969857,3.018026614930319,3.0846932815969854,3.1846932815969855,3.2846932815969856,3.3846932815969857,3.451359948263652,3.551359948263652,3.6513599482636523,3.7513599482636524,3.8846932815969857,4.018026614930319,4.151359948263652,4.284693281596986,6.351359948263652,6.484693281596986,6.618026614930319,6.718026614930319,6.818026614930319,6.9180266149303185,7.051359948263652,7.151359948263652,7.251359948263652,7.450958628706643,7.550958628706643,7.650958628706643,7.784291962039976,7.91762529537331,8.050958628706644,8.184291962039977,8.300958628706644],\"y\":[0.0,14.737564131867884,33.126961123435876,74.4099519150393,111.01420599720473,179.4321144047699,233.9629768478436,328.91772568490126,520.8085223751327,750.4119675638053,1015.0493607740393,1314.2283967487497,1647.5586064682898,2014.5180331911379,2414.2934790995873,2845.714711078879,3212.563990754671,3696.7340515028427,4207.423902455484,4796.0,5196.0,5564.0,5900.0,6056.0,6275.0,6476.0,6659.0,6771.0,6924.0,7059.0,7176.0,7304.0,7400.0,7464.0,7496.0,7500.0,7514.737564131869,7558.828024738028,7611.014205997204,7679.432114404769,7763.87671506148,7900.7635830172985,8020.808522375131,8154.3298865361285,8455.0,8596.0,8719.0,8855.0,8959.0,9031.0,9071.0,9080.0],\"type\":\"scatter\"},{\"name\":\"Second train\",\"x\":[3.0,3.1333333333333333,3.2,3.3,3.433333333333333,3.5,3.6,3.6666666666666665,3.7666666666666666,3.933333333333333,4.1,4.266666666666667,4.366666666666666,4.466666666666667,4.566666666666666,4.666666666666667,4.766666666666667,4.866666666666666,4.966666666666667,5.066666666666666,5.266666666666667,5.366666666666666,5.5,5.7,5.987056220891838,6.0537228875585045,6.153722887558504,6.253722887558505,6.353722887558504,6.453722887558504,6.587056220891838,6.720389554225171,6.787056220891838,6.8870562208918376,6.953722887558504,7.0537228875585045,7.120389554225171,7.220389554225171,7.353722887558504,7.420389554225171,7.520389554225171,7.587056220891838,7.687056220891837,7.837056220891838],\"y\":[0.0,14.737564131867884,33.126961123435876,74.4099519150393,154.83436374260486,205.81115053551775,295.5355236658544,364.0010855583903,479.21559488860294,701.6683698059924,959.3464399779696,1251.6467632837812,1443.488407958817,1647.5586064682898,1863.7394847226665,2091.8814950553574,2331.7642116360034,2583.146403823782,2845.714711078879,3119.0972831968534,3696.7340515028427,4000.0966608720946,4418.668343729119,5074.620000705183,6055.0,6271.0,6580.0,6871.0,7144.0,7399.0,7711.0,7991.0,8119.0,8296.0,8404.0,8551.0,8639.0,8756.0,8884.0,8936.0,8999.0,9031.0,9064.0,9080.0],\"type\":\"scatter\"}],                        {\"hovermode\":\"x unified\",\"template\":{\"data\":{\"barpolar\":[{\"marker\":{\"line\":{\"color\":\"white\",\"width\":0.5},\"pattern\":{\"fillmode\":\"overlay\",\"size\":10,\"solidity\":0.2}},\"type\":\"barpolar\"}],\"bar\":[{\"error_x\":{\"color\":\"rgb(36,36,36)\"},\"error_y\":{\"color\":\"rgb(36,36,36)\"},\"marker\":{\"line\":{\"color\":\"white\",\"width\":0.5},\"pattern\":{\"fillmode\":\"overlay\",\"size\":10,\"solidity\":0.2}},\"type\":\"bar\"}],\"carpet\":[{\"aaxis\":{\"endlinecolor\":\"rgb(36,36,36)\",\"gridcolor\":\"white\",\"linecolor\":\"white\",\"minorgridcolor\":\"white\",\"startlinecolor\":\"rgb(36,36,36)\"},\"baxis\":{\"endlinecolor\":\"rgb(36,36,36)\",\"gridcolor\":\"white\",\"linecolor\":\"white\",\"minorgridcolor\":\"white\",\"startlinecolor\":\"rgb(36,36,36)\"},\"type\":\"carpet\"}],\"choropleth\":[{\"colorbar\":{\"outlinewidth\":1,\"tickcolor\":\"rgb(36,36,36)\",\"ticks\":\"outside\"},\"type\":\"choropleth\"}],\"contourcarpet\":[{\"colorbar\":{\"outlinewidth\":1,\"tickcolor\":\"rgb(36,36,36)\",\"ticks\":\"outside\"},\"type\":\"contourcarpet\"}],\"contour\":[{\"colorbar\":{\"outlinewidth\":1,\"tickcolor\":\"rgb(36,36,36)\",\"ticks\":\"outside\"},\"colorscale\":[[0.0,\"#440154\"],[0.1111111111111111,\"#482878\"],[0.2222222222222222,\"#3e4989\"],[0.3333333333333333,\"#31688e\"],[0.4444444444444444,\"#26828e\"],[0.5555555555555556,\"#1f9e89\"],[0.6666666666666666,\"#35b779\"],[0.7777777777777778,\"#6ece58\"],[0.8888888888888888,\"#b5de2b\"],[1.0,\"#fde725\"]],\"type\":\"contour\"}],\"heatmapgl\":[{\"colorbar\":{\"outlinewidth\":1,\"tickcolor\":\"rgb(36,36,36)\",\"ticks\":\"outside\"},\"colorscale\":[[0.0,\"#440154\"],[0.1111111111111111,\"#482878\"],[0.2222222222222222,\"#3e4989\"],[0.3333333333333333,\"#31688e\"],[0.4444444444444444,\"#26828e\"],[0.5555555555555556,\"#1f9e89\"],[0.6666666666666666,\"#35b779\"],[0.7777777777777778,\"#6ece58\"],[0.8888888888888888,\"#b5de2b\"],[1.0,\"#fde725\"]],\"type\":\"heatmapgl\"}],\"heatmap\":[{\"colorbar\":{\"outlinewidth\":1,\"tickcolor\":\"rgb(36,36,36)\",\"ticks\":\"outside\"},\"colorscale\":[[0.0,\"#440154\"],[0.1111111111111111,\"#482878\"],[0.2222222222222222,\"#3e4989\"],[0.3333333333333333,\"#31688e\"],[0.4444444444444444,\"#26828e\"],[0.5555555555555556,\"#1f9e89\"],[0.6666666666666666,\"#35b779\"],[0.7777777777777778,\"#6ece58\"],[0.8888888888888888,\"#b5de2b\"],[1.0,\"#fde725\"]],\"type\":\"heatmap\"}],\"histogram2dcontour\":[{\"colorbar\":{\"outlinewidth\":1,\"tickcolor\":\"rgb(36,36,36)\",\"ticks\":\"outside\"},\"colorscale\":[[0.0,\"#440154\"],[0.1111111111111111,\"#482878\"],[0.2222222222222222,\"#3e4989\"],[0.3333333333333333,\"#31688e\"],[0.4444444444444444,\"#26828e\"],[0.5555555555555556,\"#1f9e89\"],[0.6666666666666666,\"#35b779\"],[0.7777777777777778,\"#6ece58\"],[0.8888888888888888,\"#b5de2b\"],[1.0,\"#fde725\"]],\"type\":\"histogram2dcontour\"}],\"histogram2d\":[{\"colorbar\":{\"outlinewidth\":1,\"tickcolor\":\"rgb(36,36,36)\",\"ticks\":\"outside\"},\"colorscale\":[[0.0,\"#440154\"],[0.1111111111111111,\"#482878\"],[0.2222222222222222,\"#3e4989\"],[0.3333333333333333,\"#31688e\"],[0.4444444444444444,\"#26828e\"],[0.5555555555555556,\"#1f9e89\"],[0.6666666666666666,\"#35b779\"],[0.7777777777777778,\"#6ece58\"],[0.8888888888888888,\"#b5de2b\"],[1.0,\"#fde725\"]],\"type\":\"histogram2d\"}],\"histogram\":[{\"marker\":{\"line\":{\"color\":\"white\",\"width\":0.6}},\"type\":\"histogram\"}],\"mesh3d\":[{\"colorbar\":{\"outlinewidth\":1,\"tickcolor\":\"rgb(36,36,36)\",\"ticks\":\"outside\"},\"type\":\"mesh3d\"}],\"parcoords\":[{\"line\":{\"colorbar\":{\"outlinewidth\":1,\"tickcolor\":\"rgb(36,36,36)\",\"ticks\":\"outside\"}},\"type\":\"parcoords\"}],\"pie\":[{\"automargin\":true,\"type\":\"pie\"}],\"scatter3d\":[{\"line\":{\"colorbar\":{\"outlinewidth\":1,\"tickcolor\":\"rgb(36,36,36)\",\"ticks\":\"outside\"}},\"marker\":{\"colorbar\":{\"outlinewidth\":1,\"tickcolor\":\"rgb(36,36,36)\",\"ticks\":\"outside\"}},\"type\":\"scatter3d\"}],\"scattercarpet\":[{\"marker\":{\"colorbar\":{\"outlinewidth\":1,\"tickcolor\":\"rgb(36,36,36)\",\"ticks\":\"outside\"}},\"type\":\"scattercarpet\"}],\"scattergeo\":[{\"marker\":{\"colorbar\":{\"outlinewidth\":1,\"tickcolor\":\"rgb(36,36,36)\",\"ticks\":\"outside\"}},\"type\":\"scattergeo\"}],\"scattergl\":[{\"marker\":{\"colorbar\":{\"outlinewidth\":1,\"tickcolor\":\"rgb(36,36,36)\",\"ticks\":\"outside\"}},\"type\":\"scattergl\"}],\"scattermapbox\":[{\"marker\":{\"colorbar\":{\"outlinewidth\":1,\"tickcolor\":\"rgb(36,36,36)\",\"ticks\":\"outside\"}},\"type\":\"scattermapbox\"}],\"scatterpolargl\":[{\"marker\":{\"colorbar\":{\"outlinewidth\":1,\"tickcolor\":\"rgb(36,36,36)\",\"ticks\":\"outside\"}},\"type\":\"scatterpolargl\"}],\"scatterpolar\":[{\"marker\":{\"colorbar\":{\"outlinewidth\":1,\"tickcolor\":\"rgb(36,36,36)\",\"ticks\":\"outside\"}},\"type\":\"scatterpolar\"}],\"scatter\":[{\"fillpattern\":{\"fillmode\":\"overlay\",\"size\":10,\"solidity\":0.2},\"type\":\"scatter\"}],\"scatterternary\":[{\"marker\":{\"colorbar\":{\"outlinewidth\":1,\"tickcolor\":\"rgb(36,36,36)\",\"ticks\":\"outside\"}},\"type\":\"scatterternary\"}],\"surface\":[{\"colorbar\":{\"outlinewidth\":1,\"tickcolor\":\"rgb(36,36,36)\",\"ticks\":\"outside\"},\"colorscale\":[[0.0,\"#440154\"],[0.1111111111111111,\"#482878\"],[0.2222222222222222,\"#3e4989\"],[0.3333333333333333,\"#31688e\"],[0.4444444444444444,\"#26828e\"],[0.5555555555555556,\"#1f9e89\"],[0.6666666666666666,\"#35b779\"],[0.7777777777777778,\"#6ece58\"],[0.8888888888888888,\"#b5de2b\"],[1.0,\"#fde725\"]],\"type\":\"surface\"}],\"table\":[{\"cells\":{\"fill\":{\"color\":\"rgb(237,237,237)\"},\"line\":{\"color\":\"white\"}},\"header\":{\"fill\":{\"color\":\"rgb(217,217,217)\"},\"line\":{\"color\":\"white\"}},\"type\":\"table\"}]},\"layout\":{\"annotationdefaults\":{\"arrowhead\":0,\"arrowwidth\":1},\"autotypenumbers\":\"strict\",\"coloraxis\":{\"colorbar\":{\"outlinewidth\":1,\"tickcolor\":\"rgb(36,36,36)\",\"ticks\":\"outside\"}},\"colorscale\":{\"diverging\":[[0.0,\"rgb(103,0,31)\"],[0.1,\"rgb(178,24,43)\"],[0.2,\"rgb(214,96,77)\"],[0.3,\"rgb(244,165,130)\"],[0.4,\"rgb(253,219,199)\"],[0.5,\"rgb(247,247,247)\"],[0.6,\"rgb(209,229,240)\"],[0.7,\"rgb(146,197,222)\"],[0.8,\"rgb(67,147,195)\"],[0.9,\"rgb(33,102,172)\"],[1.0,\"rgb(5,48,97)\"]],\"sequential\":[[0.0,\"#440154\"],[0.1111111111111111,\"#482878\"],[0.2222222222222222,\"#3e4989\"],[0.3333333333333333,\"#31688e\"],[0.4444444444444444,\"#26828e\"],[0.5555555555555556,\"#1f9e89\"],[0.6666666666666666,\"#35b779\"],[0.7777777777777778,\"#6ece58\"],[0.8888888888888888,\"#b5de2b\"],[1.0,\"#fde725\"]],\"sequentialminus\":[[0.0,\"#440154\"],[0.1111111111111111,\"#482878\"],[0.2222222222222222,\"#3e4989\"],[0.3333333333333333,\"#31688e\"],[0.4444444444444444,\"#26828e\"],[0.5555555555555556,\"#1f9e89\"],[0.6666666666666666,\"#35b779\"],[0.7777777777777778,\"#6ece58\"],[0.8888888888888888,\"#b5de2b\"],[1.0,\"#fde725\"]]},\"colorway\":[\"#1F77B4\",\"#FF7F0E\",\"#2CA02C\",\"#D62728\",\"#9467BD\",\"#8C564B\",\"#E377C2\",\"#7F7F7F\",\"#BCBD22\",\"#17BECF\"],\"font\":{\"color\":\"rgb(36,36,36)\"},\"geo\":{\"bgcolor\":\"white\",\"lakecolor\":\"white\",\"landcolor\":\"white\",\"showlakes\":true,\"showland\":true,\"subunitcolor\":\"white\"},\"hoverlabel\":{\"align\":\"left\"},\"hovermode\":\"closest\",\"mapbox\":{\"style\":\"light\"},\"paper_bgcolor\":\"white\",\"plot_bgcolor\":\"white\",\"polar\":{\"angularaxis\":{\"gridcolor\":\"rgb(232,232,232)\",\"linecolor\":\"rgb(36,36,36)\",\"showgrid\":false,\"showline\":true,\"ticks\":\"outside\"},\"bgcolor\":\"white\",\"radialaxis\":{\"gridcolor\":\"rgb(232,232,232)\",\"linecolor\":\"rgb(36,36,36)\",\"showgrid\":false,\"showline\":true,\"ticks\":\"outside\"}},\"scene\":{\"xaxis\":{\"backgroundcolor\":\"white\",\"gridcolor\":\"rgb(232,232,232)\",\"gridwidth\":2,\"linecolor\":\"rgb(36,36,36)\",\"showbackground\":true,\"showgrid\":false,\"showline\":true,\"ticks\":\"outside\",\"zeroline\":false,\"zerolinecolor\":\"rgb(36,36,36)\"},\"yaxis\":{\"backgroundcolor\":\"white\",\"gridcolor\":\"rgb(232,232,232)\",\"gridwidth\":2,\"linecolor\":\"rgb(36,36,36)\",\"showbackground\":true,\"showgrid\":false,\"showline\":true,\"ticks\":\"outside\",\"zeroline\":false,\"zerolinecolor\":\"rgb(36,36,36)\"},\"zaxis\":{\"backgroundcolor\":\"white\",\"gridcolor\":\"rgb(232,232,232)\",\"gridwidth\":2,\"linecolor\":\"rgb(36,36,36)\",\"showbackground\":true,\"showgrid\":false,\"showline\":true,\"ticks\":\"outside\",\"zeroline\":false,\"zerolinecolor\":\"rgb(36,36,36)\"}},\"shapedefaults\":{\"fillcolor\":\"black\",\"line\":{\"width\":0},\"opacity\":0.3},\"ternary\":{\"aaxis\":{\"gridcolor\":\"rgb(232,232,232)\",\"linecolor\":\"rgb(36,36,36)\",\"showgrid\":false,\"showline\":true,\"ticks\":\"outside\"},\"baxis\":{\"gridcolor\":\"rgb(232,232,232)\",\"linecolor\":\"rgb(36,36,36)\",\"showgrid\":false,\"showline\":true,\"ticks\":\"outside\"},\"bgcolor\":\"white\",\"caxis\":{\"gridcolor\":\"rgb(232,232,232)\",\"linecolor\":\"rgb(36,36,36)\",\"showgrid\":false,\"showline\":true,\"ticks\":\"outside\"}},\"title\":{\"x\":0.05},\"xaxis\":{\"automargin\":true,\"gridcolor\":\"rgb(232,232,232)\",\"linecolor\":\"rgb(36,36,36)\",\"showgrid\":false,\"showline\":true,\"ticks\":\"outside\",\"title\":{\"standoff\":15},\"zeroline\":false,\"zerolinecolor\":\"rgb(36,36,36)\"},\"yaxis\":{\"automargin\":true,\"gridcolor\":\"rgb(232,232,232)\",\"linecolor\":\"rgb(36,36,36)\",\"showgrid\":false,\"showline\":true,\"ticks\":\"outside\",\"title\":{\"standoff\":15},\"zeroline\":false,\"zerolinecolor\":\"rgb(36,36,36)\"}}},\"title\":{\"text\":\"train 1 (base)\"},\"xaxis\":{\"title\":{\"text\":\"Time [min]\"}},\"shapes\":[{\"line\":{\"color\":\"black\",\"width\":0.5},\"type\":\"line\",\"x0\":0,\"x1\":1,\"xref\":\"x domain\",\"y0\":0.0,\"y1\":0.0,\"yref\":\"y\"},{\"line\":{\"color\":\"black\",\"width\":0.5},\"type\":\"line\",\"x0\":0,\"x1\":1,\"xref\":\"x domain\",\"y0\":20.0,\"y1\":20.0,\"yref\":\"y\"},{\"line\":{\"color\":\"black\",\"width\":0.5},\"type\":\"line\",\"x0\":0,\"x1\":1,\"xref\":\"x domain\",\"y0\":1520.0,\"y1\":1520.0,\"yref\":\"y\"},{\"line\":{\"color\":\"black\",\"width\":0.5},\"type\":\"line\",\"x0\":0,\"x1\":1,\"xref\":\"x domain\",\"y0\":3520.0,\"y1\":3520.0,\"yref\":\"y\"},{\"line\":{\"color\":\"black\",\"width\":0.5},\"type\":\"line\",\"x0\":0,\"x1\":1,\"xref\":\"x domain\",\"y0\":5520.0,\"y1\":5520.0,\"yref\":\"y\"},{\"line\":{\"color\":\"black\",\"width\":0.5},\"type\":\"line\",\"x0\":0,\"x1\":1,\"xref\":\"x domain\",\"y0\":7520.0,\"y1\":7520.0,\"yref\":\"y\"},{\"line\":{\"color\":\"black\",\"width\":0.5},\"type\":\"line\",\"x0\":0,\"x1\":1,\"xref\":\"x domain\",\"y0\":9080.0,\"y1\":9080.0,\"yref\":\"y\"}],\"yaxis\":{\"tickmode\":\"array\",\"tickvals\":[0.0,20.0,1520.0,3520.0,5520.0,7520.0,9080.0],\"ticktext\":[\"stationA\",\"SA\",\"S2.0\",\"S4.0\",\"S6.0\",\"S8.0\",\"stationB\"]}},                        {\"responsive\": true}                    ).then(function(){\n",
       "                            \n",
       "var gd = document.getElementById('af64804d-b3de-435a-8890-b41dc188d5c8');\n",
       "var x = new MutationObserver(function (mutations, observer) {{\n",
       "        var display = window.getComputedStyle(gd).display;\n",
       "        if (!display || display === 'none') {{\n",
       "            console.log([gd, 'removed!']);\n",
       "            Plotly.purge(gd);\n",
       "            observer.disconnect();\n",
       "        }}\n",
       "}});\n",
       "\n",
       "// Listen for the removal of the full notebook cells\n",
       "var notebookContainer = gd.closest('#notebook-container');\n",
       "if (notebookContainer) {{\n",
       "    x.observe(notebookContainer, {childList: true});\n",
       "}}\n",
       "\n",
       "// Listen for the clearing of the current output cell\n",
       "var outputEl = gd.closest('.output');\n",
       "if (outputEl) {{\n",
       "    x.observe(outputEl, {childList: true});\n",
       "}}\n",
       "\n",
       "                        })                };                });            </script>        </div>"
      ]
     },
     "metadata": {},
     "output_type": "display_data"
    }
   ],
   "source": [
    "sim.space_time_chart_plotly(1, points_to_show=['signal','station'], eco_or_base='base')"
   ]
  },
  {
   "cell_type": "code",
   "execution_count": 308,
   "metadata": {},
   "outputs": [],
   "source": [
    "from rlway.schedule_from_osrd import schedule_from_osrd"
   ]
  },
  {
   "cell_type": "code",
   "execution_count": 309,
   "metadata": {},
   "outputs": [
    {
     "data": {
      "text/plain": [
       "<Axes: xlabel='Time', ylabel='Track sections'>"
      ]
     },
     "execution_count": 309,
     "metadata": {},
     "output_type": "execute_result"
    },
    {
     "data": {
      "image/png": "[encoded data removed]",
      "text/plain": [
       "<Figure size 640x480 with 1 Axes>"
      ]
     },
     "metadata": {},
     "output_type": "display_data"
    }
   ],
   "source": [
    "s = schedule_from_osrd(sim, eco_or_base='eco')\n",
    "s.plot()"
   ]
  },
  {
   "cell_type": "code",
   "execution_count": 317,
   "metadata": {},
   "outputs": [
    {
     "data": {
      "text/plain": [
       "<Axes: xlabel='Time', ylabel='Track sections'>"
      ]
     },
     "execution_count": 317,
     "metadata": {},
     "output_type": "execute_result"
    },
    {
     "data": {
      "image/png": "[encoded data removed]",
      "text/plain": [
       "<Figure size 640x480 with 1 Axes>"
      ]
     },
     "metadata": {},
     "output_type": "display_data"
    }
   ],
   "source": [
    "s.propagate_delay(0)[0].plot()"
   ]
  },
  {
   "cell_type": "code",
   "execution_count": 318,
   "metadata": {},
   "outputs": [
    {
     "data": {
      "text/html": [
       "<img src=\"https://mermaid.ink/img/Z3JhcGggTFI7RDQtRDYtLT5ENi1EODtENi1EOC0tPkQ4LURCO0RBLWJ1ZmZlcl9zdG9wLjAtLT5EMi1EQTtEMi1EQS0tPkQyLUQ0O0Q4LURCLS0+REItYnVmZmVyX3N0b3AuMTtEMi1ENC0tPkQ0LUQ2\"/>"
      ],
      "text/plain": [
       "<IPython.core.display.Image object>"
      ]
     },
     "execution_count": 318,
     "metadata": {},
     "output_type": "execute_result"
    }
   ],
   "source": [
    "s.draw_graph()"
   ]
  },
  {
   "cell_type": "code",
   "execution_count": null,
   "metadata": {},
   "outputs": [],
   "source": []
  }
 ],
 "metadata": {
  "kernelspec": {
   "display_name": "venv",
   "language": "python",
   "name": "python3"
  },
  "language_info": {
   "codemirror_mode": {
    "name": "ipython",
    "version": 3
   },
   "file_extension": ".py",
   "mimetype": "text/x-python",
   "name": "python",
   "nbconvert_exporter": "python",
   "pygments_lexer": "ipython3",
   "version": "3.10.12"
  },
  "orig_nbformat": 4
 },
 "nbformat": 4,
 "nbformat_minor": 2
}
