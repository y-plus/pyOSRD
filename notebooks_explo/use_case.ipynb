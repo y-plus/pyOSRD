{
 "cells": [
  {
   "cell_type": "code",
   "execution_count": 85,
   "metadata": {},
   "outputs": [
    {
     "name": "stdout",
     "output_type": "stream",
     "text": [
      "The autoreload extension is already loaded. To reload it, use:\n",
      "  %reload_ext autoreload\n"
     ]
    }
   ],
   "source": [
    "%load_ext autoreload\n",
    "%autoreload 2"
   ]
  },
  {
   "cell_type": "code",
   "execution_count": 86,
   "metadata": {},
   "outputs": [],
   "source": [
    "from rlway.pyosrd import OSRD"
   ]
  },
  {
   "cell_type": "code",
   "execution_count": 87,
   "metadata": {},
   "outputs": [
    {
     "data": {
      "text/plain": [
       "['cvg_dvg',\n",
       " 'point_switch',\n",
       " 'station_capacity2',\n",
       " 'straight_line',\n",
       " 'straight_line_with_blocks']"
      ]
     },
     "execution_count": 87,
     "metadata": {},
     "output_type": "execute_result"
    }
   ],
   "source": [
    "OSRD.use_cases"
   ]
  },
  {
   "cell_type": "code",
   "execution_count": 88,
   "metadata": {},
   "outputs": [
    {
     "name": "stdout",
     "output_type": "stream",
     "text": [
      "[09:55:18,977] \u001b[34m[INFO] \u001b[0;39m [StandaloneSimulationCommand] Loading infra: tmp/infra.json\n",
      "[09:55:19,009] \u001b[34m[INFO] \u001b[0;39m             [FullInfra] parsing infra\n",
      "[09:55:19,069] \u001b[34m[INFO] \u001b[0;39m             [FullInfra] adaptation to kotlin\n",
      "[09:55:19,095] \u001b[34m[INFO] \u001b[0;39m             [FullInfra] loading signals\n",
      "[09:55:19,101] \u001b[34m[INFO] \u001b[0;39m             [FullInfra] building blocks\n",
      "[09:55:19,106] \u001b[34m[INFO] \u001b[0;39m [StandaloneSimulationCommand] Loading input: tmp/simulation.json\n",
      "[09:55:19,120] \u001b[34m[INFO] \u001b[0;39m [StandaloneSimulationCommand] Running simulation for schedule group: group.14\n",
      "[09:55:19,167] \u001b[39m[DEBUG]\u001b[0;39m             [Allowance] computing range n°1\n",
      "[09:55:19,169] \u001b[39m[DEBUG]\u001b[0;39m             [Allowance]   computing section n°1\n",
      "[09:55:19,170] \u001b[39m[DEBUG]\u001b[0;39m             [Allowance]   target time = 274.13399999999996\n",
      "[09:55:19,170] \u001b[39m[DEBUG]\u001b[0;39m             [Allowance]     starting attempt 1\n",
      "[09:55:19,171] \u001b[39m[DEBUG]\u001b[0;39m             [Allowance]     envelope time 452.323\n",
      "[09:55:19,171] \u001b[39m[DEBUG]\u001b[0;39m             [Allowance]     starting attempt 2\n",
      "[09:55:19,171] \u001b[39m[DEBUG]\u001b[0;39m             [Allowance]     envelope time 331.051\n",
      "[09:55:19,171] \u001b[39m[DEBUG]\u001b[0;39m             [Allowance]     starting attempt 3\n",
      "[09:55:19,172] \u001b[39m[DEBUG]\u001b[0;39m             [Allowance]     envelope time 291.889\n",
      "[09:55:19,172] \u001b[39m[DEBUG]\u001b[0;39m             [Allowance]     starting attempt 4\n",
      "[09:55:19,172] \u001b[39m[DEBUG]\u001b[0;39m             [Allowance]     envelope time 275.571\n",
      "[09:55:19,172] \u001b[39m[DEBUG]\u001b[0;39m             [Allowance]   computing section n°2\n",
      "[09:55:19,172] \u001b[39m[DEBUG]\u001b[0;39m             [Allowance]   target time = 121.77374999999999\n",
      "[09:55:19,172] \u001b[39m[DEBUG]\u001b[0;39m             [Allowance]     starting attempt 1\n",
      "[09:55:19,172] \u001b[39m[DEBUG]\u001b[0;39m             [Allowance]     envelope time 176.399\n",
      "[09:55:19,172] \u001b[39m[DEBUG]\u001b[0;39m             [Allowance]     starting attempt 2\n",
      "[09:55:19,172] \u001b[39m[DEBUG]\u001b[0;39m             [Allowance]     envelope time 139.925\n",
      "[09:55:19,172] \u001b[39m[DEBUG]\u001b[0;39m             [Allowance]     starting attempt 3\n",
      "[09:55:19,172] \u001b[39m[DEBUG]\u001b[0;39m             [Allowance]     envelope time 126.819\n",
      "[09:55:19,173] \u001b[39m[DEBUG]\u001b[0;39m             [Allowance]     starting attempt 4\n",
      "[09:55:19,173] \u001b[39m[DEBUG]\u001b[0;39m             [Allowance]     envelope time 121.137\n",
      "[09:55:19,176] \u001b[34m[INFO] \u001b[0;39m [StandaloneSimulationCommand] Running simulation for schedule group: group.15\n",
      "[09:55:19,179] \u001b[39m[DEBUG]\u001b[0;39m             [Allowance] computing range n°1\n",
      "[09:55:19,179] \u001b[39m[DEBUG]\u001b[0;39m             [Allowance]   computing section n°1\n",
      "[09:55:19,179] \u001b[39m[DEBUG]\u001b[0;39m             [Allowance]   target time = 303.68309999999997\n",
      "[09:55:19,179] \u001b[39m[DEBUG]\u001b[0;39m             [Allowance]     starting attempt 1\n",
      "[09:55:19,180] \u001b[39m[DEBUG]\u001b[0;39m             [Allowance]     envelope time 505.995\n",
      "[09:55:19,180] \u001b[39m[DEBUG]\u001b[0;39m             [Allowance]     starting attempt 2\n",
      "[09:55:19,180] \u001b[39m[DEBUG]\u001b[0;39m             [Allowance]     envelope time 368.036\n",
      "[09:55:19,180] \u001b[39m[DEBUG]\u001b[0;39m             [Allowance]     starting attempt 3\n",
      "[09:55:19,180] \u001b[39m[DEBUG]\u001b[0;39m             [Allowance]     envelope time 323.785\n",
      "[09:55:19,180] \u001b[39m[DEBUG]\u001b[0;39m             [Allowance]     starting attempt 4\n",
      "[09:55:19,180] \u001b[39m[DEBUG]\u001b[0;39m             [Allowance]     envelope time 305.563\n",
      "[09:55:19,181] \u001b[34m[INFO] \u001b[0;39m [StandaloneSimulationCommand] All simulations completed\n",
      "[09:55:19,181] \u001b[34m[INFO] \u001b[0;39m [StandaloneSimulationCommand] Saving results at: tmp/results.json\n"
     ]
    }
   ],
   "source": [
    "use_case='straight_line'\n",
    "sim = OSRD(use_case=use_case, dir='tmp')"
   ]
  },
  {
   "cell_type": "code",
   "execution_count": 89,
   "metadata": {},
   "outputs": [
    {
     "data": {
      "text/plain": [
       "[{'id': 'T', 'direction': 'START_TO_STOP'}]"
      ]
     },
     "execution_count": 89,
     "metadata": {},
     "output_type": "execute_result"
    }
   ],
   "source": [
    "sim.train_track_sections(0)"
   ]
  },
  {
   "cell_type": "code",
   "execution_count": 90,
   "metadata": {},
   "outputs": [
    {
     "data": {
      "application/vnd.plotly.v1+json": {
       "config": {
        "plotlyServerURL": "https://plot.ly"
       },
       "data": [
        {
         "name": "train0",
         "type": "scatter",
         "x": [
          0,
          0.13333333333333333,
          0.2,
          0.3,
          0.36666666666666664,
          0.4666666666666667,
          0.5333333333333333,
          0.6333333333333333,
          0.8,
          0.9666666666666667,
          1.1333333333333333,
          1.3,
          1.4666666666666666,
          1.6333333333333333,
          1.8,
          1.9666666666666666,
          2.1,
          2.2666666666666666,
          2.433333333333333,
          2.618026614930319,
          2.7513599482636524,
          2.8846932815969857,
          3.018026614930319,
          3.0846932815969854,
          3.1846932815969855,
          3.2846932815969856,
          3.3846932815969857,
          3.451359948263652,
          3.551359948263652,
          3.6513599482636523,
          3.7513599482636524,
          3.8846932815969857,
          4.018026614930319,
          4.151359948263652,
          4.284693281596986,
          6.351359948263652,
          6.484693281596986,
          6.618026614930319,
          6.718026614930319,
          6.818026614930319,
          6.9180266149303185,
          7.051359948263652,
          7.151359948263652,
          7.251359948263652,
          7.450958628706643,
          7.550958628706643,
          7.650958628706643,
          7.784291962039976,
          7.91762529537331,
          8.050958628706644,
          8.184291962039977,
          8.300958628706644
         ],
         "y": [
          9080,
          9065.262435868131,
          9046.873038876563,
          9005.590048084961,
          8968.985794002796,
          8900.56788559523,
          8846.037023152156,
          8751.082274315098,
          8559.191477624867,
          8329.588032436195,
          8064.950639225961,
          7765.771603251251,
          7432.44139353171,
          7065.481966808862,
          6665.706520900412,
          6234.285288921121,
          5867.436009245329,
          5383.265948497157,
          4872.576097544516,
          4284,
          3884,
          3516,
          3180,
          3024,
          2805,
          2604,
          2421,
          2309,
          2156,
          2021,
          1904,
          1776,
          1680,
          1616,
          1584,
          1580,
          1565.2624358681314,
          1521.171975261972,
          1468.985794002796,
          1400.567885595231,
          1316.1232849385196,
          1179.2364169827015,
          1059.1914776248686,
          925.6701134638715,
          625,
          484,
          361,
          225,
          121,
          49,
          9,
          0
         ]
        },
        {
         "name": "train1",
         "type": "scatter",
         "x": [
          7,
          7.133333333333334,
          7.2,
          7.3,
          7.433333333333334,
          7.5,
          7.6,
          7.666666666666667,
          7.766666666666667,
          7.933333333333334,
          8.1,
          8.266666666666667,
          8.366666666666667,
          8.466666666666667,
          8.566666666666666,
          8.666666666666666,
          8.766666666666667,
          8.866666666666667,
          8.966666666666667,
          9.066666666666666,
          9.266666666666667,
          9.366666666666667,
          9.5,
          9.7,
          9.987056220891839,
          10.053722887558505,
          10.153722887558505,
          10.253722887558505,
          10.353722887558506,
          10.453722887558506,
          10.587056220891839,
          10.720389554225171,
          10.787056220891838,
          10.88705622089184,
          10.953722887558506,
          11.053722887558505,
          11.120389554225172,
          11.220389554225171,
          11.353722887558506,
          11.420389554225173,
          11.520389554225172,
          11.587056220891839,
          11.687056220891838,
          11.837056220891839
         ],
         "y": [
          0,
          14.737564131868567,
          33.12696112343656,
          74.40995191503862,
          154.83436374260418,
          205.8111505355173,
          295.53552366585427,
          364.0010855583896,
          479.21559488860294,
          701.6683698059933,
          959.3464399779696,
          1251.6467632837812,
          1443.4884079588173,
          1647.5586064682902,
          1863.739484722666,
          2091.881495055357,
          2331.764211636004,
          2583.146403823782,
          2845.714711078879,
          3119.097283196854,
          3696.7340515028427,
          4000.0966608720946,
          4418.668343729119,
          5074.620000705183,
          6055,
          6271,
          6580,
          6871,
          7144,
          7399,
          7711,
          7991,
          8119,
          8296,
          8404,
          8551,
          8639,
          8756,
          8884,
          8936,
          8999,
          9031,
          9064,
          9080
         ]
        }
       ],
       "layout": {
        "hovermode": "x unified",
        "shapes": [
         {
          "line": {
           "color": "black",
           "width": 0.5
          },
          "type": "line",
          "x0": 0,
          "x1": 1,
          "xref": "x domain",
          "y0": 0,
          "y1": 0,
          "yref": "y"
         },
         {
          "line": {
           "color": "black",
           "width": 0.5
          },
          "type": "line",
          "x0": 0,
          "x1": 1,
          "xref": "x domain",
          "y0": 20,
          "y1": 20,
          "yref": "y"
         },
         {
          "line": {
           "color": "black",
           "width": 0.5
          },
          "type": "line",
          "x0": 0,
          "x1": 1,
          "xref": "x domain",
          "y0": 9080,
          "y1": 9080,
          "yref": "y"
         }
        ],
        "template": {
         "data": {
          "bar": [
           {
            "error_x": {
             "color": "rgb(36,36,36)"
            },
            "error_y": {
             "color": "rgb(36,36,36)"
            },
            "marker": {
             "line": {
              "color": "white",
              "width": 0.5
             },
             "pattern": {
              "fillmode": "overlay",
              "size": 10,
              "solidity": 0.2
             }
            },
            "type": "bar"
           }
          ],
          "barpolar": [
           {
            "marker": {
             "line": {
              "color": "white",
              "width": 0.5
             },
             "pattern": {
              "fillmode": "overlay",
              "size": 10,
              "solidity": 0.2
             }
            },
            "type": "barpolar"
           }
          ],
          "carpet": [
           {
            "aaxis": {
             "endlinecolor": "rgb(36,36,36)",
             "gridcolor": "white",
             "linecolor": "white",
             "minorgridcolor": "white",
             "startlinecolor": "rgb(36,36,36)"
            },
            "baxis": {
             "endlinecolor": "rgb(36,36,36)",
             "gridcolor": "white",
             "linecolor": "white",
             "minorgridcolor": "white",
             "startlinecolor": "rgb(36,36,36)"
            },
            "type": "carpet"
           }
          ],
          "choropleth": [
           {
            "colorbar": {
             "outlinewidth": 1,
             "tickcolor": "rgb(36,36,36)",
             "ticks": "outside"
            },
            "type": "choropleth"
           }
          ],
          "contour": [
           {
            "colorbar": {
             "outlinewidth": 1,
             "tickcolor": "rgb(36,36,36)",
             "ticks": "outside"
            },
            "colorscale": [
             [
              0,
              "#440154"
             ],
             [
              0.1111111111111111,
              "#482878"
             ],
             [
              0.2222222222222222,
              "#3e4989"
             ],
             [
              0.3333333333333333,
              "#31688e"
             ],
             [
              0.4444444444444444,
              "#26828e"
             ],
             [
              0.5555555555555556,
              "#1f9e89"
             ],
             [
              0.6666666666666666,
              "#35b779"
             ],
             [
              0.7777777777777778,
              "#6ece58"
             ],
             [
              0.8888888888888888,
              "#b5de2b"
             ],
             [
              1,
              "#fde725"
             ]
            ],
            "type": "contour"
           }
          ],
          "contourcarpet": [
           {
            "colorbar": {
             "outlinewidth": 1,
             "tickcolor": "rgb(36,36,36)",
             "ticks": "outside"
            },
            "type": "contourcarpet"
           }
          ],
          "heatmap": [
           {
            "colorbar": {
             "outlinewidth": 1,
             "tickcolor": "rgb(36,36,36)",
             "ticks": "outside"
            },
            "colorscale": [
             [
              0,
              "#440154"
             ],
             [
              0.1111111111111111,
              "#482878"
             ],
             [
              0.2222222222222222,
              "#3e4989"
             ],
             [
              0.3333333333333333,
              "#31688e"
             ],
             [
              0.4444444444444444,
              "#26828e"
             ],
             [
              0.5555555555555556,
              "#1f9e89"
             ],
             [
              0.6666666666666666,
              "#35b779"
             ],
             [
              0.7777777777777778,
              "#6ece58"
             ],
             [
              0.8888888888888888,
              "#b5de2b"
             ],
             [
              1,
              "#fde725"
             ]
            ],
            "type": "heatmap"
           }
          ],
          "heatmapgl": [
           {
            "colorbar": {
             "outlinewidth": 1,
             "tickcolor": "rgb(36,36,36)",
             "ticks": "outside"
            },
            "colorscale": [
             [
              0,
              "#440154"
             ],
             [
              0.1111111111111111,
              "#482878"
             ],
             [
              0.2222222222222222,
              "#3e4989"
             ],
             [
              0.3333333333333333,
              "#31688e"
             ],
             [
              0.4444444444444444,
              "#26828e"
             ],
             [
              0.5555555555555556,
              "#1f9e89"
             ],
             [
              0.6666666666666666,
              "#35b779"
             ],
             [
              0.7777777777777778,
              "#6ece58"
             ],
             [
              0.8888888888888888,
              "#b5de2b"
             ],
             [
              1,
              "#fde725"
             ]
            ],
            "type": "heatmapgl"
           }
          ],
          "histogram": [
           {
            "marker": {
             "line": {
              "color": "white",
              "width": 0.6
             }
            },
            "type": "histogram"
           }
          ],
          "histogram2d": [
           {
            "colorbar": {
             "outlinewidth": 1,
             "tickcolor": "rgb(36,36,36)",
             "ticks": "outside"
            },
            "colorscale": [
             [
              0,
              "#440154"
             ],
             [
              0.1111111111111111,
              "#482878"
             ],
             [
              0.2222222222222222,
              "#3e4989"
             ],
             [
              0.3333333333333333,
              "#31688e"
             ],
             [
              0.4444444444444444,
              "#26828e"
             ],
             [
              0.5555555555555556,
              "#1f9e89"
             ],
             [
              0.6666666666666666,
              "#35b779"
             ],
             [
              0.7777777777777778,
              "#6ece58"
             ],
             [
              0.8888888888888888,
              "#b5de2b"
             ],
             [
              1,
              "#fde725"
             ]
            ],
            "type": "histogram2d"
           }
          ],
          "histogram2dcontour": [
           {
            "colorbar": {
             "outlinewidth": 1,
             "tickcolor": "rgb(36,36,36)",
             "ticks": "outside"
            },
            "colorscale": [
             [
              0,
              "#440154"
             ],
             [
              0.1111111111111111,
              "#482878"
             ],
             [
              0.2222222222222222,
              "#3e4989"
             ],
             [
              0.3333333333333333,
              "#31688e"
             ],
             [
              0.4444444444444444,
              "#26828e"
             ],
             [
              0.5555555555555556,
              "#1f9e89"
             ],
             [
              0.6666666666666666,
              "#35b779"
             ],
             [
              0.7777777777777778,
              "#6ece58"
             ],
             [
              0.8888888888888888,
              "#b5de2b"
             ],
             [
              1,
              "#fde725"
             ]
            ],
            "type": "histogram2dcontour"
           }
          ],
          "mesh3d": [
           {
            "colorbar": {
             "outlinewidth": 1,
             "tickcolor": "rgb(36,36,36)",
             "ticks": "outside"
            },
            "type": "mesh3d"
           }
          ],
          "parcoords": [
           {
            "line": {
             "colorbar": {
              "outlinewidth": 1,
              "tickcolor": "rgb(36,36,36)",
              "ticks": "outside"
             }
            },
            "type": "parcoords"
           }
          ],
          "pie": [
           {
            "automargin": true,
            "type": "pie"
           }
          ],
          "scatter": [
           {
            "fillpattern": {
             "fillmode": "overlay",
             "size": 10,
             "solidity": 0.2
            },
            "type": "scatter"
           }
          ],
          "scatter3d": [
           {
            "line": {
             "colorbar": {
              "outlinewidth": 1,
              "tickcolor": "rgb(36,36,36)",
              "ticks": "outside"
             }
            },
            "marker": {
             "colorbar": {
              "outlinewidth": 1,
              "tickcolor": "rgb(36,36,36)",
              "ticks": "outside"
             }
            },
            "type": "scatter3d"
           }
          ],
          "scattercarpet": [
           {
            "marker": {
             "colorbar": {
              "outlinewidth": 1,
              "tickcolor": "rgb(36,36,36)",
              "ticks": "outside"
             }
            },
            "type": "scattercarpet"
           }
          ],
          "scattergeo": [
           {
            "marker": {
             "colorbar": {
              "outlinewidth": 1,
              "tickcolor": "rgb(36,36,36)",
              "ticks": "outside"
             }
            },
            "type": "scattergeo"
           }
          ],
          "scattergl": [
           {
            "marker": {
             "colorbar": {
              "outlinewidth": 1,
              "tickcolor": "rgb(36,36,36)",
              "ticks": "outside"
             }
            },
            "type": "scattergl"
           }
          ],
          "scattermapbox": [
           {
            "marker": {
             "colorbar": {
              "outlinewidth": 1,
              "tickcolor": "rgb(36,36,36)",
              "ticks": "outside"
             }
            },
            "type": "scattermapbox"
           }
          ],
          "scatterpolar": [
           {
            "marker": {
             "colorbar": {
              "outlinewidth": 1,
              "tickcolor": "rgb(36,36,36)",
              "ticks": "outside"
             }
            },
            "type": "scatterpolar"
           }
          ],
          "scatterpolargl": [
           {
            "marker": {
             "colorbar": {
              "outlinewidth": 1,
              "tickcolor": "rgb(36,36,36)",
              "ticks": "outside"
             }
            },
            "type": "scatterpolargl"
           }
          ],
          "scatterternary": [
           {
            "marker": {
             "colorbar": {
              "outlinewidth": 1,
              "tickcolor": "rgb(36,36,36)",
              "ticks": "outside"
             }
            },
            "type": "scatterternary"
           }
          ],
          "surface": [
           {
            "colorbar": {
             "outlinewidth": 1,
             "tickcolor": "rgb(36,36,36)",
             "ticks": "outside"
            },
            "colorscale": [
             [
              0,
              "#440154"
             ],
             [
              0.1111111111111111,
              "#482878"
             ],
             [
              0.2222222222222222,
              "#3e4989"
             ],
             [
              0.3333333333333333,
              "#31688e"
             ],
             [
              0.4444444444444444,
              "#26828e"
             ],
             [
              0.5555555555555556,
              "#1f9e89"
             ],
             [
              0.6666666666666666,
              "#35b779"
             ],
             [
              0.7777777777777778,
              "#6ece58"
             ],
             [
              0.8888888888888888,
              "#b5de2b"
             ],
             [
              1,
              "#fde725"
             ]
            ],
            "type": "surface"
           }
          ],
          "table": [
           {
            "cells": {
             "fill": {
              "color": "rgb(237,237,237)"
             },
             "line": {
              "color": "white"
             }
            },
            "header": {
             "fill": {
              "color": "rgb(217,217,217)"
             },
             "line": {
              "color": "white"
             }
            },
            "type": "table"
           }
          ]
         },
         "layout": {
          "annotationdefaults": {
           "arrowhead": 0,
           "arrowwidth": 1
          },
          "autotypenumbers": "strict",
          "coloraxis": {
           "colorbar": {
            "outlinewidth": 1,
            "tickcolor": "rgb(36,36,36)",
            "ticks": "outside"
           }
          },
          "colorscale": {
           "diverging": [
            [
             0,
             "rgb(103,0,31)"
            ],
            [
             0.1,
             "rgb(178,24,43)"
            ],
            [
             0.2,
             "rgb(214,96,77)"
            ],
            [
             0.3,
             "rgb(244,165,130)"
            ],
            [
             0.4,
             "rgb(253,219,199)"
            ],
            [
             0.5,
             "rgb(247,247,247)"
            ],
            [
             0.6,
             "rgb(209,229,240)"
            ],
            [
             0.7,
             "rgb(146,197,222)"
            ],
            [
             0.8,
             "rgb(67,147,195)"
            ],
            [
             0.9,
             "rgb(33,102,172)"
            ],
            [
             1,
             "rgb(5,48,97)"
            ]
           ],
           "sequential": [
            [
             0,
             "#440154"
            ],
            [
             0.1111111111111111,
             "#482878"
            ],
            [
             0.2222222222222222,
             "#3e4989"
            ],
            [
             0.3333333333333333,
             "#31688e"
            ],
            [
             0.4444444444444444,
             "#26828e"
            ],
            [
             0.5555555555555556,
             "#1f9e89"
            ],
            [
             0.6666666666666666,
             "#35b779"
            ],
            [
             0.7777777777777778,
             "#6ece58"
            ],
            [
             0.8888888888888888,
             "#b5de2b"
            ],
            [
             1,
             "#fde725"
            ]
           ],
           "sequentialminus": [
            [
             0,
             "#440154"
            ],
            [
             0.1111111111111111,
             "#482878"
            ],
            [
             0.2222222222222222,
             "#3e4989"
            ],
            [
             0.3333333333333333,
             "#31688e"
            ],
            [
             0.4444444444444444,
             "#26828e"
            ],
            [
             0.5555555555555556,
             "#1f9e89"
            ],
            [
             0.6666666666666666,
             "#35b779"
            ],
            [
             0.7777777777777778,
             "#6ece58"
            ],
            [
             0.8888888888888888,
             "#b5de2b"
            ],
            [
             1,
             "#fde725"
            ]
           ]
          },
          "colorway": [
           "#1F77B4",
           "#FF7F0E",
           "#2CA02C",
           "#D62728",
           "#9467BD",
           "#8C564B",
           "#E377C2",
           "#7F7F7F",
           "#BCBD22",
           "#17BECF"
          ],
          "font": {
           "color": "rgb(36,36,36)"
          },
          "geo": {
           "bgcolor": "white",
           "lakecolor": "white",
           "landcolor": "white",
           "showlakes": true,
           "showland": true,
           "subunitcolor": "white"
          },
          "hoverlabel": {
           "align": "left"
          },
          "hovermode": "closest",
          "mapbox": {
           "style": "light"
          },
          "paper_bgcolor": "white",
          "plot_bgcolor": "white",
          "polar": {
           "angularaxis": {
            "gridcolor": "rgb(232,232,232)",
            "linecolor": "rgb(36,36,36)",
            "showgrid": false,
            "showline": true,
            "ticks": "outside"
           },
           "bgcolor": "white",
           "radialaxis": {
            "gridcolor": "rgb(232,232,232)",
            "linecolor": "rgb(36,36,36)",
            "showgrid": false,
            "showline": true,
            "ticks": "outside"
           }
          },
          "scene": {
           "xaxis": {
            "backgroundcolor": "white",
            "gridcolor": "rgb(232,232,232)",
            "gridwidth": 2,
            "linecolor": "rgb(36,36,36)",
            "showbackground": true,
            "showgrid": false,
            "showline": true,
            "ticks": "outside",
            "zeroline": false,
            "zerolinecolor": "rgb(36,36,36)"
           },
           "yaxis": {
            "backgroundcolor": "white",
            "gridcolor": "rgb(232,232,232)",
            "gridwidth": 2,
            "linecolor": "rgb(36,36,36)",
            "showbackground": true,
            "showgrid": false,
            "showline": true,
            "ticks": "outside",
            "zeroline": false,
            "zerolinecolor": "rgb(36,36,36)"
           },
           "zaxis": {
            "backgroundcolor": "white",
            "gridcolor": "rgb(232,232,232)",
            "gridwidth": 2,
            "linecolor": "rgb(36,36,36)",
            "showbackground": true,
            "showgrid": false,
            "showline": true,
            "ticks": "outside",
            "zeroline": false,
            "zerolinecolor": "rgb(36,36,36)"
           }
          },
          "shapedefaults": {
           "fillcolor": "black",
           "line": {
            "width": 0
           },
           "opacity": 0.3
          },
          "ternary": {
           "aaxis": {
            "gridcolor": "rgb(232,232,232)",
            "linecolor": "rgb(36,36,36)",
            "showgrid": false,
            "showline": true,
            "ticks": "outside"
           },
           "baxis": {
            "gridcolor": "rgb(232,232,232)",
            "linecolor": "rgb(36,36,36)",
            "showgrid": false,
            "showline": true,
            "ticks": "outside"
           },
           "bgcolor": "white",
           "caxis": {
            "gridcolor": "rgb(232,232,232)",
            "linecolor": "rgb(36,36,36)",
            "showgrid": false,
            "showline": true,
            "ticks": "outside"
           }
          },
          "title": {
           "x": 0.05
          },
          "xaxis": {
           "automargin": true,
           "gridcolor": "rgb(232,232,232)",
           "linecolor": "rgb(36,36,36)",
           "showgrid": false,
           "showline": true,
           "ticks": "outside",
           "title": {
            "standoff": 15
           },
           "zeroline": false,
           "zerolinecolor": "rgb(36,36,36)"
          },
          "yaxis": {
           "automargin": true,
           "gridcolor": "rgb(232,232,232)",
           "linecolor": "rgb(36,36,36)",
           "showgrid": false,
           "showline": true,
           "ticks": "outside",
           "title": {
            "standoff": 15
           },
           "zeroline": false,
           "zerolinecolor": "rgb(36,36,36)"
          }
         }
        },
        "title": {
         "text": "train 1 (base)"
        },
        "xaxis": {
         "title": {
          "text": "Time [min]"
         }
        },
        "yaxis": {
         "tickmode": "array",
         "ticktext": [
          "stationB",
          "SB",
          "stationA"
         ],
         "tickvals": [
          0,
          20,
          9080
         ]
        }
       }
      },
      "text/html": [
       "<div>                            <div id=\"11b3f308-ebc8-44b3-be67-55471d978895\" class=\"plotly-graph-div\" style=\"height:525px; width:100%;\"></div>            <script type=\"text/javascript\">                require([\"plotly\"], function(Plotly) {                    window.PLOTLYENV=window.PLOTLYENV || {};                                    if (document.getElementById(\"11b3f308-ebc8-44b3-be67-55471d978895\")) {                    Plotly.newPlot(                        \"11b3f308-ebc8-44b3-be67-55471d978895\",                        [{\"name\":\"train0\",\"x\":[0.0,0.13333333333333333,0.2,0.3,0.36666666666666664,0.4666666666666667,0.5333333333333333,0.6333333333333333,0.8,0.9666666666666667,1.1333333333333333,1.3,1.4666666666666666,1.6333333333333333,1.8,1.9666666666666666,2.1,2.2666666666666666,2.433333333333333,2.618026614930319,2.7513599482636524,2.8846932815969857,3.018026614930319,3.0846932815969854,3.1846932815969855,3.2846932815969856,3.3846932815969857,3.451359948263652,3.551359948263652,3.6513599482636523,3.7513599482636524,3.8846932815969857,4.018026614930319,4.151359948263652,4.284693281596986,6.351359948263652,6.484693281596986,6.618026614930319,6.718026614930319,6.818026614930319,6.9180266149303185,7.051359948263652,7.151359948263652,7.251359948263652,7.450958628706643,7.550958628706643,7.650958628706643,7.784291962039976,7.91762529537331,8.050958628706644,8.184291962039977,8.300958628706644],\"y\":[9080.0,9065.262435868131,9046.873038876563,9005.590048084961,8968.985794002796,8900.56788559523,8846.037023152156,8751.082274315098,8559.191477624867,8329.588032436195,8064.950639225961,7765.771603251251,7432.44139353171,7065.481966808862,6665.706520900412,6234.285288921121,5867.436009245329,5383.265948497157,4872.576097544516,4284.0,3884.0,3516.0,3180.0,3024.0,2805.0,2604.0,2421.0,2309.0,2156.0,2021.0,1904.0,1776.0,1680.0,1616.0,1584.0,1580.0,1565.2624358681314,1521.171975261972,1468.985794002796,1400.567885595231,1316.1232849385196,1179.2364169827015,1059.1914776248686,925.6701134638715,625.0,484.0,361.0,225.0,121.0,49.0,9.0,0.0],\"type\":\"scatter\"},{\"name\":\"train1\",\"x\":[7.0,7.133333333333334,7.2,7.3,7.433333333333334,7.5,7.6,7.666666666666667,7.766666666666667,7.933333333333334,8.1,8.266666666666667,8.366666666666667,8.466666666666667,8.566666666666666,8.666666666666666,8.766666666666667,8.866666666666667,8.966666666666667,9.066666666666666,9.266666666666667,9.366666666666667,9.5,9.7,9.987056220891839,10.053722887558505,10.153722887558505,10.253722887558505,10.353722887558506,10.453722887558506,10.587056220891839,10.720389554225171,10.787056220891838,10.88705622089184,10.953722887558506,11.053722887558505,11.120389554225172,11.220389554225171,11.353722887558506,11.420389554225173,11.520389554225172,11.587056220891839,11.687056220891838,11.837056220891839],\"y\":[0.0,14.737564131868567,33.12696112343656,74.40995191503862,154.83436374260418,205.8111505355173,295.53552366585427,364.0010855583896,479.21559488860294,701.6683698059933,959.3464399779696,1251.6467632837812,1443.4884079588173,1647.5586064682902,1863.739484722666,2091.881495055357,2331.764211636004,2583.146403823782,2845.714711078879,3119.097283196854,3696.7340515028427,4000.0966608720946,4418.668343729119,5074.620000705183,6055.0,6271.0,6580.0,6871.0,7144.0,7399.0,7711.0,7991.0,8119.0,8296.0,8404.0,8551.0,8639.0,8756.0,8884.0,8936.0,8999.0,9031.0,9064.0,9080.0],\"type\":\"scatter\"}],                        {\"hovermode\":\"x unified\",\"template\":{\"data\":{\"barpolar\":[{\"marker\":{\"line\":{\"color\":\"white\",\"width\":0.5},\"pattern\":{\"fillmode\":\"overlay\",\"size\":10,\"solidity\":0.2}},\"type\":\"barpolar\"}],\"bar\":[{\"error_x\":{\"color\":\"rgb(36,36,36)\"},\"error_y\":{\"color\":\"rgb(36,36,36)\"},\"marker\":{\"line\":{\"color\":\"white\",\"width\":0.5},\"pattern\":{\"fillmode\":\"overlay\",\"size\":10,\"solidity\":0.2}},\"type\":\"bar\"}],\"carpet\":[{\"aaxis\":{\"endlinecolor\":\"rgb(36,36,36)\",\"gridcolor\":\"white\",\"linecolor\":\"white\",\"minorgridcolor\":\"white\",\"startlinecolor\":\"rgb(36,36,36)\"},\"baxis\":{\"endlinecolor\":\"rgb(36,36,36)\",\"gridcolor\":\"white\",\"linecolor\":\"white\",\"minorgridcolor\":\"white\",\"startlinecolor\":\"rgb(36,36,36)\"},\"type\":\"carpet\"}],\"choropleth\":[{\"colorbar\":{\"outlinewidth\":1,\"tickcolor\":\"rgb(36,36,36)\",\"ticks\":\"outside\"},\"type\":\"choropleth\"}],\"contourcarpet\":[{\"colorbar\":{\"outlinewidth\":1,\"tickcolor\":\"rgb(36,36,36)\",\"ticks\":\"outside\"},\"type\":\"contourcarpet\"}],\"contour\":[{\"colorbar\":{\"outlinewidth\":1,\"tickcolor\":\"rgb(36,36,36)\",\"ticks\":\"outside\"},\"colorscale\":[[0.0,\"#440154\"],[0.1111111111111111,\"#482878\"],[0.2222222222222222,\"#3e4989\"],[0.3333333333333333,\"#31688e\"],[0.4444444444444444,\"#26828e\"],[0.5555555555555556,\"#1f9e89\"],[0.6666666666666666,\"#35b779\"],[0.7777777777777778,\"#6ece58\"],[0.8888888888888888,\"#b5de2b\"],[1.0,\"#fde725\"]],\"type\":\"contour\"}],\"heatmapgl\":[{\"colorbar\":{\"outlinewidth\":1,\"tickcolor\":\"rgb(36,36,36)\",\"ticks\":\"outside\"},\"colorscale\":[[0.0,\"#440154\"],[0.1111111111111111,\"#482878\"],[0.2222222222222222,\"#3e4989\"],[0.3333333333333333,\"#31688e\"],[0.4444444444444444,\"#26828e\"],[0.5555555555555556,\"#1f9e89\"],[0.6666666666666666,\"#35b779\"],[0.7777777777777778,\"#6ece58\"],[0.8888888888888888,\"#b5de2b\"],[1.0,\"#fde725\"]],\"type\":\"heatmapgl\"}],\"heatmap\":[{\"colorbar\":{\"outlinewidth\":1,\"tickcolor\":\"rgb(36,36,36)\",\"ticks\":\"outside\"},\"colorscale\":[[0.0,\"#440154\"],[0.1111111111111111,\"#482878\"],[0.2222222222222222,\"#3e4989\"],[0.3333333333333333,\"#31688e\"],[0.4444444444444444,\"#26828e\"],[0.5555555555555556,\"#1f9e89\"],[0.6666666666666666,\"#35b779\"],[0.7777777777777778,\"#6ece58\"],[0.8888888888888888,\"#b5de2b\"],[1.0,\"#fde725\"]],\"type\":\"heatmap\"}],\"histogram2dcontour\":[{\"colorbar\":{\"outlinewidth\":1,\"tickcolor\":\"rgb(36,36,36)\",\"ticks\":\"outside\"},\"colorscale\":[[0.0,\"#440154\"],[0.1111111111111111,\"#482878\"],[0.2222222222222222,\"#3e4989\"],[0.3333333333333333,\"#31688e\"],[0.4444444444444444,\"#26828e\"],[0.5555555555555556,\"#1f9e89\"],[0.6666666666666666,\"#35b779\"],[0.7777777777777778,\"#6ece58\"],[0.8888888888888888,\"#b5de2b\"],[1.0,\"#fde725\"]],\"type\":\"histogram2dcontour\"}],\"histogram2d\":[{\"colorbar\":{\"outlinewidth\":1,\"tickcolor\":\"rgb(36,36,36)\",\"ticks\":\"outside\"},\"colorscale\":[[0.0,\"#440154\"],[0.1111111111111111,\"#482878\"],[0.2222222222222222,\"#3e4989\"],[0.3333333333333333,\"#31688e\"],[0.4444444444444444,\"#26828e\"],[0.5555555555555556,\"#1f9e89\"],[0.6666666666666666,\"#35b779\"],[0.7777777777777778,\"#6ece58\"],[0.8888888888888888,\"#b5de2b\"],[1.0,\"#fde725\"]],\"type\":\"histogram2d\"}],\"histogram\":[{\"marker\":{\"line\":{\"color\":\"white\",\"width\":0.6}},\"type\":\"histogram\"}],\"mesh3d\":[{\"colorbar\":{\"outlinewidth\":1,\"tickcolor\":\"rgb(36,36,36)\",\"ticks\":\"outside\"},\"type\":\"mesh3d\"}],\"parcoords\":[{\"line\":{\"colorbar\":{\"outlinewidth\":1,\"tickcolor\":\"rgb(36,36,36)\",\"ticks\":\"outside\"}},\"type\":\"parcoords\"}],\"pie\":[{\"automargin\":true,\"type\":\"pie\"}],\"scatter3d\":[{\"line\":{\"colorbar\":{\"outlinewidth\":1,\"tickcolor\":\"rgb(36,36,36)\",\"ticks\":\"outside\"}},\"marker\":{\"colorbar\":{\"outlinewidth\":1,\"tickcolor\":\"rgb(36,36,36)\",\"ticks\":\"outside\"}},\"type\":\"scatter3d\"}],\"scattercarpet\":[{\"marker\":{\"colorbar\":{\"outlinewidth\":1,\"tickcolor\":\"rgb(36,36,36)\",\"ticks\":\"outside\"}},\"type\":\"scattercarpet\"}],\"scattergeo\":[{\"marker\":{\"colorbar\":{\"outlinewidth\":1,\"tickcolor\":\"rgb(36,36,36)\",\"ticks\":\"outside\"}},\"type\":\"scattergeo\"}],\"scattergl\":[{\"marker\":{\"colorbar\":{\"outlinewidth\":1,\"tickcolor\":\"rgb(36,36,36)\",\"ticks\":\"outside\"}},\"type\":\"scattergl\"}],\"scattermapbox\":[{\"marker\":{\"colorbar\":{\"outlinewidth\":1,\"tickcolor\":\"rgb(36,36,36)\",\"ticks\":\"outside\"}},\"type\":\"scattermapbox\"}],\"scatterpolargl\":[{\"marker\":{\"colorbar\":{\"outlinewidth\":1,\"tickcolor\":\"rgb(36,36,36)\",\"ticks\":\"outside\"}},\"type\":\"scatterpolargl\"}],\"scatterpolar\":[{\"marker\":{\"colorbar\":{\"outlinewidth\":1,\"tickcolor\":\"rgb(36,36,36)\",\"ticks\":\"outside\"}},\"type\":\"scatterpolar\"}],\"scatter\":[{\"fillpattern\":{\"fillmode\":\"overlay\",\"size\":10,\"solidity\":0.2},\"type\":\"scatter\"}],\"scatterternary\":[{\"marker\":{\"colorbar\":{\"outlinewidth\":1,\"tickcolor\":\"rgb(36,36,36)\",\"ticks\":\"outside\"}},\"type\":\"scatterternary\"}],\"surface\":[{\"colorbar\":{\"outlinewidth\":1,\"tickcolor\":\"rgb(36,36,36)\",\"ticks\":\"outside\"},\"colorscale\":[[0.0,\"#440154\"],[0.1111111111111111,\"#482878\"],[0.2222222222222222,\"#3e4989\"],[0.3333333333333333,\"#31688e\"],[0.4444444444444444,\"#26828e\"],[0.5555555555555556,\"#1f9e89\"],[0.6666666666666666,\"#35b779\"],[0.7777777777777778,\"#6ece58\"],[0.8888888888888888,\"#b5de2b\"],[1.0,\"#fde725\"]],\"type\":\"surface\"}],\"table\":[{\"cells\":{\"fill\":{\"color\":\"rgb(237,237,237)\"},\"line\":{\"color\":\"white\"}},\"header\":{\"fill\":{\"color\":\"rgb(217,217,217)\"},\"line\":{\"color\":\"white\"}},\"type\":\"table\"}]},\"layout\":{\"annotationdefaults\":{\"arrowhead\":0,\"arrowwidth\":1},\"autotypenumbers\":\"strict\",\"coloraxis\":{\"colorbar\":{\"outlinewidth\":1,\"tickcolor\":\"rgb(36,36,36)\",\"ticks\":\"outside\"}},\"colorscale\":{\"diverging\":[[0.0,\"rgb(103,0,31)\"],[0.1,\"rgb(178,24,43)\"],[0.2,\"rgb(214,96,77)\"],[0.3,\"rgb(244,165,130)\"],[0.4,\"rgb(253,219,199)\"],[0.5,\"rgb(247,247,247)\"],[0.6,\"rgb(209,229,240)\"],[0.7,\"rgb(146,197,222)\"],[0.8,\"rgb(67,147,195)\"],[0.9,\"rgb(33,102,172)\"],[1.0,\"rgb(5,48,97)\"]],\"sequential\":[[0.0,\"#440154\"],[0.1111111111111111,\"#482878\"],[0.2222222222222222,\"#3e4989\"],[0.3333333333333333,\"#31688e\"],[0.4444444444444444,\"#26828e\"],[0.5555555555555556,\"#1f9e89\"],[0.6666666666666666,\"#35b779\"],[0.7777777777777778,\"#6ece58\"],[0.8888888888888888,\"#b5de2b\"],[1.0,\"#fde725\"]],\"sequentialminus\":[[0.0,\"#440154\"],[0.1111111111111111,\"#482878\"],[0.2222222222222222,\"#3e4989\"],[0.3333333333333333,\"#31688e\"],[0.4444444444444444,\"#26828e\"],[0.5555555555555556,\"#1f9e89\"],[0.6666666666666666,\"#35b779\"],[0.7777777777777778,\"#6ece58\"],[0.8888888888888888,\"#b5de2b\"],[1.0,\"#fde725\"]]},\"colorway\":[\"#1F77B4\",\"#FF7F0E\",\"#2CA02C\",\"#D62728\",\"#9467BD\",\"#8C564B\",\"#E377C2\",\"#7F7F7F\",\"#BCBD22\",\"#17BECF\"],\"font\":{\"color\":\"rgb(36,36,36)\"},\"geo\":{\"bgcolor\":\"white\",\"lakecolor\":\"white\",\"landcolor\":\"white\",\"showlakes\":true,\"showland\":true,\"subunitcolor\":\"white\"},\"hoverlabel\":{\"align\":\"left\"},\"hovermode\":\"closest\",\"mapbox\":{\"style\":\"light\"},\"paper_bgcolor\":\"white\",\"plot_bgcolor\":\"white\",\"polar\":{\"angularaxis\":{\"gridcolor\":\"rgb(232,232,232)\",\"linecolor\":\"rgb(36,36,36)\",\"showgrid\":false,\"showline\":true,\"ticks\":\"outside\"},\"bgcolor\":\"white\",\"radialaxis\":{\"gridcolor\":\"rgb(232,232,232)\",\"linecolor\":\"rgb(36,36,36)\",\"showgrid\":false,\"showline\":true,\"ticks\":\"outside\"}},\"scene\":{\"xaxis\":{\"backgroundcolor\":\"white\",\"gridcolor\":\"rgb(232,232,232)\",\"gridwidth\":2,\"linecolor\":\"rgb(36,36,36)\",\"showbackground\":true,\"showgrid\":false,\"showline\":true,\"ticks\":\"outside\",\"zeroline\":false,\"zerolinecolor\":\"rgb(36,36,36)\"},\"yaxis\":{\"backgroundcolor\":\"white\",\"gridcolor\":\"rgb(232,232,232)\",\"gridwidth\":2,\"linecolor\":\"rgb(36,36,36)\",\"showbackground\":true,\"showgrid\":false,\"showline\":true,\"ticks\":\"outside\",\"zeroline\":false,\"zerolinecolor\":\"rgb(36,36,36)\"},\"zaxis\":{\"backgroundcolor\":\"white\",\"gridcolor\":\"rgb(232,232,232)\",\"gridwidth\":2,\"linecolor\":\"rgb(36,36,36)\",\"showbackground\":true,\"showgrid\":false,\"showline\":true,\"ticks\":\"outside\",\"zeroline\":false,\"zerolinecolor\":\"rgb(36,36,36)\"}},\"shapedefaults\":{\"fillcolor\":\"black\",\"line\":{\"width\":0},\"opacity\":0.3},\"ternary\":{\"aaxis\":{\"gridcolor\":\"rgb(232,232,232)\",\"linecolor\":\"rgb(36,36,36)\",\"showgrid\":false,\"showline\":true,\"ticks\":\"outside\"},\"baxis\":{\"gridcolor\":\"rgb(232,232,232)\",\"linecolor\":\"rgb(36,36,36)\",\"showgrid\":false,\"showline\":true,\"ticks\":\"outside\"},\"bgcolor\":\"white\",\"caxis\":{\"gridcolor\":\"rgb(232,232,232)\",\"linecolor\":\"rgb(36,36,36)\",\"showgrid\":false,\"showline\":true,\"ticks\":\"outside\"}},\"title\":{\"x\":0.05},\"xaxis\":{\"automargin\":true,\"gridcolor\":\"rgb(232,232,232)\",\"linecolor\":\"rgb(36,36,36)\",\"showgrid\":false,\"showline\":true,\"ticks\":\"outside\",\"title\":{\"standoff\":15},\"zeroline\":false,\"zerolinecolor\":\"rgb(36,36,36)\"},\"yaxis\":{\"automargin\":true,\"gridcolor\":\"rgb(232,232,232)\",\"linecolor\":\"rgb(36,36,36)\",\"showgrid\":false,\"showline\":true,\"ticks\":\"outside\",\"title\":{\"standoff\":15},\"zeroline\":false,\"zerolinecolor\":\"rgb(36,36,36)\"}}},\"title\":{\"text\":\"train 1 (base)\"},\"xaxis\":{\"title\":{\"text\":\"Time [min]\"}},\"shapes\":[{\"line\":{\"color\":\"black\",\"width\":0.5},\"type\":\"line\",\"x0\":0,\"x1\":1,\"xref\":\"x domain\",\"y0\":0.0,\"y1\":0.0,\"yref\":\"y\"},{\"line\":{\"color\":\"black\",\"width\":0.5},\"type\":\"line\",\"x0\":0,\"x1\":1,\"xref\":\"x domain\",\"y0\":20.0,\"y1\":20.0,\"yref\":\"y\"},{\"line\":{\"color\":\"black\",\"width\":0.5},\"type\":\"line\",\"x0\":0,\"x1\":1,\"xref\":\"x domain\",\"y0\":9080.0,\"y1\":9080.0,\"yref\":\"y\"}],\"yaxis\":{\"tickmode\":\"array\",\"tickvals\":[0.0,20.0,9080.0],\"ticktext\":[\"stationB\",\"SB\",\"stationA\"]}},                        {\"responsive\": true}                    ).then(function(){\n",
       "                            \n",
       "var gd = document.getElementById('11b3f308-ebc8-44b3-be67-55471d978895');\n",
       "var x = new MutationObserver(function (mutations, observer) {{\n",
       "        var display = window.getComputedStyle(gd).display;\n",
       "        if (!display || display === 'none') {{\n",
       "            console.log([gd, 'removed!']);\n",
       "            Plotly.purge(gd);\n",
       "            observer.disconnect();\n",
       "        }}\n",
       "}});\n",
       "\n",
       "// Listen for the removal of the full notebook cells\n",
       "var notebookContainer = gd.closest('#notebook-container');\n",
       "if (notebookContainer) {{\n",
       "    x.observe(notebookContainer, {childList: true});\n",
       "}}\n",
       "\n",
       "// Listen for the clearing of the current output cell\n",
       "var outputEl = gd.closest('.output');\n",
       "if (outputEl) {{\n",
       "    x.observe(outputEl, {childList: true});\n",
       "}}\n",
       "\n",
       "                        })                };                });            </script>        </div>"
      ]
     },
     "metadata": {},
     "output_type": "display_data"
    }
   ],
   "source": [
    "sim.space_time_chart_plotly(1, points_to_show=['signal','station'], eco_or_base='base')"
   ]
  },
  {
   "cell_type": "code",
   "execution_count": 91,
   "metadata": {},
   "outputs": [],
   "source": [
    "from rlway.schedule_from_osrd import schedule_from_osrd"
   ]
  },
  {
   "cell_type": "code",
   "execution_count": 92,
   "metadata": {},
   "outputs": [
    {
     "data": {
      "text/plain": [
       "<Axes: xlabel='Time', ylabel='Track sections'>"
      ]
     },
     "execution_count": 92,
     "metadata": {},
     "output_type": "execute_result"
    },
    {
     "data": {
      "image/png": "[encoded data removed]",
      "text/plain": [
       "<Figure size 640x480 with 1 Axes>"
      ]
     },
     "metadata": {},
     "output_type": "display_data"
    }
   ],
   "source": [
    "s = schedule_from_osrd(sim, eco_or_base='eco')\n",
    "s.plot()"
   ]
  },
  {
   "cell_type": "code",
   "execution_count": 93,
   "metadata": {},
   "outputs": [
    {
     "data": {
      "text/html": [
       "<img src=\"https://mermaid.ink/img/Z3JhcGggTFI7REItYnVmZmVyX3N0b3AuMS0tPkRBLURCO0RBLURCLS0+REItYnVmZmVyX3N0b3AuMTtEQS1EQi0tPkRBLWJ1ZmZlcl9zdG9wLjA7REEtYnVmZmVyX3N0b3AuMC0tPkRBLURC\"/>"
      ],
      "text/plain": [
       "<IPython.core.display.Image object>"
      ]
     },
     "execution_count": 93,
     "metadata": {},
     "output_type": "execute_result"
    }
   ],
   "source": [
    "s.draw_graph()"
   ]
  },
  {
   "cell_type": "code",
   "execution_count": 98,
   "metadata": {},
   "outputs": [
    {
     "data": {
      "text/plain": [
       "{'DA<->buffer_stop.0': 'DA<->buffer_stop.0',\n",
       " 'DA<->DB': 'DA<->DB',\n",
       " 'DB<->buffer_stop.1': 'DB<->buffer_stop.1'}"
      ]
     },
     "execution_count": 98,
     "metadata": {},
     "output_type": "execute_result"
    }
   ],
   "source": [
    "sim.tvd_blocks"
   ]
  },
  {
   "cell_type": "code",
   "execution_count": 95,
   "metadata": {},
   "outputs": [
    {
     "data": {
      "text/plain": [
       "[{'DA<->buffer_stop.0': None, 'DA<->DB': 'SA', 'DB<->buffer_stop.1': 'SA'},\n",
       " {'DB<->buffer_stop.1': None, 'DA<->DB': 'SB', 'DA<->buffer_stop.0': 'SB'}]"
      ]
     },
     "execution_count": 95,
     "metadata": {},
     "output_type": "execute_result"
    }
   ],
   "source": [
    "sim.entry_signals"
   ]
  },
  {
   "cell_type": "code",
   "execution_count": 96,
   "metadata": {},
   "outputs": [
    {
     "data": {
      "text/plain": [
       "{'rt.buffer_stop.0->DA': 500.0,\n",
       " 'rt.DA->buffer_stop.1': 9500.0,\n",
       " 'rt.DB->buffer_stop.0': 9500.0,\n",
       " 'rt.buffer_stop.1->DB': 500.0}"
      ]
     },
     "execution_count": 96,
     "metadata": {},
     "output_type": "execute_result"
    }
   ],
   "source": [
    "sim.route_lengths"
   ]
  },
  {
   "cell_type": "code",
   "execution_count": 97,
   "metadata": {},
   "outputs": [
    {
     "data": {
      "text/plain": [
       "[{'id': 'departure_train0',\n",
       "  'offset': 0.0,\n",
       "  'type': 'departure',\n",
       "  't_base': 0.0,\n",
       "  't_tail_base': 41.70430867666085,\n",
       "  't_eco': 0.0,\n",
       "  't_tail_eco': 44.031648996328045},\n",
       " {'id': 'stationA',\n",
       "  'offset': 0.0,\n",
       "  'type': 'station',\n",
       "  't_base': 0.0,\n",
       "  't_tail_base': 41.70430867666085,\n",
       "  't_eco': 0.0,\n",
       "  't_tail_eco': 44.031648996328045},\n",
       " {'id': 'SA',\n",
       "  'offset': 20.0,\n",
       "  'type': 'signal',\n",
       "  't_base': 9.144667412541061,\n",
       "  't_tail_base': 42.74656814636778,\n",
       "  't_eco': 9.654992456990582,\n",
       "  't_tail_eco': 45.13207253982913},\n",
       " {'id': 'DA',\n",
       "  'offset': 40.0,\n",
       "  'type': 'detector',\n",
       "  't_base': 12.998915836005082,\n",
       "  't_tail_base': 43.7888276160747,\n",
       "  't_eco': 13.724330113259978,\n",
       "  't_tail_eco': 46.232496083330226},\n",
       " {'id': 'DB',\n",
       "  'offset': 9040.0,\n",
       "  'type': 'detector',\n",
       "  't_base': 484.8575177223986,\n",
       "  't_tail_base': 498.0575177223986,\n",
       "  't_eco': 504.070668055113,\n",
       "  't_tail_eco': 517.8165384604949},\n",
       " {'id': 'stationB',\n",
       "  'offset': 9080.0,\n",
       "  'type': 'station',\n",
       "  't_base': 498.0575177223986,\n",
       "  't_tail_base': 498.0575177223986,\n",
       "  't_eco': 517.8165384604949,\n",
       "  't_tail_eco': 517.8165384604949},\n",
       " {'id': 'arrival_train0',\n",
       "  'offset': 9080.0,\n",
       "  'type': 'arrival',\n",
       "  't_base': 498.0575177223986,\n",
       "  't_tail_base': 498.0575177223986,\n",
       "  't_eco': 517.8165384604949,\n",
       "  't_tail_eco': 517.8165384604949}]"
      ]
     },
     "execution_count": 97,
     "metadata": {},
     "output_type": "execute_result"
    }
   ],
   "source": [
    "sim.points_encountered_by_train(0)"
   ]
  },
  {
   "cell_type": "code",
   "execution_count": null,
   "metadata": {},
   "outputs": [],
   "source": []
  }
 ],
 "metadata": {
  "kernelspec": {
   "display_name": "venv",
   "language": "python",
   "name": "python3"
  },
  "language_info": {
   "codemirror_mode": {
    "name": "ipython",
    "version": 3
   },
   "file_extension": ".py",
   "mimetype": "text/x-python",
   "name": "python",
   "nbconvert_exporter": "python",
   "pygments_lexer": "ipython3",
   "version": "3.10.12"
  },
  "orig_nbformat": 4
 },
 "nbformat": 4,
 "nbformat_minor": 2
}
