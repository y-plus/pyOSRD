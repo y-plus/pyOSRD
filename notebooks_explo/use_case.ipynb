{
 "cells": [
  {
   "cell_type": "code",
   "execution_count": 1,
   "metadata": {},
   "outputs": [],
   "source": [
    "%load_ext autoreload\n",
    "%autoreload 2"
   ]
  },
  {
   "cell_type": "code",
   "execution_count": 2,
   "metadata": {},
   "outputs": [],
   "source": [
    "from rlway.pyosrd import OSRD"
   ]
  },
  {
   "cell_type": "code",
   "execution_count": 3,
   "metadata": {},
   "outputs": [
    {
     "data": {
      "text/plain": [
       "['cvg_dvg', 'cvg_dvg_no_link', 'divergence', 'station_capacity2']"
      ]
     },
     "execution_count": 3,
     "metadata": {},
     "output_type": "execute_result"
    }
   ],
   "source": [
    "OSRD.use_cases"
   ]
  },
  {
   "cell_type": "code",
   "execution_count": 10,
   "metadata": {},
   "outputs": [
    {
     "ename": "AttributeError",
     "evalue": "'Infra' object has no attribute 'train_schedule_groups'",
     "output_type": "error",
     "traceback": [
      "\u001b[0;31m---------------------------------------------------------------------------\u001b[0m",
      "\u001b[0;31mAttributeError\u001b[0m                            Traceback (most recent call last)",
      "Cell \u001b[0;32mIn[10], line 1\u001b[0m\n\u001b[0;32m----> 1\u001b[0m sim \u001b[39m=\u001b[39m OSRD(use_case\u001b[39m=\u001b[39;49m\u001b[39m'\u001b[39;49m\u001b[39mcvg_dvg\u001b[39;49m\u001b[39m'\u001b[39;49m, \u001b[39mdir\u001b[39;49m\u001b[39m=\u001b[39;49m\u001b[39m'\u001b[39;49m\u001b[39mcvg_dvg\u001b[39;49m\u001b[39m'\u001b[39;49m)\n",
      "File \u001b[0;32m<string>:8\u001b[0m, in \u001b[0;36m__init__\u001b[0;34m(self, dir, use_case, infra_json, simulation_json, results_json)\u001b[0m\n",
      "File \u001b[0;32m~/regul/src/rlway/pyosrd/osrd.py:74\u001b[0m, in \u001b[0;36mOSRD.__post_init__\u001b[0;34m(self)\u001b[0m\n\u001b[1;32m     69\u001b[0m     module \u001b[39m=\u001b[39m importlib\u001b[39m.\u001b[39mimport_module(\n\u001b[1;32m     70\u001b[0m         \u001b[39mf\u001b[39m\u001b[39m\"\u001b[39m\u001b[39m.\u001b[39m\u001b[39m{\u001b[39;00m\u001b[39mself\u001b[39m\u001b[39m.\u001b[39muse_case\u001b[39m}\u001b[39;00m\u001b[39m\"\u001b[39m,\n\u001b[1;32m     71\u001b[0m         \u001b[39m\"\u001b[39m\u001b[39mrlway.pyosrd.use_cases\u001b[39m\u001b[39m\"\u001b[39m\n\u001b[1;32m     72\u001b[0m     )\n\u001b[1;32m     73\u001b[0m     function \u001b[39m=\u001b[39m \u001b[39mgetattr\u001b[39m(module, \u001b[39mself\u001b[39m\u001b[39m.\u001b[39muse_case)\n\u001b[0;32m---> 74\u001b[0m     function(\n\u001b[1;32m     75\u001b[0m         \u001b[39mself\u001b[39;49m\u001b[39m.\u001b[39;49mdir,\n\u001b[1;32m     76\u001b[0m         \u001b[39mself\u001b[39;49m\u001b[39m.\u001b[39;49minfra_json,\n\u001b[1;32m     77\u001b[0m         \u001b[39mself\u001b[39;49m\u001b[39m.\u001b[39;49msimulation_json\n\u001b[1;32m     78\u001b[0m     )\n\u001b[1;32m     80\u001b[0m \u001b[39mself\u001b[39m\u001b[39m.\u001b[39minfra \u001b[39m=\u001b[39m (\n\u001b[1;32m     81\u001b[0m     _read_json(os\u001b[39m.\u001b[39mpath\u001b[39m.\u001b[39mjoin(\u001b[39mself\u001b[39m\u001b[39m.\u001b[39mdir, \u001b[39mself\u001b[39m\u001b[39m.\u001b[39minfra_json))\n\u001b[1;32m     82\u001b[0m     \u001b[39mif\u001b[39;00m os\u001b[39m.\u001b[39mpath\u001b[39m.\u001b[39mexists(os\u001b[39m.\u001b[39mpath\u001b[39m.\u001b[39mjoin(\u001b[39mself\u001b[39m\u001b[39m.\u001b[39mdir, \u001b[39mself\u001b[39m\u001b[39m.\u001b[39minfra_json))\n\u001b[1;32m     83\u001b[0m     \u001b[39melse\u001b[39;00m {}\n\u001b[1;32m     84\u001b[0m )\n\u001b[1;32m     86\u001b[0m \u001b[39mself\u001b[39m\u001b[39m.\u001b[39msimulation \u001b[39m=\u001b[39m (\n\u001b[1;32m     87\u001b[0m     _read_json(os\u001b[39m.\u001b[39mpath\u001b[39m.\u001b[39mjoin(\u001b[39mself\u001b[39m\u001b[39m.\u001b[39mdir, \u001b[39mself\u001b[39m\u001b[39m.\u001b[39msimulation_json))\n\u001b[1;32m     88\u001b[0m     \u001b[39mif\u001b[39;00m os\u001b[39m.\u001b[39mpath\u001b[39m.\u001b[39mexists(os\u001b[39m.\u001b[39mpath\u001b[39m.\u001b[39mjoin(\u001b[39mself\u001b[39m\u001b[39m.\u001b[39mdir, \u001b[39mself\u001b[39m\u001b[39m.\u001b[39msimulation_json))\n\u001b[1;32m     89\u001b[0m     \u001b[39melse\u001b[39;00m {}\n\u001b[1;32m     90\u001b[0m )\n",
      "File \u001b[0;32m~/regul/src/rlway/pyosrd/use_cases/cvg_dvg.py:105\u001b[0m, in \u001b[0;36mcvg_dvg\u001b[0;34m(dir, infra_json, simulation_json)\u001b[0m\n\u001b[1;32m    101\u001b[0m built_infra\u001b[39m.\u001b[39msave(os\u001b[39m.\u001b[39mpath\u001b[39m.\u001b[39mjoin(\u001b[39mdir\u001b[39m, infra_json))\n\u001b[1;32m    103\u001b[0m sim_builder \u001b[39m=\u001b[39m SimulationBuilder(built_infra)\n\u001b[0;32m--> 105\u001b[0m sim_builder\u001b[39m.\u001b[39;49madd_train_schedule(\n\u001b[1;32m    106\u001b[0m     Location(T[\u001b[39m3\u001b[39;49m], \u001b[39m10\u001b[39;49m),\n\u001b[1;32m    107\u001b[0m     Location(T[\u001b[39m4\u001b[39;49m], \u001b[39m490\u001b[39;49m),\n\u001b[1;32m    108\u001b[0m     label\u001b[39m=\u001b[39;49m\u001b[39m'\u001b[39;49m\u001b[39mtrain0\u001b[39;49m\u001b[39m'\u001b[39;49m,\n\u001b[1;32m    109\u001b[0m     departure_time\u001b[39m=\u001b[39;49m\u001b[39m0.\u001b[39;49m,\n\u001b[1;32m    110\u001b[0m )\n\u001b[1;32m    111\u001b[0m sim_builder\u001b[39m.\u001b[39madd_train_schedule(\n\u001b[1;32m    112\u001b[0m     Location(T[\u001b[39m1\u001b[39m], \u001b[39m300\u001b[39m),\n\u001b[1;32m    113\u001b[0m     Location(T[\u001b[39m5\u001b[39m], \u001b[39m480\u001b[39m),\n\u001b[1;32m    114\u001b[0m     label\u001b[39m=\u001b[39m\u001b[39m'\u001b[39m\u001b[39mtrain1\u001b[39m\u001b[39m'\u001b[39m,\n\u001b[1;32m    115\u001b[0m     departure_time\u001b[39m=\u001b[39m\u001b[39m100.\u001b[39m,\n\u001b[1;32m    116\u001b[0m )\n\u001b[1;32m    118\u001b[0m built_simulation \u001b[39m=\u001b[39m sim_builder\u001b[39m.\u001b[39mbuild()\n",
      "File \u001b[0;32m~/osrd/python/railjson_generator/railjson_generator/simulation_builder.py:22\u001b[0m, in \u001b[0;36mSimulationBuilder.add_train_schedule\u001b[0;34m(self, *locations, **kwargs)\u001b[0m\n\u001b[1;32m     20\u001b[0m \u001b[39m\u001b[39m\u001b[39m\"\"\"Creates a train schedule group containing only this train schedule.\"\"\"\u001b[39;00m\n\u001b[1;32m     21\u001b[0m train_schedule \u001b[39m=\u001b[39m TrainSchedule(\u001b[39m*\u001b[39m\u001b[39m*\u001b[39mkwargs)\n\u001b[0;32m---> 22\u001b[0m \u001b[39mself\u001b[39;49m\u001b[39m.\u001b[39;49madd_train_schedule_group(locations, train_schedule)\n\u001b[1;32m     23\u001b[0m \u001b[39mreturn\u001b[39;00m train_schedule\n",
      "File \u001b[0;32m~/osrd/python/railjson_generator/railjson_generator/simulation_builder.py:37\u001b[0m, in \u001b[0;36mSimulationBuilder.add_train_schedule_group\u001b[0;34m(self, locations, *train_schedules)\u001b[0m\n\u001b[1;32m     35\u001b[0m     locations \u001b[39m=\u001b[39m [[loc] \u001b[39mfor\u001b[39;00m loc \u001b[39min\u001b[39;00m locations]\n\u001b[1;32m     36\u001b[0m train_schedule_group \u001b[39m=\u001b[39m TrainScheduleGroup(train_schedules, locations)\n\u001b[0;32m---> 37\u001b[0m \u001b[39mself\u001b[39;49m\u001b[39m.\u001b[39;49msimulation\u001b[39m.\u001b[39;49mtrain_schedule_groups\u001b[39m.\u001b[39mappend(train_schedule_group)\n\u001b[1;32m     38\u001b[0m \u001b[39mreturn\u001b[39;00m train_schedule_group\n",
      "\u001b[0;31mAttributeError\u001b[0m: 'Infra' object has no attribute 'train_schedule_groups'"
     ]
    }
   ],
   "source": [
    "sim = OSRD(use_case='cvg_dvg', dir='cvg_dvg')"
   ]
  },
  {
   "cell_type": "code",
   "execution_count": null,
   "metadata": {},
   "outputs": [
    {
     "data": {
      "text/plain": [
       "[{'track': 'T0', 'position': 0.0, 'id': 'buffer_stop.0'},\n",
       " {'track': 'T1', 'position': 0.0, 'id': 'buffer_stop.1'},\n",
       " {'track': 'T4', 'position': 500.0, 'id': 'buffer_stop.2'},\n",
       " {'track': 'T5', 'position': 500.0, 'id': 'buffer_stop.3'}]"
      ]
     },
     "execution_count": 5,
     "metadata": {},
     "output_type": "execute_result"
    }
   ],
   "source": [
    "sim.infra['buffer_stops']"
   ]
  },
  {
   "cell_type": "code",
   "execution_count": null,
   "metadata": {},
   "outputs": [
    {
     "data": {
      "text/plain": [
       "[{'id': 'link.0',\n",
       "  'src': {'endpoint': 'BEGIN', 'track': 'T2'},\n",
       "  'dst': {'endpoint': 'END', 'track': 'T0'}},\n",
       " {'id': 'link.1',\n",
       "  'src': {'endpoint': 'BEGIN', 'track': 'T2'},\n",
       "  'dst': {'endpoint': 'END', 'track': 'T1'}},\n",
       " {'id': 'link.2',\n",
       "  'src': {'endpoint': 'END', 'track': 'T2'},\n",
       "  'dst': {'endpoint': 'BEGIN', 'track': 'T3'}},\n",
       " {'id': 'link.3',\n",
       "  'src': {'endpoint': 'END', 'track': 'T3'},\n",
       "  'dst': {'endpoint': 'BEGIN', 'track': 'T4'}},\n",
       " {'id': 'link.4',\n",
       "  'src': {'endpoint': 'END', 'track': 'T3'},\n",
       "  'dst': {'endpoint': 'BEGIN', 'track': 'T5'}}]"
      ]
     },
     "execution_count": 6,
     "metadata": {},
     "output_type": "execute_result"
    }
   ],
   "source": [
    "sim.infra['track_section_links']"
   ]
  },
  {
   "cell_type": "code",
   "execution_count": null,
   "metadata": {},
   "outputs": [
    {
     "data": {
      "text/plain": [
       "['rt.D0->D2',\n",
       " 'rt.buffer_stop.0->D0',\n",
       " 'rt.D1->D2',\n",
       " 'rt.buffer_stop.1->D1',\n",
       " 'rt.D2->buffer_stop.1',\n",
       " 'rt.D2->buffer_stop.0',\n",
       " 'rt.D3->buffer_stop.3',\n",
       " 'rt.D3->buffer_stop.2',\n",
       " 'rt.D4->D3',\n",
       " 'rt.buffer_stop.2->D4',\n",
       " 'rt.D5->D3',\n",
       " 'rt.buffer_stop.3->D5']"
      ]
     },
     "execution_count": 7,
     "metadata": {},
     "output_type": "execute_result"
    }
   ],
   "source": [
    "sim.routes"
   ]
  },
  {
   "cell_type": "code",
   "execution_count": null,
   "metadata": {},
   "outputs": [
    {
     "data": {
      "text/html": [
       "<img src=\"https://mermaid.ink/img/Z3JhcGggTFI7RDAtLT5EMjtidWZmZXJfc3RvcC4wLS0+RDA7RDEtLT5EMjtidWZmZXJfc3RvcC4xLS0+RDE7RDItLT5idWZmZXJfc3RvcC4xO0QyLS0+YnVmZmVyX3N0b3AuMDtEMy0tPmJ1ZmZlcl9zdG9wLjM7RDMtLT5idWZmZXJfc3RvcC4yO0Q0LS0+RDM7YnVmZmVyX3N0b3AuMi0tPkQ0O0Q1LS0+RDM7YnVmZmVyX3N0b3AuMy0tPkQ1\"/>"
      ],
      "text/plain": [
       "<IPython.core.display.Image object>"
      ]
     },
     "metadata": {},
     "output_type": "display_data"
    }
   ],
   "source": [
    "sim.draw_infra()"
   ]
  },
  {
   "cell_type": "code",
   "execution_count": null,
   "metadata": {},
   "outputs": [],
   "source": []
  },
  {
   "cell_type": "code",
   "execution_count": null,
   "metadata": {},
   "outputs": [
    {
     "ename": "KeyError",
     "evalue": "1",
     "output_type": "error",
     "traceback": [
      "\u001b[0;31m---------------------------------------------------------------------------\u001b[0m",
      "\u001b[0;31mKeyError\u001b[0m                                  Traceback (most recent call last)",
      "Cell \u001b[0;32mIn[9], line 1\u001b[0m\n\u001b[0;32m----> 1\u001b[0m sim\u001b[39m.\u001b[39;49mpoints_encountered_by_train(\u001b[39m1\u001b[39;49m)\n",
      "File \u001b[0;32m~/regul/src/rlway/pyosrd/osrd.py:428\u001b[0m, in \u001b[0;36mOSRD.points_encountered_by_train\u001b[0;34m(self, train, types, tracks)\u001b[0m\n\u001b[1;32m    396\u001b[0m \u001b[39mdef\u001b[39;00m \u001b[39mpoints_encountered_by_train\u001b[39m(\n\u001b[1;32m    397\u001b[0m     \u001b[39mself\u001b[39m,\n\u001b[1;32m    398\u001b[0m     train: \u001b[39mint\u001b[39m,\n\u001b[0;32m   (...)\u001b[0m\n\u001b[1;32m    407\u001b[0m     tracks: Union[List[\u001b[39mstr\u001b[39m], \u001b[39mNone\u001b[39;00m] \u001b[39m=\u001b[39m \u001b[39mNone\u001b[39;00m\n\u001b[1;32m    408\u001b[0m ) \u001b[39m-\u001b[39m\u001b[39m>\u001b[39m List[Tuple[\u001b[39mstr\u001b[39m, \u001b[39mstr\u001b[39m, \u001b[39mfloat\u001b[39m, \u001b[39mfloat\u001b[39m, \u001b[39mfloat\u001b[39m]]:\n\u001b[1;32m    409\u001b[0m \u001b[39m    \u001b[39m\u001b[39m\"\"\"Points encountered by a train during its trajectory\u001b[39;00m\n\u001b[1;32m    410\u001b[0m \n\u001b[1;32m    411\u001b[0m \u001b[39m    Parameters\u001b[39;00m\n\u001b[0;32m   (...)\u001b[0m\n\u001b[1;32m    423\u001b[0m \u001b[39m        Points encountered (label, type, offset, t_min, t)\u001b[39;00m\n\u001b[1;32m    424\u001b[0m \u001b[39m    \"\"\"\u001b[39;00m\n\u001b[1;32m    426\u001b[0m     lengths \u001b[39m=\u001b[39m [\n\u001b[1;32m    427\u001b[0m         \u001b[39mself\u001b[39m\u001b[39m.\u001b[39mtrack_section_lengths[ts]\n\u001b[0;32m--> 428\u001b[0m         \u001b[39mfor\u001b[39;00m ts \u001b[39min\u001b[39;00m \u001b[39mself\u001b[39;49m\u001b[39m.\u001b[39;49mtrain_track_sections(train)\n\u001b[1;32m    429\u001b[0m     ]\n\u001b[1;32m    431\u001b[0m     track_offsets \u001b[39m=\u001b[39m [\n\u001b[1;32m    432\u001b[0m         \u001b[39msum\u001b[39m(lengths[: i]) \u001b[39mfor\u001b[39;00m i, _ \u001b[39min\u001b[39;00m \u001b[39menumerate\u001b[39m(lengths)\n\u001b[1;32m    433\u001b[0m     ]\n\u001b[1;32m    435\u001b[0m     records_min \u001b[39m=\u001b[39m \\\n\u001b[1;32m    436\u001b[0m         \u001b[39mself\u001b[39m\u001b[39m.\u001b[39mresults[train][\u001b[39m'\u001b[39m\u001b[39mbase_simulations\u001b[39m\u001b[39m'\u001b[39m][\u001b[39m0\u001b[39m][\u001b[39m'\u001b[39m\u001b[39mhead_positions\u001b[39m\u001b[39m'\u001b[39m]\n",
      "File \u001b[0;32m~/regul/src/rlway/pyosrd/osrd.py:341\u001b[0m, in \u001b[0;36mOSRD.train_track_sections\u001b[0;34m(self, train)\u001b[0m\n\u001b[1;32m    337\u001b[0m \u001b[39mdef\u001b[39;00m \u001b[39mtrain_track_sections\u001b[39m(\u001b[39mself\u001b[39m, train: \u001b[39mint\u001b[39m) \u001b[39m-\u001b[39m\u001b[39m>\u001b[39m Dict[\u001b[39mstr\u001b[39m, \u001b[39mstr\u001b[39m]:\n\u001b[1;32m    338\u001b[0m \u001b[39m    \u001b[39m\u001b[39m\"\"\"List of tracks for a given train trajectory\"\"\"\u001b[39;00m\n\u001b[1;32m    340\u001b[0m     head_positions \u001b[39m=\u001b[39m \\\n\u001b[0;32m--> 341\u001b[0m         \u001b[39mself\u001b[39;49m\u001b[39m.\u001b[39;49mresults[train][\u001b[39m'\u001b[39m\u001b[39mbase_simulations\u001b[39m\u001b[39m'\u001b[39m][\u001b[39m0\u001b[39m][\u001b[39m'\u001b[39m\u001b[39mhead_positions\u001b[39m\u001b[39m'\u001b[39m]\n\u001b[1;32m    343\u001b[0m     track_sections \u001b[39m=\u001b[39m \u001b[39mlist\u001b[39m(\n\u001b[1;32m    344\u001b[0m         \u001b[39mdict\u001b[39m\u001b[39m.\u001b[39mfromkeys([\n\u001b[1;32m    345\u001b[0m             time[\u001b[39m\"\u001b[39m\u001b[39mtrack_section\u001b[39m\u001b[39m\"\u001b[39m]\n\u001b[1;32m    346\u001b[0m             \u001b[39mfor\u001b[39;00m time \u001b[39min\u001b[39;00m head_positions\n\u001b[1;32m    347\u001b[0m         ]))\n\u001b[1;32m    349\u001b[0m     \u001b[39m# bug fix: if there is no record at a given track,\u001b[39;00m\n\u001b[1;32m    350\u001b[0m     \u001b[39m# it won't appear in the list\u001b[39;00m\n\u001b[1;32m    351\u001b[0m     \u001b[39m# => insert them by inspecting the links between the tracks\u001b[39;00m\n",
      "\u001b[0;31mKeyError\u001b[0m: 1"
     ]
    }
   ],
   "source": [
    "sim.points_encountered_by_train(1)"
   ]
  },
  {
   "cell_type": "code",
   "execution_count": null,
   "metadata": {},
   "outputs": [],
   "source": []
  }
 ],
 "metadata": {
  "kernelspec": {
   "display_name": "venv",
   "language": "python",
   "name": "python3"
  },
  "language_info": {
   "codemirror_mode": {
    "name": "ipython",
    "version": 3
   },
   "file_extension": ".py",
   "mimetype": "text/x-python",
   "name": "python",
   "nbconvert_exporter": "python",
   "pygments_lexer": "ipython3",
   "version": "3.9.16"
  },
  "orig_nbformat": 4
 },
 "nbformat": 4,
 "nbformat_minor": 2
}
