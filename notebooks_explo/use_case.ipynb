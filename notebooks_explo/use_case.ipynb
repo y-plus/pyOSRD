{
 "cells": [
  {
   "cell_type": "code",
   "execution_count": 1,
   "metadata": {},
   "outputs": [],
   "source": [
    "%load_ext autoreload\n",
    "%autoreload 2"
   ]
  },
  {
   "cell_type": "code",
   "execution_count": 15,
   "metadata": {},
   "outputs": [],
   "source": [
    "from rlway.pyosrd import OSRD"
   ]
  },
  {
   "cell_type": "code",
   "execution_count": 25,
   "metadata": {},
   "outputs": [
    {
     "data": {
      "text/plain": [
       "['cvg_dvg_bug', 'cvg_dvg_no_link', 'divergence', 'station_capacity2']"
      ]
     },
     "execution_count": 25,
     "metadata": {},
     "output_type": "execute_result"
    }
   ],
   "source": [
    "OSRD.use_cases"
   ]
  },
  {
   "cell_type": "code",
   "execution_count": 27,
   "metadata": {},
   "outputs": [
    {
     "name": "stdout",
     "output_type": "stream",
     "text": [
      "[19:05:52,233] \u001b[34m[INFO] \u001b[0;39m [StandaloneSimulationCommand] Loading infra: station_capacity2/infra.json\n",
      "[19:05:52,413] \u001b[34m[INFO] \u001b[0;39m             [FullInfra] parsing infra\n",
      "[19:05:53,798] \u001b[34m[INFO] \u001b[0;39m             [FullInfra] adaptation to kotlin\n",
      "[19:05:53,991] \u001b[34m[INFO] \u001b[0;39m             [FullInfra] loading signals\n",
      "[19:05:54,041] \u001b[34m[INFO] \u001b[0;39m             [FullInfra] building blocks\n",
      "[19:05:54,085] \u001b[34m[INFO] \u001b[0;39m [StandaloneSimulationCommand] Loading input: station_capacity2/simulation.json\n",
      "[19:05:54,317] \u001b[34m[INFO] \u001b[0;39m [StandaloneSimulationCommand] Running simulation for schedule group: group.18\n",
      "[19:05:54,685] \u001b[34m[INFO] \u001b[0;39m [StandaloneSimulationCommand] Running simulation for schedule group: group.19\n",
      "[19:05:54,722] \u001b[34m[INFO] \u001b[0;39m [StandaloneSimulationCommand] All simulations completed\n",
      "[19:05:54,723] \u001b[34m[INFO] \u001b[0;39m [StandaloneSimulationCommand] Saving results at: station_capacity2/results.json\n"
     ]
    }
   ],
   "source": [
    "sim = OSRD(use_case='station_capacity2', dir='station_capacity2')"
   ]
  },
  {
   "cell_type": "code",
   "execution_count": 28,
   "metadata": {},
   "outputs": [
    {
     "data": {
      "text/html": [
       "<img src=\"https://mermaid.ink/img/Z3JhcGggTFI7RDBlLS0+RDJlO0QwZS0tPkQxZTtidWZmZXJfc3RvcC4wLS0+RDBlO0QxZS0tPmJ1ZmZlcl9zdG9wLjU7RDFlLS0+YnVmZmVyX3N0b3AuMDtEMmUtLT5idWZmZXJfc3RvcC41O0QyZS0tPmJ1ZmZlcl9zdG9wLjA7RDNzLS0+RDJlO0Qzcy0tPkQxZTtidWZmZXJfc3RvcC41LS0+RDNz\"/>"
      ],
      "text/plain": [
       "<IPython.core.display.Image object>"
      ]
     },
     "metadata": {},
     "output_type": "display_data"
    }
   ],
   "source": [
    "sim.draw_infra()"
   ]
  },
  {
   "cell_type": "code",
   "execution_count": 22,
   "metadata": {},
   "outputs": [
    {
     "name": "stdout",
     "output_type": "stream",
     "text": [
      "Help on module rlway.pyosrd.use_cases.cvg_dvg in rlway.pyosrd.use_cases:\n",
      "\n",
      "NAME\n",
      "    rlway.pyosrd.use_cases.cvg_dvg\n",
      "\n",
      "FUNCTIONS\n",
      "    cvg_dvg(dir: str, infra_json: str = 'infra.json', simulation_json: str = 'simulation.json') -> None\n",
      "        station0 (2 tracks)                        station1 (2 tracks)\n",
      "        \n",
      "               ┎S0                                      S4┐\n",
      "        (T0)-----D0-                                  --D4---------(T4)-->\n",
      "                    \\   S2┐                    ┎S3  /\n",
      "                   CVG>-D2-----(T2)--+--(T3)----D3-<DVG\n",
      "               ┎S1   /                              \\   S5┐\n",
      "        (T1)-----D1-                                  --D5---------(T5)-->\n",
      "        \n",
      "        All tracks are 500m long\n",
      "        Train 0 starts from T0 at t=0 and arrives at T4\n",
      "        Train 1 starts from T1 at t=100 and arrives at T5\n",
      "\n",
      "FILE\n",
      "    /home/renan/regul/src/rlway/pyosrd/use_cases/cvg_dvg.py\n",
      "\n",
      "\n"
     ]
    }
   ],
   "source": [
    "import rlway\n",
    "help(rlway.pyosrd.use_cases.cvg_dvg)"
   ]
  },
  {
   "cell_type": "code",
   "execution_count": null,
   "metadata": {},
   "outputs": [],
   "source": []
  }
 ],
 "metadata": {
  "kernelspec": {
   "display_name": "venv",
   "language": "python",
   "name": "python3"
  },
  "language_info": {
   "codemirror_mode": {
    "name": "ipython",
    "version": 3
   },
   "file_extension": ".py",
   "mimetype": "text/x-python",
   "name": "python",
   "nbconvert_exporter": "python",
   "pygments_lexer": "ipython3",
   "version": "3.9.16"
  },
  "orig_nbformat": 4
 },
 "nbformat": 4,
 "nbformat_minor": 2
}
