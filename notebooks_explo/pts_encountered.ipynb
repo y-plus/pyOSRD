{
 "cells": [
  {
   "cell_type": "code",
   "execution_count": 1,
   "metadata": {},
   "outputs": [],
   "source": [
    "%load_ext autoreload\n",
    "%autoreload 2"
   ]
  },
  {
   "cell_type": "code",
   "execution_count": 2,
   "metadata": {},
   "outputs": [],
   "source": [
    "from rlway.pyosrd import OSRD"
   ]
  },
  {
   "cell_type": "code",
   "execution_count": 3,
   "metadata": {},
   "outputs": [
    {
     "data": {
      "text/plain": [
       "['cvg_dvg', 'station_capacity2']"
      ]
     },
     "execution_count": 3,
     "metadata": {},
     "output_type": "execute_result"
    }
   ],
   "source": [
    "OSRD.use_cases"
   ]
  },
  {
   "cell_type": "code",
   "execution_count": 4,
   "metadata": {},
   "outputs": [
    {
     "name": "stdout",
     "output_type": "stream",
     "text": [
      "[12:32:09,142] \u001b[39m[DEBUG]\u001b[0;39m             [Allowance] computing range n°1\n",
      "[12:32:09,191] \u001b[39m[DEBUG]\u001b[0;39m             [Allowance]   computing section n°1\n",
      "[12:32:09,197] \u001b[39m[DEBUG]\u001b[0;39m             [Allowance]   target time = 125.68289999999999\n",
      "[12:32:09,198] \u001b[39m[DEBUG]\u001b[0;39m             [Allowance]     starting attempt 1\n",
      "[12:32:09,209] \u001b[39m[DEBUG]\u001b[0;39m             [Allowance]     envelope time 183.259\n",
      "[12:32:09,214] \u001b[39m[DEBUG]\u001b[0;39m             [Allowance]     starting attempt 2\n",
      "[12:32:09,218] \u001b[39m[DEBUG]\u001b[0;39m             [Allowance]     envelope time 144.777\n",
      "[12:32:09,219] \u001b[39m[DEBUG]\u001b[0;39m             [Allowance]     starting attempt 3\n",
      "[12:32:09,221] \u001b[39m[DEBUG]\u001b[0;39m             [Allowance]     envelope time 131.011\n",
      "[12:32:09,222] \u001b[39m[DEBUG]\u001b[0;39m             [Allowance]     starting attempt 4\n",
      "[12:32:09,223] \u001b[39m[DEBUG]\u001b[0;39m             [Allowance]     envelope time 125.086\n",
      "[12:32:09,284] \u001b[39m[DEBUG]\u001b[0;39m             [Allowance] computing range n°1\n",
      "[12:32:09,285] \u001b[39m[DEBUG]\u001b[0;39m             [Allowance]   computing section n°1\n",
      "[12:32:09,287] \u001b[39m[DEBUG]\u001b[0;39m             [Allowance]   target time = 125.68289999999999\n",
      "[12:32:09,287] \u001b[39m[DEBUG]\u001b[0;39m             [Allowance]     starting attempt 1\n",
      "[12:32:09,291] \u001b[39m[DEBUG]\u001b[0;39m             [Allowance]     envelope time 183.259\n",
      "[12:32:09,292] \u001b[39m[DEBUG]\u001b[0;39m             [Allowance]     starting attempt 2\n",
      "[12:32:09,297] \u001b[39m[DEBUG]\u001b[0;39m             [Allowance]     envelope time 144.777\n",
      "[12:32:09,298] \u001b[39m[DEBUG]\u001b[0;39m             [Allowance]     starting attempt 3\n",
      "[12:32:09,300] \u001b[39m[DEBUG]\u001b[0;39m             [Allowance]     envelope time 131.011\n",
      "[12:32:09,300] \u001b[39m[DEBUG]\u001b[0;39m             [Allowance]     starting attempt 4\n",
      "[12:32:09,301] \u001b[39m[DEBUG]\u001b[0;39m             [Allowance]     envelope time 125.086\n"
     ]
    }
   ],
   "source": [
    "sim = OSRD(use_case='cvg_dvg')"
   ]
  },
  {
   "cell_type": "code",
   "execution_count": 5,
   "metadata": {},
   "outputs": [
    {
     "data": {
      "text/plain": [
       "{'T0': {'station0': (300.0, 'station'),\n",
       "  'S0': (430.0, 'signal'),\n",
       "  'D0': (450.0, 'detector'),\n",
       "  'CVG': (500.0, 'switch', 'point')},\n",
       " 'T1': {'station0': (300.0, 'station'),\n",
       "  'S1': (430.0, 'signal'),\n",
       "  'D1': (450.0, 'detector'),\n",
       "  'CVG': (500.0, 'switch', 'point')},\n",
       " 'T2': {'CVG': (0, 'switch', 'point')},\n",
       " 'T3': {'S3': (430.0, 'signal'),\n",
       "  'D3': (450.0, 'detector'),\n",
       "  'DVG': (500.0, 'switch', 'point')},\n",
       " 'T4': {'DVG': (0, 'switch', 'point'),\n",
       "  'S4': (430.0, 'signal'),\n",
       "  'D4': (450.0, 'detector'),\n",
       "  'station1': (480.0, 'station')},\n",
       " 'T5': {'DVG': (0, 'switch', 'point'),\n",
       "  'S5': (430.0, 'signal'),\n",
       "  'D5': (450.0, 'detector'),\n",
       "  'station1': (480.0, 'station')}}"
      ]
     },
     "execution_count": 5,
     "metadata": {},
     "output_type": "execute_result"
    }
   ],
   "source": [
    "sim.points_on_track_sections"
   ]
  },
  {
   "cell_type": "code",
   "execution_count": 8,
   "metadata": {},
   "outputs": [
    {
     "data": {
      "text/plain": [
       "['T0', 'T2', 'T3', 'T4']"
      ]
     },
     "execution_count": 8,
     "metadata": {},
     "output_type": "execute_result"
    }
   ],
   "source": [
    "sim.train_track_sections(0)"
   ]
  },
  {
   "cell_type": "code",
   "execution_count": 7,
   "metadata": {},
   "outputs": [
    {
     "data": {
      "text/plain": [
       "['rt.D0->D3',\n",
       " 'rt.buffer_stop.0->D0',\n",
       " 'rt.D1->D3',\n",
       " 'rt.buffer_stop.1->D1',\n",
       " 'rt.D3->D5',\n",
       " 'rt.D3->D4',\n",
       " 'rt.D4->buffer_stop.2',\n",
       " 'rt.D5->buffer_stop.3']"
      ]
     },
     "execution_count": 7,
     "metadata": {},
     "output_type": "execute_result"
    }
   ],
   "source": [
    "sim.routes"
   ]
  },
  {
   "cell_type": "code",
   "execution_count": 69,
   "metadata": {},
   "outputs": [
    {
     "data": {
      "text/plain": [
       "<Axes: title={'center': 'train1 (eco)'}, xlabel='Time [min]'>"
      ]
     },
     "execution_count": 69,
     "metadata": {},
     "output_type": "execute_result"
    },
    {
     "data": {
      "image/png": "[encoded data removed]",
      "text/plain": [
       "<Figure size 640x480 with 1 Axes>"
      ]
     },
     "metadata": {},
     "output_type": "display_data"
    }
   ],
   "source": [
    "sim.space_time_graph(1, types_to_show=['station', 'switch'])"
   ]
  },
  {
   "cell_type": "code",
   "execution_count": 66,
   "metadata": {},
   "outputs": [
    {
     "data": {
      "text/plain": [
       "[{'offset': 300.0, 'path_offset': 0.0, 'time': 0.0, 'track_section': 'T1'},\n",
       " {'offset': 308.29372207539166,\n",
       "  'path_offset': 8.293722075391658,\n",
       "  'time': 6.0,\n",
       "  'track_section': 'T1'},\n",
       " {'offset': 345.0655840853055,\n",
       "  'path_offset': 45.065584085305474,\n",
       "  'time': 14.0,\n",
       "  'track_section': 'T1'},\n",
       " {'offset': 411.01420599720467,\n",
       "  'path_offset': 111.01420599720468,\n",
       "  'time': 22.0,\n",
       "  'track_section': 'T1'},\n",
       " {'offset': 5.811150535517811,\n",
       "  'path_offset': 205.8111505355178,\n",
       "  'time': 30.0,\n",
       "  'track_section': 'T2'},\n",
       " {'offset': 128.91772568490126,\n",
       "  'path_offset': 328.91772568490126,\n",
       "  'time': 38.0,\n",
       "  'track_section': 'T2'},\n",
       " {'offset': 320.8085223751327,\n",
       "  'path_offset': 520.8085223751327,\n",
       "  'time': 48.0,\n",
       "  'track_section': 'T2'},\n",
       " {'offset': 50.41196756380532,\n",
       "  'path_offset': 750.4119675638053,\n",
       "  'time': 58.0,\n",
       "  'track_section': 'T3'},\n",
       " {'offset': 304.0,\n",
       "  'path_offset': 1004.0,\n",
       "  'time': 67.6994534598555,\n",
       "  'track_section': 'T3'},\n",
       " {'offset': 451.0,\n",
       "  'path_offset': 1151.0,\n",
       "  'time': 73.6994534598555,\n",
       "  'track_section': 'T3'},\n",
       " {'offset': 80.0,\n",
       "  'path_offset': 1280.0,\n",
       "  'time': 79.6994534598555,\n",
       "  'track_section': 'T5'},\n",
       " {'offset': 224.0,\n",
       "  'path_offset': 1424.0,\n",
       "  'time': 87.6994534598555,\n",
       "  'track_section': 'T5'},\n",
       " {'offset': 336.0,\n",
       "  'path_offset': 1536.0,\n",
       "  'time': 95.6994534598555,\n",
       "  'track_section': 'T5'},\n",
       " {'offset': 416.0,\n",
       "  'path_offset': 1616.0,\n",
       "  'time': 103.6994534598555,\n",
       "  'track_section': 'T5'},\n",
       " {'offset': 464.0,\n",
       "  'path_offset': 1664.0,\n",
       "  'time': 111.6994534598555,\n",
       "  'track_section': 'T5'},\n",
       " {'offset': 480.0,\n",
       "  'path_offset': 1680.0,\n",
       "  'time': 120.6994534598555,\n",
       "  'track_section': 'T5'}]"
      ]
     },
     "execution_count": 66,
     "metadata": {},
     "output_type": "execute_result"
    }
   ],
   "source": [
    "sim.results[1]['base_simulations'][0]['head_positions']"
   ]
  },
  {
   "cell_type": "code",
   "execution_count": 67,
   "metadata": {},
   "outputs": [
    {
     "data": {
      "text/plain": [
       "[{'id': 'station0',\n",
       "  'type': 'station',\n",
       "  'offset': 300.0,\n",
       "  't_min': 0.0,\n",
       "  't': 0.0},\n",
       " {'id': 'S1',\n",
       "  'type': 'signal',\n",
       "  'offset': 430.0,\n",
       "  't_min': 23.602228349891345,\n",
       "  't': 24.67246908935413},\n",
       " {'id': 'D1',\n",
       "  'type': 'detector',\n",
       "  'offset': 450.0,\n",
       "  't_min': 25.290046462376335,\n",
       "  't': 26.436821149312472},\n",
       " {'id': 'CVG',\n",
       "  'type': 'switch',\n",
       "  'offset': 500.0,\n",
       "  't_min': 29.50959174358881,\n",
       "  't': 30.847701299208325},\n",
       " {'id': 'S3',\n",
       "  'type': 'signal',\n",
       "  'offset': 1430.0,\n",
       "  't_min': 72.84231060271264,\n",
       "  't': 76.14533806299838},\n",
       " {'id': 'D3',\n",
       "  'type': 'detector',\n",
       "  'offset': 1450.0,\n",
       "  't_min': 73.65863713332489,\n",
       "  't': 76.99868084041638},\n",
       " {'id': 'DVG',\n",
       "  'type': 'switch',\n",
       "  'offset': 1500.0,\n",
       "  't_min': 75.97852322729736,\n",
       "  't': 79.48048608474042},\n",
       " {'id': 'S5',\n",
       "  'type': 'signal',\n",
       "  'offset': 1930.0,\n",
       "  't_min': 106.03278679318883,\n",
       "  't': 110.84083315485213},\n",
       " {'id': 'D5',\n",
       "  'type': 'detector',\n",
       "  'offset': 1950.0,\n",
       "  't_min': 109.36612012652218,\n",
       "  't': 114.32531616264231},\n",
       " {'id': 'station1',\n",
       "  'type': 'station',\n",
       "  'offset': 1980.0,\n",
       "  't_min': 120.6994534598555,\n",
       "  't': 126.1272134867919}]"
      ]
     },
     "execution_count": 67,
     "metadata": {},
     "output_type": "execute_result"
    }
   ],
   "source": [
    "sim.points_encountered_by_train(1)"
   ]
  },
  {
   "cell_type": "code",
   "execution_count": 10,
   "metadata": {},
   "outputs": [
    {
     "data": {
      "text/plain": [
       "['T0', 'T2', 'T3', 'T4']"
      ]
     },
     "execution_count": 10,
     "metadata": {},
     "output_type": "execute_result"
    }
   ],
   "source": [
    "sim.train_track_sections(0)"
   ]
  },
  {
   "cell_type": "code",
   "execution_count": null,
   "metadata": {},
   "outputs": [],
   "source": []
  }
 ],
 "metadata": {
  "kernelspec": {
   "display_name": "venv",
   "language": "python",
   "name": "python3"
  },
  "language_info": {
   "codemirror_mode": {
    "name": "ipython",
    "version": 3
   },
   "file_extension": ".py",
   "mimetype": "text/x-python",
   "name": "python",
   "nbconvert_exporter": "python",
   "pygments_lexer": "ipython3",
   "version": "3.9.16"
  },
  "orig_nbformat": 4
 },
 "nbformat": 4,
 "nbformat_minor": 2
}
