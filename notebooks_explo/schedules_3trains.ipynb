{
 "cells": [
  {
   "cell_type": "code",
   "execution_count": 35,
   "metadata": {},
   "outputs": [
    {
     "name": "stdout",
     "output_type": "stream",
     "text": [
      "The autoreload extension is already loaded. To reload it, use:\n",
      "  %reload_ext autoreload\n"
     ]
    }
   ],
   "source": [
    "%load_ext autoreload\n",
    "%autoreload 2"
   ]
  },
  {
   "cell_type": "code",
   "execution_count": 36,
   "metadata": {},
   "outputs": [],
   "source": [
    "import matplotlib.pyplot as plt"
   ]
  },
  {
   "cell_type": "code",
   "execution_count": 37,
   "metadata": {},
   "outputs": [
    {
     "data": {
      "text/html": [
       "<div>\n",
       "<style scoped>\n",
       "    .dataframe tbody tr th:only-of-type {\n",
       "        vertical-align: middle;\n",
       "    }\n",
       "\n",
       "    .dataframe tbody tr th {\n",
       "        vertical-align: top;\n",
       "    }\n",
       "\n",
       "    .dataframe thead tr th {\n",
       "        text-align: left;\n",
       "    }\n",
       "</style>\n",
       "<table border=\"1\" class=\"dataframe\">\n",
       "  <thead>\n",
       "    <tr>\n",
       "      <th></th>\n",
       "      <th colspan=\"2\" halign=\"left\">0</th>\n",
       "      <th colspan=\"2\" halign=\"left\">1</th>\n",
       "      <th colspan=\"2\" halign=\"left\">2</th>\n",
       "    </tr>\n",
       "    <tr>\n",
       "      <th></th>\n",
       "      <th>s</th>\n",
       "      <th>e</th>\n",
       "      <th>s</th>\n",
       "      <th>e</th>\n",
       "      <th>s</th>\n",
       "      <th>e</th>\n",
       "    </tr>\n",
       "  </thead>\n",
       "  <tbody>\n",
       "    <tr>\n",
       "      <th>0</th>\n",
       "      <td>NaN</td>\n",
       "      <td>NaN</td>\n",
       "      <td>NaN</td>\n",
       "      <td>NaN</td>\n",
       "      <td>NaN</td>\n",
       "      <td>NaN</td>\n",
       "    </tr>\n",
       "    <tr>\n",
       "      <th>1</th>\n",
       "      <td>NaN</td>\n",
       "      <td>NaN</td>\n",
       "      <td>NaN</td>\n",
       "      <td>NaN</td>\n",
       "      <td>NaN</td>\n",
       "      <td>NaN</td>\n",
       "    </tr>\n",
       "    <tr>\n",
       "      <th>2</th>\n",
       "      <td>NaN</td>\n",
       "      <td>NaN</td>\n",
       "      <td>NaN</td>\n",
       "      <td>NaN</td>\n",
       "      <td>NaN</td>\n",
       "      <td>NaN</td>\n",
       "    </tr>\n",
       "    <tr>\n",
       "      <th>3</th>\n",
       "      <td>NaN</td>\n",
       "      <td>NaN</td>\n",
       "      <td>NaN</td>\n",
       "      <td>NaN</td>\n",
       "      <td>NaN</td>\n",
       "      <td>NaN</td>\n",
       "    </tr>\n",
       "    <tr>\n",
       "      <th>4</th>\n",
       "      <td>NaN</td>\n",
       "      <td>NaN</td>\n",
       "      <td>NaN</td>\n",
       "      <td>NaN</td>\n",
       "      <td>NaN</td>\n",
       "      <td>NaN</td>\n",
       "    </tr>\n",
       "    <tr>\n",
       "      <th>5</th>\n",
       "      <td>NaN</td>\n",
       "      <td>NaN</td>\n",
       "      <td>NaN</td>\n",
       "      <td>NaN</td>\n",
       "      <td>NaN</td>\n",
       "      <td>NaN</td>\n",
       "    </tr>\n",
       "    <tr>\n",
       "      <th>6</th>\n",
       "      <td>NaN</td>\n",
       "      <td>NaN</td>\n",
       "      <td>NaN</td>\n",
       "      <td>NaN</td>\n",
       "      <td>NaN</td>\n",
       "      <td>NaN</td>\n",
       "    </tr>\n",
       "    <tr>\n",
       "      <th>7</th>\n",
       "      <td>NaN</td>\n",
       "      <td>NaN</td>\n",
       "      <td>NaN</td>\n",
       "      <td>NaN</td>\n",
       "      <td>NaN</td>\n",
       "      <td>NaN</td>\n",
       "    </tr>\n",
       "    <tr>\n",
       "      <th>8</th>\n",
       "      <td>NaN</td>\n",
       "      <td>NaN</td>\n",
       "      <td>NaN</td>\n",
       "      <td>NaN</td>\n",
       "      <td>NaN</td>\n",
       "      <td>NaN</td>\n",
       "    </tr>\n",
       "    <tr>\n",
       "      <th>9</th>\n",
       "      <td>NaN</td>\n",
       "      <td>NaN</td>\n",
       "      <td>NaN</td>\n",
       "      <td>NaN</td>\n",
       "      <td>NaN</td>\n",
       "      <td>NaN</td>\n",
       "    </tr>\n",
       "  </tbody>\n",
       "</table>\n",
       "</div>"
      ],
      "text/plain": [
       "     0         1         2     \n",
       "     s    e    s    e    s    e\n",
       "0  NaN  NaN  NaN  NaN  NaN  NaN\n",
       "1  NaN  NaN  NaN  NaN  NaN  NaN\n",
       "2  NaN  NaN  NaN  NaN  NaN  NaN\n",
       "3  NaN  NaN  NaN  NaN  NaN  NaN\n",
       "4  NaN  NaN  NaN  NaN  NaN  NaN\n",
       "5  NaN  NaN  NaN  NaN  NaN  NaN\n",
       "6  NaN  NaN  NaN  NaN  NaN  NaN\n",
       "7  NaN  NaN  NaN  NaN  NaN  NaN\n",
       "8  NaN  NaN  NaN  NaN  NaN  NaN\n",
       "9  NaN  NaN  NaN  NaN  NaN  NaN"
      ]
     },
     "execution_count": 37,
     "metadata": {},
     "output_type": "execute_result"
    }
   ],
   "source": [
    "from rlway.schedules import Schedule\n",
    "schedule = Schedule(10,3)\n",
    "schedule.df"
   ]
  },
  {
   "cell_type": "code",
   "execution_count": 38,
   "metadata": {},
   "outputs": [],
   "source": [
    "schedule._df.index=[\n",
    "    \"S1\",\n",
    "    \"S2\",\n",
    "    \"CVG1\",\n",
    "    \"T1\",\n",
    "    \"S3\",\n",
    "    \"CVG2\",\n",
    "    \"T2\",\n",
    "    \"DVG\",\n",
    "    \"A1\",\n",
    "    \"A2\"\n",
    "]"
   ]
  },
  {
   "cell_type": "code",
   "execution_count": 39,
   "metadata": {},
   "outputs": [
    {
     "data": {
      "text/plain": [
       "        0         1         2     \n",
       "        s    e    s    e    s    e\n",
       "S1    NaN  NaN  NaN  NaN  NaN  NaN\n",
       "S2    NaN  NaN  NaN  NaN  NaN  NaN\n",
       "CVG1  NaN  NaN  NaN  NaN  NaN  NaN\n",
       "T1    NaN  NaN  NaN  NaN  NaN  NaN\n",
       "S3    NaN  NaN  NaN  NaN  NaN  NaN\n",
       "CVG2  NaN  NaN  NaN  NaN  NaN  NaN\n",
       "T2    NaN  NaN  NaN  NaN  NaN  NaN\n",
       "DVG   NaN  NaN  NaN  NaN  NaN  NaN\n",
       "A1    NaN  NaN  NaN  NaN  NaN  NaN\n",
       "A2    NaN  NaN  NaN  NaN  NaN  NaN"
      ]
     },
     "execution_count": 39,
     "metadata": {},
     "output_type": "execute_result"
    }
   ],
   "source": [
    "schedule"
   ]
  },
  {
   "cell_type": "code",
   "execution_count": 171,
   "metadata": {},
   "outputs": [],
   "source": [
    "schedule.df.at['S1', 0] =  [0, 1]\n",
    "schedule.df.at['CVG1', 0] = [1, 2]\n",
    "schedule.df.at['T1', 0] =  [2, 4]\n",
    "schedule.df.at['CVG2', 0] =  [4, 5]\n",
    "schedule.df.at['T2', 0] =  [5, 7]\n",
    "schedule.df.at['DVG', 0] =  [7, 8]\n",
    "schedule.df.at['A1', 0] =  [8, 9]\n",
    "\n",
    "schedule.df.at['S2', 1] =  [4, 5]\n",
    "schedule.df.at['CVG1', 1] = [5, 6]\n",
    "schedule.df.at['T1', 1] =  [6, 8]\n",
    "schedule.df.at['CVG2', 1] =  [8, 9]\n",
    "schedule.df.at['T2', 1] =  [9, 11]\n",
    "schedule.df.at['DVG', 1] =  [11, 12]\n",
    "schedule.df.at['A2', 1] =  [12, 13]\n",
    "\n",
    "\n",
    "schedule.df.at['S3', 2] =  [5,6]\n",
    "schedule.df.at['CVG2', 2] =  [6, 7]\n",
    "schedule.df.at['T2', 2] =  [7, 9]\n",
    "schedule.df.at['DVG', 2] =  [9, 11]\n",
    "schedule.df.at['A1', 2] =  [11, 12]"
   ]
  },
  {
   "cell_type": "code",
   "execution_count": 172,
   "metadata": {},
   "outputs": [
    {
     "data": {
      "image/png": "[encoded data removed]",
      "text/plain": [
       "<Figure size 640x480 with 1 Axes>"
      ]
     },
     "metadata": {},
     "output_type": "display_data"
    }
   ],
   "source": [
    "schedule.sort().plot()"
   ]
  },
  {
   "cell_type": "code",
   "execution_count": 173,
   "metadata": {},
   "outputs": [],
   "source": [
    "from rlway.regul_env import RegulEnv\n",
    "\n",
    "env = RegulEnv(schedule.sort(), stations=['A1', 'A2'])"
   ]
  },
  {
   "cell_type": "code",
   "execution_count": 174,
   "metadata": {},
   "outputs": [],
   "source": [
    "def earliest_conflict(s):\n",
    "\n",
    "    conflicts_times = [\n",
    "        np.min(s.conflicts(train).stack())\n",
    "        if not s.conflicts(train).stack().empty\n",
    "        else np.inf\n",
    "        for train in range(s.num_trains)\n",
    "    ]\n",
    "\n",
    "    if np.isfinite(np.min(conflicts_times)):\n",
    "        other_train = np.argmin(conflicts_times)\n",
    "        return s.first_conflict(other_train)\n",
    "    return None, None"
   ]
  },
  {
   "cell_type": "code",
   "execution_count": 184,
   "metadata": {},
   "outputs": [
    {
     "data": {
      "text/plain": [
       "Text(0.5, 1.0, \"('T2', 0)\")"
      ]
     },
     "execution_count": 184,
     "metadata": {},
     "output_type": "execute_result"
    },
    {
     "data": {
      "image/png": "[encoded data removed]",
      "text/plain": [
       "<Figure size 640x480 with 1 Axes>"
      ]
     },
     "metadata": {},
     "output_type": "display_data"
    }
   ],
   "source": [
    "env.reset(delay=1., train=0, track_section='T1')\n",
    "env.render()\n",
    "plt.title(earliest_conflict(env.schedule))"
   ]
  },
  {
   "cell_type": "code",
   "execution_count": 185,
   "metadata": {},
   "outputs": [
    {
     "name": "stdout",
     "output_type": "stream",
     "text": [
      "0\n"
     ]
    }
   ],
   "source": [
    "print(env.delayed_train)"
   ]
  },
  {
   "cell_type": "code",
   "execution_count": null,
   "metadata": {},
   "outputs": [],
   "source": []
  }
 ],
 "metadata": {
  "kernelspec": {
   "display_name": "venv",
   "language": "python",
   "name": "python3"
  },
  "language_info": {
   "codemirror_mode": {
    "name": "ipython",
    "version": 3
   },
   "file_extension": ".py",
   "mimetype": "text/x-python",
   "name": "python",
   "nbconvert_exporter": "python",
   "pygments_lexer": "ipython3",
   "version": "3.9.16"
  },
  "orig_nbformat": 4
 },
 "nbformat": 4,
 "nbformat_minor": 2
}
