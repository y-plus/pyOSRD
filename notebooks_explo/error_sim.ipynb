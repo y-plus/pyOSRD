{
 "cells": [
  {
   "cell_type": "code",
   "execution_count": 92,
   "metadata": {},
   "outputs": [
    {
     "name": "stdout",
     "output_type": "stream",
     "text": [
      "The autoreload extension is already loaded. To reload it, use:\n",
      "  %reload_ext autoreload\n"
     ]
    }
   ],
   "source": [
    "%load_ext autoreload\n",
    "%autoreload 2"
   ]
  },
  {
   "cell_type": "code",
   "execution_count": 93,
   "metadata": {},
   "outputs": [],
   "source": [
    "from rlway.pyosrd import OSRD"
   ]
  },
  {
   "cell_type": "code",
   "execution_count": 94,
   "metadata": {},
   "outputs": [
    {
     "name": "stdout",
     "output_type": "stream",
     "text": [
      "[16:01:52,835] \u001b[34m[INFO] \u001b[0;39m [StandaloneSimulationCommand] Loading infra: toto/infra.json\n",
      "[16:01:52,868] \u001b[34m[INFO] \u001b[0;39m             [FullInfra] parsing infra\n",
      "[16:01:52,939] \u001b[34m[INFO] \u001b[0;39m             [FullInfra] adaptation to kotlin\n",
      "[16:01:52,970] \u001b[34m[INFO] \u001b[0;39m             [FullInfra] loading signals\n",
      "[16:01:52,977] \u001b[34m[INFO] \u001b[0;39m             [FullInfra] building blocks\n",
      "[16:01:52,982] \u001b[34m[INFO] \u001b[0;39m [StandaloneSimulationCommand] Loading input: toto/simulation.json\n",
      "[16:01:52,995] \u001b[34m[INFO] \u001b[0;39m [StandaloneSimulationCommand] Running simulation for schedule group: group.20\n",
      "[16:01:53,042] \u001b[34m[INFO] \u001b[0;39m [StandaloneSimulationCommand] Running simulation for schedule group: group.21\n",
      "[16:01:53,047] \u001b[34m[INFO] \u001b[0;39m [StandaloneSimulationCommand] All simulations completed\n",
      "[16:01:53,047] \u001b[34m[INFO] \u001b[0;39m [StandaloneSimulationCommand] Saving results at: toto/results.json\n"
     ]
    }
   ],
   "source": [
    "sim = OSRD(use_case='cvg_dvg', dir='toto')"
   ]
  },
  {
   "cell_type": "code",
   "execution_count": 104,
   "metadata": {},
   "outputs": [
    {
     "name": "stdout",
     "output_type": "stream",
     "text": [
      "[16:07:06,913] \u001b[34m[INFO] \u001b[0;39m [StandaloneSimulationCommand] Loading infra: toto/infra.json\n"
     ]
    },
    {
     "ename": "RuntimeError",
     "evalue": "Failed to load infra: Use JsonReader.setLenient(true) to accept malformed JSON at path $\ncom.squareup.moshi.JsonEncodingException: Use JsonReader.setLenient(true) to accept malformed JSON at path $\n\tat com.squareup.moshi.JsonReader.syntaxError(JsonReader.java:243)\n\tat com.squareup.moshi.JsonUtf8Reader.checkLenient(JsonUtf8Reader.java:1152)\n\tat com.squareup.moshi.JsonUtf8Reader.doPeek(JsonUtf8Reader.java:384)\n\tat com.squareup.moshi.JsonUtf8Reader.peek(JsonUtf8Reader.java:206)\n\tat com.squareup.moshi.internal.NullSafeJsonAdapter.fromJson(NullSafeJsonAdapter.java:38)\n\tat com.squareup.moshi.JsonAdapter.fromJson(JsonAdapter.java:58)\n\tat fr.sncf.osrd.cli.StandaloneSimulationCommand.loadInfra(StandaloneSimulationCommand.java:125)\n\tat fr.sncf.osrd.cli.StandaloneSimulationCommand.run(StandaloneSimulationCommand.java:71)\n\tat fr.sncf.osrd.App.main(App.java:44)\n",
     "output_type": "error",
     "traceback": [
      "\u001b[0;31m---------------------------------------------------------------------------\u001b[0m",
      "\u001b[0;31mFileNotFoundError\u001b[0m                         Traceback (most recent call last)",
      "File \u001b[0;32m~/RLway/src/rlway/pyosrd/osrd.py:159\u001b[0m, in \u001b[0;36mOSRD.run\u001b[0;34m(self)\u001b[0m\n\u001b[1;32m    158\u001b[0m \u001b[39mtry\u001b[39;00m:\n\u001b[0;32m--> 159\u001b[0m     \u001b[39mself\u001b[39m\u001b[39m.\u001b[39mresults \u001b[39m=\u001b[39m _read_json(os\u001b[39m.\u001b[39;49mpath\u001b[39m.\u001b[39;49mjoin(\u001b[39mself\u001b[39;49m\u001b[39m.\u001b[39;49mdir, \u001b[39mself\u001b[39;49m\u001b[39m.\u001b[39;49mresults_json))\n\u001b[1;32m    160\u001b[0m \u001b[39mexcept\u001b[39;00m \u001b[39mFileNotFoundError\u001b[39;00m:\n",
      "File \u001b[0;32m~/RLway/src/rlway/pyosrd/osrd.py:27\u001b[0m, in \u001b[0;36m_read_json\u001b[0;34m(json_file)\u001b[0m\n\u001b[1;32m     26\u001b[0m \u001b[39mdef\u001b[39;00m \u001b[39m_read_json\u001b[39m(json_file: \u001b[39mstr\u001b[39m) \u001b[39m-\u001b[39m\u001b[39m>\u001b[39m Union[Dict, List]:\n\u001b[0;32m---> 27\u001b[0m     \u001b[39mwith\u001b[39;00m \u001b[39mopen\u001b[39;49m(json_file, \u001b[39m'\u001b[39;49m\u001b[39mr\u001b[39;49m\u001b[39m'\u001b[39;49m) \u001b[39mas\u001b[39;00m f:\n\u001b[1;32m     28\u001b[0m         \u001b[39mtry\u001b[39;00m:\n",
      "\u001b[0;31mFileNotFoundError\u001b[0m: [Errno 2] No such file or directory: 'toto/results.json'",
      "\nDuring handling of the above exception, another exception occurred:\n",
      "\u001b[0;31mRuntimeError\u001b[0m                              Traceback (most recent call last)",
      "\u001b[1;32m/home/renan/RLway/notebooks_explo/error_sim.ipynb Cell 4\u001b[0m line \u001b[0;36m1\n\u001b[0;32m----> <a href='vscode-notebook-cell://wsl%2Bubuntu/home/renan/RLway/notebooks_explo/error_sim.ipynb#W2sdnNjb2RlLXJlbW90ZQ%3D%3D?line=0'>1</a>\u001b[0m sim\u001b[39m.\u001b[39;49mrun()\n",
      "File \u001b[0;32m~/RLway/src/rlway/pyosrd/osrd.py:161\u001b[0m, in \u001b[0;36mOSRD.run\u001b[0;34m(self)\u001b[0m\n\u001b[1;32m    159\u001b[0m     \u001b[39mself\u001b[39m\u001b[39m.\u001b[39mresults \u001b[39m=\u001b[39m _read_json(os\u001b[39m.\u001b[39mpath\u001b[39m.\u001b[39mjoin(\u001b[39mself\u001b[39m\u001b[39m.\u001b[39mdir, \u001b[39mself\u001b[39m\u001b[39m.\u001b[39mresults_json))\n\u001b[1;32m    160\u001b[0m \u001b[39mexcept\u001b[39;00m \u001b[39mFileNotFoundError\u001b[39;00m:\n\u001b[0;32m--> 161\u001b[0m     \u001b[39mraise\u001b[39;00m \u001b[39mRuntimeError\u001b[39;00m(output\u001b[39m.\u001b[39mstderr\u001b[39m.\u001b[39mdecode())\n",
      "\u001b[0;31mRuntimeError\u001b[0m: Failed to load infra: Use JsonReader.setLenient(true) to accept malformed JSON at path $\ncom.squareup.moshi.JsonEncodingException: Use JsonReader.setLenient(true) to accept malformed JSON at path $\n\tat com.squareup.moshi.JsonReader.syntaxError(JsonReader.java:243)\n\tat com.squareup.moshi.JsonUtf8Reader.checkLenient(JsonUtf8Reader.java:1152)\n\tat com.squareup.moshi.JsonUtf8Reader.doPeek(JsonUtf8Reader.java:384)\n\tat com.squareup.moshi.JsonUtf8Reader.peek(JsonUtf8Reader.java:206)\n\tat com.squareup.moshi.internal.NullSafeJsonAdapter.fromJson(NullSafeJsonAdapter.java:38)\n\tat com.squareup.moshi.JsonAdapter.fromJson(JsonAdapter.java:58)\n\tat fr.sncf.osrd.cli.StandaloneSimulationCommand.loadInfra(StandaloneSimulationCommand.java:125)\n\tat fr.sncf.osrd.cli.StandaloneSimulationCommand.run(StandaloneSimulationCommand.java:71)\n\tat fr.sncf.osrd.App.main(App.java:44)\n"
     ]
    }
   ],
   "source": [
    "sim.run()"
   ]
  },
  {
   "cell_type": "code",
   "execution_count": 96,
   "metadata": {},
   "outputs": [],
   "source": [
    "import subprocess\n",
    "\n",
    "output = subprocess.call('ls titi', shell=True, stderr=subprocess.PIPE)"
   ]
  },
  {
   "cell_type": "code",
   "execution_count": 97,
   "metadata": {},
   "outputs": [
    {
     "data": {
      "text/plain": [
       "2"
      ]
     },
     "execution_count": 97,
     "metadata": {},
     "output_type": "execute_result"
    }
   ],
   "source": [
    "output"
   ]
  },
  {
   "cell_type": "code",
   "execution_count": null,
   "metadata": {},
   "outputs": [],
   "source": []
  }
 ],
 "metadata": {
  "kernelspec": {
   "display_name": "venv",
   "language": "python",
   "name": "python3"
  },
  "language_info": {
   "codemirror_mode": {
    "name": "ipython",
    "version": 3
   },
   "file_extension": ".py",
   "mimetype": "text/x-python",
   "name": "python",
   "nbconvert_exporter": "python",
   "pygments_lexer": "ipython3",
   "version": "3.10.13"
  },
  "orig_nbformat": 4
 },
 "nbformat": 4,
 "nbformat_minor": 2
}
