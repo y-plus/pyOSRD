{
  "cells": [
    {
      "cell_type": "code",
      "execution_count": 1,
      "metadata": {},
      "outputs": [],
      "source": [
        "%load_ext autoreload\n",
        "%autoreload 2"
      ]
    },
    {
      "cell_type": "code",
      "execution_count": 2,
      "metadata": {},
      "outputs": [],
      "source": [
        "import matplotlib.pyplot as plt"
      ]
    },
    {
      "cell_type": "code",
      "execution_count": 3,
      "metadata": {},
      "outputs": [
        {
          "data": {
            "text/html": [
              "<div>\n",
              "<style scoped>\n",
              "    .dataframe tbody tr th:only-of-type {\n",
              "        vertical-align: middle;\n",
              "    }\n",
              "\n",
              "    .dataframe tbody tr th {\n",
              "        vertical-align: top;\n",
              "    }\n",
              "\n",
              "    .dataframe thead tr th {\n",
              "        text-align: left;\n",
              "    }\n",
              "</style>\n",
              "<table border=\"1\" class=\"dataframe\">\n",
              "  <thead>\n",
              "    <tr>\n",
              "      <th></th>\n",
              "      <th colspan=\"2\" halign=\"left\">0</th>\n",
              "      <th colspan=\"2\" halign=\"left\">1</th>\n",
              "      <th colspan=\"2\" halign=\"left\">2</th>\n",
              "    </tr>\n",
              "    <tr>\n",
              "      <th></th>\n",
              "      <th>s</th>\n",
              "      <th>e</th>\n",
              "      <th>s</th>\n",
              "      <th>e</th>\n",
              "      <th>s</th>\n",
              "      <th>e</th>\n",
              "    </tr>\n",
              "  </thead>\n",
              "  <tbody>\n",
              "    <tr>\n",
              "      <th>0</th>\n",
              "      <td>NaN</td>\n",
              "      <td>NaN</td>\n",
              "      <td>NaN</td>\n",
              "      <td>NaN</td>\n",
              "      <td>NaN</td>\n",
              "      <td>NaN</td>\n",
              "    </tr>\n",
              "    <tr>\n",
              "      <th>1</th>\n",
              "      <td>NaN</td>\n",
              "      <td>NaN</td>\n",
              "      <td>NaN</td>\n",
              "      <td>NaN</td>\n",
              "      <td>NaN</td>\n",
              "      <td>NaN</td>\n",
              "    </tr>\n",
              "    <tr>\n",
              "      <th>2</th>\n",
              "      <td>NaN</td>\n",
              "      <td>NaN</td>\n",
              "      <td>NaN</td>\n",
              "      <td>NaN</td>\n",
              "      <td>NaN</td>\n",
              "      <td>NaN</td>\n",
              "    </tr>\n",
              "    <tr>\n",
              "      <th>3</th>\n",
              "      <td>NaN</td>\n",
              "      <td>NaN</td>\n",
              "      <td>NaN</td>\n",
              "      <td>NaN</td>\n",
              "      <td>NaN</td>\n",
              "      <td>NaN</td>\n",
              "    </tr>\n",
              "    <tr>\n",
              "      <th>4</th>\n",
              "      <td>NaN</td>\n",
              "      <td>NaN</td>\n",
              "      <td>NaN</td>\n",
              "      <td>NaN</td>\n",
              "      <td>NaN</td>\n",
              "      <td>NaN</td>\n",
              "    </tr>\n",
              "    <tr>\n",
              "      <th>5</th>\n",
              "      <td>NaN</td>\n",
              "      <td>NaN</td>\n",
              "      <td>NaN</td>\n",
              "      <td>NaN</td>\n",
              "      <td>NaN</td>\n",
              "      <td>NaN</td>\n",
              "    </tr>\n",
              "    <tr>\n",
              "      <th>6</th>\n",
              "      <td>NaN</td>\n",
              "      <td>NaN</td>\n",
              "      <td>NaN</td>\n",
              "      <td>NaN</td>\n",
              "      <td>NaN</td>\n",
              "      <td>NaN</td>\n",
              "    </tr>\n",
              "    <tr>\n",
              "      <th>7</th>\n",
              "      <td>NaN</td>\n",
              "      <td>NaN</td>\n",
              "      <td>NaN</td>\n",
              "      <td>NaN</td>\n",
              "      <td>NaN</td>\n",
              "      <td>NaN</td>\n",
              "    </tr>\n",
              "    <tr>\n",
              "      <th>8</th>\n",
              "      <td>NaN</td>\n",
              "      <td>NaN</td>\n",
              "      <td>NaN</td>\n",
              "      <td>NaN</td>\n",
              "      <td>NaN</td>\n",
              "      <td>NaN</td>\n",
              "    </tr>\n",
              "    <tr>\n",
              "      <th>9</th>\n",
              "      <td>NaN</td>\n",
              "      <td>NaN</td>\n",
              "      <td>NaN</td>\n",
              "      <td>NaN</td>\n",
              "      <td>NaN</td>\n",
              "      <td>NaN</td>\n",
              "    </tr>\n",
              "  </tbody>\n",
              "</table>\n",
              "</div>"
            ],
            "text/plain": [
              "     0         1         2     \n",
              "     s    e    s    e    s    e\n",
              "0  NaN  NaN  NaN  NaN  NaN  NaN\n",
              "1  NaN  NaN  NaN  NaN  NaN  NaN\n",
              "2  NaN  NaN  NaN  NaN  NaN  NaN\n",
              "3  NaN  NaN  NaN  NaN  NaN  NaN\n",
              "4  NaN  NaN  NaN  NaN  NaN  NaN\n",
              "5  NaN  NaN  NaN  NaN  NaN  NaN\n",
              "6  NaN  NaN  NaN  NaN  NaN  NaN\n",
              "7  NaN  NaN  NaN  NaN  NaN  NaN\n",
              "8  NaN  NaN  NaN  NaN  NaN  NaN\n",
              "9  NaN  NaN  NaN  NaN  NaN  NaN"
            ]
          },
          "execution_count": 3,
          "metadata": {},
          "output_type": "execute_result"
        }
      ],
      "source": [
        "from pyosrd.schedules import Schedule\n",
        "schedule = Schedule(10,3)\n",
        "schedule.df"
      ]
    },
    {
      "cell_type": "code",
      "execution_count": 4,
      "metadata": {},
      "outputs": [],
      "source": [
        "schedule._df.index=[\n",
        "    \"S1\",\n",
        "    \"S2\",\n",
        "    \"CVG1\",\n",
        "    \"T1\",\n",
        "    \"S3\",\n",
        "    \"CVG2\",\n",
        "    \"T2\",\n",
        "    \"DVG\",\n",
        "    \"A1\",\n",
        "    \"A2\"\n",
        "]"
      ]
    },
    {
      "cell_type": "code",
      "execution_count": 5,
      "metadata": {},
      "outputs": [
        {
          "data": {
            "text/plain": [
              "        0         1         2     \n",
              "        s    e    s    e    s    e\n",
              "S1    NaN  NaN  NaN  NaN  NaN  NaN\n",
              "S2    NaN  NaN  NaN  NaN  NaN  NaN\n",
              "CVG1  NaN  NaN  NaN  NaN  NaN  NaN\n",
              "T1    NaN  NaN  NaN  NaN  NaN  NaN\n",
              "S3    NaN  NaN  NaN  NaN  NaN  NaN\n",
              "CVG2  NaN  NaN  NaN  NaN  NaN  NaN\n",
              "T2    NaN  NaN  NaN  NaN  NaN  NaN\n",
              "DVG   NaN  NaN  NaN  NaN  NaN  NaN\n",
              "A1    NaN  NaN  NaN  NaN  NaN  NaN\n",
              "A2    NaN  NaN  NaN  NaN  NaN  NaN"
            ]
          },
          "execution_count": 5,
          "metadata": {},
          "output_type": "execute_result"
        }
      ],
      "source": [
        "schedule"
      ]
    },
    {
      "cell_type": "code",
      "execution_count": 6,
      "metadata": {},
      "outputs": [],
      "source": [
        "schedule.df.at['S1', 0] =  [0, 1]\n",
        "schedule.df.at['CVG1', 0] = [1, 2]\n",
        "schedule.df.at['T1', 0] =  [2, 4]\n",
        "schedule.df.at['CVG2', 0] =  [4, 5]\n",
        "schedule.df.at['T2', 0] =  [5, 7]\n",
        "schedule.df.at['DVG', 0] =  [7, 8]\n",
        "schedule.df.at['A1', 0] =  [8, 9]\n",
        "\n",
        "schedule.df.at['S2', 2] =  [4, 5]\n",
        "schedule.df.at['CVG1', 2] = [5, 6]\n",
        "schedule.df.at['T1', 2] =  [6, 8]\n",
        "schedule.df.at['CVG2', 2] =  [8, 9]\n",
        "schedule.df.at['T2', 2] =  [9, 11]\n",
        "schedule.df.at['DVG', 2] =  [11, 12]\n",
        "schedule.df.at['A2', 2] =  [12, 13]\n",
        "\n",
        "\n",
        "schedule.df.at['S3', 1] =  [5,6]\n",
        "schedule.df.at['CVG2', 1] =  [6, 7]\n",
        "schedule.df.at['T2', 1] =  [7, 9]\n",
        "schedule.df.at['DVG', 1] =  [9, 11]\n",
        "schedule.df.at['A1', 1] =  [11, 12]\n"
      ]
    },
    {
      "cell_type": "code",
      "execution_count": 7,
      "metadata": {},
      "outputs": [
        {
          "data": {
            "text/html": [
              "<img src=\"https://mermaid.ink/img/Z3JhcGggTFI7Q1ZHMS0tPlQxO1QxLS0+Q1ZHMjtDVkcyLS0+VDI7UzMtLT5DVkcyO1QyLS0+RFZHO0RWRy0tPkExO0RWRy0tPkEyO1MxLS0+Q1ZHMTtTMi0tPkNWRzE=\"/>"
            ],
            "text/plain": [
              "<IPython.core.display.Image object>"
            ]
          },
          "execution_count": 7,
          "metadata": {},
          "output_type": "execute_result"
        }
      ],
      "source": [
        "schedule.draw_graph()"
      ]
    },
    {
      "cell_type": "code",
      "execution_count": 8,
      "metadata": {},
      "outputs": [
        {
          "data": {
            "text/plain": [
              "<Axes: xlabel='Time', ylabel='Track sections'>"
            ]
          },
          "execution_count": 8,
          "metadata": {},
          "output_type": "execute_result"
        },
        {
          "data": {
            "image/png": "[encoded data removed]",
            "text/plain": [
              "<Figure size 640x480 with 1 Axes>"
            ]
          },
          "metadata": {},
          "output_type": "display_data"
        }
      ],
      "source": [
        "schedule.plot()"
      ]
    },
    {
      "cell_type": "code",
      "execution_count": 9,
      "metadata": {},
      "outputs": [
        {
          "ename": "ModuleNotFoundError",
          "evalue": "No module named 'gymnasium'",
          "output_type": "error",
          "traceback": [
            "\u001b[0;31m---------------------------------------------------------------------------\u001b[0m",
            "\u001b[0;31mModuleNotFoundError\u001b[0m                       Traceback (most recent call last)",
            "Cell \u001b[0;32mIn[9], line 1\u001b[0m\n\u001b[0;32m----> 1\u001b[0m \u001b[39mfrom\u001b[39;00m \u001b[39mpyosrd\u001b[39;00m\u001b[39m.\u001b[39;00m\u001b[39mregul_env\u001b[39;00m \u001b[39mimport\u001b[39;00m RegulEnv\n\u001b[1;32m      3\u001b[0m env \u001b[39m=\u001b[39m RegulEnv(schedule\u001b[39m.\u001b[39msort(), stations\u001b[39m=\u001b[39m[\u001b[39m'\u001b[39m\u001b[39mA1\u001b[39m\u001b[39m'\u001b[39m, \u001b[39m'\u001b[39m\u001b[39mA2\u001b[39m\u001b[39m'\u001b[39m])\n",
            "File \u001b[0;32m~/RLway/src/pyosrd/regul_env.py:4\u001b[0m\n\u001b[1;32m      1\u001b[0m \u001b[39mfrom\u001b[39;00m \u001b[39mtyping\u001b[39;00m \u001b[39mimport\u001b[39;00m List\n\u001b[1;32m      3\u001b[0m \u001b[39mimport\u001b[39;00m \u001b[39mnumpy\u001b[39;00m \u001b[39mas\u001b[39;00m \u001b[39mnp\u001b[39;00m\n\u001b[0;32m----> 4\u001b[0m \u001b[39mimport\u001b[39;00m \u001b[39mgymnasium\u001b[39;00m \u001b[39mas\u001b[39;00m \u001b[39mgym\u001b[39;00m\n\u001b[1;32m      5\u001b[0m \u001b[39mfrom\u001b[39;00m \u001b[39mgymnasium\u001b[39;00m \u001b[39mimport\u001b[39;00m spaces\n\u001b[1;32m      7\u001b[0m \u001b[39mfrom\u001b[39;00m \u001b[39mpyosrd\u001b[39;00m\u001b[39m.\u001b[39;00m\u001b[39mschedules\u001b[39;00m \u001b[39mimport\u001b[39;00m Schedule\n",
            "\u001b[0;31mModuleNotFoundError\u001b[0m: No module named 'gymnasium'"
          ]
        }
      ],
      "source": [
        "from pyosrd.regul_env import RegulEnv\n",
        "\n",
        "env = RegulEnv(schedule.sort(), stations=['A1', 'A2'])"
      ]
    },
    {
      "cell_type": "code",
      "execution_count": null,
      "metadata": {},
      "outputs": [],
      "source": [
        "from typing import Tuple, Union\n",
        "import numpy as np\n",
        "\n"
      ]
    },
    {
      "cell_type": "code",
      "execution_count": null,
      "metadata": {},
      "outputs": [
        {
          "data": {
            "image/png": "[encoded data removed]",
            "text/plain": [
              "<Figure size 640x480 with 1 Axes>"
            ]
          },
          "metadata": {},
          "output_type": "display_data"
        }
      ],
      "source": [
        "# tests from 0. to 3. on trains 0 & 1\n",
        "\n",
        "env.reset(delay=1.9, train=0, track_section='S1')\n",
        "env.render()\n",
        "plt.title(f\"{env.schedule.earliest_conflict()}\"\n",
        "           f\" D={env.schedule.total_delay_at_stations(schedule,['A1', 'A2']):.2f}\"\n",
        "           f\" Done={env._done}\");"
      ]
    },
    {
      "cell_type": "code",
      "execution_count": null,
      "metadata": {},
      "outputs": [
        {
          "data": {
            "image/png": "[encoded data removed]",
            "text/plain": [
              "<Figure size 640x480 with 1 Axes>"
            ]
          },
          "metadata": {},
          "output_type": "display_data"
        }
      ],
      "source": [
        "obs, reward, done, _ = env.step(0)\n",
        "env.render()\n",
        "plt.title(f\"{env.schedule.earliest_conflict()}\"\n",
        "           f\" {reward:.2f}\"\n",
        "           f\" {done}\");"
      ]
    },
    {
      "cell_type": "code",
      "execution_count": null,
      "metadata": {},
      "outputs": [],
      "source": []
    }
  ],
  "metadata": {
    "kernelspec": {
      "display_name": "venv",
      "language": "python",
      "name": "python3"
    },
    "language_info": {
      "codemirror_mode": {
        "name": "ipython",
        "version": 3
      },
      "file_extension": ".py",
      "mimetype": "text/x-python",
      "name": "python",
      "nbconvert_exporter": "python",
      "pygments_lexer": "ipython3",
      "version": "3.10.12"
    },
    "orig_nbformat": 4
  },
  "nbformat": 4,
  "nbformat_minor": 2
}
