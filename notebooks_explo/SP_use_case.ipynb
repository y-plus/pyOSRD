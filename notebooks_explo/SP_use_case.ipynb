{
 "cells": [
  {
   "cell_type": "code",
   "execution_count": 1,
   "metadata": {},
   "outputs": [],
   "source": [
    "%load_ext autoreload\n",
    "%autoreload 2"
   ]
  },
  {
   "cell_type": "code",
   "execution_count": 2,
   "metadata": {},
   "outputs": [
    {
     "data": {
      "text/plain": [
       "['c1',\n",
       " 'c1_with_blocks',\n",
       " 'c1y2',\n",
       " 'c2x2',\n",
       " 'c2xx2',\n",
       " 'c2y13s',\n",
       " 'c2y1sy2sy1s',\n",
       " 'c2y1y2',\n",
       " 'c2z2z2',\n",
       " 'c3y1',\n",
       " 'c3yy1yy3',\n",
       " 'cvg_dvg',\n",
       " 'point_switch',\n",
       " 'station_capacity2',\n",
       " 'straight_line']"
      ]
     },
     "execution_count": 2,
     "metadata": {},
     "output_type": "execute_result"
    }
   ],
   "source": [
    "from rlway.pyosrd import OSRD\n",
    "OSRD.use_cases"
   ]
  },
  {
   "cell_type": "code",
   "execution_count": 3,
   "metadata": {},
   "outputs": [
    {
     "ename": "ValueError",
     "evalue": "c2y1y2y is not a valid use case name.",
     "output_type": "error",
     "traceback": [
      "\u001b[0;31m---------------------------------------------------------------------------\u001b[0m",
      "\u001b[0;31mValueError\u001b[0m                                Traceback (most recent call last)",
      "Cell \u001b[0;32mIn[3], line 2\u001b[0m\n\u001b[1;32m      1\u001b[0m use_case\u001b[38;5;241m=\u001b[39m\u001b[38;5;124m'\u001b[39m\u001b[38;5;124mc2y1y2y\u001b[39m\u001b[38;5;124m'\u001b[39m\n\u001b[0;32m----> 2\u001b[0m sim \u001b[38;5;241m=\u001b[39m \u001b[43mOSRD\u001b[49m\u001b[43m(\u001b[49m\u001b[43muse_case\u001b[49m\u001b[38;5;241;43m=\u001b[39;49m\u001b[43muse_case\u001b[49m\u001b[43m,\u001b[49m\u001b[43m \u001b[49m\u001b[38;5;28;43mdir\u001b[39;49m\u001b[38;5;241;43m=\u001b[39;49m\u001b[38;5;124;43m'\u001b[39;49m\u001b[38;5;124;43mtmp\u001b[39;49m\u001b[38;5;124;43m'\u001b[39;49m\u001b[43m)\u001b[49m\n",
      "File \u001b[0;32m<string>:9\u001b[0m, in \u001b[0;36m__init__\u001b[0;34m(self, dir, use_case, infra_json, simulation_json, results_json, delays_json)\u001b[0m\n",
      "File \u001b[0;32m~/dev/python/RLway/.venv/lib/python3.10/site-packages/rlway/pyosrd/osrd.py:97\u001b[0m, in \u001b[0;36mOSRD.__post_init__\u001b[0;34m(self)\u001b[0m\n\u001b[1;32m     94\u001b[0m \u001b[38;5;28;01mif\u001b[39;00m \u001b[38;5;28mself\u001b[39m\u001b[38;5;241m.\u001b[39muse_case:\n\u001b[1;32m     96\u001b[0m     \u001b[38;5;28;01mif\u001b[39;00m \u001b[38;5;28mself\u001b[39m\u001b[38;5;241m.\u001b[39muse_case \u001b[38;5;129;01mnot\u001b[39;00m \u001b[38;5;129;01min\u001b[39;00m \u001b[38;5;28mself\u001b[39m\u001b[38;5;241m.\u001b[39muse_cases:\n\u001b[0;32m---> 97\u001b[0m         \u001b[38;5;28;01mraise\u001b[39;00m \u001b[38;5;167;01mValueError\u001b[39;00m(\n\u001b[1;32m     98\u001b[0m             \u001b[38;5;124mf\u001b[39m\u001b[38;5;124m\"\u001b[39m\u001b[38;5;132;01m{\u001b[39;00m\u001b[38;5;28mself\u001b[39m\u001b[38;5;241m.\u001b[39muse_case\u001b[38;5;132;01m}\u001b[39;00m\u001b[38;5;124m is not a valid use case name.\u001b[39m\u001b[38;5;124m\"\u001b[39m\n\u001b[1;32m     99\u001b[0m         )\n\u001b[1;32m    101\u001b[0m     module \u001b[38;5;241m=\u001b[39m importlib\u001b[38;5;241m.\u001b[39mimport_module(\n\u001b[1;32m    102\u001b[0m         \u001b[38;5;124mf\u001b[39m\u001b[38;5;124m\"\u001b[39m\u001b[38;5;124m.\u001b[39m\u001b[38;5;132;01m{\u001b[39;00m\u001b[38;5;28mself\u001b[39m\u001b[38;5;241m.\u001b[39muse_case\u001b[38;5;132;01m}\u001b[39;00m\u001b[38;5;124m\"\u001b[39m,\n\u001b[1;32m    103\u001b[0m         \u001b[38;5;124m\"\u001b[39m\u001b[38;5;124mrlway.pyosrd.use_cases\u001b[39m\u001b[38;5;124m\"\u001b[39m\n\u001b[1;32m    104\u001b[0m     )\n\u001b[1;32m    105\u001b[0m     function \u001b[38;5;241m=\u001b[39m \u001b[38;5;28mgetattr\u001b[39m(module, \u001b[38;5;28mself\u001b[39m\u001b[38;5;241m.\u001b[39muse_case)\n",
      "\u001b[0;31mValueError\u001b[0m: c2y1y2y is not a valid use case name."
     ]
    }
   ],
   "source": [
    "use_case='c2y1y2y'\n",
    "sim = OSRD(use_case=use_case, dir='tmp')"
   ]
  },
  {
   "cell_type": "code",
   "execution_count": null,
   "metadata": {},
   "outputs": [],
   "source": [
    "sim.draw_infra_points()"
   ]
  },
  {
   "cell_type": "code",
   "execution_count": null,
   "metadata": {},
   "outputs": [],
   "source": [
    "sim.space_time_chart_plotly(train=0)"
   ]
  },
  {
   "cell_type": "code",
   "execution_count": null,
   "metadata": {},
   "outputs": [],
   "source": [
    "from rlway.schedules import schedule_from_osrd"
   ]
  },
  {
   "cell_type": "code",
   "execution_count": null,
   "metadata": {},
   "outputs": [],
   "source": [
    "s = schedule_from_osrd(sim, eco_or_base='base')\n",
    "ax = s.plot()\n",
    "# ax.invert_yaxis()\n",
    "# ax.legend('')\n",
    "s.df"
   ]
  },
  {
   "cell_type": "code",
   "execution_count": null,
   "metadata": {},
   "outputs": [],
   "source": [
    "s.draw_graph()"
   ]
  },
  {
   "cell_type": "code",
   "execution_count": null,
   "metadata": {},
   "outputs": [],
   "source": [
    "# sim = use_case_station_capacity2\n",
    "sim.reset_delays()\n",
    "sim.add_delay('train0', time_threshold=10, delay=120.)\n",
    "delayed = sim.delayed()\n",
    "\n",
    "s = schedule_from_osrd(delayed, eco_or_base='base')\n",
    "ax = s.plot()"
   ]
  },
  {
   "cell_type": "code",
   "execution_count": null,
   "metadata": {},
   "outputs": [],
   "source": [
    "from rlway.pyosrd.scheduler_agent import SchedulerAgent\n",
    "import pandas as pd\n",
    "from dataclasses import dataclass"
   ]
  },
  {
   "cell_type": "code",
   "execution_count": null,
   "metadata": {},
   "outputs": [],
   "source": [
    "\n",
    "class DummySchedulerAgent(SchedulerAgent):\n",
    "    @property\n",
    "    def steps_extra_delays(self) -> pd.DataFrame:\n",
    "        \"\"\"As an example, make train1 stop 60s more at station\"\"\"\n",
    "        extra_delays = self.initial_schedule.durations * 0.\n",
    "        extra_delays.iloc[3][1] = 60.\n",
    "        return extra_delays\n",
    "\n",
    "@dataclass\n",
    "class AddStop(SchedulerAgent):\n",
    "    train: int = 0\n",
    "    zone: str = \"\"\n",
    "    duration: float = 0.\n",
    "\n",
    "    @property\n",
    "    def steps_extra_delays(self) -> pd.DataFrame:\n",
    "        \"\"\"Make the train stop at the given position for the given duration\"\"\"\n",
    "        extra_delays = self.initial_schedule.durations * 0.\n",
    "        extra_delays.loc[self.zone][self.train] = self.duration\n",
    "\n",
    "        return extra_delays\n"
   ]
  },
  {
   "cell_type": "code",
   "execution_count": null,
   "metadata": {},
   "outputs": [],
   "source": [
    "agent = AddStop('addstop', train=0, zone='D0<->buffer_stop.0', duration=50.)\n",
    "agent.set_schedules_from_osrd(sim)\n",
    "\n",
    "agent.initial_schedule.plot()\n",
    "agent.delayed_schedule.plot()\n",
    "agent.regulated_schedule.plot()\n"
   ]
  },
  {
   "cell_type": "code",
   "execution_count": null,
   "metadata": {},
   "outputs": [],
   "source": [
    "from rlway_cpagent.ortools_agent.ortools_agent import OrtoolsAgent"
   ]
  },
  {
   "cell_type": "code",
   "execution_count": null,
   "metadata": {},
   "outputs": [],
   "source": [
    "regulated = delayed.regulate(agent=OrtoolsAgent(\"cp_agent\"))"
   ]
  },
  {
   "cell_type": "code",
   "execution_count": null,
   "metadata": {},
   "outputs": [],
   "source": [
    "regulated_schedule = schedule_from_osrd(regulated)"
   ]
  }
 ],
 "metadata": {
  "kernelspec": {
   "display_name": ".venv",
   "language": "python",
   "name": "python3"
  },
  "language_info": {
   "codemirror_mode": {
    "name": "ipython",
    "version": 3
   },
   "file_extension": ".py",
   "mimetype": "text/x-python",
   "name": "python",
   "nbconvert_exporter": "python",
   "pygments_lexer": "ipython3",
   "version": "3.10.12"
  }
 },
 "nbformat": 4,
 "nbformat_minor": 2
}
