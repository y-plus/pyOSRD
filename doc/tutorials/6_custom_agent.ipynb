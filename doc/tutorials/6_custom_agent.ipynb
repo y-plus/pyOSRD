{
 "cells": [
  {
   "cell_type": "markdown",
   "metadata": {},
   "source": [
    "# Tutorial pyOSRD #6\n",
    "Creating custom agent"
   ]
  },
  {
   "cell_type": "code",
   "execution_count": 1,
   "metadata": {},
   "outputs": [],
   "source": [
    "from pyosrd.agents.scheduler_agent import SchedulerAgent\n",
    "import pandas as pd\n",
    "from dataclasses import dataclass"
   ]
  },
  {
   "cell_type": "markdown",
   "metadata": {},
   "source": [
    "## Creating a dumb agent\n",
    "Create an agent that add 60 seconds of delay at the second zone the first train go throught."
   ]
  },
  {
   "cell_type": "code",
   "execution_count": 2,
   "metadata": {},
   "outputs": [],
   "source": [
    "\n",
    "class DumbSchedulerAgent(SchedulerAgent):\n",
    "    @property\n",
    "    def steps_extra_delays(self) -> pd.DataFrame:\n",
    "        \"\"\"As an example, make train1 stop 60s more in second zone\"\"\"\n",
    "        extra_delays = self.ref_schedule.durations * 0.\n",
    "        extra_delays.iloc[0, 1] = 60.\n",
    "        return extra_delays\n"
   ]
  },
  {
   "cell_type": "markdown",
   "metadata": {},
   "source": [
    "## Test our agent on all scenarii\n",
    "We can launch our custom agent on all scenarii implemented in the module OSRD.scenarii."
   ]
  },
  {
   "cell_type": "code",
   "execution_count": 3,
   "metadata": {},
   "outputs": [
    {
     "name": "stdout",
     "output_type": "stream",
     "text": [
      "[09:39:46,020] \u001b[34m[INFO] \u001b[0;39m [StandaloneSimulationCommand] Loading infra: tmp/infra.json\n",
      "[09:39:46,060] \u001b[34m[INFO] \u001b[0;39m             [FullInfra] parsing infra\n",
      "[09:39:46,193] \u001b[34m[INFO] \u001b[0;39m             [FullInfra] adaptation to kotlin\n",
      "[09:39:46,239] \u001b[34m[INFO] \u001b[0;39m             [FullInfra] loading signals\n",
      "[09:39:46,253] \u001b[34m[INFO] \u001b[0;39m             [FullInfra] building blocks\n",
      "[09:39:46,258] \u001b[34m[INFO] \u001b[0;39m [StandaloneSimulationCommand] Loading input: tmp/simulation.json\n",
      "[09:39:46,290] \u001b[34m[INFO] \u001b[0;39m [StandaloneSimulationCommand] Running simulation for schedule group: group.0\n",
      "[09:39:46,394] \u001b[39m[DEBUG]\u001b[0;39m             [Allowance] computing range n°1\n",
      "[09:39:46,398] \u001b[39m[DEBUG]\u001b[0;39m             [Allowance]   computing section n°1\n",
      "[09:39:46,399] \u001b[39m[DEBUG]\u001b[0;39m             [Allowance]   target time = 310.84094999999996\n",
      "[09:39:46,400] \u001b[39m[DEBUG]\u001b[0;39m             [Allowance]     starting attempt 1\n",
      "[09:39:46,404] \u001b[39m[DEBUG]\u001b[0;39m             [Allowance]     envelope time 518.958\n",
      "[09:39:46,405] \u001b[39m[DEBUG]\u001b[0;39m             [Allowance]     starting attempt 2\n",
      "[09:39:46,406] \u001b[39m[DEBUG]\u001b[0;39m             [Allowance]     envelope time 377.006\n",
      "[09:39:46,406] \u001b[39m[DEBUG]\u001b[0;39m             [Allowance]     starting attempt 3\n",
      "[09:39:46,407] \u001b[39m[DEBUG]\u001b[0;39m             [Allowance]     envelope time 331.565\n",
      "[09:39:46,407] \u001b[39m[DEBUG]\u001b[0;39m             [Allowance]     starting attempt 4\n",
      "[09:39:46,408] \u001b[39m[DEBUG]\u001b[0;39m             [Allowance]     envelope time 312.766\n",
      "[09:39:46,414] \u001b[34m[INFO] \u001b[0;39m [StandaloneSimulationCommand] Running simulation for schedule group: group.1\n",
      "[09:39:46,420] \u001b[39m[DEBUG]\u001b[0;39m             [Allowance] computing range n°1\n",
      "[09:39:46,420] \u001b[39m[DEBUG]\u001b[0;39m             [Allowance]   computing section n°1\n",
      "[09:39:46,420] \u001b[39m[DEBUG]\u001b[0;39m             [Allowance]   target time = 310.84094999999996\n",
      "[09:39:46,420] \u001b[39m[DEBUG]\u001b[0;39m             [Allowance]     starting attempt 1\n",
      "[09:39:46,421] \u001b[39m[DEBUG]\u001b[0;39m             [Allowance]     envelope time 518.958\n",
      "[09:39:46,421] \u001b[39m[DEBUG]\u001b[0;39m             [Allowance]     starting attempt 2\n",
      "[09:39:46,421] \u001b[39m[DEBUG]\u001b[0;39m             [Allowance]     envelope time 377.006\n",
      "[09:39:46,421] \u001b[39m[DEBUG]\u001b[0;39m             [Allowance]     starting attempt 3\n",
      "[09:39:46,421] \u001b[39m[DEBUG]\u001b[0;39m             [Allowance]     envelope time 331.565\n",
      "[09:39:46,421] \u001b[39m[DEBUG]\u001b[0;39m             [Allowance]     starting attempt 4\n",
      "[09:39:46,421] \u001b[39m[DEBUG]\u001b[0;39m             [Allowance]     envelope time 312.766\n",
      "[09:39:46,422] \u001b[34m[INFO] \u001b[0;39m [StandaloneSimulationCommand] All simulations completed\n",
      "[09:39:46,422] \u001b[34m[INFO] \u001b[0;39m [StandaloneSimulationCommand] Saving results at: tmp/results.json\n",
      "[09:39:46,746] \u001b[34m[INFO] \u001b[0;39m [StandaloneSimulationCommand] Loading infra: tmp/infra.json\n",
      "[09:39:46,786] \u001b[34m[INFO] \u001b[0;39m             [FullInfra] parsing infra\n",
      "[09:39:46,856] \u001b[34m[INFO] \u001b[0;39m             [FullInfra] adaptation to kotlin\n",
      "[09:39:46,887] \u001b[34m[INFO] \u001b[0;39m             [FullInfra] loading signals\n",
      "[09:39:46,893] \u001b[34m[INFO] \u001b[0;39m             [FullInfra] building blocks\n",
      "[09:39:46,899] \u001b[34m[INFO] \u001b[0;39m [StandaloneSimulationCommand] Loading input: tmp/simulation.json\n",
      "[09:39:46,913] \u001b[34m[INFO] \u001b[0;39m [StandaloneSimulationCommand] Running simulation for schedule group: group.0\n",
      "[09:39:46,985] \u001b[39m[DEBUG]\u001b[0;39m             [Allowance] computing range n°1\n",
      "[09:39:46,988] \u001b[39m[DEBUG]\u001b[0;39m             [Allowance]   computing section n°1\n",
      "[09:39:46,988] \u001b[39m[DEBUG]\u001b[0;39m             [Allowance]   target time = 310.84094999999996\n",
      "[09:39:46,988] \u001b[39m[DEBUG]\u001b[0;39m             [Allowance]     starting attempt 1\n",
      "[09:39:46,991] \u001b[39m[DEBUG]\u001b[0;39m             [Allowance]     envelope time 518.958\n",
      "[09:39:46,991] \u001b[39m[DEBUG]\u001b[0;39m             [Allowance]     starting attempt 2\n",
      "[09:39:46,991] \u001b[39m[DEBUG]\u001b[0;39m             [Allowance]     envelope time 377.006\n",
      "[09:39:46,991] \u001b[39m[DEBUG]\u001b[0;39m             [Allowance]     starting attempt 3\n",
      "[09:39:46,992] \u001b[39m[DEBUG]\u001b[0;39m             [Allowance]     envelope time 331.565\n",
      "[09:39:46,992] \u001b[39m[DEBUG]\u001b[0;39m             [Allowance]     starting attempt 4\n",
      "[09:39:46,993] \u001b[39m[DEBUG]\u001b[0;39m             [Allowance]     envelope time 312.766\n",
      "[09:39:47,000] \u001b[34m[INFO] \u001b[0;39m [StandaloneSimulationCommand] Running simulation for schedule group: group.1\n",
      "[09:39:47,004] \u001b[39m[DEBUG]\u001b[0;39m             [Allowance] computing range n°1\n",
      "[09:39:47,004] \u001b[39m[DEBUG]\u001b[0;39m             [Allowance]   computing section n°1\n",
      "[09:39:47,005] \u001b[39m[DEBUG]\u001b[0;39m             [Allowance]   target time = 310.84094999999996\n",
      "[09:39:47,005] \u001b[39m[DEBUG]\u001b[0;39m             [Allowance]     starting attempt 1\n",
      "[09:39:47,005] \u001b[39m[DEBUG]\u001b[0;39m             [Allowance]     envelope time 518.958\n",
      "[09:39:47,005] \u001b[39m[DEBUG]\u001b[0;39m             [Allowance]     starting attempt 2\n",
      "[09:39:47,005] \u001b[39m[DEBUG]\u001b[0;39m             [Allowance]     envelope time 377.006\n",
      "[09:39:47,005] \u001b[39m[DEBUG]\u001b[0;39m             [Allowance]     starting attempt 3\n",
      "[09:39:47,005] \u001b[39m[DEBUG]\u001b[0;39m             [Allowance]     envelope time 331.565\n",
      "[09:39:47,005] \u001b[39m[DEBUG]\u001b[0;39m             [Allowance]     starting attempt 4\n",
      "[09:39:47,005] \u001b[39m[DEBUG]\u001b[0;39m             [Allowance]     envelope time 312.766\n",
      "[09:39:47,006] \u001b[34m[INFO] \u001b[0;39m [StandaloneSimulationCommand] All simulations completed\n",
      "[09:39:47,007] \u001b[34m[INFO] \u001b[0;39m [StandaloneSimulationCommand] Saving results at: tmp/results.json\n"
     ]
    },
    {
     "ename": "AttributeError",
     "evalue": "'Schedule' object has no attribute 'compute_weighted_delay'",
     "output_type": "error",
     "traceback": [
      "\u001b[0;31m---------------------------------------------------------------------------\u001b[0m",
      "\u001b[0;31mAttributeError\u001b[0m                            Traceback (most recent call last)",
      "Cell \u001b[0;32mIn[3], line 12\u001b[0m\n\u001b[1;32m      5\u001b[0m agent \u001b[38;5;241m=\u001b[39m DumbSchedulerAgent(\u001b[38;5;124m\"\u001b[39m\u001b[38;5;124mdumb\u001b[39m\u001b[38;5;124m\"\u001b[39m)\n\u001b[1;32m      7\u001b[0m indicator_function \u001b[38;5;241m=\u001b[39m (\n\u001b[1;32m      8\u001b[0m     \u001b[38;5;28;01mlambda\u001b[39;00m schedule, ref, sim:\n\u001b[1;32m      9\u001b[0m     schedule\u001b[38;5;241m.\u001b[39mcompute_weighted_delay(ref, all_steps(sim))\n\u001b[1;32m     10\u001b[0m )\n\u001b[0;32m---> 12\u001b[0m \u001b[43mregulate_scenarii_with_agents\u001b[49m\u001b[43m(\u001b[49m\u001b[38;5;124;43m\"\u001b[39;49m\u001b[38;5;124;43mall\u001b[39;49m\u001b[38;5;124;43m\"\u001b[39;49m\u001b[43m,\u001b[49m\u001b[43m \u001b[49m\u001b[43magent\u001b[49m\u001b[43m,\u001b[49m\u001b[43m \u001b[49m\u001b[43mindicator_function\u001b[49m\u001b[43m)\u001b[49m\n",
      "File \u001b[0;32m~/dev/python/pyOSRD/src/pyosrd/agents/scheduler_agent.py:273\u001b[0m, in \u001b[0;36mregulate_scenarii_with_agents\u001b[0;34m(scenarii, agents, indicator_function)\u001b[0m\n\u001b[1;32m    270\u001b[0m \u001b[38;5;28;01mif\u001b[39;00m \u001b[38;5;28misinstance\u001b[39m(agents, SchedulerAgent):\n\u001b[1;32m    271\u001b[0m     agents \u001b[38;5;241m=\u001b[39m [agents]\n\u001b[0;32m--> 273\u001b[0m data \u001b[38;5;241m=\u001b[39m [\n\u001b[1;32m    274\u001b[0m     agent\u001b[38;5;241m.\u001b[39mregulate_scenarii(scenarii, indicator_function)\n\u001b[1;32m    275\u001b[0m     \u001b[38;5;28;01mfor\u001b[39;00m agent \u001b[38;5;129;01min\u001b[39;00m agents\n\u001b[1;32m    276\u001b[0m ]\n\u001b[1;32m    277\u001b[0m \u001b[38;5;28;01mreturn\u001b[39;00m pd\u001b[38;5;241m.\u001b[39mconcat(data, axis\u001b[38;5;241m=\u001b[39m\u001b[38;5;241m1\u001b[39m)\n",
      "File \u001b[0;32m~/dev/python/pyOSRD/src/pyosrd/agents/scheduler_agent.py:274\u001b[0m, in \u001b[0;36m<listcomp>\u001b[0;34m(.0)\u001b[0m\n\u001b[1;32m    270\u001b[0m \u001b[38;5;28;01mif\u001b[39;00m \u001b[38;5;28misinstance\u001b[39m(agents, SchedulerAgent):\n\u001b[1;32m    271\u001b[0m     agents \u001b[38;5;241m=\u001b[39m [agents]\n\u001b[1;32m    273\u001b[0m data \u001b[38;5;241m=\u001b[39m [\n\u001b[0;32m--> 274\u001b[0m     \u001b[43magent\u001b[49m\u001b[38;5;241;43m.\u001b[39;49m\u001b[43mregulate_scenarii\u001b[49m\u001b[43m(\u001b[49m\u001b[43mscenarii\u001b[49m\u001b[43m,\u001b[49m\u001b[43m \u001b[49m\u001b[43mindicator_function\u001b[49m\u001b[43m)\u001b[49m\n\u001b[1;32m    275\u001b[0m     \u001b[38;5;28;01mfor\u001b[39;00m agent \u001b[38;5;129;01min\u001b[39;00m agents\n\u001b[1;32m    276\u001b[0m ]\n\u001b[1;32m    277\u001b[0m \u001b[38;5;28;01mreturn\u001b[39;00m pd\u001b[38;5;241m.\u001b[39mconcat(data, axis\u001b[38;5;241m=\u001b[39m\u001b[38;5;241m1\u001b[39m)\n",
      "File \u001b[0;32m~/dev/python/pyOSRD/src/pyosrd/agents/scheduler_agent.py:218\u001b[0m, in \u001b[0;36mSchedulerAgent.regulate_scenarii\u001b[0;34m(self, scenarii, indicator_function)\u001b[0m\n\u001b[1;32m    176\u001b[0m \u001b[38;5;28;01mdef\u001b[39;00m \u001b[38;5;21mregulate_scenarii\u001b[39m(\n\u001b[1;32m    177\u001b[0m     \u001b[38;5;28mself\u001b[39m,\n\u001b[1;32m    178\u001b[0m     scenarii: \u001b[38;5;28mlist\u001b[39m[\u001b[38;5;28mstr\u001b[39m],\n\u001b[1;32m    179\u001b[0m     indicator_function: Callable[[Schedule, Schedule, OSRD], pd\u001b[38;5;241m.\u001b[39mDataFrame],\n\u001b[1;32m    180\u001b[0m ) \u001b[38;5;241m-\u001b[39m\u001b[38;5;241m>\u001b[39m pd\u001b[38;5;241m.\u001b[39mDataFrame:\n\u001b[1;32m    181\u001b[0m \u001b[38;5;250m    \u001b[39m\u001b[38;5;124;03m\"\"\"Regulates a list of scenarii using a given agent.\u001b[39;00m\n\u001b[1;32m    182\u001b[0m \n\u001b[1;32m    183\u001b[0m \u001b[38;5;124;03m    A callable is required instead of direct weight ponderation\u001b[39;00m\n\u001b[0;32m   (...)\u001b[0m\n\u001b[1;32m    215\u001b[0m \u001b[38;5;124;03m        scenario 5           98\u001b[39;00m\n\u001b[1;32m    216\u001b[0m \u001b[38;5;124;03m    \"\"\"\u001b[39;00m\n\u001b[0;32m--> 218\u001b[0m     data \u001b[38;5;241m=\u001b[39m [\n\u001b[1;32m    219\u001b[0m         \u001b[38;5;28mself\u001b[39m\u001b[38;5;241m.\u001b[39mregulate_scenario(scenario, indicator_function)\n\u001b[1;32m    220\u001b[0m         \u001b[38;5;28;01mfor\u001b[39;00m scenario \u001b[38;5;129;01min\u001b[39;00m scenarii\n\u001b[1;32m    221\u001b[0m     ]\n\u001b[1;32m    222\u001b[0m     \u001b[38;5;28;01mreturn\u001b[39;00m pd\u001b[38;5;241m.\u001b[39mconcat(data)\n",
      "File \u001b[0;32m~/dev/python/pyOSRD/src/pyosrd/agents/scheduler_agent.py:219\u001b[0m, in \u001b[0;36m<listcomp>\u001b[0;34m(.0)\u001b[0m\n\u001b[1;32m    176\u001b[0m \u001b[38;5;28;01mdef\u001b[39;00m \u001b[38;5;21mregulate_scenarii\u001b[39m(\n\u001b[1;32m    177\u001b[0m     \u001b[38;5;28mself\u001b[39m,\n\u001b[1;32m    178\u001b[0m     scenarii: \u001b[38;5;28mlist\u001b[39m[\u001b[38;5;28mstr\u001b[39m],\n\u001b[1;32m    179\u001b[0m     indicator_function: Callable[[Schedule, Schedule, OSRD], pd\u001b[38;5;241m.\u001b[39mDataFrame],\n\u001b[1;32m    180\u001b[0m ) \u001b[38;5;241m-\u001b[39m\u001b[38;5;241m>\u001b[39m pd\u001b[38;5;241m.\u001b[39mDataFrame:\n\u001b[1;32m    181\u001b[0m \u001b[38;5;250m    \u001b[39m\u001b[38;5;124;03m\"\"\"Regulates a list of scenarii using a given agent.\u001b[39;00m\n\u001b[1;32m    182\u001b[0m \n\u001b[1;32m    183\u001b[0m \u001b[38;5;124;03m    A callable is required instead of direct weight ponderation\u001b[39;00m\n\u001b[0;32m   (...)\u001b[0m\n\u001b[1;32m    215\u001b[0m \u001b[38;5;124;03m        scenario 5           98\u001b[39;00m\n\u001b[1;32m    216\u001b[0m \u001b[38;5;124;03m    \"\"\"\u001b[39;00m\n\u001b[1;32m    218\u001b[0m     data \u001b[38;5;241m=\u001b[39m [\n\u001b[0;32m--> 219\u001b[0m         \u001b[38;5;28;43mself\u001b[39;49m\u001b[38;5;241;43m.\u001b[39;49m\u001b[43mregulate_scenario\u001b[49m\u001b[43m(\u001b[49m\u001b[43mscenario\u001b[49m\u001b[43m,\u001b[49m\u001b[43m \u001b[49m\u001b[43mindicator_function\u001b[49m\u001b[43m)\u001b[49m\n\u001b[1;32m    220\u001b[0m         \u001b[38;5;28;01mfor\u001b[39;00m scenario \u001b[38;5;129;01min\u001b[39;00m scenarii\n\u001b[1;32m    221\u001b[0m     ]\n\u001b[1;32m    222\u001b[0m     \u001b[38;5;28;01mreturn\u001b[39;00m pd\u001b[38;5;241m.\u001b[39mconcat(data)\n",
      "File \u001b[0;32m~/dev/python/pyOSRD/src/pyosrd/agents/scheduler_agent.py:166\u001b[0m, in \u001b[0;36mSchedulerAgent.regulate_scenario\u001b[0;34m(self, scenario, indicator_function)\u001b[0m\n\u001b[1;32m    159\u001b[0m sim \u001b[38;5;241m=\u001b[39m function()\n\u001b[1;32m    161\u001b[0m \u001b[38;5;28mself\u001b[39m\u001b[38;5;241m.\u001b[39mset_schedules_from_osrd(sim, \u001b[38;5;124m\"\u001b[39m\u001b[38;5;124mall_steps\u001b[39m\u001b[38;5;124m\"\u001b[39m)\n\u001b[1;32m    163\u001b[0m \u001b[38;5;28;01mreturn\u001b[39;00m pd\u001b[38;5;241m.\u001b[39mDataFrame(\n\u001b[1;32m    164\u001b[0m     {\n\u001b[1;32m    165\u001b[0m         \u001b[38;5;28mself\u001b[39m\u001b[38;5;241m.\u001b[39mname: [\n\u001b[0;32m--> 166\u001b[0m             \u001b[43mindicator_function\u001b[49m\u001b[43m(\u001b[49m\n\u001b[1;32m    167\u001b[0m \u001b[43m                \u001b[49m\u001b[38;5;28;43mself\u001b[39;49m\u001b[38;5;241;43m.\u001b[39;49m\u001b[43mregulated_schedule\u001b[49m\u001b[43m,\u001b[49m\n\u001b[1;32m    168\u001b[0m \u001b[43m                \u001b[49m\u001b[38;5;28;43mself\u001b[39;49m\u001b[38;5;241;43m.\u001b[39;49m\u001b[43mref_schedule\u001b[49m\u001b[43m,\u001b[49m\n\u001b[1;32m    169\u001b[0m \u001b[43m                \u001b[49m\u001b[43msim\u001b[49m\u001b[43m,\u001b[49m\n\u001b[1;32m    170\u001b[0m \u001b[43m            \u001b[49m\u001b[43m)\u001b[49m\n\u001b[1;32m    171\u001b[0m         ]\n\u001b[1;32m    172\u001b[0m     },\n\u001b[1;32m    173\u001b[0m     index\u001b[38;5;241m=\u001b[39m[scenario]\n\u001b[1;32m    174\u001b[0m )\n",
      "Cell \u001b[0;32mIn[3], line 9\u001b[0m, in \u001b[0;36m<lambda>\u001b[0;34m(schedule, ref, sim)\u001b[0m\n\u001b[1;32m      3\u001b[0m \u001b[38;5;28;01mfrom\u001b[39;00m \u001b[38;5;21;01mpyosrd\u001b[39;00m\u001b[38;5;21;01m.\u001b[39;00m\u001b[38;5;21;01mschedules\u001b[39;00m\u001b[38;5;21;01m.\u001b[39;00m\u001b[38;5;21;01mweights\u001b[39;00m \u001b[38;5;28;01mimport\u001b[39;00m all_steps\n\u001b[1;32m      5\u001b[0m agent \u001b[38;5;241m=\u001b[39m DumbSchedulerAgent(\u001b[38;5;124m\"\u001b[39m\u001b[38;5;124mdumb\u001b[39m\u001b[38;5;124m\"\u001b[39m)\n\u001b[1;32m      7\u001b[0m indicator_function \u001b[38;5;241m=\u001b[39m (\n\u001b[1;32m      8\u001b[0m     \u001b[38;5;28;01mlambda\u001b[39;00m schedule, ref, sim:\n\u001b[0;32m----> 9\u001b[0m     \u001b[43mschedule\u001b[49m\u001b[38;5;241;43m.\u001b[39;49m\u001b[43mcompute_weighted_delay\u001b[49m(ref, all_steps(sim))\n\u001b[1;32m     10\u001b[0m )\n\u001b[1;32m     12\u001b[0m regulate_scenarii_with_agents(\u001b[38;5;124m\"\u001b[39m\u001b[38;5;124mall\u001b[39m\u001b[38;5;124m\"\u001b[39m, agent, indicator_function)\n",
      "\u001b[0;31mAttributeError\u001b[0m: 'Schedule' object has no attribute 'compute_weighted_delay'"
     ]
    }
   ],
   "source": [
    "from pyosrd.agents.scheduler_agent import regulate_scenarii_with_agents\n",
    "from functools import partial\n",
    "from pyosrd.schedules.weights import all_steps\n",
    "\n",
    "agent = DumbSchedulerAgent(\"dumb\")\n",
    "\n",
    "indicator_function = (\n",
    "    lambda schedule, ref, sim:\n",
    "    schedule.total_weighted_delay(ref, all_steps(sim))\n",
    ")\n",
    "\n",
    "regulate_scenarii_with_agents(\"all\", agent, indicator_function)"
   ]
  },
  {
   "cell_type": "markdown",
   "metadata": {},
   "source": [
    "## Compare two agents\n",
    "\n",
    "The function regulate_scenarii_with_agents can be launched on multiple agents at the same time. It returns a pandas DataFrame containing the ponderated delays\n",
    "for all scenarii.\n",
    "\n",
    "An agent can be compared to another one using those scenarii."
   ]
  },
  {
   "cell_type": "code",
   "execution_count": null,
   "metadata": {},
   "outputs": [],
   "source": [
    "\n",
    "class DumberSchedulerAgent(SchedulerAgent):\n",
    "    @property\n",
    "    def steps_extra_delays(self) -> pd.DataFrame:\n",
    "        \"\"\"As an example, make train1 stop 120s more in second zone\"\"\"\n",
    "        extra_delays = self.ref_schedule.durations * 0.\n",
    "        extra_delays.iloc[0, 1] = 120.\n",
    "        return extra_delays"
   ]
  },
  {
   "cell_type": "markdown",
   "metadata": {},
   "source": [
    "To speed up the notebook execution the next call is done only on one scenario \"c1_delay\"."
   ]
  },
  {
   "cell_type": "code",
   "execution_count": null,
   "metadata": {},
   "outputs": [],
   "source": [
    "\n",
    "agent_dumber = DumberSchedulerAgent(\"dumber\")\n",
    "regulate_scenarii_with_agents(\"c1_delay\", [agent, agent_dumber], indicator_function)"
   ]
  }
 ],
 "metadata": {
  "kernelspec": {
   "display_name": ".venv",
   "language": "python",
   "name": "python3"
  },
  "language_info": {
   "codemirror_mode": {
    "name": "ipython",
    "version": 3
   },
   "file_extension": ".py",
   "mimetype": "text/x-python",
   "name": "python",
   "nbconvert_exporter": "python",
   "pygments_lexer": "ipython3",
   "version": "3.10.12"
  }
 },
 "nbformat": 4,
 "nbformat_minor": 2
}
