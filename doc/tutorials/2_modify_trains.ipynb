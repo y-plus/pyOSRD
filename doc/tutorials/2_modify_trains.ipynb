{
 "cells": [
  {
   "cell_type": "code",
   "execution_count": 23,
   "metadata": {},
   "outputs": [],
   "source": [
    "from pyosrd import OSRD"
   ]
  },
  {
   "cell_type": "code",
   "execution_count": 24,
   "metadata": {},
   "outputs": [
    {
     "name": "stdout",
     "output_type": "stream",
     "text": [
      "[15:09:22,971] \u001b[34m[INFO] \u001b[0;39m [StandaloneSimulationCommand] Loading infra: tmp/infra.json\n",
      "[15:09:23,009] \u001b[34m[INFO] \u001b[0;39m             [FullInfra] parsing infra\n",
      "[15:09:23,010] \u001b[34m[INFO] \u001b[0;39m             [FullInfra] adaptation to kotlin\n",
      "[15:09:23,055] \u001b[34m[INFO] \u001b[0;39m             [FullInfra] loading signals\n",
      "[15:09:23,057] \u001b[34m[INFO] \u001b[0;39m             [FullInfra] building blocks\n",
      "[15:09:23,081] \u001b[34m[INFO] \u001b[0;39m [StandaloneSimulationCommand] Loading input: tmp/simulation.json\n",
      "[15:09:23,257] \u001b[34m[INFO] \u001b[0;39m [StandaloneSimulationCommand] Running simulation for schedule group: group.7\n",
      "[15:09:23,378] \u001b[39m[DEBUG]\u001b[0;39m             [Allowance] computing range n°1\n",
      "[15:09:23,381] \u001b[39m[DEBUG]\u001b[0;39m             [Allowance]   computing section n°1\n",
      "[15:09:23,381] \u001b[39m[DEBUG]\u001b[0;39m             [Allowance]   target time = 126.06939555\n",
      "[15:09:23,381] \u001b[39m[DEBUG]\u001b[0;39m             [Allowance]     starting attempt 1\n",
      "[15:09:23,383] \u001b[39m[DEBUG]\u001b[0;39m             [Allowance]     envelope time 183.993422\n",
      "[15:09:23,384] \u001b[39m[DEBUG]\u001b[0;39m             [Allowance]     starting attempt 2\n",
      "[15:09:23,384] \u001b[39m[DEBUG]\u001b[0;39m             [Allowance]     envelope time 145.309507\n",
      "[15:09:23,384] \u001b[39m[DEBUG]\u001b[0;39m             [Allowance]     starting attempt 3\n",
      "[15:09:23,384] \u001b[39m[DEBUG]\u001b[0;39m             [Allowance]     envelope time 131.487139\n",
      "[15:09:23,384] \u001b[39m[DEBUG]\u001b[0;39m             [Allowance]     starting attempt 4\n",
      "[15:09:23,384] \u001b[39m[DEBUG]\u001b[0;39m             [Allowance]     envelope time 125.517333\n",
      "[15:09:23,388] \u001b[34m[INFO] \u001b[0;39m [StandaloneSimulationCommand] Running simulation for schedule group: group.8\n",
      "[15:09:23,392] \u001b[39m[DEBUG]\u001b[0;39m             [Allowance] computing range n°1\n",
      "[15:09:23,393] \u001b[39m[DEBUG]\u001b[0;39m             [Allowance]   computing section n°1\n",
      "[15:09:23,393] \u001b[39m[DEBUG]\u001b[0;39m             [Allowance]   target time = 125.68442565000001\n",
      "[15:09:23,393] \u001b[39m[DEBUG]\u001b[0;39m             [Allowance]     starting attempt 1\n",
      "[15:09:23,393] \u001b[39m[DEBUG]\u001b[0;39m             [Allowance]     envelope time 183.313547\n",
      "[15:09:23,393] \u001b[39m[DEBUG]\u001b[0;39m             [Allowance]     starting attempt 2\n",
      "[15:09:23,393] \u001b[39m[DEBUG]\u001b[0;39m             [Allowance]     envelope time 144.828976\n",
      "[15:09:23,393] \u001b[39m[DEBUG]\u001b[0;39m             [Allowance]     starting attempt 3\n",
      "[15:09:23,393] \u001b[39m[DEBUG]\u001b[0;39m             [Allowance]     envelope time 131.070543\n",
      "[15:09:23,393] \u001b[39m[DEBUG]\u001b[0;39m             [Allowance]     starting attempt 4\n",
      "[15:09:23,394] \u001b[39m[DEBUG]\u001b[0;39m             [Allowance]     envelope time 125.127165\n",
      "[15:09:23,395] \u001b[34m[INFO] \u001b[0;39m [StandaloneSimulationCommand] All simulations completed\n",
      "[15:09:23,395] \u001b[34m[INFO] \u001b[0;39m [StandaloneSimulationCommand] Saving results at: tmp/results.json\n"
     ]
    }
   ],
   "source": [
    "simulation='cvg_dvg'\n",
    "sim = OSRD(simulation=simulation, dir='tmp')"
   ]
  },
  {
   "cell_type": "code",
   "execution_count": 25,
   "metadata": {},
   "outputs": [
    {
     "data": {
      "text/html": [
       "<div style=\"width:100%;\"><div style=\"position:relative;width:100%;height:0;padding-bottom:60%;\"><span style=\"color:#565656\">Make this Notebook Trusted to load map: File -> Trust Notebook</span><iframe srcdoc=\"&lt;!DOCTYPE html&gt;\n",
       "&lt;html&gt;\n",
       "&lt;head&gt;\n",
       "    \n",
       "    &lt;meta http-equiv=&quot;content-type&quot; content=&quot;text/html; charset=UTF-8&quot; /&gt;\n",
       "    \n",
       "        &lt;script&gt;\n",
       "            L_NO_TOUCH = false;\n",
       "            L_DISABLE_3D = false;\n",
       "        &lt;/script&gt;\n",
       "    \n",
       "    &lt;style&gt;html, body {width: 100%;height: 100%;margin: 0;padding: 0;}&lt;/style&gt;\n",
       "    &lt;style&gt;#map {position:absolute;top:0;bottom:0;right:0;left:0;}&lt;/style&gt;\n",
       "    &lt;script src=&quot;https://cdn.jsdelivr.net/npm/leaflet@1.9.3/dist/leaflet.js&quot;&gt;&lt;/script&gt;\n",
       "    &lt;script src=&quot;https://code.jquery.com/jquery-3.7.1.min.js&quot;&gt;&lt;/script&gt;\n",
       "    &lt;script src=&quot;https://cdn.jsdelivr.net/npm/bootstrap@5.2.2/dist/js/bootstrap.bundle.min.js&quot;&gt;&lt;/script&gt;\n",
       "    &lt;script src=&quot;https://cdnjs.cloudflare.com/ajax/libs/Leaflet.awesome-markers/2.0.2/leaflet.awesome-markers.js&quot;&gt;&lt;/script&gt;\n",
       "    &lt;link rel=&quot;stylesheet&quot; href=&quot;https://cdn.jsdelivr.net/npm/leaflet@1.9.3/dist/leaflet.css&quot;/&gt;\n",
       "    &lt;link rel=&quot;stylesheet&quot; href=&quot;https://cdn.jsdelivr.net/npm/bootstrap@5.2.2/dist/css/bootstrap.min.css&quot;/&gt;\n",
       "    &lt;link rel=&quot;stylesheet&quot; href=&quot;https://netdna.bootstrapcdn.com/bootstrap/3.0.0/css/bootstrap-glyphicons.css&quot;/&gt;\n",
       "    &lt;link rel=&quot;stylesheet&quot; href=&quot;https://cdn.jsdelivr.net/npm/@fortawesome/fontawesome-free@6.2.0/css/all.min.css&quot;/&gt;\n",
       "    &lt;link rel=&quot;stylesheet&quot; href=&quot;https://cdnjs.cloudflare.com/ajax/libs/Leaflet.awesome-markers/2.0.2/leaflet.awesome-markers.css&quot;/&gt;\n",
       "    &lt;link rel=&quot;stylesheet&quot; href=&quot;https://cdn.jsdelivr.net/gh/python-visualization/folium/folium/templates/leaflet.awesome.rotate.min.css&quot;/&gt;\n",
       "    \n",
       "            &lt;meta name=&quot;viewport&quot; content=&quot;width=device-width,\n",
       "                initial-scale=1.0, maximum-scale=1.0, user-scalable=no&quot; /&gt;\n",
       "            &lt;style&gt;\n",
       "                #map_8788181ba4980537bff9fa14fc770f1d {\n",
       "                    position: relative;\n",
       "                    width: 100.0%;\n",
       "                    height: 100.0%;\n",
       "                    left: 0.0%;\n",
       "                    top: 0.0%;\n",
       "                }\n",
       "                .leaflet-container { font-size: 1rem; }\n",
       "            &lt;/style&gt;\n",
       "        \n",
       "    &lt;script src=&quot;https://cdn.jsdelivr.net/npm/leaflet.fullscreen@3.0.0/Control.FullScreen.min.js&quot;&gt;&lt;/script&gt;\n",
       "    &lt;link rel=&quot;stylesheet&quot; href=&quot;https://cdn.jsdelivr.net/npm/leaflet.fullscreen@3.0.0/Control.FullScreen.css&quot;/&gt;\n",
       "    &lt;script src=&quot;https://cdnjs.cloudflare.com/ajax/libs/jquery/3.7.1/jquery.min.js&quot;&gt;&lt;/script&gt;\n",
       "    &lt;script src=&quot;https://cdnjs.cloudflare.com/ajax/libs/jqueryui/1.10.2/jquery-ui.min.js&quot;&gt;&lt;/script&gt;\n",
       "    &lt;script src=&quot;https://cdn.jsdelivr.net/npm/iso8601-js-period@0.2.1/iso8601.min.js&quot;&gt;&lt;/script&gt;\n",
       "    &lt;script src=&quot;https://cdn.jsdelivr.net/npm/leaflet-timedimension@1.1.1/dist/leaflet.timedimension.min.js&quot;&gt;&lt;/script&gt;\n",
       "    &lt;script src=&quot;https://cdnjs.cloudflare.com/ajax/libs/moment.js/2.18.1/moment.min.js&quot;&gt;&lt;/script&gt;\n",
       "    &lt;link rel=&quot;stylesheet&quot; href=&quot;https://cdnjs.cloudflare.com/ajax/libs/highlight.js/8.4/styles/default.min.css&quot;/&gt;\n",
       "    &lt;link rel=&quot;stylesheet&quot; href=&quot;https://cdn.jsdelivr.net/npm/leaflet-timedimension@1.1.1/dist/leaflet.timedimension.control.css&quot;/&gt;\n",
       "&lt;/head&gt;\n",
       "&lt;body&gt;\n",
       "    \n",
       "    \n",
       "            &lt;div class=&quot;folium-map&quot; id=&quot;map_8788181ba4980537bff9fa14fc770f1d&quot; &gt;&lt;/div&gt;\n",
       "        \n",
       "&lt;/body&gt;\n",
       "&lt;script&gt;\n",
       "    \n",
       "    \n",
       "            var map_8788181ba4980537bff9fa14fc770f1d = L.map(\n",
       "                &quot;map_8788181ba4980537bff9fa14fc770f1d&quot;,\n",
       "                {\n",
       "                    center: [49.5, -0.4],\n",
       "                    crs: L.CRS.EPSG3857,\n",
       "                    zoom: 10,\n",
       "                    zoomControl: true,\n",
       "                    preferCanvas: false,\n",
       "                }\n",
       "            );\n",
       "\n",
       "            \n",
       "\n",
       "        \n",
       "    \n",
       "            var tile_layer_7d4a0a26cf1e6088fd0d276705a528fe = L.tileLayer(\n",
       "                &quot;https://tile.openstreetmap.org/{z}/{x}/{y}.png&quot;,\n",
       "                {&quot;attribution&quot;: &quot;blank&quot;, &quot;detectRetina&quot;: false, &quot;maxNativeZoom&quot;: 19, &quot;maxZoom&quot;: 19, &quot;minZoom&quot;: 0, &quot;noWrap&quot;: false, &quot;opacity&quot;: 1, &quot;subdomains&quot;: &quot;abc&quot;, &quot;tms&quot;: false}\n",
       "            );\n",
       "        \n",
       "    \n",
       "            tile_layer_7d4a0a26cf1e6088fd0d276705a528fe.addTo(map_8788181ba4980537bff9fa14fc770f1d);\n",
       "        \n",
       "    \n",
       "            var tile_layer_6f5421d771735faf731441e87354d735 = L.tileLayer(\n",
       "                &quot;https://{s}.basemaps.cartocdn.com/light_all/{z}/{x}/{y}{r}.png&quot;,\n",
       "                {&quot;attribution&quot;: &quot;blank&quot;, &quot;detectRetina&quot;: false, &quot;maxNativeZoom&quot;: 20, &quot;maxZoom&quot;: 20, &quot;minZoom&quot;: 0, &quot;noWrap&quot;: false, &quot;opacity&quot;: 1, &quot;subdomains&quot;: &quot;abcd&quot;, &quot;tms&quot;: false}\n",
       "            );\n",
       "        \n",
       "    \n",
       "            var tile_layer_5a0e307102b7af14e006922a0db0c806 = L.tileLayer(\n",
       "                &quot;&quot;,\n",
       "                {&quot;attribution&quot;: &quot;blank&quot;, &quot;detectRetina&quot;: false, &quot;maxZoom&quot;: 18, &quot;minZoom&quot;: 0, &quot;noWrap&quot;: false, &quot;opacity&quot;: 1, &quot;subdomains&quot;: &quot;abc&quot;, &quot;tms&quot;: false}\n",
       "            );\n",
       "        \n",
       "    \n",
       "            var feature_group_c636a6075c916b39b8eb09d67ca9f1ca = L.featureGroup(\n",
       "                {}\n",
       "            );\n",
       "        \n",
       "    \n",
       "            var poly_line_1a0ba6db61d1007dfc1997d25a786b87 = L.polyline(\n",
       "                [[45.57606788984581, 0.2035779438974819], [45.57606793485382, 0.20678997803615573], [45.575988410701974, 0.21]],\n",
       "                {&quot;bubblingMouseEvents&quot;: true, &quot;color&quot;: &quot;black&quot;, &quot;dashArray&quot;: null, &quot;dashOffset&quot;: null, &quot;fill&quot;: false, &quot;fillColor&quot;: &quot;black&quot;, &quot;fillOpacity&quot;: 0.2, &quot;fillRule&quot;: &quot;evenodd&quot;, &quot;lineCap&quot;: &quot;round&quot;, &quot;lineJoin&quot;: &quot;round&quot;, &quot;noClip&quot;: false, &quot;opacity&quot;: 1.0, &quot;smoothFactor&quot;: 1.0, &quot;stroke&quot;: true, &quot;weight&quot;: 1}\n",
       "            ).addTo(feature_group_c636a6075c916b39b8eb09d67ca9f1ca);\n",
       "        \n",
       "    \n",
       "            poly_line_1a0ba6db61d1007dfc1997d25a786b87.bindTooltip(\n",
       "                `&lt;div&gt;\n",
       "                     T0\n",
       "                 &lt;/div&gt;`,\n",
       "                {&quot;sticky&quot;: true}\n",
       "            );\n",
       "        \n",
       "    \n",
       "            var poly_line_a554eb1dda5a8ce63d46855b0dc917a3 = L.polyline(\n",
       "                [[45.575908751639325, 0.20357796209690945], [45.57590879664709, 0.20678998713301835], [45.575988410701974, 0.21]],\n",
       "                {&quot;bubblingMouseEvents&quot;: true, &quot;color&quot;: &quot;black&quot;, &quot;dashArray&quot;: null, &quot;dashOffset&quot;: null, &quot;fill&quot;: false, &quot;fillColor&quot;: &quot;black&quot;, &quot;fillOpacity&quot;: 0.2, &quot;fillRule&quot;: &quot;evenodd&quot;, &quot;lineCap&quot;: &quot;round&quot;, &quot;lineJoin&quot;: &quot;round&quot;, &quot;noClip&quot;: false, &quot;opacity&quot;: 1.0, &quot;smoothFactor&quot;: 1.0, &quot;stroke&quot;: true, &quot;weight&quot;: 1}\n",
       "            ).addTo(feature_group_c636a6075c916b39b8eb09d67ca9f1ca);\n",
       "        \n",
       "    \n",
       "            poly_line_a554eb1dda5a8ce63d46855b0dc917a3.bindTooltip(\n",
       "                `&lt;div&gt;\n",
       "                     T1\n",
       "                 &lt;/div&gt;`,\n",
       "                {&quot;sticky&quot;: true}\n",
       "            );\n",
       "        \n",
       "    \n",
       "            var poly_line_f4a8a8c03fe81b2ce108a274663c0a39 = L.polyline(\n",
       "                [[45.575988410701974, 0.21], [45.575988230670404, 0.21642405916960833]],\n",
       "                {&quot;bubblingMouseEvents&quot;: true, &quot;color&quot;: &quot;black&quot;, &quot;dashArray&quot;: null, &quot;dashOffset&quot;: null, &quot;fill&quot;: false, &quot;fillColor&quot;: &quot;black&quot;, &quot;fillOpacity&quot;: 0.2, &quot;fillRule&quot;: &quot;evenodd&quot;, &quot;lineCap&quot;: &quot;round&quot;, &quot;lineJoin&quot;: &quot;round&quot;, &quot;noClip&quot;: false, &quot;opacity&quot;: 1.0, &quot;smoothFactor&quot;: 1.0, &quot;stroke&quot;: true, &quot;weight&quot;: 1}\n",
       "            ).addTo(feature_group_c636a6075c916b39b8eb09d67ca9f1ca);\n",
       "        \n",
       "    \n",
       "            poly_line_f4a8a8c03fe81b2ce108a274663c0a39.bindTooltip(\n",
       "                `&lt;div&gt;\n",
       "                     T2\n",
       "                 &lt;/div&gt;`,\n",
       "                {&quot;sticky&quot;: true}\n",
       "            );\n",
       "        \n",
       "    \n",
       "            var poly_line_0046baf8e6f6cc9a2f768a23ea6d00cf = L.polyline(\n",
       "                [[45.575988230670404, 0.21642405916960833], [45.57553914131219, 0.22281597368346445]],\n",
       "                {&quot;bubblingMouseEvents&quot;: true, &quot;color&quot;: &quot;black&quot;, &quot;dashArray&quot;: null, &quot;dashOffset&quot;: null, &quot;fill&quot;: false, &quot;fillColor&quot;: &quot;black&quot;, &quot;fillOpacity&quot;: 0.2, &quot;fillRule&quot;: &quot;evenodd&quot;, &quot;lineCap&quot;: &quot;round&quot;, &quot;lineJoin&quot;: &quot;round&quot;, &quot;noClip&quot;: false, &quot;opacity&quot;: 1.0, &quot;smoothFactor&quot;: 1.0, &quot;stroke&quot;: true, &quot;weight&quot;: 1}\n",
       "            ).addTo(feature_group_c636a6075c916b39b8eb09d67ca9f1ca);\n",
       "        \n",
       "    \n",
       "            poly_line_0046baf8e6f6cc9a2f768a23ea6d00cf.bindTooltip(\n",
       "                `&lt;div&gt;\n",
       "                     T3\n",
       "                 &lt;/div&gt;`,\n",
       "                {&quot;sticky&quot;: true}\n",
       "            );\n",
       "        \n",
       "    \n",
       "            var poly_line_c3e1daa87cc64b4c5855bbd65f043cb0 = L.polyline(\n",
       "                [[45.57553914131219, 0.22281597368346445], [45.575618665464745, 0.22602596996579108], [45.57561862045744, 0.2292379784068491]],\n",
       "                {&quot;bubblingMouseEvents&quot;: true, &quot;color&quot;: &quot;black&quot;, &quot;dashArray&quot;: null, &quot;dashOffset&quot;: null, &quot;fill&quot;: false, &quot;fillColor&quot;: &quot;black&quot;, &quot;fillOpacity&quot;: 0.2, &quot;fillRule&quot;: &quot;evenodd&quot;, &quot;lineCap&quot;: &quot;round&quot;, &quot;lineJoin&quot;: &quot;round&quot;, &quot;noClip&quot;: false, &quot;opacity&quot;: 1.0, &quot;smoothFactor&quot;: 1.0, &quot;stroke&quot;: true, &quot;weight&quot;: 1}\n",
       "            ).addTo(feature_group_c636a6075c916b39b8eb09d67ca9f1ca);\n",
       "        \n",
       "    \n",
       "            poly_line_c3e1daa87cc64b4c5855bbd65f043cb0.bindTooltip(\n",
       "                `&lt;div&gt;\n",
       "                     T4\n",
       "                 &lt;/div&gt;`,\n",
       "                {&quot;sticky&quot;: true}\n",
       "            );\n",
       "        \n",
       "    \n",
       "            var poly_line_c36bd36f5553b9a497aabe4a39b2c069 = L.polyline(\n",
       "                [[45.57553914131219, 0.22281597368346445], [45.57545952725801, 0.2260259608691439], [45.575459482250956, 0.22923796020785261]],\n",
       "                {&quot;bubblingMouseEvents&quot;: true, &quot;color&quot;: &quot;black&quot;, &quot;dashArray&quot;: null, &quot;dashOffset&quot;: null, &quot;fill&quot;: false, &quot;fillColor&quot;: &quot;black&quot;, &quot;fillOpacity&quot;: 0.2, &quot;fillRule&quot;: &quot;evenodd&quot;, &quot;lineCap&quot;: &quot;round&quot;, &quot;lineJoin&quot;: &quot;round&quot;, &quot;noClip&quot;: false, &quot;opacity&quot;: 1.0, &quot;smoothFactor&quot;: 1.0, &quot;stroke&quot;: true, &quot;weight&quot;: 1}\n",
       "            ).addTo(feature_group_c636a6075c916b39b8eb09d67ca9f1ca);\n",
       "        \n",
       "    \n",
       "            poly_line_c36bd36f5553b9a497aabe4a39b2c069.bindTooltip(\n",
       "                `&lt;div&gt;\n",
       "                     T5\n",
       "                 &lt;/div&gt;`,\n",
       "                {&quot;sticky&quot;: true}\n",
       "            );\n",
       "        \n",
       "    \n",
       "            feature_group_c636a6075c916b39b8eb09d67ca9f1ca.addTo(map_8788181ba4980537bff9fa14fc770f1d);\n",
       "        \n",
       "    \n",
       "            map_8788181ba4980537bff9fa14fc770f1d.fitBounds(\n",
       "                [[45.575459482250956, 0.2035779438974819], [45.57606793485382, 0.2292379784068491]],\n",
       "                {}\n",
       "            );\n",
       "        \n",
       "    \n",
       "            var feature_group_faa894df9ca7db176ee54058ad028e92 = L.featureGroup(\n",
       "                {}\n",
       "            );\n",
       "        \n",
       "    \n",
       "            var marker_aa96cda0994101d729b999adafc43b63 = L.marker(\n",
       "                [45.57600431801858, 0.20935789524933382],\n",
       "                {}\n",
       "            ).addTo(feature_group_faa894df9ca7db176ee54058ad028e92);\n",
       "        \n",
       "    \n",
       "            var div_icon_864dc0a42cdb6bc26b92c54fa1c77c8a = L.divIcon({&quot;className&quot;: &quot;empty&quot;, &quot;html&quot;: &quot;\\n            \\u003cdiv\\u003e\\u003csvg\\u003e\\n            \\u003ccircle cx=\\&quot;5\\&quot; cy=\\&quot;5\\&quot; r=\\&quot;5\\&quot;, fill=\\&quot;red\\&quot;, opacity=\\&quot;.8\\&quot; /\\u003e\\n            \\u003c/svg\\u003e\\u003c/div\\u003e&quot;});\n",
       "            marker_aa96cda0994101d729b999adafc43b63.setIcon(div_icon_864dc0a42cdb6bc26b92c54fa1c77c8a);\n",
       "        \n",
       "    \n",
       "        var popup_1421bf276d61185ff37cc6710fee68c7 = L.popup({&quot;maxWidth&quot;: &quot;100%&quot;});\n",
       "\n",
       "        \n",
       "            \n",
       "                var html_f9cfe80d833c71c729edd89db7eb8b85 = $(`&lt;div id=&quot;html_f9cfe80d833c71c729edd89db7eb8b85&quot; style=&quot;width: 100.0%; height: 100.0%;&quot;&gt;D0&lt;/div&gt;`)[0];\n",
       "                popup_1421bf276d61185ff37cc6710fee68c7.setContent(html_f9cfe80d833c71c729edd89db7eb8b85);\n",
       "            \n",
       "        \n",
       "\n",
       "        marker_aa96cda0994101d729b999adafc43b63.bindPopup(popup_1421bf276d61185ff37cc6710fee68c7)\n",
       "        ;\n",
       "\n",
       "        \n",
       "    \n",
       "    \n",
       "            var marker_a42fa0b7806bb83b2ed2880e47207833 = L.marker(\n",
       "                [45.575972485390665, 0.20935789661407703],\n",
       "                {}\n",
       "            ).addTo(feature_group_faa894df9ca7db176ee54058ad028e92);\n",
       "        \n",
       "    \n",
       "            var div_icon_7595be639928e1cf621dac1c41d1dca3 = L.divIcon({&quot;className&quot;: &quot;empty&quot;, &quot;html&quot;: &quot;\\n            \\u003cdiv\\u003e\\u003csvg\\u003e\\n            \\u003ccircle cx=\\&quot;5\\&quot; cy=\\&quot;5\\&quot; r=\\&quot;5\\&quot;, fill=\\&quot;red\\&quot;, opacity=\\&quot;.8\\&quot; /\\u003e\\n            \\u003c/svg\\u003e\\u003c/div\\u003e&quot;});\n",
       "            marker_a42fa0b7806bb83b2ed2880e47207833.setIcon(div_icon_7595be639928e1cf621dac1c41d1dca3);\n",
       "        \n",
       "    \n",
       "        var popup_9156b66b06d4acf12b111d8c08f6f449 = L.popup({&quot;maxWidth&quot;: &quot;100%&quot;});\n",
       "\n",
       "        \n",
       "            \n",
       "                var html_eec9e2aaad3a3966f5b2b8e3e142ab16 = $(`&lt;div id=&quot;html_eec9e2aaad3a3966f5b2b8e3e142ab16&quot; style=&quot;width: 100.0%; height: 100.0%;&quot;&gt;D1&lt;/div&gt;`)[0];\n",
       "                popup_9156b66b06d4acf12b111d8c08f6f449.setContent(html_eec9e2aaad3a3966f5b2b8e3e142ab16);\n",
       "            \n",
       "        \n",
       "\n",
       "        marker_a42fa0b7806bb83b2ed2880e47207833.bindPopup(popup_9156b66b06d4acf12b111d8c08f6f449)\n",
       "        ;\n",
       "\n",
       "        \n",
       "    \n",
       "    \n",
       "            var marker_0ff2cd979eed8b9db17484fc14230e96 = L.marker(\n",
       "                [45.57598839269882, 0.21064240591696082],\n",
       "                {}\n",
       "            ).addTo(feature_group_faa894df9ca7db176ee54058ad028e92);\n",
       "        \n",
       "    \n",
       "            var div_icon_773668925da3f33d3a27769ca0a8583d = L.divIcon({&quot;className&quot;: &quot;empty&quot;, &quot;html&quot;: &quot;\\n            \\u003cdiv\\u003e\\u003csvg\\u003e\\n            \\u003ccircle cx=\\&quot;5\\&quot; cy=\\&quot;5\\&quot; r=\\&quot;5\\&quot;, fill=\\&quot;red\\&quot;, opacity=\\&quot;.8\\&quot; /\\u003e\\n            \\u003c/svg\\u003e\\u003c/div\\u003e&quot;});\n",
       "            marker_0ff2cd979eed8b9db17484fc14230e96.setIcon(div_icon_773668925da3f33d3a27769ca0a8583d);\n",
       "        \n",
       "    \n",
       "        var popup_3fece7b538b824466bb70f3b1694e82d = L.popup({&quot;maxWidth&quot;: &quot;100%&quot;});\n",
       "\n",
       "        \n",
       "            \n",
       "                var html_7f181f5a7bbf7bac61ca3f02f794247b = $(`&lt;div id=&quot;html_7f181f5a7bbf7bac61ca3f02f794247b&quot; style=&quot;width: 100.0%; height: 100.0%;&quot;&gt;D2&lt;/div&gt;`)[0];\n",
       "                popup_3fece7b538b824466bb70f3b1694e82d.setContent(html_7f181f5a7bbf7bac61ca3f02f794247b);\n",
       "            \n",
       "        \n",
       "\n",
       "        marker_0ff2cd979eed8b9db17484fc14230e96.bindPopup(popup_3fece7b538b824466bb70f3b1694e82d)\n",
       "        ;\n",
       "\n",
       "        \n",
       "    \n",
       "    \n",
       "            var marker_605cb905862c67a9086e707d5bcc5208 = L.marker(\n",
       "                [45.57558405024801, 0.22217678223207885],\n",
       "                {}\n",
       "            ).addTo(feature_group_faa894df9ca7db176ee54058ad028e92);\n",
       "        \n",
       "    \n",
       "            var div_icon_13ff0efa43f6db2f9b86349d980a0391 = L.divIcon({&quot;className&quot;: &quot;empty&quot;, &quot;html&quot;: &quot;\\n            \\u003cdiv\\u003e\\u003csvg\\u003e\\n            \\u003ccircle cx=\\&quot;5\\&quot; cy=\\&quot;5\\&quot; r=\\&quot;5\\&quot;, fill=\\&quot;red\\&quot;, opacity=\\&quot;.8\\&quot; /\\u003e\\n            \\u003c/svg\\u003e\\u003c/div\\u003e&quot;});\n",
       "            marker_605cb905862c67a9086e707d5bcc5208.setIcon(div_icon_13ff0efa43f6db2f9b86349d980a0391);\n",
       "        \n",
       "    \n",
       "        var popup_9a1fba1f3603774b449c6a2e991e7b23 = L.popup({&quot;maxWidth&quot;: &quot;100%&quot;});\n",
       "\n",
       "        \n",
       "            \n",
       "                var html_c3ffe5458d781906cd1126dc67d60367 = $(`&lt;div id=&quot;html_c3ffe5458d781906cd1126dc67d60367&quot; style=&quot;width: 100.0%; height: 100.0%;&quot;&gt;D3&lt;/div&gt;`)[0];\n",
       "                popup_9a1fba1f3603774b449c6a2e991e7b23.setContent(html_c3ffe5458d781906cd1126dc67d60367);\n",
       "            \n",
       "        \n",
       "\n",
       "        marker_605cb905862c67a9086e707d5bcc5208.bindPopup(popup_9a1fba1f3603774b449c6a2e991e7b23)\n",
       "        ;\n",
       "\n",
       "        \n",
       "    \n",
       "    \n",
       "            var marker_649957ea1b12afa3d8580347ef638b7a = L.marker(\n",
       "                [45.57555504365724, 0.22345787261419756],\n",
       "                {}\n",
       "            ).addTo(feature_group_faa894df9ca7db176ee54058ad028e92);\n",
       "        \n",
       "    \n",
       "            var div_icon_61b9051694c770686299171b85107215 = L.divIcon({&quot;className&quot;: &quot;empty&quot;, &quot;html&quot;: &quot;\\n            \\u003cdiv\\u003e\\u003csvg\\u003e\\n            \\u003ccircle cx=\\&quot;5\\&quot; cy=\\&quot;5\\&quot; r=\\&quot;5\\&quot;, fill=\\&quot;red\\&quot;, opacity=\\&quot;.8\\&quot; /\\u003e\\n            \\u003c/svg\\u003e\\u003c/div\\u003e&quot;});\n",
       "            marker_649957ea1b12afa3d8580347ef638b7a.setIcon(div_icon_61b9051694c770686299171b85107215);\n",
       "        \n",
       "    \n",
       "        var popup_45007af7ba0ba3e887c5cb97e30d3d2a = L.popup({&quot;maxWidth&quot;: &quot;100%&quot;});\n",
       "\n",
       "        \n",
       "            \n",
       "                var html_ceadec3afc27145c4b700d4c926d49ba = $(`&lt;div id=&quot;html_ceadec3afc27145c4b700d4c926d49ba&quot; style=&quot;width: 100.0%; height: 100.0%;&quot;&gt;D4&lt;/div&gt;`)[0];\n",
       "                popup_45007af7ba0ba3e887c5cb97e30d3d2a.setContent(html_ceadec3afc27145c4b700d4c926d49ba);\n",
       "            \n",
       "        \n",
       "\n",
       "        marker_649957ea1b12afa3d8580347ef638b7a.bindPopup(popup_45007af7ba0ba3e887c5cb97e30d3d2a)\n",
       "        ;\n",
       "\n",
       "        \n",
       "    \n",
       "    \n",
       "            var marker_364739927453127f5706944cc0d97236 = L.marker(\n",
       "                [45.5755232210009, 0.2234578703405344],\n",
       "                {}\n",
       "            ).addTo(feature_group_faa894df9ca7db176ee54058ad028e92);\n",
       "        \n",
       "    \n",
       "            var div_icon_378a64152afcde94a6e9adacd3ef0a38 = L.divIcon({&quot;className&quot;: &quot;empty&quot;, &quot;html&quot;: &quot;\\n            \\u003cdiv\\u003e\\u003csvg\\u003e\\n            \\u003ccircle cx=\\&quot;5\\&quot; cy=\\&quot;5\\&quot; r=\\&quot;5\\&quot;, fill=\\&quot;red\\&quot;, opacity=\\&quot;.8\\&quot; /\\u003e\\n            \\u003c/svg\\u003e\\u003c/div\\u003e&quot;});\n",
       "            marker_364739927453127f5706944cc0d97236.setIcon(div_icon_378a64152afcde94a6e9adacd3ef0a38);\n",
       "        \n",
       "    \n",
       "        var popup_060affde82d4e1a48f99de54f9f6565b = L.popup({&quot;maxWidth&quot;: &quot;100%&quot;});\n",
       "\n",
       "        \n",
       "            \n",
       "                var html_a7b75c85c3ad42c04855addfa8616c20 = $(`&lt;div id=&quot;html_a7b75c85c3ad42c04855addfa8616c20&quot; style=&quot;width: 100.0%; height: 100.0%;&quot;&gt;D5&lt;/div&gt;`)[0];\n",
       "                popup_060affde82d4e1a48f99de54f9f6565b.setContent(html_a7b75c85c3ad42c04855addfa8616c20);\n",
       "            \n",
       "        \n",
       "\n",
       "        marker_364739927453127f5706944cc0d97236.bindPopup(popup_060affde82d4e1a48f99de54f9f6565b)\n",
       "        ;\n",
       "\n",
       "        \n",
       "    \n",
       "    \n",
       "            var feature_group_49d1282e9d72cf7d5364c92096fbe7a2 = L.featureGroup(\n",
       "                {}\n",
       "            );\n",
       "        \n",
       "    \n",
       "            var marker_bc6962ad04295317ea1104733580e742 = L.marker(\n",
       "                [45.57606788984581, 0.2035779438974819],\n",
       "                {}\n",
       "            ).addTo(feature_group_49d1282e9d72cf7d5364c92096fbe7a2);\n",
       "        \n",
       "    \n",
       "            var div_icon_9d9145a1410bfa727d1b6599f5867321 = L.divIcon({&quot;className&quot;: &quot;empty&quot;, &quot;html&quot;: &quot;\\n            \\u003cdiv\\u003e\\u003csvg\\u003e\\n                \\u003crect x=\\&quot;-5\\&quot; y=\\&quot;-5\\&quot; width=\\&quot;20\\&quot;\\n                height=\\&quot;20\\&quot;, fill=\\&quot;black\\&quot;, opacity=\\&quot;.8\\&quot; /\\u003e\\n            \\u003c/svg\\u003e\\u003c/div\\u003e&quot;});\n",
       "            marker_bc6962ad04295317ea1104733580e742.setIcon(div_icon_9d9145a1410bfa727d1b6599f5867321);\n",
       "        \n",
       "    \n",
       "        var popup_25e95ebe8db28db4aded1ee3345ec2ed = L.popup({&quot;maxWidth&quot;: &quot;100%&quot;});\n",
       "\n",
       "        \n",
       "            \n",
       "                var html_24f717911397561f1558ba34fbf4f4bc = $(`&lt;div id=&quot;html_24f717911397561f1558ba34fbf4f4bc&quot; style=&quot;width: 100.0%; height: 100.0%;&quot;&gt;buffer_stop.0&lt;/div&gt;`)[0];\n",
       "                popup_25e95ebe8db28db4aded1ee3345ec2ed.setContent(html_24f717911397561f1558ba34fbf4f4bc);\n",
       "            \n",
       "        \n",
       "\n",
       "        marker_bc6962ad04295317ea1104733580e742.bindPopup(popup_25e95ebe8db28db4aded1ee3345ec2ed)\n",
       "        ;\n",
       "\n",
       "        \n",
       "    \n",
       "    \n",
       "            var marker_dc34991ff014b9b3e3f874592435d9b0 = L.marker(\n",
       "                [45.575908751639325, 0.20357796209690945],\n",
       "                {}\n",
       "            ).addTo(feature_group_49d1282e9d72cf7d5364c92096fbe7a2);\n",
       "        \n",
       "    \n",
       "            var div_icon_05894c96a16db9a5e4d76f0b4c3981ed = L.divIcon({&quot;className&quot;: &quot;empty&quot;, &quot;html&quot;: &quot;\\n            \\u003cdiv\\u003e\\u003csvg\\u003e\\n                \\u003crect x=\\&quot;-5\\&quot; y=\\&quot;-5\\&quot; width=\\&quot;20\\&quot;\\n                height=\\&quot;20\\&quot;, fill=\\&quot;black\\&quot;, opacity=\\&quot;.8\\&quot; /\\u003e\\n            \\u003c/svg\\u003e\\u003c/div\\u003e&quot;});\n",
       "            marker_dc34991ff014b9b3e3f874592435d9b0.setIcon(div_icon_05894c96a16db9a5e4d76f0b4c3981ed);\n",
       "        \n",
       "    \n",
       "        var popup_63908511b2b4465c2bc2d9ba56c6af25 = L.popup({&quot;maxWidth&quot;: &quot;100%&quot;});\n",
       "\n",
       "        \n",
       "            \n",
       "                var html_e5ba2c2833d3f972b8c900898ff2acb3 = $(`&lt;div id=&quot;html_e5ba2c2833d3f972b8c900898ff2acb3&quot; style=&quot;width: 100.0%; height: 100.0%;&quot;&gt;buffer_stop.1&lt;/div&gt;`)[0];\n",
       "                popup_63908511b2b4465c2bc2d9ba56c6af25.setContent(html_e5ba2c2833d3f972b8c900898ff2acb3);\n",
       "            \n",
       "        \n",
       "\n",
       "        marker_dc34991ff014b9b3e3f874592435d9b0.bindPopup(popup_63908511b2b4465c2bc2d9ba56c6af25)\n",
       "        ;\n",
       "\n",
       "        \n",
       "    \n",
       "    \n",
       "            var marker_323dd88481569d286fad113a388ac286 = L.marker(\n",
       "                [45.57561862045744, 0.2292379784068491],\n",
       "                {}\n",
       "            ).addTo(feature_group_49d1282e9d72cf7d5364c92096fbe7a2);\n",
       "        \n",
       "    \n",
       "            var div_icon_83b9a6f71d87cacc6fb80aabb50949e0 = L.divIcon({&quot;className&quot;: &quot;empty&quot;, &quot;html&quot;: &quot;\\n            \\u003cdiv\\u003e\\u003csvg\\u003e\\n                \\u003crect x=\\&quot;-5\\&quot; y=\\&quot;-5\\&quot; width=\\&quot;20\\&quot;\\n                height=\\&quot;20\\&quot;, fill=\\&quot;black\\&quot;, opacity=\\&quot;.8\\&quot; /\\u003e\\n            \\u003c/svg\\u003e\\u003c/div\\u003e&quot;});\n",
       "            marker_323dd88481569d286fad113a388ac286.setIcon(div_icon_83b9a6f71d87cacc6fb80aabb50949e0);\n",
       "        \n",
       "    \n",
       "        var popup_8705b9bd4a4908e778c301575c6605e0 = L.popup({&quot;maxWidth&quot;: &quot;100%&quot;});\n",
       "\n",
       "        \n",
       "            \n",
       "                var html_f681d4ead8bf8ec8823bbd84d6e0dc6c = $(`&lt;div id=&quot;html_f681d4ead8bf8ec8823bbd84d6e0dc6c&quot; style=&quot;width: 100.0%; height: 100.0%;&quot;&gt;buffer_stop.2&lt;/div&gt;`)[0];\n",
       "                popup_8705b9bd4a4908e778c301575c6605e0.setContent(html_f681d4ead8bf8ec8823bbd84d6e0dc6c);\n",
       "            \n",
       "        \n",
       "\n",
       "        marker_323dd88481569d286fad113a388ac286.bindPopup(popup_8705b9bd4a4908e778c301575c6605e0)\n",
       "        ;\n",
       "\n",
       "        \n",
       "    \n",
       "    \n",
       "            var marker_362570b116bad9c32df760f74ed2629f = L.marker(\n",
       "                [45.575459482250956, 0.22923796020785261],\n",
       "                {}\n",
       "            ).addTo(feature_group_49d1282e9d72cf7d5364c92096fbe7a2);\n",
       "        \n",
       "    \n",
       "            var div_icon_7e341e846338561ba59dc40a6d41ae2c = L.divIcon({&quot;className&quot;: &quot;empty&quot;, &quot;html&quot;: &quot;\\n            \\u003cdiv\\u003e\\u003csvg\\u003e\\n                \\u003crect x=\\&quot;-5\\&quot; y=\\&quot;-5\\&quot; width=\\&quot;20\\&quot;\\n                height=\\&quot;20\\&quot;, fill=\\&quot;black\\&quot;, opacity=\\&quot;.8\\&quot; /\\u003e\\n            \\u003c/svg\\u003e\\u003c/div\\u003e&quot;});\n",
       "            marker_362570b116bad9c32df760f74ed2629f.setIcon(div_icon_7e341e846338561ba59dc40a6d41ae2c);\n",
       "        \n",
       "    \n",
       "        var popup_f8753010e7eb84d4df09a3bc43f08174 = L.popup({&quot;maxWidth&quot;: &quot;100%&quot;});\n",
       "\n",
       "        \n",
       "            \n",
       "                var html_98f73e52228cf27b07553ce8a61d745c = $(`&lt;div id=&quot;html_98f73e52228cf27b07553ce8a61d745c&quot; style=&quot;width: 100.0%; height: 100.0%;&quot;&gt;buffer_stop.3&lt;/div&gt;`)[0];\n",
       "                popup_f8753010e7eb84d4df09a3bc43f08174.setContent(html_98f73e52228cf27b07553ce8a61d745c);\n",
       "            \n",
       "        \n",
       "\n",
       "        marker_362570b116bad9c32df760f74ed2629f.bindPopup(popup_f8753010e7eb84d4df09a3bc43f08174)\n",
       "        ;\n",
       "\n",
       "        \n",
       "    \n",
       "    \n",
       "            var feature_group_f37ca10ffc58252d0514185390f61255 = L.featureGroup(\n",
       "                {}\n",
       "            );\n",
       "        \n",
       "    \n",
       "            var marker_81fc9cbee83f27d9667b5f666c057f44 = L.marker(\n",
       "                [45.576010680945224, 0.20910105334906737],\n",
       "                {}\n",
       "            ).addTo(feature_group_f37ca10ffc58252d0514185390f61255);\n",
       "        \n",
       "    \n",
       "            var div_icon_cd3de78016a1815cbda12ab388470063 = L.divIcon({&quot;className&quot;: &quot;empty&quot;, &quot;html&quot;: &quot;\\n            \\u003cdiv\\u003e\\n                \\u003csvg viewBox=\\&quot;0 0 100 100\\&quot;\\u003e\\n                \\u003cpolygon points=\\&quot;20 0, 80 0, 50 100\\&quot; fill=\\&quot;grey\\&quot;/\\u003e\\n                \\u003c/svg\\u003e\\n            \\u003c/div\\u003e&quot;, &quot;iconAnchor&quot;: [10, 20], &quot;iconSize&quot;: [20, 20]});\n",
       "            marker_81fc9cbee83f27d9667b5f666c057f44.setIcon(div_icon_cd3de78016a1815cbda12ab388470063);\n",
       "        \n",
       "    \n",
       "        var popup_d7dea346199a1c17f00cff7d3a22b67d = L.popup({&quot;maxWidth&quot;: &quot;100%&quot;});\n",
       "\n",
       "        \n",
       "            \n",
       "                var html_697ba849385c50363b6a666ca353ef47 = $(`&lt;div id=&quot;html_697ba849385c50363b6a666ca353ef47&quot; style=&quot;width: 100.0%; height: 100.0%;&quot;&gt;S0&lt;/div&gt;`)[0];\n",
       "                popup_d7dea346199a1c17f00cff7d3a22b67d.setContent(html_697ba849385c50363b6a666ca353ef47);\n",
       "            \n",
       "        \n",
       "\n",
       "        marker_81fc9cbee83f27d9667b5f666c057f44.bindPopup(popup_d7dea346199a1c17f00cff7d3a22b67d)\n",
       "        ;\n",
       "\n",
       "        \n",
       "    \n",
       "    \n",
       "            var marker_36467db00fa6869a6f648745b300c1a1 = L.marker(\n",
       "                [45.57596611526614, 0.20910105525970785],\n",
       "                {}\n",
       "            ).addTo(feature_group_f37ca10ffc58252d0514185390f61255);\n",
       "        \n",
       "    \n",
       "            var div_icon_63c9b8b36db18c15618619ec4a04ad20 = L.divIcon({&quot;className&quot;: &quot;empty&quot;, &quot;html&quot;: &quot;\\n            \\u003cdiv\\u003e\\n                \\u003csvg viewBox=\\&quot;0 0 100 100\\&quot;\\u003e\\n                \\u003cpolygon points=\\&quot;20 0, 80 0, 50 100\\&quot; fill=\\&quot;grey\\&quot;/\\u003e\\n                \\u003c/svg\\u003e\\n            \\u003c/div\\u003e&quot;, &quot;iconAnchor&quot;: [10, 20], &quot;iconSize&quot;: [20, 20]});\n",
       "            marker_36467db00fa6869a6f648745b300c1a1.setIcon(div_icon_63c9b8b36db18c15618619ec4a04ad20);\n",
       "        \n",
       "    \n",
       "        var popup_e3a42cc457e53973e6d2adb4ab024715 = L.popup({&quot;maxWidth&quot;: &quot;100%&quot;});\n",
       "\n",
       "        \n",
       "            \n",
       "                var html_ef9d895f8d2d2c853dc0276efad0a803 = $(`&lt;div id=&quot;html_ef9d895f8d2d2c853dc0276efad0a803&quot; style=&quot;width: 100.0%; height: 100.0%;&quot;&gt;S1&lt;/div&gt;`)[0];\n",
       "                popup_e3a42cc457e53973e6d2adb4ab024715.setContent(html_ef9d895f8d2d2c853dc0276efad0a803);\n",
       "            \n",
       "        \n",
       "\n",
       "        marker_36467db00fa6869a6f648745b300c1a1.bindPopup(popup_e3a42cc457e53973e6d2adb4ab024715)\n",
       "        ;\n",
       "\n",
       "        \n",
       "    \n",
       "    \n",
       "            var marker_58166ca1f8943852d5263f8f6036de4f = L.marker(\n",
       "                [45.57598838549755, 0.21089936828374517],\n",
       "                {}\n",
       "            ).addTo(feature_group_f37ca10ffc58252d0514185390f61255);\n",
       "        \n",
       "    \n",
       "            var div_icon_0e879187ac85899f7daaa9870997bef5 = L.divIcon({&quot;className&quot;: &quot;empty&quot;, &quot;html&quot;: &quot;\\n            \\u003cdiv\\u003e\\n                \\u003csvg viewBox=\\&quot;0 0 100 100\\&quot;\\u003e\\n                \\u003cpolygon points=\\&quot;20 0, 80 0, 50 100\\&quot; fill=\\&quot;grey\\&quot;/\\u003e\\n                \\u003c/svg\\u003e\\n            \\u003c/div\\u003e&quot;, &quot;iconAnchor&quot;: [10, 20], &quot;iconSize&quot;: [20, 20]});\n",
       "            marker_58166ca1f8943852d5263f8f6036de4f.setIcon(div_icon_0e879187ac85899f7daaa9870997bef5);\n",
       "        \n",
       "    \n",
       "        var popup_5c3ffe4b281de85f43ca747b953beaca = L.popup({&quot;maxWidth&quot;: &quot;100%&quot;});\n",
       "\n",
       "        \n",
       "            \n",
       "                var html_84068d58caa79d5e610a6d6c0449f994 = $(`&lt;div id=&quot;html_84068d58caa79d5e610a6d6c0449f994&quot; style=&quot;width: 100.0%; height: 100.0%;&quot;&gt;S2&lt;/div&gt;`)[0];\n",
       "                popup_5c3ffe4b281de85f43ca747b953beaca.setContent(html_84068d58caa79d5e610a6d6c0449f994);\n",
       "            \n",
       "        \n",
       "\n",
       "        marker_58166ca1f8943852d5263f8f6036de4f.bindPopup(popup_5c3ffe4b281de85f43ca747b953beaca)\n",
       "        ;\n",
       "\n",
       "        \n",
       "    \n",
       "    \n",
       "            var marker_0e2b7102212b5741cd98da9235b3d2ce = L.marker(\n",
       "                [45.57560201382234, 0.2219211056515246],\n",
       "                {}\n",
       "            ).addTo(feature_group_f37ca10ffc58252d0514185390f61255);\n",
       "        \n",
       "    \n",
       "            var div_icon_6d5ebc7b61c2906230e21d33da2a616d = L.divIcon({&quot;className&quot;: &quot;empty&quot;, &quot;html&quot;: &quot;\\n            \\u003cdiv\\u003e\\n                \\u003csvg viewBox=\\&quot;0 0 100 100\\&quot;\\u003e\\n                \\u003cpolygon points=\\&quot;20 0, 80 0, 50 100\\&quot; fill=\\&quot;grey\\&quot;/\\u003e\\n                \\u003c/svg\\u003e\\n            \\u003c/div\\u003e&quot;, &quot;iconAnchor&quot;: [10, 20], &quot;iconSize&quot;: [20, 20]});\n",
       "            marker_0e2b7102212b5741cd98da9235b3d2ce.setIcon(div_icon_6d5ebc7b61c2906230e21d33da2a616d);\n",
       "        \n",
       "    \n",
       "        var popup_67240ad4e88adffa2c6aa285d1746694 = L.popup({&quot;maxWidth&quot;: &quot;100%&quot;});\n",
       "\n",
       "        \n",
       "            \n",
       "                var html_13e070d393b9f27d3cd66755051e955d = $(`&lt;div id=&quot;html_13e070d393b9f27d3cd66755051e955d&quot; style=&quot;width: 100.0%; height: 100.0%;&quot;&gt;S3&lt;/div&gt;`)[0];\n",
       "                popup_67240ad4e88adffa2c6aa285d1746694.setContent(html_13e070d393b9f27d3cd66755051e955d);\n",
       "            \n",
       "        \n",
       "\n",
       "        marker_0e2b7102212b5741cd98da9235b3d2ce.bindPopup(popup_67240ad4e88adffa2c6aa285d1746694)\n",
       "        ;\n",
       "\n",
       "        \n",
       "    \n",
       "    \n",
       "            var marker_14bb0c3b557756968272a83fc29c4137 = L.marker(\n",
       "                [45.57556140459526, 0.22371463218649082],\n",
       "                {}\n",
       "            ).addTo(feature_group_f37ca10ffc58252d0514185390f61255);\n",
       "        \n",
       "    \n",
       "            var div_icon_8734a3f1d664eb9eff1c76e868c7d00b = L.divIcon({&quot;className&quot;: &quot;empty&quot;, &quot;html&quot;: &quot;\\n            \\u003cdiv\\u003e\\n                \\u003csvg viewBox=\\&quot;0 0 100 100\\&quot;\\u003e\\n                \\u003cpolygon points=\\&quot;20 0, 80 0, 50 100\\&quot; fill=\\&quot;grey\\&quot;/\\u003e\\n                \\u003c/svg\\u003e\\n            \\u003c/div\\u003e&quot;, &quot;iconAnchor&quot;: [10, 20], &quot;iconSize&quot;: [20, 20]});\n",
       "            marker_14bb0c3b557756968272a83fc29c4137.setIcon(div_icon_8734a3f1d664eb9eff1c76e868c7d00b);\n",
       "        \n",
       "    \n",
       "        var popup_6d09faa6f38e2584e367676fd8f7e361 = L.popup({&quot;maxWidth&quot;: &quot;100%&quot;});\n",
       "\n",
       "        \n",
       "            \n",
       "                var html_6d66caa16419af0ac8de21c19d81257c = $(`&lt;div id=&quot;html_6d66caa16419af0ac8de21c19d81257c&quot; style=&quot;width: 100.0%; height: 100.0%;&quot;&gt;S4&lt;/div&gt;`)[0];\n",
       "                popup_6d09faa6f38e2584e367676fd8f7e361.setContent(html_6d66caa16419af0ac8de21c19d81257c);\n",
       "            \n",
       "        \n",
       "\n",
       "        marker_14bb0c3b557756968272a83fc29c4137.bindPopup(popup_6d09faa6f38e2584e367676fd8f7e361)\n",
       "        ;\n",
       "\n",
       "        \n",
       "    \n",
       "    \n",
       "            var marker_a539e50ed9664d706f9d86f62f7c4bb8 = L.marker(\n",
       "                [45.57551685287638, 0.2237146290033624],\n",
       "                {}\n",
       "            ).addTo(feature_group_f37ca10ffc58252d0514185390f61255);\n",
       "        \n",
       "    \n",
       "            var div_icon_f6cbdd5664cdf7db8147aa57afb7d62e = L.divIcon({&quot;className&quot;: &quot;empty&quot;, &quot;html&quot;: &quot;\\n            \\u003cdiv\\u003e\\n                \\u003csvg viewBox=\\&quot;0 0 100 100\\&quot;\\u003e\\n                \\u003cpolygon points=\\&quot;20 0, 80 0, 50 100\\&quot; fill=\\&quot;grey\\&quot;/\\u003e\\n                \\u003c/svg\\u003e\\n            \\u003c/div\\u003e&quot;, &quot;iconAnchor&quot;: [10, 20], &quot;iconSize&quot;: [20, 20]});\n",
       "            marker_a539e50ed9664d706f9d86f62f7c4bb8.setIcon(div_icon_f6cbdd5664cdf7db8147aa57afb7d62e);\n",
       "        \n",
       "    \n",
       "        var popup_0865fa0dbbd505584772c4914056f396 = L.popup({&quot;maxWidth&quot;: &quot;100%&quot;});\n",
       "\n",
       "        \n",
       "            \n",
       "                var html_97f10742693f86b5f033d69cf66f7628 = $(`&lt;div id=&quot;html_97f10742693f86b5f033d69cf66f7628&quot; style=&quot;width: 100.0%; height: 100.0%;&quot;&gt;S5&lt;/div&gt;`)[0];\n",
       "                popup_0865fa0dbbd505584772c4914056f396.setContent(html_97f10742693f86b5f033d69cf66f7628);\n",
       "            \n",
       "        \n",
       "\n",
       "        marker_a539e50ed9664d706f9d86f62f7c4bb8.bindPopup(popup_0865fa0dbbd505584772c4914056f396)\n",
       "        ;\n",
       "\n",
       "        \n",
       "    \n",
       "    \n",
       "            var feature_group_8768425aaf9dea5a7951b8a7a0a6d481 = L.featureGroup(\n",
       "                {}\n",
       "            );\n",
       "        \n",
       "    \n",
       "            var marker_5e365121661e4631d99a0c2f415ed890 = L.marker(\n",
       "                [45.576052039968395, 0.2074315809973353],\n",
       "                {}\n",
       "            ).addTo(feature_group_8768425aaf9dea5a7951b8a7a0a6d481);\n",
       "        \n",
       "    \n",
       "            var div_icon_ac46a8770838fc119395942f7e003f31 = L.divIcon({&quot;className&quot;: &quot;empty&quot;, &quot;html&quot;: &quot;\\n            \\u003cdiv\\u003e\\u003csvg\\u003e\\n                \\u003ccircle cx=\\&quot;5\\&quot; cy=\\&quot;5\\&quot; r=\\&quot;5\\&quot;, fill=\\&quot;cyan\\&quot;, opacity=\\&quot;.9\\&quot; /\\u003e\\n            \\u003c/svg\\u003e\\u003c/div\\u003e&quot;});\n",
       "            marker_5e365121661e4631d99a0c2f415ed890.setIcon(div_icon_ac46a8770838fc119395942f7e003f31);\n",
       "        \n",
       "    \n",
       "        var popup_9ee8554a3a87a605e92328505942dc31 = L.popup({&quot;maxWidth&quot;: &quot;100%&quot;});\n",
       "\n",
       "        \n",
       "            \n",
       "                var html_51c02bc2f613edf4318c2695feb268bf = $(`&lt;div id=&quot;html_51c02bc2f613edf4318c2695feb268bf&quot; style=&quot;width: 100.0%; height: 100.0%;&quot;&gt;station0/BV 0&lt;/div&gt;`)[0];\n",
       "                popup_9ee8554a3a87a605e92328505942dc31.setContent(html_51c02bc2f613edf4318c2695feb268bf);\n",
       "            \n",
       "        \n",
       "\n",
       "        marker_5e365121661e4631d99a0c2f415ed890.bindPopup(popup_9ee8554a3a87a605e92328505942dc31)\n",
       "        ;\n",
       "\n",
       "        \n",
       "    \n",
       "    \n",
       "            var marker_9e726774625bf78360e3b53ad2e49b0f = L.marker(\n",
       "                [45.57592470945674, 0.20743158645630816],\n",
       "                {}\n",
       "            ).addTo(feature_group_8768425aaf9dea5a7951b8a7a0a6d481);\n",
       "        \n",
       "    \n",
       "            var div_icon_6e5a2cf5aeb613c613682120a3eb74c7 = L.divIcon({&quot;className&quot;: &quot;empty&quot;, &quot;html&quot;: &quot;\\n            \\u003cdiv\\u003e\\u003csvg\\u003e\\n                \\u003ccircle cx=\\&quot;5\\&quot; cy=\\&quot;5\\&quot; r=\\&quot;5\\&quot;, fill=\\&quot;cyan\\&quot;, opacity=\\&quot;.9\\&quot; /\\u003e\\n            \\u003c/svg\\u003e\\u003c/div\\u003e&quot;});\n",
       "            marker_9e726774625bf78360e3b53ad2e49b0f.setIcon(div_icon_6e5a2cf5aeb613c613682120a3eb74c7);\n",
       "        \n",
       "    \n",
       "        var popup_bdb5ca597931a2598b0096611e4b1846 = L.popup({&quot;maxWidth&quot;: &quot;100%&quot;});\n",
       "\n",
       "        \n",
       "            \n",
       "                var html_6c7bcbeb0a588c28e6afee04de62f3fc = $(`&lt;div id=&quot;html_6c7bcbeb0a588c28e6afee04de62f3fc&quot; style=&quot;width: 100.0%; height: 100.0%;&quot;&gt;station0/BV 0&lt;/div&gt;`)[0];\n",
       "                popup_bdb5ca597931a2598b0096611e4b1846.setContent(html_6c7bcbeb0a588c28e6afee04de62f3fc);\n",
       "            \n",
       "        \n",
       "\n",
       "        marker_9e726774625bf78360e3b53ad2e49b0f.bindPopup(popup_bdb5ca597931a2598b0096611e4b1846)\n",
       "        ;\n",
       "\n",
       "        \n",
       "    \n",
       "    \n",
       "            var marker_e8668f9c2c8f5864709b72dd077953c1 = L.marker(\n",
       "                [45.575618624058585, 0.22898097756356206],\n",
       "                {}\n",
       "            ).addTo(feature_group_8768425aaf9dea5a7951b8a7a0a6d481);\n",
       "        \n",
       "    \n",
       "            var div_icon_629653cc0414dd9128138cefba30e91c = L.divIcon({&quot;className&quot;: &quot;empty&quot;, &quot;html&quot;: &quot;\\n            \\u003cdiv\\u003e\\u003csvg\\u003e\\n                \\u003ccircle cx=\\&quot;5\\&quot; cy=\\&quot;5\\&quot; r=\\&quot;5\\&quot;, fill=\\&quot;cyan\\&quot;, opacity=\\&quot;.9\\&quot; /\\u003e\\n            \\u003c/svg\\u003e\\u003c/div\\u003e&quot;});\n",
       "            marker_e8668f9c2c8f5864709b72dd077953c1.setIcon(div_icon_629653cc0414dd9128138cefba30e91c);\n",
       "        \n",
       "    \n",
       "        var popup_b56f886d32eb7ec435bb2ec283e4c091 = L.popup({&quot;maxWidth&quot;: &quot;100%&quot;});\n",
       "\n",
       "        \n",
       "            \n",
       "                var html_8fb6e2ba80635fa1217611dd317f2af9 = $(`&lt;div id=&quot;html_8fb6e2ba80635fa1217611dd317f2af9&quot; style=&quot;width: 100.0%; height: 100.0%;&quot;&gt;station1/BV 0&lt;/div&gt;`)[0];\n",
       "                popup_b56f886d32eb7ec435bb2ec283e4c091.setContent(html_8fb6e2ba80635fa1217611dd317f2af9);\n",
       "            \n",
       "        \n",
       "\n",
       "        marker_e8668f9c2c8f5864709b72dd077953c1.bindPopup(popup_b56f886d32eb7ec435bb2ec283e4c091)\n",
       "        ;\n",
       "\n",
       "        \n",
       "    \n",
       "    \n",
       "            var marker_081b6da7a6415aeccea4c8ad9a9a9253 = L.marker(\n",
       "                [45.575459485852086, 0.22898095991079212],\n",
       "                {}\n",
       "            ).addTo(feature_group_8768425aaf9dea5a7951b8a7a0a6d481);\n",
       "        \n",
       "    \n",
       "            var div_icon_9469a8e3f8083c716b2127100896d5bc = L.divIcon({&quot;className&quot;: &quot;empty&quot;, &quot;html&quot;: &quot;\\n            \\u003cdiv\\u003e\\u003csvg\\u003e\\n                \\u003ccircle cx=\\&quot;5\\&quot; cy=\\&quot;5\\&quot; r=\\&quot;5\\&quot;, fill=\\&quot;cyan\\&quot;, opacity=\\&quot;.9\\&quot; /\\u003e\\n            \\u003c/svg\\u003e\\u003c/div\\u003e&quot;});\n",
       "            marker_081b6da7a6415aeccea4c8ad9a9a9253.setIcon(div_icon_9469a8e3f8083c716b2127100896d5bc);\n",
       "        \n",
       "    \n",
       "        var popup_0815260b66e7b9cf4d83d69a3e0c777a = L.popup({&quot;maxWidth&quot;: &quot;100%&quot;});\n",
       "\n",
       "        \n",
       "            \n",
       "                var html_3218380b5969130c404f59ceea49bbe2 = $(`&lt;div id=&quot;html_3218380b5969130c404f59ceea49bbe2&quot; style=&quot;width: 100.0%; height: 100.0%;&quot;&gt;station1/BV 0&lt;/div&gt;`)[0];\n",
       "                popup_0815260b66e7b9cf4d83d69a3e0c777a.setContent(html_3218380b5969130c404f59ceea49bbe2);\n",
       "            \n",
       "        \n",
       "\n",
       "        marker_081b6da7a6415aeccea4c8ad9a9a9253.bindPopup(popup_0815260b66e7b9cf4d83d69a3e0c777a)\n",
       "        ;\n",
       "\n",
       "        \n",
       "    \n",
       "    \n",
       "            var feature_group_db672544ba9c20d9885fe0aaaeb6a432 = L.featureGroup(\n",
       "                {}\n",
       "            );\n",
       "        \n",
       "    \n",
       "            var marker_18a60630579fb494b4d2d4590f810fa3 = L.marker(\n",
       "                [45.576052039968395, 0.2074315809973353],\n",
       "                {}\n",
       "            ).addTo(feature_group_db672544ba9c20d9885fe0aaaeb6a432);\n",
       "        \n",
       "    \n",
       "            var div_icon_bc02a3e6bfec1edf01dc95194bb352c3 = L.divIcon({&quot;className&quot;: &quot;empty&quot;, &quot;html&quot;: &quot;\\n            \\u003cdiv\\u003e\\u003csvg\\u003e\\n                \\u003crect x=\\&quot;-5\\&quot; y=\\&quot;-5\\&quot; width=\\&quot;20\\&quot;\\n                height=\\&quot;20\\&quot;, fill=\\&quot;grey\\&quot;, opacity=\\&quot;.8\\&quot; /\\u003e\\n            \\u003c/svg\\u003e\\u003c/div\\u003e&quot;});\n",
       "            marker_18a60630579fb494b4d2d4590f810fa3.setIcon(div_icon_bc02a3e6bfec1edf01dc95194bb352c3);\n",
       "        \n",
       "    \n",
       "        var popup_65b67d83bd483830159d57510d4507e8 = L.popup({&quot;maxWidth&quot;: &quot;100%&quot;});\n",
       "\n",
       "        \n",
       "            \n",
       "                var html_652c734ecd501ac8979838baf0e28829 = $(`&lt;div id=&quot;html_652c734ecd501ac8979838baf0e28829&quot; style=&quot;width: 100.0%; height: 100.0%;&quot;&gt;0 station0 T0&lt;/div&gt;`)[0];\n",
       "                popup_65b67d83bd483830159d57510d4507e8.setContent(html_652c734ecd501ac8979838baf0e28829);\n",
       "            \n",
       "        \n",
       "\n",
       "        marker_18a60630579fb494b4d2d4590f810fa3.bindPopup(popup_65b67d83bd483830159d57510d4507e8)\n",
       "        ;\n",
       "\n",
       "        \n",
       "    \n",
       "    \n",
       "            var marker_18f7963c43457224078461481e3a875d = L.marker(\n",
       "                [45.57592470945674, 0.20743158645630816],\n",
       "                {}\n",
       "            ).addTo(feature_group_db672544ba9c20d9885fe0aaaeb6a432);\n",
       "        \n",
       "    \n",
       "            var div_icon_10274f4169ea5305f0c6a52f9402ffee = L.divIcon({&quot;className&quot;: &quot;empty&quot;, &quot;html&quot;: &quot;\\n            \\u003cdiv\\u003e\\u003csvg\\u003e\\n                \\u003crect x=\\&quot;-5\\&quot; y=\\&quot;-5\\&quot; width=\\&quot;20\\&quot;\\n                height=\\&quot;20\\&quot;, fill=\\&quot;grey\\&quot;, opacity=\\&quot;.8\\&quot; /\\u003e\\n            \\u003c/svg\\u003e\\u003c/div\\u003e&quot;});\n",
       "            marker_18f7963c43457224078461481e3a875d.setIcon(div_icon_10274f4169ea5305f0c6a52f9402ffee);\n",
       "        \n",
       "    \n",
       "        var popup_cc2e5423887b7660d5d4eac70ff222eb = L.popup({&quot;maxWidth&quot;: &quot;100%&quot;});\n",
       "\n",
       "        \n",
       "            \n",
       "                var html_eb06e055134c3d44062a47e94a2ec8e3 = $(`&lt;div id=&quot;html_eb06e055134c3d44062a47e94a2ec8e3&quot; style=&quot;width: 100.0%; height: 100.0%;&quot;&gt;0 station0 T1&lt;/div&gt;`)[0];\n",
       "                popup_cc2e5423887b7660d5d4eac70ff222eb.setContent(html_eb06e055134c3d44062a47e94a2ec8e3);\n",
       "            \n",
       "        \n",
       "\n",
       "        marker_18f7963c43457224078461481e3a875d.bindPopup(popup_cc2e5423887b7660d5d4eac70ff222eb)\n",
       "        ;\n",
       "\n",
       "        \n",
       "    \n",
       "    \n",
       "            var marker_7d6ed9a14747e370c51dcac6c0dfc6b7 = L.marker(\n",
       "                [45.575618624058585, 0.22898097756356206],\n",
       "                {}\n",
       "            ).addTo(feature_group_db672544ba9c20d9885fe0aaaeb6a432);\n",
       "        \n",
       "    \n",
       "            var div_icon_0cd8d6e8905efd3f421df14b785c5356 = L.divIcon({&quot;className&quot;: &quot;empty&quot;, &quot;html&quot;: &quot;\\n            \\u003cdiv\\u003e\\u003csvg\\u003e\\n                \\u003crect x=\\&quot;-5\\&quot; y=\\&quot;-5\\&quot; width=\\&quot;20\\&quot;\\n                height=\\&quot;20\\&quot;, fill=\\&quot;grey\\&quot;, opacity=\\&quot;.8\\&quot; /\\u003e\\n            \\u003c/svg\\u003e\\u003c/div\\u003e&quot;});\n",
       "            marker_7d6ed9a14747e370c51dcac6c0dfc6b7.setIcon(div_icon_0cd8d6e8905efd3f421df14b785c5356);\n",
       "        \n",
       "    \n",
       "        var popup_fdf092be86fd246463afa6a129002df4 = L.popup({&quot;maxWidth&quot;: &quot;100%&quot;});\n",
       "\n",
       "        \n",
       "            \n",
       "                var html_bf17a464e8ce05850470e788b610069f = $(`&lt;div id=&quot;html_bf17a464e8ce05850470e788b610069f&quot; style=&quot;width: 100.0%; height: 100.0%;&quot;&gt;0 station1 T4&lt;/div&gt;`)[0];\n",
       "                popup_fdf092be86fd246463afa6a129002df4.setContent(html_bf17a464e8ce05850470e788b610069f);\n",
       "            \n",
       "        \n",
       "\n",
       "        marker_7d6ed9a14747e370c51dcac6c0dfc6b7.bindPopup(popup_fdf092be86fd246463afa6a129002df4)\n",
       "        ;\n",
       "\n",
       "        \n",
       "    \n",
       "    \n",
       "            var marker_bbf5a102e141752c8c310d85ed25cb3e = L.marker(\n",
       "                [45.575459485852086, 0.22898095991079212],\n",
       "                {}\n",
       "            ).addTo(feature_group_db672544ba9c20d9885fe0aaaeb6a432);\n",
       "        \n",
       "    \n",
       "            var div_icon_fc7feff2051ba2e7c77cad8a494ab457 = L.divIcon({&quot;className&quot;: &quot;empty&quot;, &quot;html&quot;: &quot;\\n            \\u003cdiv\\u003e\\u003csvg\\u003e\\n                \\u003crect x=\\&quot;-5\\&quot; y=\\&quot;-5\\&quot; width=\\&quot;20\\&quot;\\n                height=\\&quot;20\\&quot;, fill=\\&quot;grey\\&quot;, opacity=\\&quot;.8\\&quot; /\\u003e\\n            \\u003c/svg\\u003e\\u003c/div\\u003e&quot;});\n",
       "            marker_bbf5a102e141752c8c310d85ed25cb3e.setIcon(div_icon_fc7feff2051ba2e7c77cad8a494ab457);\n",
       "        \n",
       "    \n",
       "        var popup_c4d8c654286c7552aed00112ced34879 = L.popup({&quot;maxWidth&quot;: &quot;100%&quot;});\n",
       "\n",
       "        \n",
       "            \n",
       "                var html_d9240b44b4d003c377d2931052e279f1 = $(`&lt;div id=&quot;html_d9240b44b4d003c377d2931052e279f1&quot; style=&quot;width: 100.0%; height: 100.0%;&quot;&gt;0 station1 T5&lt;/div&gt;`)[0];\n",
       "                popup_c4d8c654286c7552aed00112ced34879.setContent(html_d9240b44b4d003c377d2931052e279f1);\n",
       "            \n",
       "        \n",
       "\n",
       "        marker_bbf5a102e141752c8c310d85ed25cb3e.bindPopup(popup_c4d8c654286c7552aed00112ced34879)\n",
       "        ;\n",
       "\n",
       "        \n",
       "    \n",
       "    \n",
       "            var feature_group_46130c48d8db75b05b230ae8458b9f96 = L.featureGroup(\n",
       "                {}\n",
       "            );\n",
       "        \n",
       "    \n",
       "            var marker_b09d2c4fd750140f6b9c5cdd653e02a9 = L.marker(\n",
       "                [45.575988410701974, 0.21],\n",
       "                {}\n",
       "            ).addTo(feature_group_46130c48d8db75b05b230ae8458b9f96);\n",
       "        \n",
       "    \n",
       "            var div_icon_5544573a705b6b7ca49302376a74417a = L.divIcon({&quot;className&quot;: &quot;empty&quot;, &quot;html&quot;: &quot;\\n            \\u003cdiv\\u003e\\u003csvg\\u003e\\n                \\u003ccircle cx=\\&quot;5\\&quot; cy=\\&quot;5\\&quot; r=\\&quot;5\\&quot;, fill=\\&quot;black\\&quot;, opacity=\\&quot;.8\\&quot; /\\u003e\\n            \\u003c/svg\\u003e\\u003c/div\\u003e&quot;});\n",
       "            marker_b09d2c4fd750140f6b9c5cdd653e02a9.setIcon(div_icon_5544573a705b6b7ca49302376a74417a);\n",
       "        \n",
       "    \n",
       "        var popup_60428025c6ef9f27e61bd839316a3e18 = L.popup({&quot;maxWidth&quot;: &quot;100%&quot;});\n",
       "\n",
       "        \n",
       "            \n",
       "                var html_166df7f97b9017667df7be184eee2372 = $(`&lt;div id=&quot;html_166df7f97b9017667df7be184eee2372&quot; style=&quot;width: 100.0%; height: 100.0%;&quot;&gt;CVG&lt;/div&gt;`)[0];\n",
       "                popup_60428025c6ef9f27e61bd839316a3e18.setContent(html_166df7f97b9017667df7be184eee2372);\n",
       "            \n",
       "        \n",
       "\n",
       "        marker_b09d2c4fd750140f6b9c5cdd653e02a9.bindPopup(popup_60428025c6ef9f27e61bd839316a3e18)\n",
       "        ;\n",
       "\n",
       "        \n",
       "    \n",
       "    \n",
       "            var marker_60f57be3f406331f12cea1566face570 = L.marker(\n",
       "                [45.575988230670404, 0.21642405916960833],\n",
       "                {}\n",
       "            ).addTo(feature_group_46130c48d8db75b05b230ae8458b9f96);\n",
       "        \n",
       "    \n",
       "            var div_icon_be9860291d00053a371b326ec565210d = L.divIcon({&quot;className&quot;: &quot;empty&quot;, &quot;html&quot;: &quot;\\n            \\u003cdiv\\u003e\\u003csvg\\u003e\\n                \\u003ccircle cx=\\&quot;5\\&quot; cy=\\&quot;5\\&quot; r=\\&quot;5\\&quot;, fill=\\&quot;black\\&quot;, opacity=\\&quot;.8\\&quot; /\\u003e\\n            \\u003c/svg\\u003e\\u003c/div\\u003e&quot;});\n",
       "            marker_60f57be3f406331f12cea1566face570.setIcon(div_icon_be9860291d00053a371b326ec565210d);\n",
       "        \n",
       "    \n",
       "        var popup_13b7f3e25b33d0271c9fb845836d4daa = L.popup({&quot;maxWidth&quot;: &quot;100%&quot;});\n",
       "\n",
       "        \n",
       "            \n",
       "                var html_2b039cc0682769823f38665bcbbea120 = $(`&lt;div id=&quot;html_2b039cc0682769823f38665bcbbea120&quot; style=&quot;width: 100.0%; height: 100.0%;&quot;&gt;L&lt;/div&gt;`)[0];\n",
       "                popup_13b7f3e25b33d0271c9fb845836d4daa.setContent(html_2b039cc0682769823f38665bcbbea120);\n",
       "            \n",
       "        \n",
       "\n",
       "        marker_60f57be3f406331f12cea1566face570.bindPopup(popup_13b7f3e25b33d0271c9fb845836d4daa)\n",
       "        ;\n",
       "\n",
       "        \n",
       "    \n",
       "    \n",
       "            var marker_c1dc19dfea2cc4b5909c8de7babe5664 = L.marker(\n",
       "                [45.57553914131219, 0.22281597368346445],\n",
       "                {}\n",
       "            ).addTo(feature_group_46130c48d8db75b05b230ae8458b9f96);\n",
       "        \n",
       "    \n",
       "            var div_icon_0b6494b5f9a2f7d8b4a549f4a5abe55a = L.divIcon({&quot;className&quot;: &quot;empty&quot;, &quot;html&quot;: &quot;\\n            \\u003cdiv\\u003e\\u003csvg\\u003e\\n                \\u003ccircle cx=\\&quot;5\\&quot; cy=\\&quot;5\\&quot; r=\\&quot;5\\&quot;, fill=\\&quot;black\\&quot;, opacity=\\&quot;.8\\&quot; /\\u003e\\n            \\u003c/svg\\u003e\\u003c/div\\u003e&quot;});\n",
       "            marker_c1dc19dfea2cc4b5909c8de7babe5664.setIcon(div_icon_0b6494b5f9a2f7d8b4a549f4a5abe55a);\n",
       "        \n",
       "    \n",
       "        var popup_3d6b46c79bf17a1b3e5670f2a2b4e419 = L.popup({&quot;maxWidth&quot;: &quot;100%&quot;});\n",
       "\n",
       "        \n",
       "            \n",
       "                var html_8f63336763e63f39dbacf3d172482bd6 = $(`&lt;div id=&quot;html_8f63336763e63f39dbacf3d172482bd6&quot; style=&quot;width: 100.0%; height: 100.0%;&quot;&gt;DVG&lt;/div&gt;`)[0];\n",
       "                popup_3d6b46c79bf17a1b3e5670f2a2b4e419.setContent(html_8f63336763e63f39dbacf3d172482bd6);\n",
       "            \n",
       "        \n",
       "\n",
       "        marker_c1dc19dfea2cc4b5909c8de7babe5664.bindPopup(popup_3d6b46c79bf17a1b3e5670f2a2b4e419)\n",
       "        ;\n",
       "\n",
       "        \n",
       "    \n",
       "    \n",
       "            L.control.fullscreen(\n",
       "                {&quot;forceSeparateButton&quot;: false, &quot;position&quot;: &quot;topleft&quot;, &quot;title&quot;: &quot;Full Screen&quot;, &quot;titleCancel&quot;: &quot;Exit Full Screen&quot;}\n",
       "            ).addTo(map_8788181ba4980537bff9fa14fc770f1d);\n",
       "        \n",
       "    \n",
       "            var feature_group_1f716e6b2414a92ebc42aaa9f1284b4a = L.featureGroup(\n",
       "                {}\n",
       "            );\n",
       "        \n",
       "    \n",
       "            var rectangle_1d9ce9e5143fd7840796fb87f4a6473f = L.rectangle(\n",
       "                [[45.57600431801858, 0.2035779438974819], [45.57606788984581, 0.20935789524933382]],\n",
       "                {&quot;bubblingMouseEvents&quot;: true, &quot;color&quot;: &quot;#00ff00&quot;, &quot;dashArray&quot;: null, &quot;dashOffset&quot;: null, &quot;fill&quot;: true, &quot;fillColor&quot;: &quot;#00ff00&quot;, &quot;fillOpacity&quot;: 0.2, &quot;fillRule&quot;: &quot;evenodd&quot;, &quot;lineCap&quot;: &quot;round&quot;, &quot;lineJoin&quot;: &quot;round&quot;, &quot;noClip&quot;: false, &quot;opacity&quot;: 1.0, &quot;smoothFactor&quot;: 1.0, &quot;stroke&quot;: true, &quot;weight&quot;: 1}\n",
       "            ).addTo(feature_group_1f716e6b2414a92ebc42aaa9f1284b4a);\n",
       "        \n",
       "    \n",
       "        var popup_b76749244162778d41ce6e670d72d252 = L.popup({&quot;maxWidth&quot;: &quot;100%&quot;});\n",
       "\n",
       "        \n",
       "            \n",
       "                var html_3891bdbe4279bedd08b7ff4996b2e075 = $(`&lt;div id=&quot;html_3891bdbe4279bedd08b7ff4996b2e075&quot; style=&quot;width: 100.0%; height: 100.0%;&quot;&gt;D0&lt;-&gt;buffer_stop.0&lt;/div&gt;`)[0];\n",
       "                popup_b76749244162778d41ce6e670d72d252.setContent(html_3891bdbe4279bedd08b7ff4996b2e075);\n",
       "            \n",
       "        \n",
       "\n",
       "        rectangle_1d9ce9e5143fd7840796fb87f4a6473f.bindPopup(popup_b76749244162778d41ce6e670d72d252)\n",
       "        ;\n",
       "\n",
       "        \n",
       "    \n",
       "    \n",
       "            var rectangle_c313145344621ff9690c7fdd78beb656 = L.rectangle(\n",
       "                [[45.575972485390665, 0.20935789524933382], [45.57600431801858, 0.21064240591696082]],\n",
       "                {&quot;bubblingMouseEvents&quot;: true, &quot;color&quot;: &quot;#ff00ff&quot;, &quot;dashArray&quot;: null, &quot;dashOffset&quot;: null, &quot;fill&quot;: true, &quot;fillColor&quot;: &quot;#ff00ff&quot;, &quot;fillOpacity&quot;: 0.2, &quot;fillRule&quot;: &quot;evenodd&quot;, &quot;lineCap&quot;: &quot;round&quot;, &quot;lineJoin&quot;: &quot;round&quot;, &quot;noClip&quot;: false, &quot;opacity&quot;: 1.0, &quot;smoothFactor&quot;: 1.0, &quot;stroke&quot;: true, &quot;weight&quot;: 1}\n",
       "            ).addTo(feature_group_1f716e6b2414a92ebc42aaa9f1284b4a);\n",
       "        \n",
       "    \n",
       "        var popup_45ecbc9a9aec9f4e2b3f62d34afda522 = L.popup({&quot;maxWidth&quot;: &quot;100%&quot;});\n",
       "\n",
       "        \n",
       "            \n",
       "                var html_dba8b012fd569f8fc4190c37e235b0fe = $(`&lt;div id=&quot;html_dba8b012fd569f8fc4190c37e235b0fe&quot; style=&quot;width: 100.0%; height: 100.0%;&quot;&gt;CVG&lt;/div&gt;`)[0];\n",
       "                popup_45ecbc9a9aec9f4e2b3f62d34afda522.setContent(html_dba8b012fd569f8fc4190c37e235b0fe);\n",
       "            \n",
       "        \n",
       "\n",
       "        rectangle_c313145344621ff9690c7fdd78beb656.bindPopup(popup_45ecbc9a9aec9f4e2b3f62d34afda522)\n",
       "        ;\n",
       "\n",
       "        \n",
       "    \n",
       "    \n",
       "            var rectangle_4ecf277a0ec120ad00dfa3ef468bcb95 = L.rectangle(\n",
       "                [[45.57558405024801, 0.21064240591696082], [45.57598839269882, 0.22217678223207885]],\n",
       "                {&quot;bubblingMouseEvents&quot;: true, &quot;color&quot;: &quot;#0080ff&quot;, &quot;dashArray&quot;: null, &quot;dashOffset&quot;: null, &quot;fill&quot;: true, &quot;fillColor&quot;: &quot;#0080ff&quot;, &quot;fillOpacity&quot;: 0.2, &quot;fillRule&quot;: &quot;evenodd&quot;, &quot;lineCap&quot;: &quot;round&quot;, &quot;lineJoin&quot;: &quot;round&quot;, &quot;noClip&quot;: false, &quot;opacity&quot;: 1.0, &quot;smoothFactor&quot;: 1.0, &quot;stroke&quot;: true, &quot;weight&quot;: 1}\n",
       "            ).addTo(feature_group_1f716e6b2414a92ebc42aaa9f1284b4a);\n",
       "        \n",
       "    \n",
       "        var popup_2a4de99fe3b72456bb2359237df2566e = L.popup({&quot;maxWidth&quot;: &quot;100%&quot;});\n",
       "\n",
       "        \n",
       "            \n",
       "                var html_46dc4540c9e2ad564e1214cace7992ce = $(`&lt;div id=&quot;html_46dc4540c9e2ad564e1214cace7992ce&quot; style=&quot;width: 100.0%; height: 100.0%;&quot;&gt;D2&lt;-&gt;D3&lt;/div&gt;`)[0];\n",
       "                popup_2a4de99fe3b72456bb2359237df2566e.setContent(html_46dc4540c9e2ad564e1214cace7992ce);\n",
       "            \n",
       "        \n",
       "\n",
       "        rectangle_4ecf277a0ec120ad00dfa3ef468bcb95.bindPopup(popup_2a4de99fe3b72456bb2359237df2566e)\n",
       "        ;\n",
       "\n",
       "        \n",
       "    \n",
       "    \n",
       "            var rectangle_130ad42a5d951b236791c8c3765dc94a = L.rectangle(\n",
       "                [[45.575908751639325, 0.20357796209690945], [45.575972485390665, 0.20935789661407703]],\n",
       "                {&quot;bubblingMouseEvents&quot;: true, &quot;color&quot;: &quot;#ff8000&quot;, &quot;dashArray&quot;: null, &quot;dashOffset&quot;: null, &quot;fill&quot;: true, &quot;fillColor&quot;: &quot;#ff8000&quot;, &quot;fillOpacity&quot;: 0.2, &quot;fillRule&quot;: &quot;evenodd&quot;, &quot;lineCap&quot;: &quot;round&quot;, &quot;lineJoin&quot;: &quot;round&quot;, &quot;noClip&quot;: false, &quot;opacity&quot;: 1.0, &quot;smoothFactor&quot;: 1.0, &quot;stroke&quot;: true, &quot;weight&quot;: 1}\n",
       "            ).addTo(feature_group_1f716e6b2414a92ebc42aaa9f1284b4a);\n",
       "        \n",
       "    \n",
       "        var popup_26b9015866e89b40ed207580ee40aee4 = L.popup({&quot;maxWidth&quot;: &quot;100%&quot;});\n",
       "\n",
       "        \n",
       "            \n",
       "                var html_b5918876c35e320115937088a5a22b19 = $(`&lt;div id=&quot;html_b5918876c35e320115937088a5a22b19&quot; style=&quot;width: 100.0%; height: 100.0%;&quot;&gt;D1&lt;-&gt;buffer_stop.1&lt;/div&gt;`)[0];\n",
       "                popup_26b9015866e89b40ed207580ee40aee4.setContent(html_b5918876c35e320115937088a5a22b19);\n",
       "            \n",
       "        \n",
       "\n",
       "        rectangle_130ad42a5d951b236791c8c3765dc94a.bindPopup(popup_26b9015866e89b40ed207580ee40aee4)\n",
       "        ;\n",
       "\n",
       "        \n",
       "    \n",
       "    \n",
       "            var rectangle_18b68ef0e59dcca407c291e9892e271e = L.rectangle(\n",
       "                [[45.5755232210009, 0.22217678223207885], [45.57558405024801, 0.22345787261419756]],\n",
       "                {&quot;bubblingMouseEvents&quot;: true, &quot;color&quot;: &quot;#80bf80&quot;, &quot;dashArray&quot;: null, &quot;dashOffset&quot;: null, &quot;fill&quot;: true, &quot;fillColor&quot;: &quot;#80bf80&quot;, &quot;fillOpacity&quot;: 0.2, &quot;fillRule&quot;: &quot;evenodd&quot;, &quot;lineCap&quot;: &quot;round&quot;, &quot;lineJoin&quot;: &quot;round&quot;, &quot;noClip&quot;: false, &quot;opacity&quot;: 1.0, &quot;smoothFactor&quot;: 1.0, &quot;stroke&quot;: true, &quot;weight&quot;: 1}\n",
       "            ).addTo(feature_group_1f716e6b2414a92ebc42aaa9f1284b4a);\n",
       "        \n",
       "    \n",
       "        var popup_2b6cf87b70065cdb15c3deb1c3e9b346 = L.popup({&quot;maxWidth&quot;: &quot;100%&quot;});\n",
       "\n",
       "        \n",
       "            \n",
       "                var html_0be0b39db81aa3885a8f285b968e3604 = $(`&lt;div id=&quot;html_0be0b39db81aa3885a8f285b968e3604&quot; style=&quot;width: 100.0%; height: 100.0%;&quot;&gt;DVG&lt;/div&gt;`)[0];\n",
       "                popup_2b6cf87b70065cdb15c3deb1c3e9b346.setContent(html_0be0b39db81aa3885a8f285b968e3604);\n",
       "            \n",
       "        \n",
       "\n",
       "        rectangle_18b68ef0e59dcca407c291e9892e271e.bindPopup(popup_2b6cf87b70065cdb15c3deb1c3e9b346)\n",
       "        ;\n",
       "\n",
       "        \n",
       "    \n",
       "    \n",
       "            var rectangle_eed73a457fbf9d152d74fb3d3b2c2761 = L.rectangle(\n",
       "                [[45.57555504365724, 0.22345787261419756], [45.57561862045744, 0.2292379784068491]],\n",
       "                {&quot;bubblingMouseEvents&quot;: true, &quot;color&quot;: &quot;#6a2595&quot;, &quot;dashArray&quot;: null, &quot;dashOffset&quot;: null, &quot;fill&quot;: true, &quot;fillColor&quot;: &quot;#6a2595&quot;, &quot;fillOpacity&quot;: 0.2, &quot;fillRule&quot;: &quot;evenodd&quot;, &quot;lineCap&quot;: &quot;round&quot;, &quot;lineJoin&quot;: &quot;round&quot;, &quot;noClip&quot;: false, &quot;opacity&quot;: 1.0, &quot;smoothFactor&quot;: 1.0, &quot;stroke&quot;: true, &quot;weight&quot;: 1}\n",
       "            ).addTo(feature_group_1f716e6b2414a92ebc42aaa9f1284b4a);\n",
       "        \n",
       "    \n",
       "        var popup_f820232e65e4a7b1b25ddaa86732c563 = L.popup({&quot;maxWidth&quot;: &quot;100%&quot;});\n",
       "\n",
       "        \n",
       "            \n",
       "                var html_446d27bf85d8fe75ac4a1ad14af68e96 = $(`&lt;div id=&quot;html_446d27bf85d8fe75ac4a1ad14af68e96&quot; style=&quot;width: 100.0%; height: 100.0%;&quot;&gt;D4&lt;-&gt;buffer_stop.2&lt;/div&gt;`)[0];\n",
       "                popup_f820232e65e4a7b1b25ddaa86732c563.setContent(html_446d27bf85d8fe75ac4a1ad14af68e96);\n",
       "            \n",
       "        \n",
       "\n",
       "        rectangle_eed73a457fbf9d152d74fb3d3b2c2761.bindPopup(popup_f820232e65e4a7b1b25ddaa86732c563)\n",
       "        ;\n",
       "\n",
       "        \n",
       "    \n",
       "    \n",
       "            var rectangle_f739a6409809f8836ad0cb64f8e428a5 = L.rectangle(\n",
       "                [[45.575459482250956, 0.2234578703405344], [45.5755232210009, 0.22923796020785261]],\n",
       "                {&quot;bubblingMouseEvents&quot;: true, &quot;color&quot;: &quot;#b80508&quot;, &quot;dashArray&quot;: null, &quot;dashOffset&quot;: null, &quot;fill&quot;: true, &quot;fillColor&quot;: &quot;#b80508&quot;, &quot;fillOpacity&quot;: 0.2, &quot;fillRule&quot;: &quot;evenodd&quot;, &quot;lineCap&quot;: &quot;round&quot;, &quot;lineJoin&quot;: &quot;round&quot;, &quot;noClip&quot;: false, &quot;opacity&quot;: 1.0, &quot;smoothFactor&quot;: 1.0, &quot;stroke&quot;: true, &quot;weight&quot;: 1}\n",
       "            ).addTo(feature_group_1f716e6b2414a92ebc42aaa9f1284b4a);\n",
       "        \n",
       "    \n",
       "        var popup_0d70be31ebfbe272351e067dc2227939 = L.popup({&quot;maxWidth&quot;: &quot;100%&quot;});\n",
       "\n",
       "        \n",
       "            \n",
       "                var html_4b943610a52881995695a4f0ca1fab23 = $(`&lt;div id=&quot;html_4b943610a52881995695a4f0ca1fab23&quot; style=&quot;width: 100.0%; height: 100.0%;&quot;&gt;D5&lt;-&gt;buffer_stop.3&lt;/div&gt;`)[0];\n",
       "                popup_0d70be31ebfbe272351e067dc2227939.setContent(html_4b943610a52881995695a4f0ca1fab23);\n",
       "            \n",
       "        \n",
       "\n",
       "        rectangle_f739a6409809f8836ad0cb64f8e428a5.bindPopup(popup_0d70be31ebfbe272351e067dc2227939)\n",
       "        ;\n",
       "\n",
       "        \n",
       "    \n",
       "    \n",
       "            var layer_control_2b419a74e609482d554fb0c6ebd4c2b4_layers = {\n",
       "                base_layers : {\n",
       "                    &quot;OpenStreetMap&quot; : tile_layer_7d4a0a26cf1e6088fd0d276705a528fe,\n",
       "                    &quot;Positron&quot; : tile_layer_6f5421d771735faf731441e87354d735,\n",
       "                    &quot;None&quot; : tile_layer_5a0e307102b7af14e006922a0db0c806,\n",
       "                },\n",
       "                overlays :  {\n",
       "                    &quot;Rails&quot; : feature_group_c636a6075c916b39b8eb09d67ca9f1ca,\n",
       "                    &quot;Detectors&quot; : feature_group_faa894df9ca7db176ee54058ad028e92,\n",
       "                    &quot;Buffer Stops&quot; : feature_group_49d1282e9d72cf7d5364c92096fbe7a2,\n",
       "                    &quot;Signals&quot; : feature_group_f37ca10ffc58252d0514185390f61255,\n",
       "                    &quot;Operational Points&quot; : feature_group_8768425aaf9dea5a7951b8a7a0a6d481,\n",
       "                    &quot;Stations&quot; : feature_group_db672544ba9c20d9885fe0aaaeb6a432,\n",
       "                    &quot;Switches&quot; : feature_group_46130c48d8db75b05b230ae8458b9f96,\n",
       "                    &quot;Zones&quot; : feature_group_1f716e6b2414a92ebc42aaa9f1284b4a,\n",
       "                },\n",
       "            };\n",
       "            let layer_control_2b419a74e609482d554fb0c6ebd4c2b4 = L.control.layers(\n",
       "                layer_control_2b419a74e609482d554fb0c6ebd4c2b4_layers.base_layers,\n",
       "                layer_control_2b419a74e609482d554fb0c6ebd4c2b4_layers.overlays,\n",
       "                {&quot;autoZIndex&quot;: true, &quot;collapsed&quot;: true, &quot;position&quot;: &quot;topright&quot;}\n",
       "            ).addTo(map_8788181ba4980537bff9fa14fc770f1d);\n",
       "\n",
       "        \n",
       "    \n",
       "            L.Control.TimeDimensionCustom = L.Control.TimeDimension.extend({\n",
       "                _getDisplayDateFormat: function(date){\n",
       "                    var newdate = new moment(date);\n",
       "                    console.log(newdate)\n",
       "                    return newdate.format(&quot;YYYY-MM-DD HH:mm:ss&quot;);\n",
       "                }\n",
       "            });\n",
       "            map_8788181ba4980537bff9fa14fc770f1d.timeDimension = L.timeDimension(\n",
       "                {\n",
       "                    period: &quot;PT5S&quot;,\n",
       "                }\n",
       "            );\n",
       "            var timeDimensionControl = new L.Control.TimeDimensionCustom(\n",
       "                {&quot;autoPlay&quot;: false, &quot;loopButton&quot;: false, &quot;maxSpeed&quot;: 12, &quot;minSpeed&quot;: 1, &quot;playerOptions&quot;: {&quot;loop&quot;: false, &quot;startOver&quot;: true, &quot;transitionTime&quot;: 200}, &quot;position&quot;: &quot;bottomleft&quot;, &quot;speedSlider&quot;: true, &quot;timeSliderDragUpdate&quot;: false}\n",
       "            );\n",
       "            map_8788181ba4980537bff9fa14fc770f1d.addControl(this.timeDimensionControl);\n",
       "\n",
       "            var geoJsonLayer = L.geoJson({&quot;type&quot;: &quot;FeatureCollection&quot;, &quot;features&quot;: [{&quot;type&quot;: &quot;Feature&quot;, &quot;geometry&quot;: {&quot;type&quot;: &quot;LineString&quot;, &quot;coordinates&quot;: [[0.2074315809973353, 45.576052039968395], [0.20752425143207842, 45.576049744177965], [0.20780021198829504, 45.576042907611296], [0.2081861409038209, 45.57603334672042], [0.2087387780358235, 45.57601965584862], [0.20948134939869423, 45.57600125960134], [0.21033595404500577, 45.575988401287], [0.21136806129846974, 45.57598837236263], [0.2125838809729588, 45.57598833828979], [0.2138709050607813, 45.575988302221475], [0.21536019729816935, 45.575969238907], [0.21689846609824617, 45.575945568395994], [0.21862283978580804, 45.57583374659937], [0.22037034396052674, 45.5757109687483], [0.2220097179281431, 45.57559578801467], [0.22348501774399512, 45.57555571614819], [0.22477051258056333, 45.575587562878994], [0.22594209074665927, 45.575613995408446], [0.22688109322492767, 45.57561731282104], [0.22765985707383482, 45.57561864257039], [0.22831322810284801, 45.57561863341523], [0.2287157118467203, 45.57561862777554], [0.22897531673724816, 45.57561862413791], [null, null]]}, &quot;properties&quot;: {&quot;times&quot;: [1727042400000.0, 1727042405220.265, 1727042410440.5298, 1727042415660.7947, 1727042420881.0596, 1727042426101.3245, 1727042431321.5894, 1727042436541.8542, 1727042441762.1191, 1727042446982.384, 1727042452202.649, 1727042457422.9138, 1727042462643.1785, 1727042467863.4434, 1727042473083.7083, 1727042478303.9731, 1727042483524.238, 1727042488744.503, 1727042493964.7678, 1727042499185.0327, 1727042504405.2976, 1727042509625.5625, 1727042514845.8274, 1727042520066.0923], &quot;icon&quot;: &quot;circle&quot;, &quot;iconstyle&quot;: {&quot;fillColor&quot;: &quot;black&quot;, &quot;fillOpacity&quot;: 0.9, &quot;stroke&quot;: &quot;false&quot;, &quot;radius&quot;: 3}, &quot;style&quot;: {&quot;weight&quot;: 0}}}, {&quot;type&quot;: &quot;Feature&quot;, &quot;geometry&quot;: {&quot;type&quot;: &quot;LineString&quot;, &quot;coordinates&quot;: [[0.20743158645630816, 45.57592470945674], [0.207528173133438, 45.57592710497892], [0.20782626235483645, 45.57593449812425], [0.2082562114361682, 45.57594516162972], [0.20883220292678248, 45.5759594472479], [0.20964921307875858, 45.57597971055953], [0.21059766814951247, 45.57598839395257], [0.21167760325792065, 45.57598836368785], [0.21301901969331113, 45.57598832609521], [0.21440702272870957, 45.57598390612844], [0.21601030200684845, 45.575959235251815], [0.21768674734540075, 45.57589951549418], [0.21950524138405325, 45.57577174996807], [0.2212599902251748, 45.575648463114156], [0.22286948101269924, 45.57553781422421], [0.22428525697158924, 45.57550270017005], [0.22554255172607654, 45.57547151676435], [0.2265542077554206, 45.57546283898573], [0.22741794361695628, 45.57545950775333], [0.22811709802335878, 45.57545949795666], [0.2285531750607594, 45.575459491846274], [0.2288411290232372, 45.575459487811415], [null, null]]}, &quot;properties&quot;: {&quot;times&quot;: [1727042500000.0, 1727042505440.8843, 1727042510881.7686, 1727042516322.6528, 1727042521763.5369, 1727042527204.4211, 1727042532645.3054, 1727042538086.1897, 1727042543527.074, 1727042548967.9583, 1727042554408.8425, 1727042559849.7266, 1727042565290.6108, 1727042570731.495, 1727042576172.3794, 1727042581613.2637, 1727042587054.148, 1727042592495.0322, 1727042597935.9165, 1727042603376.8005, 1727042608817.6848, 1727042614258.569, 1727042619699.4534], &quot;icon&quot;: &quot;circle&quot;, &quot;iconstyle&quot;: {&quot;fillColor&quot;: &quot;black&quot;, &quot;fillOpacity&quot;: 0.9, &quot;stroke&quot;: &quot;false&quot;, &quot;radius&quot;: 3}, &quot;style&quot;: {&quot;weight&quot;: 0}}}]}, {\n",
       "                    pointToLayer: function (feature, latLng) {\n",
       "                        if (feature.properties.icon == &#x27;marker&#x27;) {\n",
       "                            if(feature.properties.iconstyle){\n",
       "                                return new L.Marker(latLng, {\n",
       "                                    icon: L.icon(feature.properties.iconstyle)});\n",
       "                            }\n",
       "                            //else\n",
       "                            return new L.Marker(latLng);\n",
       "                        }\n",
       "                        if (feature.properties.icon == &#x27;circle&#x27;) {\n",
       "                            if (feature.properties.iconstyle) {\n",
       "                                return new L.circleMarker(latLng, feature.properties.iconstyle)\n",
       "                                };\n",
       "                            //else\n",
       "                            return new L.circleMarker(latLng);\n",
       "                        }\n",
       "                        //else\n",
       "\n",
       "                        return new L.Marker(latLng);\n",
       "                    },\n",
       "                    style: function (feature) {\n",
       "                        return feature.properties.style;\n",
       "                    },\n",
       "                    onEachFeature: function(feature, layer) {\n",
       "                        if (feature.properties.popup) {\n",
       "                        layer.bindPopup(feature.properties.popup);\n",
       "                        }\n",
       "                        if (feature.properties.tooltip) {\n",
       "                        layer.bindTooltip(feature.properties.tooltip);\n",
       "                        }\n",
       "                    }\n",
       "                })\n",
       "\n",
       "            var timestamped_geo_json_d4848ff85b9894fee1e95790bbf9493d = L.timeDimension.layer.geoJson(\n",
       "                geoJsonLayer,\n",
       "                {\n",
       "                    updateTimeDimension: true,\n",
       "                    addlastPoint: true,\n",
       "                    duration: undefined,\n",
       "                }\n",
       "            ).addTo(map_8788181ba4980537bff9fa14fc770f1d);\n",
       "        \n",
       "&lt;/script&gt;\n",
       "&lt;/html&gt;\" style=\"position:absolute;width:100%;height:100%;left:0;top:0;border:none !important;\" allowfullscreen webkitallowfullscreen mozallowfullscreen></iframe></div></div>"
      ],
      "text/plain": [
       "<folium.folium.Map at 0x7eff9f158b50>"
      ]
     },
     "execution_count": 25,
     "metadata": {},
     "output_type": "execute_result"
    }
   ],
   "source": [
    "sim.folium_results()"
   ]
  },
  {
   "cell_type": "code",
   "execution_count": 26,
   "metadata": {},
   "outputs": [
    {
     "data": {
      "image/jpeg": "[encoded data removed]",
      "image/png": "[encoded data removed]",
      "text/plain": [
       "<PIL.JpegImagePlugin.JpegImageFile image mode=RGB size=1904x152>"
      ]
     },
     "execution_count": 26,
     "metadata": {},
     "output_type": "execute_result"
    }
   ],
   "source": [
    "sim.draw_infra_points()"
   ]
  },
  {
   "cell_type": "code",
   "execution_count": 27,
   "metadata": {},
   "outputs": [
    {
     "name": "stdout",
     "output_type": "stream",
     "text": [
      "[15:09:23,905] \u001b[34m[INFO] \u001b[0;39m [StandaloneSimulationCommand] Loading infra: tmp/infra.json\n",
      "[15:09:23,941] \u001b[34m[INFO] \u001b[0;39m             [FullInfra] parsing infra\n",
      "[15:09:23,941] \u001b[34m[INFO] \u001b[0;39m             [FullInfra] adaptation to kotlin\n",
      "[15:09:23,986] \u001b[34m[INFO] \u001b[0;39m             [FullInfra] loading signals\n",
      "[15:09:23,989] \u001b[34m[INFO] \u001b[0;39m             [FullInfra] building blocks\n",
      "[15:09:24,013] \u001b[34m[INFO] \u001b[0;39m [StandaloneSimulationCommand] Loading input: tmp/simulation.json\n",
      "[15:09:24,200] \u001b[34m[INFO] \u001b[0;39m [StandaloneSimulationCommand] Running simulation for schedule group: group.7\n",
      "[15:09:24,309] \u001b[39m[DEBUG]\u001b[0;39m             [Allowance] computing range n°1\n",
      "[15:09:24,311] \u001b[39m[DEBUG]\u001b[0;39m             [Allowance]   computing section n°1\n",
      "[15:09:24,311] \u001b[39m[DEBUG]\u001b[0;39m             [Allowance]   target time = 126.06939555\n",
      "[15:09:24,311] \u001b[39m[DEBUG]\u001b[0;39m             [Allowance]     starting attempt 1\n",
      "[15:09:24,313] \u001b[39m[DEBUG]\u001b[0;39m             [Allowance]     envelope time 183.993422\n",
      "[15:09:24,313] \u001b[39m[DEBUG]\u001b[0;39m             [Allowance]     starting attempt 2\n",
      "[15:09:24,313] \u001b[39m[DEBUG]\u001b[0;39m             [Allowance]     envelope time 145.309507\n",
      "[15:09:24,314] \u001b[39m[DEBUG]\u001b[0;39m             [Allowance]     starting attempt 3\n",
      "[15:09:24,314] \u001b[39m[DEBUG]\u001b[0;39m             [Allowance]     envelope time 131.487139\n",
      "[15:09:24,314] \u001b[39m[DEBUG]\u001b[0;39m             [Allowance]     starting attempt 4\n",
      "[15:09:24,314] \u001b[39m[DEBUG]\u001b[0;39m             [Allowance]     envelope time 125.517333\n",
      "[15:09:24,318] \u001b[34m[INFO] \u001b[0;39m [StandaloneSimulationCommand] Running simulation for schedule group: group.8\n",
      "[15:09:24,322] \u001b[39m[DEBUG]\u001b[0;39m             [Allowance] computing range n°1\n",
      "[15:09:24,322] \u001b[39m[DEBUG]\u001b[0;39m             [Allowance]   computing section n°1\n",
      "[15:09:24,322] \u001b[39m[DEBUG]\u001b[0;39m             [Allowance]   target time = 125.68442565000001\n",
      "[15:09:24,323] \u001b[39m[DEBUG]\u001b[0;39m             [Allowance]     starting attempt 1\n",
      "[15:09:24,323] \u001b[39m[DEBUG]\u001b[0;39m             [Allowance]     envelope time 183.313547\n",
      "[15:09:24,323] \u001b[39m[DEBUG]\u001b[0;39m             [Allowance]     starting attempt 2\n",
      "[15:09:24,323] \u001b[39m[DEBUG]\u001b[0;39m             [Allowance]     envelope time 144.828976\n",
      "[15:09:24,323] \u001b[39m[DEBUG]\u001b[0;39m             [Allowance]     starting attempt 3\n",
      "[15:09:24,323] \u001b[39m[DEBUG]\u001b[0;39m             [Allowance]     envelope time 131.070543\n",
      "[15:09:24,323] \u001b[39m[DEBUG]\u001b[0;39m             [Allowance]     starting attempt 4\n",
      "[15:09:24,323] \u001b[39m[DEBUG]\u001b[0;39m             [Allowance]     envelope time 125.127165\n",
      "[15:09:24,326] \u001b[34m[INFO] \u001b[0;39m [StandaloneSimulationCommand] Running simulation for schedule group: group.9\n",
      "[15:09:24,334] \u001b[39m[DEBUG]\u001b[0;39m             [Allowance] computing range n°1\n",
      "[15:09:24,335] \u001b[39m[DEBUG]\u001b[0;39m             [Allowance]   computing section n°1\n",
      "[15:09:24,335] \u001b[39m[DEBUG]\u001b[0;39m             [Allowance]   target time = 126.06939555\n",
      "[15:09:24,335] \u001b[39m[DEBUG]\u001b[0;39m             [Allowance]     starting attempt 1\n",
      "[15:09:24,335] \u001b[39m[DEBUG]\u001b[0;39m             [Allowance]     envelope time 183.993422\n",
      "[15:09:24,335] \u001b[39m[DEBUG]\u001b[0;39m             [Allowance]     starting attempt 2\n",
      "[15:09:24,335] \u001b[39m[DEBUG]\u001b[0;39m             [Allowance]     envelope time 145.309507\n",
      "[15:09:24,335] \u001b[39m[DEBUG]\u001b[0;39m             [Allowance]     starting attempt 3\n",
      "[15:09:24,335] \u001b[39m[DEBUG]\u001b[0;39m             [Allowance]     envelope time 131.487139\n",
      "[15:09:24,335] \u001b[39m[DEBUG]\u001b[0;39m             [Allowance]     starting attempt 4\n",
      "[15:09:24,335] \u001b[39m[DEBUG]\u001b[0;39m             [Allowance]     envelope time 125.517333\n",
      "[15:09:24,337] \u001b[34m[INFO] \u001b[0;39m [StandaloneSimulationCommand] All simulations completed\n",
      "[15:09:24,337] \u001b[34m[INFO] \u001b[0;39m [StandaloneSimulationCommand] Saving results at: tmp/results.json\n"
     ]
    },
    {
     "data": {
      "application/vnd.plotly.v1+json": {
       "config": {
        "plotlyServerURL": "https://plot.ly"
       },
       "data": [
        {
         "name": "train0",
         "type": "scatter",
         "x": [
          0,
          6,
          14,
          22,
          29.50959174358881,
          30,
          38,
          48,
          58,
          68.0660921882602,
          74.0660921882602,
          75.88004567663229,
          80.0660921882602,
          88.0660921882602,
          96.0660921882602,
          104.0660921882602,
          112.0660921882602,
          120.0660921882602
         ],
         "y": [
          0,
          8.293999999999983,
          45.065999999999974,
          111.01400000000001,
          200,
          205.811,
          328.918,
          520.809,
          750.412,
          1014,
          1161,
          1200,
          1290,
          1434,
          1546,
          1626,
          1674,
          1690
         ]
        },
        {
         "name": "train1",
         "type": "scatter",
         "x": [
          100,
          106,
          114,
          122,
          129.5095917435888,
          130,
          138,
          148,
          158,
          167.6994534598555,
          173.6994534598555,
          175.97852322729736,
          179.6994534598555,
          187.6994534598555,
          195.6994534598555,
          203.6994534598555,
          211.6994534598555,
          219.6994534598555
         ],
         "y": [
          null,
          null,
          null,
          null,
          200,
          205.811,
          328.918,
          520.809,
          750.412,
          1004,
          1151,
          1200,
          null,
          null,
          null,
          null,
          null,
          null
         ]
        },
        {
         "name": "train2",
         "type": "scatter",
         "x": [
          300,
          306,
          314,
          322,
          329.5095917435888,
          330,
          338,
          348,
          358,
          368.0660921882602,
          374.0660921882602,
          375.8800456766323,
          380.0660921882602,
          388.0660921882602,
          396.0660921882602,
          404.0660921882602,
          412.0660921882602,
          420.0660921882602
         ],
         "y": [
          0,
          8.293999999999983,
          45.065999999999974,
          111.01400000000001,
          200,
          205.811,
          328.918,
          520.809,
          750.412,
          1014,
          1161,
          1200,
          1290,
          1434,
          1546,
          1626,
          1674,
          1690
         ]
        }
       ],
       "layout": {
        "hovermode": "x unified",
        "shapes": [
         {
          "line": {
           "color": "black",
           "width": 0.5
          },
          "type": "line",
          "x0": 0,
          "x1": 1,
          "xref": "x domain",
          "y0": 0,
          "y1": 0,
          "yref": "y"
         },
         {
          "line": {
           "color": "black",
           "width": 0.5
          },
          "type": "line",
          "x0": 0,
          "x1": 1,
          "xref": "x domain",
          "y0": 0,
          "y1": 0,
          "yref": "y"
         },
         {
          "line": {
           "color": "black",
           "width": 0.5
          },
          "type": "line",
          "x0": 0,
          "x1": 1,
          "xref": "x domain",
          "y0": 200,
          "y1": 200,
          "yref": "y"
         },
         {
          "line": {
           "color": "black",
           "width": 0.5
          },
          "type": "line",
          "x0": 0,
          "x1": 1,
          "xref": "x domain",
          "y0": 1200,
          "y1": 1200,
          "yref": "y"
         },
         {
          "line": {
           "color": "black",
           "width": 0.5
          },
          "type": "line",
          "x0": 0,
          "x1": 1,
          "xref": "x domain",
          "y0": 1680,
          "y1": 1680,
          "yref": "y"
         },
         {
          "line": {
           "color": "black",
           "width": 0.5
          },
          "type": "line",
          "x0": 0,
          "x1": 1,
          "xref": "x domain",
          "y0": 1690,
          "y1": 1690,
          "yref": "y"
         }
        ],
        "template": {
         "data": {
          "bar": [
           {
            "error_x": {
             "color": "rgb(36,36,36)"
            },
            "error_y": {
             "color": "rgb(36,36,36)"
            },
            "marker": {
             "line": {
              "color": "white",
              "width": 0.5
             },
             "pattern": {
              "fillmode": "overlay",
              "size": 10,
              "solidity": 0.2
             }
            },
            "type": "bar"
           }
          ],
          "barpolar": [
           {
            "marker": {
             "line": {
              "color": "white",
              "width": 0.5
             },
             "pattern": {
              "fillmode": "overlay",
              "size": 10,
              "solidity": 0.2
             }
            },
            "type": "barpolar"
           }
          ],
          "carpet": [
           {
            "aaxis": {
             "endlinecolor": "rgb(36,36,36)",
             "gridcolor": "white",
             "linecolor": "white",
             "minorgridcolor": "white",
             "startlinecolor": "rgb(36,36,36)"
            },
            "baxis": {
             "endlinecolor": "rgb(36,36,36)",
             "gridcolor": "white",
             "linecolor": "white",
             "minorgridcolor": "white",
             "startlinecolor": "rgb(36,36,36)"
            },
            "type": "carpet"
           }
          ],
          "choropleth": [
           {
            "colorbar": {
             "outlinewidth": 1,
             "tickcolor": "rgb(36,36,36)",
             "ticks": "outside"
            },
            "type": "choropleth"
           }
          ],
          "contour": [
           {
            "colorbar": {
             "outlinewidth": 1,
             "tickcolor": "rgb(36,36,36)",
             "ticks": "outside"
            },
            "colorscale": [
             [
              0,
              "#440154"
             ],
             [
              0.1111111111111111,
              "#482878"
             ],
             [
              0.2222222222222222,
              "#3e4989"
             ],
             [
              0.3333333333333333,
              "#31688e"
             ],
             [
              0.4444444444444444,
              "#26828e"
             ],
             [
              0.5555555555555556,
              "#1f9e89"
             ],
             [
              0.6666666666666666,
              "#35b779"
             ],
             [
              0.7777777777777778,
              "#6ece58"
             ],
             [
              0.8888888888888888,
              "#b5de2b"
             ],
             [
              1,
              "#fde725"
             ]
            ],
            "type": "contour"
           }
          ],
          "contourcarpet": [
           {
            "colorbar": {
             "outlinewidth": 1,
             "tickcolor": "rgb(36,36,36)",
             "ticks": "outside"
            },
            "type": "contourcarpet"
           }
          ],
          "heatmap": [
           {
            "colorbar": {
             "outlinewidth": 1,
             "tickcolor": "rgb(36,36,36)",
             "ticks": "outside"
            },
            "colorscale": [
             [
              0,
              "#440154"
             ],
             [
              0.1111111111111111,
              "#482878"
             ],
             [
              0.2222222222222222,
              "#3e4989"
             ],
             [
              0.3333333333333333,
              "#31688e"
             ],
             [
              0.4444444444444444,
              "#26828e"
             ],
             [
              0.5555555555555556,
              "#1f9e89"
             ],
             [
              0.6666666666666666,
              "#35b779"
             ],
             [
              0.7777777777777778,
              "#6ece58"
             ],
             [
              0.8888888888888888,
              "#b5de2b"
             ],
             [
              1,
              "#fde725"
             ]
            ],
            "type": "heatmap"
           }
          ],
          "heatmapgl": [
           {
            "colorbar": {
             "outlinewidth": 1,
             "tickcolor": "rgb(36,36,36)",
             "ticks": "outside"
            },
            "colorscale": [
             [
              0,
              "#440154"
             ],
             [
              0.1111111111111111,
              "#482878"
             ],
             [
              0.2222222222222222,
              "#3e4989"
             ],
             [
              0.3333333333333333,
              "#31688e"
             ],
             [
              0.4444444444444444,
              "#26828e"
             ],
             [
              0.5555555555555556,
              "#1f9e89"
             ],
             [
              0.6666666666666666,
              "#35b779"
             ],
             [
              0.7777777777777778,
              "#6ece58"
             ],
             [
              0.8888888888888888,
              "#b5de2b"
             ],
             [
              1,
              "#fde725"
             ]
            ],
            "type": "heatmapgl"
           }
          ],
          "histogram": [
           {
            "marker": {
             "line": {
              "color": "white",
              "width": 0.6
             }
            },
            "type": "histogram"
           }
          ],
          "histogram2d": [
           {
            "colorbar": {
             "outlinewidth": 1,
             "tickcolor": "rgb(36,36,36)",
             "ticks": "outside"
            },
            "colorscale": [
             [
              0,
              "#440154"
             ],
             [
              0.1111111111111111,
              "#482878"
             ],
             [
              0.2222222222222222,
              "#3e4989"
             ],
             [
              0.3333333333333333,
              "#31688e"
             ],
             [
              0.4444444444444444,
              "#26828e"
             ],
             [
              0.5555555555555556,
              "#1f9e89"
             ],
             [
              0.6666666666666666,
              "#35b779"
             ],
             [
              0.7777777777777778,
              "#6ece58"
             ],
             [
              0.8888888888888888,
              "#b5de2b"
             ],
             [
              1,
              "#fde725"
             ]
            ],
            "type": "histogram2d"
           }
          ],
          "histogram2dcontour": [
           {
            "colorbar": {
             "outlinewidth": 1,
             "tickcolor": "rgb(36,36,36)",
             "ticks": "outside"
            },
            "colorscale": [
             [
              0,
              "#440154"
             ],
             [
              0.1111111111111111,
              "#482878"
             ],
             [
              0.2222222222222222,
              "#3e4989"
             ],
             [
              0.3333333333333333,
              "#31688e"
             ],
             [
              0.4444444444444444,
              "#26828e"
             ],
             [
              0.5555555555555556,
              "#1f9e89"
             ],
             [
              0.6666666666666666,
              "#35b779"
             ],
             [
              0.7777777777777778,
              "#6ece58"
             ],
             [
              0.8888888888888888,
              "#b5de2b"
             ],
             [
              1,
              "#fde725"
             ]
            ],
            "type": "histogram2dcontour"
           }
          ],
          "mesh3d": [
           {
            "colorbar": {
             "outlinewidth": 1,
             "tickcolor": "rgb(36,36,36)",
             "ticks": "outside"
            },
            "type": "mesh3d"
           }
          ],
          "parcoords": [
           {
            "line": {
             "colorbar": {
              "outlinewidth": 1,
              "tickcolor": "rgb(36,36,36)",
              "ticks": "outside"
             }
            },
            "type": "parcoords"
           }
          ],
          "pie": [
           {
            "automargin": true,
            "type": "pie"
           }
          ],
          "scatter": [
           {
            "fillpattern": {
             "fillmode": "overlay",
             "size": 10,
             "solidity": 0.2
            },
            "type": "scatter"
           }
          ],
          "scatter3d": [
           {
            "line": {
             "colorbar": {
              "outlinewidth": 1,
              "tickcolor": "rgb(36,36,36)",
              "ticks": "outside"
             }
            },
            "marker": {
             "colorbar": {
              "outlinewidth": 1,
              "tickcolor": "rgb(36,36,36)",
              "ticks": "outside"
             }
            },
            "type": "scatter3d"
           }
          ],
          "scattercarpet": [
           {
            "marker": {
             "colorbar": {
              "outlinewidth": 1,
              "tickcolor": "rgb(36,36,36)",
              "ticks": "outside"
             }
            },
            "type": "scattercarpet"
           }
          ],
          "scattergeo": [
           {
            "marker": {
             "colorbar": {
              "outlinewidth": 1,
              "tickcolor": "rgb(36,36,36)",
              "ticks": "outside"
             }
            },
            "type": "scattergeo"
           }
          ],
          "scattergl": [
           {
            "marker": {
             "colorbar": {
              "outlinewidth": 1,
              "tickcolor": "rgb(36,36,36)",
              "ticks": "outside"
             }
            },
            "type": "scattergl"
           }
          ],
          "scattermapbox": [
           {
            "marker": {
             "colorbar": {
              "outlinewidth": 1,
              "tickcolor": "rgb(36,36,36)",
              "ticks": "outside"
             }
            },
            "type": "scattermapbox"
           }
          ],
          "scatterpolar": [
           {
            "marker": {
             "colorbar": {
              "outlinewidth": 1,
              "tickcolor": "rgb(36,36,36)",
              "ticks": "outside"
             }
            },
            "type": "scatterpolar"
           }
          ],
          "scatterpolargl": [
           {
            "marker": {
             "colorbar": {
              "outlinewidth": 1,
              "tickcolor": "rgb(36,36,36)",
              "ticks": "outside"
             }
            },
            "type": "scatterpolargl"
           }
          ],
          "scatterternary": [
           {
            "marker": {
             "colorbar": {
              "outlinewidth": 1,
              "tickcolor": "rgb(36,36,36)",
              "ticks": "outside"
             }
            },
            "type": "scatterternary"
           }
          ],
          "surface": [
           {
            "colorbar": {
             "outlinewidth": 1,
             "tickcolor": "rgb(36,36,36)",
             "ticks": "outside"
            },
            "colorscale": [
             [
              0,
              "#440154"
             ],
             [
              0.1111111111111111,
              "#482878"
             ],
             [
              0.2222222222222222,
              "#3e4989"
             ],
             [
              0.3333333333333333,
              "#31688e"
             ],
             [
              0.4444444444444444,
              "#26828e"
             ],
             [
              0.5555555555555556,
              "#1f9e89"
             ],
             [
              0.6666666666666666,
              "#35b779"
             ],
             [
              0.7777777777777778,
              "#6ece58"
             ],
             [
              0.8888888888888888,
              "#b5de2b"
             ],
             [
              1,
              "#fde725"
             ]
            ],
            "type": "surface"
           }
          ],
          "table": [
           {
            "cells": {
             "fill": {
              "color": "rgb(237,237,237)"
             },
             "line": {
              "color": "white"
             }
            },
            "header": {
             "fill": {
              "color": "rgb(217,217,217)"
             },
             "line": {
              "color": "white"
             }
            },
            "type": "table"
           }
          ]
         },
         "layout": {
          "annotationdefaults": {
           "arrowhead": 0,
           "arrowwidth": 1
          },
          "autotypenumbers": "strict",
          "coloraxis": {
           "colorbar": {
            "outlinewidth": 1,
            "tickcolor": "rgb(36,36,36)",
            "ticks": "outside"
           }
          },
          "colorscale": {
           "diverging": [
            [
             0,
             "rgb(103,0,31)"
            ],
            [
             0.1,
             "rgb(178,24,43)"
            ],
            [
             0.2,
             "rgb(214,96,77)"
            ],
            [
             0.3,
             "rgb(244,165,130)"
            ],
            [
             0.4,
             "rgb(253,219,199)"
            ],
            [
             0.5,
             "rgb(247,247,247)"
            ],
            [
             0.6,
             "rgb(209,229,240)"
            ],
            [
             0.7,
             "rgb(146,197,222)"
            ],
            [
             0.8,
             "rgb(67,147,195)"
            ],
            [
             0.9,
             "rgb(33,102,172)"
            ],
            [
             1,
             "rgb(5,48,97)"
            ]
           ],
           "sequential": [
            [
             0,
             "#440154"
            ],
            [
             0.1111111111111111,
             "#482878"
            ],
            [
             0.2222222222222222,
             "#3e4989"
            ],
            [
             0.3333333333333333,
             "#31688e"
            ],
            [
             0.4444444444444444,
             "#26828e"
            ],
            [
             0.5555555555555556,
             "#1f9e89"
            ],
            [
             0.6666666666666666,
             "#35b779"
            ],
            [
             0.7777777777777778,
             "#6ece58"
            ],
            [
             0.8888888888888888,
             "#b5de2b"
            ],
            [
             1,
             "#fde725"
            ]
           ],
           "sequentialminus": [
            [
             0,
             "#440154"
            ],
            [
             0.1111111111111111,
             "#482878"
            ],
            [
             0.2222222222222222,
             "#3e4989"
            ],
            [
             0.3333333333333333,
             "#31688e"
            ],
            [
             0.4444444444444444,
             "#26828e"
            ],
            [
             0.5555555555555556,
             "#1f9e89"
            ],
            [
             0.6666666666666666,
             "#35b779"
            ],
            [
             0.7777777777777778,
             "#6ece58"
            ],
            [
             0.8888888888888888,
             "#b5de2b"
            ],
            [
             1,
             "#fde725"
            ]
           ]
          },
          "colorway": [
           "#1F77B4",
           "#FF7F0E",
           "#2CA02C",
           "#D62728",
           "#9467BD",
           "#8C564B",
           "#E377C2",
           "#7F7F7F",
           "#BCBD22",
           "#17BECF"
          ],
          "font": {
           "color": "rgb(36,36,36)"
          },
          "geo": {
           "bgcolor": "white",
           "lakecolor": "white",
           "landcolor": "white",
           "showlakes": true,
           "showland": true,
           "subunitcolor": "white"
          },
          "hoverlabel": {
           "align": "left"
          },
          "hovermode": "closest",
          "mapbox": {
           "style": "light"
          },
          "paper_bgcolor": "white",
          "plot_bgcolor": "white",
          "polar": {
           "angularaxis": {
            "gridcolor": "rgb(232,232,232)",
            "linecolor": "rgb(36,36,36)",
            "showgrid": false,
            "showline": true,
            "ticks": "outside"
           },
           "bgcolor": "white",
           "radialaxis": {
            "gridcolor": "rgb(232,232,232)",
            "linecolor": "rgb(36,36,36)",
            "showgrid": false,
            "showline": true,
            "ticks": "outside"
           }
          },
          "scene": {
           "xaxis": {
            "backgroundcolor": "white",
            "gridcolor": "rgb(232,232,232)",
            "gridwidth": 2,
            "linecolor": "rgb(36,36,36)",
            "showbackground": true,
            "showgrid": false,
            "showline": true,
            "ticks": "outside",
            "zeroline": false,
            "zerolinecolor": "rgb(36,36,36)"
           },
           "yaxis": {
            "backgroundcolor": "white",
            "gridcolor": "rgb(232,232,232)",
            "gridwidth": 2,
            "linecolor": "rgb(36,36,36)",
            "showbackground": true,
            "showgrid": false,
            "showline": true,
            "ticks": "outside",
            "zeroline": false,
            "zerolinecolor": "rgb(36,36,36)"
           },
           "zaxis": {
            "backgroundcolor": "white",
            "gridcolor": "rgb(232,232,232)",
            "gridwidth": 2,
            "linecolor": "rgb(36,36,36)",
            "showbackground": true,
            "showgrid": false,
            "showline": true,
            "ticks": "outside",
            "zeroline": false,
            "zerolinecolor": "rgb(36,36,36)"
           }
          },
          "shapedefaults": {
           "fillcolor": "black",
           "line": {
            "width": 0
           },
           "opacity": 0.3
          },
          "ternary": {
           "aaxis": {
            "gridcolor": "rgb(232,232,232)",
            "linecolor": "rgb(36,36,36)",
            "showgrid": false,
            "showline": true,
            "ticks": "outside"
           },
           "baxis": {
            "gridcolor": "rgb(232,232,232)",
            "linecolor": "rgb(36,36,36)",
            "showgrid": false,
            "showline": true,
            "ticks": "outside"
           },
           "bgcolor": "white",
           "caxis": {
            "gridcolor": "rgb(232,232,232)",
            "linecolor": "rgb(36,36,36)",
            "showgrid": false,
            "showline": true,
            "ticks": "outside"
           }
          },
          "title": {
           "x": 0.05
          },
          "xaxis": {
           "automargin": true,
           "gridcolor": "rgb(232,232,232)",
           "linecolor": "rgb(36,36,36)",
           "showgrid": false,
           "showline": true,
           "ticks": "outside",
           "title": {
            "standoff": 15
           },
           "zeroline": false,
           "zerolinecolor": "rgb(36,36,36)"
          },
          "yaxis": {
           "automargin": true,
           "gridcolor": "rgb(232,232,232)",
           "linecolor": "rgb(36,36,36)",
           "showgrid": false,
           "showline": true,
           "ticks": "outside",
           "title": {
            "standoff": 15
           },
           "zeroline": false,
           "zerolinecolor": "rgb(36,36,36)"
          }
         }
        },
        "title": {
         "text": "train 2 (base)"
        },
        "xaxis": {
         "tickmode": "array",
         "ticktext": [
          "00:00:00",
          "00:01:24",
          "00:02:48",
          "00:04:12",
          "00:05:36",
          "00:07:00"
         ],
         "tickvals": [
          0,
          84,
          168,
          252,
          336,
          420
         ]
        },
        "yaxis": {
         "tickmode": "array",
         "ticktext": [
          "departure_train2",
          "station0/T0",
          "CVG",
          "DVG",
          "station1/T4",
          "arrival_train2"
         ],
         "tickvals": [
          0,
          0,
          200,
          1200,
          1680,
          1690
         ]
        }
       }
      },
      "text/html": [
       "<div>                            <div id=\"c8228f5d-9d18-4070-94a5-3a9c8e9973e2\" class=\"plotly-graph-div\" style=\"height:525px; width:100%;\"></div>            <script type=\"text/javascript\">                require([\"plotly\"], function(Plotly) {                    window.PLOTLYENV=window.PLOTLYENV || {};                                    if (document.getElementById(\"c8228f5d-9d18-4070-94a5-3a9c8e9973e2\")) {                    Plotly.newPlot(                        \"c8228f5d-9d18-4070-94a5-3a9c8e9973e2\",                        [{\"name\":\"train0\",\"x\":[0.0,6.0,14.0,22.0,29.50959174358881,30.0,38.0,48.0,58.0,68.0660921882602,74.0660921882602,75.88004567663229,80.0660921882602,88.0660921882602,96.0660921882602,104.0660921882602,112.0660921882602,120.0660921882602],\"y\":[0.0,8.293999999999983,45.065999999999974,111.01400000000001,200.0,205.811,328.918,520.809,750.412,1014.0,1161.0,1200.0,1290.0,1434.0,1546.0,1626.0,1674.0,1690.0],\"type\":\"scatter\"},{\"name\":\"train1\",\"x\":[100.0,106.0,114.0,122.0,129.5095917435888,130.0,138.0,148.0,158.0,167.6994534598555,173.6994534598555,175.97852322729736,179.6994534598555,187.6994534598555,195.6994534598555,203.6994534598555,211.6994534598555,219.6994534598555],\"y\":[null,null,null,null,200.0,205.811,328.918,520.809,750.412,1004.0,1151.0,1200.0,null,null,null,null,null,null],\"type\":\"scatter\"},{\"name\":\"train2\",\"x\":[300.0,306.0,314.0,322.0,329.5095917435888,330.0,338.0,348.0,358.0,368.0660921882602,374.0660921882602,375.8800456766323,380.0660921882602,388.0660921882602,396.0660921882602,404.0660921882602,412.0660921882602,420.0660921882602],\"y\":[0.0,8.293999999999983,45.065999999999974,111.01400000000001,200.0,205.811,328.918,520.809,750.412,1014.0,1161.0,1200.0,1290.0,1434.0,1546.0,1626.0,1674.0,1690.0],\"type\":\"scatter\"}],                        {\"hovermode\":\"x unified\",\"template\":{\"data\":{\"barpolar\":[{\"marker\":{\"line\":{\"color\":\"white\",\"width\":0.5},\"pattern\":{\"fillmode\":\"overlay\",\"size\":10,\"solidity\":0.2}},\"type\":\"barpolar\"}],\"bar\":[{\"error_x\":{\"color\":\"rgb(36,36,36)\"},\"error_y\":{\"color\":\"rgb(36,36,36)\"},\"marker\":{\"line\":{\"color\":\"white\",\"width\":0.5},\"pattern\":{\"fillmode\":\"overlay\",\"size\":10,\"solidity\":0.2}},\"type\":\"bar\"}],\"carpet\":[{\"aaxis\":{\"endlinecolor\":\"rgb(36,36,36)\",\"gridcolor\":\"white\",\"linecolor\":\"white\",\"minorgridcolor\":\"white\",\"startlinecolor\":\"rgb(36,36,36)\"},\"baxis\":{\"endlinecolor\":\"rgb(36,36,36)\",\"gridcolor\":\"white\",\"linecolor\":\"white\",\"minorgridcolor\":\"white\",\"startlinecolor\":\"rgb(36,36,36)\"},\"type\":\"carpet\"}],\"choropleth\":[{\"colorbar\":{\"outlinewidth\":1,\"tickcolor\":\"rgb(36,36,36)\",\"ticks\":\"outside\"},\"type\":\"choropleth\"}],\"contourcarpet\":[{\"colorbar\":{\"outlinewidth\":1,\"tickcolor\":\"rgb(36,36,36)\",\"ticks\":\"outside\"},\"type\":\"contourcarpet\"}],\"contour\":[{\"colorbar\":{\"outlinewidth\":1,\"tickcolor\":\"rgb(36,36,36)\",\"ticks\":\"outside\"},\"colorscale\":[[0.0,\"#440154\"],[0.1111111111111111,\"#482878\"],[0.2222222222222222,\"#3e4989\"],[0.3333333333333333,\"#31688e\"],[0.4444444444444444,\"#26828e\"],[0.5555555555555556,\"#1f9e89\"],[0.6666666666666666,\"#35b779\"],[0.7777777777777778,\"#6ece58\"],[0.8888888888888888,\"#b5de2b\"],[1.0,\"#fde725\"]],\"type\":\"contour\"}],\"heatmapgl\":[{\"colorbar\":{\"outlinewidth\":1,\"tickcolor\":\"rgb(36,36,36)\",\"ticks\":\"outside\"},\"colorscale\":[[0.0,\"#440154\"],[0.1111111111111111,\"#482878\"],[0.2222222222222222,\"#3e4989\"],[0.3333333333333333,\"#31688e\"],[0.4444444444444444,\"#26828e\"],[0.5555555555555556,\"#1f9e89\"],[0.6666666666666666,\"#35b779\"],[0.7777777777777778,\"#6ece58\"],[0.8888888888888888,\"#b5de2b\"],[1.0,\"#fde725\"]],\"type\":\"heatmapgl\"}],\"heatmap\":[{\"colorbar\":{\"outlinewidth\":1,\"tickcolor\":\"rgb(36,36,36)\",\"ticks\":\"outside\"},\"colorscale\":[[0.0,\"#440154\"],[0.1111111111111111,\"#482878\"],[0.2222222222222222,\"#3e4989\"],[0.3333333333333333,\"#31688e\"],[0.4444444444444444,\"#26828e\"],[0.5555555555555556,\"#1f9e89\"],[0.6666666666666666,\"#35b779\"],[0.7777777777777778,\"#6ece58\"],[0.8888888888888888,\"#b5de2b\"],[1.0,\"#fde725\"]],\"type\":\"heatmap\"}],\"histogram2dcontour\":[{\"colorbar\":{\"outlinewidth\":1,\"tickcolor\":\"rgb(36,36,36)\",\"ticks\":\"outside\"},\"colorscale\":[[0.0,\"#440154\"],[0.1111111111111111,\"#482878\"],[0.2222222222222222,\"#3e4989\"],[0.3333333333333333,\"#31688e\"],[0.4444444444444444,\"#26828e\"],[0.5555555555555556,\"#1f9e89\"],[0.6666666666666666,\"#35b779\"],[0.7777777777777778,\"#6ece58\"],[0.8888888888888888,\"#b5de2b\"],[1.0,\"#fde725\"]],\"type\":\"histogram2dcontour\"}],\"histogram2d\":[{\"colorbar\":{\"outlinewidth\":1,\"tickcolor\":\"rgb(36,36,36)\",\"ticks\":\"outside\"},\"colorscale\":[[0.0,\"#440154\"],[0.1111111111111111,\"#482878\"],[0.2222222222222222,\"#3e4989\"],[0.3333333333333333,\"#31688e\"],[0.4444444444444444,\"#26828e\"],[0.5555555555555556,\"#1f9e89\"],[0.6666666666666666,\"#35b779\"],[0.7777777777777778,\"#6ece58\"],[0.8888888888888888,\"#b5de2b\"],[1.0,\"#fde725\"]],\"type\":\"histogram2d\"}],\"histogram\":[{\"marker\":{\"line\":{\"color\":\"white\",\"width\":0.6}},\"type\":\"histogram\"}],\"mesh3d\":[{\"colorbar\":{\"outlinewidth\":1,\"tickcolor\":\"rgb(36,36,36)\",\"ticks\":\"outside\"},\"type\":\"mesh3d\"}],\"parcoords\":[{\"line\":{\"colorbar\":{\"outlinewidth\":1,\"tickcolor\":\"rgb(36,36,36)\",\"ticks\":\"outside\"}},\"type\":\"parcoords\"}],\"pie\":[{\"automargin\":true,\"type\":\"pie\"}],\"scatter3d\":[{\"line\":{\"colorbar\":{\"outlinewidth\":1,\"tickcolor\":\"rgb(36,36,36)\",\"ticks\":\"outside\"}},\"marker\":{\"colorbar\":{\"outlinewidth\":1,\"tickcolor\":\"rgb(36,36,36)\",\"ticks\":\"outside\"}},\"type\":\"scatter3d\"}],\"scattercarpet\":[{\"marker\":{\"colorbar\":{\"outlinewidth\":1,\"tickcolor\":\"rgb(36,36,36)\",\"ticks\":\"outside\"}},\"type\":\"scattercarpet\"}],\"scattergeo\":[{\"marker\":{\"colorbar\":{\"outlinewidth\":1,\"tickcolor\":\"rgb(36,36,36)\",\"ticks\":\"outside\"}},\"type\":\"scattergeo\"}],\"scattergl\":[{\"marker\":{\"colorbar\":{\"outlinewidth\":1,\"tickcolor\":\"rgb(36,36,36)\",\"ticks\":\"outside\"}},\"type\":\"scattergl\"}],\"scattermapbox\":[{\"marker\":{\"colorbar\":{\"outlinewidth\":1,\"tickcolor\":\"rgb(36,36,36)\",\"ticks\":\"outside\"}},\"type\":\"scattermapbox\"}],\"scatterpolargl\":[{\"marker\":{\"colorbar\":{\"outlinewidth\":1,\"tickcolor\":\"rgb(36,36,36)\",\"ticks\":\"outside\"}},\"type\":\"scatterpolargl\"}],\"scatterpolar\":[{\"marker\":{\"colorbar\":{\"outlinewidth\":1,\"tickcolor\":\"rgb(36,36,36)\",\"ticks\":\"outside\"}},\"type\":\"scatterpolar\"}],\"scatter\":[{\"fillpattern\":{\"fillmode\":\"overlay\",\"size\":10,\"solidity\":0.2},\"type\":\"scatter\"}],\"scatterternary\":[{\"marker\":{\"colorbar\":{\"outlinewidth\":1,\"tickcolor\":\"rgb(36,36,36)\",\"ticks\":\"outside\"}},\"type\":\"scatterternary\"}],\"surface\":[{\"colorbar\":{\"outlinewidth\":1,\"tickcolor\":\"rgb(36,36,36)\",\"ticks\":\"outside\"},\"colorscale\":[[0.0,\"#440154\"],[0.1111111111111111,\"#482878\"],[0.2222222222222222,\"#3e4989\"],[0.3333333333333333,\"#31688e\"],[0.4444444444444444,\"#26828e\"],[0.5555555555555556,\"#1f9e89\"],[0.6666666666666666,\"#35b779\"],[0.7777777777777778,\"#6ece58\"],[0.8888888888888888,\"#b5de2b\"],[1.0,\"#fde725\"]],\"type\":\"surface\"}],\"table\":[{\"cells\":{\"fill\":{\"color\":\"rgb(237,237,237)\"},\"line\":{\"color\":\"white\"}},\"header\":{\"fill\":{\"color\":\"rgb(217,217,217)\"},\"line\":{\"color\":\"white\"}},\"type\":\"table\"}]},\"layout\":{\"annotationdefaults\":{\"arrowhead\":0,\"arrowwidth\":1},\"autotypenumbers\":\"strict\",\"coloraxis\":{\"colorbar\":{\"outlinewidth\":1,\"tickcolor\":\"rgb(36,36,36)\",\"ticks\":\"outside\"}},\"colorscale\":{\"diverging\":[[0.0,\"rgb(103,0,31)\"],[0.1,\"rgb(178,24,43)\"],[0.2,\"rgb(214,96,77)\"],[0.3,\"rgb(244,165,130)\"],[0.4,\"rgb(253,219,199)\"],[0.5,\"rgb(247,247,247)\"],[0.6,\"rgb(209,229,240)\"],[0.7,\"rgb(146,197,222)\"],[0.8,\"rgb(67,147,195)\"],[0.9,\"rgb(33,102,172)\"],[1.0,\"rgb(5,48,97)\"]],\"sequential\":[[0.0,\"#440154\"],[0.1111111111111111,\"#482878\"],[0.2222222222222222,\"#3e4989\"],[0.3333333333333333,\"#31688e\"],[0.4444444444444444,\"#26828e\"],[0.5555555555555556,\"#1f9e89\"],[0.6666666666666666,\"#35b779\"],[0.7777777777777778,\"#6ece58\"],[0.8888888888888888,\"#b5de2b\"],[1.0,\"#fde725\"]],\"sequentialminus\":[[0.0,\"#440154\"],[0.1111111111111111,\"#482878\"],[0.2222222222222222,\"#3e4989\"],[0.3333333333333333,\"#31688e\"],[0.4444444444444444,\"#26828e\"],[0.5555555555555556,\"#1f9e89\"],[0.6666666666666666,\"#35b779\"],[0.7777777777777778,\"#6ece58\"],[0.8888888888888888,\"#b5de2b\"],[1.0,\"#fde725\"]]},\"colorway\":[\"#1F77B4\",\"#FF7F0E\",\"#2CA02C\",\"#D62728\",\"#9467BD\",\"#8C564B\",\"#E377C2\",\"#7F7F7F\",\"#BCBD22\",\"#17BECF\"],\"font\":{\"color\":\"rgb(36,36,36)\"},\"geo\":{\"bgcolor\":\"white\",\"lakecolor\":\"white\",\"landcolor\":\"white\",\"showlakes\":true,\"showland\":true,\"subunitcolor\":\"white\"},\"hoverlabel\":{\"align\":\"left\"},\"hovermode\":\"closest\",\"mapbox\":{\"style\":\"light\"},\"paper_bgcolor\":\"white\",\"plot_bgcolor\":\"white\",\"polar\":{\"angularaxis\":{\"gridcolor\":\"rgb(232,232,232)\",\"linecolor\":\"rgb(36,36,36)\",\"showgrid\":false,\"showline\":true,\"ticks\":\"outside\"},\"bgcolor\":\"white\",\"radialaxis\":{\"gridcolor\":\"rgb(232,232,232)\",\"linecolor\":\"rgb(36,36,36)\",\"showgrid\":false,\"showline\":true,\"ticks\":\"outside\"}},\"scene\":{\"xaxis\":{\"backgroundcolor\":\"white\",\"gridcolor\":\"rgb(232,232,232)\",\"gridwidth\":2,\"linecolor\":\"rgb(36,36,36)\",\"showbackground\":true,\"showgrid\":false,\"showline\":true,\"ticks\":\"outside\",\"zeroline\":false,\"zerolinecolor\":\"rgb(36,36,36)\"},\"yaxis\":{\"backgroundcolor\":\"white\",\"gridcolor\":\"rgb(232,232,232)\",\"gridwidth\":2,\"linecolor\":\"rgb(36,36,36)\",\"showbackground\":true,\"showgrid\":false,\"showline\":true,\"ticks\":\"outside\",\"zeroline\":false,\"zerolinecolor\":\"rgb(36,36,36)\"},\"zaxis\":{\"backgroundcolor\":\"white\",\"gridcolor\":\"rgb(232,232,232)\",\"gridwidth\":2,\"linecolor\":\"rgb(36,36,36)\",\"showbackground\":true,\"showgrid\":false,\"showline\":true,\"ticks\":\"outside\",\"zeroline\":false,\"zerolinecolor\":\"rgb(36,36,36)\"}},\"shapedefaults\":{\"fillcolor\":\"black\",\"line\":{\"width\":0},\"opacity\":0.3},\"ternary\":{\"aaxis\":{\"gridcolor\":\"rgb(232,232,232)\",\"linecolor\":\"rgb(36,36,36)\",\"showgrid\":false,\"showline\":true,\"ticks\":\"outside\"},\"baxis\":{\"gridcolor\":\"rgb(232,232,232)\",\"linecolor\":\"rgb(36,36,36)\",\"showgrid\":false,\"showline\":true,\"ticks\":\"outside\"},\"bgcolor\":\"white\",\"caxis\":{\"gridcolor\":\"rgb(232,232,232)\",\"linecolor\":\"rgb(36,36,36)\",\"showgrid\":false,\"showline\":true,\"ticks\":\"outside\"}},\"title\":{\"x\":0.05},\"xaxis\":{\"automargin\":true,\"gridcolor\":\"rgb(232,232,232)\",\"linecolor\":\"rgb(36,36,36)\",\"showgrid\":false,\"showline\":true,\"ticks\":\"outside\",\"title\":{\"standoff\":15},\"zeroline\":false,\"zerolinecolor\":\"rgb(36,36,36)\"},\"yaxis\":{\"automargin\":true,\"gridcolor\":\"rgb(232,232,232)\",\"linecolor\":\"rgb(36,36,36)\",\"showgrid\":false,\"showline\":true,\"ticks\":\"outside\",\"title\":{\"standoff\":15},\"zeroline\":false,\"zerolinecolor\":\"rgb(36,36,36)\"}}},\"title\":{\"text\":\"train 2 (base)\"},\"shapes\":[{\"line\":{\"color\":\"black\",\"width\":0.5},\"type\":\"line\",\"x0\":0,\"x1\":1,\"xref\":\"x domain\",\"y0\":0.0,\"y1\":0.0,\"yref\":\"y\"},{\"line\":{\"color\":\"black\",\"width\":0.5},\"type\":\"line\",\"x0\":0,\"x1\":1,\"xref\":\"x domain\",\"y0\":0.0,\"y1\":0.0,\"yref\":\"y\"},{\"line\":{\"color\":\"black\",\"width\":0.5},\"type\":\"line\",\"x0\":0,\"x1\":1,\"xref\":\"x domain\",\"y0\":200.0,\"y1\":200.0,\"yref\":\"y\"},{\"line\":{\"color\":\"black\",\"width\":0.5},\"type\":\"line\",\"x0\":0,\"x1\":1,\"xref\":\"x domain\",\"y0\":1200.0,\"y1\":1200.0,\"yref\":\"y\"},{\"line\":{\"color\":\"black\",\"width\":0.5},\"type\":\"line\",\"x0\":0,\"x1\":1,\"xref\":\"x domain\",\"y0\":1680.0,\"y1\":1680.0,\"yref\":\"y\"},{\"line\":{\"color\":\"black\",\"width\":0.5},\"type\":\"line\",\"x0\":0,\"x1\":1,\"xref\":\"x domain\",\"y0\":1690.0,\"y1\":1690.0,\"yref\":\"y\"}],\"yaxis\":{\"tickmode\":\"array\",\"tickvals\":[0.0,0.0,200.0,1200.0,1680.0,1690.0],\"ticktext\":[\"departure_train2\",\"station0\\u002fT0\",\"CVG\",\"DVG\",\"station1\\u002fT4\",\"arrival_train2\"]},\"xaxis\":{\"tickmode\":\"array\",\"tickvals\":[0,84,168,252,336,420],\"ticktext\":[\"00:00:00\",\"00:01:24\",\"00:02:48\",\"00:04:12\",\"00:05:36\",\"00:07:00\"]}},                        {\"responsive\": true}                    ).then(function(){\n",
       "                            \n",
       "var gd = document.getElementById('c8228f5d-9d18-4070-94a5-3a9c8e9973e2');\n",
       "var x = new MutationObserver(function (mutations, observer) {{\n",
       "        var display = window.getComputedStyle(gd).display;\n",
       "        if (!display || display === 'none') {{\n",
       "            console.log([gd, 'removed!']);\n",
       "            Plotly.purge(gd);\n",
       "            observer.disconnect();\n",
       "        }}\n",
       "}});\n",
       "\n",
       "// Listen for the removal of the full notebook cells\n",
       "var notebookContainer = gd.closest('#notebook-container');\n",
       "if (notebookContainer) {{\n",
       "    x.observe(notebookContainer, {childList: true});\n",
       "}}\n",
       "\n",
       "// Listen for the clearing of the current output cell\n",
       "var outputEl = gd.closest('.output');\n",
       "if (outputEl) {{\n",
       "    x.observe(outputEl, {childList: true});\n",
       "}}\n",
       "\n",
       "                        })                };                });            </script>        </div>"
      ]
     },
     "metadata": {},
     "output_type": "display_data"
    }
   ],
   "source": [
    "sim.add_train(\n",
    "    label='train2',\n",
    "    locations=[('T0', 300), ('T4', 490)],\n",
    "    departure_time=300\n",
    ")\n",
    "sim.run()\n",
    "sim.space_time_chart_plotly(2)"
   ]
  },
  {
   "cell_type": "code",
   "execution_count": 28,
   "metadata": {},
   "outputs": [
    {
     "name": "stdout",
     "output_type": "stream",
     "text": [
      "'train0' is already used as a train label\n"
     ]
    }
   ],
   "source": [
    "try:\n",
    "    sim.add_train('train0', locations=[('T4', 490), ('T1', 100)], departure_time=150)\n",
    "except ValueError as e:\n",
    "    print(e)"
   ]
  },
  {
   "cell_type": "code",
   "execution_count": 29,
   "metadata": {},
   "outputs": [],
   "source": [
    "sim.cancel_train('train1')"
   ]
  },
  {
   "cell_type": "code",
   "execution_count": 30,
   "metadata": {},
   "outputs": [
    {
     "name": "stdout",
     "output_type": "stream",
     "text": [
      "[15:09:24,679] \u001b[34m[INFO] \u001b[0;39m [StandaloneSimulationCommand] Loading infra: tmp/infra.json\n",
      "[15:09:24,718] \u001b[34m[INFO] \u001b[0;39m             [FullInfra] parsing infra\n",
      "[15:09:24,719] \u001b[34m[INFO] \u001b[0;39m             [FullInfra] adaptation to kotlin\n",
      "[15:09:24,762] \u001b[34m[INFO] \u001b[0;39m             [FullInfra] loading signals\n",
      "[15:09:24,764] \u001b[34m[INFO] \u001b[0;39m             [FullInfra] building blocks\n",
      "[15:09:24,786] \u001b[34m[INFO] \u001b[0;39m [StandaloneSimulationCommand] Loading input: tmp/simulation.json\n",
      "[15:09:24,957] \u001b[34m[INFO] \u001b[0;39m [StandaloneSimulationCommand] Running simulation for schedule group: group.7\n",
      "[15:09:25,057] \u001b[39m[DEBUG]\u001b[0;39m             [Allowance] computing range n°1\n",
      "[15:09:25,060] \u001b[39m[DEBUG]\u001b[0;39m             [Allowance]   computing section n°1\n",
      "[15:09:25,061] \u001b[39m[DEBUG]\u001b[0;39m             [Allowance]   target time = 126.06939555\n",
      "[15:09:25,061] \u001b[39m[DEBUG]\u001b[0;39m             [Allowance]     starting attempt 1\n",
      "[15:09:25,063] \u001b[39m[DEBUG]\u001b[0;39m             [Allowance]     envelope time 183.993422\n",
      "[15:09:25,063] \u001b[39m[DEBUG]\u001b[0;39m             [Allowance]     starting attempt 2\n",
      "[15:09:25,063] \u001b[39m[DEBUG]\u001b[0;39m             [Allowance]     envelope time 145.309507\n",
      "[15:09:25,063] \u001b[39m[DEBUG]\u001b[0;39m             [Allowance]     starting attempt 3\n",
      "[15:09:25,063] \u001b[39m[DEBUG]\u001b[0;39m             [Allowance]     envelope time 131.487139\n",
      "[15:09:25,063] \u001b[39m[DEBUG]\u001b[0;39m             [Allowance]     starting attempt 4\n",
      "[15:09:25,063] \u001b[39m[DEBUG]\u001b[0;39m             [Allowance]     envelope time 125.517333\n",
      "[15:09:25,067] \u001b[34m[INFO] \u001b[0;39m [StandaloneSimulationCommand] Running simulation for schedule group: group.9\n",
      "[15:09:25,071] \u001b[39m[DEBUG]\u001b[0;39m             [Allowance] computing range n°1\n",
      "[15:09:25,071] \u001b[39m[DEBUG]\u001b[0;39m             [Allowance]   computing section n°1\n",
      "[15:09:25,071] \u001b[39m[DEBUG]\u001b[0;39m             [Allowance]   target time = 126.06939555\n",
      "[15:09:25,071] \u001b[39m[DEBUG]\u001b[0;39m             [Allowance]     starting attempt 1\n",
      "[15:09:25,072] \u001b[39m[DEBUG]\u001b[0;39m             [Allowance]     envelope time 183.993422\n",
      "[15:09:25,072] \u001b[39m[DEBUG]\u001b[0;39m             [Allowance]     starting attempt 2\n",
      "[15:09:25,072] \u001b[39m[DEBUG]\u001b[0;39m             [Allowance]     envelope time 145.309507\n",
      "[15:09:25,072] \u001b[39m[DEBUG]\u001b[0;39m             [Allowance]     starting attempt 3\n",
      "[15:09:25,072] \u001b[39m[DEBUG]\u001b[0;39m             [Allowance]     envelope time 131.487139\n",
      "[15:09:25,072] \u001b[39m[DEBUG]\u001b[0;39m             [Allowance]     starting attempt 4\n",
      "[15:09:25,072] \u001b[39m[DEBUG]\u001b[0;39m             [Allowance]     envelope time 125.517333\n",
      "[15:09:25,073] \u001b[34m[INFO] \u001b[0;39m [StandaloneSimulationCommand] All simulations completed\n",
      "[15:09:25,073] \u001b[34m[INFO] \u001b[0;39m [StandaloneSimulationCommand] Saving results at: tmp/results.json\n"
     ]
    }
   ],
   "source": [
    "sim.run()"
   ]
  },
  {
   "cell_type": "code",
   "execution_count": 31,
   "metadata": {},
   "outputs": [
    {
     "data": {
      "application/vnd.plotly.v1+json": {
       "config": {
        "plotlyServerURL": "https://plot.ly"
       },
       "data": [
        {
         "name": "train0",
         "type": "scatter",
         "x": [
          0,
          6,
          14,
          22,
          29.50959174358881,
          30,
          38,
          48,
          58,
          68.0660921882602,
          74.0660921882602,
          75.88004567663229,
          80.0660921882602,
          88.0660921882602,
          96.0660921882602,
          104.0660921882602,
          112.0660921882602,
          120.0660921882602
         ],
         "y": [
          0,
          8.293999999999983,
          45.065999999999974,
          111.01400000000001,
          200,
          205.811,
          328.918,
          520.809,
          750.412,
          1014,
          1161,
          1200,
          1290,
          1434,
          1546,
          1626,
          1674,
          1690
         ]
        },
        {
         "name": "train2",
         "type": "scatter",
         "x": [
          300,
          306,
          314,
          322,
          329.5095917435888,
          330,
          338,
          348,
          358,
          368.0660921882602,
          374.0660921882602,
          375.8800456766323,
          380.0660921882602,
          388.0660921882602,
          396.0660921882602,
          404.0660921882602,
          412.0660921882602,
          420.0660921882602
         ],
         "y": [
          0,
          8.293999999999983,
          45.065999999999974,
          111.01400000000001,
          200,
          205.811,
          328.918,
          520.809,
          750.412,
          1014,
          1161,
          1200,
          1290,
          1434,
          1546,
          1626,
          1674,
          1690
         ]
        }
       ],
       "layout": {
        "hovermode": "x unified",
        "shapes": [
         {
          "line": {
           "color": "black",
           "width": 0.5
          },
          "type": "line",
          "x0": 0,
          "x1": 1,
          "xref": "x domain",
          "y0": 0,
          "y1": 0,
          "yref": "y"
         },
         {
          "line": {
           "color": "black",
           "width": 0.5
          },
          "type": "line",
          "x0": 0,
          "x1": 1,
          "xref": "x domain",
          "y0": 0,
          "y1": 0,
          "yref": "y"
         },
         {
          "line": {
           "color": "black",
           "width": 0.5
          },
          "type": "line",
          "x0": 0,
          "x1": 1,
          "xref": "x domain",
          "y0": 200,
          "y1": 200,
          "yref": "y"
         },
         {
          "line": {
           "color": "black",
           "width": 0.5
          },
          "type": "line",
          "x0": 0,
          "x1": 1,
          "xref": "x domain",
          "y0": 1200,
          "y1": 1200,
          "yref": "y"
         },
         {
          "line": {
           "color": "black",
           "width": 0.5
          },
          "type": "line",
          "x0": 0,
          "x1": 1,
          "xref": "x domain",
          "y0": 1680,
          "y1": 1680,
          "yref": "y"
         },
         {
          "line": {
           "color": "black",
           "width": 0.5
          },
          "type": "line",
          "x0": 0,
          "x1": 1,
          "xref": "x domain",
          "y0": 1690,
          "y1": 1690,
          "yref": "y"
         }
        ],
        "template": {
         "data": {
          "bar": [
           {
            "error_x": {
             "color": "rgb(36,36,36)"
            },
            "error_y": {
             "color": "rgb(36,36,36)"
            },
            "marker": {
             "line": {
              "color": "white",
              "width": 0.5
             },
             "pattern": {
              "fillmode": "overlay",
              "size": 10,
              "solidity": 0.2
             }
            },
            "type": "bar"
           }
          ],
          "barpolar": [
           {
            "marker": {
             "line": {
              "color": "white",
              "width": 0.5
             },
             "pattern": {
              "fillmode": "overlay",
              "size": 10,
              "solidity": 0.2
             }
            },
            "type": "barpolar"
           }
          ],
          "carpet": [
           {
            "aaxis": {
             "endlinecolor": "rgb(36,36,36)",
             "gridcolor": "white",
             "linecolor": "white",
             "minorgridcolor": "white",
             "startlinecolor": "rgb(36,36,36)"
            },
            "baxis": {
             "endlinecolor": "rgb(36,36,36)",
             "gridcolor": "white",
             "linecolor": "white",
             "minorgridcolor": "white",
             "startlinecolor": "rgb(36,36,36)"
            },
            "type": "carpet"
           }
          ],
          "choropleth": [
           {
            "colorbar": {
             "outlinewidth": 1,
             "tickcolor": "rgb(36,36,36)",
             "ticks": "outside"
            },
            "type": "choropleth"
           }
          ],
          "contour": [
           {
            "colorbar": {
             "outlinewidth": 1,
             "tickcolor": "rgb(36,36,36)",
             "ticks": "outside"
            },
            "colorscale": [
             [
              0,
              "#440154"
             ],
             [
              0.1111111111111111,
              "#482878"
             ],
             [
              0.2222222222222222,
              "#3e4989"
             ],
             [
              0.3333333333333333,
              "#31688e"
             ],
             [
              0.4444444444444444,
              "#26828e"
             ],
             [
              0.5555555555555556,
              "#1f9e89"
             ],
             [
              0.6666666666666666,
              "#35b779"
             ],
             [
              0.7777777777777778,
              "#6ece58"
             ],
             [
              0.8888888888888888,
              "#b5de2b"
             ],
             [
              1,
              "#fde725"
             ]
            ],
            "type": "contour"
           }
          ],
          "contourcarpet": [
           {
            "colorbar": {
             "outlinewidth": 1,
             "tickcolor": "rgb(36,36,36)",
             "ticks": "outside"
            },
            "type": "contourcarpet"
           }
          ],
          "heatmap": [
           {
            "colorbar": {
             "outlinewidth": 1,
             "tickcolor": "rgb(36,36,36)",
             "ticks": "outside"
            },
            "colorscale": [
             [
              0,
              "#440154"
             ],
             [
              0.1111111111111111,
              "#482878"
             ],
             [
              0.2222222222222222,
              "#3e4989"
             ],
             [
              0.3333333333333333,
              "#31688e"
             ],
             [
              0.4444444444444444,
              "#26828e"
             ],
             [
              0.5555555555555556,
              "#1f9e89"
             ],
             [
              0.6666666666666666,
              "#35b779"
             ],
             [
              0.7777777777777778,
              "#6ece58"
             ],
             [
              0.8888888888888888,
              "#b5de2b"
             ],
             [
              1,
              "#fde725"
             ]
            ],
            "type": "heatmap"
           }
          ],
          "heatmapgl": [
           {
            "colorbar": {
             "outlinewidth": 1,
             "tickcolor": "rgb(36,36,36)",
             "ticks": "outside"
            },
            "colorscale": [
             [
              0,
              "#440154"
             ],
             [
              0.1111111111111111,
              "#482878"
             ],
             [
              0.2222222222222222,
              "#3e4989"
             ],
             [
              0.3333333333333333,
              "#31688e"
             ],
             [
              0.4444444444444444,
              "#26828e"
             ],
             [
              0.5555555555555556,
              "#1f9e89"
             ],
             [
              0.6666666666666666,
              "#35b779"
             ],
             [
              0.7777777777777778,
              "#6ece58"
             ],
             [
              0.8888888888888888,
              "#b5de2b"
             ],
             [
              1,
              "#fde725"
             ]
            ],
            "type": "heatmapgl"
           }
          ],
          "histogram": [
           {
            "marker": {
             "line": {
              "color": "white",
              "width": 0.6
             }
            },
            "type": "histogram"
           }
          ],
          "histogram2d": [
           {
            "colorbar": {
             "outlinewidth": 1,
             "tickcolor": "rgb(36,36,36)",
             "ticks": "outside"
            },
            "colorscale": [
             [
              0,
              "#440154"
             ],
             [
              0.1111111111111111,
              "#482878"
             ],
             [
              0.2222222222222222,
              "#3e4989"
             ],
             [
              0.3333333333333333,
              "#31688e"
             ],
             [
              0.4444444444444444,
              "#26828e"
             ],
             [
              0.5555555555555556,
              "#1f9e89"
             ],
             [
              0.6666666666666666,
              "#35b779"
             ],
             [
              0.7777777777777778,
              "#6ece58"
             ],
             [
              0.8888888888888888,
              "#b5de2b"
             ],
             [
              1,
              "#fde725"
             ]
            ],
            "type": "histogram2d"
           }
          ],
          "histogram2dcontour": [
           {
            "colorbar": {
             "outlinewidth": 1,
             "tickcolor": "rgb(36,36,36)",
             "ticks": "outside"
            },
            "colorscale": [
             [
              0,
              "#440154"
             ],
             [
              0.1111111111111111,
              "#482878"
             ],
             [
              0.2222222222222222,
              "#3e4989"
             ],
             [
              0.3333333333333333,
              "#31688e"
             ],
             [
              0.4444444444444444,
              "#26828e"
             ],
             [
              0.5555555555555556,
              "#1f9e89"
             ],
             [
              0.6666666666666666,
              "#35b779"
             ],
             [
              0.7777777777777778,
              "#6ece58"
             ],
             [
              0.8888888888888888,
              "#b5de2b"
             ],
             [
              1,
              "#fde725"
             ]
            ],
            "type": "histogram2dcontour"
           }
          ],
          "mesh3d": [
           {
            "colorbar": {
             "outlinewidth": 1,
             "tickcolor": "rgb(36,36,36)",
             "ticks": "outside"
            },
            "type": "mesh3d"
           }
          ],
          "parcoords": [
           {
            "line": {
             "colorbar": {
              "outlinewidth": 1,
              "tickcolor": "rgb(36,36,36)",
              "ticks": "outside"
             }
            },
            "type": "parcoords"
           }
          ],
          "pie": [
           {
            "automargin": true,
            "type": "pie"
           }
          ],
          "scatter": [
           {
            "fillpattern": {
             "fillmode": "overlay",
             "size": 10,
             "solidity": 0.2
            },
            "type": "scatter"
           }
          ],
          "scatter3d": [
           {
            "line": {
             "colorbar": {
              "outlinewidth": 1,
              "tickcolor": "rgb(36,36,36)",
              "ticks": "outside"
             }
            },
            "marker": {
             "colorbar": {
              "outlinewidth": 1,
              "tickcolor": "rgb(36,36,36)",
              "ticks": "outside"
             }
            },
            "type": "scatter3d"
           }
          ],
          "scattercarpet": [
           {
            "marker": {
             "colorbar": {
              "outlinewidth": 1,
              "tickcolor": "rgb(36,36,36)",
              "ticks": "outside"
             }
            },
            "type": "scattercarpet"
           }
          ],
          "scattergeo": [
           {
            "marker": {
             "colorbar": {
              "outlinewidth": 1,
              "tickcolor": "rgb(36,36,36)",
              "ticks": "outside"
             }
            },
            "type": "scattergeo"
           }
          ],
          "scattergl": [
           {
            "marker": {
             "colorbar": {
              "outlinewidth": 1,
              "tickcolor": "rgb(36,36,36)",
              "ticks": "outside"
             }
            },
            "type": "scattergl"
           }
          ],
          "scattermapbox": [
           {
            "marker": {
             "colorbar": {
              "outlinewidth": 1,
              "tickcolor": "rgb(36,36,36)",
              "ticks": "outside"
             }
            },
            "type": "scattermapbox"
           }
          ],
          "scatterpolar": [
           {
            "marker": {
             "colorbar": {
              "outlinewidth": 1,
              "tickcolor": "rgb(36,36,36)",
              "ticks": "outside"
             }
            },
            "type": "scatterpolar"
           }
          ],
          "scatterpolargl": [
           {
            "marker": {
             "colorbar": {
              "outlinewidth": 1,
              "tickcolor": "rgb(36,36,36)",
              "ticks": "outside"
             }
            },
            "type": "scatterpolargl"
           }
          ],
          "scatterternary": [
           {
            "marker": {
             "colorbar": {
              "outlinewidth": 1,
              "tickcolor": "rgb(36,36,36)",
              "ticks": "outside"
             }
            },
            "type": "scatterternary"
           }
          ],
          "surface": [
           {
            "colorbar": {
             "outlinewidth": 1,
             "tickcolor": "rgb(36,36,36)",
             "ticks": "outside"
            },
            "colorscale": [
             [
              0,
              "#440154"
             ],
             [
              0.1111111111111111,
              "#482878"
             ],
             [
              0.2222222222222222,
              "#3e4989"
             ],
             [
              0.3333333333333333,
              "#31688e"
             ],
             [
              0.4444444444444444,
              "#26828e"
             ],
             [
              0.5555555555555556,
              "#1f9e89"
             ],
             [
              0.6666666666666666,
              "#35b779"
             ],
             [
              0.7777777777777778,
              "#6ece58"
             ],
             [
              0.8888888888888888,
              "#b5de2b"
             ],
             [
              1,
              "#fde725"
             ]
            ],
            "type": "surface"
           }
          ],
          "table": [
           {
            "cells": {
             "fill": {
              "color": "rgb(237,237,237)"
             },
             "line": {
              "color": "white"
             }
            },
            "header": {
             "fill": {
              "color": "rgb(217,217,217)"
             },
             "line": {
              "color": "white"
             }
            },
            "type": "table"
           }
          ]
         },
         "layout": {
          "annotationdefaults": {
           "arrowhead": 0,
           "arrowwidth": 1
          },
          "autotypenumbers": "strict",
          "coloraxis": {
           "colorbar": {
            "outlinewidth": 1,
            "tickcolor": "rgb(36,36,36)",
            "ticks": "outside"
           }
          },
          "colorscale": {
           "diverging": [
            [
             0,
             "rgb(103,0,31)"
            ],
            [
             0.1,
             "rgb(178,24,43)"
            ],
            [
             0.2,
             "rgb(214,96,77)"
            ],
            [
             0.3,
             "rgb(244,165,130)"
            ],
            [
             0.4,
             "rgb(253,219,199)"
            ],
            [
             0.5,
             "rgb(247,247,247)"
            ],
            [
             0.6,
             "rgb(209,229,240)"
            ],
            [
             0.7,
             "rgb(146,197,222)"
            ],
            [
             0.8,
             "rgb(67,147,195)"
            ],
            [
             0.9,
             "rgb(33,102,172)"
            ],
            [
             1,
             "rgb(5,48,97)"
            ]
           ],
           "sequential": [
            [
             0,
             "#440154"
            ],
            [
             0.1111111111111111,
             "#482878"
            ],
            [
             0.2222222222222222,
             "#3e4989"
            ],
            [
             0.3333333333333333,
             "#31688e"
            ],
            [
             0.4444444444444444,
             "#26828e"
            ],
            [
             0.5555555555555556,
             "#1f9e89"
            ],
            [
             0.6666666666666666,
             "#35b779"
            ],
            [
             0.7777777777777778,
             "#6ece58"
            ],
            [
             0.8888888888888888,
             "#b5de2b"
            ],
            [
             1,
             "#fde725"
            ]
           ],
           "sequentialminus": [
            [
             0,
             "#440154"
            ],
            [
             0.1111111111111111,
             "#482878"
            ],
            [
             0.2222222222222222,
             "#3e4989"
            ],
            [
             0.3333333333333333,
             "#31688e"
            ],
            [
             0.4444444444444444,
             "#26828e"
            ],
            [
             0.5555555555555556,
             "#1f9e89"
            ],
            [
             0.6666666666666666,
             "#35b779"
            ],
            [
             0.7777777777777778,
             "#6ece58"
            ],
            [
             0.8888888888888888,
             "#b5de2b"
            ],
            [
             1,
             "#fde725"
            ]
           ]
          },
          "colorway": [
           "#1F77B4",
           "#FF7F0E",
           "#2CA02C",
           "#D62728",
           "#9467BD",
           "#8C564B",
           "#E377C2",
           "#7F7F7F",
           "#BCBD22",
           "#17BECF"
          ],
          "font": {
           "color": "rgb(36,36,36)"
          },
          "geo": {
           "bgcolor": "white",
           "lakecolor": "white",
           "landcolor": "white",
           "showlakes": true,
           "showland": true,
           "subunitcolor": "white"
          },
          "hoverlabel": {
           "align": "left"
          },
          "hovermode": "closest",
          "mapbox": {
           "style": "light"
          },
          "paper_bgcolor": "white",
          "plot_bgcolor": "white",
          "polar": {
           "angularaxis": {
            "gridcolor": "rgb(232,232,232)",
            "linecolor": "rgb(36,36,36)",
            "showgrid": false,
            "showline": true,
            "ticks": "outside"
           },
           "bgcolor": "white",
           "radialaxis": {
            "gridcolor": "rgb(232,232,232)",
            "linecolor": "rgb(36,36,36)",
            "showgrid": false,
            "showline": true,
            "ticks": "outside"
           }
          },
          "scene": {
           "xaxis": {
            "backgroundcolor": "white",
            "gridcolor": "rgb(232,232,232)",
            "gridwidth": 2,
            "linecolor": "rgb(36,36,36)",
            "showbackground": true,
            "showgrid": false,
            "showline": true,
            "ticks": "outside",
            "zeroline": false,
            "zerolinecolor": "rgb(36,36,36)"
           },
           "yaxis": {
            "backgroundcolor": "white",
            "gridcolor": "rgb(232,232,232)",
            "gridwidth": 2,
            "linecolor": "rgb(36,36,36)",
            "showbackground": true,
            "showgrid": false,
            "showline": true,
            "ticks": "outside",
            "zeroline": false,
            "zerolinecolor": "rgb(36,36,36)"
           },
           "zaxis": {
            "backgroundcolor": "white",
            "gridcolor": "rgb(232,232,232)",
            "gridwidth": 2,
            "linecolor": "rgb(36,36,36)",
            "showbackground": true,
            "showgrid": false,
            "showline": true,
            "ticks": "outside",
            "zeroline": false,
            "zerolinecolor": "rgb(36,36,36)"
           }
          },
          "shapedefaults": {
           "fillcolor": "black",
           "line": {
            "width": 0
           },
           "opacity": 0.3
          },
          "ternary": {
           "aaxis": {
            "gridcolor": "rgb(232,232,232)",
            "linecolor": "rgb(36,36,36)",
            "showgrid": false,
            "showline": true,
            "ticks": "outside"
           },
           "baxis": {
            "gridcolor": "rgb(232,232,232)",
            "linecolor": "rgb(36,36,36)",
            "showgrid": false,
            "showline": true,
            "ticks": "outside"
           },
           "bgcolor": "white",
           "caxis": {
            "gridcolor": "rgb(232,232,232)",
            "linecolor": "rgb(36,36,36)",
            "showgrid": false,
            "showline": true,
            "ticks": "outside"
           }
          },
          "title": {
           "x": 0.05
          },
          "xaxis": {
           "automargin": true,
           "gridcolor": "rgb(232,232,232)",
           "linecolor": "rgb(36,36,36)",
           "showgrid": false,
           "showline": true,
           "ticks": "outside",
           "title": {
            "standoff": 15
           },
           "zeroline": false,
           "zerolinecolor": "rgb(36,36,36)"
          },
          "yaxis": {
           "automargin": true,
           "gridcolor": "rgb(232,232,232)",
           "linecolor": "rgb(36,36,36)",
           "showgrid": false,
           "showline": true,
           "ticks": "outside",
           "title": {
            "standoff": 15
           },
           "zeroline": false,
           "zerolinecolor": "rgb(36,36,36)"
          }
         }
        },
        "title": {
         "text": "train 0 (base)"
        },
        "xaxis": {
         "tickmode": "array",
         "ticktext": [
          "00:00:00",
          "00:01:24",
          "00:02:48",
          "00:04:12",
          "00:05:36",
          "00:07:00"
         ],
         "tickvals": [
          0,
          84,
          168,
          252,
          336,
          420
         ]
        },
        "yaxis": {
         "tickmode": "array",
         "ticktext": [
          "departure_train0",
          "station0/T0",
          "CVG",
          "DVG",
          "station1/T4",
          "arrival_train0"
         ],
         "tickvals": [
          0,
          0,
          200,
          1200,
          1680,
          1690
         ]
        }
       }
      },
      "text/html": [
       "<div>                            <div id=\"935210ff-eed0-421d-baa8-19f4ddaf6a5c\" class=\"plotly-graph-div\" style=\"height:525px; width:100%;\"></div>            <script type=\"text/javascript\">                require([\"plotly\"], function(Plotly) {                    window.PLOTLYENV=window.PLOTLYENV || {};                                    if (document.getElementById(\"935210ff-eed0-421d-baa8-19f4ddaf6a5c\")) {                    Plotly.newPlot(                        \"935210ff-eed0-421d-baa8-19f4ddaf6a5c\",                        [{\"name\":\"train0\",\"x\":[0.0,6.0,14.0,22.0,29.50959174358881,30.0,38.0,48.0,58.0,68.0660921882602,74.0660921882602,75.88004567663229,80.0660921882602,88.0660921882602,96.0660921882602,104.0660921882602,112.0660921882602,120.0660921882602],\"y\":[0.0,8.293999999999983,45.065999999999974,111.01400000000001,200.0,205.811,328.918,520.809,750.412,1014.0,1161.0,1200.0,1290.0,1434.0,1546.0,1626.0,1674.0,1690.0],\"type\":\"scatter\"},{\"name\":\"train2\",\"x\":[300.0,306.0,314.0,322.0,329.5095917435888,330.0,338.0,348.0,358.0,368.0660921882602,374.0660921882602,375.8800456766323,380.0660921882602,388.0660921882602,396.0660921882602,404.0660921882602,412.0660921882602,420.0660921882602],\"y\":[0.0,8.293999999999983,45.065999999999974,111.01400000000001,200.0,205.811,328.918,520.809,750.412,1014.0,1161.0,1200.0,1290.0,1434.0,1546.0,1626.0,1674.0,1690.0],\"type\":\"scatter\"}],                        {\"hovermode\":\"x unified\",\"template\":{\"data\":{\"barpolar\":[{\"marker\":{\"line\":{\"color\":\"white\",\"width\":0.5},\"pattern\":{\"fillmode\":\"overlay\",\"size\":10,\"solidity\":0.2}},\"type\":\"barpolar\"}],\"bar\":[{\"error_x\":{\"color\":\"rgb(36,36,36)\"},\"error_y\":{\"color\":\"rgb(36,36,36)\"},\"marker\":{\"line\":{\"color\":\"white\",\"width\":0.5},\"pattern\":{\"fillmode\":\"overlay\",\"size\":10,\"solidity\":0.2}},\"type\":\"bar\"}],\"carpet\":[{\"aaxis\":{\"endlinecolor\":\"rgb(36,36,36)\",\"gridcolor\":\"white\",\"linecolor\":\"white\",\"minorgridcolor\":\"white\",\"startlinecolor\":\"rgb(36,36,36)\"},\"baxis\":{\"endlinecolor\":\"rgb(36,36,36)\",\"gridcolor\":\"white\",\"linecolor\":\"white\",\"minorgridcolor\":\"white\",\"startlinecolor\":\"rgb(36,36,36)\"},\"type\":\"carpet\"}],\"choropleth\":[{\"colorbar\":{\"outlinewidth\":1,\"tickcolor\":\"rgb(36,36,36)\",\"ticks\":\"outside\"},\"type\":\"choropleth\"}],\"contourcarpet\":[{\"colorbar\":{\"outlinewidth\":1,\"tickcolor\":\"rgb(36,36,36)\",\"ticks\":\"outside\"},\"type\":\"contourcarpet\"}],\"contour\":[{\"colorbar\":{\"outlinewidth\":1,\"tickcolor\":\"rgb(36,36,36)\",\"ticks\":\"outside\"},\"colorscale\":[[0.0,\"#440154\"],[0.1111111111111111,\"#482878\"],[0.2222222222222222,\"#3e4989\"],[0.3333333333333333,\"#31688e\"],[0.4444444444444444,\"#26828e\"],[0.5555555555555556,\"#1f9e89\"],[0.6666666666666666,\"#35b779\"],[0.7777777777777778,\"#6ece58\"],[0.8888888888888888,\"#b5de2b\"],[1.0,\"#fde725\"]],\"type\":\"contour\"}],\"heatmapgl\":[{\"colorbar\":{\"outlinewidth\":1,\"tickcolor\":\"rgb(36,36,36)\",\"ticks\":\"outside\"},\"colorscale\":[[0.0,\"#440154\"],[0.1111111111111111,\"#482878\"],[0.2222222222222222,\"#3e4989\"],[0.3333333333333333,\"#31688e\"],[0.4444444444444444,\"#26828e\"],[0.5555555555555556,\"#1f9e89\"],[0.6666666666666666,\"#35b779\"],[0.7777777777777778,\"#6ece58\"],[0.8888888888888888,\"#b5de2b\"],[1.0,\"#fde725\"]],\"type\":\"heatmapgl\"}],\"heatmap\":[{\"colorbar\":{\"outlinewidth\":1,\"tickcolor\":\"rgb(36,36,36)\",\"ticks\":\"outside\"},\"colorscale\":[[0.0,\"#440154\"],[0.1111111111111111,\"#482878\"],[0.2222222222222222,\"#3e4989\"],[0.3333333333333333,\"#31688e\"],[0.4444444444444444,\"#26828e\"],[0.5555555555555556,\"#1f9e89\"],[0.6666666666666666,\"#35b779\"],[0.7777777777777778,\"#6ece58\"],[0.8888888888888888,\"#b5de2b\"],[1.0,\"#fde725\"]],\"type\":\"heatmap\"}],\"histogram2dcontour\":[{\"colorbar\":{\"outlinewidth\":1,\"tickcolor\":\"rgb(36,36,36)\",\"ticks\":\"outside\"},\"colorscale\":[[0.0,\"#440154\"],[0.1111111111111111,\"#482878\"],[0.2222222222222222,\"#3e4989\"],[0.3333333333333333,\"#31688e\"],[0.4444444444444444,\"#26828e\"],[0.5555555555555556,\"#1f9e89\"],[0.6666666666666666,\"#35b779\"],[0.7777777777777778,\"#6ece58\"],[0.8888888888888888,\"#b5de2b\"],[1.0,\"#fde725\"]],\"type\":\"histogram2dcontour\"}],\"histogram2d\":[{\"colorbar\":{\"outlinewidth\":1,\"tickcolor\":\"rgb(36,36,36)\",\"ticks\":\"outside\"},\"colorscale\":[[0.0,\"#440154\"],[0.1111111111111111,\"#482878\"],[0.2222222222222222,\"#3e4989\"],[0.3333333333333333,\"#31688e\"],[0.4444444444444444,\"#26828e\"],[0.5555555555555556,\"#1f9e89\"],[0.6666666666666666,\"#35b779\"],[0.7777777777777778,\"#6ece58\"],[0.8888888888888888,\"#b5de2b\"],[1.0,\"#fde725\"]],\"type\":\"histogram2d\"}],\"histogram\":[{\"marker\":{\"line\":{\"color\":\"white\",\"width\":0.6}},\"type\":\"histogram\"}],\"mesh3d\":[{\"colorbar\":{\"outlinewidth\":1,\"tickcolor\":\"rgb(36,36,36)\",\"ticks\":\"outside\"},\"type\":\"mesh3d\"}],\"parcoords\":[{\"line\":{\"colorbar\":{\"outlinewidth\":1,\"tickcolor\":\"rgb(36,36,36)\",\"ticks\":\"outside\"}},\"type\":\"parcoords\"}],\"pie\":[{\"automargin\":true,\"type\":\"pie\"}],\"scatter3d\":[{\"line\":{\"colorbar\":{\"outlinewidth\":1,\"tickcolor\":\"rgb(36,36,36)\",\"ticks\":\"outside\"}},\"marker\":{\"colorbar\":{\"outlinewidth\":1,\"tickcolor\":\"rgb(36,36,36)\",\"ticks\":\"outside\"}},\"type\":\"scatter3d\"}],\"scattercarpet\":[{\"marker\":{\"colorbar\":{\"outlinewidth\":1,\"tickcolor\":\"rgb(36,36,36)\",\"ticks\":\"outside\"}},\"type\":\"scattercarpet\"}],\"scattergeo\":[{\"marker\":{\"colorbar\":{\"outlinewidth\":1,\"tickcolor\":\"rgb(36,36,36)\",\"ticks\":\"outside\"}},\"type\":\"scattergeo\"}],\"scattergl\":[{\"marker\":{\"colorbar\":{\"outlinewidth\":1,\"tickcolor\":\"rgb(36,36,36)\",\"ticks\":\"outside\"}},\"type\":\"scattergl\"}],\"scattermapbox\":[{\"marker\":{\"colorbar\":{\"outlinewidth\":1,\"tickcolor\":\"rgb(36,36,36)\",\"ticks\":\"outside\"}},\"type\":\"scattermapbox\"}],\"scatterpolargl\":[{\"marker\":{\"colorbar\":{\"outlinewidth\":1,\"tickcolor\":\"rgb(36,36,36)\",\"ticks\":\"outside\"}},\"type\":\"scatterpolargl\"}],\"scatterpolar\":[{\"marker\":{\"colorbar\":{\"outlinewidth\":1,\"tickcolor\":\"rgb(36,36,36)\",\"ticks\":\"outside\"}},\"type\":\"scatterpolar\"}],\"scatter\":[{\"fillpattern\":{\"fillmode\":\"overlay\",\"size\":10,\"solidity\":0.2},\"type\":\"scatter\"}],\"scatterternary\":[{\"marker\":{\"colorbar\":{\"outlinewidth\":1,\"tickcolor\":\"rgb(36,36,36)\",\"ticks\":\"outside\"}},\"type\":\"scatterternary\"}],\"surface\":[{\"colorbar\":{\"outlinewidth\":1,\"tickcolor\":\"rgb(36,36,36)\",\"ticks\":\"outside\"},\"colorscale\":[[0.0,\"#440154\"],[0.1111111111111111,\"#482878\"],[0.2222222222222222,\"#3e4989\"],[0.3333333333333333,\"#31688e\"],[0.4444444444444444,\"#26828e\"],[0.5555555555555556,\"#1f9e89\"],[0.6666666666666666,\"#35b779\"],[0.7777777777777778,\"#6ece58\"],[0.8888888888888888,\"#b5de2b\"],[1.0,\"#fde725\"]],\"type\":\"surface\"}],\"table\":[{\"cells\":{\"fill\":{\"color\":\"rgb(237,237,237)\"},\"line\":{\"color\":\"white\"}},\"header\":{\"fill\":{\"color\":\"rgb(217,217,217)\"},\"line\":{\"color\":\"white\"}},\"type\":\"table\"}]},\"layout\":{\"annotationdefaults\":{\"arrowhead\":0,\"arrowwidth\":1},\"autotypenumbers\":\"strict\",\"coloraxis\":{\"colorbar\":{\"outlinewidth\":1,\"tickcolor\":\"rgb(36,36,36)\",\"ticks\":\"outside\"}},\"colorscale\":{\"diverging\":[[0.0,\"rgb(103,0,31)\"],[0.1,\"rgb(178,24,43)\"],[0.2,\"rgb(214,96,77)\"],[0.3,\"rgb(244,165,130)\"],[0.4,\"rgb(253,219,199)\"],[0.5,\"rgb(247,247,247)\"],[0.6,\"rgb(209,229,240)\"],[0.7,\"rgb(146,197,222)\"],[0.8,\"rgb(67,147,195)\"],[0.9,\"rgb(33,102,172)\"],[1.0,\"rgb(5,48,97)\"]],\"sequential\":[[0.0,\"#440154\"],[0.1111111111111111,\"#482878\"],[0.2222222222222222,\"#3e4989\"],[0.3333333333333333,\"#31688e\"],[0.4444444444444444,\"#26828e\"],[0.5555555555555556,\"#1f9e89\"],[0.6666666666666666,\"#35b779\"],[0.7777777777777778,\"#6ece58\"],[0.8888888888888888,\"#b5de2b\"],[1.0,\"#fde725\"]],\"sequentialminus\":[[0.0,\"#440154\"],[0.1111111111111111,\"#482878\"],[0.2222222222222222,\"#3e4989\"],[0.3333333333333333,\"#31688e\"],[0.4444444444444444,\"#26828e\"],[0.5555555555555556,\"#1f9e89\"],[0.6666666666666666,\"#35b779\"],[0.7777777777777778,\"#6ece58\"],[0.8888888888888888,\"#b5de2b\"],[1.0,\"#fde725\"]]},\"colorway\":[\"#1F77B4\",\"#FF7F0E\",\"#2CA02C\",\"#D62728\",\"#9467BD\",\"#8C564B\",\"#E377C2\",\"#7F7F7F\",\"#BCBD22\",\"#17BECF\"],\"font\":{\"color\":\"rgb(36,36,36)\"},\"geo\":{\"bgcolor\":\"white\",\"lakecolor\":\"white\",\"landcolor\":\"white\",\"showlakes\":true,\"showland\":true,\"subunitcolor\":\"white\"},\"hoverlabel\":{\"align\":\"left\"},\"hovermode\":\"closest\",\"mapbox\":{\"style\":\"light\"},\"paper_bgcolor\":\"white\",\"plot_bgcolor\":\"white\",\"polar\":{\"angularaxis\":{\"gridcolor\":\"rgb(232,232,232)\",\"linecolor\":\"rgb(36,36,36)\",\"showgrid\":false,\"showline\":true,\"ticks\":\"outside\"},\"bgcolor\":\"white\",\"radialaxis\":{\"gridcolor\":\"rgb(232,232,232)\",\"linecolor\":\"rgb(36,36,36)\",\"showgrid\":false,\"showline\":true,\"ticks\":\"outside\"}},\"scene\":{\"xaxis\":{\"backgroundcolor\":\"white\",\"gridcolor\":\"rgb(232,232,232)\",\"gridwidth\":2,\"linecolor\":\"rgb(36,36,36)\",\"showbackground\":true,\"showgrid\":false,\"showline\":true,\"ticks\":\"outside\",\"zeroline\":false,\"zerolinecolor\":\"rgb(36,36,36)\"},\"yaxis\":{\"backgroundcolor\":\"white\",\"gridcolor\":\"rgb(232,232,232)\",\"gridwidth\":2,\"linecolor\":\"rgb(36,36,36)\",\"showbackground\":true,\"showgrid\":false,\"showline\":true,\"ticks\":\"outside\",\"zeroline\":false,\"zerolinecolor\":\"rgb(36,36,36)\"},\"zaxis\":{\"backgroundcolor\":\"white\",\"gridcolor\":\"rgb(232,232,232)\",\"gridwidth\":2,\"linecolor\":\"rgb(36,36,36)\",\"showbackground\":true,\"showgrid\":false,\"showline\":true,\"ticks\":\"outside\",\"zeroline\":false,\"zerolinecolor\":\"rgb(36,36,36)\"}},\"shapedefaults\":{\"fillcolor\":\"black\",\"line\":{\"width\":0},\"opacity\":0.3},\"ternary\":{\"aaxis\":{\"gridcolor\":\"rgb(232,232,232)\",\"linecolor\":\"rgb(36,36,36)\",\"showgrid\":false,\"showline\":true,\"ticks\":\"outside\"},\"baxis\":{\"gridcolor\":\"rgb(232,232,232)\",\"linecolor\":\"rgb(36,36,36)\",\"showgrid\":false,\"showline\":true,\"ticks\":\"outside\"},\"bgcolor\":\"white\",\"caxis\":{\"gridcolor\":\"rgb(232,232,232)\",\"linecolor\":\"rgb(36,36,36)\",\"showgrid\":false,\"showline\":true,\"ticks\":\"outside\"}},\"title\":{\"x\":0.05},\"xaxis\":{\"automargin\":true,\"gridcolor\":\"rgb(232,232,232)\",\"linecolor\":\"rgb(36,36,36)\",\"showgrid\":false,\"showline\":true,\"ticks\":\"outside\",\"title\":{\"standoff\":15},\"zeroline\":false,\"zerolinecolor\":\"rgb(36,36,36)\"},\"yaxis\":{\"automargin\":true,\"gridcolor\":\"rgb(232,232,232)\",\"linecolor\":\"rgb(36,36,36)\",\"showgrid\":false,\"showline\":true,\"ticks\":\"outside\",\"title\":{\"standoff\":15},\"zeroline\":false,\"zerolinecolor\":\"rgb(36,36,36)\"}}},\"title\":{\"text\":\"train 0 (base)\"},\"shapes\":[{\"line\":{\"color\":\"black\",\"width\":0.5},\"type\":\"line\",\"x0\":0,\"x1\":1,\"xref\":\"x domain\",\"y0\":0.0,\"y1\":0.0,\"yref\":\"y\"},{\"line\":{\"color\":\"black\",\"width\":0.5},\"type\":\"line\",\"x0\":0,\"x1\":1,\"xref\":\"x domain\",\"y0\":0.0,\"y1\":0.0,\"yref\":\"y\"},{\"line\":{\"color\":\"black\",\"width\":0.5},\"type\":\"line\",\"x0\":0,\"x1\":1,\"xref\":\"x domain\",\"y0\":200.0,\"y1\":200.0,\"yref\":\"y\"},{\"line\":{\"color\":\"black\",\"width\":0.5},\"type\":\"line\",\"x0\":0,\"x1\":1,\"xref\":\"x domain\",\"y0\":1200.0,\"y1\":1200.0,\"yref\":\"y\"},{\"line\":{\"color\":\"black\",\"width\":0.5},\"type\":\"line\",\"x0\":0,\"x1\":1,\"xref\":\"x domain\",\"y0\":1680.0,\"y1\":1680.0,\"yref\":\"y\"},{\"line\":{\"color\":\"black\",\"width\":0.5},\"type\":\"line\",\"x0\":0,\"x1\":1,\"xref\":\"x domain\",\"y0\":1690.0,\"y1\":1690.0,\"yref\":\"y\"}],\"yaxis\":{\"tickmode\":\"array\",\"tickvals\":[0.0,0.0,200.0,1200.0,1680.0,1690.0],\"ticktext\":[\"departure_train0\",\"station0\\u002fT0\",\"CVG\",\"DVG\",\"station1\\u002fT4\",\"arrival_train0\"]},\"xaxis\":{\"tickmode\":\"array\",\"tickvals\":[0,84,168,252,336,420],\"ticktext\":[\"00:00:00\",\"00:01:24\",\"00:02:48\",\"00:04:12\",\"00:05:36\",\"00:07:00\"]}},                        {\"responsive\": true}                    ).then(function(){\n",
       "                            \n",
       "var gd = document.getElementById('935210ff-eed0-421d-baa8-19f4ddaf6a5c');\n",
       "var x = new MutationObserver(function (mutations, observer) {{\n",
       "        var display = window.getComputedStyle(gd).display;\n",
       "        if (!display || display === 'none') {{\n",
       "            console.log([gd, 'removed!']);\n",
       "            Plotly.purge(gd);\n",
       "            observer.disconnect();\n",
       "        }}\n",
       "}});\n",
       "\n",
       "// Listen for the removal of the full notebook cells\n",
       "var notebookContainer = gd.closest('#notebook-container');\n",
       "if (notebookContainer) {{\n",
       "    x.observe(notebookContainer, {childList: true});\n",
       "}}\n",
       "\n",
       "// Listen for the clearing of the current output cell\n",
       "var outputEl = gd.closest('.output');\n",
       "if (outputEl) {{\n",
       "    x.observe(outputEl, {childList: true});\n",
       "}}\n",
       "\n",
       "                        })                };                });            </script>        </div>"
      ]
     },
     "metadata": {},
     "output_type": "display_data"
    }
   ],
   "source": [
    "sim.space_time_chart_plotly(0)"
   ]
  },
  {
   "cell_type": "code",
   "execution_count": 32,
   "metadata": {},
   "outputs": [],
   "source": [
    "sim.stop_train('train0', position=350, duration=30)\n",
    "sim.stop_train(1, position=350, duration=60)"
   ]
  },
  {
   "cell_type": "code",
   "execution_count": 33,
   "metadata": {},
   "outputs": [
    {
     "name": "stdout",
     "output_type": "stream",
     "text": [
      "[15:09:25,447] \u001b[34m[INFO] \u001b[0;39m [StandaloneSimulationCommand] Loading infra: tmp/infra.json\n",
      "[15:09:25,481] \u001b[34m[INFO] \u001b[0;39m             [FullInfra] parsing infra\n",
      "[15:09:25,481] \u001b[34m[INFO] \u001b[0;39m             [FullInfra] adaptation to kotlin\n",
      "[15:09:25,523] \u001b[34m[INFO] \u001b[0;39m             [FullInfra] loading signals\n",
      "[15:09:25,525] \u001b[34m[INFO] \u001b[0;39m             [FullInfra] building blocks\n",
      "[15:09:25,549] \u001b[34m[INFO] \u001b[0;39m [StandaloneSimulationCommand] Loading input: tmp/simulation.json\n",
      "[15:09:25,731] \u001b[34m[INFO] \u001b[0;39m [StandaloneSimulationCommand] Running simulation for schedule group: group.7\n",
      "[15:09:25,840] \u001b[39m[DEBUG]\u001b[0;39m             [Allowance] computing range n°1\n",
      "[15:09:25,843] \u001b[39m[DEBUG]\u001b[0;39m             [Allowance]   computing section n°1\n",
      "[15:09:25,844] \u001b[39m[DEBUG]\u001b[0;39m             [Allowance]   target time = 56.83062105\n",
      "[15:09:25,844] \u001b[39m[DEBUG]\u001b[0;39m             [Allowance]     starting attempt 1\n",
      "[15:09:25,846] \u001b[39m[DEBUG]\u001b[0;39m             [Allowance]     envelope time 65.753652\n",
      "[15:09:25,846] \u001b[39m[DEBUG]\u001b[0;39m             [Allowance]     starting attempt 2\n",
      "[15:09:25,846] \u001b[39m[DEBUG]\u001b[0;39m             [Allowance]     envelope time 59.374956\n",
      "[15:09:25,846] \u001b[39m[DEBUG]\u001b[0;39m             [Allowance]     starting attempt 3\n",
      "[15:09:25,847] \u001b[39m[DEBUG]\u001b[0;39m             [Allowance]     envelope time 56.628223\n",
      "[15:09:25,847] \u001b[39m[DEBUG]\u001b[0;39m             [Allowance]   computing section n°2\n",
      "[15:09:25,847] \u001b[39m[DEBUG]\u001b[0;39m             [Allowance]   target time = 111.8959023\n",
      "[15:09:25,847] \u001b[39m[DEBUG]\u001b[0;39m             [Allowance]     starting attempt 1\n",
      "[15:09:25,847] \u001b[39m[DEBUG]\u001b[0;39m             [Allowance]     envelope time 159.108354\n",
      "[15:09:25,847] \u001b[39m[DEBUG]\u001b[0;39m             [Allowance]     starting attempt 2\n",
      "[15:09:25,847] \u001b[39m[DEBUG]\u001b[0;39m             [Allowance]     envelope time 127.642588\n",
      "[15:09:25,847] \u001b[39m[DEBUG]\u001b[0;39m             [Allowance]     starting attempt 3\n",
      "[15:09:25,848] \u001b[39m[DEBUG]\u001b[0;39m             [Allowance]     envelope time 116.156845\n",
      "[15:09:25,848] \u001b[39m[DEBUG]\u001b[0;39m             [Allowance]     starting attempt 4\n",
      "[15:09:25,848] \u001b[39m[DEBUG]\u001b[0;39m             [Allowance]     envelope time 111.155739\n",
      "[15:09:25,852] \u001b[34m[INFO] \u001b[0;39m [StandaloneSimulationCommand] Running simulation for schedule group: group.9\n",
      "[15:09:25,856] \u001b[39m[DEBUG]\u001b[0;39m             [Allowance] computing range n°1\n",
      "[15:09:25,857] \u001b[39m[DEBUG]\u001b[0;39m             [Allowance]   computing section n°1\n",
      "[15:09:25,857] \u001b[39m[DEBUG]\u001b[0;39m             [Allowance]   target time = 56.83062105\n",
      "[15:09:25,857] \u001b[39m[DEBUG]\u001b[0;39m             [Allowance]     starting attempt 1\n",
      "[15:09:25,857] \u001b[39m[DEBUG]\u001b[0;39m             [Allowance]     envelope time 65.753652\n",
      "[15:09:25,857] \u001b[39m[DEBUG]\u001b[0;39m             [Allowance]     starting attempt 2\n",
      "[15:09:25,857] \u001b[39m[DEBUG]\u001b[0;39m             [Allowance]     envelope time 59.374956\n",
      "[15:09:25,857] \u001b[39m[DEBUG]\u001b[0;39m             [Allowance]     starting attempt 3\n",
      "[15:09:25,857] \u001b[39m[DEBUG]\u001b[0;39m             [Allowance]     envelope time 56.628223\n",
      "[15:09:25,857] \u001b[39m[DEBUG]\u001b[0;39m             [Allowance]   computing section n°2\n",
      "[15:09:25,857] \u001b[39m[DEBUG]\u001b[0;39m             [Allowance]   target time = 111.8959023\n",
      "[15:09:25,857] \u001b[39m[DEBUG]\u001b[0;39m             [Allowance]     starting attempt 1\n",
      "[15:09:25,857] \u001b[39m[DEBUG]\u001b[0;39m             [Allowance]     envelope time 159.108354\n",
      "[15:09:25,857] \u001b[39m[DEBUG]\u001b[0;39m             [Allowance]     starting attempt 2\n",
      "[15:09:25,858] \u001b[39m[DEBUG]\u001b[0;39m             [Allowance]     envelope time 127.642588\n",
      "[15:09:25,858] \u001b[39m[DEBUG]\u001b[0;39m             [Allowance]     starting attempt 3\n",
      "[15:09:25,859] \u001b[39m[DEBUG]\u001b[0;39m             [Allowance]     envelope time 116.156845\n",
      "[15:09:25,859] \u001b[39m[DEBUG]\u001b[0;39m             [Allowance]     starting attempt 4\n",
      "[15:09:25,859] \u001b[39m[DEBUG]\u001b[0;39m             [Allowance]     envelope time 111.155739\n",
      "[15:09:25,861] \u001b[34m[INFO] \u001b[0;39m [StandaloneSimulationCommand] All simulations completed\n",
      "[15:09:25,861] \u001b[34m[INFO] \u001b[0;39m [StandaloneSimulationCommand] Saving results at: tmp/results.json\n"
     ]
    },
    {
     "data": {
      "application/vnd.plotly.v1+json": {
       "config": {
        "plotlyServerURL": "https://plot.ly"
       },
       "data": [
        {
         "name": "train0",
         "type": "scatter",
         "x": [
          0,
          8,
          16,
          22,
          29.955595950050807,
          36.124402181484356,
          40.124402181484356,
          46.124402181484356,
          54.124402181484356,
          88.12440218148436,
          96.12440218148436,
          104.12440218148436,
          108.12440218148436,
          114.12440218148436,
          118.12440218148436,
          124.12440218148436,
          134.12440218148436,
          144.69192924298963,
          146.50588273136174,
          150.69192924298963,
          156.69192924298963,
          162.69192924298963,
          168.69192924298963,
          176.69192924298963,
          182.69192924298963,
          190.69192924298963
         ],
         "y": [
          0,
          14.738,
          58.827999999999975,
          111.01400000000001,
          200,
          269,
          301,
          334,
          350,
          353.688,
          383.127,
          441.807,
          482.026,
          555.8109999999999,
          613.877,
          714.001,
          913.887,
          1161,
          1200,
          1290,
          1401,
          1494,
          1569,
          1641,
          1674,
          1690
         ]
        },
        {
         "name": "train2",
         "type": "scatter",
         "x": [
          300,
          308,
          316,
          322,
          329.9555959500508,
          336.12440218148436,
          342.12440218148436,
          348.12440218148436,
          354.12440218148436,
          416.12440218148436,
          422.12440218148436,
          430.12440218148436,
          434.12440218148436,
          440.12440218148436,
          446.12440218148436,
          452.12440218148436,
          462.12440218148436,
          468.12440218148436,
          474.69192924298966,
          476.50588273136174,
          480.69192924298966,
          486.69192924298966,
          492.69192924298966,
          498.69192924298966,
          506.69192924298966,
          512.6919292429897,
          520.6919292429897
         ],
         "y": [
          0,
          14.738,
          58.827999999999975,
          111.01400000000001,
          200,
          269,
          314,
          341,
          350,
          350.922,
          364.738,
          408.828,
          441.807,
          504.834,
          583.963,
          678.918,
          870.809,
          1004.3299999999999,
          1161,
          1200,
          1290,
          1401,
          1494,
          1569,
          1641,
          1674,
          1690
         ]
        }
       ],
       "layout": {
        "hovermode": "x unified",
        "shapes": [
         {
          "line": {
           "color": "black",
           "width": 0.5
          },
          "type": "line",
          "x0": 0,
          "x1": 1,
          "xref": "x domain",
          "y0": 0,
          "y1": 0,
          "yref": "y"
         },
         {
          "line": {
           "color": "black",
           "width": 0.5
          },
          "type": "line",
          "x0": 0,
          "x1": 1,
          "xref": "x domain",
          "y0": 0,
          "y1": 0,
          "yref": "y"
         },
         {
          "line": {
           "color": "black",
           "width": 0.5
          },
          "type": "line",
          "x0": 0,
          "x1": 1,
          "xref": "x domain",
          "y0": 200,
          "y1": 200,
          "yref": "y"
         },
         {
          "line": {
           "color": "black",
           "width": 0.5
          },
          "type": "line",
          "x0": 0,
          "x1": 1,
          "xref": "x domain",
          "y0": 1200,
          "y1": 1200,
          "yref": "y"
         },
         {
          "line": {
           "color": "black",
           "width": 0.5
          },
          "type": "line",
          "x0": 0,
          "x1": 1,
          "xref": "x domain",
          "y0": 1680,
          "y1": 1680,
          "yref": "y"
         },
         {
          "line": {
           "color": "black",
           "width": 0.5
          },
          "type": "line",
          "x0": 0,
          "x1": 1,
          "xref": "x domain",
          "y0": 1690,
          "y1": 1690,
          "yref": "y"
         }
        ],
        "template": {
         "data": {
          "bar": [
           {
            "error_x": {
             "color": "rgb(36,36,36)"
            },
            "error_y": {
             "color": "rgb(36,36,36)"
            },
            "marker": {
             "line": {
              "color": "white",
              "width": 0.5
             },
             "pattern": {
              "fillmode": "overlay",
              "size": 10,
              "solidity": 0.2
             }
            },
            "type": "bar"
           }
          ],
          "barpolar": [
           {
            "marker": {
             "line": {
              "color": "white",
              "width": 0.5
             },
             "pattern": {
              "fillmode": "overlay",
              "size": 10,
              "solidity": 0.2
             }
            },
            "type": "barpolar"
           }
          ],
          "carpet": [
           {
            "aaxis": {
             "endlinecolor": "rgb(36,36,36)",
             "gridcolor": "white",
             "linecolor": "white",
             "minorgridcolor": "white",
             "startlinecolor": "rgb(36,36,36)"
            },
            "baxis": {
             "endlinecolor": "rgb(36,36,36)",
             "gridcolor": "white",
             "linecolor": "white",
             "minorgridcolor": "white",
             "startlinecolor": "rgb(36,36,36)"
            },
            "type": "carpet"
           }
          ],
          "choropleth": [
           {
            "colorbar": {
             "outlinewidth": 1,
             "tickcolor": "rgb(36,36,36)",
             "ticks": "outside"
            },
            "type": "choropleth"
           }
          ],
          "contour": [
           {
            "colorbar": {
             "outlinewidth": 1,
             "tickcolor": "rgb(36,36,36)",
             "ticks": "outside"
            },
            "colorscale": [
             [
              0,
              "#440154"
             ],
             [
              0.1111111111111111,
              "#482878"
             ],
             [
              0.2222222222222222,
              "#3e4989"
             ],
             [
              0.3333333333333333,
              "#31688e"
             ],
             [
              0.4444444444444444,
              "#26828e"
             ],
             [
              0.5555555555555556,
              "#1f9e89"
             ],
             [
              0.6666666666666666,
              "#35b779"
             ],
             [
              0.7777777777777778,
              "#6ece58"
             ],
             [
              0.8888888888888888,
              "#b5de2b"
             ],
             [
              1,
              "#fde725"
             ]
            ],
            "type": "contour"
           }
          ],
          "contourcarpet": [
           {
            "colorbar": {
             "outlinewidth": 1,
             "tickcolor": "rgb(36,36,36)",
             "ticks": "outside"
            },
            "type": "contourcarpet"
           }
          ],
          "heatmap": [
           {
            "colorbar": {
             "outlinewidth": 1,
             "tickcolor": "rgb(36,36,36)",
             "ticks": "outside"
            },
            "colorscale": [
             [
              0,
              "#440154"
             ],
             [
              0.1111111111111111,
              "#482878"
             ],
             [
              0.2222222222222222,
              "#3e4989"
             ],
             [
              0.3333333333333333,
              "#31688e"
             ],
             [
              0.4444444444444444,
              "#26828e"
             ],
             [
              0.5555555555555556,
              "#1f9e89"
             ],
             [
              0.6666666666666666,
              "#35b779"
             ],
             [
              0.7777777777777778,
              "#6ece58"
             ],
             [
              0.8888888888888888,
              "#b5de2b"
             ],
             [
              1,
              "#fde725"
             ]
            ],
            "type": "heatmap"
           }
          ],
          "heatmapgl": [
           {
            "colorbar": {
             "outlinewidth": 1,
             "tickcolor": "rgb(36,36,36)",
             "ticks": "outside"
            },
            "colorscale": [
             [
              0,
              "#440154"
             ],
             [
              0.1111111111111111,
              "#482878"
             ],
             [
              0.2222222222222222,
              "#3e4989"
             ],
             [
              0.3333333333333333,
              "#31688e"
             ],
             [
              0.4444444444444444,
              "#26828e"
             ],
             [
              0.5555555555555556,
              "#1f9e89"
             ],
             [
              0.6666666666666666,
              "#35b779"
             ],
             [
              0.7777777777777778,
              "#6ece58"
             ],
             [
              0.8888888888888888,
              "#b5de2b"
             ],
             [
              1,
              "#fde725"
             ]
            ],
            "type": "heatmapgl"
           }
          ],
          "histogram": [
           {
            "marker": {
             "line": {
              "color": "white",
              "width": 0.6
             }
            },
            "type": "histogram"
           }
          ],
          "histogram2d": [
           {
            "colorbar": {
             "outlinewidth": 1,
             "tickcolor": "rgb(36,36,36)",
             "ticks": "outside"
            },
            "colorscale": [
             [
              0,
              "#440154"
             ],
             [
              0.1111111111111111,
              "#482878"
             ],
             [
              0.2222222222222222,
              "#3e4989"
             ],
             [
              0.3333333333333333,
              "#31688e"
             ],
             [
              0.4444444444444444,
              "#26828e"
             ],
             [
              0.5555555555555556,
              "#1f9e89"
             ],
             [
              0.6666666666666666,
              "#35b779"
             ],
             [
              0.7777777777777778,
              "#6ece58"
             ],
             [
              0.8888888888888888,
              "#b5de2b"
             ],
             [
              1,
              "#fde725"
             ]
            ],
            "type": "histogram2d"
           }
          ],
          "histogram2dcontour": [
           {
            "colorbar": {
             "outlinewidth": 1,
             "tickcolor": "rgb(36,36,36)",
             "ticks": "outside"
            },
            "colorscale": [
             [
              0,
              "#440154"
             ],
             [
              0.1111111111111111,
              "#482878"
             ],
             [
              0.2222222222222222,
              "#3e4989"
             ],
             [
              0.3333333333333333,
              "#31688e"
             ],
             [
              0.4444444444444444,
              "#26828e"
             ],
             [
              0.5555555555555556,
              "#1f9e89"
             ],
             [
              0.6666666666666666,
              "#35b779"
             ],
             [
              0.7777777777777778,
              "#6ece58"
             ],
             [
              0.8888888888888888,
              "#b5de2b"
             ],
             [
              1,
              "#fde725"
             ]
            ],
            "type": "histogram2dcontour"
           }
          ],
          "mesh3d": [
           {
            "colorbar": {
             "outlinewidth": 1,
             "tickcolor": "rgb(36,36,36)",
             "ticks": "outside"
            },
            "type": "mesh3d"
           }
          ],
          "parcoords": [
           {
            "line": {
             "colorbar": {
              "outlinewidth": 1,
              "tickcolor": "rgb(36,36,36)",
              "ticks": "outside"
             }
            },
            "type": "parcoords"
           }
          ],
          "pie": [
           {
            "automargin": true,
            "type": "pie"
           }
          ],
          "scatter": [
           {
            "fillpattern": {
             "fillmode": "overlay",
             "size": 10,
             "solidity": 0.2
            },
            "type": "scatter"
           }
          ],
          "scatter3d": [
           {
            "line": {
             "colorbar": {
              "outlinewidth": 1,
              "tickcolor": "rgb(36,36,36)",
              "ticks": "outside"
             }
            },
            "marker": {
             "colorbar": {
              "outlinewidth": 1,
              "tickcolor": "rgb(36,36,36)",
              "ticks": "outside"
             }
            },
            "type": "scatter3d"
           }
          ],
          "scattercarpet": [
           {
            "marker": {
             "colorbar": {
              "outlinewidth": 1,
              "tickcolor": "rgb(36,36,36)",
              "ticks": "outside"
             }
            },
            "type": "scattercarpet"
           }
          ],
          "scattergeo": [
           {
            "marker": {
             "colorbar": {
              "outlinewidth": 1,
              "tickcolor": "rgb(36,36,36)",
              "ticks": "outside"
             }
            },
            "type": "scattergeo"
           }
          ],
          "scattergl": [
           {
            "marker": {
             "colorbar": {
              "outlinewidth": 1,
              "tickcolor": "rgb(36,36,36)",
              "ticks": "outside"
             }
            },
            "type": "scattergl"
           }
          ],
          "scattermapbox": [
           {
            "marker": {
             "colorbar": {
              "outlinewidth": 1,
              "tickcolor": "rgb(36,36,36)",
              "ticks": "outside"
             }
            },
            "type": "scattermapbox"
           }
          ],
          "scatterpolar": [
           {
            "marker": {
             "colorbar": {
              "outlinewidth": 1,
              "tickcolor": "rgb(36,36,36)",
              "ticks": "outside"
             }
            },
            "type": "scatterpolar"
           }
          ],
          "scatterpolargl": [
           {
            "marker": {
             "colorbar": {
              "outlinewidth": 1,
              "tickcolor": "rgb(36,36,36)",
              "ticks": "outside"
             }
            },
            "type": "scatterpolargl"
           }
          ],
          "scatterternary": [
           {
            "marker": {
             "colorbar": {
              "outlinewidth": 1,
              "tickcolor": "rgb(36,36,36)",
              "ticks": "outside"
             }
            },
            "type": "scatterternary"
           }
          ],
          "surface": [
           {
            "colorbar": {
             "outlinewidth": 1,
             "tickcolor": "rgb(36,36,36)",
             "ticks": "outside"
            },
            "colorscale": [
             [
              0,
              "#440154"
             ],
             [
              0.1111111111111111,
              "#482878"
             ],
             [
              0.2222222222222222,
              "#3e4989"
             ],
             [
              0.3333333333333333,
              "#31688e"
             ],
             [
              0.4444444444444444,
              "#26828e"
             ],
             [
              0.5555555555555556,
              "#1f9e89"
             ],
             [
              0.6666666666666666,
              "#35b779"
             ],
             [
              0.7777777777777778,
              "#6ece58"
             ],
             [
              0.8888888888888888,
              "#b5de2b"
             ],
             [
              1,
              "#fde725"
             ]
            ],
            "type": "surface"
           }
          ],
          "table": [
           {
            "cells": {
             "fill": {
              "color": "rgb(237,237,237)"
             },
             "line": {
              "color": "white"
             }
            },
            "header": {
             "fill": {
              "color": "rgb(217,217,217)"
             },
             "line": {
              "color": "white"
             }
            },
            "type": "table"
           }
          ]
         },
         "layout": {
          "annotationdefaults": {
           "arrowhead": 0,
           "arrowwidth": 1
          },
          "autotypenumbers": "strict",
          "coloraxis": {
           "colorbar": {
            "outlinewidth": 1,
            "tickcolor": "rgb(36,36,36)",
            "ticks": "outside"
           }
          },
          "colorscale": {
           "diverging": [
            [
             0,
             "rgb(103,0,31)"
            ],
            [
             0.1,
             "rgb(178,24,43)"
            ],
            [
             0.2,
             "rgb(214,96,77)"
            ],
            [
             0.3,
             "rgb(244,165,130)"
            ],
            [
             0.4,
             "rgb(253,219,199)"
            ],
            [
             0.5,
             "rgb(247,247,247)"
            ],
            [
             0.6,
             "rgb(209,229,240)"
            ],
            [
             0.7,
             "rgb(146,197,222)"
            ],
            [
             0.8,
             "rgb(67,147,195)"
            ],
            [
             0.9,
             "rgb(33,102,172)"
            ],
            [
             1,
             "rgb(5,48,97)"
            ]
           ],
           "sequential": [
            [
             0,
             "#440154"
            ],
            [
             0.1111111111111111,
             "#482878"
            ],
            [
             0.2222222222222222,
             "#3e4989"
            ],
            [
             0.3333333333333333,
             "#31688e"
            ],
            [
             0.4444444444444444,
             "#26828e"
            ],
            [
             0.5555555555555556,
             "#1f9e89"
            ],
            [
             0.6666666666666666,
             "#35b779"
            ],
            [
             0.7777777777777778,
             "#6ece58"
            ],
            [
             0.8888888888888888,
             "#b5de2b"
            ],
            [
             1,
             "#fde725"
            ]
           ],
           "sequentialminus": [
            [
             0,
             "#440154"
            ],
            [
             0.1111111111111111,
             "#482878"
            ],
            [
             0.2222222222222222,
             "#3e4989"
            ],
            [
             0.3333333333333333,
             "#31688e"
            ],
            [
             0.4444444444444444,
             "#26828e"
            ],
            [
             0.5555555555555556,
             "#1f9e89"
            ],
            [
             0.6666666666666666,
             "#35b779"
            ],
            [
             0.7777777777777778,
             "#6ece58"
            ],
            [
             0.8888888888888888,
             "#b5de2b"
            ],
            [
             1,
             "#fde725"
            ]
           ]
          },
          "colorway": [
           "#1F77B4",
           "#FF7F0E",
           "#2CA02C",
           "#D62728",
           "#9467BD",
           "#8C564B",
           "#E377C2",
           "#7F7F7F",
           "#BCBD22",
           "#17BECF"
          ],
          "font": {
           "color": "rgb(36,36,36)"
          },
          "geo": {
           "bgcolor": "white",
           "lakecolor": "white",
           "landcolor": "white",
           "showlakes": true,
           "showland": true,
           "subunitcolor": "white"
          },
          "hoverlabel": {
           "align": "left"
          },
          "hovermode": "closest",
          "mapbox": {
           "style": "light"
          },
          "paper_bgcolor": "white",
          "plot_bgcolor": "white",
          "polar": {
           "angularaxis": {
            "gridcolor": "rgb(232,232,232)",
            "linecolor": "rgb(36,36,36)",
            "showgrid": false,
            "showline": true,
            "ticks": "outside"
           },
           "bgcolor": "white",
           "radialaxis": {
            "gridcolor": "rgb(232,232,232)",
            "linecolor": "rgb(36,36,36)",
            "showgrid": false,
            "showline": true,
            "ticks": "outside"
           }
          },
          "scene": {
           "xaxis": {
            "backgroundcolor": "white",
            "gridcolor": "rgb(232,232,232)",
            "gridwidth": 2,
            "linecolor": "rgb(36,36,36)",
            "showbackground": true,
            "showgrid": false,
            "showline": true,
            "ticks": "outside",
            "zeroline": false,
            "zerolinecolor": "rgb(36,36,36)"
           },
           "yaxis": {
            "backgroundcolor": "white",
            "gridcolor": "rgb(232,232,232)",
            "gridwidth": 2,
            "linecolor": "rgb(36,36,36)",
            "showbackground": true,
            "showgrid": false,
            "showline": true,
            "ticks": "outside",
            "zeroline": false,
            "zerolinecolor": "rgb(36,36,36)"
           },
           "zaxis": {
            "backgroundcolor": "white",
            "gridcolor": "rgb(232,232,232)",
            "gridwidth": 2,
            "linecolor": "rgb(36,36,36)",
            "showbackground": true,
            "showgrid": false,
            "showline": true,
            "ticks": "outside",
            "zeroline": false,
            "zerolinecolor": "rgb(36,36,36)"
           }
          },
          "shapedefaults": {
           "fillcolor": "black",
           "line": {
            "width": 0
           },
           "opacity": 0.3
          },
          "ternary": {
           "aaxis": {
            "gridcolor": "rgb(232,232,232)",
            "linecolor": "rgb(36,36,36)",
            "showgrid": false,
            "showline": true,
            "ticks": "outside"
           },
           "baxis": {
            "gridcolor": "rgb(232,232,232)",
            "linecolor": "rgb(36,36,36)",
            "showgrid": false,
            "showline": true,
            "ticks": "outside"
           },
           "bgcolor": "white",
           "caxis": {
            "gridcolor": "rgb(232,232,232)",
            "linecolor": "rgb(36,36,36)",
            "showgrid": false,
            "showline": true,
            "ticks": "outside"
           }
          },
          "title": {
           "x": 0.05
          },
          "xaxis": {
           "automargin": true,
           "gridcolor": "rgb(232,232,232)",
           "linecolor": "rgb(36,36,36)",
           "showgrid": false,
           "showline": true,
           "ticks": "outside",
           "title": {
            "standoff": 15
           },
           "zeroline": false,
           "zerolinecolor": "rgb(36,36,36)"
          },
          "yaxis": {
           "automargin": true,
           "gridcolor": "rgb(232,232,232)",
           "linecolor": "rgb(36,36,36)",
           "showgrid": false,
           "showline": true,
           "ticks": "outside",
           "title": {
            "standoff": 15
           },
           "zeroline": false,
           "zerolinecolor": "rgb(36,36,36)"
          }
         }
        },
        "title": {
         "text": "train 0 (base)"
        },
        "xaxis": {
         "tickmode": "array",
         "ticktext": [
          "00:00:00",
          "00:01:44",
          "00:03:28",
          "00:05:12",
          "00:06:56",
          "00:08:40",
          "00:10:24"
         ],
         "tickvals": [
          0,
          104,
          208,
          312,
          416,
          520,
          624
         ]
        },
        "yaxis": {
         "tickmode": "array",
         "ticktext": [
          "departure_train0",
          "station0/T0",
          "CVG",
          "DVG",
          "station1/T4",
          "arrival_train0"
         ],
         "tickvals": [
          0,
          0,
          200,
          1200,
          1680,
          1690
         ]
        }
       }
      },
      "text/html": [
       "<div>                            <div id=\"05a28139-92a2-4d1d-8f98-90a53b407626\" class=\"plotly-graph-div\" style=\"height:525px; width:100%;\"></div>            <script type=\"text/javascript\">                require([\"plotly\"], function(Plotly) {                    window.PLOTLYENV=window.PLOTLYENV || {};                                    if (document.getElementById(\"05a28139-92a2-4d1d-8f98-90a53b407626\")) {                    Plotly.newPlot(                        \"05a28139-92a2-4d1d-8f98-90a53b407626\",                        [{\"name\":\"train0\",\"x\":[0.0,8.0,16.0,22.0,29.955595950050807,36.124402181484356,40.124402181484356,46.124402181484356,54.124402181484356,88.12440218148436,96.12440218148436,104.12440218148436,108.12440218148436,114.12440218148436,118.12440218148436,124.12440218148436,134.12440218148436,144.69192924298963,146.50588273136174,150.69192924298963,156.69192924298963,162.69192924298963,168.69192924298963,176.69192924298963,182.69192924298963,190.69192924298963],\"y\":[0.0,14.738,58.827999999999975,111.01400000000001,200.0,269.0,301.0,334.0,350.0,353.688,383.127,441.807,482.026,555.8109999999999,613.877,714.001,913.887,1161.0,1200.0,1290.0,1401.0,1494.0,1569.0,1641.0,1674.0,1690.0],\"type\":\"scatter\"},{\"name\":\"train2\",\"x\":[300.0,308.0,316.0,322.0,329.9555959500508,336.12440218148436,342.12440218148436,348.12440218148436,354.12440218148436,416.12440218148436,422.12440218148436,430.12440218148436,434.12440218148436,440.12440218148436,446.12440218148436,452.12440218148436,462.12440218148436,468.12440218148436,474.69192924298966,476.50588273136174,480.69192924298966,486.69192924298966,492.69192924298966,498.69192924298966,506.69192924298966,512.6919292429897,520.6919292429897],\"y\":[0.0,14.738,58.827999999999975,111.01400000000001,200.0,269.0,314.0,341.0,350.0,350.922,364.738,408.828,441.807,504.834,583.963,678.918,870.809,1004.3299999999999,1161.0,1200.0,1290.0,1401.0,1494.0,1569.0,1641.0,1674.0,1690.0],\"type\":\"scatter\"}],                        {\"hovermode\":\"x unified\",\"template\":{\"data\":{\"barpolar\":[{\"marker\":{\"line\":{\"color\":\"white\",\"width\":0.5},\"pattern\":{\"fillmode\":\"overlay\",\"size\":10,\"solidity\":0.2}},\"type\":\"barpolar\"}],\"bar\":[{\"error_x\":{\"color\":\"rgb(36,36,36)\"},\"error_y\":{\"color\":\"rgb(36,36,36)\"},\"marker\":{\"line\":{\"color\":\"white\",\"width\":0.5},\"pattern\":{\"fillmode\":\"overlay\",\"size\":10,\"solidity\":0.2}},\"type\":\"bar\"}],\"carpet\":[{\"aaxis\":{\"endlinecolor\":\"rgb(36,36,36)\",\"gridcolor\":\"white\",\"linecolor\":\"white\",\"minorgridcolor\":\"white\",\"startlinecolor\":\"rgb(36,36,36)\"},\"baxis\":{\"endlinecolor\":\"rgb(36,36,36)\",\"gridcolor\":\"white\",\"linecolor\":\"white\",\"minorgridcolor\":\"white\",\"startlinecolor\":\"rgb(36,36,36)\"},\"type\":\"carpet\"}],\"choropleth\":[{\"colorbar\":{\"outlinewidth\":1,\"tickcolor\":\"rgb(36,36,36)\",\"ticks\":\"outside\"},\"type\":\"choropleth\"}],\"contourcarpet\":[{\"colorbar\":{\"outlinewidth\":1,\"tickcolor\":\"rgb(36,36,36)\",\"ticks\":\"outside\"},\"type\":\"contourcarpet\"}],\"contour\":[{\"colorbar\":{\"outlinewidth\":1,\"tickcolor\":\"rgb(36,36,36)\",\"ticks\":\"outside\"},\"colorscale\":[[0.0,\"#440154\"],[0.1111111111111111,\"#482878\"],[0.2222222222222222,\"#3e4989\"],[0.3333333333333333,\"#31688e\"],[0.4444444444444444,\"#26828e\"],[0.5555555555555556,\"#1f9e89\"],[0.6666666666666666,\"#35b779\"],[0.7777777777777778,\"#6ece58\"],[0.8888888888888888,\"#b5de2b\"],[1.0,\"#fde725\"]],\"type\":\"contour\"}],\"heatmapgl\":[{\"colorbar\":{\"outlinewidth\":1,\"tickcolor\":\"rgb(36,36,36)\",\"ticks\":\"outside\"},\"colorscale\":[[0.0,\"#440154\"],[0.1111111111111111,\"#482878\"],[0.2222222222222222,\"#3e4989\"],[0.3333333333333333,\"#31688e\"],[0.4444444444444444,\"#26828e\"],[0.5555555555555556,\"#1f9e89\"],[0.6666666666666666,\"#35b779\"],[0.7777777777777778,\"#6ece58\"],[0.8888888888888888,\"#b5de2b\"],[1.0,\"#fde725\"]],\"type\":\"heatmapgl\"}],\"heatmap\":[{\"colorbar\":{\"outlinewidth\":1,\"tickcolor\":\"rgb(36,36,36)\",\"ticks\":\"outside\"},\"colorscale\":[[0.0,\"#440154\"],[0.1111111111111111,\"#482878\"],[0.2222222222222222,\"#3e4989\"],[0.3333333333333333,\"#31688e\"],[0.4444444444444444,\"#26828e\"],[0.5555555555555556,\"#1f9e89\"],[0.6666666666666666,\"#35b779\"],[0.7777777777777778,\"#6ece58\"],[0.8888888888888888,\"#b5de2b\"],[1.0,\"#fde725\"]],\"type\":\"heatmap\"}],\"histogram2dcontour\":[{\"colorbar\":{\"outlinewidth\":1,\"tickcolor\":\"rgb(36,36,36)\",\"ticks\":\"outside\"},\"colorscale\":[[0.0,\"#440154\"],[0.1111111111111111,\"#482878\"],[0.2222222222222222,\"#3e4989\"],[0.3333333333333333,\"#31688e\"],[0.4444444444444444,\"#26828e\"],[0.5555555555555556,\"#1f9e89\"],[0.6666666666666666,\"#35b779\"],[0.7777777777777778,\"#6ece58\"],[0.8888888888888888,\"#b5de2b\"],[1.0,\"#fde725\"]],\"type\":\"histogram2dcontour\"}],\"histogram2d\":[{\"colorbar\":{\"outlinewidth\":1,\"tickcolor\":\"rgb(36,36,36)\",\"ticks\":\"outside\"},\"colorscale\":[[0.0,\"#440154\"],[0.1111111111111111,\"#482878\"],[0.2222222222222222,\"#3e4989\"],[0.3333333333333333,\"#31688e\"],[0.4444444444444444,\"#26828e\"],[0.5555555555555556,\"#1f9e89\"],[0.6666666666666666,\"#35b779\"],[0.7777777777777778,\"#6ece58\"],[0.8888888888888888,\"#b5de2b\"],[1.0,\"#fde725\"]],\"type\":\"histogram2d\"}],\"histogram\":[{\"marker\":{\"line\":{\"color\":\"white\",\"width\":0.6}},\"type\":\"histogram\"}],\"mesh3d\":[{\"colorbar\":{\"outlinewidth\":1,\"tickcolor\":\"rgb(36,36,36)\",\"ticks\":\"outside\"},\"type\":\"mesh3d\"}],\"parcoords\":[{\"line\":{\"colorbar\":{\"outlinewidth\":1,\"tickcolor\":\"rgb(36,36,36)\",\"ticks\":\"outside\"}},\"type\":\"parcoords\"}],\"pie\":[{\"automargin\":true,\"type\":\"pie\"}],\"scatter3d\":[{\"line\":{\"colorbar\":{\"outlinewidth\":1,\"tickcolor\":\"rgb(36,36,36)\",\"ticks\":\"outside\"}},\"marker\":{\"colorbar\":{\"outlinewidth\":1,\"tickcolor\":\"rgb(36,36,36)\",\"ticks\":\"outside\"}},\"type\":\"scatter3d\"}],\"scattercarpet\":[{\"marker\":{\"colorbar\":{\"outlinewidth\":1,\"tickcolor\":\"rgb(36,36,36)\",\"ticks\":\"outside\"}},\"type\":\"scattercarpet\"}],\"scattergeo\":[{\"marker\":{\"colorbar\":{\"outlinewidth\":1,\"tickcolor\":\"rgb(36,36,36)\",\"ticks\":\"outside\"}},\"type\":\"scattergeo\"}],\"scattergl\":[{\"marker\":{\"colorbar\":{\"outlinewidth\":1,\"tickcolor\":\"rgb(36,36,36)\",\"ticks\":\"outside\"}},\"type\":\"scattergl\"}],\"scattermapbox\":[{\"marker\":{\"colorbar\":{\"outlinewidth\":1,\"tickcolor\":\"rgb(36,36,36)\",\"ticks\":\"outside\"}},\"type\":\"scattermapbox\"}],\"scatterpolargl\":[{\"marker\":{\"colorbar\":{\"outlinewidth\":1,\"tickcolor\":\"rgb(36,36,36)\",\"ticks\":\"outside\"}},\"type\":\"scatterpolargl\"}],\"scatterpolar\":[{\"marker\":{\"colorbar\":{\"outlinewidth\":1,\"tickcolor\":\"rgb(36,36,36)\",\"ticks\":\"outside\"}},\"type\":\"scatterpolar\"}],\"scatter\":[{\"fillpattern\":{\"fillmode\":\"overlay\",\"size\":10,\"solidity\":0.2},\"type\":\"scatter\"}],\"scatterternary\":[{\"marker\":{\"colorbar\":{\"outlinewidth\":1,\"tickcolor\":\"rgb(36,36,36)\",\"ticks\":\"outside\"}},\"type\":\"scatterternary\"}],\"surface\":[{\"colorbar\":{\"outlinewidth\":1,\"tickcolor\":\"rgb(36,36,36)\",\"ticks\":\"outside\"},\"colorscale\":[[0.0,\"#440154\"],[0.1111111111111111,\"#482878\"],[0.2222222222222222,\"#3e4989\"],[0.3333333333333333,\"#31688e\"],[0.4444444444444444,\"#26828e\"],[0.5555555555555556,\"#1f9e89\"],[0.6666666666666666,\"#35b779\"],[0.7777777777777778,\"#6ece58\"],[0.8888888888888888,\"#b5de2b\"],[1.0,\"#fde725\"]],\"type\":\"surface\"}],\"table\":[{\"cells\":{\"fill\":{\"color\":\"rgb(237,237,237)\"},\"line\":{\"color\":\"white\"}},\"header\":{\"fill\":{\"color\":\"rgb(217,217,217)\"},\"line\":{\"color\":\"white\"}},\"type\":\"table\"}]},\"layout\":{\"annotationdefaults\":{\"arrowhead\":0,\"arrowwidth\":1},\"autotypenumbers\":\"strict\",\"coloraxis\":{\"colorbar\":{\"outlinewidth\":1,\"tickcolor\":\"rgb(36,36,36)\",\"ticks\":\"outside\"}},\"colorscale\":{\"diverging\":[[0.0,\"rgb(103,0,31)\"],[0.1,\"rgb(178,24,43)\"],[0.2,\"rgb(214,96,77)\"],[0.3,\"rgb(244,165,130)\"],[0.4,\"rgb(253,219,199)\"],[0.5,\"rgb(247,247,247)\"],[0.6,\"rgb(209,229,240)\"],[0.7,\"rgb(146,197,222)\"],[0.8,\"rgb(67,147,195)\"],[0.9,\"rgb(33,102,172)\"],[1.0,\"rgb(5,48,97)\"]],\"sequential\":[[0.0,\"#440154\"],[0.1111111111111111,\"#482878\"],[0.2222222222222222,\"#3e4989\"],[0.3333333333333333,\"#31688e\"],[0.4444444444444444,\"#26828e\"],[0.5555555555555556,\"#1f9e89\"],[0.6666666666666666,\"#35b779\"],[0.7777777777777778,\"#6ece58\"],[0.8888888888888888,\"#b5de2b\"],[1.0,\"#fde725\"]],\"sequentialminus\":[[0.0,\"#440154\"],[0.1111111111111111,\"#482878\"],[0.2222222222222222,\"#3e4989\"],[0.3333333333333333,\"#31688e\"],[0.4444444444444444,\"#26828e\"],[0.5555555555555556,\"#1f9e89\"],[0.6666666666666666,\"#35b779\"],[0.7777777777777778,\"#6ece58\"],[0.8888888888888888,\"#b5de2b\"],[1.0,\"#fde725\"]]},\"colorway\":[\"#1F77B4\",\"#FF7F0E\",\"#2CA02C\",\"#D62728\",\"#9467BD\",\"#8C564B\",\"#E377C2\",\"#7F7F7F\",\"#BCBD22\",\"#17BECF\"],\"font\":{\"color\":\"rgb(36,36,36)\"},\"geo\":{\"bgcolor\":\"white\",\"lakecolor\":\"white\",\"landcolor\":\"white\",\"showlakes\":true,\"showland\":true,\"subunitcolor\":\"white\"},\"hoverlabel\":{\"align\":\"left\"},\"hovermode\":\"closest\",\"mapbox\":{\"style\":\"light\"},\"paper_bgcolor\":\"white\",\"plot_bgcolor\":\"white\",\"polar\":{\"angularaxis\":{\"gridcolor\":\"rgb(232,232,232)\",\"linecolor\":\"rgb(36,36,36)\",\"showgrid\":false,\"showline\":true,\"ticks\":\"outside\"},\"bgcolor\":\"white\",\"radialaxis\":{\"gridcolor\":\"rgb(232,232,232)\",\"linecolor\":\"rgb(36,36,36)\",\"showgrid\":false,\"showline\":true,\"ticks\":\"outside\"}},\"scene\":{\"xaxis\":{\"backgroundcolor\":\"white\",\"gridcolor\":\"rgb(232,232,232)\",\"gridwidth\":2,\"linecolor\":\"rgb(36,36,36)\",\"showbackground\":true,\"showgrid\":false,\"showline\":true,\"ticks\":\"outside\",\"zeroline\":false,\"zerolinecolor\":\"rgb(36,36,36)\"},\"yaxis\":{\"backgroundcolor\":\"white\",\"gridcolor\":\"rgb(232,232,232)\",\"gridwidth\":2,\"linecolor\":\"rgb(36,36,36)\",\"showbackground\":true,\"showgrid\":false,\"showline\":true,\"ticks\":\"outside\",\"zeroline\":false,\"zerolinecolor\":\"rgb(36,36,36)\"},\"zaxis\":{\"backgroundcolor\":\"white\",\"gridcolor\":\"rgb(232,232,232)\",\"gridwidth\":2,\"linecolor\":\"rgb(36,36,36)\",\"showbackground\":true,\"showgrid\":false,\"showline\":true,\"ticks\":\"outside\",\"zeroline\":false,\"zerolinecolor\":\"rgb(36,36,36)\"}},\"shapedefaults\":{\"fillcolor\":\"black\",\"line\":{\"width\":0},\"opacity\":0.3},\"ternary\":{\"aaxis\":{\"gridcolor\":\"rgb(232,232,232)\",\"linecolor\":\"rgb(36,36,36)\",\"showgrid\":false,\"showline\":true,\"ticks\":\"outside\"},\"baxis\":{\"gridcolor\":\"rgb(232,232,232)\",\"linecolor\":\"rgb(36,36,36)\",\"showgrid\":false,\"showline\":true,\"ticks\":\"outside\"},\"bgcolor\":\"white\",\"caxis\":{\"gridcolor\":\"rgb(232,232,232)\",\"linecolor\":\"rgb(36,36,36)\",\"showgrid\":false,\"showline\":true,\"ticks\":\"outside\"}},\"title\":{\"x\":0.05},\"xaxis\":{\"automargin\":true,\"gridcolor\":\"rgb(232,232,232)\",\"linecolor\":\"rgb(36,36,36)\",\"showgrid\":false,\"showline\":true,\"ticks\":\"outside\",\"title\":{\"standoff\":15},\"zeroline\":false,\"zerolinecolor\":\"rgb(36,36,36)\"},\"yaxis\":{\"automargin\":true,\"gridcolor\":\"rgb(232,232,232)\",\"linecolor\":\"rgb(36,36,36)\",\"showgrid\":false,\"showline\":true,\"ticks\":\"outside\",\"title\":{\"standoff\":15},\"zeroline\":false,\"zerolinecolor\":\"rgb(36,36,36)\"}}},\"title\":{\"text\":\"train 0 (base)\"},\"shapes\":[{\"line\":{\"color\":\"black\",\"width\":0.5},\"type\":\"line\",\"x0\":0,\"x1\":1,\"xref\":\"x domain\",\"y0\":0.0,\"y1\":0.0,\"yref\":\"y\"},{\"line\":{\"color\":\"black\",\"width\":0.5},\"type\":\"line\",\"x0\":0,\"x1\":1,\"xref\":\"x domain\",\"y0\":0.0,\"y1\":0.0,\"yref\":\"y\"},{\"line\":{\"color\":\"black\",\"width\":0.5},\"type\":\"line\",\"x0\":0,\"x1\":1,\"xref\":\"x domain\",\"y0\":200.0,\"y1\":200.0,\"yref\":\"y\"},{\"line\":{\"color\":\"black\",\"width\":0.5},\"type\":\"line\",\"x0\":0,\"x1\":1,\"xref\":\"x domain\",\"y0\":1200.0,\"y1\":1200.0,\"yref\":\"y\"},{\"line\":{\"color\":\"black\",\"width\":0.5},\"type\":\"line\",\"x0\":0,\"x1\":1,\"xref\":\"x domain\",\"y0\":1680.0,\"y1\":1680.0,\"yref\":\"y\"},{\"line\":{\"color\":\"black\",\"width\":0.5},\"type\":\"line\",\"x0\":0,\"x1\":1,\"xref\":\"x domain\",\"y0\":1690.0,\"y1\":1690.0,\"yref\":\"y\"}],\"yaxis\":{\"tickmode\":\"array\",\"tickvals\":[0.0,0.0,200.0,1200.0,1680.0,1690.0],\"ticktext\":[\"departure_train0\",\"station0\\u002fT0\",\"CVG\",\"DVG\",\"station1\\u002fT4\",\"arrival_train0\"]},\"xaxis\":{\"tickmode\":\"array\",\"tickvals\":[0,104,208,312,416,520,624],\"ticktext\":[\"00:00:00\",\"00:01:44\",\"00:03:28\",\"00:05:12\",\"00:06:56\",\"00:08:40\",\"00:10:24\"]}},                        {\"responsive\": true}                    ).then(function(){\n",
       "                            \n",
       "var gd = document.getElementById('05a28139-92a2-4d1d-8f98-90a53b407626');\n",
       "var x = new MutationObserver(function (mutations, observer) {{\n",
       "        var display = window.getComputedStyle(gd).display;\n",
       "        if (!display || display === 'none') {{\n",
       "            console.log([gd, 'removed!']);\n",
       "            Plotly.purge(gd);\n",
       "            observer.disconnect();\n",
       "        }}\n",
       "}});\n",
       "\n",
       "// Listen for the removal of the full notebook cells\n",
       "var notebookContainer = gd.closest('#notebook-container');\n",
       "if (notebookContainer) {{\n",
       "    x.observe(notebookContainer, {childList: true});\n",
       "}}\n",
       "\n",
       "// Listen for the clearing of the current output cell\n",
       "var outputEl = gd.closest('.output');\n",
       "if (outputEl) {{\n",
       "    x.observe(outputEl, {childList: true});\n",
       "}}\n",
       "\n",
       "                        })                };                });            </script>        </div>"
      ]
     },
     "metadata": {},
     "output_type": "display_data"
    }
   ],
   "source": [
    "sim.run()\n",
    "sim.space_time_chart_plotly(0)"
   ]
  },
  {
   "cell_type": "code",
   "execution_count": 34,
   "metadata": {},
   "outputs": [],
   "source": [
    "sim.cancel_all_trains()\n",
    "sim.add_train(\n",
    "    label='train10',\n",
    "    locations=[('T1', 300), ('T4', 490)],\n",
    "    departure_time=0\n",
    ")\n",
    "sim.add_train(\n",
    "    label='train11',\n",
    "    locations=[('T1', 300), ('T5', 490)],\n",
    "    departure_time=200\n",
    ")"
   ]
  },
  {
   "cell_type": "code",
   "execution_count": 35,
   "metadata": {},
   "outputs": [
    {
     "name": "stdout",
     "output_type": "stream",
     "text": [
      "[15:09:26,209] \u001b[34m[INFO] \u001b[0;39m [StandaloneSimulationCommand] Loading infra: tmp/infra.json\n",
      "[15:09:26,241] \u001b[34m[INFO] \u001b[0;39m             [FullInfra] parsing infra\n",
      "[15:09:26,241] \u001b[34m[INFO] \u001b[0;39m             [FullInfra] adaptation to kotlin\n",
      "[15:09:26,284] \u001b[34m[INFO] \u001b[0;39m             [FullInfra] loading signals\n",
      "[15:09:26,286] \u001b[34m[INFO] \u001b[0;39m             [FullInfra] building blocks\n",
      "[15:09:26,311] \u001b[34m[INFO] \u001b[0;39m [StandaloneSimulationCommand] Loading input: tmp/simulation.json\n",
      "[15:09:26,497] \u001b[34m[INFO] \u001b[0;39m [StandaloneSimulationCommand] Running simulation for schedule group: group.10\n",
      "[15:09:26,598] \u001b[39m[DEBUG]\u001b[0;39m             [Allowance] computing range n°1\n",
      "[15:09:26,600] \u001b[39m[DEBUG]\u001b[0;39m             [Allowance]   computing section n°1\n",
      "[15:09:26,600] \u001b[39m[DEBUG]\u001b[0;39m             [Allowance]   target time = 126.06939555\n",
      "[15:09:26,601] \u001b[39m[DEBUG]\u001b[0;39m             [Allowance]     starting attempt 1\n",
      "[15:09:26,602] \u001b[39m[DEBUG]\u001b[0;39m             [Allowance]     envelope time 183.993422\n",
      "[15:09:26,602] \u001b[39m[DEBUG]\u001b[0;39m             [Allowance]     starting attempt 2\n",
      "[15:09:26,602] \u001b[39m[DEBUG]\u001b[0;39m             [Allowance]     envelope time 145.309507\n",
      "[15:09:26,602] \u001b[39m[DEBUG]\u001b[0;39m             [Allowance]     starting attempt 3\n",
      "[15:09:26,603] \u001b[39m[DEBUG]\u001b[0;39m             [Allowance]     envelope time 131.487139\n",
      "[15:09:26,603] \u001b[39m[DEBUG]\u001b[0;39m             [Allowance]     starting attempt 4\n",
      "[15:09:26,603] \u001b[39m[DEBUG]\u001b[0;39m             [Allowance]     envelope time 125.517333\n",
      "[15:09:26,606] \u001b[34m[INFO] \u001b[0;39m [StandaloneSimulationCommand] Running simulation for schedule group: group.11\n",
      "[15:09:26,611] \u001b[39m[DEBUG]\u001b[0;39m             [Allowance] computing range n°1\n",
      "[15:09:26,612] \u001b[39m[DEBUG]\u001b[0;39m             [Allowance]   computing section n°1\n",
      "[15:09:26,612] \u001b[39m[DEBUG]\u001b[0;39m             [Allowance]   target time = 126.06939555\n",
      "[15:09:26,612] \u001b[39m[DEBUG]\u001b[0;39m             [Allowance]     starting attempt 1\n",
      "[15:09:26,612] \u001b[39m[DEBUG]\u001b[0;39m             [Allowance]     envelope time 183.993422\n",
      "[15:09:26,612] \u001b[39m[DEBUG]\u001b[0;39m             [Allowance]     starting attempt 2\n",
      "[15:09:26,612] \u001b[39m[DEBUG]\u001b[0;39m             [Allowance]     envelope time 145.309507\n",
      "[15:09:26,612] \u001b[39m[DEBUG]\u001b[0;39m             [Allowance]     starting attempt 3\n",
      "[15:09:26,612] \u001b[39m[DEBUG]\u001b[0;39m             [Allowance]     envelope time 131.487139\n",
      "[15:09:26,612] \u001b[39m[DEBUG]\u001b[0;39m             [Allowance]     starting attempt 4\n",
      "[15:09:26,612] \u001b[39m[DEBUG]\u001b[0;39m             [Allowance]     envelope time 125.517333\n",
      "[15:09:26,614] \u001b[34m[INFO] \u001b[0;39m [StandaloneSimulationCommand] All simulations completed\n",
      "[15:09:26,614] \u001b[34m[INFO] \u001b[0;39m [StandaloneSimulationCommand] Saving results at: tmp/results.json\n"
     ]
    }
   ],
   "source": [
    "sim.run()"
   ]
  },
  {
   "cell_type": "code",
   "execution_count": 36,
   "metadata": {},
   "outputs": [
    {
     "data": {
      "text/plain": [
       "['train10', 'train11']"
      ]
     },
     "execution_count": 36,
     "metadata": {},
     "output_type": "execute_result"
    }
   ],
   "source": [
    "sim.trains"
   ]
  },
  {
   "cell_type": "code",
   "execution_count": 37,
   "metadata": {},
   "outputs": [
    {
     "data": {
      "application/vnd.plotly.v1+json": {
       "config": {
        "plotlyServerURL": "https://plot.ly"
       },
       "data": [
        {
         "name": "train10",
         "type": "scatter",
         "x": [
          0,
          6,
          14,
          22,
          29.50959174358881,
          30,
          38,
          48,
          58,
          68.0660921882602,
          74.0660921882602,
          75.88004567663229,
          80.0660921882602,
          88.0660921882602,
          96.0660921882602,
          104.0660921882602,
          112.0660921882602,
          120.0660921882602
         ],
         "y": [
          0,
          8.293999999999983,
          45.065999999999974,
          111.01400000000001,
          200,
          205.811,
          328.918,
          520.809,
          750.412,
          1014,
          1161,
          1200,
          null,
          null,
          null,
          null,
          null,
          null
         ]
        },
        {
         "name": "train11",
         "type": "scatter",
         "x": [
          200,
          206,
          214,
          222,
          229.5095917435888,
          230,
          238,
          248,
          258,
          268.0660921882602,
          274.0660921882602,
          275.8800456766323,
          280.0660921882602,
          288.0660921882602,
          296.0660921882602,
          304.0660921882602,
          312.0660921882602,
          320.0660921882602
         ],
         "y": [
          0,
          8.293999999999983,
          45.065999999999974,
          111.01400000000001,
          200,
          205.811,
          328.918,
          520.809,
          750.412,
          1014,
          1161,
          1200,
          1290,
          1434,
          1546,
          1626,
          1674,
          1690
         ]
        }
       ],
       "layout": {
        "hovermode": "x unified",
        "shapes": [
         {
          "line": {
           "color": "black",
           "width": 0.5
          },
          "type": "line",
          "x0": 0,
          "x1": 1,
          "xref": "x domain",
          "y0": 0,
          "y1": 0,
          "yref": "y"
         },
         {
          "line": {
           "color": "black",
           "width": 0.5
          },
          "type": "line",
          "x0": 0,
          "x1": 1,
          "xref": "x domain",
          "y0": 0,
          "y1": 0,
          "yref": "y"
         },
         {
          "line": {
           "color": "black",
           "width": 0.5
          },
          "type": "line",
          "x0": 0,
          "x1": 1,
          "xref": "x domain",
          "y0": 200,
          "y1": 200,
          "yref": "y"
         },
         {
          "line": {
           "color": "black",
           "width": 0.5
          },
          "type": "line",
          "x0": 0,
          "x1": 1,
          "xref": "x domain",
          "y0": 1200,
          "y1": 1200,
          "yref": "y"
         },
         {
          "line": {
           "color": "black",
           "width": 0.5
          },
          "type": "line",
          "x0": 0,
          "x1": 1,
          "xref": "x domain",
          "y0": 1680,
          "y1": 1680,
          "yref": "y"
         },
         {
          "line": {
           "color": "black",
           "width": 0.5
          },
          "type": "line",
          "x0": 0,
          "x1": 1,
          "xref": "x domain",
          "y0": 1690,
          "y1": 1690,
          "yref": "y"
         }
        ],
        "template": {
         "data": {
          "bar": [
           {
            "error_x": {
             "color": "rgb(36,36,36)"
            },
            "error_y": {
             "color": "rgb(36,36,36)"
            },
            "marker": {
             "line": {
              "color": "white",
              "width": 0.5
             },
             "pattern": {
              "fillmode": "overlay",
              "size": 10,
              "solidity": 0.2
             }
            },
            "type": "bar"
           }
          ],
          "barpolar": [
           {
            "marker": {
             "line": {
              "color": "white",
              "width": 0.5
             },
             "pattern": {
              "fillmode": "overlay",
              "size": 10,
              "solidity": 0.2
             }
            },
            "type": "barpolar"
           }
          ],
          "carpet": [
           {
            "aaxis": {
             "endlinecolor": "rgb(36,36,36)",
             "gridcolor": "white",
             "linecolor": "white",
             "minorgridcolor": "white",
             "startlinecolor": "rgb(36,36,36)"
            },
            "baxis": {
             "endlinecolor": "rgb(36,36,36)",
             "gridcolor": "white",
             "linecolor": "white",
             "minorgridcolor": "white",
             "startlinecolor": "rgb(36,36,36)"
            },
            "type": "carpet"
           }
          ],
          "choropleth": [
           {
            "colorbar": {
             "outlinewidth": 1,
             "tickcolor": "rgb(36,36,36)",
             "ticks": "outside"
            },
            "type": "choropleth"
           }
          ],
          "contour": [
           {
            "colorbar": {
             "outlinewidth": 1,
             "tickcolor": "rgb(36,36,36)",
             "ticks": "outside"
            },
            "colorscale": [
             [
              0,
              "#440154"
             ],
             [
              0.1111111111111111,
              "#482878"
             ],
             [
              0.2222222222222222,
              "#3e4989"
             ],
             [
              0.3333333333333333,
              "#31688e"
             ],
             [
              0.4444444444444444,
              "#26828e"
             ],
             [
              0.5555555555555556,
              "#1f9e89"
             ],
             [
              0.6666666666666666,
              "#35b779"
             ],
             [
              0.7777777777777778,
              "#6ece58"
             ],
             [
              0.8888888888888888,
              "#b5de2b"
             ],
             [
              1,
              "#fde725"
             ]
            ],
            "type": "contour"
           }
          ],
          "contourcarpet": [
           {
            "colorbar": {
             "outlinewidth": 1,
             "tickcolor": "rgb(36,36,36)",
             "ticks": "outside"
            },
            "type": "contourcarpet"
           }
          ],
          "heatmap": [
           {
            "colorbar": {
             "outlinewidth": 1,
             "tickcolor": "rgb(36,36,36)",
             "ticks": "outside"
            },
            "colorscale": [
             [
              0,
              "#440154"
             ],
             [
              0.1111111111111111,
              "#482878"
             ],
             [
              0.2222222222222222,
              "#3e4989"
             ],
             [
              0.3333333333333333,
              "#31688e"
             ],
             [
              0.4444444444444444,
              "#26828e"
             ],
             [
              0.5555555555555556,
              "#1f9e89"
             ],
             [
              0.6666666666666666,
              "#35b779"
             ],
             [
              0.7777777777777778,
              "#6ece58"
             ],
             [
              0.8888888888888888,
              "#b5de2b"
             ],
             [
              1,
              "#fde725"
             ]
            ],
            "type": "heatmap"
           }
          ],
          "heatmapgl": [
           {
            "colorbar": {
             "outlinewidth": 1,
             "tickcolor": "rgb(36,36,36)",
             "ticks": "outside"
            },
            "colorscale": [
             [
              0,
              "#440154"
             ],
             [
              0.1111111111111111,
              "#482878"
             ],
             [
              0.2222222222222222,
              "#3e4989"
             ],
             [
              0.3333333333333333,
              "#31688e"
             ],
             [
              0.4444444444444444,
              "#26828e"
             ],
             [
              0.5555555555555556,
              "#1f9e89"
             ],
             [
              0.6666666666666666,
              "#35b779"
             ],
             [
              0.7777777777777778,
              "#6ece58"
             ],
             [
              0.8888888888888888,
              "#b5de2b"
             ],
             [
              1,
              "#fde725"
             ]
            ],
            "type": "heatmapgl"
           }
          ],
          "histogram": [
           {
            "marker": {
             "line": {
              "color": "white",
              "width": 0.6
             }
            },
            "type": "histogram"
           }
          ],
          "histogram2d": [
           {
            "colorbar": {
             "outlinewidth": 1,
             "tickcolor": "rgb(36,36,36)",
             "ticks": "outside"
            },
            "colorscale": [
             [
              0,
              "#440154"
             ],
             [
              0.1111111111111111,
              "#482878"
             ],
             [
              0.2222222222222222,
              "#3e4989"
             ],
             [
              0.3333333333333333,
              "#31688e"
             ],
             [
              0.4444444444444444,
              "#26828e"
             ],
             [
              0.5555555555555556,
              "#1f9e89"
             ],
             [
              0.6666666666666666,
              "#35b779"
             ],
             [
              0.7777777777777778,
              "#6ece58"
             ],
             [
              0.8888888888888888,
              "#b5de2b"
             ],
             [
              1,
              "#fde725"
             ]
            ],
            "type": "histogram2d"
           }
          ],
          "histogram2dcontour": [
           {
            "colorbar": {
             "outlinewidth": 1,
             "tickcolor": "rgb(36,36,36)",
             "ticks": "outside"
            },
            "colorscale": [
             [
              0,
              "#440154"
             ],
             [
              0.1111111111111111,
              "#482878"
             ],
             [
              0.2222222222222222,
              "#3e4989"
             ],
             [
              0.3333333333333333,
              "#31688e"
             ],
             [
              0.4444444444444444,
              "#26828e"
             ],
             [
              0.5555555555555556,
              "#1f9e89"
             ],
             [
              0.6666666666666666,
              "#35b779"
             ],
             [
              0.7777777777777778,
              "#6ece58"
             ],
             [
              0.8888888888888888,
              "#b5de2b"
             ],
             [
              1,
              "#fde725"
             ]
            ],
            "type": "histogram2dcontour"
           }
          ],
          "mesh3d": [
           {
            "colorbar": {
             "outlinewidth": 1,
             "tickcolor": "rgb(36,36,36)",
             "ticks": "outside"
            },
            "type": "mesh3d"
           }
          ],
          "parcoords": [
           {
            "line": {
             "colorbar": {
              "outlinewidth": 1,
              "tickcolor": "rgb(36,36,36)",
              "ticks": "outside"
             }
            },
            "type": "parcoords"
           }
          ],
          "pie": [
           {
            "automargin": true,
            "type": "pie"
           }
          ],
          "scatter": [
           {
            "fillpattern": {
             "fillmode": "overlay",
             "size": 10,
             "solidity": 0.2
            },
            "type": "scatter"
           }
          ],
          "scatter3d": [
           {
            "line": {
             "colorbar": {
              "outlinewidth": 1,
              "tickcolor": "rgb(36,36,36)",
              "ticks": "outside"
             }
            },
            "marker": {
             "colorbar": {
              "outlinewidth": 1,
              "tickcolor": "rgb(36,36,36)",
              "ticks": "outside"
             }
            },
            "type": "scatter3d"
           }
          ],
          "scattercarpet": [
           {
            "marker": {
             "colorbar": {
              "outlinewidth": 1,
              "tickcolor": "rgb(36,36,36)",
              "ticks": "outside"
             }
            },
            "type": "scattercarpet"
           }
          ],
          "scattergeo": [
           {
            "marker": {
             "colorbar": {
              "outlinewidth": 1,
              "tickcolor": "rgb(36,36,36)",
              "ticks": "outside"
             }
            },
            "type": "scattergeo"
           }
          ],
          "scattergl": [
           {
            "marker": {
             "colorbar": {
              "outlinewidth": 1,
              "tickcolor": "rgb(36,36,36)",
              "ticks": "outside"
             }
            },
            "type": "scattergl"
           }
          ],
          "scattermapbox": [
           {
            "marker": {
             "colorbar": {
              "outlinewidth": 1,
              "tickcolor": "rgb(36,36,36)",
              "ticks": "outside"
             }
            },
            "type": "scattermapbox"
           }
          ],
          "scatterpolar": [
           {
            "marker": {
             "colorbar": {
              "outlinewidth": 1,
              "tickcolor": "rgb(36,36,36)",
              "ticks": "outside"
             }
            },
            "type": "scatterpolar"
           }
          ],
          "scatterpolargl": [
           {
            "marker": {
             "colorbar": {
              "outlinewidth": 1,
              "tickcolor": "rgb(36,36,36)",
              "ticks": "outside"
             }
            },
            "type": "scatterpolargl"
           }
          ],
          "scatterternary": [
           {
            "marker": {
             "colorbar": {
              "outlinewidth": 1,
              "tickcolor": "rgb(36,36,36)",
              "ticks": "outside"
             }
            },
            "type": "scatterternary"
           }
          ],
          "surface": [
           {
            "colorbar": {
             "outlinewidth": 1,
             "tickcolor": "rgb(36,36,36)",
             "ticks": "outside"
            },
            "colorscale": [
             [
              0,
              "#440154"
             ],
             [
              0.1111111111111111,
              "#482878"
             ],
             [
              0.2222222222222222,
              "#3e4989"
             ],
             [
              0.3333333333333333,
              "#31688e"
             ],
             [
              0.4444444444444444,
              "#26828e"
             ],
             [
              0.5555555555555556,
              "#1f9e89"
             ],
             [
              0.6666666666666666,
              "#35b779"
             ],
             [
              0.7777777777777778,
              "#6ece58"
             ],
             [
              0.8888888888888888,
              "#b5de2b"
             ],
             [
              1,
              "#fde725"
             ]
            ],
            "type": "surface"
           }
          ],
          "table": [
           {
            "cells": {
             "fill": {
              "color": "rgb(237,237,237)"
             },
             "line": {
              "color": "white"
             }
            },
            "header": {
             "fill": {
              "color": "rgb(217,217,217)"
             },
             "line": {
              "color": "white"
             }
            },
            "type": "table"
           }
          ]
         },
         "layout": {
          "annotationdefaults": {
           "arrowhead": 0,
           "arrowwidth": 1
          },
          "autotypenumbers": "strict",
          "coloraxis": {
           "colorbar": {
            "outlinewidth": 1,
            "tickcolor": "rgb(36,36,36)",
            "ticks": "outside"
           }
          },
          "colorscale": {
           "diverging": [
            [
             0,
             "rgb(103,0,31)"
            ],
            [
             0.1,
             "rgb(178,24,43)"
            ],
            [
             0.2,
             "rgb(214,96,77)"
            ],
            [
             0.3,
             "rgb(244,165,130)"
            ],
            [
             0.4,
             "rgb(253,219,199)"
            ],
            [
             0.5,
             "rgb(247,247,247)"
            ],
            [
             0.6,
             "rgb(209,229,240)"
            ],
            [
             0.7,
             "rgb(146,197,222)"
            ],
            [
             0.8,
             "rgb(67,147,195)"
            ],
            [
             0.9,
             "rgb(33,102,172)"
            ],
            [
             1,
             "rgb(5,48,97)"
            ]
           ],
           "sequential": [
            [
             0,
             "#440154"
            ],
            [
             0.1111111111111111,
             "#482878"
            ],
            [
             0.2222222222222222,
             "#3e4989"
            ],
            [
             0.3333333333333333,
             "#31688e"
            ],
            [
             0.4444444444444444,
             "#26828e"
            ],
            [
             0.5555555555555556,
             "#1f9e89"
            ],
            [
             0.6666666666666666,
             "#35b779"
            ],
            [
             0.7777777777777778,
             "#6ece58"
            ],
            [
             0.8888888888888888,
             "#b5de2b"
            ],
            [
             1,
             "#fde725"
            ]
           ],
           "sequentialminus": [
            [
             0,
             "#440154"
            ],
            [
             0.1111111111111111,
             "#482878"
            ],
            [
             0.2222222222222222,
             "#3e4989"
            ],
            [
             0.3333333333333333,
             "#31688e"
            ],
            [
             0.4444444444444444,
             "#26828e"
            ],
            [
             0.5555555555555556,
             "#1f9e89"
            ],
            [
             0.6666666666666666,
             "#35b779"
            ],
            [
             0.7777777777777778,
             "#6ece58"
            ],
            [
             0.8888888888888888,
             "#b5de2b"
            ],
            [
             1,
             "#fde725"
            ]
           ]
          },
          "colorway": [
           "#1F77B4",
           "#FF7F0E",
           "#2CA02C",
           "#D62728",
           "#9467BD",
           "#8C564B",
           "#E377C2",
           "#7F7F7F",
           "#BCBD22",
           "#17BECF"
          ],
          "font": {
           "color": "rgb(36,36,36)"
          },
          "geo": {
           "bgcolor": "white",
           "lakecolor": "white",
           "landcolor": "white",
           "showlakes": true,
           "showland": true,
           "subunitcolor": "white"
          },
          "hoverlabel": {
           "align": "left"
          },
          "hovermode": "closest",
          "mapbox": {
           "style": "light"
          },
          "paper_bgcolor": "white",
          "plot_bgcolor": "white",
          "polar": {
           "angularaxis": {
            "gridcolor": "rgb(232,232,232)",
            "linecolor": "rgb(36,36,36)",
            "showgrid": false,
            "showline": true,
            "ticks": "outside"
           },
           "bgcolor": "white",
           "radialaxis": {
            "gridcolor": "rgb(232,232,232)",
            "linecolor": "rgb(36,36,36)",
            "showgrid": false,
            "showline": true,
            "ticks": "outside"
           }
          },
          "scene": {
           "xaxis": {
            "backgroundcolor": "white",
            "gridcolor": "rgb(232,232,232)",
            "gridwidth": 2,
            "linecolor": "rgb(36,36,36)",
            "showbackground": true,
            "showgrid": false,
            "showline": true,
            "ticks": "outside",
            "zeroline": false,
            "zerolinecolor": "rgb(36,36,36)"
           },
           "yaxis": {
            "backgroundcolor": "white",
            "gridcolor": "rgb(232,232,232)",
            "gridwidth": 2,
            "linecolor": "rgb(36,36,36)",
            "showbackground": true,
            "showgrid": false,
            "showline": true,
            "ticks": "outside",
            "zeroline": false,
            "zerolinecolor": "rgb(36,36,36)"
           },
           "zaxis": {
            "backgroundcolor": "white",
            "gridcolor": "rgb(232,232,232)",
            "gridwidth": 2,
            "linecolor": "rgb(36,36,36)",
            "showbackground": true,
            "showgrid": false,
            "showline": true,
            "ticks": "outside",
            "zeroline": false,
            "zerolinecolor": "rgb(36,36,36)"
           }
          },
          "shapedefaults": {
           "fillcolor": "black",
           "line": {
            "width": 0
           },
           "opacity": 0.3
          },
          "ternary": {
           "aaxis": {
            "gridcolor": "rgb(232,232,232)",
            "linecolor": "rgb(36,36,36)",
            "showgrid": false,
            "showline": true,
            "ticks": "outside"
           },
           "baxis": {
            "gridcolor": "rgb(232,232,232)",
            "linecolor": "rgb(36,36,36)",
            "showgrid": false,
            "showline": true,
            "ticks": "outside"
           },
           "bgcolor": "white",
           "caxis": {
            "gridcolor": "rgb(232,232,232)",
            "linecolor": "rgb(36,36,36)",
            "showgrid": false,
            "showline": true,
            "ticks": "outside"
           }
          },
          "title": {
           "x": 0.05
          },
          "xaxis": {
           "automargin": true,
           "gridcolor": "rgb(232,232,232)",
           "linecolor": "rgb(36,36,36)",
           "showgrid": false,
           "showline": true,
           "ticks": "outside",
           "title": {
            "standoff": 15
           },
           "zeroline": false,
           "zerolinecolor": "rgb(36,36,36)"
          },
          "yaxis": {
           "automargin": true,
           "gridcolor": "rgb(232,232,232)",
           "linecolor": "rgb(36,36,36)",
           "showgrid": false,
           "showline": true,
           "ticks": "outside",
           "title": {
            "standoff": 15
           },
           "zeroline": false,
           "zerolinecolor": "rgb(36,36,36)"
          }
         }
        },
        "title": {
         "text": "train train11 (base)"
        },
        "xaxis": {
         "tickmode": "array",
         "ticktext": [
          "00:00:00",
          "00:01:04",
          "00:02:08",
          "00:03:12",
          "00:04:16",
          "00:05:20"
         ],
         "tickvals": [
          0,
          64,
          128,
          192,
          256,
          320
         ]
        },
        "yaxis": {
         "tickmode": "array",
         "ticktext": [
          "departure_train11",
          "station0/T1",
          "CVG",
          "DVG",
          "station1/T5",
          "arrival_train11"
         ],
         "tickvals": [
          0,
          0,
          200,
          1200,
          1680,
          1690
         ]
        }
       }
      },
      "text/html": [
       "<div>                            <div id=\"52bc744d-bb10-444c-9261-bbf8915ffee7\" class=\"plotly-graph-div\" style=\"height:525px; width:100%;\"></div>            <script type=\"text/javascript\">                require([\"plotly\"], function(Plotly) {                    window.PLOTLYENV=window.PLOTLYENV || {};                                    if (document.getElementById(\"52bc744d-bb10-444c-9261-bbf8915ffee7\")) {                    Plotly.newPlot(                        \"52bc744d-bb10-444c-9261-bbf8915ffee7\",                        [{\"name\":\"train10\",\"x\":[0.0,6.0,14.0,22.0,29.50959174358881,30.0,38.0,48.0,58.0,68.0660921882602,74.0660921882602,75.88004567663229,80.0660921882602,88.0660921882602,96.0660921882602,104.0660921882602,112.0660921882602,120.0660921882602],\"y\":[0.0,8.293999999999983,45.065999999999974,111.01400000000001,200.0,205.811,328.918,520.809,750.412,1014.0,1161.0,1200.0,null,null,null,null,null,null],\"type\":\"scatter\"},{\"name\":\"train11\",\"x\":[200.0,206.0,214.0,222.0,229.5095917435888,230.0,238.0,248.0,258.0,268.0660921882602,274.0660921882602,275.8800456766323,280.0660921882602,288.0660921882602,296.0660921882602,304.0660921882602,312.0660921882602,320.0660921882602],\"y\":[0.0,8.293999999999983,45.065999999999974,111.01400000000001,200.0,205.811,328.918,520.809,750.412,1014.0,1161.0,1200.0,1290.0,1434.0,1546.0,1626.0,1674.0,1690.0],\"type\":\"scatter\"}],                        {\"hovermode\":\"x unified\",\"template\":{\"data\":{\"barpolar\":[{\"marker\":{\"line\":{\"color\":\"white\",\"width\":0.5},\"pattern\":{\"fillmode\":\"overlay\",\"size\":10,\"solidity\":0.2}},\"type\":\"barpolar\"}],\"bar\":[{\"error_x\":{\"color\":\"rgb(36,36,36)\"},\"error_y\":{\"color\":\"rgb(36,36,36)\"},\"marker\":{\"line\":{\"color\":\"white\",\"width\":0.5},\"pattern\":{\"fillmode\":\"overlay\",\"size\":10,\"solidity\":0.2}},\"type\":\"bar\"}],\"carpet\":[{\"aaxis\":{\"endlinecolor\":\"rgb(36,36,36)\",\"gridcolor\":\"white\",\"linecolor\":\"white\",\"minorgridcolor\":\"white\",\"startlinecolor\":\"rgb(36,36,36)\"},\"baxis\":{\"endlinecolor\":\"rgb(36,36,36)\",\"gridcolor\":\"white\",\"linecolor\":\"white\",\"minorgridcolor\":\"white\",\"startlinecolor\":\"rgb(36,36,36)\"},\"type\":\"carpet\"}],\"choropleth\":[{\"colorbar\":{\"outlinewidth\":1,\"tickcolor\":\"rgb(36,36,36)\",\"ticks\":\"outside\"},\"type\":\"choropleth\"}],\"contourcarpet\":[{\"colorbar\":{\"outlinewidth\":1,\"tickcolor\":\"rgb(36,36,36)\",\"ticks\":\"outside\"},\"type\":\"contourcarpet\"}],\"contour\":[{\"colorbar\":{\"outlinewidth\":1,\"tickcolor\":\"rgb(36,36,36)\",\"ticks\":\"outside\"},\"colorscale\":[[0.0,\"#440154\"],[0.1111111111111111,\"#482878\"],[0.2222222222222222,\"#3e4989\"],[0.3333333333333333,\"#31688e\"],[0.4444444444444444,\"#26828e\"],[0.5555555555555556,\"#1f9e89\"],[0.6666666666666666,\"#35b779\"],[0.7777777777777778,\"#6ece58\"],[0.8888888888888888,\"#b5de2b\"],[1.0,\"#fde725\"]],\"type\":\"contour\"}],\"heatmapgl\":[{\"colorbar\":{\"outlinewidth\":1,\"tickcolor\":\"rgb(36,36,36)\",\"ticks\":\"outside\"},\"colorscale\":[[0.0,\"#440154\"],[0.1111111111111111,\"#482878\"],[0.2222222222222222,\"#3e4989\"],[0.3333333333333333,\"#31688e\"],[0.4444444444444444,\"#26828e\"],[0.5555555555555556,\"#1f9e89\"],[0.6666666666666666,\"#35b779\"],[0.7777777777777778,\"#6ece58\"],[0.8888888888888888,\"#b5de2b\"],[1.0,\"#fde725\"]],\"type\":\"heatmapgl\"}],\"heatmap\":[{\"colorbar\":{\"outlinewidth\":1,\"tickcolor\":\"rgb(36,36,36)\",\"ticks\":\"outside\"},\"colorscale\":[[0.0,\"#440154\"],[0.1111111111111111,\"#482878\"],[0.2222222222222222,\"#3e4989\"],[0.3333333333333333,\"#31688e\"],[0.4444444444444444,\"#26828e\"],[0.5555555555555556,\"#1f9e89\"],[0.6666666666666666,\"#35b779\"],[0.7777777777777778,\"#6ece58\"],[0.8888888888888888,\"#b5de2b\"],[1.0,\"#fde725\"]],\"type\":\"heatmap\"}],\"histogram2dcontour\":[{\"colorbar\":{\"outlinewidth\":1,\"tickcolor\":\"rgb(36,36,36)\",\"ticks\":\"outside\"},\"colorscale\":[[0.0,\"#440154\"],[0.1111111111111111,\"#482878\"],[0.2222222222222222,\"#3e4989\"],[0.3333333333333333,\"#31688e\"],[0.4444444444444444,\"#26828e\"],[0.5555555555555556,\"#1f9e89\"],[0.6666666666666666,\"#35b779\"],[0.7777777777777778,\"#6ece58\"],[0.8888888888888888,\"#b5de2b\"],[1.0,\"#fde725\"]],\"type\":\"histogram2dcontour\"}],\"histogram2d\":[{\"colorbar\":{\"outlinewidth\":1,\"tickcolor\":\"rgb(36,36,36)\",\"ticks\":\"outside\"},\"colorscale\":[[0.0,\"#440154\"],[0.1111111111111111,\"#482878\"],[0.2222222222222222,\"#3e4989\"],[0.3333333333333333,\"#31688e\"],[0.4444444444444444,\"#26828e\"],[0.5555555555555556,\"#1f9e89\"],[0.6666666666666666,\"#35b779\"],[0.7777777777777778,\"#6ece58\"],[0.8888888888888888,\"#b5de2b\"],[1.0,\"#fde725\"]],\"type\":\"histogram2d\"}],\"histogram\":[{\"marker\":{\"line\":{\"color\":\"white\",\"width\":0.6}},\"type\":\"histogram\"}],\"mesh3d\":[{\"colorbar\":{\"outlinewidth\":1,\"tickcolor\":\"rgb(36,36,36)\",\"ticks\":\"outside\"},\"type\":\"mesh3d\"}],\"parcoords\":[{\"line\":{\"colorbar\":{\"outlinewidth\":1,\"tickcolor\":\"rgb(36,36,36)\",\"ticks\":\"outside\"}},\"type\":\"parcoords\"}],\"pie\":[{\"automargin\":true,\"type\":\"pie\"}],\"scatter3d\":[{\"line\":{\"colorbar\":{\"outlinewidth\":1,\"tickcolor\":\"rgb(36,36,36)\",\"ticks\":\"outside\"}},\"marker\":{\"colorbar\":{\"outlinewidth\":1,\"tickcolor\":\"rgb(36,36,36)\",\"ticks\":\"outside\"}},\"type\":\"scatter3d\"}],\"scattercarpet\":[{\"marker\":{\"colorbar\":{\"outlinewidth\":1,\"tickcolor\":\"rgb(36,36,36)\",\"ticks\":\"outside\"}},\"type\":\"scattercarpet\"}],\"scattergeo\":[{\"marker\":{\"colorbar\":{\"outlinewidth\":1,\"tickcolor\":\"rgb(36,36,36)\",\"ticks\":\"outside\"}},\"type\":\"scattergeo\"}],\"scattergl\":[{\"marker\":{\"colorbar\":{\"outlinewidth\":1,\"tickcolor\":\"rgb(36,36,36)\",\"ticks\":\"outside\"}},\"type\":\"scattergl\"}],\"scattermapbox\":[{\"marker\":{\"colorbar\":{\"outlinewidth\":1,\"tickcolor\":\"rgb(36,36,36)\",\"ticks\":\"outside\"}},\"type\":\"scattermapbox\"}],\"scatterpolargl\":[{\"marker\":{\"colorbar\":{\"outlinewidth\":1,\"tickcolor\":\"rgb(36,36,36)\",\"ticks\":\"outside\"}},\"type\":\"scatterpolargl\"}],\"scatterpolar\":[{\"marker\":{\"colorbar\":{\"outlinewidth\":1,\"tickcolor\":\"rgb(36,36,36)\",\"ticks\":\"outside\"}},\"type\":\"scatterpolar\"}],\"scatter\":[{\"fillpattern\":{\"fillmode\":\"overlay\",\"size\":10,\"solidity\":0.2},\"type\":\"scatter\"}],\"scatterternary\":[{\"marker\":{\"colorbar\":{\"outlinewidth\":1,\"tickcolor\":\"rgb(36,36,36)\",\"ticks\":\"outside\"}},\"type\":\"scatterternary\"}],\"surface\":[{\"colorbar\":{\"outlinewidth\":1,\"tickcolor\":\"rgb(36,36,36)\",\"ticks\":\"outside\"},\"colorscale\":[[0.0,\"#440154\"],[0.1111111111111111,\"#482878\"],[0.2222222222222222,\"#3e4989\"],[0.3333333333333333,\"#31688e\"],[0.4444444444444444,\"#26828e\"],[0.5555555555555556,\"#1f9e89\"],[0.6666666666666666,\"#35b779\"],[0.7777777777777778,\"#6ece58\"],[0.8888888888888888,\"#b5de2b\"],[1.0,\"#fde725\"]],\"type\":\"surface\"}],\"table\":[{\"cells\":{\"fill\":{\"color\":\"rgb(237,237,237)\"},\"line\":{\"color\":\"white\"}},\"header\":{\"fill\":{\"color\":\"rgb(217,217,217)\"},\"line\":{\"color\":\"white\"}},\"type\":\"table\"}]},\"layout\":{\"annotationdefaults\":{\"arrowhead\":0,\"arrowwidth\":1},\"autotypenumbers\":\"strict\",\"coloraxis\":{\"colorbar\":{\"outlinewidth\":1,\"tickcolor\":\"rgb(36,36,36)\",\"ticks\":\"outside\"}},\"colorscale\":{\"diverging\":[[0.0,\"rgb(103,0,31)\"],[0.1,\"rgb(178,24,43)\"],[0.2,\"rgb(214,96,77)\"],[0.3,\"rgb(244,165,130)\"],[0.4,\"rgb(253,219,199)\"],[0.5,\"rgb(247,247,247)\"],[0.6,\"rgb(209,229,240)\"],[0.7,\"rgb(146,197,222)\"],[0.8,\"rgb(67,147,195)\"],[0.9,\"rgb(33,102,172)\"],[1.0,\"rgb(5,48,97)\"]],\"sequential\":[[0.0,\"#440154\"],[0.1111111111111111,\"#482878\"],[0.2222222222222222,\"#3e4989\"],[0.3333333333333333,\"#31688e\"],[0.4444444444444444,\"#26828e\"],[0.5555555555555556,\"#1f9e89\"],[0.6666666666666666,\"#35b779\"],[0.7777777777777778,\"#6ece58\"],[0.8888888888888888,\"#b5de2b\"],[1.0,\"#fde725\"]],\"sequentialminus\":[[0.0,\"#440154\"],[0.1111111111111111,\"#482878\"],[0.2222222222222222,\"#3e4989\"],[0.3333333333333333,\"#31688e\"],[0.4444444444444444,\"#26828e\"],[0.5555555555555556,\"#1f9e89\"],[0.6666666666666666,\"#35b779\"],[0.7777777777777778,\"#6ece58\"],[0.8888888888888888,\"#b5de2b\"],[1.0,\"#fde725\"]]},\"colorway\":[\"#1F77B4\",\"#FF7F0E\",\"#2CA02C\",\"#D62728\",\"#9467BD\",\"#8C564B\",\"#E377C2\",\"#7F7F7F\",\"#BCBD22\",\"#17BECF\"],\"font\":{\"color\":\"rgb(36,36,36)\"},\"geo\":{\"bgcolor\":\"white\",\"lakecolor\":\"white\",\"landcolor\":\"white\",\"showlakes\":true,\"showland\":true,\"subunitcolor\":\"white\"},\"hoverlabel\":{\"align\":\"left\"},\"hovermode\":\"closest\",\"mapbox\":{\"style\":\"light\"},\"paper_bgcolor\":\"white\",\"plot_bgcolor\":\"white\",\"polar\":{\"angularaxis\":{\"gridcolor\":\"rgb(232,232,232)\",\"linecolor\":\"rgb(36,36,36)\",\"showgrid\":false,\"showline\":true,\"ticks\":\"outside\"},\"bgcolor\":\"white\",\"radialaxis\":{\"gridcolor\":\"rgb(232,232,232)\",\"linecolor\":\"rgb(36,36,36)\",\"showgrid\":false,\"showline\":true,\"ticks\":\"outside\"}},\"scene\":{\"xaxis\":{\"backgroundcolor\":\"white\",\"gridcolor\":\"rgb(232,232,232)\",\"gridwidth\":2,\"linecolor\":\"rgb(36,36,36)\",\"showbackground\":true,\"showgrid\":false,\"showline\":true,\"ticks\":\"outside\",\"zeroline\":false,\"zerolinecolor\":\"rgb(36,36,36)\"},\"yaxis\":{\"backgroundcolor\":\"white\",\"gridcolor\":\"rgb(232,232,232)\",\"gridwidth\":2,\"linecolor\":\"rgb(36,36,36)\",\"showbackground\":true,\"showgrid\":false,\"showline\":true,\"ticks\":\"outside\",\"zeroline\":false,\"zerolinecolor\":\"rgb(36,36,36)\"},\"zaxis\":{\"backgroundcolor\":\"white\",\"gridcolor\":\"rgb(232,232,232)\",\"gridwidth\":2,\"linecolor\":\"rgb(36,36,36)\",\"showbackground\":true,\"showgrid\":false,\"showline\":true,\"ticks\":\"outside\",\"zeroline\":false,\"zerolinecolor\":\"rgb(36,36,36)\"}},\"shapedefaults\":{\"fillcolor\":\"black\",\"line\":{\"width\":0},\"opacity\":0.3},\"ternary\":{\"aaxis\":{\"gridcolor\":\"rgb(232,232,232)\",\"linecolor\":\"rgb(36,36,36)\",\"showgrid\":false,\"showline\":true,\"ticks\":\"outside\"},\"baxis\":{\"gridcolor\":\"rgb(232,232,232)\",\"linecolor\":\"rgb(36,36,36)\",\"showgrid\":false,\"showline\":true,\"ticks\":\"outside\"},\"bgcolor\":\"white\",\"caxis\":{\"gridcolor\":\"rgb(232,232,232)\",\"linecolor\":\"rgb(36,36,36)\",\"showgrid\":false,\"showline\":true,\"ticks\":\"outside\"}},\"title\":{\"x\":0.05},\"xaxis\":{\"automargin\":true,\"gridcolor\":\"rgb(232,232,232)\",\"linecolor\":\"rgb(36,36,36)\",\"showgrid\":false,\"showline\":true,\"ticks\":\"outside\",\"title\":{\"standoff\":15},\"zeroline\":false,\"zerolinecolor\":\"rgb(36,36,36)\"},\"yaxis\":{\"automargin\":true,\"gridcolor\":\"rgb(232,232,232)\",\"linecolor\":\"rgb(36,36,36)\",\"showgrid\":false,\"showline\":true,\"ticks\":\"outside\",\"title\":{\"standoff\":15},\"zeroline\":false,\"zerolinecolor\":\"rgb(36,36,36)\"}}},\"title\":{\"text\":\"train train11 (base)\"},\"shapes\":[{\"line\":{\"color\":\"black\",\"width\":0.5},\"type\":\"line\",\"x0\":0,\"x1\":1,\"xref\":\"x domain\",\"y0\":0.0,\"y1\":0.0,\"yref\":\"y\"},{\"line\":{\"color\":\"black\",\"width\":0.5},\"type\":\"line\",\"x0\":0,\"x1\":1,\"xref\":\"x domain\",\"y0\":0.0,\"y1\":0.0,\"yref\":\"y\"},{\"line\":{\"color\":\"black\",\"width\":0.5},\"type\":\"line\",\"x0\":0,\"x1\":1,\"xref\":\"x domain\",\"y0\":200.0,\"y1\":200.0,\"yref\":\"y\"},{\"line\":{\"color\":\"black\",\"width\":0.5},\"type\":\"line\",\"x0\":0,\"x1\":1,\"xref\":\"x domain\",\"y0\":1200.0,\"y1\":1200.0,\"yref\":\"y\"},{\"line\":{\"color\":\"black\",\"width\":0.5},\"type\":\"line\",\"x0\":0,\"x1\":1,\"xref\":\"x domain\",\"y0\":1680.0,\"y1\":1680.0,\"yref\":\"y\"},{\"line\":{\"color\":\"black\",\"width\":0.5},\"type\":\"line\",\"x0\":0,\"x1\":1,\"xref\":\"x domain\",\"y0\":1690.0,\"y1\":1690.0,\"yref\":\"y\"}],\"yaxis\":{\"tickmode\":\"array\",\"tickvals\":[0.0,0.0,200.0,1200.0,1680.0,1690.0],\"ticktext\":[\"departure_train11\",\"station0\\u002fT1\",\"CVG\",\"DVG\",\"station1\\u002fT5\",\"arrival_train11\"]},\"xaxis\":{\"tickmode\":\"array\",\"tickvals\":[0,64,128,192,256,320],\"ticktext\":[\"00:00:00\",\"00:01:04\",\"00:02:08\",\"00:03:12\",\"00:04:16\",\"00:05:20\"]}},                        {\"responsive\": true}                    ).then(function(){\n",
       "                            \n",
       "var gd = document.getElementById('52bc744d-bb10-444c-9261-bbf8915ffee7');\n",
       "var x = new MutationObserver(function (mutations, observer) {{\n",
       "        var display = window.getComputedStyle(gd).display;\n",
       "        if (!display || display === 'none') {{\n",
       "            console.log([gd, 'removed!']);\n",
       "            Plotly.purge(gd);\n",
       "            observer.disconnect();\n",
       "        }}\n",
       "}});\n",
       "\n",
       "// Listen for the removal of the full notebook cells\n",
       "var notebookContainer = gd.closest('#notebook-container');\n",
       "if (notebookContainer) {{\n",
       "    x.observe(notebookContainer, {childList: true});\n",
       "}}\n",
       "\n",
       "// Listen for the clearing of the current output cell\n",
       "var outputEl = gd.closest('.output');\n",
       "if (outputEl) {{\n",
       "    x.observe(outputEl, {childList: true});\n",
       "}}\n",
       "\n",
       "                        })                };                });            </script>        </div>"
      ]
     },
     "metadata": {},
     "output_type": "display_data"
    }
   ],
   "source": [
    "sim.space_time_chart_plotly('train11')"
   ]
  },
  {
   "cell_type": "code",
   "execution_count": 38,
   "metadata": {},
   "outputs": [
    {
     "name": "stdout",
     "output_type": "stream",
     "text": [
      "[15:09:26,988] \u001b[34m[INFO] \u001b[0;39m [StandaloneSimulationCommand] Loading infra: tmp/infra.json\n",
      "[15:09:27,024] \u001b[34m[INFO] \u001b[0;39m             [FullInfra] parsing infra\n",
      "[15:09:27,024] \u001b[34m[INFO] \u001b[0;39m             [FullInfra] adaptation to kotlin\n",
      "[15:09:27,067] \u001b[34m[INFO] \u001b[0;39m             [FullInfra] loading signals\n",
      "[15:09:27,069] \u001b[34m[INFO] \u001b[0;39m             [FullInfra] building blocks\n",
      "[15:09:27,092] \u001b[34m[INFO] \u001b[0;39m [StandaloneSimulationCommand] Loading input: tmp/simulation.json\n",
      "[15:09:27,301] \u001b[34m[INFO] \u001b[0;39m [StandaloneSimulationCommand] Running simulation for schedule group: group.10\n",
      "[15:09:27,416] \u001b[39m[DEBUG]\u001b[0;39m             [Allowance] computing range n°1\n",
      "[15:09:27,418] \u001b[39m[DEBUG]\u001b[0;39m             [Allowance]   computing section n°1\n",
      "[15:09:27,419] \u001b[39m[DEBUG]\u001b[0;39m             [Allowance]   target time = 126.06939555\n",
      "[15:09:27,419] \u001b[39m[DEBUG]\u001b[0;39m             [Allowance]     starting attempt 1\n",
      "[15:09:27,421] \u001b[39m[DEBUG]\u001b[0;39m             [Allowance]     envelope time 183.993422\n",
      "[15:09:27,421] \u001b[39m[DEBUG]\u001b[0;39m             [Allowance]     starting attempt 2\n",
      "[15:09:27,421] \u001b[39m[DEBUG]\u001b[0;39m             [Allowance]     envelope time 145.309507\n",
      "[15:09:27,421] \u001b[39m[DEBUG]\u001b[0;39m             [Allowance]     starting attempt 3\n",
      "[15:09:27,421] \u001b[39m[DEBUG]\u001b[0;39m             [Allowance]     envelope time 131.487139\n",
      "[15:09:27,421] \u001b[39m[DEBUG]\u001b[0;39m             [Allowance]     starting attempt 4\n",
      "[15:09:27,422] \u001b[39m[DEBUG]\u001b[0;39m             [Allowance]     envelope time 125.517333\n",
      "[15:09:27,427] \u001b[39m[DEBUG]\u001b[0;39m             [Allowance] computing range n°1\n",
      "[15:09:27,427] \u001b[39m[DEBUG]\u001b[0;39m             [Allowance]   computing section n°1\n",
      "[15:09:27,427] \u001b[39m[DEBUG]\u001b[0;39m             [Allowance]   target time = 126.06939555\n",
      "[15:09:27,427] \u001b[39m[DEBUG]\u001b[0;39m             [Allowance]     starting attempt 1\n",
      "[15:09:27,428] \u001b[39m[DEBUG]\u001b[0;39m             [Allowance]     envelope time 183.993422\n",
      "[15:09:27,428] \u001b[39m[DEBUG]\u001b[0;39m             [Allowance]     starting attempt 2\n",
      "[15:09:27,428] \u001b[39m[DEBUG]\u001b[0;39m             [Allowance]     envelope time 145.309507\n",
      "[15:09:27,428] \u001b[39m[DEBUG]\u001b[0;39m             [Allowance]     starting attempt 3\n",
      "[15:09:27,428] \u001b[39m[DEBUG]\u001b[0;39m             [Allowance]     envelope time 131.487139\n",
      "[15:09:27,428] \u001b[39m[DEBUG]\u001b[0;39m             [Allowance]     starting attempt 4\n",
      "[15:09:27,428] \u001b[39m[DEBUG]\u001b[0;39m             [Allowance]     envelope time 125.517333\n",
      "[15:09:27,431] \u001b[34m[INFO] \u001b[0;39m [StandaloneSimulationCommand] Running simulation for schedule group: group.11\n",
      "[15:09:27,435] \u001b[39m[DEBUG]\u001b[0;39m             [Allowance] computing range n°1\n",
      "[15:09:27,435] \u001b[39m[DEBUG]\u001b[0;39m             [Allowance]   computing section n°1\n",
      "[15:09:27,435] \u001b[39m[DEBUG]\u001b[0;39m             [Allowance]   target time = 126.06939555\n",
      "[15:09:27,435] \u001b[39m[DEBUG]\u001b[0;39m             [Allowance]     starting attempt 1\n",
      "[15:09:27,435] \u001b[39m[DEBUG]\u001b[0;39m             [Allowance]     envelope time 183.993422\n",
      "[15:09:27,435] \u001b[39m[DEBUG]\u001b[0;39m             [Allowance]     starting attempt 2\n",
      "[15:09:27,435] \u001b[39m[DEBUG]\u001b[0;39m             [Allowance]     envelope time 145.309507\n",
      "[15:09:27,435] \u001b[39m[DEBUG]\u001b[0;39m             [Allowance]     starting attempt 3\n",
      "[15:09:27,435] \u001b[39m[DEBUG]\u001b[0;39m             [Allowance]     envelope time 131.487139\n",
      "[15:09:27,436] \u001b[39m[DEBUG]\u001b[0;39m             [Allowance]     starting attempt 4\n",
      "[15:09:27,436] \u001b[39m[DEBUG]\u001b[0;39m             [Allowance]     envelope time 125.517333\n",
      "[15:09:27,437] \u001b[34m[INFO] \u001b[0;39m [StandaloneSimulationCommand] All simulations completed\n",
      "[15:09:27,437] \u001b[34m[INFO] \u001b[0;39m [StandaloneSimulationCommand] Saving results at: tmp/results.json\n"
     ]
    },
    {
     "data": {
      "application/vnd.plotly.v1+json": {
       "config": {
        "plotlyServerURL": "https://plot.ly"
       },
       "data": [
        {
         "name": "train10",
         "type": "scatter",
         "x": [
          0,
          6,
          14,
          22,
          29.50959174358881,
          30,
          38,
          48,
          58,
          68.0660921882602,
          74.0660921882602,
          75.88004567663229,
          80.0660921882602,
          88.0660921882602,
          96.0660921882602,
          104.0660921882602,
          112.0660921882602,
          120.0660921882602
         ],
         "y": [
          0,
          8.293999999999983,
          45.065999999999974,
          111.01400000000001,
          200,
          205.811,
          328.918,
          520.809,
          750.412,
          1014,
          1161,
          1200,
          1290,
          1434,
          1546,
          1626,
          1674,
          1690
         ]
        },
        {
         "name": "train20",
         "type": "scatter",
         "x": [
          300,
          306,
          314,
          322,
          329.5095917435888,
          330,
          338,
          348,
          358,
          368.0660921882602,
          374.0660921882602,
          375.8800456766323,
          380.0660921882602,
          388.0660921882602,
          396.0660921882602,
          404.0660921882602,
          412.0660921882602,
          420.0660921882602
         ],
         "y": [
          0,
          8.293999999999983,
          45.065999999999974,
          111.01400000000001,
          200,
          205.811,
          328.918,
          520.809,
          750.412,
          1014,
          1161,
          1200,
          1290,
          1434,
          1546,
          1626,
          1674,
          1690
         ]
        },
        {
         "name": "train11",
         "type": "scatter",
         "x": [
          200,
          206,
          214,
          222,
          229.5095917435888,
          230,
          238,
          248,
          258,
          268.0660921882602,
          274.0660921882602,
          275.8800456766323,
          280.0660921882602,
          288.0660921882602,
          296.0660921882602,
          304.0660921882602,
          312.0660921882602,
          320.0660921882602
         ],
         "y": [
          0,
          8.293999999999983,
          45.065999999999974,
          111.01400000000001,
          200,
          205.811,
          328.918,
          520.809,
          750.412,
          1014,
          1161,
          1200,
          null,
          null,
          null,
          null,
          null,
          null
         ]
        }
       ],
       "layout": {
        "hovermode": "x unified",
        "shapes": [
         {
          "line": {
           "color": "black",
           "width": 0.5
          },
          "type": "line",
          "x0": 0,
          "x1": 1,
          "xref": "x domain",
          "y0": 0,
          "y1": 0,
          "yref": "y"
         },
         {
          "line": {
           "color": "black",
           "width": 0.5
          },
          "type": "line",
          "x0": 0,
          "x1": 1,
          "xref": "x domain",
          "y0": 0,
          "y1": 0,
          "yref": "y"
         },
         {
          "line": {
           "color": "black",
           "width": 0.5
          },
          "type": "line",
          "x0": 0,
          "x1": 1,
          "xref": "x domain",
          "y0": 200,
          "y1": 200,
          "yref": "y"
         },
         {
          "line": {
           "color": "black",
           "width": 0.5
          },
          "type": "line",
          "x0": 0,
          "x1": 1,
          "xref": "x domain",
          "y0": 1200,
          "y1": 1200,
          "yref": "y"
         },
         {
          "line": {
           "color": "black",
           "width": 0.5
          },
          "type": "line",
          "x0": 0,
          "x1": 1,
          "xref": "x domain",
          "y0": 1680,
          "y1": 1680,
          "yref": "y"
         },
         {
          "line": {
           "color": "black",
           "width": 0.5
          },
          "type": "line",
          "x0": 0,
          "x1": 1,
          "xref": "x domain",
          "y0": 1690,
          "y1": 1690,
          "yref": "y"
         }
        ],
        "template": {
         "data": {
          "bar": [
           {
            "error_x": {
             "color": "rgb(36,36,36)"
            },
            "error_y": {
             "color": "rgb(36,36,36)"
            },
            "marker": {
             "line": {
              "color": "white",
              "width": 0.5
             },
             "pattern": {
              "fillmode": "overlay",
              "size": 10,
              "solidity": 0.2
             }
            },
            "type": "bar"
           }
          ],
          "barpolar": [
           {
            "marker": {
             "line": {
              "color": "white",
              "width": 0.5
             },
             "pattern": {
              "fillmode": "overlay",
              "size": 10,
              "solidity": 0.2
             }
            },
            "type": "barpolar"
           }
          ],
          "carpet": [
           {
            "aaxis": {
             "endlinecolor": "rgb(36,36,36)",
             "gridcolor": "white",
             "linecolor": "white",
             "minorgridcolor": "white",
             "startlinecolor": "rgb(36,36,36)"
            },
            "baxis": {
             "endlinecolor": "rgb(36,36,36)",
             "gridcolor": "white",
             "linecolor": "white",
             "minorgridcolor": "white",
             "startlinecolor": "rgb(36,36,36)"
            },
            "type": "carpet"
           }
          ],
          "choropleth": [
           {
            "colorbar": {
             "outlinewidth": 1,
             "tickcolor": "rgb(36,36,36)",
             "ticks": "outside"
            },
            "type": "choropleth"
           }
          ],
          "contour": [
           {
            "colorbar": {
             "outlinewidth": 1,
             "tickcolor": "rgb(36,36,36)",
             "ticks": "outside"
            },
            "colorscale": [
             [
              0,
              "#440154"
             ],
             [
              0.1111111111111111,
              "#482878"
             ],
             [
              0.2222222222222222,
              "#3e4989"
             ],
             [
              0.3333333333333333,
              "#31688e"
             ],
             [
              0.4444444444444444,
              "#26828e"
             ],
             [
              0.5555555555555556,
              "#1f9e89"
             ],
             [
              0.6666666666666666,
              "#35b779"
             ],
             [
              0.7777777777777778,
              "#6ece58"
             ],
             [
              0.8888888888888888,
              "#b5de2b"
             ],
             [
              1,
              "#fde725"
             ]
            ],
            "type": "contour"
           }
          ],
          "contourcarpet": [
           {
            "colorbar": {
             "outlinewidth": 1,
             "tickcolor": "rgb(36,36,36)",
             "ticks": "outside"
            },
            "type": "contourcarpet"
           }
          ],
          "heatmap": [
           {
            "colorbar": {
             "outlinewidth": 1,
             "tickcolor": "rgb(36,36,36)",
             "ticks": "outside"
            },
            "colorscale": [
             [
              0,
              "#440154"
             ],
             [
              0.1111111111111111,
              "#482878"
             ],
             [
              0.2222222222222222,
              "#3e4989"
             ],
             [
              0.3333333333333333,
              "#31688e"
             ],
             [
              0.4444444444444444,
              "#26828e"
             ],
             [
              0.5555555555555556,
              "#1f9e89"
             ],
             [
              0.6666666666666666,
              "#35b779"
             ],
             [
              0.7777777777777778,
              "#6ece58"
             ],
             [
              0.8888888888888888,
              "#b5de2b"
             ],
             [
              1,
              "#fde725"
             ]
            ],
            "type": "heatmap"
           }
          ],
          "heatmapgl": [
           {
            "colorbar": {
             "outlinewidth": 1,
             "tickcolor": "rgb(36,36,36)",
             "ticks": "outside"
            },
            "colorscale": [
             [
              0,
              "#440154"
             ],
             [
              0.1111111111111111,
              "#482878"
             ],
             [
              0.2222222222222222,
              "#3e4989"
             ],
             [
              0.3333333333333333,
              "#31688e"
             ],
             [
              0.4444444444444444,
              "#26828e"
             ],
             [
              0.5555555555555556,
              "#1f9e89"
             ],
             [
              0.6666666666666666,
              "#35b779"
             ],
             [
              0.7777777777777778,
              "#6ece58"
             ],
             [
              0.8888888888888888,
              "#b5de2b"
             ],
             [
              1,
              "#fde725"
             ]
            ],
            "type": "heatmapgl"
           }
          ],
          "histogram": [
           {
            "marker": {
             "line": {
              "color": "white",
              "width": 0.6
             }
            },
            "type": "histogram"
           }
          ],
          "histogram2d": [
           {
            "colorbar": {
             "outlinewidth": 1,
             "tickcolor": "rgb(36,36,36)",
             "ticks": "outside"
            },
            "colorscale": [
             [
              0,
              "#440154"
             ],
             [
              0.1111111111111111,
              "#482878"
             ],
             [
              0.2222222222222222,
              "#3e4989"
             ],
             [
              0.3333333333333333,
              "#31688e"
             ],
             [
              0.4444444444444444,
              "#26828e"
             ],
             [
              0.5555555555555556,
              "#1f9e89"
             ],
             [
              0.6666666666666666,
              "#35b779"
             ],
             [
              0.7777777777777778,
              "#6ece58"
             ],
             [
              0.8888888888888888,
              "#b5de2b"
             ],
             [
              1,
              "#fde725"
             ]
            ],
            "type": "histogram2d"
           }
          ],
          "histogram2dcontour": [
           {
            "colorbar": {
             "outlinewidth": 1,
             "tickcolor": "rgb(36,36,36)",
             "ticks": "outside"
            },
            "colorscale": [
             [
              0,
              "#440154"
             ],
             [
              0.1111111111111111,
              "#482878"
             ],
             [
              0.2222222222222222,
              "#3e4989"
             ],
             [
              0.3333333333333333,
              "#31688e"
             ],
             [
              0.4444444444444444,
              "#26828e"
             ],
             [
              0.5555555555555556,
              "#1f9e89"
             ],
             [
              0.6666666666666666,
              "#35b779"
             ],
             [
              0.7777777777777778,
              "#6ece58"
             ],
             [
              0.8888888888888888,
              "#b5de2b"
             ],
             [
              1,
              "#fde725"
             ]
            ],
            "type": "histogram2dcontour"
           }
          ],
          "mesh3d": [
           {
            "colorbar": {
             "outlinewidth": 1,
             "tickcolor": "rgb(36,36,36)",
             "ticks": "outside"
            },
            "type": "mesh3d"
           }
          ],
          "parcoords": [
           {
            "line": {
             "colorbar": {
              "outlinewidth": 1,
              "tickcolor": "rgb(36,36,36)",
              "ticks": "outside"
             }
            },
            "type": "parcoords"
           }
          ],
          "pie": [
           {
            "automargin": true,
            "type": "pie"
           }
          ],
          "scatter": [
           {
            "fillpattern": {
             "fillmode": "overlay",
             "size": 10,
             "solidity": 0.2
            },
            "type": "scatter"
           }
          ],
          "scatter3d": [
           {
            "line": {
             "colorbar": {
              "outlinewidth": 1,
              "tickcolor": "rgb(36,36,36)",
              "ticks": "outside"
             }
            },
            "marker": {
             "colorbar": {
              "outlinewidth": 1,
              "tickcolor": "rgb(36,36,36)",
              "ticks": "outside"
             }
            },
            "type": "scatter3d"
           }
          ],
          "scattercarpet": [
           {
            "marker": {
             "colorbar": {
              "outlinewidth": 1,
              "tickcolor": "rgb(36,36,36)",
              "ticks": "outside"
             }
            },
            "type": "scattercarpet"
           }
          ],
          "scattergeo": [
           {
            "marker": {
             "colorbar": {
              "outlinewidth": 1,
              "tickcolor": "rgb(36,36,36)",
              "ticks": "outside"
             }
            },
            "type": "scattergeo"
           }
          ],
          "scattergl": [
           {
            "marker": {
             "colorbar": {
              "outlinewidth": 1,
              "tickcolor": "rgb(36,36,36)",
              "ticks": "outside"
             }
            },
            "type": "scattergl"
           }
          ],
          "scattermapbox": [
           {
            "marker": {
             "colorbar": {
              "outlinewidth": 1,
              "tickcolor": "rgb(36,36,36)",
              "ticks": "outside"
             }
            },
            "type": "scattermapbox"
           }
          ],
          "scatterpolar": [
           {
            "marker": {
             "colorbar": {
              "outlinewidth": 1,
              "tickcolor": "rgb(36,36,36)",
              "ticks": "outside"
             }
            },
            "type": "scatterpolar"
           }
          ],
          "scatterpolargl": [
           {
            "marker": {
             "colorbar": {
              "outlinewidth": 1,
              "tickcolor": "rgb(36,36,36)",
              "ticks": "outside"
             }
            },
            "type": "scatterpolargl"
           }
          ],
          "scatterternary": [
           {
            "marker": {
             "colorbar": {
              "outlinewidth": 1,
              "tickcolor": "rgb(36,36,36)",
              "ticks": "outside"
             }
            },
            "type": "scatterternary"
           }
          ],
          "surface": [
           {
            "colorbar": {
             "outlinewidth": 1,
             "tickcolor": "rgb(36,36,36)",
             "ticks": "outside"
            },
            "colorscale": [
             [
              0,
              "#440154"
             ],
             [
              0.1111111111111111,
              "#482878"
             ],
             [
              0.2222222222222222,
              "#3e4989"
             ],
             [
              0.3333333333333333,
              "#31688e"
             ],
             [
              0.4444444444444444,
              "#26828e"
             ],
             [
              0.5555555555555556,
              "#1f9e89"
             ],
             [
              0.6666666666666666,
              "#35b779"
             ],
             [
              0.7777777777777778,
              "#6ece58"
             ],
             [
              0.8888888888888888,
              "#b5de2b"
             ],
             [
              1,
              "#fde725"
             ]
            ],
            "type": "surface"
           }
          ],
          "table": [
           {
            "cells": {
             "fill": {
              "color": "rgb(237,237,237)"
             },
             "line": {
              "color": "white"
             }
            },
            "header": {
             "fill": {
              "color": "rgb(217,217,217)"
             },
             "line": {
              "color": "white"
             }
            },
            "type": "table"
           }
          ]
         },
         "layout": {
          "annotationdefaults": {
           "arrowhead": 0,
           "arrowwidth": 1
          },
          "autotypenumbers": "strict",
          "coloraxis": {
           "colorbar": {
            "outlinewidth": 1,
            "tickcolor": "rgb(36,36,36)",
            "ticks": "outside"
           }
          },
          "colorscale": {
           "diverging": [
            [
             0,
             "rgb(103,0,31)"
            ],
            [
             0.1,
             "rgb(178,24,43)"
            ],
            [
             0.2,
             "rgb(214,96,77)"
            ],
            [
             0.3,
             "rgb(244,165,130)"
            ],
            [
             0.4,
             "rgb(253,219,199)"
            ],
            [
             0.5,
             "rgb(247,247,247)"
            ],
            [
             0.6,
             "rgb(209,229,240)"
            ],
            [
             0.7,
             "rgb(146,197,222)"
            ],
            [
             0.8,
             "rgb(67,147,195)"
            ],
            [
             0.9,
             "rgb(33,102,172)"
            ],
            [
             1,
             "rgb(5,48,97)"
            ]
           ],
           "sequential": [
            [
             0,
             "#440154"
            ],
            [
             0.1111111111111111,
             "#482878"
            ],
            [
             0.2222222222222222,
             "#3e4989"
            ],
            [
             0.3333333333333333,
             "#31688e"
            ],
            [
             0.4444444444444444,
             "#26828e"
            ],
            [
             0.5555555555555556,
             "#1f9e89"
            ],
            [
             0.6666666666666666,
             "#35b779"
            ],
            [
             0.7777777777777778,
             "#6ece58"
            ],
            [
             0.8888888888888888,
             "#b5de2b"
            ],
            [
             1,
             "#fde725"
            ]
           ],
           "sequentialminus": [
            [
             0,
             "#440154"
            ],
            [
             0.1111111111111111,
             "#482878"
            ],
            [
             0.2222222222222222,
             "#3e4989"
            ],
            [
             0.3333333333333333,
             "#31688e"
            ],
            [
             0.4444444444444444,
             "#26828e"
            ],
            [
             0.5555555555555556,
             "#1f9e89"
            ],
            [
             0.6666666666666666,
             "#35b779"
            ],
            [
             0.7777777777777778,
             "#6ece58"
            ],
            [
             0.8888888888888888,
             "#b5de2b"
            ],
            [
             1,
             "#fde725"
            ]
           ]
          },
          "colorway": [
           "#1F77B4",
           "#FF7F0E",
           "#2CA02C",
           "#D62728",
           "#9467BD",
           "#8C564B",
           "#E377C2",
           "#7F7F7F",
           "#BCBD22",
           "#17BECF"
          ],
          "font": {
           "color": "rgb(36,36,36)"
          },
          "geo": {
           "bgcolor": "white",
           "lakecolor": "white",
           "landcolor": "white",
           "showlakes": true,
           "showland": true,
           "subunitcolor": "white"
          },
          "hoverlabel": {
           "align": "left"
          },
          "hovermode": "closest",
          "mapbox": {
           "style": "light"
          },
          "paper_bgcolor": "white",
          "plot_bgcolor": "white",
          "polar": {
           "angularaxis": {
            "gridcolor": "rgb(232,232,232)",
            "linecolor": "rgb(36,36,36)",
            "showgrid": false,
            "showline": true,
            "ticks": "outside"
           },
           "bgcolor": "white",
           "radialaxis": {
            "gridcolor": "rgb(232,232,232)",
            "linecolor": "rgb(36,36,36)",
            "showgrid": false,
            "showline": true,
            "ticks": "outside"
           }
          },
          "scene": {
           "xaxis": {
            "backgroundcolor": "white",
            "gridcolor": "rgb(232,232,232)",
            "gridwidth": 2,
            "linecolor": "rgb(36,36,36)",
            "showbackground": true,
            "showgrid": false,
            "showline": true,
            "ticks": "outside",
            "zeroline": false,
            "zerolinecolor": "rgb(36,36,36)"
           },
           "yaxis": {
            "backgroundcolor": "white",
            "gridcolor": "rgb(232,232,232)",
            "gridwidth": 2,
            "linecolor": "rgb(36,36,36)",
            "showbackground": true,
            "showgrid": false,
            "showline": true,
            "ticks": "outside",
            "zeroline": false,
            "zerolinecolor": "rgb(36,36,36)"
           },
           "zaxis": {
            "backgroundcolor": "white",
            "gridcolor": "rgb(232,232,232)",
            "gridwidth": 2,
            "linecolor": "rgb(36,36,36)",
            "showbackground": true,
            "showgrid": false,
            "showline": true,
            "ticks": "outside",
            "zeroline": false,
            "zerolinecolor": "rgb(36,36,36)"
           }
          },
          "shapedefaults": {
           "fillcolor": "black",
           "line": {
            "width": 0
           },
           "opacity": 0.3
          },
          "ternary": {
           "aaxis": {
            "gridcolor": "rgb(232,232,232)",
            "linecolor": "rgb(36,36,36)",
            "showgrid": false,
            "showline": true,
            "ticks": "outside"
           },
           "baxis": {
            "gridcolor": "rgb(232,232,232)",
            "linecolor": "rgb(36,36,36)",
            "showgrid": false,
            "showline": true,
            "ticks": "outside"
           },
           "bgcolor": "white",
           "caxis": {
            "gridcolor": "rgb(232,232,232)",
            "linecolor": "rgb(36,36,36)",
            "showgrid": false,
            "showline": true,
            "ticks": "outside"
           }
          },
          "title": {
           "x": 0.05
          },
          "xaxis": {
           "automargin": true,
           "gridcolor": "rgb(232,232,232)",
           "linecolor": "rgb(36,36,36)",
           "showgrid": false,
           "showline": true,
           "ticks": "outside",
           "title": {
            "standoff": 15
           },
           "zeroline": false,
           "zerolinecolor": "rgb(36,36,36)"
          },
          "yaxis": {
           "automargin": true,
           "gridcolor": "rgb(232,232,232)",
           "linecolor": "rgb(36,36,36)",
           "showgrid": false,
           "showline": true,
           "ticks": "outside",
           "title": {
            "standoff": 15
           },
           "zeroline": false,
           "zerolinecolor": "rgb(36,36,36)"
          }
         }
        },
        "title": {
         "text": "train 1 (base)"
        },
        "xaxis": {
         "tickmode": "array",
         "ticktext": [
          "00:00:00",
          "00:01:24",
          "00:02:48",
          "00:04:12",
          "00:05:36",
          "00:07:00"
         ],
         "tickvals": [
          0,
          84,
          168,
          252,
          336,
          420
         ]
        },
        "yaxis": {
         "tickmode": "array",
         "ticktext": [
          "departure_train20",
          "station0/T1",
          "CVG",
          "DVG",
          "station1/T4",
          "arrival_train20"
         ],
         "tickvals": [
          0,
          0,
          200,
          1200,
          1680,
          1690
         ]
        }
       }
      },
      "text/html": [
       "<div>                            <div id=\"97383be2-77bc-4a94-aad3-ec566d558450\" class=\"plotly-graph-div\" style=\"height:525px; width:100%;\"></div>            <script type=\"text/javascript\">                require([\"plotly\"], function(Plotly) {                    window.PLOTLYENV=window.PLOTLYENV || {};                                    if (document.getElementById(\"97383be2-77bc-4a94-aad3-ec566d558450\")) {                    Plotly.newPlot(                        \"97383be2-77bc-4a94-aad3-ec566d558450\",                        [{\"name\":\"train10\",\"x\":[0.0,6.0,14.0,22.0,29.50959174358881,30.0,38.0,48.0,58.0,68.0660921882602,74.0660921882602,75.88004567663229,80.0660921882602,88.0660921882602,96.0660921882602,104.0660921882602,112.0660921882602,120.0660921882602],\"y\":[0.0,8.293999999999983,45.065999999999974,111.01400000000001,200.0,205.811,328.918,520.809,750.412,1014.0,1161.0,1200.0,1290.0,1434.0,1546.0,1626.0,1674.0,1690.0],\"type\":\"scatter\"},{\"name\":\"train20\",\"x\":[300.0,306.0,314.0,322.0,329.5095917435888,330.0,338.0,348.0,358.0,368.0660921882602,374.0660921882602,375.8800456766323,380.0660921882602,388.0660921882602,396.0660921882602,404.0660921882602,412.0660921882602,420.0660921882602],\"y\":[0.0,8.293999999999983,45.065999999999974,111.01400000000001,200.0,205.811,328.918,520.809,750.412,1014.0,1161.0,1200.0,1290.0,1434.0,1546.0,1626.0,1674.0,1690.0],\"type\":\"scatter\"},{\"name\":\"train11\",\"x\":[200.0,206.0,214.0,222.0,229.5095917435888,230.0,238.0,248.0,258.0,268.0660921882602,274.0660921882602,275.8800456766323,280.0660921882602,288.0660921882602,296.0660921882602,304.0660921882602,312.0660921882602,320.0660921882602],\"y\":[0.0,8.293999999999983,45.065999999999974,111.01400000000001,200.0,205.811,328.918,520.809,750.412,1014.0,1161.0,1200.0,null,null,null,null,null,null],\"type\":\"scatter\"}],                        {\"hovermode\":\"x unified\",\"template\":{\"data\":{\"barpolar\":[{\"marker\":{\"line\":{\"color\":\"white\",\"width\":0.5},\"pattern\":{\"fillmode\":\"overlay\",\"size\":10,\"solidity\":0.2}},\"type\":\"barpolar\"}],\"bar\":[{\"error_x\":{\"color\":\"rgb(36,36,36)\"},\"error_y\":{\"color\":\"rgb(36,36,36)\"},\"marker\":{\"line\":{\"color\":\"white\",\"width\":0.5},\"pattern\":{\"fillmode\":\"overlay\",\"size\":10,\"solidity\":0.2}},\"type\":\"bar\"}],\"carpet\":[{\"aaxis\":{\"endlinecolor\":\"rgb(36,36,36)\",\"gridcolor\":\"white\",\"linecolor\":\"white\",\"minorgridcolor\":\"white\",\"startlinecolor\":\"rgb(36,36,36)\"},\"baxis\":{\"endlinecolor\":\"rgb(36,36,36)\",\"gridcolor\":\"white\",\"linecolor\":\"white\",\"minorgridcolor\":\"white\",\"startlinecolor\":\"rgb(36,36,36)\"},\"type\":\"carpet\"}],\"choropleth\":[{\"colorbar\":{\"outlinewidth\":1,\"tickcolor\":\"rgb(36,36,36)\",\"ticks\":\"outside\"},\"type\":\"choropleth\"}],\"contourcarpet\":[{\"colorbar\":{\"outlinewidth\":1,\"tickcolor\":\"rgb(36,36,36)\",\"ticks\":\"outside\"},\"type\":\"contourcarpet\"}],\"contour\":[{\"colorbar\":{\"outlinewidth\":1,\"tickcolor\":\"rgb(36,36,36)\",\"ticks\":\"outside\"},\"colorscale\":[[0.0,\"#440154\"],[0.1111111111111111,\"#482878\"],[0.2222222222222222,\"#3e4989\"],[0.3333333333333333,\"#31688e\"],[0.4444444444444444,\"#26828e\"],[0.5555555555555556,\"#1f9e89\"],[0.6666666666666666,\"#35b779\"],[0.7777777777777778,\"#6ece58\"],[0.8888888888888888,\"#b5de2b\"],[1.0,\"#fde725\"]],\"type\":\"contour\"}],\"heatmapgl\":[{\"colorbar\":{\"outlinewidth\":1,\"tickcolor\":\"rgb(36,36,36)\",\"ticks\":\"outside\"},\"colorscale\":[[0.0,\"#440154\"],[0.1111111111111111,\"#482878\"],[0.2222222222222222,\"#3e4989\"],[0.3333333333333333,\"#31688e\"],[0.4444444444444444,\"#26828e\"],[0.5555555555555556,\"#1f9e89\"],[0.6666666666666666,\"#35b779\"],[0.7777777777777778,\"#6ece58\"],[0.8888888888888888,\"#b5de2b\"],[1.0,\"#fde725\"]],\"type\":\"heatmapgl\"}],\"heatmap\":[{\"colorbar\":{\"outlinewidth\":1,\"tickcolor\":\"rgb(36,36,36)\",\"ticks\":\"outside\"},\"colorscale\":[[0.0,\"#440154\"],[0.1111111111111111,\"#482878\"],[0.2222222222222222,\"#3e4989\"],[0.3333333333333333,\"#31688e\"],[0.4444444444444444,\"#26828e\"],[0.5555555555555556,\"#1f9e89\"],[0.6666666666666666,\"#35b779\"],[0.7777777777777778,\"#6ece58\"],[0.8888888888888888,\"#b5de2b\"],[1.0,\"#fde725\"]],\"type\":\"heatmap\"}],\"histogram2dcontour\":[{\"colorbar\":{\"outlinewidth\":1,\"tickcolor\":\"rgb(36,36,36)\",\"ticks\":\"outside\"},\"colorscale\":[[0.0,\"#440154\"],[0.1111111111111111,\"#482878\"],[0.2222222222222222,\"#3e4989\"],[0.3333333333333333,\"#31688e\"],[0.4444444444444444,\"#26828e\"],[0.5555555555555556,\"#1f9e89\"],[0.6666666666666666,\"#35b779\"],[0.7777777777777778,\"#6ece58\"],[0.8888888888888888,\"#b5de2b\"],[1.0,\"#fde725\"]],\"type\":\"histogram2dcontour\"}],\"histogram2d\":[{\"colorbar\":{\"outlinewidth\":1,\"tickcolor\":\"rgb(36,36,36)\",\"ticks\":\"outside\"},\"colorscale\":[[0.0,\"#440154\"],[0.1111111111111111,\"#482878\"],[0.2222222222222222,\"#3e4989\"],[0.3333333333333333,\"#31688e\"],[0.4444444444444444,\"#26828e\"],[0.5555555555555556,\"#1f9e89\"],[0.6666666666666666,\"#35b779\"],[0.7777777777777778,\"#6ece58\"],[0.8888888888888888,\"#b5de2b\"],[1.0,\"#fde725\"]],\"type\":\"histogram2d\"}],\"histogram\":[{\"marker\":{\"line\":{\"color\":\"white\",\"width\":0.6}},\"type\":\"histogram\"}],\"mesh3d\":[{\"colorbar\":{\"outlinewidth\":1,\"tickcolor\":\"rgb(36,36,36)\",\"ticks\":\"outside\"},\"type\":\"mesh3d\"}],\"parcoords\":[{\"line\":{\"colorbar\":{\"outlinewidth\":1,\"tickcolor\":\"rgb(36,36,36)\",\"ticks\":\"outside\"}},\"type\":\"parcoords\"}],\"pie\":[{\"automargin\":true,\"type\":\"pie\"}],\"scatter3d\":[{\"line\":{\"colorbar\":{\"outlinewidth\":1,\"tickcolor\":\"rgb(36,36,36)\",\"ticks\":\"outside\"}},\"marker\":{\"colorbar\":{\"outlinewidth\":1,\"tickcolor\":\"rgb(36,36,36)\",\"ticks\":\"outside\"}},\"type\":\"scatter3d\"}],\"scattercarpet\":[{\"marker\":{\"colorbar\":{\"outlinewidth\":1,\"tickcolor\":\"rgb(36,36,36)\",\"ticks\":\"outside\"}},\"type\":\"scattercarpet\"}],\"scattergeo\":[{\"marker\":{\"colorbar\":{\"outlinewidth\":1,\"tickcolor\":\"rgb(36,36,36)\",\"ticks\":\"outside\"}},\"type\":\"scattergeo\"}],\"scattergl\":[{\"marker\":{\"colorbar\":{\"outlinewidth\":1,\"tickcolor\":\"rgb(36,36,36)\",\"ticks\":\"outside\"}},\"type\":\"scattergl\"}],\"scattermapbox\":[{\"marker\":{\"colorbar\":{\"outlinewidth\":1,\"tickcolor\":\"rgb(36,36,36)\",\"ticks\":\"outside\"}},\"type\":\"scattermapbox\"}],\"scatterpolargl\":[{\"marker\":{\"colorbar\":{\"outlinewidth\":1,\"tickcolor\":\"rgb(36,36,36)\",\"ticks\":\"outside\"}},\"type\":\"scatterpolargl\"}],\"scatterpolar\":[{\"marker\":{\"colorbar\":{\"outlinewidth\":1,\"tickcolor\":\"rgb(36,36,36)\",\"ticks\":\"outside\"}},\"type\":\"scatterpolar\"}],\"scatter\":[{\"fillpattern\":{\"fillmode\":\"overlay\",\"size\":10,\"solidity\":0.2},\"type\":\"scatter\"}],\"scatterternary\":[{\"marker\":{\"colorbar\":{\"outlinewidth\":1,\"tickcolor\":\"rgb(36,36,36)\",\"ticks\":\"outside\"}},\"type\":\"scatterternary\"}],\"surface\":[{\"colorbar\":{\"outlinewidth\":1,\"tickcolor\":\"rgb(36,36,36)\",\"ticks\":\"outside\"},\"colorscale\":[[0.0,\"#440154\"],[0.1111111111111111,\"#482878\"],[0.2222222222222222,\"#3e4989\"],[0.3333333333333333,\"#31688e\"],[0.4444444444444444,\"#26828e\"],[0.5555555555555556,\"#1f9e89\"],[0.6666666666666666,\"#35b779\"],[0.7777777777777778,\"#6ece58\"],[0.8888888888888888,\"#b5de2b\"],[1.0,\"#fde725\"]],\"type\":\"surface\"}],\"table\":[{\"cells\":{\"fill\":{\"color\":\"rgb(237,237,237)\"},\"line\":{\"color\":\"white\"}},\"header\":{\"fill\":{\"color\":\"rgb(217,217,217)\"},\"line\":{\"color\":\"white\"}},\"type\":\"table\"}]},\"layout\":{\"annotationdefaults\":{\"arrowhead\":0,\"arrowwidth\":1},\"autotypenumbers\":\"strict\",\"coloraxis\":{\"colorbar\":{\"outlinewidth\":1,\"tickcolor\":\"rgb(36,36,36)\",\"ticks\":\"outside\"}},\"colorscale\":{\"diverging\":[[0.0,\"rgb(103,0,31)\"],[0.1,\"rgb(178,24,43)\"],[0.2,\"rgb(214,96,77)\"],[0.3,\"rgb(244,165,130)\"],[0.4,\"rgb(253,219,199)\"],[0.5,\"rgb(247,247,247)\"],[0.6,\"rgb(209,229,240)\"],[0.7,\"rgb(146,197,222)\"],[0.8,\"rgb(67,147,195)\"],[0.9,\"rgb(33,102,172)\"],[1.0,\"rgb(5,48,97)\"]],\"sequential\":[[0.0,\"#440154\"],[0.1111111111111111,\"#482878\"],[0.2222222222222222,\"#3e4989\"],[0.3333333333333333,\"#31688e\"],[0.4444444444444444,\"#26828e\"],[0.5555555555555556,\"#1f9e89\"],[0.6666666666666666,\"#35b779\"],[0.7777777777777778,\"#6ece58\"],[0.8888888888888888,\"#b5de2b\"],[1.0,\"#fde725\"]],\"sequentialminus\":[[0.0,\"#440154\"],[0.1111111111111111,\"#482878\"],[0.2222222222222222,\"#3e4989\"],[0.3333333333333333,\"#31688e\"],[0.4444444444444444,\"#26828e\"],[0.5555555555555556,\"#1f9e89\"],[0.6666666666666666,\"#35b779\"],[0.7777777777777778,\"#6ece58\"],[0.8888888888888888,\"#b5de2b\"],[1.0,\"#fde725\"]]},\"colorway\":[\"#1F77B4\",\"#FF7F0E\",\"#2CA02C\",\"#D62728\",\"#9467BD\",\"#8C564B\",\"#E377C2\",\"#7F7F7F\",\"#BCBD22\",\"#17BECF\"],\"font\":{\"color\":\"rgb(36,36,36)\"},\"geo\":{\"bgcolor\":\"white\",\"lakecolor\":\"white\",\"landcolor\":\"white\",\"showlakes\":true,\"showland\":true,\"subunitcolor\":\"white\"},\"hoverlabel\":{\"align\":\"left\"},\"hovermode\":\"closest\",\"mapbox\":{\"style\":\"light\"},\"paper_bgcolor\":\"white\",\"plot_bgcolor\":\"white\",\"polar\":{\"angularaxis\":{\"gridcolor\":\"rgb(232,232,232)\",\"linecolor\":\"rgb(36,36,36)\",\"showgrid\":false,\"showline\":true,\"ticks\":\"outside\"},\"bgcolor\":\"white\",\"radialaxis\":{\"gridcolor\":\"rgb(232,232,232)\",\"linecolor\":\"rgb(36,36,36)\",\"showgrid\":false,\"showline\":true,\"ticks\":\"outside\"}},\"scene\":{\"xaxis\":{\"backgroundcolor\":\"white\",\"gridcolor\":\"rgb(232,232,232)\",\"gridwidth\":2,\"linecolor\":\"rgb(36,36,36)\",\"showbackground\":true,\"showgrid\":false,\"showline\":true,\"ticks\":\"outside\",\"zeroline\":false,\"zerolinecolor\":\"rgb(36,36,36)\"},\"yaxis\":{\"backgroundcolor\":\"white\",\"gridcolor\":\"rgb(232,232,232)\",\"gridwidth\":2,\"linecolor\":\"rgb(36,36,36)\",\"showbackground\":true,\"showgrid\":false,\"showline\":true,\"ticks\":\"outside\",\"zeroline\":false,\"zerolinecolor\":\"rgb(36,36,36)\"},\"zaxis\":{\"backgroundcolor\":\"white\",\"gridcolor\":\"rgb(232,232,232)\",\"gridwidth\":2,\"linecolor\":\"rgb(36,36,36)\",\"showbackground\":true,\"showgrid\":false,\"showline\":true,\"ticks\":\"outside\",\"zeroline\":false,\"zerolinecolor\":\"rgb(36,36,36)\"}},\"shapedefaults\":{\"fillcolor\":\"black\",\"line\":{\"width\":0},\"opacity\":0.3},\"ternary\":{\"aaxis\":{\"gridcolor\":\"rgb(232,232,232)\",\"linecolor\":\"rgb(36,36,36)\",\"showgrid\":false,\"showline\":true,\"ticks\":\"outside\"},\"baxis\":{\"gridcolor\":\"rgb(232,232,232)\",\"linecolor\":\"rgb(36,36,36)\",\"showgrid\":false,\"showline\":true,\"ticks\":\"outside\"},\"bgcolor\":\"white\",\"caxis\":{\"gridcolor\":\"rgb(232,232,232)\",\"linecolor\":\"rgb(36,36,36)\",\"showgrid\":false,\"showline\":true,\"ticks\":\"outside\"}},\"title\":{\"x\":0.05},\"xaxis\":{\"automargin\":true,\"gridcolor\":\"rgb(232,232,232)\",\"linecolor\":\"rgb(36,36,36)\",\"showgrid\":false,\"showline\":true,\"ticks\":\"outside\",\"title\":{\"standoff\":15},\"zeroline\":false,\"zerolinecolor\":\"rgb(36,36,36)\"},\"yaxis\":{\"automargin\":true,\"gridcolor\":\"rgb(232,232,232)\",\"linecolor\":\"rgb(36,36,36)\",\"showgrid\":false,\"showline\":true,\"ticks\":\"outside\",\"title\":{\"standoff\":15},\"zeroline\":false,\"zerolinecolor\":\"rgb(36,36,36)\"}}},\"title\":{\"text\":\"train 1 (base)\"},\"shapes\":[{\"line\":{\"color\":\"black\",\"width\":0.5},\"type\":\"line\",\"x0\":0,\"x1\":1,\"xref\":\"x domain\",\"y0\":0.0,\"y1\":0.0,\"yref\":\"y\"},{\"line\":{\"color\":\"black\",\"width\":0.5},\"type\":\"line\",\"x0\":0,\"x1\":1,\"xref\":\"x domain\",\"y0\":0.0,\"y1\":0.0,\"yref\":\"y\"},{\"line\":{\"color\":\"black\",\"width\":0.5},\"type\":\"line\",\"x0\":0,\"x1\":1,\"xref\":\"x domain\",\"y0\":200.0,\"y1\":200.0,\"yref\":\"y\"},{\"line\":{\"color\":\"black\",\"width\":0.5},\"type\":\"line\",\"x0\":0,\"x1\":1,\"xref\":\"x domain\",\"y0\":1200.0,\"y1\":1200.0,\"yref\":\"y\"},{\"line\":{\"color\":\"black\",\"width\":0.5},\"type\":\"line\",\"x0\":0,\"x1\":1,\"xref\":\"x domain\",\"y0\":1680.0,\"y1\":1680.0,\"yref\":\"y\"},{\"line\":{\"color\":\"black\",\"width\":0.5},\"type\":\"line\",\"x0\":0,\"x1\":1,\"xref\":\"x domain\",\"y0\":1690.0,\"y1\":1690.0,\"yref\":\"y\"}],\"yaxis\":{\"tickmode\":\"array\",\"tickvals\":[0.0,0.0,200.0,1200.0,1680.0,1690.0],\"ticktext\":[\"departure_train20\",\"station0\\u002fT1\",\"CVG\",\"DVG\",\"station1\\u002fT4\",\"arrival_train20\"]},\"xaxis\":{\"tickmode\":\"array\",\"tickvals\":[0,84,168,252,336,420],\"ticktext\":[\"00:00:00\",\"00:01:24\",\"00:02:48\",\"00:04:12\",\"00:05:36\",\"00:07:00\"]}},                        {\"responsive\": true}                    ).then(function(){\n",
       "                            \n",
       "var gd = document.getElementById('97383be2-77bc-4a94-aad3-ec566d558450');\n",
       "var x = new MutationObserver(function (mutations, observer) {{\n",
       "        var display = window.getComputedStyle(gd).display;\n",
       "        if (!display || display === 'none') {{\n",
       "            console.log([gd, 'removed!']);\n",
       "            Plotly.purge(gd);\n",
       "            observer.disconnect();\n",
       "        }}\n",
       "}});\n",
       "\n",
       "// Listen for the removal of the full notebook cells\n",
       "var notebookContainer = gd.closest('#notebook-container');\n",
       "if (notebookContainer) {{\n",
       "    x.observe(notebookContainer, {childList: true});\n",
       "}}\n",
       "\n",
       "// Listen for the clearing of the current output cell\n",
       "var outputEl = gd.closest('.output');\n",
       "if (outputEl) {{\n",
       "    x.observe(outputEl, {childList: true});\n",
       "}}\n",
       "\n",
       "                        })                };                });            </script>        </div>"
      ]
     },
     "metadata": {},
     "output_type": "display_data"
    }
   ],
   "source": [
    "sim.copy_train('train10', 'train20', departure_time=300.)\n",
    "sim.run()\n",
    "sim.space_time_chart_plotly(1)"
   ]
  },
  {
   "cell_type": "markdown",
   "metadata": {},
   "source": [
    "**Warning: train orders are modified !**"
   ]
  },
  {
   "cell_type": "code",
   "execution_count": 39,
   "metadata": {},
   "outputs": [
    {
     "data": {
      "text/plain": [
       "['train10', 'train20', 'train11']"
      ]
     },
     "execution_count": 39,
     "metadata": {},
     "output_type": "execute_result"
    }
   ],
   "source": [
    "sim.trains"
   ]
  },
  {
   "cell_type": "code",
   "execution_count": 40,
   "metadata": {},
   "outputs": [
    {
     "name": "stdout",
     "output_type": "stream",
     "text": [
      "[15:09:27,770] \u001b[34m[INFO] \u001b[0;39m [StandaloneSimulationCommand] Loading infra: tmp/infra.json\n",
      "[15:09:27,806] \u001b[34m[INFO] \u001b[0;39m             [FullInfra] parsing infra\n",
      "[15:09:27,806] \u001b[34m[INFO] \u001b[0;39m             [FullInfra] adaptation to kotlin\n",
      "[15:09:27,849] \u001b[34m[INFO] \u001b[0;39m             [FullInfra] loading signals\n",
      "[15:09:27,851] \u001b[34m[INFO] \u001b[0;39m             [FullInfra] building blocks\n",
      "[15:09:27,874] \u001b[34m[INFO] \u001b[0;39m [StandaloneSimulationCommand] Loading input: tmp/simulation.json\n",
      "[15:09:28,044] \u001b[34m[INFO] \u001b[0;39m [StandaloneSimulationCommand] Running simulation for schedule group: group.10\n",
      "[15:09:28,145] \u001b[39m[DEBUG]\u001b[0;39m             [Allowance] computing range n°1\n",
      "[15:09:28,147] \u001b[39m[DEBUG]\u001b[0;39m             [Allowance]   computing section n°1\n",
      "[15:09:28,147] \u001b[39m[DEBUG]\u001b[0;39m             [Allowance]   target time = 126.06939555\n",
      "[15:09:28,147] \u001b[39m[DEBUG]\u001b[0;39m             [Allowance]     starting attempt 1\n",
      "[15:09:28,149] \u001b[39m[DEBUG]\u001b[0;39m             [Allowance]     envelope time 183.993422\n",
      "[15:09:28,149] \u001b[39m[DEBUG]\u001b[0;39m             [Allowance]     starting attempt 2\n",
      "[15:09:28,149] \u001b[39m[DEBUG]\u001b[0;39m             [Allowance]     envelope time 145.309507\n",
      "[15:09:28,149] \u001b[39m[DEBUG]\u001b[0;39m             [Allowance]     starting attempt 3\n",
      "[15:09:28,149] \u001b[39m[DEBUG]\u001b[0;39m             [Allowance]     envelope time 131.487139\n",
      "[15:09:28,149] \u001b[39m[DEBUG]\u001b[0;39m             [Allowance]     starting attempt 4\n",
      "[15:09:28,149] \u001b[39m[DEBUG]\u001b[0;39m             [Allowance]     envelope time 125.517333\n",
      "[15:09:28,150] \u001b[39m[DEBUG]\u001b[0;39m             [Allowance] computing range n°1\n",
      "[15:09:28,150] \u001b[39m[DEBUG]\u001b[0;39m             [Allowance]   computing section n°1\n",
      "[15:09:28,150] \u001b[39m[DEBUG]\u001b[0;39m             [Allowance]   target time = 155.0\n",
      "[15:09:28,150] \u001b[39m[DEBUG]\u001b[0;39m             [Allowance]     starting attempt 1\n",
      "[15:09:28,151] \u001b[39m[DEBUG]\u001b[0;39m             [Allowance]     envelope time 87.194924\n",
      "[15:09:28,151] \u001b[39m[DEBUG]\u001b[0;39m             [Allowance]     starting attempt 2\n",
      "[15:09:28,151] \u001b[39m[DEBUG]\u001b[0;39m             [Allowance]     envelope time 121.552633\n",
      "[15:09:28,151] \u001b[39m[DEBUG]\u001b[0;39m             [Allowance]     starting attempt 3\n",
      "[15:09:28,152] \u001b[39m[DEBUG]\u001b[0;39m             [Allowance]     envelope time 174.036737\n",
      "[15:09:28,152] \u001b[39m[DEBUG]\u001b[0;39m             [Allowance]     starting attempt 4\n",
      "[15:09:28,152] \u001b[39m[DEBUG]\u001b[0;39m             [Allowance]     envelope time 140.868703\n",
      "[15:09:28,152] \u001b[39m[DEBUG]\u001b[0;39m             [Allowance]     starting attempt 5\n",
      "[15:09:28,153] \u001b[39m[DEBUG]\u001b[0;39m             [Allowance]     envelope time 154.910401\n",
      "[15:09:28,157] \u001b[39m[DEBUG]\u001b[0;39m             [Allowance] computing range n°1\n",
      "[15:09:28,157] \u001b[39m[DEBUG]\u001b[0;39m             [Allowance]   computing section n°1\n",
      "[15:09:28,157] \u001b[39m[DEBUG]\u001b[0;39m             [Allowance]   target time = 126.06939555\n",
      "[15:09:28,157] \u001b[39m[DEBUG]\u001b[0;39m             [Allowance]     starting attempt 1\n",
      "[15:09:28,157] \u001b[39m[DEBUG]\u001b[0;39m             [Allowance]     envelope time 183.993422\n",
      "[15:09:28,157] \u001b[39m[DEBUG]\u001b[0;39m             [Allowance]     starting attempt 2\n",
      "[15:09:28,157] \u001b[39m[DEBUG]\u001b[0;39m             [Allowance]     envelope time 145.309507\n",
      "[15:09:28,158] \u001b[39m[DEBUG]\u001b[0;39m             [Allowance]     starting attempt 3\n",
      "[15:09:28,158] \u001b[39m[DEBUG]\u001b[0;39m             [Allowance]     envelope time 131.487139\n",
      "[15:09:28,158] \u001b[39m[DEBUG]\u001b[0;39m             [Allowance]     starting attempt 4\n",
      "[15:09:28,158] \u001b[39m[DEBUG]\u001b[0;39m             [Allowance]     envelope time 125.517333\n",
      "[15:09:28,162] \u001b[34m[INFO] \u001b[0;39m [StandaloneSimulationCommand] Running simulation for schedule group: group.11\n",
      "[15:09:28,165] \u001b[39m[DEBUG]\u001b[0;39m             [Allowance] computing range n°1\n",
      "[15:09:28,165] \u001b[39m[DEBUG]\u001b[0;39m             [Allowance]   computing section n°1\n",
      "[15:09:28,166] \u001b[39m[DEBUG]\u001b[0;39m             [Allowance]   target time = 126.06939555\n",
      "[15:09:28,166] \u001b[39m[DEBUG]\u001b[0;39m             [Allowance]     starting attempt 1\n",
      "[15:09:28,166] \u001b[39m[DEBUG]\u001b[0;39m             [Allowance]     envelope time 183.993422\n",
      "[15:09:28,166] \u001b[39m[DEBUG]\u001b[0;39m             [Allowance]     starting attempt 2\n",
      "[15:09:28,166] \u001b[39m[DEBUG]\u001b[0;39m             [Allowance]     envelope time 145.309507\n",
      "[15:09:28,166] \u001b[39m[DEBUG]\u001b[0;39m             [Allowance]     starting attempt 3\n",
      "[15:09:28,166] \u001b[39m[DEBUG]\u001b[0;39m             [Allowance]     envelope time 131.487139\n",
      "[15:09:28,166] \u001b[39m[DEBUG]\u001b[0;39m             [Allowance]     starting attempt 4\n",
      "[15:09:28,166] \u001b[39m[DEBUG]\u001b[0;39m             [Allowance]     envelope time 125.517333\n",
      "[15:09:28,167] \u001b[34m[INFO] \u001b[0;39m [StandaloneSimulationCommand] All simulations completed\n",
      "[15:09:28,167] \u001b[34m[INFO] \u001b[0;39m [StandaloneSimulationCommand] Saving results at: tmp/results.json\n"
     ]
    },
    {
     "data": {
      "application/vnd.plotly.v1+json": {
       "config": {
        "plotlyServerURL": "https://plot.ly"
       },
       "data": [
        {
         "name": "train10",
         "type": "scatter",
         "x": [
          0,
          32.68101843712555,
          76.25570968662629,
          104.91040870042369,
          110.91040870042369,
          116.91040870042369,
          122.91040870042369,
          123.11445905009151,
          128.9104087004237,
          134.9104087004237,
          140.9104087004237,
          146.9104087004237,
          152.9104087004237,
          167.52432788158671,
          171.70593709057812,
          173.60224824349282,
          177.97835090406522,
          186.34156932204803,
          194.70478774003084,
          203.06800615801365,
          211.43122457599645,
          219.79444299397926
         ],
         "y": [
          0,
          8.293999999999983,
          45.065999999999974,
          85.43700000000001,
          106.37099999999998,
          143.79899999999998,
          197.61700000000002,
          200,
          267.687,
          353.812,
          455.669,
          572.693,
          703.821,
          1065,
          1161,
          1200,
          1290,
          1434,
          1546,
          1626,
          1674,
          1690
         ]
        },
        {
         "name": "train20",
         "type": "scatter",
         "x": [
          300,
          306.2724138134871,
          314.63563223146997,
          322.9988506494528,
          330.849395147142,
          331.3620690674356,
          339.72528748541845,
          350.17931050789696,
          360.6333335303755,
          371.1564494786219,
          377.428863292109,
          379.3251744450237,
          383.7012771055961,
          392.0644955235789,
          400.4277139415617,
          408.7909323595445,
          417.1541507775273,
          425.5173691955101
         ],
         "y": [
          0,
          8.293999999999983,
          45.065999999999974,
          111.01400000000001,
          200,
          205.811,
          328.918,
          520.809,
          750.412,
          1014,
          1161,
          1200,
          1290,
          1434,
          1546,
          1626,
          1674,
          1690
         ]
        },
        {
         "name": "train11",
         "type": "scatter",
         "x": [
          200,
          206.27241381348713,
          214.63563223146994,
          222.99885064945278,
          230.849395147142,
          231.3620690674356,
          239.72528748541845,
          250.179310507897,
          260.6333335303755,
          271.1564494786219,
          277.428863292109,
          279.3251744450237,
          283.7012771055961,
          292.0644955235789,
          300.4277139415617,
          308.7909323595445,
          317.1541507775273,
          325.5173691955101
         ],
         "y": [
          0,
          8.293999999999983,
          45.065999999999974,
          111.01400000000001,
          200,
          205.811,
          328.918,
          520.809,
          750.412,
          1014,
          1161,
          1200,
          null,
          null,
          null,
          null,
          null,
          null
         ]
        }
       ],
       "layout": {
        "hovermode": "x unified",
        "shapes": [
         {
          "line": {
           "color": "black",
           "width": 0.5
          },
          "type": "line",
          "x0": 0,
          "x1": 1,
          "xref": "x domain",
          "y0": 0,
          "y1": 0,
          "yref": "y"
         },
         {
          "line": {
           "color": "black",
           "width": 0.5
          },
          "type": "line",
          "x0": 0,
          "x1": 1,
          "xref": "x domain",
          "y0": 0,
          "y1": 0,
          "yref": "y"
         },
         {
          "line": {
           "color": "black",
           "width": 0.5
          },
          "type": "line",
          "x0": 0,
          "x1": 1,
          "xref": "x domain",
          "y0": 200,
          "y1": 200,
          "yref": "y"
         },
         {
          "line": {
           "color": "black",
           "width": 0.5
          },
          "type": "line",
          "x0": 0,
          "x1": 1,
          "xref": "x domain",
          "y0": 1200,
          "y1": 1200,
          "yref": "y"
         },
         {
          "line": {
           "color": "black",
           "width": 0.5
          },
          "type": "line",
          "x0": 0,
          "x1": 1,
          "xref": "x domain",
          "y0": 1680,
          "y1": 1680,
          "yref": "y"
         },
         {
          "line": {
           "color": "black",
           "width": 0.5
          },
          "type": "line",
          "x0": 0,
          "x1": 1,
          "xref": "x domain",
          "y0": 1690,
          "y1": 1690,
          "yref": "y"
         }
        ],
        "template": {
         "data": {
          "bar": [
           {
            "error_x": {
             "color": "rgb(36,36,36)"
            },
            "error_y": {
             "color": "rgb(36,36,36)"
            },
            "marker": {
             "line": {
              "color": "white",
              "width": 0.5
             },
             "pattern": {
              "fillmode": "overlay",
              "size": 10,
              "solidity": 0.2
             }
            },
            "type": "bar"
           }
          ],
          "barpolar": [
           {
            "marker": {
             "line": {
              "color": "white",
              "width": 0.5
             },
             "pattern": {
              "fillmode": "overlay",
              "size": 10,
              "solidity": 0.2
             }
            },
            "type": "barpolar"
           }
          ],
          "carpet": [
           {
            "aaxis": {
             "endlinecolor": "rgb(36,36,36)",
             "gridcolor": "white",
             "linecolor": "white",
             "minorgridcolor": "white",
             "startlinecolor": "rgb(36,36,36)"
            },
            "baxis": {
             "endlinecolor": "rgb(36,36,36)",
             "gridcolor": "white",
             "linecolor": "white",
             "minorgridcolor": "white",
             "startlinecolor": "rgb(36,36,36)"
            },
            "type": "carpet"
           }
          ],
          "choropleth": [
           {
            "colorbar": {
             "outlinewidth": 1,
             "tickcolor": "rgb(36,36,36)",
             "ticks": "outside"
            },
            "type": "choropleth"
           }
          ],
          "contour": [
           {
            "colorbar": {
             "outlinewidth": 1,
             "tickcolor": "rgb(36,36,36)",
             "ticks": "outside"
            },
            "colorscale": [
             [
              0,
              "#440154"
             ],
             [
              0.1111111111111111,
              "#482878"
             ],
             [
              0.2222222222222222,
              "#3e4989"
             ],
             [
              0.3333333333333333,
              "#31688e"
             ],
             [
              0.4444444444444444,
              "#26828e"
             ],
             [
              0.5555555555555556,
              "#1f9e89"
             ],
             [
              0.6666666666666666,
              "#35b779"
             ],
             [
              0.7777777777777778,
              "#6ece58"
             ],
             [
              0.8888888888888888,
              "#b5de2b"
             ],
             [
              1,
              "#fde725"
             ]
            ],
            "type": "contour"
           }
          ],
          "contourcarpet": [
           {
            "colorbar": {
             "outlinewidth": 1,
             "tickcolor": "rgb(36,36,36)",
             "ticks": "outside"
            },
            "type": "contourcarpet"
           }
          ],
          "heatmap": [
           {
            "colorbar": {
             "outlinewidth": 1,
             "tickcolor": "rgb(36,36,36)",
             "ticks": "outside"
            },
            "colorscale": [
             [
              0,
              "#440154"
             ],
             [
              0.1111111111111111,
              "#482878"
             ],
             [
              0.2222222222222222,
              "#3e4989"
             ],
             [
              0.3333333333333333,
              "#31688e"
             ],
             [
              0.4444444444444444,
              "#26828e"
             ],
             [
              0.5555555555555556,
              "#1f9e89"
             ],
             [
              0.6666666666666666,
              "#35b779"
             ],
             [
              0.7777777777777778,
              "#6ece58"
             ],
             [
              0.8888888888888888,
              "#b5de2b"
             ],
             [
              1,
              "#fde725"
             ]
            ],
            "type": "heatmap"
           }
          ],
          "heatmapgl": [
           {
            "colorbar": {
             "outlinewidth": 1,
             "tickcolor": "rgb(36,36,36)",
             "ticks": "outside"
            },
            "colorscale": [
             [
              0,
              "#440154"
             ],
             [
              0.1111111111111111,
              "#482878"
             ],
             [
              0.2222222222222222,
              "#3e4989"
             ],
             [
              0.3333333333333333,
              "#31688e"
             ],
             [
              0.4444444444444444,
              "#26828e"
             ],
             [
              0.5555555555555556,
              "#1f9e89"
             ],
             [
              0.6666666666666666,
              "#35b779"
             ],
             [
              0.7777777777777778,
              "#6ece58"
             ],
             [
              0.8888888888888888,
              "#b5de2b"
             ],
             [
              1,
              "#fde725"
             ]
            ],
            "type": "heatmapgl"
           }
          ],
          "histogram": [
           {
            "marker": {
             "line": {
              "color": "white",
              "width": 0.6
             }
            },
            "type": "histogram"
           }
          ],
          "histogram2d": [
           {
            "colorbar": {
             "outlinewidth": 1,
             "tickcolor": "rgb(36,36,36)",
             "ticks": "outside"
            },
            "colorscale": [
             [
              0,
              "#440154"
             ],
             [
              0.1111111111111111,
              "#482878"
             ],
             [
              0.2222222222222222,
              "#3e4989"
             ],
             [
              0.3333333333333333,
              "#31688e"
             ],
             [
              0.4444444444444444,
              "#26828e"
             ],
             [
              0.5555555555555556,
              "#1f9e89"
             ],
             [
              0.6666666666666666,
              "#35b779"
             ],
             [
              0.7777777777777778,
              "#6ece58"
             ],
             [
              0.8888888888888888,
              "#b5de2b"
             ],
             [
              1,
              "#fde725"
             ]
            ],
            "type": "histogram2d"
           }
          ],
          "histogram2dcontour": [
           {
            "colorbar": {
             "outlinewidth": 1,
             "tickcolor": "rgb(36,36,36)",
             "ticks": "outside"
            },
            "colorscale": [
             [
              0,
              "#440154"
             ],
             [
              0.1111111111111111,
              "#482878"
             ],
             [
              0.2222222222222222,
              "#3e4989"
             ],
             [
              0.3333333333333333,
              "#31688e"
             ],
             [
              0.4444444444444444,
              "#26828e"
             ],
             [
              0.5555555555555556,
              "#1f9e89"
             ],
             [
              0.6666666666666666,
              "#35b779"
             ],
             [
              0.7777777777777778,
              "#6ece58"
             ],
             [
              0.8888888888888888,
              "#b5de2b"
             ],
             [
              1,
              "#fde725"
             ]
            ],
            "type": "histogram2dcontour"
           }
          ],
          "mesh3d": [
           {
            "colorbar": {
             "outlinewidth": 1,
             "tickcolor": "rgb(36,36,36)",
             "ticks": "outside"
            },
            "type": "mesh3d"
           }
          ],
          "parcoords": [
           {
            "line": {
             "colorbar": {
              "outlinewidth": 1,
              "tickcolor": "rgb(36,36,36)",
              "ticks": "outside"
             }
            },
            "type": "parcoords"
           }
          ],
          "pie": [
           {
            "automargin": true,
            "type": "pie"
           }
          ],
          "scatter": [
           {
            "fillpattern": {
             "fillmode": "overlay",
             "size": 10,
             "solidity": 0.2
            },
            "type": "scatter"
           }
          ],
          "scatter3d": [
           {
            "line": {
             "colorbar": {
              "outlinewidth": 1,
              "tickcolor": "rgb(36,36,36)",
              "ticks": "outside"
             }
            },
            "marker": {
             "colorbar": {
              "outlinewidth": 1,
              "tickcolor": "rgb(36,36,36)",
              "ticks": "outside"
             }
            },
            "type": "scatter3d"
           }
          ],
          "scattercarpet": [
           {
            "marker": {
             "colorbar": {
              "outlinewidth": 1,
              "tickcolor": "rgb(36,36,36)",
              "ticks": "outside"
             }
            },
            "type": "scattercarpet"
           }
          ],
          "scattergeo": [
           {
            "marker": {
             "colorbar": {
              "outlinewidth": 1,
              "tickcolor": "rgb(36,36,36)",
              "ticks": "outside"
             }
            },
            "type": "scattergeo"
           }
          ],
          "scattergl": [
           {
            "marker": {
             "colorbar": {
              "outlinewidth": 1,
              "tickcolor": "rgb(36,36,36)",
              "ticks": "outside"
             }
            },
            "type": "scattergl"
           }
          ],
          "scattermapbox": [
           {
            "marker": {
             "colorbar": {
              "outlinewidth": 1,
              "tickcolor": "rgb(36,36,36)",
              "ticks": "outside"
             }
            },
            "type": "scattermapbox"
           }
          ],
          "scatterpolar": [
           {
            "marker": {
             "colorbar": {
              "outlinewidth": 1,
              "tickcolor": "rgb(36,36,36)",
              "ticks": "outside"
             }
            },
            "type": "scatterpolar"
           }
          ],
          "scatterpolargl": [
           {
            "marker": {
             "colorbar": {
              "outlinewidth": 1,
              "tickcolor": "rgb(36,36,36)",
              "ticks": "outside"
             }
            },
            "type": "scatterpolargl"
           }
          ],
          "scatterternary": [
           {
            "marker": {
             "colorbar": {
              "outlinewidth": 1,
              "tickcolor": "rgb(36,36,36)",
              "ticks": "outside"
             }
            },
            "type": "scatterternary"
           }
          ],
          "surface": [
           {
            "colorbar": {
             "outlinewidth": 1,
             "tickcolor": "rgb(36,36,36)",
             "ticks": "outside"
            },
            "colorscale": [
             [
              0,
              "#440154"
             ],
             [
              0.1111111111111111,
              "#482878"
             ],
             [
              0.2222222222222222,
              "#3e4989"
             ],
             [
              0.3333333333333333,
              "#31688e"
             ],
             [
              0.4444444444444444,
              "#26828e"
             ],
             [
              0.5555555555555556,
              "#1f9e89"
             ],
             [
              0.6666666666666666,
              "#35b779"
             ],
             [
              0.7777777777777778,
              "#6ece58"
             ],
             [
              0.8888888888888888,
              "#b5de2b"
             ],
             [
              1,
              "#fde725"
             ]
            ],
            "type": "surface"
           }
          ],
          "table": [
           {
            "cells": {
             "fill": {
              "color": "rgb(237,237,237)"
             },
             "line": {
              "color": "white"
             }
            },
            "header": {
             "fill": {
              "color": "rgb(217,217,217)"
             },
             "line": {
              "color": "white"
             }
            },
            "type": "table"
           }
          ]
         },
         "layout": {
          "annotationdefaults": {
           "arrowhead": 0,
           "arrowwidth": 1
          },
          "autotypenumbers": "strict",
          "coloraxis": {
           "colorbar": {
            "outlinewidth": 1,
            "tickcolor": "rgb(36,36,36)",
            "ticks": "outside"
           }
          },
          "colorscale": {
           "diverging": [
            [
             0,
             "rgb(103,0,31)"
            ],
            [
             0.1,
             "rgb(178,24,43)"
            ],
            [
             0.2,
             "rgb(214,96,77)"
            ],
            [
             0.3,
             "rgb(244,165,130)"
            ],
            [
             0.4,
             "rgb(253,219,199)"
            ],
            [
             0.5,
             "rgb(247,247,247)"
            ],
            [
             0.6,
             "rgb(209,229,240)"
            ],
            [
             0.7,
             "rgb(146,197,222)"
            ],
            [
             0.8,
             "rgb(67,147,195)"
            ],
            [
             0.9,
             "rgb(33,102,172)"
            ],
            [
             1,
             "rgb(5,48,97)"
            ]
           ],
           "sequential": [
            [
             0,
             "#440154"
            ],
            [
             0.1111111111111111,
             "#482878"
            ],
            [
             0.2222222222222222,
             "#3e4989"
            ],
            [
             0.3333333333333333,
             "#31688e"
            ],
            [
             0.4444444444444444,
             "#26828e"
            ],
            [
             0.5555555555555556,
             "#1f9e89"
            ],
            [
             0.6666666666666666,
             "#35b779"
            ],
            [
             0.7777777777777778,
             "#6ece58"
            ],
            [
             0.8888888888888888,
             "#b5de2b"
            ],
            [
             1,
             "#fde725"
            ]
           ],
           "sequentialminus": [
            [
             0,
             "#440154"
            ],
            [
             0.1111111111111111,
             "#482878"
            ],
            [
             0.2222222222222222,
             "#3e4989"
            ],
            [
             0.3333333333333333,
             "#31688e"
            ],
            [
             0.4444444444444444,
             "#26828e"
            ],
            [
             0.5555555555555556,
             "#1f9e89"
            ],
            [
             0.6666666666666666,
             "#35b779"
            ],
            [
             0.7777777777777778,
             "#6ece58"
            ],
            [
             0.8888888888888888,
             "#b5de2b"
            ],
            [
             1,
             "#fde725"
            ]
           ]
          },
          "colorway": [
           "#1F77B4",
           "#FF7F0E",
           "#2CA02C",
           "#D62728",
           "#9467BD",
           "#8C564B",
           "#E377C2",
           "#7F7F7F",
           "#BCBD22",
           "#17BECF"
          ],
          "font": {
           "color": "rgb(36,36,36)"
          },
          "geo": {
           "bgcolor": "white",
           "lakecolor": "white",
           "landcolor": "white",
           "showlakes": true,
           "showland": true,
           "subunitcolor": "white"
          },
          "hoverlabel": {
           "align": "left"
          },
          "hovermode": "closest",
          "mapbox": {
           "style": "light"
          },
          "paper_bgcolor": "white",
          "plot_bgcolor": "white",
          "polar": {
           "angularaxis": {
            "gridcolor": "rgb(232,232,232)",
            "linecolor": "rgb(36,36,36)",
            "showgrid": false,
            "showline": true,
            "ticks": "outside"
           },
           "bgcolor": "white",
           "radialaxis": {
            "gridcolor": "rgb(232,232,232)",
            "linecolor": "rgb(36,36,36)",
            "showgrid": false,
            "showline": true,
            "ticks": "outside"
           }
          },
          "scene": {
           "xaxis": {
            "backgroundcolor": "white",
            "gridcolor": "rgb(232,232,232)",
            "gridwidth": 2,
            "linecolor": "rgb(36,36,36)",
            "showbackground": true,
            "showgrid": false,
            "showline": true,
            "ticks": "outside",
            "zeroline": false,
            "zerolinecolor": "rgb(36,36,36)"
           },
           "yaxis": {
            "backgroundcolor": "white",
            "gridcolor": "rgb(232,232,232)",
            "gridwidth": 2,
            "linecolor": "rgb(36,36,36)",
            "showbackground": true,
            "showgrid": false,
            "showline": true,
            "ticks": "outside",
            "zeroline": false,
            "zerolinecolor": "rgb(36,36,36)"
           },
           "zaxis": {
            "backgroundcolor": "white",
            "gridcolor": "rgb(232,232,232)",
            "gridwidth": 2,
            "linecolor": "rgb(36,36,36)",
            "showbackground": true,
            "showgrid": false,
            "showline": true,
            "ticks": "outside",
            "zeroline": false,
            "zerolinecolor": "rgb(36,36,36)"
           }
          },
          "shapedefaults": {
           "fillcolor": "black",
           "line": {
            "width": 0
           },
           "opacity": 0.3
          },
          "ternary": {
           "aaxis": {
            "gridcolor": "rgb(232,232,232)",
            "linecolor": "rgb(36,36,36)",
            "showgrid": false,
            "showline": true,
            "ticks": "outside"
           },
           "baxis": {
            "gridcolor": "rgb(232,232,232)",
            "linecolor": "rgb(36,36,36)",
            "showgrid": false,
            "showline": true,
            "ticks": "outside"
           },
           "bgcolor": "white",
           "caxis": {
            "gridcolor": "rgb(232,232,232)",
            "linecolor": "rgb(36,36,36)",
            "showgrid": false,
            "showline": true,
            "ticks": "outside"
           }
          },
          "title": {
           "x": 0.05
          },
          "xaxis": {
           "automargin": true,
           "gridcolor": "rgb(232,232,232)",
           "linecolor": "rgb(36,36,36)",
           "showgrid": false,
           "showline": true,
           "ticks": "outside",
           "title": {
            "standoff": 15
           },
           "zeroline": false,
           "zerolinecolor": "rgb(36,36,36)"
          },
          "yaxis": {
           "automargin": true,
           "gridcolor": "rgb(232,232,232)",
           "linecolor": "rgb(36,36,36)",
           "showgrid": false,
           "showline": true,
           "ticks": "outside",
           "title": {
            "standoff": 15
           },
           "zeroline": false,
           "zerolinecolor": "rgb(36,36,36)"
          }
         }
        },
        "title": {
         "text": "train 1 (eco)"
        },
        "xaxis": {
         "tickmode": "array",
         "ticktext": [
          "00:00:00",
          "00:01:25",
          "00:02:50",
          "00:04:15",
          "00:05:40",
          "00:07:05",
          "00:08:30"
         ],
         "tickvals": [
          0,
          85,
          170,
          255,
          340,
          425,
          510
         ]
        },
        "yaxis": {
         "tickmode": "array",
         "ticktext": [
          "departure_train20",
          "station0/T1",
          "CVG",
          "DVG",
          "station1/T4",
          "arrival_train20"
         ],
         "tickvals": [
          0,
          0,
          200,
          1200,
          1680,
          1690
         ]
        }
       }
      },
      "text/html": [
       "<div>                            <div id=\"c31a4063-4e56-47c0-9a08-80dca333ce3a\" class=\"plotly-graph-div\" style=\"height:525px; width:100%;\"></div>            <script type=\"text/javascript\">                require([\"plotly\"], function(Plotly) {                    window.PLOTLYENV=window.PLOTLYENV || {};                                    if (document.getElementById(\"c31a4063-4e56-47c0-9a08-80dca333ce3a\")) {                    Plotly.newPlot(                        \"c31a4063-4e56-47c0-9a08-80dca333ce3a\",                        [{\"name\":\"train10\",\"x\":[0.0,32.68101843712555,76.25570968662629,104.91040870042369,110.91040870042369,116.91040870042369,122.91040870042369,123.11445905009151,128.9104087004237,134.9104087004237,140.9104087004237,146.9104087004237,152.9104087004237,167.52432788158671,171.70593709057812,173.60224824349282,177.97835090406522,186.34156932204803,194.70478774003084,203.06800615801365,211.43122457599645,219.79444299397926],\"y\":[0.0,8.293999999999983,45.065999999999974,85.43700000000001,106.37099999999998,143.79899999999998,197.61700000000002,200.0,267.687,353.812,455.669,572.693,703.821,1065.0,1161.0,1200.0,1290.0,1434.0,1546.0,1626.0,1674.0,1690.0],\"type\":\"scatter\"},{\"name\":\"train20\",\"x\":[300.0,306.2724138134871,314.63563223146997,322.9988506494528,330.849395147142,331.3620690674356,339.72528748541845,350.17931050789696,360.6333335303755,371.1564494786219,377.428863292109,379.3251744450237,383.7012771055961,392.0644955235789,400.4277139415617,408.7909323595445,417.1541507775273,425.5173691955101],\"y\":[0.0,8.293999999999983,45.065999999999974,111.01400000000001,200.0,205.811,328.918,520.809,750.412,1014.0,1161.0,1200.0,1290.0,1434.0,1546.0,1626.0,1674.0,1690.0],\"type\":\"scatter\"},{\"name\":\"train11\",\"x\":[200.0,206.27241381348713,214.63563223146994,222.99885064945278,230.849395147142,231.3620690674356,239.72528748541845,250.179310507897,260.6333335303755,271.1564494786219,277.428863292109,279.3251744450237,283.7012771055961,292.0644955235789,300.4277139415617,308.7909323595445,317.1541507775273,325.5173691955101],\"y\":[0.0,8.293999999999983,45.065999999999974,111.01400000000001,200.0,205.811,328.918,520.809,750.412,1014.0,1161.0,1200.0,null,null,null,null,null,null],\"type\":\"scatter\"}],                        {\"hovermode\":\"x unified\",\"template\":{\"data\":{\"barpolar\":[{\"marker\":{\"line\":{\"color\":\"white\",\"width\":0.5},\"pattern\":{\"fillmode\":\"overlay\",\"size\":10,\"solidity\":0.2}},\"type\":\"barpolar\"}],\"bar\":[{\"error_x\":{\"color\":\"rgb(36,36,36)\"},\"error_y\":{\"color\":\"rgb(36,36,36)\"},\"marker\":{\"line\":{\"color\":\"white\",\"width\":0.5},\"pattern\":{\"fillmode\":\"overlay\",\"size\":10,\"solidity\":0.2}},\"type\":\"bar\"}],\"carpet\":[{\"aaxis\":{\"endlinecolor\":\"rgb(36,36,36)\",\"gridcolor\":\"white\",\"linecolor\":\"white\",\"minorgridcolor\":\"white\",\"startlinecolor\":\"rgb(36,36,36)\"},\"baxis\":{\"endlinecolor\":\"rgb(36,36,36)\",\"gridcolor\":\"white\",\"linecolor\":\"white\",\"minorgridcolor\":\"white\",\"startlinecolor\":\"rgb(36,36,36)\"},\"type\":\"carpet\"}],\"choropleth\":[{\"colorbar\":{\"outlinewidth\":1,\"tickcolor\":\"rgb(36,36,36)\",\"ticks\":\"outside\"},\"type\":\"choropleth\"}],\"contourcarpet\":[{\"colorbar\":{\"outlinewidth\":1,\"tickcolor\":\"rgb(36,36,36)\",\"ticks\":\"outside\"},\"type\":\"contourcarpet\"}],\"contour\":[{\"colorbar\":{\"outlinewidth\":1,\"tickcolor\":\"rgb(36,36,36)\",\"ticks\":\"outside\"},\"colorscale\":[[0.0,\"#440154\"],[0.1111111111111111,\"#482878\"],[0.2222222222222222,\"#3e4989\"],[0.3333333333333333,\"#31688e\"],[0.4444444444444444,\"#26828e\"],[0.5555555555555556,\"#1f9e89\"],[0.6666666666666666,\"#35b779\"],[0.7777777777777778,\"#6ece58\"],[0.8888888888888888,\"#b5de2b\"],[1.0,\"#fde725\"]],\"type\":\"contour\"}],\"heatmapgl\":[{\"colorbar\":{\"outlinewidth\":1,\"tickcolor\":\"rgb(36,36,36)\",\"ticks\":\"outside\"},\"colorscale\":[[0.0,\"#440154\"],[0.1111111111111111,\"#482878\"],[0.2222222222222222,\"#3e4989\"],[0.3333333333333333,\"#31688e\"],[0.4444444444444444,\"#26828e\"],[0.5555555555555556,\"#1f9e89\"],[0.6666666666666666,\"#35b779\"],[0.7777777777777778,\"#6ece58\"],[0.8888888888888888,\"#b5de2b\"],[1.0,\"#fde725\"]],\"type\":\"heatmapgl\"}],\"heatmap\":[{\"colorbar\":{\"outlinewidth\":1,\"tickcolor\":\"rgb(36,36,36)\",\"ticks\":\"outside\"},\"colorscale\":[[0.0,\"#440154\"],[0.1111111111111111,\"#482878\"],[0.2222222222222222,\"#3e4989\"],[0.3333333333333333,\"#31688e\"],[0.4444444444444444,\"#26828e\"],[0.5555555555555556,\"#1f9e89\"],[0.6666666666666666,\"#35b779\"],[0.7777777777777778,\"#6ece58\"],[0.8888888888888888,\"#b5de2b\"],[1.0,\"#fde725\"]],\"type\":\"heatmap\"}],\"histogram2dcontour\":[{\"colorbar\":{\"outlinewidth\":1,\"tickcolor\":\"rgb(36,36,36)\",\"ticks\":\"outside\"},\"colorscale\":[[0.0,\"#440154\"],[0.1111111111111111,\"#482878\"],[0.2222222222222222,\"#3e4989\"],[0.3333333333333333,\"#31688e\"],[0.4444444444444444,\"#26828e\"],[0.5555555555555556,\"#1f9e89\"],[0.6666666666666666,\"#35b779\"],[0.7777777777777778,\"#6ece58\"],[0.8888888888888888,\"#b5de2b\"],[1.0,\"#fde725\"]],\"type\":\"histogram2dcontour\"}],\"histogram2d\":[{\"colorbar\":{\"outlinewidth\":1,\"tickcolor\":\"rgb(36,36,36)\",\"ticks\":\"outside\"},\"colorscale\":[[0.0,\"#440154\"],[0.1111111111111111,\"#482878\"],[0.2222222222222222,\"#3e4989\"],[0.3333333333333333,\"#31688e\"],[0.4444444444444444,\"#26828e\"],[0.5555555555555556,\"#1f9e89\"],[0.6666666666666666,\"#35b779\"],[0.7777777777777778,\"#6ece58\"],[0.8888888888888888,\"#b5de2b\"],[1.0,\"#fde725\"]],\"type\":\"histogram2d\"}],\"histogram\":[{\"marker\":{\"line\":{\"color\":\"white\",\"width\":0.6}},\"type\":\"histogram\"}],\"mesh3d\":[{\"colorbar\":{\"outlinewidth\":1,\"tickcolor\":\"rgb(36,36,36)\",\"ticks\":\"outside\"},\"type\":\"mesh3d\"}],\"parcoords\":[{\"line\":{\"colorbar\":{\"outlinewidth\":1,\"tickcolor\":\"rgb(36,36,36)\",\"ticks\":\"outside\"}},\"type\":\"parcoords\"}],\"pie\":[{\"automargin\":true,\"type\":\"pie\"}],\"scatter3d\":[{\"line\":{\"colorbar\":{\"outlinewidth\":1,\"tickcolor\":\"rgb(36,36,36)\",\"ticks\":\"outside\"}},\"marker\":{\"colorbar\":{\"outlinewidth\":1,\"tickcolor\":\"rgb(36,36,36)\",\"ticks\":\"outside\"}},\"type\":\"scatter3d\"}],\"scattercarpet\":[{\"marker\":{\"colorbar\":{\"outlinewidth\":1,\"tickcolor\":\"rgb(36,36,36)\",\"ticks\":\"outside\"}},\"type\":\"scattercarpet\"}],\"scattergeo\":[{\"marker\":{\"colorbar\":{\"outlinewidth\":1,\"tickcolor\":\"rgb(36,36,36)\",\"ticks\":\"outside\"}},\"type\":\"scattergeo\"}],\"scattergl\":[{\"marker\":{\"colorbar\":{\"outlinewidth\":1,\"tickcolor\":\"rgb(36,36,36)\",\"ticks\":\"outside\"}},\"type\":\"scattergl\"}],\"scattermapbox\":[{\"marker\":{\"colorbar\":{\"outlinewidth\":1,\"tickcolor\":\"rgb(36,36,36)\",\"ticks\":\"outside\"}},\"type\":\"scattermapbox\"}],\"scatterpolargl\":[{\"marker\":{\"colorbar\":{\"outlinewidth\":1,\"tickcolor\":\"rgb(36,36,36)\",\"ticks\":\"outside\"}},\"type\":\"scatterpolargl\"}],\"scatterpolar\":[{\"marker\":{\"colorbar\":{\"outlinewidth\":1,\"tickcolor\":\"rgb(36,36,36)\",\"ticks\":\"outside\"}},\"type\":\"scatterpolar\"}],\"scatter\":[{\"fillpattern\":{\"fillmode\":\"overlay\",\"size\":10,\"solidity\":0.2},\"type\":\"scatter\"}],\"scatterternary\":[{\"marker\":{\"colorbar\":{\"outlinewidth\":1,\"tickcolor\":\"rgb(36,36,36)\",\"ticks\":\"outside\"}},\"type\":\"scatterternary\"}],\"surface\":[{\"colorbar\":{\"outlinewidth\":1,\"tickcolor\":\"rgb(36,36,36)\",\"ticks\":\"outside\"},\"colorscale\":[[0.0,\"#440154\"],[0.1111111111111111,\"#482878\"],[0.2222222222222222,\"#3e4989\"],[0.3333333333333333,\"#31688e\"],[0.4444444444444444,\"#26828e\"],[0.5555555555555556,\"#1f9e89\"],[0.6666666666666666,\"#35b779\"],[0.7777777777777778,\"#6ece58\"],[0.8888888888888888,\"#b5de2b\"],[1.0,\"#fde725\"]],\"type\":\"surface\"}],\"table\":[{\"cells\":{\"fill\":{\"color\":\"rgb(237,237,237)\"},\"line\":{\"color\":\"white\"}},\"header\":{\"fill\":{\"color\":\"rgb(217,217,217)\"},\"line\":{\"color\":\"white\"}},\"type\":\"table\"}]},\"layout\":{\"annotationdefaults\":{\"arrowhead\":0,\"arrowwidth\":1},\"autotypenumbers\":\"strict\",\"coloraxis\":{\"colorbar\":{\"outlinewidth\":1,\"tickcolor\":\"rgb(36,36,36)\",\"ticks\":\"outside\"}},\"colorscale\":{\"diverging\":[[0.0,\"rgb(103,0,31)\"],[0.1,\"rgb(178,24,43)\"],[0.2,\"rgb(214,96,77)\"],[0.3,\"rgb(244,165,130)\"],[0.4,\"rgb(253,219,199)\"],[0.5,\"rgb(247,247,247)\"],[0.6,\"rgb(209,229,240)\"],[0.7,\"rgb(146,197,222)\"],[0.8,\"rgb(67,147,195)\"],[0.9,\"rgb(33,102,172)\"],[1.0,\"rgb(5,48,97)\"]],\"sequential\":[[0.0,\"#440154\"],[0.1111111111111111,\"#482878\"],[0.2222222222222222,\"#3e4989\"],[0.3333333333333333,\"#31688e\"],[0.4444444444444444,\"#26828e\"],[0.5555555555555556,\"#1f9e89\"],[0.6666666666666666,\"#35b779\"],[0.7777777777777778,\"#6ece58\"],[0.8888888888888888,\"#b5de2b\"],[1.0,\"#fde725\"]],\"sequentialminus\":[[0.0,\"#440154\"],[0.1111111111111111,\"#482878\"],[0.2222222222222222,\"#3e4989\"],[0.3333333333333333,\"#31688e\"],[0.4444444444444444,\"#26828e\"],[0.5555555555555556,\"#1f9e89\"],[0.6666666666666666,\"#35b779\"],[0.7777777777777778,\"#6ece58\"],[0.8888888888888888,\"#b5de2b\"],[1.0,\"#fde725\"]]},\"colorway\":[\"#1F77B4\",\"#FF7F0E\",\"#2CA02C\",\"#D62728\",\"#9467BD\",\"#8C564B\",\"#E377C2\",\"#7F7F7F\",\"#BCBD22\",\"#17BECF\"],\"font\":{\"color\":\"rgb(36,36,36)\"},\"geo\":{\"bgcolor\":\"white\",\"lakecolor\":\"white\",\"landcolor\":\"white\",\"showlakes\":true,\"showland\":true,\"subunitcolor\":\"white\"},\"hoverlabel\":{\"align\":\"left\"},\"hovermode\":\"closest\",\"mapbox\":{\"style\":\"light\"},\"paper_bgcolor\":\"white\",\"plot_bgcolor\":\"white\",\"polar\":{\"angularaxis\":{\"gridcolor\":\"rgb(232,232,232)\",\"linecolor\":\"rgb(36,36,36)\",\"showgrid\":false,\"showline\":true,\"ticks\":\"outside\"},\"bgcolor\":\"white\",\"radialaxis\":{\"gridcolor\":\"rgb(232,232,232)\",\"linecolor\":\"rgb(36,36,36)\",\"showgrid\":false,\"showline\":true,\"ticks\":\"outside\"}},\"scene\":{\"xaxis\":{\"backgroundcolor\":\"white\",\"gridcolor\":\"rgb(232,232,232)\",\"gridwidth\":2,\"linecolor\":\"rgb(36,36,36)\",\"showbackground\":true,\"showgrid\":false,\"showline\":true,\"ticks\":\"outside\",\"zeroline\":false,\"zerolinecolor\":\"rgb(36,36,36)\"},\"yaxis\":{\"backgroundcolor\":\"white\",\"gridcolor\":\"rgb(232,232,232)\",\"gridwidth\":2,\"linecolor\":\"rgb(36,36,36)\",\"showbackground\":true,\"showgrid\":false,\"showline\":true,\"ticks\":\"outside\",\"zeroline\":false,\"zerolinecolor\":\"rgb(36,36,36)\"},\"zaxis\":{\"backgroundcolor\":\"white\",\"gridcolor\":\"rgb(232,232,232)\",\"gridwidth\":2,\"linecolor\":\"rgb(36,36,36)\",\"showbackground\":true,\"showgrid\":false,\"showline\":true,\"ticks\":\"outside\",\"zeroline\":false,\"zerolinecolor\":\"rgb(36,36,36)\"}},\"shapedefaults\":{\"fillcolor\":\"black\",\"line\":{\"width\":0},\"opacity\":0.3},\"ternary\":{\"aaxis\":{\"gridcolor\":\"rgb(232,232,232)\",\"linecolor\":\"rgb(36,36,36)\",\"showgrid\":false,\"showline\":true,\"ticks\":\"outside\"},\"baxis\":{\"gridcolor\":\"rgb(232,232,232)\",\"linecolor\":\"rgb(36,36,36)\",\"showgrid\":false,\"showline\":true,\"ticks\":\"outside\"},\"bgcolor\":\"white\",\"caxis\":{\"gridcolor\":\"rgb(232,232,232)\",\"linecolor\":\"rgb(36,36,36)\",\"showgrid\":false,\"showline\":true,\"ticks\":\"outside\"}},\"title\":{\"x\":0.05},\"xaxis\":{\"automargin\":true,\"gridcolor\":\"rgb(232,232,232)\",\"linecolor\":\"rgb(36,36,36)\",\"showgrid\":false,\"showline\":true,\"ticks\":\"outside\",\"title\":{\"standoff\":15},\"zeroline\":false,\"zerolinecolor\":\"rgb(36,36,36)\"},\"yaxis\":{\"automargin\":true,\"gridcolor\":\"rgb(232,232,232)\",\"linecolor\":\"rgb(36,36,36)\",\"showgrid\":false,\"showline\":true,\"ticks\":\"outside\",\"title\":{\"standoff\":15},\"zeroline\":false,\"zerolinecolor\":\"rgb(36,36,36)\"}}},\"title\":{\"text\":\"train 1 (eco)\"},\"shapes\":[{\"line\":{\"color\":\"black\",\"width\":0.5},\"type\":\"line\",\"x0\":0,\"x1\":1,\"xref\":\"x domain\",\"y0\":0.0,\"y1\":0.0,\"yref\":\"y\"},{\"line\":{\"color\":\"black\",\"width\":0.5},\"type\":\"line\",\"x0\":0,\"x1\":1,\"xref\":\"x domain\",\"y0\":0.0,\"y1\":0.0,\"yref\":\"y\"},{\"line\":{\"color\":\"black\",\"width\":0.5},\"type\":\"line\",\"x0\":0,\"x1\":1,\"xref\":\"x domain\",\"y0\":200.0,\"y1\":200.0,\"yref\":\"y\"},{\"line\":{\"color\":\"black\",\"width\":0.5},\"type\":\"line\",\"x0\":0,\"x1\":1,\"xref\":\"x domain\",\"y0\":1200.0,\"y1\":1200.0,\"yref\":\"y\"},{\"line\":{\"color\":\"black\",\"width\":0.5},\"type\":\"line\",\"x0\":0,\"x1\":1,\"xref\":\"x domain\",\"y0\":1680.0,\"y1\":1680.0,\"yref\":\"y\"},{\"line\":{\"color\":\"black\",\"width\":0.5},\"type\":\"line\",\"x0\":0,\"x1\":1,\"xref\":\"x domain\",\"y0\":1690.0,\"y1\":1690.0,\"yref\":\"y\"}],\"yaxis\":{\"tickmode\":\"array\",\"tickvals\":[0.0,0.0,200.0,1200.0,1680.0,1690.0],\"ticktext\":[\"departure_train20\",\"station0\\u002fT1\",\"CVG\",\"DVG\",\"station1\\u002fT4\",\"arrival_train20\"]},\"xaxis\":{\"tickmode\":\"array\",\"tickvals\":[0,85,170,255,340,425,510],\"ticktext\":[\"00:00:00\",\"00:01:25\",\"00:02:50\",\"00:04:15\",\"00:05:40\",\"00:07:05\",\"00:08:30\"]}},                        {\"responsive\": true}                    ).then(function(){\n",
       "                            \n",
       "var gd = document.getElementById('c31a4063-4e56-47c0-9a08-80dca333ce3a');\n",
       "var x = new MutationObserver(function (mutations, observer) {{\n",
       "        var display = window.getComputedStyle(gd).display;\n",
       "        if (!display || display === 'none') {{\n",
       "            console.log([gd, 'removed!']);\n",
       "            Plotly.purge(gd);\n",
       "            observer.disconnect();\n",
       "        }}\n",
       "}});\n",
       "\n",
       "// Listen for the removal of the full notebook cells\n",
       "var notebookContainer = gd.closest('#notebook-container');\n",
       "if (notebookContainer) {{\n",
       "    x.observe(notebookContainer, {childList: true});\n",
       "}}\n",
       "\n",
       "// Listen for the clearing of the current output cell\n",
       "var outputEl = gd.closest('.output');\n",
       "if (outputEl) {{\n",
       "    x.observe(outputEl, {childList: true});\n",
       "}}\n",
       "\n",
       "                        })                };                });            </script>        </div>"
      ]
     },
     "metadata": {},
     "output_type": "display_data"
    }
   ],
   "source": [
    "sim.add_scheduled_points(\n",
    "    train=\"train10\",\n",
    "    scheduled_points=[(750.412, 155)],\n",
    "    skip_run=True\n",
    ")\n",
    "sim.run()\n",
    "sim.space_time_chart_plotly(train=1, eco_or_base='eco')"
   ]
  },
  {
   "cell_type": "code",
   "execution_count": 41,
   "metadata": {},
   "outputs": [
    {
     "data": {
      "text/html": [
       "<div style=\"width:100%;\"><div style=\"position:relative;width:100%;height:0;padding-bottom:60%;\"><span style=\"color:#565656\">Make this Notebook Trusted to load map: File -> Trust Notebook</span><iframe srcdoc=\"&lt;!DOCTYPE html&gt;\n",
       "&lt;html&gt;\n",
       "&lt;head&gt;\n",
       "    \n",
       "    &lt;meta http-equiv=&quot;content-type&quot; content=&quot;text/html; charset=UTF-8&quot; /&gt;\n",
       "    \n",
       "        &lt;script&gt;\n",
       "            L_NO_TOUCH = false;\n",
       "            L_DISABLE_3D = false;\n",
       "        &lt;/script&gt;\n",
       "    \n",
       "    &lt;style&gt;html, body {width: 100%;height: 100%;margin: 0;padding: 0;}&lt;/style&gt;\n",
       "    &lt;style&gt;#map {position:absolute;top:0;bottom:0;right:0;left:0;}&lt;/style&gt;\n",
       "    &lt;script src=&quot;https://cdn.jsdelivr.net/npm/leaflet@1.9.3/dist/leaflet.js&quot;&gt;&lt;/script&gt;\n",
       "    &lt;script src=&quot;https://code.jquery.com/jquery-3.7.1.min.js&quot;&gt;&lt;/script&gt;\n",
       "    &lt;script src=&quot;https://cdn.jsdelivr.net/npm/bootstrap@5.2.2/dist/js/bootstrap.bundle.min.js&quot;&gt;&lt;/script&gt;\n",
       "    &lt;script src=&quot;https://cdnjs.cloudflare.com/ajax/libs/Leaflet.awesome-markers/2.0.2/leaflet.awesome-markers.js&quot;&gt;&lt;/script&gt;\n",
       "    &lt;link rel=&quot;stylesheet&quot; href=&quot;https://cdn.jsdelivr.net/npm/leaflet@1.9.3/dist/leaflet.css&quot;/&gt;\n",
       "    &lt;link rel=&quot;stylesheet&quot; href=&quot;https://cdn.jsdelivr.net/npm/bootstrap@5.2.2/dist/css/bootstrap.min.css&quot;/&gt;\n",
       "    &lt;link rel=&quot;stylesheet&quot; href=&quot;https://netdna.bootstrapcdn.com/bootstrap/3.0.0/css/bootstrap-glyphicons.css&quot;/&gt;\n",
       "    &lt;link rel=&quot;stylesheet&quot; href=&quot;https://cdn.jsdelivr.net/npm/@fortawesome/fontawesome-free@6.2.0/css/all.min.css&quot;/&gt;\n",
       "    &lt;link rel=&quot;stylesheet&quot; href=&quot;https://cdnjs.cloudflare.com/ajax/libs/Leaflet.awesome-markers/2.0.2/leaflet.awesome-markers.css&quot;/&gt;\n",
       "    &lt;link rel=&quot;stylesheet&quot; href=&quot;https://cdn.jsdelivr.net/gh/python-visualization/folium/folium/templates/leaflet.awesome.rotate.min.css&quot;/&gt;\n",
       "    \n",
       "            &lt;meta name=&quot;viewport&quot; content=&quot;width=device-width,\n",
       "                initial-scale=1.0, maximum-scale=1.0, user-scalable=no&quot; /&gt;\n",
       "            &lt;style&gt;\n",
       "                #map_4eb409d96bba32b9368f4c7f305f4ff1 {\n",
       "                    position: relative;\n",
       "                    width: 100.0%;\n",
       "                    height: 100.0%;\n",
       "                    left: 0.0%;\n",
       "                    top: 0.0%;\n",
       "                }\n",
       "                .leaflet-container { font-size: 1rem; }\n",
       "            &lt;/style&gt;\n",
       "        \n",
       "    &lt;script src=&quot;https://cdn.jsdelivr.net/npm/leaflet.fullscreen@3.0.0/Control.FullScreen.min.js&quot;&gt;&lt;/script&gt;\n",
       "    &lt;link rel=&quot;stylesheet&quot; href=&quot;https://cdn.jsdelivr.net/npm/leaflet.fullscreen@3.0.0/Control.FullScreen.css&quot;/&gt;\n",
       "    &lt;script src=&quot;https://cdnjs.cloudflare.com/ajax/libs/jquery/3.7.1/jquery.min.js&quot;&gt;&lt;/script&gt;\n",
       "    &lt;script src=&quot;https://cdnjs.cloudflare.com/ajax/libs/jqueryui/1.10.2/jquery-ui.min.js&quot;&gt;&lt;/script&gt;\n",
       "    &lt;script src=&quot;https://cdn.jsdelivr.net/npm/iso8601-js-period@0.2.1/iso8601.min.js&quot;&gt;&lt;/script&gt;\n",
       "    &lt;script src=&quot;https://cdn.jsdelivr.net/npm/leaflet-timedimension@1.1.1/dist/leaflet.timedimension.min.js&quot;&gt;&lt;/script&gt;\n",
       "    &lt;script src=&quot;https://cdnjs.cloudflare.com/ajax/libs/moment.js/2.18.1/moment.min.js&quot;&gt;&lt;/script&gt;\n",
       "    &lt;link rel=&quot;stylesheet&quot; href=&quot;https://cdnjs.cloudflare.com/ajax/libs/highlight.js/8.4/styles/default.min.css&quot;/&gt;\n",
       "    &lt;link rel=&quot;stylesheet&quot; href=&quot;https://cdn.jsdelivr.net/npm/leaflet-timedimension@1.1.1/dist/leaflet.timedimension.control.css&quot;/&gt;\n",
       "&lt;/head&gt;\n",
       "&lt;body&gt;\n",
       "    \n",
       "    \n",
       "            &lt;div class=&quot;folium-map&quot; id=&quot;map_4eb409d96bba32b9368f4c7f305f4ff1&quot; &gt;&lt;/div&gt;\n",
       "        \n",
       "&lt;/body&gt;\n",
       "&lt;script&gt;\n",
       "    \n",
       "    \n",
       "            var map_4eb409d96bba32b9368f4c7f305f4ff1 = L.map(\n",
       "                &quot;map_4eb409d96bba32b9368f4c7f305f4ff1&quot;,\n",
       "                {\n",
       "                    center: [49.5, -0.4],\n",
       "                    crs: L.CRS.EPSG3857,\n",
       "                    zoom: 10,\n",
       "                    zoomControl: true,\n",
       "                    preferCanvas: false,\n",
       "                }\n",
       "            );\n",
       "\n",
       "            \n",
       "\n",
       "        \n",
       "    \n",
       "            var tile_layer_ee522b0d1efe294a4db5dc519d57517a = L.tileLayer(\n",
       "                &quot;https://tile.openstreetmap.org/{z}/{x}/{y}.png&quot;,\n",
       "                {&quot;attribution&quot;: &quot;blank&quot;, &quot;detectRetina&quot;: false, &quot;maxNativeZoom&quot;: 19, &quot;maxZoom&quot;: 19, &quot;minZoom&quot;: 0, &quot;noWrap&quot;: false, &quot;opacity&quot;: 1, &quot;subdomains&quot;: &quot;abc&quot;, &quot;tms&quot;: false}\n",
       "            );\n",
       "        \n",
       "    \n",
       "            tile_layer_ee522b0d1efe294a4db5dc519d57517a.addTo(map_4eb409d96bba32b9368f4c7f305f4ff1);\n",
       "        \n",
       "    \n",
       "            var tile_layer_b7128fe6d82b6319d5543ce891197f09 = L.tileLayer(\n",
       "                &quot;https://{s}.basemaps.cartocdn.com/light_all/{z}/{x}/{y}{r}.png&quot;,\n",
       "                {&quot;attribution&quot;: &quot;blank&quot;, &quot;detectRetina&quot;: false, &quot;maxNativeZoom&quot;: 20, &quot;maxZoom&quot;: 20, &quot;minZoom&quot;: 0, &quot;noWrap&quot;: false, &quot;opacity&quot;: 1, &quot;subdomains&quot;: &quot;abcd&quot;, &quot;tms&quot;: false}\n",
       "            );\n",
       "        \n",
       "    \n",
       "            var tile_layer_886c93c348317f7888d013202897c3e1 = L.tileLayer(\n",
       "                &quot;&quot;,\n",
       "                {&quot;attribution&quot;: &quot;blank&quot;, &quot;detectRetina&quot;: false, &quot;maxZoom&quot;: 18, &quot;minZoom&quot;: 0, &quot;noWrap&quot;: false, &quot;opacity&quot;: 1, &quot;subdomains&quot;: &quot;abc&quot;, &quot;tms&quot;: false}\n",
       "            );\n",
       "        \n",
       "    \n",
       "            var feature_group_bd5b36446a6f46967654ca34211835c3 = L.featureGroup(\n",
       "                {}\n",
       "            );\n",
       "        \n",
       "    \n",
       "            var poly_line_5318cf5d945831b56c5956d0c1aada90 = L.polyline(\n",
       "                [[45.57606788984581, 0.2035779438974819], [45.57606793485382, 0.20678997803615573], [45.575988410701974, 0.21]],\n",
       "                {&quot;bubblingMouseEvents&quot;: true, &quot;color&quot;: &quot;black&quot;, &quot;dashArray&quot;: null, &quot;dashOffset&quot;: null, &quot;fill&quot;: false, &quot;fillColor&quot;: &quot;black&quot;, &quot;fillOpacity&quot;: 0.2, &quot;fillRule&quot;: &quot;evenodd&quot;, &quot;lineCap&quot;: &quot;round&quot;, &quot;lineJoin&quot;: &quot;round&quot;, &quot;noClip&quot;: false, &quot;opacity&quot;: 1.0, &quot;smoothFactor&quot;: 1.0, &quot;stroke&quot;: true, &quot;weight&quot;: 1}\n",
       "            ).addTo(feature_group_bd5b36446a6f46967654ca34211835c3);\n",
       "        \n",
       "    \n",
       "            poly_line_5318cf5d945831b56c5956d0c1aada90.bindTooltip(\n",
       "                `&lt;div&gt;\n",
       "                     T0\n",
       "                 &lt;/div&gt;`,\n",
       "                {&quot;sticky&quot;: true}\n",
       "            );\n",
       "        \n",
       "    \n",
       "            var poly_line_b086c9b62ece9f0b206609987e7f1e37 = L.polyline(\n",
       "                [[45.575908751639325, 0.20357796209690945], [45.57590879664709, 0.20678998713301835], [45.575988410701974, 0.21]],\n",
       "                {&quot;bubblingMouseEvents&quot;: true, &quot;color&quot;: &quot;black&quot;, &quot;dashArray&quot;: null, &quot;dashOffset&quot;: null, &quot;fill&quot;: false, &quot;fillColor&quot;: &quot;black&quot;, &quot;fillOpacity&quot;: 0.2, &quot;fillRule&quot;: &quot;evenodd&quot;, &quot;lineCap&quot;: &quot;round&quot;, &quot;lineJoin&quot;: &quot;round&quot;, &quot;noClip&quot;: false, &quot;opacity&quot;: 1.0, &quot;smoothFactor&quot;: 1.0, &quot;stroke&quot;: true, &quot;weight&quot;: 1}\n",
       "            ).addTo(feature_group_bd5b36446a6f46967654ca34211835c3);\n",
       "        \n",
       "    \n",
       "            poly_line_b086c9b62ece9f0b206609987e7f1e37.bindTooltip(\n",
       "                `&lt;div&gt;\n",
       "                     T1\n",
       "                 &lt;/div&gt;`,\n",
       "                {&quot;sticky&quot;: true}\n",
       "            );\n",
       "        \n",
       "    \n",
       "            var poly_line_835f50985520f11fb03ed289bbd9b15f = L.polyline(\n",
       "                [[45.575988410701974, 0.21], [45.575988230670404, 0.21642405916960833]],\n",
       "                {&quot;bubblingMouseEvents&quot;: true, &quot;color&quot;: &quot;black&quot;, &quot;dashArray&quot;: null, &quot;dashOffset&quot;: null, &quot;fill&quot;: false, &quot;fillColor&quot;: &quot;black&quot;, &quot;fillOpacity&quot;: 0.2, &quot;fillRule&quot;: &quot;evenodd&quot;, &quot;lineCap&quot;: &quot;round&quot;, &quot;lineJoin&quot;: &quot;round&quot;, &quot;noClip&quot;: false, &quot;opacity&quot;: 1.0, &quot;smoothFactor&quot;: 1.0, &quot;stroke&quot;: true, &quot;weight&quot;: 1}\n",
       "            ).addTo(feature_group_bd5b36446a6f46967654ca34211835c3);\n",
       "        \n",
       "    \n",
       "            poly_line_835f50985520f11fb03ed289bbd9b15f.bindTooltip(\n",
       "                `&lt;div&gt;\n",
       "                     T2\n",
       "                 &lt;/div&gt;`,\n",
       "                {&quot;sticky&quot;: true}\n",
       "            );\n",
       "        \n",
       "    \n",
       "            var poly_line_a77207f8fe08ae07d3e8c56676e62ffe = L.polyline(\n",
       "                [[45.575988230670404, 0.21642405916960833], [45.57553914131219, 0.22281597368346445]],\n",
       "                {&quot;bubblingMouseEvents&quot;: true, &quot;color&quot;: &quot;black&quot;, &quot;dashArray&quot;: null, &quot;dashOffset&quot;: null, &quot;fill&quot;: false, &quot;fillColor&quot;: &quot;black&quot;, &quot;fillOpacity&quot;: 0.2, &quot;fillRule&quot;: &quot;evenodd&quot;, &quot;lineCap&quot;: &quot;round&quot;, &quot;lineJoin&quot;: &quot;round&quot;, &quot;noClip&quot;: false, &quot;opacity&quot;: 1.0, &quot;smoothFactor&quot;: 1.0, &quot;stroke&quot;: true, &quot;weight&quot;: 1}\n",
       "            ).addTo(feature_group_bd5b36446a6f46967654ca34211835c3);\n",
       "        \n",
       "    \n",
       "            poly_line_a77207f8fe08ae07d3e8c56676e62ffe.bindTooltip(\n",
       "                `&lt;div&gt;\n",
       "                     T3\n",
       "                 &lt;/div&gt;`,\n",
       "                {&quot;sticky&quot;: true}\n",
       "            );\n",
       "        \n",
       "    \n",
       "            var poly_line_3084b3e7195d57209ec06654f43b476e = L.polyline(\n",
       "                [[45.57553914131219, 0.22281597368346445], [45.575618665464745, 0.22602596996579108], [45.57561862045744, 0.2292379784068491]],\n",
       "                {&quot;bubblingMouseEvents&quot;: true, &quot;color&quot;: &quot;black&quot;, &quot;dashArray&quot;: null, &quot;dashOffset&quot;: null, &quot;fill&quot;: false, &quot;fillColor&quot;: &quot;black&quot;, &quot;fillOpacity&quot;: 0.2, &quot;fillRule&quot;: &quot;evenodd&quot;, &quot;lineCap&quot;: &quot;round&quot;, &quot;lineJoin&quot;: &quot;round&quot;, &quot;noClip&quot;: false, &quot;opacity&quot;: 1.0, &quot;smoothFactor&quot;: 1.0, &quot;stroke&quot;: true, &quot;weight&quot;: 1}\n",
       "            ).addTo(feature_group_bd5b36446a6f46967654ca34211835c3);\n",
       "        \n",
       "    \n",
       "            poly_line_3084b3e7195d57209ec06654f43b476e.bindTooltip(\n",
       "                `&lt;div&gt;\n",
       "                     T4\n",
       "                 &lt;/div&gt;`,\n",
       "                {&quot;sticky&quot;: true}\n",
       "            );\n",
       "        \n",
       "    \n",
       "            var poly_line_fd0db3d96f680a8098d1a5eb126a4481 = L.polyline(\n",
       "                [[45.57553914131219, 0.22281597368346445], [45.57545952725801, 0.2260259608691439], [45.575459482250956, 0.22923796020785261]],\n",
       "                {&quot;bubblingMouseEvents&quot;: true, &quot;color&quot;: &quot;black&quot;, &quot;dashArray&quot;: null, &quot;dashOffset&quot;: null, &quot;fill&quot;: false, &quot;fillColor&quot;: &quot;black&quot;, &quot;fillOpacity&quot;: 0.2, &quot;fillRule&quot;: &quot;evenodd&quot;, &quot;lineCap&quot;: &quot;round&quot;, &quot;lineJoin&quot;: &quot;round&quot;, &quot;noClip&quot;: false, &quot;opacity&quot;: 1.0, &quot;smoothFactor&quot;: 1.0, &quot;stroke&quot;: true, &quot;weight&quot;: 1}\n",
       "            ).addTo(feature_group_bd5b36446a6f46967654ca34211835c3);\n",
       "        \n",
       "    \n",
       "            poly_line_fd0db3d96f680a8098d1a5eb126a4481.bindTooltip(\n",
       "                `&lt;div&gt;\n",
       "                     T5\n",
       "                 &lt;/div&gt;`,\n",
       "                {&quot;sticky&quot;: true}\n",
       "            );\n",
       "        \n",
       "    \n",
       "            feature_group_bd5b36446a6f46967654ca34211835c3.addTo(map_4eb409d96bba32b9368f4c7f305f4ff1);\n",
       "        \n",
       "    \n",
       "            map_4eb409d96bba32b9368f4c7f305f4ff1.fitBounds(\n",
       "                [[45.575459482250956, 0.2035779438974819], [45.57606793485382, 0.2292379784068491]],\n",
       "                {}\n",
       "            );\n",
       "        \n",
       "    \n",
       "            var feature_group_513a02a4801e02144c669911855a57b1 = L.featureGroup(\n",
       "                {}\n",
       "            );\n",
       "        \n",
       "    \n",
       "            var marker_4b1d697f757c6ed0097ea80abd8226c6 = L.marker(\n",
       "                [45.57600431801858, 0.20935789524933382],\n",
       "                {}\n",
       "            ).addTo(feature_group_513a02a4801e02144c669911855a57b1);\n",
       "        \n",
       "    \n",
       "            var div_icon_54d3007663ec0b3adf347c0b60d4a8c5 = L.divIcon({&quot;className&quot;: &quot;empty&quot;, &quot;html&quot;: &quot;\\n            \\u003cdiv\\u003e\\u003csvg\\u003e\\n            \\u003ccircle cx=\\&quot;5\\&quot; cy=\\&quot;5\\&quot; r=\\&quot;5\\&quot;, fill=\\&quot;red\\&quot;, opacity=\\&quot;.8\\&quot; /\\u003e\\n            \\u003c/svg\\u003e\\u003c/div\\u003e&quot;});\n",
       "            marker_4b1d697f757c6ed0097ea80abd8226c6.setIcon(div_icon_54d3007663ec0b3adf347c0b60d4a8c5);\n",
       "        \n",
       "    \n",
       "        var popup_7f286b3655225fd04436ab2dc7139a52 = L.popup({&quot;maxWidth&quot;: &quot;100%&quot;});\n",
       "\n",
       "        \n",
       "            \n",
       "                var html_81effb7613b06ae020d4691b4da05a6d = $(`&lt;div id=&quot;html_81effb7613b06ae020d4691b4da05a6d&quot; style=&quot;width: 100.0%; height: 100.0%;&quot;&gt;D0&lt;/div&gt;`)[0];\n",
       "                popup_7f286b3655225fd04436ab2dc7139a52.setContent(html_81effb7613b06ae020d4691b4da05a6d);\n",
       "            \n",
       "        \n",
       "\n",
       "        marker_4b1d697f757c6ed0097ea80abd8226c6.bindPopup(popup_7f286b3655225fd04436ab2dc7139a52)\n",
       "        ;\n",
       "\n",
       "        \n",
       "    \n",
       "    \n",
       "            var marker_d87dd6e2a189202e1fb2f9a2f5d15c12 = L.marker(\n",
       "                [45.575972485390665, 0.20935789661407703],\n",
       "                {}\n",
       "            ).addTo(feature_group_513a02a4801e02144c669911855a57b1);\n",
       "        \n",
       "    \n",
       "            var div_icon_2272ac35f4c62c242d527327bcfee157 = L.divIcon({&quot;className&quot;: &quot;empty&quot;, &quot;html&quot;: &quot;\\n            \\u003cdiv\\u003e\\u003csvg\\u003e\\n            \\u003ccircle cx=\\&quot;5\\&quot; cy=\\&quot;5\\&quot; r=\\&quot;5\\&quot;, fill=\\&quot;red\\&quot;, opacity=\\&quot;.8\\&quot; /\\u003e\\n            \\u003c/svg\\u003e\\u003c/div\\u003e&quot;});\n",
       "            marker_d87dd6e2a189202e1fb2f9a2f5d15c12.setIcon(div_icon_2272ac35f4c62c242d527327bcfee157);\n",
       "        \n",
       "    \n",
       "        var popup_2e45a6d5a5c9f5c8891deb95525ffe5c = L.popup({&quot;maxWidth&quot;: &quot;100%&quot;});\n",
       "\n",
       "        \n",
       "            \n",
       "                var html_724fa40afea0be4f439987b076578d25 = $(`&lt;div id=&quot;html_724fa40afea0be4f439987b076578d25&quot; style=&quot;width: 100.0%; height: 100.0%;&quot;&gt;D1&lt;/div&gt;`)[0];\n",
       "                popup_2e45a6d5a5c9f5c8891deb95525ffe5c.setContent(html_724fa40afea0be4f439987b076578d25);\n",
       "            \n",
       "        \n",
       "\n",
       "        marker_d87dd6e2a189202e1fb2f9a2f5d15c12.bindPopup(popup_2e45a6d5a5c9f5c8891deb95525ffe5c)\n",
       "        ;\n",
       "\n",
       "        \n",
       "    \n",
       "    \n",
       "            var marker_34bc9e8c08b253e3e509d82928ae83a4 = L.marker(\n",
       "                [45.57598839269882, 0.21064240591696082],\n",
       "                {}\n",
       "            ).addTo(feature_group_513a02a4801e02144c669911855a57b1);\n",
       "        \n",
       "    \n",
       "            var div_icon_da380a870e9e635edc8dbbfdb359d9b4 = L.divIcon({&quot;className&quot;: &quot;empty&quot;, &quot;html&quot;: &quot;\\n            \\u003cdiv\\u003e\\u003csvg\\u003e\\n            \\u003ccircle cx=\\&quot;5\\&quot; cy=\\&quot;5\\&quot; r=\\&quot;5\\&quot;, fill=\\&quot;red\\&quot;, opacity=\\&quot;.8\\&quot; /\\u003e\\n            \\u003c/svg\\u003e\\u003c/div\\u003e&quot;});\n",
       "            marker_34bc9e8c08b253e3e509d82928ae83a4.setIcon(div_icon_da380a870e9e635edc8dbbfdb359d9b4);\n",
       "        \n",
       "    \n",
       "        var popup_1b3824e7d07745bd0850e945658c1ed9 = L.popup({&quot;maxWidth&quot;: &quot;100%&quot;});\n",
       "\n",
       "        \n",
       "            \n",
       "                var html_f2c777d18d2408aa5fcc360a021592dd = $(`&lt;div id=&quot;html_f2c777d18d2408aa5fcc360a021592dd&quot; style=&quot;width: 100.0%; height: 100.0%;&quot;&gt;D2&lt;/div&gt;`)[0];\n",
       "                popup_1b3824e7d07745bd0850e945658c1ed9.setContent(html_f2c777d18d2408aa5fcc360a021592dd);\n",
       "            \n",
       "        \n",
       "\n",
       "        marker_34bc9e8c08b253e3e509d82928ae83a4.bindPopup(popup_1b3824e7d07745bd0850e945658c1ed9)\n",
       "        ;\n",
       "\n",
       "        \n",
       "    \n",
       "    \n",
       "            var marker_983f645f5c88bba4ebc6bb627c73f53b = L.marker(\n",
       "                [45.57558405024801, 0.22217678223207885],\n",
       "                {}\n",
       "            ).addTo(feature_group_513a02a4801e02144c669911855a57b1);\n",
       "        \n",
       "    \n",
       "            var div_icon_400119708d4e8eaf94b151080334aab6 = L.divIcon({&quot;className&quot;: &quot;empty&quot;, &quot;html&quot;: &quot;\\n            \\u003cdiv\\u003e\\u003csvg\\u003e\\n            \\u003ccircle cx=\\&quot;5\\&quot; cy=\\&quot;5\\&quot; r=\\&quot;5\\&quot;, fill=\\&quot;red\\&quot;, opacity=\\&quot;.8\\&quot; /\\u003e\\n            \\u003c/svg\\u003e\\u003c/div\\u003e&quot;});\n",
       "            marker_983f645f5c88bba4ebc6bb627c73f53b.setIcon(div_icon_400119708d4e8eaf94b151080334aab6);\n",
       "        \n",
       "    \n",
       "        var popup_b6026960ba1fa999449711e51e5cd9d1 = L.popup({&quot;maxWidth&quot;: &quot;100%&quot;});\n",
       "\n",
       "        \n",
       "            \n",
       "                var html_3634ed7e770d0c76d13795a0770f5124 = $(`&lt;div id=&quot;html_3634ed7e770d0c76d13795a0770f5124&quot; style=&quot;width: 100.0%; height: 100.0%;&quot;&gt;D3&lt;/div&gt;`)[0];\n",
       "                popup_b6026960ba1fa999449711e51e5cd9d1.setContent(html_3634ed7e770d0c76d13795a0770f5124);\n",
       "            \n",
       "        \n",
       "\n",
       "        marker_983f645f5c88bba4ebc6bb627c73f53b.bindPopup(popup_b6026960ba1fa999449711e51e5cd9d1)\n",
       "        ;\n",
       "\n",
       "        \n",
       "    \n",
       "    \n",
       "            var marker_035454b3d07c2cafd53501228bb3ac5c = L.marker(\n",
       "                [45.57555504365724, 0.22345787261419756],\n",
       "                {}\n",
       "            ).addTo(feature_group_513a02a4801e02144c669911855a57b1);\n",
       "        \n",
       "    \n",
       "            var div_icon_93559713f950273a2366767cd74b0fb7 = L.divIcon({&quot;className&quot;: &quot;empty&quot;, &quot;html&quot;: &quot;\\n            \\u003cdiv\\u003e\\u003csvg\\u003e\\n            \\u003ccircle cx=\\&quot;5\\&quot; cy=\\&quot;5\\&quot; r=\\&quot;5\\&quot;, fill=\\&quot;red\\&quot;, opacity=\\&quot;.8\\&quot; /\\u003e\\n            \\u003c/svg\\u003e\\u003c/div\\u003e&quot;});\n",
       "            marker_035454b3d07c2cafd53501228bb3ac5c.setIcon(div_icon_93559713f950273a2366767cd74b0fb7);\n",
       "        \n",
       "    \n",
       "        var popup_61be0c73869741523360850b5c208335 = L.popup({&quot;maxWidth&quot;: &quot;100%&quot;});\n",
       "\n",
       "        \n",
       "            \n",
       "                var html_4705ad2cd0799f2f1aca7cccee8fe6ea = $(`&lt;div id=&quot;html_4705ad2cd0799f2f1aca7cccee8fe6ea&quot; style=&quot;width: 100.0%; height: 100.0%;&quot;&gt;D4&lt;/div&gt;`)[0];\n",
       "                popup_61be0c73869741523360850b5c208335.setContent(html_4705ad2cd0799f2f1aca7cccee8fe6ea);\n",
       "            \n",
       "        \n",
       "\n",
       "        marker_035454b3d07c2cafd53501228bb3ac5c.bindPopup(popup_61be0c73869741523360850b5c208335)\n",
       "        ;\n",
       "\n",
       "        \n",
       "    \n",
       "    \n",
       "            var marker_66daf2ab39c372cd6739d29db79307b9 = L.marker(\n",
       "                [45.5755232210009, 0.2234578703405344],\n",
       "                {}\n",
       "            ).addTo(feature_group_513a02a4801e02144c669911855a57b1);\n",
       "        \n",
       "    \n",
       "            var div_icon_85b024dc4736bfb80dad28f6cb2377e8 = L.divIcon({&quot;className&quot;: &quot;empty&quot;, &quot;html&quot;: &quot;\\n            \\u003cdiv\\u003e\\u003csvg\\u003e\\n            \\u003ccircle cx=\\&quot;5\\&quot; cy=\\&quot;5\\&quot; r=\\&quot;5\\&quot;, fill=\\&quot;red\\&quot;, opacity=\\&quot;.8\\&quot; /\\u003e\\n            \\u003c/svg\\u003e\\u003c/div\\u003e&quot;});\n",
       "            marker_66daf2ab39c372cd6739d29db79307b9.setIcon(div_icon_85b024dc4736bfb80dad28f6cb2377e8);\n",
       "        \n",
       "    \n",
       "        var popup_c4bf4e9d77ca8bd2fdb40d4e66231332 = L.popup({&quot;maxWidth&quot;: &quot;100%&quot;});\n",
       "\n",
       "        \n",
       "            \n",
       "                var html_b9f548836ff62ef0135dc4acd471f419 = $(`&lt;div id=&quot;html_b9f548836ff62ef0135dc4acd471f419&quot; style=&quot;width: 100.0%; height: 100.0%;&quot;&gt;D5&lt;/div&gt;`)[0];\n",
       "                popup_c4bf4e9d77ca8bd2fdb40d4e66231332.setContent(html_b9f548836ff62ef0135dc4acd471f419);\n",
       "            \n",
       "        \n",
       "\n",
       "        marker_66daf2ab39c372cd6739d29db79307b9.bindPopup(popup_c4bf4e9d77ca8bd2fdb40d4e66231332)\n",
       "        ;\n",
       "\n",
       "        \n",
       "    \n",
       "    \n",
       "            var feature_group_1f792a842ac7b966c89c6eb17653b306 = L.featureGroup(\n",
       "                {}\n",
       "            );\n",
       "        \n",
       "    \n",
       "            var marker_5f4edf35f74c6cca04fe6611f0d8fe2d = L.marker(\n",
       "                [45.57606788984581, 0.2035779438974819],\n",
       "                {}\n",
       "            ).addTo(feature_group_1f792a842ac7b966c89c6eb17653b306);\n",
       "        \n",
       "    \n",
       "            var div_icon_b1fd71f695566a263ce471dfdeedc1df = L.divIcon({&quot;className&quot;: &quot;empty&quot;, &quot;html&quot;: &quot;\\n            \\u003cdiv\\u003e\\u003csvg\\u003e\\n                \\u003crect x=\\&quot;-5\\&quot; y=\\&quot;-5\\&quot; width=\\&quot;20\\&quot;\\n                height=\\&quot;20\\&quot;, fill=\\&quot;black\\&quot;, opacity=\\&quot;.8\\&quot; /\\u003e\\n            \\u003c/svg\\u003e\\u003c/div\\u003e&quot;});\n",
       "            marker_5f4edf35f74c6cca04fe6611f0d8fe2d.setIcon(div_icon_b1fd71f695566a263ce471dfdeedc1df);\n",
       "        \n",
       "    \n",
       "        var popup_b75779f978b87b868bd742fc13161693 = L.popup({&quot;maxWidth&quot;: &quot;100%&quot;});\n",
       "\n",
       "        \n",
       "            \n",
       "                var html_0e6ffa95ed839c331a35b2b62bd5c403 = $(`&lt;div id=&quot;html_0e6ffa95ed839c331a35b2b62bd5c403&quot; style=&quot;width: 100.0%; height: 100.0%;&quot;&gt;buffer_stop.0&lt;/div&gt;`)[0];\n",
       "                popup_b75779f978b87b868bd742fc13161693.setContent(html_0e6ffa95ed839c331a35b2b62bd5c403);\n",
       "            \n",
       "        \n",
       "\n",
       "        marker_5f4edf35f74c6cca04fe6611f0d8fe2d.bindPopup(popup_b75779f978b87b868bd742fc13161693)\n",
       "        ;\n",
       "\n",
       "        \n",
       "    \n",
       "    \n",
       "            var marker_988b6a087c738f9793889e517bacab7f = L.marker(\n",
       "                [45.575908751639325, 0.20357796209690945],\n",
       "                {}\n",
       "            ).addTo(feature_group_1f792a842ac7b966c89c6eb17653b306);\n",
       "        \n",
       "    \n",
       "            var div_icon_e8a5a1ea52bd41fe8daa44ba0d33bbb4 = L.divIcon({&quot;className&quot;: &quot;empty&quot;, &quot;html&quot;: &quot;\\n            \\u003cdiv\\u003e\\u003csvg\\u003e\\n                \\u003crect x=\\&quot;-5\\&quot; y=\\&quot;-5\\&quot; width=\\&quot;20\\&quot;\\n                height=\\&quot;20\\&quot;, fill=\\&quot;black\\&quot;, opacity=\\&quot;.8\\&quot; /\\u003e\\n            \\u003c/svg\\u003e\\u003c/div\\u003e&quot;});\n",
       "            marker_988b6a087c738f9793889e517bacab7f.setIcon(div_icon_e8a5a1ea52bd41fe8daa44ba0d33bbb4);\n",
       "        \n",
       "    \n",
       "        var popup_9e40e44136baa21da0a90a2d5b7f5d17 = L.popup({&quot;maxWidth&quot;: &quot;100%&quot;});\n",
       "\n",
       "        \n",
       "            \n",
       "                var html_28f0b155454337afeaf864b6b810d7d0 = $(`&lt;div id=&quot;html_28f0b155454337afeaf864b6b810d7d0&quot; style=&quot;width: 100.0%; height: 100.0%;&quot;&gt;buffer_stop.1&lt;/div&gt;`)[0];\n",
       "                popup_9e40e44136baa21da0a90a2d5b7f5d17.setContent(html_28f0b155454337afeaf864b6b810d7d0);\n",
       "            \n",
       "        \n",
       "\n",
       "        marker_988b6a087c738f9793889e517bacab7f.bindPopup(popup_9e40e44136baa21da0a90a2d5b7f5d17)\n",
       "        ;\n",
       "\n",
       "        \n",
       "    \n",
       "    \n",
       "            var marker_c1952114604a412b0213fae044701d37 = L.marker(\n",
       "                [45.57561862045744, 0.2292379784068491],\n",
       "                {}\n",
       "            ).addTo(feature_group_1f792a842ac7b966c89c6eb17653b306);\n",
       "        \n",
       "    \n",
       "            var div_icon_dce9ecce401deaef71535ae12f9ac691 = L.divIcon({&quot;className&quot;: &quot;empty&quot;, &quot;html&quot;: &quot;\\n            \\u003cdiv\\u003e\\u003csvg\\u003e\\n                \\u003crect x=\\&quot;-5\\&quot; y=\\&quot;-5\\&quot; width=\\&quot;20\\&quot;\\n                height=\\&quot;20\\&quot;, fill=\\&quot;black\\&quot;, opacity=\\&quot;.8\\&quot; /\\u003e\\n            \\u003c/svg\\u003e\\u003c/div\\u003e&quot;});\n",
       "            marker_c1952114604a412b0213fae044701d37.setIcon(div_icon_dce9ecce401deaef71535ae12f9ac691);\n",
       "        \n",
       "    \n",
       "        var popup_cd918048555a44e72ffdbac94d5d32ec = L.popup({&quot;maxWidth&quot;: &quot;100%&quot;});\n",
       "\n",
       "        \n",
       "            \n",
       "                var html_d98d97050714a7b28f0196e8feb5b2ef = $(`&lt;div id=&quot;html_d98d97050714a7b28f0196e8feb5b2ef&quot; style=&quot;width: 100.0%; height: 100.0%;&quot;&gt;buffer_stop.2&lt;/div&gt;`)[0];\n",
       "                popup_cd918048555a44e72ffdbac94d5d32ec.setContent(html_d98d97050714a7b28f0196e8feb5b2ef);\n",
       "            \n",
       "        \n",
       "\n",
       "        marker_c1952114604a412b0213fae044701d37.bindPopup(popup_cd918048555a44e72ffdbac94d5d32ec)\n",
       "        ;\n",
       "\n",
       "        \n",
       "    \n",
       "    \n",
       "            var marker_a0d91c0f3676fefb6dee0b7e989aa57b = L.marker(\n",
       "                [45.575459482250956, 0.22923796020785261],\n",
       "                {}\n",
       "            ).addTo(feature_group_1f792a842ac7b966c89c6eb17653b306);\n",
       "        \n",
       "    \n",
       "            var div_icon_521addbc929488e516177a9ab17f85b4 = L.divIcon({&quot;className&quot;: &quot;empty&quot;, &quot;html&quot;: &quot;\\n            \\u003cdiv\\u003e\\u003csvg\\u003e\\n                \\u003crect x=\\&quot;-5\\&quot; y=\\&quot;-5\\&quot; width=\\&quot;20\\&quot;\\n                height=\\&quot;20\\&quot;, fill=\\&quot;black\\&quot;, opacity=\\&quot;.8\\&quot; /\\u003e\\n            \\u003c/svg\\u003e\\u003c/div\\u003e&quot;});\n",
       "            marker_a0d91c0f3676fefb6dee0b7e989aa57b.setIcon(div_icon_521addbc929488e516177a9ab17f85b4);\n",
       "        \n",
       "    \n",
       "        var popup_97f3bfbfe34b8cec8ca8c8a84f0fc6a1 = L.popup({&quot;maxWidth&quot;: &quot;100%&quot;});\n",
       "\n",
       "        \n",
       "            \n",
       "                var html_d63a417ef123739adec9ac60933cad36 = $(`&lt;div id=&quot;html_d63a417ef123739adec9ac60933cad36&quot; style=&quot;width: 100.0%; height: 100.0%;&quot;&gt;buffer_stop.3&lt;/div&gt;`)[0];\n",
       "                popup_97f3bfbfe34b8cec8ca8c8a84f0fc6a1.setContent(html_d63a417ef123739adec9ac60933cad36);\n",
       "            \n",
       "        \n",
       "\n",
       "        marker_a0d91c0f3676fefb6dee0b7e989aa57b.bindPopup(popup_97f3bfbfe34b8cec8ca8c8a84f0fc6a1)\n",
       "        ;\n",
       "\n",
       "        \n",
       "    \n",
       "    \n",
       "            var feature_group_5d84b4cf5b0a3be765a8aeb8de63ef2b = L.featureGroup(\n",
       "                {}\n",
       "            );\n",
       "        \n",
       "    \n",
       "            var marker_28f0eb27feb252f5420a362470247aec = L.marker(\n",
       "                [45.576010680945224, 0.20910105334906737],\n",
       "                {}\n",
       "            ).addTo(feature_group_5d84b4cf5b0a3be765a8aeb8de63ef2b);\n",
       "        \n",
       "    \n",
       "            var div_icon_be3fc12934c72ae468f4c67530e27b24 = L.divIcon({&quot;className&quot;: &quot;empty&quot;, &quot;html&quot;: &quot;\\n            \\u003cdiv\\u003e\\n                \\u003csvg viewBox=\\&quot;0 0 100 100\\&quot;\\u003e\\n                \\u003cpolygon points=\\&quot;20 0, 80 0, 50 100\\&quot; fill=\\&quot;grey\\&quot;/\\u003e\\n                \\u003c/svg\\u003e\\n            \\u003c/div\\u003e&quot;, &quot;iconAnchor&quot;: [10, 20], &quot;iconSize&quot;: [20, 20]});\n",
       "            marker_28f0eb27feb252f5420a362470247aec.setIcon(div_icon_be3fc12934c72ae468f4c67530e27b24);\n",
       "        \n",
       "    \n",
       "        var popup_e19ed595e187f08acd14b7102498bcdc = L.popup({&quot;maxWidth&quot;: &quot;100%&quot;});\n",
       "\n",
       "        \n",
       "            \n",
       "                var html_bb104f5cba390c57a81556f732ac84d2 = $(`&lt;div id=&quot;html_bb104f5cba390c57a81556f732ac84d2&quot; style=&quot;width: 100.0%; height: 100.0%;&quot;&gt;S0&lt;/div&gt;`)[0];\n",
       "                popup_e19ed595e187f08acd14b7102498bcdc.setContent(html_bb104f5cba390c57a81556f732ac84d2);\n",
       "            \n",
       "        \n",
       "\n",
       "        marker_28f0eb27feb252f5420a362470247aec.bindPopup(popup_e19ed595e187f08acd14b7102498bcdc)\n",
       "        ;\n",
       "\n",
       "        \n",
       "    \n",
       "    \n",
       "            var marker_ed2e351e5cb4f7424d59a401137c2e9c = L.marker(\n",
       "                [45.57596611526614, 0.20910105525970785],\n",
       "                {}\n",
       "            ).addTo(feature_group_5d84b4cf5b0a3be765a8aeb8de63ef2b);\n",
       "        \n",
       "    \n",
       "            var div_icon_ac81d5fafbd79e8d157a2d8c8d3597bf = L.divIcon({&quot;className&quot;: &quot;empty&quot;, &quot;html&quot;: &quot;\\n            \\u003cdiv\\u003e\\n                \\u003csvg viewBox=\\&quot;0 0 100 100\\&quot;\\u003e\\n                \\u003cpolygon points=\\&quot;20 0, 80 0, 50 100\\&quot; fill=\\&quot;grey\\&quot;/\\u003e\\n                \\u003c/svg\\u003e\\n            \\u003c/div\\u003e&quot;, &quot;iconAnchor&quot;: [10, 20], &quot;iconSize&quot;: [20, 20]});\n",
       "            marker_ed2e351e5cb4f7424d59a401137c2e9c.setIcon(div_icon_ac81d5fafbd79e8d157a2d8c8d3597bf);\n",
       "        \n",
       "    \n",
       "        var popup_8846b6eee93a1bb62d01a97d8c0f95af = L.popup({&quot;maxWidth&quot;: &quot;100%&quot;});\n",
       "\n",
       "        \n",
       "            \n",
       "                var html_d2e321feaf3fa72873d6226f1610a8eb = $(`&lt;div id=&quot;html_d2e321feaf3fa72873d6226f1610a8eb&quot; style=&quot;width: 100.0%; height: 100.0%;&quot;&gt;S1&lt;/div&gt;`)[0];\n",
       "                popup_8846b6eee93a1bb62d01a97d8c0f95af.setContent(html_d2e321feaf3fa72873d6226f1610a8eb);\n",
       "            \n",
       "        \n",
       "\n",
       "        marker_ed2e351e5cb4f7424d59a401137c2e9c.bindPopup(popup_8846b6eee93a1bb62d01a97d8c0f95af)\n",
       "        ;\n",
       "\n",
       "        \n",
       "    \n",
       "    \n",
       "            var marker_49e11c2e7ae9d38163e07b3d84c49200 = L.marker(\n",
       "                [45.57598838549755, 0.21089936828374517],\n",
       "                {}\n",
       "            ).addTo(feature_group_5d84b4cf5b0a3be765a8aeb8de63ef2b);\n",
       "        \n",
       "    \n",
       "            var div_icon_ce88ff12752dbf411abc901db5fb0ac1 = L.divIcon({&quot;className&quot;: &quot;empty&quot;, &quot;html&quot;: &quot;\\n            \\u003cdiv\\u003e\\n                \\u003csvg viewBox=\\&quot;0 0 100 100\\&quot;\\u003e\\n                \\u003cpolygon points=\\&quot;20 0, 80 0, 50 100\\&quot; fill=\\&quot;grey\\&quot;/\\u003e\\n                \\u003c/svg\\u003e\\n            \\u003c/div\\u003e&quot;, &quot;iconAnchor&quot;: [10, 20], &quot;iconSize&quot;: [20, 20]});\n",
       "            marker_49e11c2e7ae9d38163e07b3d84c49200.setIcon(div_icon_ce88ff12752dbf411abc901db5fb0ac1);\n",
       "        \n",
       "    \n",
       "        var popup_a2d1aef90599f20a280d01ce58352344 = L.popup({&quot;maxWidth&quot;: &quot;100%&quot;});\n",
       "\n",
       "        \n",
       "            \n",
       "                var html_b969258a62a04673bffc1c42ce26b92f = $(`&lt;div id=&quot;html_b969258a62a04673bffc1c42ce26b92f&quot; style=&quot;width: 100.0%; height: 100.0%;&quot;&gt;S2&lt;/div&gt;`)[0];\n",
       "                popup_a2d1aef90599f20a280d01ce58352344.setContent(html_b969258a62a04673bffc1c42ce26b92f);\n",
       "            \n",
       "        \n",
       "\n",
       "        marker_49e11c2e7ae9d38163e07b3d84c49200.bindPopup(popup_a2d1aef90599f20a280d01ce58352344)\n",
       "        ;\n",
       "\n",
       "        \n",
       "    \n",
       "    \n",
       "            var marker_6f52d0484d685b9d6ccc1605b35d3f64 = L.marker(\n",
       "                [45.57560201382234, 0.2219211056515246],\n",
       "                {}\n",
       "            ).addTo(feature_group_5d84b4cf5b0a3be765a8aeb8de63ef2b);\n",
       "        \n",
       "    \n",
       "            var div_icon_84699fc3985c0c97341ce15b497f0ad7 = L.divIcon({&quot;className&quot;: &quot;empty&quot;, &quot;html&quot;: &quot;\\n            \\u003cdiv\\u003e\\n                \\u003csvg viewBox=\\&quot;0 0 100 100\\&quot;\\u003e\\n                \\u003cpolygon points=\\&quot;20 0, 80 0, 50 100\\&quot; fill=\\&quot;grey\\&quot;/\\u003e\\n                \\u003c/svg\\u003e\\n            \\u003c/div\\u003e&quot;, &quot;iconAnchor&quot;: [10, 20], &quot;iconSize&quot;: [20, 20]});\n",
       "            marker_6f52d0484d685b9d6ccc1605b35d3f64.setIcon(div_icon_84699fc3985c0c97341ce15b497f0ad7);\n",
       "        \n",
       "    \n",
       "        var popup_b22ae966ee5667e8d6218454abc709a0 = L.popup({&quot;maxWidth&quot;: &quot;100%&quot;});\n",
       "\n",
       "        \n",
       "            \n",
       "                var html_fea4fe997d46292ac97d948766346404 = $(`&lt;div id=&quot;html_fea4fe997d46292ac97d948766346404&quot; style=&quot;width: 100.0%; height: 100.0%;&quot;&gt;S3&lt;/div&gt;`)[0];\n",
       "                popup_b22ae966ee5667e8d6218454abc709a0.setContent(html_fea4fe997d46292ac97d948766346404);\n",
       "            \n",
       "        \n",
       "\n",
       "        marker_6f52d0484d685b9d6ccc1605b35d3f64.bindPopup(popup_b22ae966ee5667e8d6218454abc709a0)\n",
       "        ;\n",
       "\n",
       "        \n",
       "    \n",
       "    \n",
       "            var marker_63daf76a56718cd8510b62fdfaea14d0 = L.marker(\n",
       "                [45.57556140459526, 0.22371463218649082],\n",
       "                {}\n",
       "            ).addTo(feature_group_5d84b4cf5b0a3be765a8aeb8de63ef2b);\n",
       "        \n",
       "    \n",
       "            var div_icon_65e57a30ab0299921711cdc2f3a2ef29 = L.divIcon({&quot;className&quot;: &quot;empty&quot;, &quot;html&quot;: &quot;\\n            \\u003cdiv\\u003e\\n                \\u003csvg viewBox=\\&quot;0 0 100 100\\&quot;\\u003e\\n                \\u003cpolygon points=\\&quot;20 0, 80 0, 50 100\\&quot; fill=\\&quot;grey\\&quot;/\\u003e\\n                \\u003c/svg\\u003e\\n            \\u003c/div\\u003e&quot;, &quot;iconAnchor&quot;: [10, 20], &quot;iconSize&quot;: [20, 20]});\n",
       "            marker_63daf76a56718cd8510b62fdfaea14d0.setIcon(div_icon_65e57a30ab0299921711cdc2f3a2ef29);\n",
       "        \n",
       "    \n",
       "        var popup_507dc000e1639185a80c4d24a41a3548 = L.popup({&quot;maxWidth&quot;: &quot;100%&quot;});\n",
       "\n",
       "        \n",
       "            \n",
       "                var html_eb131d3224d59e23e165a2429c2a4e50 = $(`&lt;div id=&quot;html_eb131d3224d59e23e165a2429c2a4e50&quot; style=&quot;width: 100.0%; height: 100.0%;&quot;&gt;S4&lt;/div&gt;`)[0];\n",
       "                popup_507dc000e1639185a80c4d24a41a3548.setContent(html_eb131d3224d59e23e165a2429c2a4e50);\n",
       "            \n",
       "        \n",
       "\n",
       "        marker_63daf76a56718cd8510b62fdfaea14d0.bindPopup(popup_507dc000e1639185a80c4d24a41a3548)\n",
       "        ;\n",
       "\n",
       "        \n",
       "    \n",
       "    \n",
       "            var marker_bf9926e968f95b6a64dcb136a474040b = L.marker(\n",
       "                [45.57551685287638, 0.2237146290033624],\n",
       "                {}\n",
       "            ).addTo(feature_group_5d84b4cf5b0a3be765a8aeb8de63ef2b);\n",
       "        \n",
       "    \n",
       "            var div_icon_10f4d0b9d71e7c9bf16f193f37fe4a66 = L.divIcon({&quot;className&quot;: &quot;empty&quot;, &quot;html&quot;: &quot;\\n            \\u003cdiv\\u003e\\n                \\u003csvg viewBox=\\&quot;0 0 100 100\\&quot;\\u003e\\n                \\u003cpolygon points=\\&quot;20 0, 80 0, 50 100\\&quot; fill=\\&quot;grey\\&quot;/\\u003e\\n                \\u003c/svg\\u003e\\n            \\u003c/div\\u003e&quot;, &quot;iconAnchor&quot;: [10, 20], &quot;iconSize&quot;: [20, 20]});\n",
       "            marker_bf9926e968f95b6a64dcb136a474040b.setIcon(div_icon_10f4d0b9d71e7c9bf16f193f37fe4a66);\n",
       "        \n",
       "    \n",
       "        var popup_71debf2a87147914936be4146b510cde = L.popup({&quot;maxWidth&quot;: &quot;100%&quot;});\n",
       "\n",
       "        \n",
       "            \n",
       "                var html_bce3367259915f201cfd4437c7671791 = $(`&lt;div id=&quot;html_bce3367259915f201cfd4437c7671791&quot; style=&quot;width: 100.0%; height: 100.0%;&quot;&gt;S5&lt;/div&gt;`)[0];\n",
       "                popup_71debf2a87147914936be4146b510cde.setContent(html_bce3367259915f201cfd4437c7671791);\n",
       "            \n",
       "        \n",
       "\n",
       "        marker_bf9926e968f95b6a64dcb136a474040b.bindPopup(popup_71debf2a87147914936be4146b510cde)\n",
       "        ;\n",
       "\n",
       "        \n",
       "    \n",
       "    \n",
       "            var feature_group_3e9b9360e3769f913f0f19bbf718f182 = L.featureGroup(\n",
       "                {}\n",
       "            );\n",
       "        \n",
       "    \n",
       "            var marker_6b92263d6d1399532840e2e6200138f8 = L.marker(\n",
       "                [45.576052039968395, 0.2074315809973353],\n",
       "                {}\n",
       "            ).addTo(feature_group_3e9b9360e3769f913f0f19bbf718f182);\n",
       "        \n",
       "    \n",
       "            var div_icon_d8de1f196b6b3e46c03a204cadd65109 = L.divIcon({&quot;className&quot;: &quot;empty&quot;, &quot;html&quot;: &quot;\\n            \\u003cdiv\\u003e\\u003csvg\\u003e\\n                \\u003ccircle cx=\\&quot;5\\&quot; cy=\\&quot;5\\&quot; r=\\&quot;5\\&quot;, fill=\\&quot;cyan\\&quot;, opacity=\\&quot;.9\\&quot; /\\u003e\\n            \\u003c/svg\\u003e\\u003c/div\\u003e&quot;});\n",
       "            marker_6b92263d6d1399532840e2e6200138f8.setIcon(div_icon_d8de1f196b6b3e46c03a204cadd65109);\n",
       "        \n",
       "    \n",
       "        var popup_f1089b07e4a717adab67f23f4869ed9d = L.popup({&quot;maxWidth&quot;: &quot;100%&quot;});\n",
       "\n",
       "        \n",
       "            \n",
       "                var html_88520f0447bdac70ca0042c799552829 = $(`&lt;div id=&quot;html_88520f0447bdac70ca0042c799552829&quot; style=&quot;width: 100.0%; height: 100.0%;&quot;&gt;station0/BV 0&lt;/div&gt;`)[0];\n",
       "                popup_f1089b07e4a717adab67f23f4869ed9d.setContent(html_88520f0447bdac70ca0042c799552829);\n",
       "            \n",
       "        \n",
       "\n",
       "        marker_6b92263d6d1399532840e2e6200138f8.bindPopup(popup_f1089b07e4a717adab67f23f4869ed9d)\n",
       "        ;\n",
       "\n",
       "        \n",
       "    \n",
       "    \n",
       "            var marker_f200d2f6c9f0a422bb2dd10f2216e0d7 = L.marker(\n",
       "                [45.57592470945674, 0.20743158645630816],\n",
       "                {}\n",
       "            ).addTo(feature_group_3e9b9360e3769f913f0f19bbf718f182);\n",
       "        \n",
       "    \n",
       "            var div_icon_e11a69a7ecfdfcb5c5fde76009ba114b = L.divIcon({&quot;className&quot;: &quot;empty&quot;, &quot;html&quot;: &quot;\\n            \\u003cdiv\\u003e\\u003csvg\\u003e\\n                \\u003ccircle cx=\\&quot;5\\&quot; cy=\\&quot;5\\&quot; r=\\&quot;5\\&quot;, fill=\\&quot;cyan\\&quot;, opacity=\\&quot;.9\\&quot; /\\u003e\\n            \\u003c/svg\\u003e\\u003c/div\\u003e&quot;});\n",
       "            marker_f200d2f6c9f0a422bb2dd10f2216e0d7.setIcon(div_icon_e11a69a7ecfdfcb5c5fde76009ba114b);\n",
       "        \n",
       "    \n",
       "        var popup_67301bed9b00cf282a7579a7e4800553 = L.popup({&quot;maxWidth&quot;: &quot;100%&quot;});\n",
       "\n",
       "        \n",
       "            \n",
       "                var html_2df5aba48f4b0813f6d3453215b5849d = $(`&lt;div id=&quot;html_2df5aba48f4b0813f6d3453215b5849d&quot; style=&quot;width: 100.0%; height: 100.0%;&quot;&gt;station0/BV 0&lt;/div&gt;`)[0];\n",
       "                popup_67301bed9b00cf282a7579a7e4800553.setContent(html_2df5aba48f4b0813f6d3453215b5849d);\n",
       "            \n",
       "        \n",
       "\n",
       "        marker_f200d2f6c9f0a422bb2dd10f2216e0d7.bindPopup(popup_67301bed9b00cf282a7579a7e4800553)\n",
       "        ;\n",
       "\n",
       "        \n",
       "    \n",
       "    \n",
       "            var marker_7dae85f40b836a316d2f52bda09e9c2a = L.marker(\n",
       "                [45.575618624058585, 0.22898097756356206],\n",
       "                {}\n",
       "            ).addTo(feature_group_3e9b9360e3769f913f0f19bbf718f182);\n",
       "        \n",
       "    \n",
       "            var div_icon_aa6355c38961b1a058147224c6edb7d6 = L.divIcon({&quot;className&quot;: &quot;empty&quot;, &quot;html&quot;: &quot;\\n            \\u003cdiv\\u003e\\u003csvg\\u003e\\n                \\u003ccircle cx=\\&quot;5\\&quot; cy=\\&quot;5\\&quot; r=\\&quot;5\\&quot;, fill=\\&quot;cyan\\&quot;, opacity=\\&quot;.9\\&quot; /\\u003e\\n            \\u003c/svg\\u003e\\u003c/div\\u003e&quot;});\n",
       "            marker_7dae85f40b836a316d2f52bda09e9c2a.setIcon(div_icon_aa6355c38961b1a058147224c6edb7d6);\n",
       "        \n",
       "    \n",
       "        var popup_111c81879bfcc2ac83b71feb8bdc4ec7 = L.popup({&quot;maxWidth&quot;: &quot;100%&quot;});\n",
       "\n",
       "        \n",
       "            \n",
       "                var html_e8113dfded724ceb8e8c02c4558eefe5 = $(`&lt;div id=&quot;html_e8113dfded724ceb8e8c02c4558eefe5&quot; style=&quot;width: 100.0%; height: 100.0%;&quot;&gt;station1/BV 0&lt;/div&gt;`)[0];\n",
       "                popup_111c81879bfcc2ac83b71feb8bdc4ec7.setContent(html_e8113dfded724ceb8e8c02c4558eefe5);\n",
       "            \n",
       "        \n",
       "\n",
       "        marker_7dae85f40b836a316d2f52bda09e9c2a.bindPopup(popup_111c81879bfcc2ac83b71feb8bdc4ec7)\n",
       "        ;\n",
       "\n",
       "        \n",
       "    \n",
       "    \n",
       "            var marker_64dc1d099647fb9a6d87065ee642136f = L.marker(\n",
       "                [45.575459485852086, 0.22898095991079212],\n",
       "                {}\n",
       "            ).addTo(feature_group_3e9b9360e3769f913f0f19bbf718f182);\n",
       "        \n",
       "    \n",
       "            var div_icon_497b5aea494a64a87809d3e1c6068850 = L.divIcon({&quot;className&quot;: &quot;empty&quot;, &quot;html&quot;: &quot;\\n            \\u003cdiv\\u003e\\u003csvg\\u003e\\n                \\u003ccircle cx=\\&quot;5\\&quot; cy=\\&quot;5\\&quot; r=\\&quot;5\\&quot;, fill=\\&quot;cyan\\&quot;, opacity=\\&quot;.9\\&quot; /\\u003e\\n            \\u003c/svg\\u003e\\u003c/div\\u003e&quot;});\n",
       "            marker_64dc1d099647fb9a6d87065ee642136f.setIcon(div_icon_497b5aea494a64a87809d3e1c6068850);\n",
       "        \n",
       "    \n",
       "        var popup_ca6ba7ec684c365c366e33d99d527343 = L.popup({&quot;maxWidth&quot;: &quot;100%&quot;});\n",
       "\n",
       "        \n",
       "            \n",
       "                var html_691ebce6e14e1003cea6994f30c0f3cc = $(`&lt;div id=&quot;html_691ebce6e14e1003cea6994f30c0f3cc&quot; style=&quot;width: 100.0%; height: 100.0%;&quot;&gt;station1/BV 0&lt;/div&gt;`)[0];\n",
       "                popup_ca6ba7ec684c365c366e33d99d527343.setContent(html_691ebce6e14e1003cea6994f30c0f3cc);\n",
       "            \n",
       "        \n",
       "\n",
       "        marker_64dc1d099647fb9a6d87065ee642136f.bindPopup(popup_ca6ba7ec684c365c366e33d99d527343)\n",
       "        ;\n",
       "\n",
       "        \n",
       "    \n",
       "    \n",
       "            var feature_group_73921705aac7939916ba2cf0b09f4170 = L.featureGroup(\n",
       "                {}\n",
       "            );\n",
       "        \n",
       "    \n",
       "            var marker_cb6209ce672f4200095d37c5b8cf05c7 = L.marker(\n",
       "                [45.576052039968395, 0.2074315809973353],\n",
       "                {}\n",
       "            ).addTo(feature_group_73921705aac7939916ba2cf0b09f4170);\n",
       "        \n",
       "    \n",
       "            var div_icon_30d4c2c11604de67c0850f938bf4bf37 = L.divIcon({&quot;className&quot;: &quot;empty&quot;, &quot;html&quot;: &quot;\\n            \\u003cdiv\\u003e\\u003csvg\\u003e\\n                \\u003crect x=\\&quot;-5\\&quot; y=\\&quot;-5\\&quot; width=\\&quot;20\\&quot;\\n                height=\\&quot;20\\&quot;, fill=\\&quot;grey\\&quot;, opacity=\\&quot;.8\\&quot; /\\u003e\\n            \\u003c/svg\\u003e\\u003c/div\\u003e&quot;});\n",
       "            marker_cb6209ce672f4200095d37c5b8cf05c7.setIcon(div_icon_30d4c2c11604de67c0850f938bf4bf37);\n",
       "        \n",
       "    \n",
       "        var popup_9f65a2c657ed8782ba0e388e1bce669e = L.popup({&quot;maxWidth&quot;: &quot;100%&quot;});\n",
       "\n",
       "        \n",
       "            \n",
       "                var html_2a20bc09240b731bcb5ce29e51917e22 = $(`&lt;div id=&quot;html_2a20bc09240b731bcb5ce29e51917e22&quot; style=&quot;width: 100.0%; height: 100.0%;&quot;&gt;0 station0 T0&lt;/div&gt;`)[0];\n",
       "                popup_9f65a2c657ed8782ba0e388e1bce669e.setContent(html_2a20bc09240b731bcb5ce29e51917e22);\n",
       "            \n",
       "        \n",
       "\n",
       "        marker_cb6209ce672f4200095d37c5b8cf05c7.bindPopup(popup_9f65a2c657ed8782ba0e388e1bce669e)\n",
       "        ;\n",
       "\n",
       "        \n",
       "    \n",
       "    \n",
       "            var marker_6beb264392e1c6ee8f60159e9d42f8c1 = L.marker(\n",
       "                [45.57592470945674, 0.20743158645630816],\n",
       "                {}\n",
       "            ).addTo(feature_group_73921705aac7939916ba2cf0b09f4170);\n",
       "        \n",
       "    \n",
       "            var div_icon_b80c6dfd905b0b04a6685f8ea65d59a5 = L.divIcon({&quot;className&quot;: &quot;empty&quot;, &quot;html&quot;: &quot;\\n            \\u003cdiv\\u003e\\u003csvg\\u003e\\n                \\u003crect x=\\&quot;-5\\&quot; y=\\&quot;-5\\&quot; width=\\&quot;20\\&quot;\\n                height=\\&quot;20\\&quot;, fill=\\&quot;grey\\&quot;, opacity=\\&quot;.8\\&quot; /\\u003e\\n            \\u003c/svg\\u003e\\u003c/div\\u003e&quot;});\n",
       "            marker_6beb264392e1c6ee8f60159e9d42f8c1.setIcon(div_icon_b80c6dfd905b0b04a6685f8ea65d59a5);\n",
       "        \n",
       "    \n",
       "        var popup_b521966bb3c08798d92e4cdca7c97c0f = L.popup({&quot;maxWidth&quot;: &quot;100%&quot;});\n",
       "\n",
       "        \n",
       "            \n",
       "                var html_ed164a6ea9bf73f96ebea46eae36fd11 = $(`&lt;div id=&quot;html_ed164a6ea9bf73f96ebea46eae36fd11&quot; style=&quot;width: 100.0%; height: 100.0%;&quot;&gt;0 station0 T1&lt;/div&gt;`)[0];\n",
       "                popup_b521966bb3c08798d92e4cdca7c97c0f.setContent(html_ed164a6ea9bf73f96ebea46eae36fd11);\n",
       "            \n",
       "        \n",
       "\n",
       "        marker_6beb264392e1c6ee8f60159e9d42f8c1.bindPopup(popup_b521966bb3c08798d92e4cdca7c97c0f)\n",
       "        ;\n",
       "\n",
       "        \n",
       "    \n",
       "    \n",
       "            var marker_e127afd31ee12091001211041c084a0a = L.marker(\n",
       "                [45.575618624058585, 0.22898097756356206],\n",
       "                {}\n",
       "            ).addTo(feature_group_73921705aac7939916ba2cf0b09f4170);\n",
       "        \n",
       "    \n",
       "            var div_icon_7b0a237c0b6d91872c309af2ef2f5ee9 = L.divIcon({&quot;className&quot;: &quot;empty&quot;, &quot;html&quot;: &quot;\\n            \\u003cdiv\\u003e\\u003csvg\\u003e\\n                \\u003crect x=\\&quot;-5\\&quot; y=\\&quot;-5\\&quot; width=\\&quot;20\\&quot;\\n                height=\\&quot;20\\&quot;, fill=\\&quot;grey\\&quot;, opacity=\\&quot;.8\\&quot; /\\u003e\\n            \\u003c/svg\\u003e\\u003c/div\\u003e&quot;});\n",
       "            marker_e127afd31ee12091001211041c084a0a.setIcon(div_icon_7b0a237c0b6d91872c309af2ef2f5ee9);\n",
       "        \n",
       "    \n",
       "        var popup_efb44cadfd53d4b4520968b80cfbb3f8 = L.popup({&quot;maxWidth&quot;: &quot;100%&quot;});\n",
       "\n",
       "        \n",
       "            \n",
       "                var html_486d00d7c5e5c88f7076c39ea5c8ef36 = $(`&lt;div id=&quot;html_486d00d7c5e5c88f7076c39ea5c8ef36&quot; style=&quot;width: 100.0%; height: 100.0%;&quot;&gt;0 station1 T4&lt;/div&gt;`)[0];\n",
       "                popup_efb44cadfd53d4b4520968b80cfbb3f8.setContent(html_486d00d7c5e5c88f7076c39ea5c8ef36);\n",
       "            \n",
       "        \n",
       "\n",
       "        marker_e127afd31ee12091001211041c084a0a.bindPopup(popup_efb44cadfd53d4b4520968b80cfbb3f8)\n",
       "        ;\n",
       "\n",
       "        \n",
       "    \n",
       "    \n",
       "            var marker_53e00f449e369ceeb05b179323c57bbe = L.marker(\n",
       "                [45.575459485852086, 0.22898095991079212],\n",
       "                {}\n",
       "            ).addTo(feature_group_73921705aac7939916ba2cf0b09f4170);\n",
       "        \n",
       "    \n",
       "            var div_icon_bead8c404ffa669fb503a21ff1ce1550 = L.divIcon({&quot;className&quot;: &quot;empty&quot;, &quot;html&quot;: &quot;\\n            \\u003cdiv\\u003e\\u003csvg\\u003e\\n                \\u003crect x=\\&quot;-5\\&quot; y=\\&quot;-5\\&quot; width=\\&quot;20\\&quot;\\n                height=\\&quot;20\\&quot;, fill=\\&quot;grey\\&quot;, opacity=\\&quot;.8\\&quot; /\\u003e\\n            \\u003c/svg\\u003e\\u003c/div\\u003e&quot;});\n",
       "            marker_53e00f449e369ceeb05b179323c57bbe.setIcon(div_icon_bead8c404ffa669fb503a21ff1ce1550);\n",
       "        \n",
       "    \n",
       "        var popup_1e878755e89b733dd86095c7a9db3b60 = L.popup({&quot;maxWidth&quot;: &quot;100%&quot;});\n",
       "\n",
       "        \n",
       "            \n",
       "                var html_3eb18784637263098e7e30bcd2f3a645 = $(`&lt;div id=&quot;html_3eb18784637263098e7e30bcd2f3a645&quot; style=&quot;width: 100.0%; height: 100.0%;&quot;&gt;0 station1 T5&lt;/div&gt;`)[0];\n",
       "                popup_1e878755e89b733dd86095c7a9db3b60.setContent(html_3eb18784637263098e7e30bcd2f3a645);\n",
       "            \n",
       "        \n",
       "\n",
       "        marker_53e00f449e369ceeb05b179323c57bbe.bindPopup(popup_1e878755e89b733dd86095c7a9db3b60)\n",
       "        ;\n",
       "\n",
       "        \n",
       "    \n",
       "    \n",
       "            var feature_group_da89b085ed0b1d901a9547ca1f1a9484 = L.featureGroup(\n",
       "                {}\n",
       "            );\n",
       "        \n",
       "    \n",
       "            var marker_0978ec19539b9bd1ab10baa407297318 = L.marker(\n",
       "                [45.575988410701974, 0.21],\n",
       "                {}\n",
       "            ).addTo(feature_group_da89b085ed0b1d901a9547ca1f1a9484);\n",
       "        \n",
       "    \n",
       "            var div_icon_97a44bca37f0428c2fa31c1fc7a48294 = L.divIcon({&quot;className&quot;: &quot;empty&quot;, &quot;html&quot;: &quot;\\n            \\u003cdiv\\u003e\\u003csvg\\u003e\\n                \\u003ccircle cx=\\&quot;5\\&quot; cy=\\&quot;5\\&quot; r=\\&quot;5\\&quot;, fill=\\&quot;black\\&quot;, opacity=\\&quot;.8\\&quot; /\\u003e\\n            \\u003c/svg\\u003e\\u003c/div\\u003e&quot;});\n",
       "            marker_0978ec19539b9bd1ab10baa407297318.setIcon(div_icon_97a44bca37f0428c2fa31c1fc7a48294);\n",
       "        \n",
       "    \n",
       "        var popup_939f2fdfd13357ee7adc504be83e7384 = L.popup({&quot;maxWidth&quot;: &quot;100%&quot;});\n",
       "\n",
       "        \n",
       "            \n",
       "                var html_bbd5d95d9c6109612f13a020c1bddb3a = $(`&lt;div id=&quot;html_bbd5d95d9c6109612f13a020c1bddb3a&quot; style=&quot;width: 100.0%; height: 100.0%;&quot;&gt;CVG&lt;/div&gt;`)[0];\n",
       "                popup_939f2fdfd13357ee7adc504be83e7384.setContent(html_bbd5d95d9c6109612f13a020c1bddb3a);\n",
       "            \n",
       "        \n",
       "\n",
       "        marker_0978ec19539b9bd1ab10baa407297318.bindPopup(popup_939f2fdfd13357ee7adc504be83e7384)\n",
       "        ;\n",
       "\n",
       "        \n",
       "    \n",
       "    \n",
       "            var marker_14c785ebcb8405023caf8c64369d089b = L.marker(\n",
       "                [45.575988230670404, 0.21642405916960833],\n",
       "                {}\n",
       "            ).addTo(feature_group_da89b085ed0b1d901a9547ca1f1a9484);\n",
       "        \n",
       "    \n",
       "            var div_icon_720965def6de07946a656a9d13f2318a = L.divIcon({&quot;className&quot;: &quot;empty&quot;, &quot;html&quot;: &quot;\\n            \\u003cdiv\\u003e\\u003csvg\\u003e\\n                \\u003ccircle cx=\\&quot;5\\&quot; cy=\\&quot;5\\&quot; r=\\&quot;5\\&quot;, fill=\\&quot;black\\&quot;, opacity=\\&quot;.8\\&quot; /\\u003e\\n            \\u003c/svg\\u003e\\u003c/div\\u003e&quot;});\n",
       "            marker_14c785ebcb8405023caf8c64369d089b.setIcon(div_icon_720965def6de07946a656a9d13f2318a);\n",
       "        \n",
       "    \n",
       "        var popup_2f1c73e74bb782c909c2c876fabc70eb = L.popup({&quot;maxWidth&quot;: &quot;100%&quot;});\n",
       "\n",
       "        \n",
       "            \n",
       "                var html_b4b38e6f3a04c363d598f33827f8109c = $(`&lt;div id=&quot;html_b4b38e6f3a04c363d598f33827f8109c&quot; style=&quot;width: 100.0%; height: 100.0%;&quot;&gt;L&lt;/div&gt;`)[0];\n",
       "                popup_2f1c73e74bb782c909c2c876fabc70eb.setContent(html_b4b38e6f3a04c363d598f33827f8109c);\n",
       "            \n",
       "        \n",
       "\n",
       "        marker_14c785ebcb8405023caf8c64369d089b.bindPopup(popup_2f1c73e74bb782c909c2c876fabc70eb)\n",
       "        ;\n",
       "\n",
       "        \n",
       "    \n",
       "    \n",
       "            var marker_7b114cf36d230a855867bade46a1e9c9 = L.marker(\n",
       "                [45.57553914131219, 0.22281597368346445],\n",
       "                {}\n",
       "            ).addTo(feature_group_da89b085ed0b1d901a9547ca1f1a9484);\n",
       "        \n",
       "    \n",
       "            var div_icon_15d6672d645e30b529d12aadd0061378 = L.divIcon({&quot;className&quot;: &quot;empty&quot;, &quot;html&quot;: &quot;\\n            \\u003cdiv\\u003e\\u003csvg\\u003e\\n                \\u003ccircle cx=\\&quot;5\\&quot; cy=\\&quot;5\\&quot; r=\\&quot;5\\&quot;, fill=\\&quot;black\\&quot;, opacity=\\&quot;.8\\&quot; /\\u003e\\n            \\u003c/svg\\u003e\\u003c/div\\u003e&quot;});\n",
       "            marker_7b114cf36d230a855867bade46a1e9c9.setIcon(div_icon_15d6672d645e30b529d12aadd0061378);\n",
       "        \n",
       "    \n",
       "        var popup_1a570ed869e97af84e258b0c7a201fd3 = L.popup({&quot;maxWidth&quot;: &quot;100%&quot;});\n",
       "\n",
       "        \n",
       "            \n",
       "                var html_60458b5ca571c5407fc2df9351c2a219 = $(`&lt;div id=&quot;html_60458b5ca571c5407fc2df9351c2a219&quot; style=&quot;width: 100.0%; height: 100.0%;&quot;&gt;DVG&lt;/div&gt;`)[0];\n",
       "                popup_1a570ed869e97af84e258b0c7a201fd3.setContent(html_60458b5ca571c5407fc2df9351c2a219);\n",
       "            \n",
       "        \n",
       "\n",
       "        marker_7b114cf36d230a855867bade46a1e9c9.bindPopup(popup_1a570ed869e97af84e258b0c7a201fd3)\n",
       "        ;\n",
       "\n",
       "        \n",
       "    \n",
       "    \n",
       "            L.control.fullscreen(\n",
       "                {&quot;forceSeparateButton&quot;: false, &quot;position&quot;: &quot;topleft&quot;, &quot;title&quot;: &quot;Full Screen&quot;, &quot;titleCancel&quot;: &quot;Exit Full Screen&quot;}\n",
       "            ).addTo(map_4eb409d96bba32b9368f4c7f305f4ff1);\n",
       "        \n",
       "    \n",
       "            var feature_group_5f15541cab19552b12efcced0d44a097 = L.featureGroup(\n",
       "                {}\n",
       "            );\n",
       "        \n",
       "    \n",
       "            var rectangle_7d7e51092506aeefcb68baf781d9922e = L.rectangle(\n",
       "                [[45.57600431801858, 0.2035779438974819], [45.57606788984581, 0.20935789524933382]],\n",
       "                {&quot;bubblingMouseEvents&quot;: true, &quot;color&quot;: &quot;#d902f2&quot;, &quot;dashArray&quot;: null, &quot;dashOffset&quot;: null, &quot;fill&quot;: true, &quot;fillColor&quot;: &quot;#d902f2&quot;, &quot;fillOpacity&quot;: 0.2, &quot;fillRule&quot;: &quot;evenodd&quot;, &quot;lineCap&quot;: &quot;round&quot;, &quot;lineJoin&quot;: &quot;round&quot;, &quot;noClip&quot;: false, &quot;opacity&quot;: 1.0, &quot;smoothFactor&quot;: 1.0, &quot;stroke&quot;: true, &quot;weight&quot;: 1}\n",
       "            ).addTo(feature_group_5f15541cab19552b12efcced0d44a097);\n",
       "        \n",
       "    \n",
       "        var popup_8e8676cf597e782bcc382de557e9b7ef = L.popup({&quot;maxWidth&quot;: &quot;100%&quot;});\n",
       "\n",
       "        \n",
       "            \n",
       "                var html_2085845a8f88df2cce87564f08aabfe5 = $(`&lt;div id=&quot;html_2085845a8f88df2cce87564f08aabfe5&quot; style=&quot;width: 100.0%; height: 100.0%;&quot;&gt;D0&lt;-&gt;buffer_stop.0&lt;/div&gt;`)[0];\n",
       "                popup_8e8676cf597e782bcc382de557e9b7ef.setContent(html_2085845a8f88df2cce87564f08aabfe5);\n",
       "            \n",
       "        \n",
       "\n",
       "        rectangle_7d7e51092506aeefcb68baf781d9922e.bindPopup(popup_8e8676cf597e782bcc382de557e9b7ef)\n",
       "        ;\n",
       "\n",
       "        \n",
       "    \n",
       "    \n",
       "            var rectangle_54314ec112a5ddd83eb9787c4823737b = L.rectangle(\n",
       "                [[45.575972485390665, 0.20935789524933382], [45.57600431801858, 0.21064240591696082]],\n",
       "                {&quot;bubblingMouseEvents&quot;: true, &quot;color&quot;: &quot;#00ff00&quot;, &quot;dashArray&quot;: null, &quot;dashOffset&quot;: null, &quot;fill&quot;: true, &quot;fillColor&quot;: &quot;#00ff00&quot;, &quot;fillOpacity&quot;: 0.2, &quot;fillRule&quot;: &quot;evenodd&quot;, &quot;lineCap&quot;: &quot;round&quot;, &quot;lineJoin&quot;: &quot;round&quot;, &quot;noClip&quot;: false, &quot;opacity&quot;: 1.0, &quot;smoothFactor&quot;: 1.0, &quot;stroke&quot;: true, &quot;weight&quot;: 1}\n",
       "            ).addTo(feature_group_5f15541cab19552b12efcced0d44a097);\n",
       "        \n",
       "    \n",
       "        var popup_6f99ad46708c6bdc4ea5e0e420b245f9 = L.popup({&quot;maxWidth&quot;: &quot;100%&quot;});\n",
       "\n",
       "        \n",
       "            \n",
       "                var html_10f9ab77283eae2a07f1336ab2b6d60b = $(`&lt;div id=&quot;html_10f9ab77283eae2a07f1336ab2b6d60b&quot; style=&quot;width: 100.0%; height: 100.0%;&quot;&gt;CVG&lt;/div&gt;`)[0];\n",
       "                popup_6f99ad46708c6bdc4ea5e0e420b245f9.setContent(html_10f9ab77283eae2a07f1336ab2b6d60b);\n",
       "            \n",
       "        \n",
       "\n",
       "        rectangle_54314ec112a5ddd83eb9787c4823737b.bindPopup(popup_6f99ad46708c6bdc4ea5e0e420b245f9)\n",
       "        ;\n",
       "\n",
       "        \n",
       "    \n",
       "    \n",
       "            var rectangle_1f42032ec73c6bc44180d3a27626cac3 = L.rectangle(\n",
       "                [[45.57558405024801, 0.21064240591696082], [45.57598839269882, 0.22217678223207885]],\n",
       "                {&quot;bubblingMouseEvents&quot;: true, &quot;color&quot;: &quot;#038ee4&quot;, &quot;dashArray&quot;: null, &quot;dashOffset&quot;: null, &quot;fill&quot;: true, &quot;fillColor&quot;: &quot;#038ee4&quot;, &quot;fillOpacity&quot;: 0.2, &quot;fillRule&quot;: &quot;evenodd&quot;, &quot;lineCap&quot;: &quot;round&quot;, &quot;lineJoin&quot;: &quot;round&quot;, &quot;noClip&quot;: false, &quot;opacity&quot;: 1.0, &quot;smoothFactor&quot;: 1.0, &quot;stroke&quot;: true, &quot;weight&quot;: 1}\n",
       "            ).addTo(feature_group_5f15541cab19552b12efcced0d44a097);\n",
       "        \n",
       "    \n",
       "        var popup_d60626f42cda925142aef13a3ae054d5 = L.popup({&quot;maxWidth&quot;: &quot;100%&quot;});\n",
       "\n",
       "        \n",
       "            \n",
       "                var html_cb7e32889d44439921bfe10a2a40d9b3 = $(`&lt;div id=&quot;html_cb7e32889d44439921bfe10a2a40d9b3&quot; style=&quot;width: 100.0%; height: 100.0%;&quot;&gt;D2&lt;-&gt;D3&lt;/div&gt;`)[0];\n",
       "                popup_d60626f42cda925142aef13a3ae054d5.setContent(html_cb7e32889d44439921bfe10a2a40d9b3);\n",
       "            \n",
       "        \n",
       "\n",
       "        rectangle_1f42032ec73c6bc44180d3a27626cac3.bindPopup(popup_d60626f42cda925142aef13a3ae054d5)\n",
       "        ;\n",
       "\n",
       "        \n",
       "    \n",
       "    \n",
       "            var rectangle_8485e588edd35a7cb04d7e338f875c9e = L.rectangle(\n",
       "                [[45.575908751639325, 0.20357796209690945], [45.575972485390665, 0.20935789661407703]],\n",
       "                {&quot;bubblingMouseEvents&quot;: true, &quot;color&quot;: &quot;#ff8000&quot;, &quot;dashArray&quot;: null, &quot;dashOffset&quot;: null, &quot;fill&quot;: true, &quot;fillColor&quot;: &quot;#ff8000&quot;, &quot;fillOpacity&quot;: 0.2, &quot;fillRule&quot;: &quot;evenodd&quot;, &quot;lineCap&quot;: &quot;round&quot;, &quot;lineJoin&quot;: &quot;round&quot;, &quot;noClip&quot;: false, &quot;opacity&quot;: 1.0, &quot;smoothFactor&quot;: 1.0, &quot;stroke&quot;: true, &quot;weight&quot;: 1}\n",
       "            ).addTo(feature_group_5f15541cab19552b12efcced0d44a097);\n",
       "        \n",
       "    \n",
       "        var popup_e770a78751bd9fe93433112ad4b2ca6f = L.popup({&quot;maxWidth&quot;: &quot;100%&quot;});\n",
       "\n",
       "        \n",
       "            \n",
       "                var html_237e366861d8d14f8f0c2e04a6099eb0 = $(`&lt;div id=&quot;html_237e366861d8d14f8f0c2e04a6099eb0&quot; style=&quot;width: 100.0%; height: 100.0%;&quot;&gt;D1&lt;-&gt;buffer_stop.1&lt;/div&gt;`)[0];\n",
       "                popup_e770a78751bd9fe93433112ad4b2ca6f.setContent(html_237e366861d8d14f8f0c2e04a6099eb0);\n",
       "            \n",
       "        \n",
       "\n",
       "        rectangle_8485e588edd35a7cb04d7e338f875c9e.bindPopup(popup_e770a78751bd9fe93433112ad4b2ca6f)\n",
       "        ;\n",
       "\n",
       "        \n",
       "    \n",
       "    \n",
       "            var rectangle_59bb305da97b0068b1900f7de654ae6e = L.rectangle(\n",
       "                [[45.5755232210009, 0.22217678223207885], [45.57558405024801, 0.22345787261419756]],\n",
       "                {&quot;bubblingMouseEvents&quot;: true, &quot;color&quot;: &quot;#548642&quot;, &quot;dashArray&quot;: null, &quot;dashOffset&quot;: null, &quot;fill&quot;: true, &quot;fillColor&quot;: &quot;#548642&quot;, &quot;fillOpacity&quot;: 0.2, &quot;fillRule&quot;: &quot;evenodd&quot;, &quot;lineCap&quot;: &quot;round&quot;, &quot;lineJoin&quot;: &quot;round&quot;, &quot;noClip&quot;: false, &quot;opacity&quot;: 1.0, &quot;smoothFactor&quot;: 1.0, &quot;stroke&quot;: true, &quot;weight&quot;: 1}\n",
       "            ).addTo(feature_group_5f15541cab19552b12efcced0d44a097);\n",
       "        \n",
       "    \n",
       "        var popup_f474d672a6fa52bff9dbd1a356b0347b = L.popup({&quot;maxWidth&quot;: &quot;100%&quot;});\n",
       "\n",
       "        \n",
       "            \n",
       "                var html_d604a876b45b2ec28cda1f8e51b426be = $(`&lt;div id=&quot;html_d604a876b45b2ec28cda1f8e51b426be&quot; style=&quot;width: 100.0%; height: 100.0%;&quot;&gt;DVG&lt;/div&gt;`)[0];\n",
       "                popup_f474d672a6fa52bff9dbd1a356b0347b.setContent(html_d604a876b45b2ec28cda1f8e51b426be);\n",
       "            \n",
       "        \n",
       "\n",
       "        rectangle_59bb305da97b0068b1900f7de654ae6e.bindPopup(popup_f474d672a6fa52bff9dbd1a356b0347b)\n",
       "        ;\n",
       "\n",
       "        \n",
       "    \n",
       "    \n",
       "            var rectangle_87f65cd163bf9d9c85ed72a18634e859 = L.rectangle(\n",
       "                [[45.57555504365724, 0.22345787261419756], [45.57561862045744, 0.2292379784068491]],\n",
       "                {&quot;bubblingMouseEvents&quot;: true, &quot;color&quot;: &quot;#0000ff&quot;, &quot;dashArray&quot;: null, &quot;dashOffset&quot;: null, &quot;fill&quot;: true, &quot;fillColor&quot;: &quot;#0000ff&quot;, &quot;fillOpacity&quot;: 0.2, &quot;fillRule&quot;: &quot;evenodd&quot;, &quot;lineCap&quot;: &quot;round&quot;, &quot;lineJoin&quot;: &quot;round&quot;, &quot;noClip&quot;: false, &quot;opacity&quot;: 1.0, &quot;smoothFactor&quot;: 1.0, &quot;stroke&quot;: true, &quot;weight&quot;: 1}\n",
       "            ).addTo(feature_group_5f15541cab19552b12efcced0d44a097);\n",
       "        \n",
       "    \n",
       "        var popup_d952d71c79e6b19f7c819c2146ee76d9 = L.popup({&quot;maxWidth&quot;: &quot;100%&quot;});\n",
       "\n",
       "        \n",
       "            \n",
       "                var html_2c078ee713e9aa33bcd8f991f2e111e3 = $(`&lt;div id=&quot;html_2c078ee713e9aa33bcd8f991f2e111e3&quot; style=&quot;width: 100.0%; height: 100.0%;&quot;&gt;D4&lt;-&gt;buffer_stop.2&lt;/div&gt;`)[0];\n",
       "                popup_d952d71c79e6b19f7c819c2146ee76d9.setContent(html_2c078ee713e9aa33bcd8f991f2e111e3);\n",
       "            \n",
       "        \n",
       "\n",
       "        rectangle_87f65cd163bf9d9c85ed72a18634e859.bindPopup(popup_d952d71c79e6b19f7c819c2146ee76d9)\n",
       "        ;\n",
       "\n",
       "        \n",
       "    \n",
       "    \n",
       "            var rectangle_69d769106aa903ea10c67ad8f448a32d = L.rectangle(\n",
       "                [[45.575459482250956, 0.2234578703405344], [45.5755232210009, 0.22923796020785261]],\n",
       "                {&quot;bubblingMouseEvents&quot;: true, &quot;color&quot;: &quot;#65fead&quot;, &quot;dashArray&quot;: null, &quot;dashOffset&quot;: null, &quot;fill&quot;: true, &quot;fillColor&quot;: &quot;#65fead&quot;, &quot;fillOpacity&quot;: 0.2, &quot;fillRule&quot;: &quot;evenodd&quot;, &quot;lineCap&quot;: &quot;round&quot;, &quot;lineJoin&quot;: &quot;round&quot;, &quot;noClip&quot;: false, &quot;opacity&quot;: 1.0, &quot;smoothFactor&quot;: 1.0, &quot;stroke&quot;: true, &quot;weight&quot;: 1}\n",
       "            ).addTo(feature_group_5f15541cab19552b12efcced0d44a097);\n",
       "        \n",
       "    \n",
       "        var popup_0d7e09ad6eaa84e8919fddc4c25a9b66 = L.popup({&quot;maxWidth&quot;: &quot;100%&quot;});\n",
       "\n",
       "        \n",
       "            \n",
       "                var html_abf49a81e7b9423a67c7d05fd37113d6 = $(`&lt;div id=&quot;html_abf49a81e7b9423a67c7d05fd37113d6&quot; style=&quot;width: 100.0%; height: 100.0%;&quot;&gt;D5&lt;-&gt;buffer_stop.3&lt;/div&gt;`)[0];\n",
       "                popup_0d7e09ad6eaa84e8919fddc4c25a9b66.setContent(html_abf49a81e7b9423a67c7d05fd37113d6);\n",
       "            \n",
       "        \n",
       "\n",
       "        rectangle_69d769106aa903ea10c67ad8f448a32d.bindPopup(popup_0d7e09ad6eaa84e8919fddc4c25a9b66)\n",
       "        ;\n",
       "\n",
       "        \n",
       "    \n",
       "    \n",
       "            var layer_control_f1fa1b92988258b14b0848ad5ca4b5d0_layers = {\n",
       "                base_layers : {\n",
       "                    &quot;OpenStreetMap&quot; : tile_layer_ee522b0d1efe294a4db5dc519d57517a,\n",
       "                    &quot;Positron&quot; : tile_layer_b7128fe6d82b6319d5543ce891197f09,\n",
       "                    &quot;None&quot; : tile_layer_886c93c348317f7888d013202897c3e1,\n",
       "                },\n",
       "                overlays :  {\n",
       "                    &quot;Rails&quot; : feature_group_bd5b36446a6f46967654ca34211835c3,\n",
       "                    &quot;Detectors&quot; : feature_group_513a02a4801e02144c669911855a57b1,\n",
       "                    &quot;Buffer Stops&quot; : feature_group_1f792a842ac7b966c89c6eb17653b306,\n",
       "                    &quot;Signals&quot; : feature_group_5d84b4cf5b0a3be765a8aeb8de63ef2b,\n",
       "                    &quot;Operational Points&quot; : feature_group_3e9b9360e3769f913f0f19bbf718f182,\n",
       "                    &quot;Stations&quot; : feature_group_73921705aac7939916ba2cf0b09f4170,\n",
       "                    &quot;Switches&quot; : feature_group_da89b085ed0b1d901a9547ca1f1a9484,\n",
       "                    &quot;Zones&quot; : feature_group_5f15541cab19552b12efcced0d44a097,\n",
       "                },\n",
       "            };\n",
       "            let layer_control_f1fa1b92988258b14b0848ad5ca4b5d0 = L.control.layers(\n",
       "                layer_control_f1fa1b92988258b14b0848ad5ca4b5d0_layers.base_layers,\n",
       "                layer_control_f1fa1b92988258b14b0848ad5ca4b5d0_layers.overlays,\n",
       "                {&quot;autoZIndex&quot;: true, &quot;collapsed&quot;: true, &quot;position&quot;: &quot;topright&quot;}\n",
       "            ).addTo(map_4eb409d96bba32b9368f4c7f305f4ff1);\n",
       "\n",
       "        \n",
       "    \n",
       "            L.Control.TimeDimensionCustom = L.Control.TimeDimension.extend({\n",
       "                _getDisplayDateFormat: function(date){\n",
       "                    var newdate = new moment(date);\n",
       "                    console.log(newdate)\n",
       "                    return newdate.format(&quot;YYYY-MM-DD HH:mm:ss&quot;);\n",
       "                }\n",
       "            });\n",
       "            map_4eb409d96bba32b9368f4c7f305f4ff1.timeDimension = L.timeDimension(\n",
       "                {\n",
       "                    period: &quot;PT5S&quot;,\n",
       "                }\n",
       "            );\n",
       "            var timeDimensionControl = new L.Control.TimeDimensionCustom(\n",
       "                {&quot;autoPlay&quot;: false, &quot;loopButton&quot;: false, &quot;maxSpeed&quot;: 12, &quot;minSpeed&quot;: 1, &quot;playerOptions&quot;: {&quot;loop&quot;: false, &quot;startOver&quot;: true, &quot;transitionTime&quot;: 200}, &quot;position&quot;: &quot;bottomleft&quot;, &quot;speedSlider&quot;: true, &quot;timeSliderDragUpdate&quot;: false}\n",
       "            );\n",
       "            map_4eb409d96bba32b9368f4c7f305f4ff1.addControl(this.timeDimensionControl);\n",
       "\n",
       "            var geoJsonLayer = L.geoJson({&quot;type&quot;: &quot;FeatureCollection&quot;, &quot;features&quot;: [{&quot;type&quot;: &quot;Feature&quot;, &quot;geometry&quot;: {&quot;type&quot;: &quot;LineString&quot;, &quot;coordinates&quot;: [[0.20743158645630816, 45.57592470945674], [0.20752425669408758, 45.57592700784423], [0.2078002166637717, 45.57593385214457], [0.20818614475903593, 45.57594342385093], [0.20873878071645172, 45.57595713021015], [0.20948135050104533, 45.57597554726766], [0.21033595404500577, 45.575988401287], [0.21136806129846974, 45.57598837236263], [0.2125838809729588, 45.57598833828979], [0.2138709050607813, 45.575988302221475], [0.21536019729816935, 45.575969238907], [0.21689846609824617, 45.575945568395994], [0.21862283978580804, 45.57583374659937], [0.22037034396052674, 45.5757109687483], [0.2220097179281431, 45.57559578801467], [0.22348501774399512, 45.57555571614819], [0.22477051258056333, 45.575587562878994], [0.22594209074665927, 45.575613995408446], [0.22688109322492767, 45.57561731282104], [0.22765985707383482, 45.57561864257039], [0.22831322810284801, 45.57561863341523], [0.2287157118467203, 45.57561862777554], [0.22897531673724816, 45.57561862413791], [null, null]]}, &quot;properties&quot;: {&quot;times&quot;: [1727042400000.0, 1727042405220.265, 1727042410440.5298, 1727042415660.7947, 1727042420881.0596, 1727042426101.3245, 1727042431321.5894, 1727042436541.8542, 1727042441762.1191, 1727042446982.384, 1727042452202.649, 1727042457422.9138, 1727042462643.1785, 1727042467863.4434, 1727042473083.7083, 1727042478303.9731, 1727042483524.238, 1727042488744.503, 1727042493964.7678, 1727042499185.0327, 1727042504405.2976, 1727042509625.5625, 1727042514845.8274, 1727042520066.0923], &quot;icon&quot;: &quot;circle&quot;, &quot;iconstyle&quot;: {&quot;fillColor&quot;: &quot;black&quot;, &quot;fillOpacity&quot;: 0.9, &quot;stroke&quot;: &quot;false&quot;, &quot;radius&quot;: 3}, &quot;style&quot;: {&quot;weight&quot;: 0}}}, {&quot;type&quot;: &quot;Feature&quot;, &quot;geometry&quot;: {&quot;type&quot;: &quot;LineString&quot;, &quot;coordinates&quot;: [[0.20743158645630816, 45.57592470945674], [0.20752425669408758, 45.57592700784423], [0.2078002166637717, 45.57593385214457], [0.20818614475903593, 45.57594342385093], [0.20873878071645172, 45.57595713021015], [0.20948135050104533, 45.57597554726766], [0.21033595404500577, 45.575988401287], [0.21136806129846974, 45.57598837236263], [0.2125838809729588, 45.57598833828979], [0.2138709050607813, 45.575988302221475], [0.21536019729816935, 45.575969238907], [0.21689846609824617, 45.575945568395994], [0.21862283978580804, 45.57583374659937], [0.22037034396052674, 45.5757109687483], [0.2220097179281431, 45.57559578801467], [0.22348501774399512, 45.57555571614819], [0.22477051258056333, 45.575587562878994], [0.22594209074665927, 45.575613995408446], [0.22688109322492767, 45.57561731282104], [0.22765985707383482, 45.57561864257039], [0.22831322810284801, 45.57561863341523], [0.2287157118467203, 45.57561862777554], [0.22897531673724816, 45.57561862413791], [null, null]]}, &quot;properties&quot;: {&quot;times&quot;: [1727042700000.0, 1727042705220.265, 1727042710440.5298, 1727042715660.7947, 1727042720881.0596, 1727042726101.3245, 1727042731321.5894, 1727042736541.8542, 1727042741762.1191, 1727042746982.384, 1727042752202.649, 1727042757422.9138, 1727042762643.1785, 1727042767863.4434, 1727042773083.7083, 1727042778303.9731, 1727042783524.238, 1727042788744.503, 1727042793964.7678, 1727042799185.0327, 1727042804405.2976, 1727042809625.5625, 1727042814845.8274, 1727042820066.0923], &quot;icon&quot;: &quot;circle&quot;, &quot;iconstyle&quot;: {&quot;fillColor&quot;: &quot;black&quot;, &quot;fillOpacity&quot;: 0.9, &quot;stroke&quot;: &quot;false&quot;, &quot;radius&quot;: 3}, &quot;style&quot;: {&quot;weight&quot;: 0}}}, {&quot;type&quot;: &quot;Feature&quot;, &quot;geometry&quot;: {&quot;type&quot;: &quot;LineString&quot;, &quot;coordinates&quot;: [[0.20743158645630816, 45.57592470945674], [0.20752425669408758, 45.57592700784423], [0.2078002166637717, 45.57593385214457], [0.20818614475903593, 45.57594342385093], [0.20873878071645172, 45.57595713021015], [0.20948135050104533, 45.57597554726766], [0.21033595404500577, 45.575988401287], [0.21136806129846974, 45.57598837236263], [0.2125838809729588, 45.57598833828979], [0.2138709050607813, 45.575988302221475], [0.21536019729816935, 45.575969238907], [0.21689846609824617, 45.575945568395994], [0.21862283978580804, 45.57583374659937], [0.22037034396052674, 45.5757109687483], [0.2220097179281431, 45.57559578801467], [0.2234850153741815, 45.57552254775018], [0.22477050565741255, 45.575490665039396], [0.22594207982163547, 45.575464199709955], [0.22688108011241143, 45.575460855950396], [0.22765984222895855, 45.575459504363806], [0.22831321186930476, 45.57545949520868], [0.22871569475774292, 45.57545948956903], [0.22897529909650965, 45.575459485931404], [null, null]]}, &quot;properties&quot;: {&quot;times&quot;: [1727042600000.0, 1727042605220.265, 1727042610440.5298, 1727042615660.7947, 1727042620881.0596, 1727042626101.3245, 1727042631321.5894, 1727042636541.8542, 1727042641762.1191, 1727042646982.384, 1727042652202.649, 1727042657422.9138, 1727042662643.1785, 1727042667863.4434, 1727042673083.7083, 1727042678303.9731, 1727042683524.238, 1727042688744.503, 1727042693964.7678, 1727042699185.0327, 1727042704405.2976, 1727042709625.5625, 1727042714845.8274, 1727042720066.0923], &quot;icon&quot;: &quot;circle&quot;, &quot;iconstyle&quot;: {&quot;fillColor&quot;: &quot;black&quot;, &quot;fillOpacity&quot;: 0.9, &quot;stroke&quot;: &quot;false&quot;, &quot;radius&quot;: 3}, &quot;style&quot;: {&quot;weight&quot;: 0}}}]}, {\n",
       "                    pointToLayer: function (feature, latLng) {\n",
       "                        if (feature.properties.icon == &#x27;marker&#x27;) {\n",
       "                            if(feature.properties.iconstyle){\n",
       "                                return new L.Marker(latLng, {\n",
       "                                    icon: L.icon(feature.properties.iconstyle)});\n",
       "                            }\n",
       "                            //else\n",
       "                            return new L.Marker(latLng);\n",
       "                        }\n",
       "                        if (feature.properties.icon == &#x27;circle&#x27;) {\n",
       "                            if (feature.properties.iconstyle) {\n",
       "                                return new L.circleMarker(latLng, feature.properties.iconstyle)\n",
       "                                };\n",
       "                            //else\n",
       "                            return new L.circleMarker(latLng);\n",
       "                        }\n",
       "                        //else\n",
       "\n",
       "                        return new L.Marker(latLng);\n",
       "                    },\n",
       "                    style: function (feature) {\n",
       "                        return feature.properties.style;\n",
       "                    },\n",
       "                    onEachFeature: function(feature, layer) {\n",
       "                        if (feature.properties.popup) {\n",
       "                        layer.bindPopup(feature.properties.popup);\n",
       "                        }\n",
       "                        if (feature.properties.tooltip) {\n",
       "                        layer.bindTooltip(feature.properties.tooltip);\n",
       "                        }\n",
       "                    }\n",
       "                })\n",
       "\n",
       "            var timestamped_geo_json_4c259707bb170dc1580c4fc19305e829 = L.timeDimension.layer.geoJson(\n",
       "                geoJsonLayer,\n",
       "                {\n",
       "                    updateTimeDimension: true,\n",
       "                    addlastPoint: true,\n",
       "                    duration: undefined,\n",
       "                }\n",
       "            ).addTo(map_4eb409d96bba32b9368f4c7f305f4ff1);\n",
       "        \n",
       "&lt;/script&gt;\n",
       "&lt;/html&gt;\" style=\"position:absolute;width:100%;height:100%;left:0;top:0;border:none !important;\" allowfullscreen webkitallowfullscreen mozallowfullscreen></iframe></div></div>"
      ],
      "text/plain": [
       "<folium.folium.Map at 0x7eff9d00a830>"
      ]
     },
     "execution_count": 41,
     "metadata": {},
     "output_type": "execute_result"
    }
   ],
   "source": [
    "sim.folium_results()"
   ]
  },
  {
   "cell_type": "code",
   "execution_count": null,
   "metadata": {},
   "outputs": [],
   "source": []
  }
 ],
 "metadata": {
  "kernelspec": {
   "display_name": ".venv",
   "language": "python",
   "name": "python3"
  },
  "language_info": {
   "codemirror_mode": {
    "name": "ipython",
    "version": 3
   },
   "file_extension": ".py",
   "mimetype": "text/x-python",
   "name": "python",
   "nbconvert_exporter": "python",
   "pygments_lexer": "ipython3",
   "version": "3.10.13"
  }
 },
 "nbformat": 4,
 "nbformat_minor": 2
}
