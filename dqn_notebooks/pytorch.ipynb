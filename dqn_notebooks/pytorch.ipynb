{
 "cells": [
  {
   "cell_type": "code",
   "execution_count": 504,
   "metadata": {},
   "outputs": [],
   "source": [
    "import numpy as np\n",
    "import torch"
   ]
  },
  {
   "cell_type": "code",
   "execution_count": 505,
   "metadata": {},
   "outputs": [],
   "source": [
    "data = [[1, 2],[3, 4]]\n",
    "x_data = torch.tensor(data)"
   ]
  },
  {
   "cell_type": "code",
   "execution_count": 506,
   "metadata": {},
   "outputs": [
    {
     "data": {
      "text/plain": [
       "(torch.Size([2, 2]), torch.int64, device(type='cpu'))"
      ]
     },
     "execution_count": 506,
     "metadata": {},
     "output_type": "execute_result"
    }
   ],
   "source": [
    "x_data.shape, x_data.dtype, x_data.device"
   ]
  },
  {
   "cell_type": "code",
   "execution_count": 507,
   "metadata": {},
   "outputs": [
    {
     "data": {
      "text/plain": [
       "tensor([[1, 0],\n",
       "        [0, 4]])"
      ]
     },
     "execution_count": 507,
     "metadata": {},
     "output_type": "execute_result"
    }
   ],
   "source": [
    "x_data @ torch.ones_like(x_data)\n",
    "x_data * torch.ones_like(x_data)\n",
    "x_data @ torch.eye(2,2, dtype=torch.long)\n",
    "x_data * torch.eye(2,2, dtype=torch.long)"
   ]
  },
  {
   "cell_type": "code",
   "execution_count": 508,
   "metadata": {},
   "outputs": [
    {
     "data": {
      "text/plain": [
       "torch.int64"
      ]
     },
     "execution_count": 508,
     "metadata": {},
     "output_type": "execute_result"
    }
   ],
   "source": [
    "x_data.dtype"
   ]
  },
  {
   "cell_type": "code",
   "execution_count": 509,
   "metadata": {},
   "outputs": [
    {
     "data": {
      "text/plain": [
       "array([[1, 2],\n",
       "       [3, 4]])"
      ]
     },
     "execution_count": 509,
     "metadata": {},
     "output_type": "execute_result"
    }
   ],
   "source": [
    "x_data.numpy()"
   ]
  },
  {
   "cell_type": "code",
   "execution_count": 510,
   "metadata": {},
   "outputs": [
    {
     "name": "stdout",
     "output_type": "stream",
     "text": [
      "Using cpu device\n"
     ]
    }
   ],
   "source": [
    "device = \"cuda\" if torch.cuda.is_available() else \"cpu\"\n",
    "print(f\"Using {device} device\")"
   ]
  },
  {
   "attachments": {},
   "cell_type": "markdown",
   "metadata": {},
   "source": [
    "# pyG Dataset"
   ]
  },
  {
   "cell_type": "code",
   "execution_count": 511,
   "metadata": {},
   "outputs": [],
   "source": [
    "import numpy as np\n",
    "import networkx as nx\n",
    "import torch"
   ]
  },
  {
   "cell_type": "code",
   "execution_count": 512,
   "metadata": {},
   "outputs": [],
   "source": [
    "from torch_geometric.data import Data\n",
    "from torch_geometric.loader import DataLoader\n",
    "from torch_geometric.utils import from_networkx, index_to_mask, mask_to_index"
   ]
  },
  {
   "cell_type": "code",
   "execution_count": 513,
   "metadata": {},
   "outputs": [],
   "source": [
    "G = nx.DiGraph()\n",
    "G.add_edges_from([\n",
    "    (0, 2),\n",
    "    (1, 2),\n",
    "    (2, 3),\n",
    "    (3, 4),\n",
    "    (4, 5),\n",
    "    (4, 6)\n",
    "])"
   ]
  },
  {
   "cell_type": "code",
   "execution_count": 514,
   "metadata": {},
   "outputs": [
    {
     "data": {
      "text/plain": [
       "tensor([False, False,  True])"
      ]
     },
     "execution_count": 514,
     "metadata": {},
     "output_type": "execute_result"
    }
   ],
   "source": [
    "torch.tensor([2])\n",
    "index_to_mask(torch.tensor([2]))"
   ]
  },
  {
   "cell_type": "code",
   "execution_count": 515,
   "metadata": {},
   "outputs": [],
   "source": [
    "d = from_networkx(G)\n",
    "d.train_mask = index_to_mask(torch.tensor([2]), size=d.num_nodes)\n",
    "d2 = from_networkx(G)\n",
    "d2.train_mask = index_to_mask(torch.tensor([3]), size=d.num_nodes)"
   ]
  },
  {
   "cell_type": "code",
   "execution_count": 516,
   "metadata": {},
   "outputs": [],
   "source": [
    "loader = DataLoader([d, d2, d, d2], batch_size=3, shuffle=True)"
   ]
  },
  {
   "cell_type": "code",
   "execution_count": 517,
   "metadata": {},
   "outputs": [
    {
     "name": "stdout",
     "output_type": "stream",
     "text": [
      "tensor([False, False, False,  True, False, False, False, False, False,  True,\n",
      "        False, False, False, False, False, False, False,  True, False, False,\n",
      "        False])\n",
      "tensor([False, False,  True, False, False, False, False])\n"
     ]
    }
   ],
   "source": [
    "for data in loader:\n",
    "    print(data.train_mask)"
   ]
  },
  {
   "cell_type": "code",
   "execution_count": 518,
   "metadata": {},
   "outputs": [
    {
     "data": {
      "text/plain": [
       "tensor([0.9403])"
      ]
     },
     "execution_count": 518,
     "metadata": {},
     "output_type": "execute_result"
    }
   ],
   "source": [
    "out = torch.rand(7)\n",
    "out[data.train_mask]"
   ]
  },
  {
   "cell_type": "code",
   "execution_count": 519,
   "metadata": {},
   "outputs": [
    {
     "data": {
      "text/plain": [
       "[{'edge_index': tensor([[0, 1, 2, 3, 4, 4],\n",
       "         [1, 3, 1, 4, 5, 6]]), 'num_nodes': 7, 'train_mask': tensor([False, False,  True, False, False, False, False])}]"
      ]
     },
     "execution_count": 519,
     "metadata": {},
     "output_type": "execute_result"
    }
   ],
   "source": [
    "d.node_stores"
   ]
  },
  {
   "cell_type": "code",
   "execution_count": 520,
   "metadata": {},
   "outputs": [],
   "source": [
    "from torch_geometric.utils import to_networkx\n",
    "G2 = to_networkx(d)\n",
    "# nx.draw_networkx(G2)"
   ]
  },
  {
   "cell_type": "code",
   "execution_count": 521,
   "metadata": {},
   "outputs": [],
   "source": [
    "# nx.draw_networkx(G)"
   ]
  },
  {
   "cell_type": "code",
   "execution_count": 522,
   "metadata": {},
   "outputs": [],
   "source": [
    "G = nx.DiGraph()\n",
    "G.add_edges_from([\n",
    "    ('A', 'C'),\n",
    "    ('B', 'C'),\n",
    "    ('C', 'D'),\n",
    "    ('D', 'E'),\n",
    "    ('D', 'F'),\n",
    "])\n",
    "\n",
    "attr = {node:[float(i), float(i+1)] for i,node in enumerate(G.nodes)}\n",
    "nx.set_node_attributes(G, attr, name='toto')\n",
    "G = nx.convert_node_labels_to_integers(G, label_attribute='name')"
   ]
  },
  {
   "cell_type": "code",
   "execution_count": 523,
   "metadata": {},
   "outputs": [
    {
     "data": {
      "text/plain": [
       "{'A': [0.0, 1.0],\n",
       " 'C': [1.0, 2.0],\n",
       " 'B': [2.0, 3.0],\n",
       " 'D': [3.0, 4.0],\n",
       " 'E': [4.0, 5.0],\n",
       " 'F': [5.0, 6.0]}"
      ]
     },
     "execution_count": 523,
     "metadata": {},
     "output_type": "execute_result"
    }
   ],
   "source": [
    "attr"
   ]
  },
  {
   "cell_type": "code",
   "execution_count": 524,
   "metadata": {},
   "outputs": [
    {
     "data": {
      "text/plain": [
       "(Data(edge_index=[2, 5], name=[6], x=[6, 2], train_mask=[6], y=[6, 2]),\n",
       " [{'edge_index': tensor([[1, 1, 3, 4, 5],\n",
       "          [0, 2, 1, 3, 3]]), 'name': ['A', 'C', 'B', 'D', 'E', 'F'], 'x': tensor([[0., 1.],\n",
       "          [1., 2.],\n",
       "          [2., 3.],\n",
       "          [3., 4.],\n",
       "          [4., 5.],\n",
       "          [5., 6.]]), 'train_mask': tensor([False,  True, False, False, False, False]), 'y': tensor([[ 0., 10.],\n",
       "          [ 0., 10.],\n",
       "          [ 0., 10.],\n",
       "          [ 0., 10.],\n",
       "          [ 0., 10.],\n",
       "          [ 0., 10.]])}])"
      ]
     },
     "execution_count": 524,
     "metadata": {},
     "output_type": "execute_result"
    }
   ],
   "source": [
    "d = from_networkx(G.reverse(), group_node_attrs=['toto'])\n",
    "d.train_mask = index_to_mask(torch.tensor(d.name.index('C')), size=d.num_nodes)\n",
    "d.y = torch.tensor([[0., 10.]]*d.num_nodes)\n",
    "d, d.node_stores"
   ]
  },
  {
   "cell_type": "code",
   "execution_count": 525,
   "metadata": {},
   "outputs": [
    {
     "data": {
      "text/plain": [
       "(2,\n",
       " tensor([[0., 1.],\n",
       "         [1., 2.],\n",
       "         [2., 3.],\n",
       "         [3., 4.],\n",
       "         [4., 5.],\n",
       "         [5., 6.]]),\n",
       " torch.float32,\n",
       " True,\n",
       " tensor([[ 0., 10.],\n",
       "         [ 0., 10.],\n",
       "         [ 0., 10.],\n",
       "         [ 0., 10.],\n",
       "         [ 0., 10.],\n",
       "         [ 0., 10.]]))"
      ]
     },
     "execution_count": 525,
     "metadata": {},
     "output_type": "execute_result"
    }
   ],
   "source": [
    "d.num_node_features, d.x, d.x.dtype, d.validate(), d.y"
   ]
  },
  {
   "cell_type": "code",
   "execution_count": 526,
   "metadata": {},
   "outputs": [],
   "source": [
    "d2 = Data.clone(d)\n",
    "d2.x += 1\n",
    "d2.train_mask = index_to_mask(torch.tensor(2), size=d2.num_nodes)"
   ]
  },
  {
   "cell_type": "code",
   "execution_count": 527,
   "metadata": {},
   "outputs": [],
   "source": [
    "loader = DataLoader([d, d2]*3, batch_size=4)"
   ]
  },
  {
   "cell_type": "code",
   "execution_count": 528,
   "metadata": {},
   "outputs": [
    {
     "data": {
      "text/plain": [
       "DataBatch(edge_index=[2, 20], name=[4], x=[24, 2], train_mask=[24], y=[24, 2], batch=[24], ptr=[5])"
      ]
     },
     "metadata": {},
     "output_type": "display_data"
    },
    {
     "data": {
      "text/plain": [
       "DataBatch(edge_index=[2, 10], name=[2], x=[12, 2], train_mask=[12], y=[12, 2], batch=[12], ptr=[3])"
      ]
     },
     "metadata": {},
     "output_type": "display_data"
    }
   ],
   "source": [
    "for batch in loader:\n",
    "    display(batch)"
   ]
  },
  {
   "cell_type": "code",
   "execution_count": 545,
   "metadata": {},
   "outputs": [],
   "source": [
    "import torch.nn.functional as F\n",
    "from torch.nn import Linear\n",
    "from torch_geometric.nn import GCNConv\n",
    "\n",
    "class DQGCN(torch.nn.Module):\n",
    "    def __init__(self):\n",
    "        super().__init__()\n",
    "        self.conv1 = GCNConv(d.num_node_features, 16)\n",
    "        self.conv2 = GCNConv(16, 8)\n",
    "        self.linear = Linear(8, 2)\n",
    "\n",
    "    def forward(self, data):\n",
    "        x, edge_index = data.x, data.edge_index\n",
    "\n",
    "        x = F.relu(self.conv1(x, edge_index))\n",
    "        x = F.relu(self.conv2(x, edge_index))\n",
    "        x = self.linear(x)\n",
    "\n",
    "        return x"
   ]
  },
  {
   "cell_type": "code",
   "execution_count": 546,
   "metadata": {},
   "outputs": [
    {
     "data": {
      "text/plain": [
       "device(type='cpu')"
      ]
     },
     "execution_count": 546,
     "metadata": {},
     "output_type": "execute_result"
    }
   ],
   "source": [
    "device = torch.device('cuda' if torch.cuda.is_available() else 'cpu')\n"
   ]
  },
  {
   "cell_type": "code",
   "execution_count": 535,
   "metadata": {},
   "outputs": [],
   "source": [
    "from torch.nn import SmoothL1Loss, MSELoss"
   ]
  },
  {
   "cell_type": "code",
   "execution_count": 567,
   "metadata": {},
   "outputs": [
    {
     "data": {
      "text/plain": [
       "(tensor([[ 0.3873, -0.4448]], grad_fn=<IndexBackward0>),\n",
       " tensor([[ 0.3149, -0.4063]], grad_fn=<IndexBackward0>))"
      ]
     },
     "execution_count": 567,
     "metadata": {},
     "output_type": "execute_result"
    }
   ],
   "source": [
    "model = DQGCN().to(device)\n",
    "model(d)[d.train_mask], model(d2)[d2.train_mask]"
   ]
  },
  {
   "cell_type": "code",
   "execution_count": 568,
   "metadata": {},
   "outputs": [],
   "source": [
    "optimizer = torch.optim.Adam(model.parameters(), lr=1e-2)"
   ]
  },
  {
   "cell_type": "code",
   "execution_count": 569,
   "metadata": {},
   "outputs": [],
   "source": [
    "loss_function = SmoothL1Loss()\n",
    "\n",
    "model.train()\n",
    "for epoch in range(100):\n",
    "    for batch in loader:\n",
    "        optimizer.zero_grad()\n",
    "        out = model(batch)[batch.train_mask].gather(1, torch.tensor([[0], [1]]))\n",
    "        target = batch.y[batch.train_mask].gather(1, torch.tensor([[0], [1]]))\n",
    "\n",
    "        loss = loss_function(target, out)\n",
    "        loss.backward()\n",
    "        optimizer.step()\n"
   ]
  },
  {
   "cell_type": "code",
   "execution_count": 570,
   "metadata": {},
   "outputs": [
    {
     "data": {
      "text/plain": [
       "(tensor([[-3.8341e-05,  1.2375e+01]], grad_fn=<IndexBackward0>),\n",
       " tensor([[-0.0428, 10.0007]], grad_fn=<IndexBackward0>))"
      ]
     },
     "execution_count": 570,
     "metadata": {},
     "output_type": "execute_result"
    }
   ],
   "source": [
    "model.eval()\n",
    "model(d)[d.train_mask], model(d2)[d2.train_mask]\n"
   ]
  },
  {
   "cell_type": "code",
   "execution_count": 544,
   "metadata": {},
   "outputs": [
    {
     "data": {
      "text/plain": [
       "tensor([[1., 2.],\n",
       "        [2., 3.],\n",
       "        [3., 4.],\n",
       "        [4., 5.],\n",
       "        [5., 6.],\n",
       "        [6., 7.]])"
      ]
     },
     "execution_count": 544,
     "metadata": {},
     "output_type": "execute_result"
    }
   ],
   "source": [
    "d2.x"
   ]
  },
  {
   "cell_type": "code",
   "execution_count": null,
   "metadata": {},
   "outputs": [],
   "source": []
  }
 ],
 "metadata": {
  "kernelspec": {
   "display_name": "venv",
   "language": "python",
   "name": "python3"
  },
  "language_info": {
   "codemirror_mode": {
    "name": "ipython",
    "version": 3
   },
   "file_extension": ".py",
   "mimetype": "text/x-python",
   "name": "python",
   "nbconvert_exporter": "python",
   "pygments_lexer": "ipython3",
   "version": "3.9.16"
  },
  "orig_nbformat": 4,
  "vscode": {
   "interpreter": {
    "hash": "5cc38324b67b59cc75c97b6e75f224448340294f41136959c09e7541df65d672"
   }
  }
 },
 "nbformat": 4,
 "nbformat_minor": 2
}
