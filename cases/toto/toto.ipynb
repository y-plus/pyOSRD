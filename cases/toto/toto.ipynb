{
 "cells": [
  {
   "cell_type": "code",
   "execution_count": 1,
   "metadata": {},
   "outputs": [],
   "source": [
    "%load_ext autoreload\n",
    "%autoreload 2"
   ]
  },
  {
   "cell_type": "code",
   "execution_count": 2,
   "metadata": {},
   "outputs": [],
   "source": [
    "from rlway.pyosrd import OSRD"
   ]
  },
  {
   "cell_type": "code",
   "execution_count": 3,
   "metadata": {},
   "outputs": [
    {
     "data": {
      "text/plain": [
       "['cvg_dvg', 'divergence', 'station_capacity2']"
      ]
     },
     "execution_count": 3,
     "metadata": {},
     "output_type": "execute_result"
    }
   ],
   "source": [
    "OSRD.use_cases"
   ]
  },
  {
   "cell_type": "code",
   "execution_count": 4,
   "metadata": {},
   "outputs": [
    {
     "name": "stdout",
     "output_type": "stream",
     "text": [
      "OSRD post_init\n"
     ]
    },
    {
     "name": "stdout",
     "output_type": "stream",
     "text": [
      "[16:31:31,113] \u001b[39m[DEBUG]\u001b[0;39m             [Allowance] computing range n°1\n",
      "[16:31:31,136] \u001b[39m[DEBUG]\u001b[0;39m             [Allowance]   computing section n°1\n",
      "[16:31:31,138] \u001b[39m[DEBUG]\u001b[0;39m             [Allowance]   target time = 471.66945\n",
      "[16:31:31,138] \u001b[39m[DEBUG]\u001b[0;39m             [Allowance]     starting attempt 1\n",
      "[16:31:31,154] \u001b[39m[DEBUG]\u001b[0;39m             [Allowance]     envelope time 809.252\n",
      "[16:31:31,155] \u001b[39m[DEBUG]\u001b[0;39m             [Allowance]     starting attempt 2\n",
      "[16:31:31,156] \u001b[39m[DEBUG]\u001b[0;39m             [Allowance]     envelope time 577.684\n",
      "[16:31:31,157] \u001b[39m[DEBUG]\u001b[0;39m             [Allowance]     starting attempt 3\n",
      "[16:31:31,160] \u001b[39m[DEBUG]\u001b[0;39m             [Allowance]     envelope time 505.361\n",
      "[16:31:31,161] \u001b[39m[DEBUG]\u001b[0;39m             [Allowance]     starting attempt 4\n",
      "[16:31:31,164] \u001b[39m[DEBUG]\u001b[0;39m             [Allowance]     envelope time 475.49\n",
      "[16:31:31,166] \u001b[39m[DEBUG]\u001b[0;39m             [Allowance]     starting attempt 5\n",
      "[16:31:31,168] \u001b[39m[DEBUG]\u001b[0;39m             [Allowance]     envelope time 462.012\n",
      "[16:31:31,169] \u001b[39m[DEBUG]\u001b[0;39m             [Allowance]     starting attempt 6\n",
      "[16:31:31,170] \u001b[39m[DEBUG]\u001b[0;39m             [Allowance]     envelope time 468.751\n",
      "[16:31:31,170] \u001b[39m[DEBUG]\u001b[0;39m             [Allowance]     starting attempt 7\n",
      "[16:31:31,171] \u001b[39m[DEBUG]\u001b[0;39m             [Allowance]     envelope time 472.119\n",
      "[16:31:31,191] \u001b[39m[DEBUG]\u001b[0;39m             [Allowance] computing range n°1\n",
      "[16:31:31,193] \u001b[39m[DEBUG]\u001b[0;39m             [Allowance]   computing section n°1\n",
      "[16:31:31,194] \u001b[39m[DEBUG]\u001b[0;39m             [Allowance]   target time = 471.66945\n",
      "[16:31:31,194] \u001b[39m[DEBUG]\u001b[0;39m             [Allowance]     starting attempt 1\n",
      "[16:31:31,195] \u001b[39m[DEBUG]\u001b[0;39m             [Allowance]     envelope time 809.252\n",
      "[16:31:31,196] \u001b[39m[DEBUG]\u001b[0;39m             [Allowance]     starting attempt 2\n",
      "[16:31:31,196] \u001b[39m[DEBUG]\u001b[0;39m             [Allowance]     envelope time 577.684\n",
      "[16:31:31,197] \u001b[39m[DEBUG]\u001b[0;39m             [Allowance]     starting attempt 3\n",
      "[16:31:31,197] \u001b[39m[DEBUG]\u001b[0;39m             [Allowance]     envelope time 505.361\n",
      "[16:31:31,198] \u001b[39m[DEBUG]\u001b[0;39m             [Allowance]     starting attempt 4\n",
      "[16:31:31,201] \u001b[39m[DEBUG]\u001b[0;39m             [Allowance]     envelope time 475.49\n",
      "[16:31:31,202] \u001b[39m[DEBUG]\u001b[0;39m             [Allowance]     starting attempt 5\n",
      "[16:31:31,203] \u001b[39m[DEBUG]\u001b[0;39m             [Allowance]     envelope time 462.012\n",
      "[16:31:31,204] \u001b[39m[DEBUG]\u001b[0;39m             [Allowance]     starting attempt 6\n",
      "[16:31:31,204] \u001b[39m[DEBUG]\u001b[0;39m             [Allowance]     envelope time 468.751\n",
      "[16:31:31,205] \u001b[39m[DEBUG]\u001b[0;39m             [Allowance]     starting attempt 7\n",
      "[16:31:31,206] \u001b[39m[DEBUG]\u001b[0;39m             [Allowance]     envelope time 472.119\n"
     ]
    }
   ],
   "source": [
    "sim = OSRD(use_case='divergence')"
   ]
  },
  {
   "cell_type": "code",
   "execution_count": 8,
   "metadata": {},
   "outputs": [
    {
     "data": {
      "text/plain": [
       "['rt.D0->buffer_stop.2',\n",
       " 'rt.D0->buffer_stop.1',\n",
       " 'rt.buffer_stop.0->D0',\n",
       " 'rt.D1->buffer_stop.0',\n",
       " 'rt.buffer_stop.1->D1',\n",
       " 'rt.D2->buffer_stop.0',\n",
       " 'rt.buffer_stop.2->D2']"
      ]
     },
     "execution_count": 8,
     "metadata": {},
     "output_type": "execute_result"
    }
   ],
   "source": [
    "sim.routes"
   ]
  },
  {
   "cell_type": "code",
   "execution_count": 55,
   "metadata": {},
   "outputs": [
    {
     "data": {
      "text/plain": [
       "{'rt.D0->buffer_stop.2': 'D0->D2',\n",
       " 'rt.D0->buffer_stop.1': 'D0->D1',\n",
       " 'rt.buffer_stop.0->D0': 'buffer_stop.0->D0',\n",
       " 'rt.D1->buffer_stop.0': 'D1->D0',\n",
       " 'rt.buffer_stop.1->D1': 'buffer_stop.1->D1',\n",
       " 'rt.D2->buffer_stop.0': 'D2->D0',\n",
       " 'rt.buffer_stop.2->D2': 'buffer_stop.2->D2'}"
      ]
     },
     "execution_count": 55,
     "metadata": {},
     "output_type": "execute_result"
    }
   ],
   "source": [
    "route_release_detectors = {}\n",
    "\n",
    "for route in sim.infra['routes']:\n",
    "    detector, output = route['id'].replace('rt.','').split('->')\n",
    "    if route['release_detectors']:\n",
    "        outputs = route['release_detectors']\n",
    "    else:\n",
    "        outputs = [output]\n",
    "    for output in outputs:\n",
    "        route_release_detectors[route['id']] = f\"{detector}->{output}\"\n",
    "\n",
    "# {\n",
    "#     route: '<->'.join(sorted(tvd.split('->')))\n",
    "#     for route, tvd in route_release_detectors.items()\n",
    "# }    \n",
    "\n",
    "route_release_detectors"
   ]
  },
  {
   "cell_type": "code",
   "execution_count": 64,
   "metadata": {},
   "outputs": [
    {
     "data": {
      "text/plain": [
       "{'rt.D0->buffer_stop.2': 'DVG',\n",
       " 'rt.D0->buffer_stop.1': 'DVG',\n",
       " 'rt.buffer_stop.0->D0': 'D0<->buffer_stop.0',\n",
       " 'rt.D1->buffer_stop.0': 'DVG',\n",
       " 'rt.buffer_stop.1->D1': 'D1<->buffer_stop.1',\n",
       " 'rt.D2->buffer_stop.0': 'DVG',\n",
       " 'rt.buffer_stop.2->D2': 'D2<->buffer_stop.2'}"
      ]
     },
     "execution_count": 64,
     "metadata": {},
     "output_type": "execute_result"
    }
   ],
   "source": [
    "{\n",
    "    route['id']: '<->'.join(sorted(route['id'].replace('rt.','').split('->')))\n",
    "    if not route['switches_directions'] else list( route['switches_directions'].keys())[0]\n",
    "    for route in sim.infra['routes']\n",
    "}\n",
    "    "
   ]
  },
  {
   "cell_type": "code",
   "execution_count": null,
   "metadata": {},
   "outputs": [],
   "source": []
  },
  {
   "cell_type": "code",
   "execution_count": 6,
   "metadata": {},
   "outputs": [
    {
     "data": {
      "text/plain": [
       "(0.0, 8.28087732145242)"
      ]
     },
     "execution_count": 6,
     "metadata": {},
     "output_type": "execute_result"
    },
    {
     "data": {
      "image/png": "[encoded data removed]",
      "text/plain": [
       "<Figure size 640x480 with 1 Axes>"
      ]
     },
     "metadata": {},
     "output_type": "display_data"
    }
   ],
   "source": [
    "import matplotlib.pyplot as plt\n",
    "\n",
    "sim.space_time_graph(1, types_to_show=['switch','detector','departure','arrival'])\n",
    "plt.axhline(0)\n",
    "plt.xlim(left=0)"
   ]
  },
  {
   "cell_type": "code",
   "execution_count": 7,
   "metadata": {},
   "outputs": [
    {
     "data": {
      "text/plain": [
       "[{'id': 'DEPARTURE',\n",
       "  'type': 'departure',\n",
       "  'path_offset': 0.0,\n",
       "  't_min': 0.0,\n",
       "  't': 0.0},\n",
       " {'id': 'S0',\n",
       "  'type': 'signal',\n",
       "  'path_offset': 9800.0,\n",
       "  't_min': 421.2103472703495,\n",
       "  't': 442.76044490007587},\n",
       " {'id': 'D0',\n",
       "  'type': 'detector',\n",
       "  'path_offset': 9820.0,\n",
       "  't_min': 422.6389186989209,\n",
       "  't': 444.2621053540149},\n",
       " {'id': 'DVG',\n",
       "  'type': 'switch',\n",
       "  'path_offset': 10000.0,\n",
       "  't_min': 450.2103472703495,\n",
       "  't': 473.19298979728114},\n",
       " {'id': 'D1',\n",
       "  'type': 'detector',\n",
       "  'path_offset': 10180.0,\n",
       "  't_min': 450.2103472703495,\n",
       "  't': 473.19298979728114},\n",
       " {'id': 'S1',\n",
       "  'type': 'signal',\n",
       "  'path_offset': 10200.0,\n",
       "  't_min': 450.2103472703495,\n",
       "  't': 473.19298979728114},\n",
       " {'id': 'ARRIVAL',\n",
       "  'type': 'arrival',\n",
       "  'path_offset': 19900.0,\n",
       "  't_min': 450.2103472703495,\n",
       "  't': 473.19298979728114}]"
      ]
     },
     "execution_count": 7,
     "metadata": {},
     "output_type": "execute_result"
    }
   ],
   "source": [
    "sim.points_encountered_by_train(0)"
   ]
  },
  {
   "cell_type": "code",
   "execution_count": null,
   "metadata": {},
   "outputs": [],
   "source": []
  }
 ],
 "metadata": {
  "kernelspec": {
   "display_name": "venv",
   "language": "python",
   "name": "python3"
  },
  "language_info": {
   "codemirror_mode": {
    "name": "ipython",
    "version": 3
   },
   "file_extension": ".py",
   "mimetype": "text/x-python",
   "name": "python",
   "nbconvert_exporter": "python",
   "pygments_lexer": "ipython3",
   "version": "3.9.16"
  },
  "orig_nbformat": 4
 },
 "nbformat": 4,
 "nbformat_minor": 2
}
