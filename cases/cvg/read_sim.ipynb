{
  "cells": [
    {
      "cell_type": "code",
      "execution_count": 21,
      "metadata": {},
      "outputs": [
        {
          "name": "stdout",
          "output_type": "stream",
          "text": [
            "The autoreload extension is already loaded. To reload it, use:\n",
            "  %reload_ext autoreload\n"
          ]
        }
      ],
      "source": [
        "%load_ext autoreload\n",
        "%autoreload 2"
      ]
    },
    {
      "cell_type": "code",
      "execution_count": 22,
      "metadata": {},
      "outputs": [],
      "source": [
        "import rlway.osrd.infra as infr"
      ]
    },
    {
      "cell_type": "code",
      "execution_count": 23,
      "metadata": {},
      "outputs": [],
      "source": [
        "infra, sim, res = infr.read_jsons_in_dir('.')"
      ]
    },
    {
      "cell_type": "code",
      "execution_count": 24,
      "metadata": {},
      "outputs": [],
      "source": [
        "from rlway.schedules import Schedule\n",
        "from rlway.schedule_from_osrd import schedule_from_simulation"
      ]
    },
    {
      "cell_type": "code",
      "execution_count": 25,
      "metadata": {},
      "outputs": [],
      "source": [
        "s = schedule_from_simulation(infra, res, simplify_route_names=False)\n",
        "# s.draw_graph()"
      ]
    },
    {
      "cell_type": "code",
      "execution_count": 26,
      "metadata": {},
      "outputs": [
        {
          "data": {
            "text/plain": [
              "{'rt.DA1->DA_out': 'CVG', 'rt.DA2->DA_out': 'CVG'}"
            ]
          },
          "execution_count": 26,
          "metadata": {},
          "output_type": "execute_result"
        }
      ],
      "source": [
        "routes_switches = {\n",
        "    route['id']: list(route['switches_directions'].keys())[0]\n",
        "    for route in infra['routes']\n",
        "    if len(list(route['switches_directions'].keys())) != 0\n",
        "}\n",
        "routes_switches"
      ]
    },
    {
      "cell_type": "code",
      "execution_count": 27,
      "metadata": {},
      "outputs": [
        {
          "data": {
            "text/plain": [
              "                               0         \n",
              "                               s        e\n",
              "CVG                       24.946   32.122\n",
              "rt.buffer_stop.0->DA1        0.0   26.352\n",
              "rt.buffer_stop.1->DA2        NaN      NaN\n",
              "rt.DA_out->DB_in          30.975  554.183\n",
              "rt.DB_in->buffer_stop.2  553.308  592.366"
            ]
          },
          "execution_count": 27,
          "metadata": {},
          "output_type": "execute_result"
        }
      ],
      "source": [
        "s"
      ]
    },
    {
      "cell_type": "code",
      "execution_count": 28,
      "metadata": {},
      "outputs": [
        {
          "data": {
            "text/html": [
              "<img src=\"https://mermaid.ink/img/Z3JhcGggTFI7REExLS0+REFfb3V0O2J1ZmZlcl9zdG9wLjAtLT5EQTE7REEyLS0+REFfb3V0O2J1ZmZlcl9zdG9wLjEtLT5EQTI7REFfb3V0LS0+REJfaW47REJfaW4tLT5idWZmZXJfc3RvcC4y\"/>"
            ],
            "text/plain": [
              "<IPython.core.display.Image object>"
            ]
          },
          "metadata": {},
          "output_type": "display_data"
        }
      ],
      "source": [
        "infr.draw_infra(infra)"
      ]
    },
    {
      "cell_type": "code",
      "execution_count": 29,
      "metadata": {},
      "outputs": [
        {
          "data": {
            "text/html": [
              "<img src=\"https://mermaid.ink/img/Z3JhcGggTFI7REExLS0+REFfb3V0O2J1ZmZlcl9zdG9wLjAtLT5EQTE7REEyLS0+REFfb3V0O2J1ZmZlcl9zdG9wLjEtLT5EQTI7REFfb3V0LS0+REJfaW47REJfaW4tLT5idWZmZXJfc3RvcC4y\"/>"
            ],
            "text/plain": [
              "<IPython.core.display.Image object>"
            ]
          },
          "metadata": {},
          "output_type": "display_data"
        }
      ],
      "source": [
        "infr.draw_infra(infra, remove_bufferstop_to_bufferstop=False)"
      ]
    },
    {
      "cell_type": "code",
      "execution_count": 30,
      "metadata": {},
      "outputs": [
        {
          "data": {
            "text/plain": [
              "<Axes: xlabel='Time', ylabel='Track sections'>"
            ]
          },
          "execution_count": 30,
          "metadata": {},
          "output_type": "execute_result"
        },
        {
          "data": {
            "image/png": "[encoded data removed]",
            "text/plain": [
              "<Figure size 640x480 with 1 Axes>"
            ]
          },
          "metadata": {},
          "output_type": "display_data"
        }
      ],
      "source": [
        "s.sort().plot()"
      ]
    },
    {
      "cell_type": "code",
      "execution_count": null,
      "metadata": {},
      "outputs": [],
      "source": []
    }
  ],
  "metadata": {
    "kernelspec": {
      "display_name": "venv",
      "language": "python",
      "name": "python3"
    },
    "language_info": {
      "codemirror_mode": {
        "name": "ipython",
        "version": 3
      },
      "file_extension": ".py",
      "mimetype": "text/x-python",
      "name": "python",
      "nbconvert_exporter": "python",
      "pygments_lexer": "ipython3",
      "version": "3.9.16"
    },
    "orig_nbformat": 4
  },
  "nbformat": 4,
  "nbformat_minor": 2
}
