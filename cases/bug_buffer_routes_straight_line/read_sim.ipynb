{
  "cells": [
    {
      "cell_type": "code",
      "execution_count": 88,
      "metadata": {},
      "outputs": [
        {
          "name": "stdout",
          "output_type": "stream",
          "text": [
            "The autoreload extension is already loaded. To reload it, use:\n",
            "  %reload_ext autoreload\n"
          ]
        }
      ],
      "source": [
        "%load_ext autoreload\n",
        "%autoreload 2"
      ]
    },
    {
      "cell_type": "code",
      "execution_count": 89,
      "metadata": {},
      "outputs": [],
      "source": [
        "import rlway.osrd.infra as infr"
      ]
    },
    {
      "cell_type": "code",
      "execution_count": 90,
      "metadata": {},
      "outputs": [],
      "source": [
        "infra, sim, res = infr.read_jsons_in_dir('.')"
      ]
    },
    {
      "cell_type": "code",
      "execution_count": 91,
      "metadata": {},
      "outputs": [],
      "source": [
        "from rlway.schedules import Schedule, schedule_from_simulation"
      ]
    },
    {
      "cell_type": "code",
      "execution_count": 92,
      "metadata": {},
      "outputs": [
        {
          "name": "stdout",
          "output_type": "stream",
          "text": [
            "['rt.DA1->DA_out', 'rt.buffer_stop.0->DA1', 'rt.DA2->DA_out', 'rt.buffer_stop.1->DA2', 'rt.DA_out->DB_in', 'rt.DB_in->DB2', 'rt.DB_in->DB1', 'rt.DB1->buffer_stop.2', 'rt.DB2->buffer_stop.3']\n"
          ]
        }
      ],
      "source": [
        "s = schedule_from_simulation(infra, res, simplify_route_names=False)\n",
        "# s.draw_graph()"
      ]
    },
    {
      "cell_type": "code",
      "execution_count": 93,
      "metadata": {},
      "outputs": [
        {
          "data": {
            "text/plain": [
              "{'rt.DA1->DA_out': 'CVG',\n",
              " 'rt.DA2->DA_out': 'CVG',\n",
              " 'rt.DB_in->DB2': 'DVG',\n",
              " 'rt.DB_in->DB1': 'DVG',\n",
              " 'rt.buffer_stop.2->buffer_stop.1': 'DVG',\n",
              " 'rt.buffer_stop.2->buffer_stop.0': 'DVG',\n",
              " 'rt.buffer_stop.3->buffer_stop.1': 'DVG',\n",
              " 'rt.buffer_stop.3->buffer_stop.0': 'DVG'}"
            ]
          },
          "execution_count": 93,
          "metadata": {},
          "output_type": "execute_result"
        }
      ],
      "source": [
        "routes_switches = {\n",
        "    route['id']: list(route['switches_directions'].keys())[0]\n",
        "    for route in infra['routes']\n",
        "    if len(list(route['switches_directions'].keys())) != 0\n",
        "}\n",
        "routes_switches"
      ]
    },
    {
      "cell_type": "code",
      "execution_count": 94,
      "metadata": {},
      "outputs": [
        {
          "data": {
            "text/plain": [
              "                             0                 1         \n",
              "                             s        e        s        e\n",
              "CVG                     24.993   54.183   24.993   54.183\n",
              "rt.buffer_stop.0->DA1      0.0   50.829      NaN      NaN\n",
              "rt.buffer_stop.1->DA2      NaN      NaN      0.0   50.829\n",
              "rt.DA_out->DB_in        31.034  328.595   31.034  328.595\n",
              "DVG                    289.464  328.595  289.464  328.595\n",
              "rt.DB1->buffer_stop.2  293.105  328.595      NaN      NaN\n",
              "rt.DB2->buffer_stop.3      NaN      NaN  293.105  328.595"
            ]
          },
          "execution_count": 94,
          "metadata": {},
          "output_type": "execute_result"
        }
      ],
      "source": [
        "s"
      ]
    },
    {
      "cell_type": "code",
      "execution_count": 95,
      "metadata": {},
      "outputs": [
        {
          "data": {
            "text/html": [
              "<img src=\"https://mermaid.ink/img/Z3JhcGggTFI7REExLS0+REFfb3V0O2J1ZmZlcl9zdG9wLjAtLT5EQTE7REEyLS0+REFfb3V0O2J1ZmZlcl9zdG9wLjEtLT5EQTI7REFfb3V0LS0+REJfaW47REJfaW4tLT5EQjI7REJfaW4tLT5EQjE7REIxLS0+YnVmZmVyX3N0b3AuMjtEQjItLT5idWZmZXJfc3RvcC4z\"/>"
            ],
            "text/plain": [
              "<IPython.core.display.Image object>"
            ]
          },
          "metadata": {},
          "output_type": "display_data"
        }
      ],
      "source": [
        "infr.draw_infra(infra)"
      ]
    },
    {
      "cell_type": "code",
      "execution_count": 99,
      "metadata": {},
      "outputs": [
        {
          "data": {
            "text/html": [
              "<img src=\"https://mermaid.ink/img/Z3JhcGggTFI7REExLS0+REFfb3V0O2J1ZmZlcl9zdG9wLjAtLT5EQTE7REEyLS0+REFfb3V0O2J1ZmZlcl9zdG9wLjEtLT5EQTI7REFfb3V0LS0+REJfaW47REJfaW4tLT5EQjI7REJfaW4tLT5EQjE7REIxLS0+YnVmZmVyX3N0b3AuMjtidWZmZXJfc3RvcC4yLS0+YnVmZmVyX3N0b3AuMTtidWZmZXJfc3RvcC4yLS0+YnVmZmVyX3N0b3AuMDtEQjItLT5idWZmZXJfc3RvcC4zO2J1ZmZlcl9zdG9wLjMtLT5idWZmZXJfc3RvcC4xO2J1ZmZlcl9zdG9wLjMtLT5idWZmZXJfc3RvcC4w\"/>"
            ],
            "text/plain": [
              "<IPython.core.display.Image object>"
            ]
          },
          "metadata": {},
          "output_type": "display_data"
        }
      ],
      "source": [
        "infr.draw_infra(infra, remove_bufferstop_to_bufferstop=False)"
      ]
    },
    {
      "cell_type": "code",
      "execution_count": 98,
      "metadata": {},
      "outputs": [
        {
          "data": {
            "image/png": "[encoded data removed]",
            "text/plain": [
              "<Figure size 640x480 with 1 Axes>"
            ]
          },
          "metadata": {},
          "output_type": "display_data"
        }
      ],
      "source": [
        "s.sort().plot()"
      ]
    },
    {
      "cell_type": "code",
      "execution_count": null,
      "metadata": {},
      "outputs": [],
      "source": []
    }
  ],
  "metadata": {
    "kernelspec": {
      "display_name": "venv",
      "language": "python",
      "name": "python3"
    },
    "language_info": {
      "codemirror_mode": {
        "name": "ipython",
        "version": 3
      },
      "file_extension": ".py",
      "mimetype": "text/x-python",
      "name": "python",
      "nbconvert_exporter": "python",
      "pygments_lexer": "ipython3",
      "version": "3.9.16"
    },
    "orig_nbformat": 4
  },
  "nbformat": 4,
  "nbformat_minor": 2
}
