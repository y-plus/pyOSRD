{
 "cells": [
  {
   "cell_type": "code",
   "execution_count": 1,
   "metadata": {},
   "outputs": [],
   "source": [
    "%load_ext autoreload\n",
    "%autoreload 2"
   ]
  },
  {
   "cell_type": "code",
   "execution_count": 2,
   "metadata": {},
   "outputs": [],
   "source": [
    "from rlway.pyosrd import OSRD"
   ]
  },
  {
   "cell_type": "code",
   "execution_count": 3,
   "metadata": {},
   "outputs": [
    {
     "data": {
      "text/plain": [
       "['cvg_dvg', 'divergence', 'station_capacity2']"
      ]
     },
     "execution_count": 3,
     "metadata": {},
     "output_type": "execute_result"
    }
   ],
   "source": [
    "OSRD.use_cases"
   ]
  },
  {
   "cell_type": "code",
   "execution_count": 4,
   "metadata": {},
   "outputs": [
    {
     "name": "stdout",
     "output_type": "stream",
     "text": [
      "OSRD post_init\n",
      "[07:42:30,941] \u001b[39m[DEBUG]\u001b[0;39m             [Allowance] computing range n°1\n",
      "[07:42:30,963] \u001b[39m[DEBUG]\u001b[0;39m             [Allowance]   computing section n°1\n",
      "[07:42:30,965] \u001b[39m[DEBUG]\u001b[0;39m             [Allowance]   target time = 471.66945\n",
      "[07:42:30,968] \u001b[39m[DEBUG]\u001b[0;39m             [Allowance]     starting attempt 1\n",
      "[07:42:30,981] \u001b[39m[DEBUG]\u001b[0;39m             [Allowance]     envelope time 809.252\n",
      "[07:42:30,981] \u001b[39m[DEBUG]\u001b[0;39m             [Allowance]     starting attempt 2\n",
      "[07:42:30,982] \u001b[39m[DEBUG]\u001b[0;39m             [Allowance]     envelope time 577.684\n",
      "[07:42:30,984] \u001b[39m[DEBUG]\u001b[0;39m             [Allowance]     starting attempt 3\n",
      "[07:42:30,986] \u001b[39m[DEBUG]\u001b[0;39m             [Allowance]     envelope time 505.361\n",
      "[07:42:30,987] \u001b[39m[DEBUG]\u001b[0;39m             [Allowance]     starting attempt 4\n",
      "[07:42:30,988] \u001b[39m[DEBUG]\u001b[0;39m             [Allowance]     envelope time 475.49\n",
      "[07:42:30,988] \u001b[39m[DEBUG]\u001b[0;39m             [Allowance]     starting attempt 5\n",
      "[07:42:30,989] \u001b[39m[DEBUG]\u001b[0;39m             [Allowance]     envelope time 462.012\n",
      "[07:42:30,990] \u001b[39m[DEBUG]\u001b[0;39m             [Allowance]     starting attempt 6\n",
      "[07:42:30,991] \u001b[39m[DEBUG]\u001b[0;39m             [Allowance]     envelope time 468.751\n",
      "[07:42:30,991] \u001b[39m[DEBUG]\u001b[0;39m             [Allowance]     starting attempt 7\n",
      "[07:42:30,992] \u001b[39m[DEBUG]\u001b[0;39m             [Allowance]     envelope time 472.119\n",
      "[07:42:31,024] \u001b[39m[DEBUG]\u001b[0;39m             [Allowance] computing range n°1\n",
      "[07:42:31,026] \u001b[39m[DEBUG]\u001b[0;39m             [Allowance]   computing section n°1\n",
      "[07:42:31,027] \u001b[39m[DEBUG]\u001b[0;39m             [Allowance]   target time = 471.66945\n",
      "[07:42:31,027] \u001b[39m[DEBUG]\u001b[0;39m             [Allowance]     starting attempt 1\n",
      "[07:42:31,028] \u001b[39m[DEBUG]\u001b[0;39m             [Allowance]     envelope time 809.252\n",
      "[07:42:31,028] \u001b[39m[DEBUG]\u001b[0;39m             [Allowance]     starting attempt 2\n",
      "[07:42:31,029] \u001b[39m[DEBUG]\u001b[0;39m             [Allowance]     envelope time 577.684\n",
      "[07:42:31,030] \u001b[39m[DEBUG]\u001b[0;39m             [Allowance]     starting attempt 3\n",
      "[07:42:31,034] \u001b[39m[DEBUG]\u001b[0;39m             [Allowance]     envelope time 505.361\n",
      "[07:42:31,035] \u001b[39m[DEBUG]\u001b[0;39m             [Allowance]     starting attempt 4\n",
      "[07:42:31,037] \u001b[39m[DEBUG]\u001b[0;39m             [Allowance]     envelope time 475.49\n",
      "[07:42:31,038] \u001b[39m[DEBUG]\u001b[0;39m             [Allowance]     starting attempt 5\n",
      "[07:42:31,039] \u001b[39m[DEBUG]\u001b[0;39m             [Allowance]     envelope time 462.012\n",
      "[07:42:31,040] \u001b[39m[DEBUG]\u001b[0;39m             [Allowance]     starting attempt 6\n",
      "[07:42:31,040] \u001b[39m[DEBUG]\u001b[0;39m             [Allowance]     envelope time 468.751\n",
      "[07:42:31,041] \u001b[39m[DEBUG]\u001b[0;39m             [Allowance]     starting attempt 7\n",
      "[07:42:31,041] \u001b[39m[DEBUG]\u001b[0;39m             [Allowance]     envelope time 472.119\n"
     ]
    }
   ],
   "source": [
    "sim = OSRD(use_case='divergence')"
   ]
  },
  {
   "cell_type": "code",
   "execution_count": 7,
   "metadata": {},
   "outputs": [
    {
     "data": {
      "text/plain": [
       "[{'id': 'START', 'type': 'start', 'offset': 9950.0, 't_min': 0.0, 't': 0.0},\n",
       " {'id': 'DVG', 'type': 'switch', 'offset': 0, 't_min': 0.0, 't': 0.0},\n",
       " {'id': 'D2', 'type': 'detector', 'offset': 180.0, 't_min': 0.0, 't': 0.0},\n",
       " {'id': 'S2', 'type': 'signal', 'offset': 200.0, 't_min': 0.0, 't': 0.0},\n",
       " {'id': 'S0',\n",
       "  'type': 'signal',\n",
       "  'offset': 19800.0,\n",
       "  't_min': 450.2103472703495,\n",
       "  't': 473.19298979728114},\n",
       " {'id': 'D0',\n",
       "  'type': 'detector',\n",
       "  'offset': 19820.0,\n",
       "  't_min': 450.2103472703495,\n",
       "  't': 473.19298979728114},\n",
       " {'id': 'DVG',\n",
       "  'type': 'switch',\n",
       "  'offset': 20000.0,\n",
       "  't_min': 450.2103472703495,\n",
       "  't': 473.19298979728114},\n",
       " {'id': 'END',\n",
       "  'type': 'end',\n",
       "  'offset': 19900.0,\n",
       "  't_min': 450.2103472703495,\n",
       "  't': 473.19298979728114}]"
      ]
     },
     "execution_count": 7,
     "metadata": {},
     "output_type": "execute_result"
    }
   ],
   "source": [
    "sim.points_encountered_by_train(1)"
   ]
  },
  {
   "cell_type": "code",
   "execution_count": 5,
   "metadata": {},
   "outputs": [
    {
     "data": {
      "text/plain": [
       "(['T0', 'T1'], ['T2', 'T0'])"
      ]
     },
     "execution_count": 5,
     "metadata": {},
     "output_type": "execute_result"
    }
   ],
   "source": [
    "sim.train_track_sections(0), sim.train_track_sections(1)"
   ]
  },
  {
   "cell_type": "code",
   "execution_count": 9,
   "metadata": {},
   "outputs": [
    {
     "data": {
      "text/plain": [
       "{'T0': 10000.0, 'T1': 10000.0, 'T2': 10000.0}"
      ]
     },
     "execution_count": 9,
     "metadata": {},
     "output_type": "execute_result"
    }
   ],
   "source": [
    "sim.track_section_lengths"
   ]
  },
  {
   "cell_type": "code",
   "execution_count": 15,
   "metadata": {},
   "outputs": [
    {
     "data": {
      "text/plain": [
       "[{'id': 'link.0',\n",
       "  'src': {'endpoint': 'END', 'track': 'T0'},\n",
       "  'dst': {'endpoint': 'BEGIN', 'track': 'T1'}},\n",
       " {'id': 'link.1',\n",
       "  'src': {'endpoint': 'END', 'track': 'T0'},\n",
       "  'dst': {'endpoint': 'BEGIN', 'track': 'T2'}}]"
      ]
     },
     "execution_count": 15,
     "metadata": {},
     "output_type": "execute_result"
    }
   ],
   "source": [
    "sim.infra['track_section_links']"
   ]
  },
  {
   "cell_type": "code",
   "execution_count": 54,
   "metadata": {},
   "outputs": [],
   "source": [
    "track_is_linked_to_track_by = {\n",
    "        track_id: {}\n",
    "        for track_id in sim.track_section_lengths\n",
    "}\n",
    "\n",
    "for link in sim.infra['track_section_links']:\n",
    "        track_is_linked_to_track_by[link['src']['track']][link['dst']['track']] =\\\n",
    "              link['src']['endpoint']\n",
    "        track_is_linked_to_track_by[link['dst']['track']][link['src']['track']] =\\\n",
    "              link['dst']['endpoint']"
   ]
  },
  {
   "cell_type": "code",
   "execution_count": 55,
   "metadata": {},
   "outputs": [
    {
     "data": {
      "text/plain": [
       "{'T0': {'T1': 'END', 'T2': 'END'},\n",
       " 'T1': {'T0': 'BEGIN'},\n",
       " 'T2': {'T0': 'BEGIN'}}"
      ]
     },
     "execution_count": 55,
     "metadata": {},
     "output_type": "execute_result"
    }
   ],
   "source": [
    "track_is_linked_to_track_by"
   ]
  },
  {
   "cell_type": "code",
   "execution_count": 62,
   "metadata": {},
   "outputs": [
    {
     "name": "stdout",
     "output_type": "stream",
     "text": [
      "T2 STOP_TO_START\n",
      "T0 STOP_TO_START\n"
     ]
    }
   ],
   "source": [
    "# consider first track or unique track\n",
    "\n",
    "tracks = sim.train_track_sections(train=1)\n",
    "\n",
    "DIRECTION_FROM_ENTRY = {\n",
    "    'BEGIN': 'START_TO_STOP',\n",
    "    'END': 'STOP_TO_START',\n",
    "}\n",
    "if len(tracks) >0 :\n",
    "    for i, t in enumerate(tracks):\n",
    "        if i == 0:\n",
    "            linked_to_next = track_is_linked_to_track_by[tracks[0]][tracks[i+1]]\n",
    "            entry = 'BEGIN' if linked_to_next=='END' else 'END'\n",
    "        if i > 0:\n",
    "            entry = track_is_linked_to_track_by[t][tracks[i-1]]\n",
    "        print(t, DIRECTION_FROM_ENTRY[entry])"
   ]
  },
  {
   "cell_type": "code",
   "execution_count": 60,
   "metadata": {},
   "outputs": [
    {
     "data": {
      "text/plain": [
       "['c', 'b', 'a']"
      ]
     },
     "execution_count": 60,
     "metadata": {},
     "output_type": "execute_result"
    }
   ],
   "source": [
    "list=['a', 'b', 'c']\n",
    "direction = 1\n",
    "list[::-direction]"
   ]
  },
  {
   "cell_type": "code",
   "execution_count": null,
   "metadata": {},
   "outputs": [],
   "source": []
  }
 ],
 "metadata": {
  "kernelspec": {
   "display_name": "venv",
   "language": "python",
   "name": "python3"
  },
  "language_info": {
   "codemirror_mode": {
    "name": "ipython",
    "version": 3
   },
   "file_extension": ".py",
   "mimetype": "text/x-python",
   "name": "python",
   "nbconvert_exporter": "python",
   "pygments_lexer": "ipython3",
   "version": "3.9.16"
  },
  "orig_nbformat": 4
 },
 "nbformat": 4,
 "nbformat_minor": 2
}
