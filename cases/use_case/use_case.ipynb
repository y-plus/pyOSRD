{
 "cells": [
  {
   "cell_type": "code",
   "execution_count": 1,
   "metadata": {},
   "outputs": [],
   "source": [
    "%load_ext autoreload\n",
    "%autoreload 2"
   ]
  },
  {
   "cell_type": "code",
   "execution_count": 2,
   "metadata": {},
   "outputs": [],
   "source": [
    "from rlway.pyosrd import OSRD"
   ]
  },
  {
   "cell_type": "code",
   "execution_count": 3,
   "metadata": {},
   "outputs": [
    {
     "data": {
      "text/plain": [
       "['cvg_dvg', 'divergence', 'station_capacity2']"
      ]
     },
     "execution_count": 3,
     "metadata": {},
     "output_type": "execute_result"
    }
   ],
   "source": [
    "OSRD.use_cases"
   ]
  },
  {
   "cell_type": "code",
   "execution_count": 13,
   "metadata": {},
   "outputs": [
    {
     "name": "stdout",
     "output_type": "stream",
     "text": [
      "simulation:  Train schedule creation: couldn't find a path\n",
      "[15:30:28,958] \u001b[39m[DEBUG]\u001b[0;39m          [BlockBuilder] unterminated block at end of route rt.D0->D2\n",
      "[15:30:28,970] \u001b[39m[DEBUG]\u001b[0;39m          [BlockBuilder] unterminated block at end of route rt.D0->D1\n",
      "[15:30:28,973] \u001b[39m[DEBUG]\u001b[0;39m          [BlockBuilder] no signal at non buffer stop\n",
      "[15:30:28,974] \u001b[39m[DEBUG]\u001b[0;39m          [BlockBuilder] no signal at non buffer stop\n",
      "[15:30:28,974] \u001b[39m[DEBUG]\u001b[0;39m          [BlockBuilder] no signal at non buffer stop\n",
      "[15:30:28,975] \u001b[39m[DEBUG]\u001b[0;39m          [BlockBuilder] no signal at non buffer stop\n",
      "[15:30:28,976] \u001b[39m[DEBUG]\u001b[0;39m          [BlockBuilder] unterminated block at end of route rt.D5->D4\n",
      "[15:30:28,976] \u001b[39m[DEBUG]\u001b[0;39m          [BlockBuilder] unterminated block at end of route rt.D5->D3\n"
     ]
    },
    {
     "name": "stderr",
     "output_type": "stream",
     "text": [
      "Exception in thread \"main\" fr.sncf.osrd.railjson.parser.exceptions.InvalidSchedule: Cannot invoke \"fr.sncf.osrd.infra.api.signaling.SignalingRoute.getInfraRoute()\" because \"signalingRoute\" is null\n",
      "\tat fr.sncf.osrd.infra_state.implementation.TrainPathBuilder.from(TrainPathBuilder.java:32)\n",
      "\tat fr.sncf.osrd.cli.StandaloneSimulationCommand.run(StandaloneSimulationCommand.java:121)\n",
      "\tat fr.sncf.osrd.App.main(App.java:44)\n"
     ]
    }
   ],
   "source": [
    "sim = OSRD(use_case='station_capacity2')"
   ]
  },
  {
   "cell_type": "code",
   "execution_count": 6,
   "metadata": {},
   "outputs": [
    {
     "data": {
      "text/plain": [
       "[{'track': 'T0', 'position': 0.0, 'id': 'buffer_stop.0'},\n",
       " {'track': 'T5', 'position': 1000.0, 'id': 'buffer_stop.5'}]"
      ]
     },
     "execution_count": 6,
     "metadata": {},
     "output_type": "execute_result"
    }
   ],
   "source": [
    "sim.infra['buffer_stops']"
   ]
  },
  {
   "cell_type": "code",
   "execution_count": 7,
   "metadata": {},
   "outputs": [
    {
     "data": {
      "text/plain": [
       "[{'id': 'link.6',\n",
       "  'src': {'endpoint': 'END', 'track': 'T0'},\n",
       "  'dst': {'endpoint': 'BEGIN', 'track': 'T1'}},\n",
       " {'id': 'link.7',\n",
       "  'src': {'endpoint': 'END', 'track': 'T0'},\n",
       "  'dst': {'endpoint': 'BEGIN', 'track': 'T2'}},\n",
       " {'id': 'link.8',\n",
       "  'src': {'endpoint': 'END', 'track': 'T1'},\n",
       "  'dst': {'endpoint': 'BEGIN', 'track': 'T3'}},\n",
       " {'id': 'link.9',\n",
       "  'src': {'endpoint': 'END', 'track': 'T2'},\n",
       "  'dst': {'endpoint': 'BEGIN', 'track': 'T4'}},\n",
       " {'id': 'link.10',\n",
       "  'src': {'endpoint': 'BEGIN', 'track': 'T5'},\n",
       "  'dst': {'endpoint': 'END', 'track': 'T3'}},\n",
       " {'id': 'link.11',\n",
       "  'src': {'endpoint': 'BEGIN', 'track': 'T5'},\n",
       "  'dst': {'endpoint': 'END', 'track': 'T4'}}]"
      ]
     },
     "execution_count": 7,
     "metadata": {},
     "output_type": "execute_result"
    }
   ],
   "source": [
    "sim.infra['track_section_links']"
   ]
  },
  {
   "cell_type": "code",
   "execution_count": 14,
   "metadata": {},
   "outputs": [
    {
     "data": {
      "text/plain": [
       "['rt.D0->D2',\n",
       " 'rt.D0->D1',\n",
       " 'rt.buffer_stop.0->D0',\n",
       " 'rt.D1->buffer_stop.0',\n",
       " 'rt.D2->buffer_stop.0',\n",
       " 'rt.D3->buffer_stop.5',\n",
       " 'rt.D4->buffer_stop.5',\n",
       " 'rt.D5->D4',\n",
       " 'rt.D5->D3',\n",
       " 'rt.buffer_stop.5->D5']"
      ]
     },
     "execution_count": 14,
     "metadata": {},
     "output_type": "execute_result"
    }
   ],
   "source": [
    "sim.routes"
   ]
  },
  {
   "cell_type": "code",
   "execution_count": null,
   "metadata": {},
   "outputs": [],
   "source": [
    "sim.routes"
   ]
  },
  {
   "cell_type": "code",
   "execution_count": null,
   "metadata": {},
   "outputs": [],
   "source": [
    "sim.points_encountered_by_train(0)"
   ]
  },
  {
   "cell_type": "code",
   "execution_count": null,
   "metadata": {},
   "outputs": [],
   "source": []
  }
 ],
 "metadata": {
  "kernelspec": {
   "display_name": "venv",
   "language": "python",
   "name": "python3"
  },
  "language_info": {
   "codemirror_mode": {
    "name": "ipython",
    "version": 3
   },
   "file_extension": ".py",
   "mimetype": "text/x-python",
   "name": "python",
   "nbconvert_exporter": "python",
   "pygments_lexer": "ipython3",
   "version": "3.9.16"
  },
  "orig_nbformat": 4
 },
 "nbformat": 4,
 "nbformat_minor": 2
}
